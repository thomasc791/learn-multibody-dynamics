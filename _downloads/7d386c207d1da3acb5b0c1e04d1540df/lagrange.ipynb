{
 "cells": [
  {
   "cell_type": "code",
   "execution_count": 1,
   "id": "b7c396cc",
   "metadata": {
    "execution": {
     "iopub.execute_input": "2024-02-20T15:55:51.295843Z",
     "iopub.status.busy": "2024-02-20T15:55:51.295655Z",
     "iopub.status.idle": "2024-02-20T15:55:51.693730Z",
     "shell.execute_reply": "2024-02-20T15:55:51.693065Z"
    }
   },
   "outputs": [],
   "source": [
    "import sympy as sm\n",
    "import sympy.physics.mechanics as me\n",
    "me.init_vprinting(use_latex='mathjax')"
   ]
  },
  {
   "cell_type": "code",
   "execution_count": 2,
   "id": "34801e77",
   "metadata": {
    "execution": {
     "iopub.execute_input": "2024-02-20T15:55:51.696400Z",
     "iopub.status.busy": "2024-02-20T15:55:51.696107Z",
     "iopub.status.idle": "2024-02-20T15:55:51.700238Z",
     "shell.execute_reply": "2024-02-20T15:55:51.699731Z"
    }
   },
   "outputs": [],
   "source": [
    "class ReferenceFrame(me.ReferenceFrame):\n",
    "\n",
    "    def __init__(self, *args, **kwargs):\n",
    "\n",
    "        kwargs.pop('latexs', None)\n",
    "\n",
    "        lab = args[0].lower()\n",
    "        tex = r'\\hat{{{}}}_{}'\n",
    "\n",
    "        super(ReferenceFrame, self).__init__(*args,\n",
    "                                             latexs=(tex.format(lab, 'x'),\n",
    "                                                     tex.format(lab, 'y'),\n",
    "                                                     tex.format(lab, 'z')),\n",
    "                                             **kwargs)\n",
    "me.ReferenceFrame = ReferenceFrame"
   ]
  },
  {
   "cell_type": "code",
   "execution_count": 3,
   "id": "b8f3c4c6",
   "metadata": {
    "execution": {
     "iopub.execute_input": "2024-02-20T15:55:51.702462Z",
     "iopub.status.busy": "2024-02-20T15:55:51.702110Z",
     "iopub.status.idle": "2024-02-20T15:55:52.119155Z",
     "shell.execute_reply": "2024-02-20T15:55:52.118254Z"
    }
   },
   "outputs": [
    {
     "data": {
      "text/latex": [
       "$\\displaystyle \\left[\\begin{matrix}\\psi\\\\\\theta\\\\\\phi\\\\x\\\\y\\\\z\\end{matrix}\\right]$"
      ],
      "text/plain": [
       "⎡ψ⎤\n",
       "⎢ ⎥\n",
       "⎢θ⎥\n",
       "⎢ ⎥\n",
       "⎢φ⎥\n",
       "⎢ ⎥\n",
       "⎢x⎥\n",
       "⎢ ⎥\n",
       "⎢y⎥\n",
       "⎢ ⎥\n",
       "⎣z⎦"
      ]
     },
     "execution_count": 3,
     "metadata": {},
     "output_type": "execute_result"
    }
   ],
   "source": [
    "t = me.dynamicsymbols._t\n",
    "psi,theta, phi, x, y, z = me.dynamicsymbols('psi theta phi x y z')\n",
    "q = sm.Matrix([psi, theta, phi, x, y, z])\n",
    "qd = q.diff(t)\n",
    "qdd = qd.diff(t)\n",
    "N = me.ReferenceFrame('N')\n",
    "B = me.ReferenceFrame('B')\n",
    "B.orient_body_fixed(N, (psi, theta, phi), 'zxy')\n",
    "m, Ixx, Iyy, Izz = sm.symbols('M, I_{xx}, I_{yy}, I_{zz}')\n",
    "I_B = me.inertia(B, Ixx, Iyy, Izz)\n",
    "q"
   ]
  },
  {
   "cell_type": "code",
   "execution_count": 4,
   "id": "aaed29a6",
   "metadata": {
    "execution": {
     "iopub.execute_input": "2024-02-20T15:55:52.122308Z",
     "iopub.status.busy": "2024-02-20T15:55:52.121747Z",
     "iopub.status.idle": "2024-02-20T15:55:52.153130Z",
     "shell.execute_reply": "2024-02-20T15:55:52.152587Z"
    }
   },
   "outputs": [
    {
     "data": {
      "text/latex": [
       "$\\displaystyle \\frac{I_{xx} \\left(- \\sin{\\left(\\phi \\right)} \\cos{\\left(\\theta \\right)} \\dot{\\psi} + \\cos{\\left(\\phi \\right)} \\dot{\\theta}\\right)^{2}}{2} + \\frac{I_{yy} \\left(\\sin{\\left(\\theta \\right)} \\dot{\\psi} + \\dot{\\phi}\\right)^{2}}{2} + \\frac{I_{zz} \\left(\\sin{\\left(\\phi \\right)} \\dot{\\theta} + \\cos{\\left(\\phi \\right)} \\cos{\\left(\\theta \\right)} \\dot{\\psi}\\right)^{2}}{2} + \\frac{M \\left(\\dot{x}^{2} + \\dot{y}^{2} + \\dot{z}^{2}\\right)}{2}$"
      ],
      "text/plain": [
       "                                    2                        2                \n",
       "I_{xx}⋅(-sin(φ)⋅cos(θ)⋅ψ̇ + cos(φ)⋅θ̇)    I_{yy}⋅(sin(θ)⋅ψ̇ + φ̇)    I_{zz}⋅(s\n",
       "───────────────────────────────────── + ────────────────────── + ─────────────\n",
       "                  2                               2                           \n",
       "\n",
       "                      2     ⎛ 2    2    2⎞\n",
       "in(φ)⋅θ̇ + cos(φ)⋅cos(θ)⋅ψ̇)    M⋅⎝ẋ  + ẏ  + ż ⎠\n",
       "─────────────────────── + ────────────────\n",
       "    2                            2        "
      ]
     },
     "execution_count": 4,
     "metadata": {},
     "output_type": "execute_result"
    }
   ],
   "source": [
    "N_w_B = B.ang_vel_in(N)\n",
    "r_O_P = x*N.x + y*N.y + z*N.z\n",
    "N_v_C = r_O_P.dt(N)\n",
    "K = N_w_B.dot(I_B.dot(N_w_B))/2 + m*N_v_C.dot(N_v_C)/2\n",
    "K"
   ]
  },
  {
   "cell_type": "code",
   "execution_count": 5,
   "id": "2f903ae6",
   "metadata": {
    "execution": {
     "iopub.execute_input": "2024-02-20T15:55:52.155290Z",
     "iopub.status.busy": "2024-02-20T15:55:52.155084Z",
     "iopub.status.idle": "2024-02-20T15:55:52.233419Z",
     "shell.execute_reply": "2024-02-20T15:55:52.232525Z"
    }
   },
   "outputs": [],
   "source": [
    "psid = psi.diff(t)\n",
    "F_psi_s = K.diff(psid).diff(t) - K.diff(psi)"
   ]
  },
  {
   "cell_type": "code",
   "execution_count": 6,
   "id": "eda9275c",
   "metadata": {
    "execution": {
     "iopub.execute_input": "2024-02-20T15:55:52.237403Z",
     "iopub.status.busy": "2024-02-20T15:55:52.236790Z",
     "iopub.status.idle": "2024-02-20T15:55:52.482032Z",
     "shell.execute_reply": "2024-02-20T15:55:52.481332Z"
    }
   },
   "outputs": [
    {
     "data": {
      "text/latex": [
       "$\\displaystyle \\left[\\begin{matrix}I_{xx} \\left(- \\sin{\\left(\\phi \\right)} \\cos{\\left(\\theta \\right)} \\dot{\\psi} + \\cos{\\left(\\phi \\right)} \\dot{\\theta}\\right) \\sin{\\left(\\phi \\right)} \\sin{\\left(\\theta \\right)} \\dot{\\theta} - I_{xx} \\left(- \\sin{\\left(\\phi \\right)} \\cos{\\left(\\theta \\right)} \\dot{\\psi} + \\cos{\\left(\\phi \\right)} \\dot{\\theta}\\right) \\cos{\\left(\\phi \\right)} \\cos{\\left(\\theta \\right)} \\dot{\\phi} - I_{xx} \\left(\\sin{\\left(\\phi \\right)} \\sin{\\left(\\theta \\right)} \\dot{\\psi} \\dot{\\theta} - \\sin{\\left(\\phi \\right)} \\cos{\\left(\\theta \\right)} \\ddot{\\psi} - \\sin{\\left(\\phi \\right)} \\dot{\\phi} \\dot{\\theta} - \\cos{\\left(\\phi \\right)} \\cos{\\left(\\theta \\right)} \\dot{\\phi} \\dot{\\psi} + \\cos{\\left(\\phi \\right)} \\ddot{\\theta}\\right) \\sin{\\left(\\phi \\right)} \\cos{\\left(\\theta \\right)} + I_{yy} \\left(\\sin{\\left(\\theta \\right)} \\dot{\\psi} + \\dot{\\phi}\\right) \\cos{\\left(\\theta \\right)} \\dot{\\theta} + I_{yy} \\left(\\sin{\\left(\\theta \\right)} \\ddot{\\psi} + \\cos{\\left(\\theta \\right)} \\dot{\\psi} \\dot{\\theta} + \\ddot{\\phi}\\right) \\sin{\\left(\\theta \\right)} - I_{zz} \\left(\\sin{\\left(\\phi \\right)} \\dot{\\theta} + \\cos{\\left(\\phi \\right)} \\cos{\\left(\\theta \\right)} \\dot{\\psi}\\right) \\sin{\\left(\\phi \\right)} \\cos{\\left(\\theta \\right)} \\dot{\\phi} - I_{zz} \\left(\\sin{\\left(\\phi \\right)} \\dot{\\theta} + \\cos{\\left(\\phi \\right)} \\cos{\\left(\\theta \\right)} \\dot{\\psi}\\right) \\sin{\\left(\\theta \\right)} \\cos{\\left(\\phi \\right)} \\dot{\\theta} + I_{zz} \\left(- \\sin{\\left(\\phi \\right)} \\cos{\\left(\\theta \\right)} \\dot{\\phi} \\dot{\\psi} + \\sin{\\left(\\phi \\right)} \\ddot{\\theta} - \\sin{\\left(\\theta \\right)} \\cos{\\left(\\phi \\right)} \\dot{\\psi} \\dot{\\theta} + \\cos{\\left(\\phi \\right)} \\cos{\\left(\\theta \\right)} \\ddot{\\psi} + \\cos{\\left(\\phi \\right)} \\dot{\\phi} \\dot{\\theta}\\right) \\cos{\\left(\\phi \\right)} \\cos{\\left(\\theta \\right)}\\\\- I_{xx} \\left(- \\sin{\\left(\\phi \\right)} \\cos{\\left(\\theta \\right)} \\dot{\\psi} + \\cos{\\left(\\phi \\right)} \\dot{\\theta}\\right) \\sin{\\left(\\phi \\right)} \\sin{\\left(\\theta \\right)} \\dot{\\psi} - I_{xx} \\left(- \\sin{\\left(\\phi \\right)} \\cos{\\left(\\theta \\right)} \\dot{\\psi} + \\cos{\\left(\\phi \\right)} \\dot{\\theta}\\right) \\sin{\\left(\\phi \\right)} \\dot{\\phi} + I_{xx} \\left(\\sin{\\left(\\phi \\right)} \\sin{\\left(\\theta \\right)} \\dot{\\psi} \\dot{\\theta} - \\sin{\\left(\\phi \\right)} \\cos{\\left(\\theta \\right)} \\ddot{\\psi} - \\sin{\\left(\\phi \\right)} \\dot{\\phi} \\dot{\\theta} - \\cos{\\left(\\phi \\right)} \\cos{\\left(\\theta \\right)} \\dot{\\phi} \\dot{\\psi} + \\cos{\\left(\\phi \\right)} \\ddot{\\theta}\\right) \\cos{\\left(\\phi \\right)} - I_{yy} \\left(\\sin{\\left(\\theta \\right)} \\dot{\\psi} + \\dot{\\phi}\\right) \\cos{\\left(\\theta \\right)} \\dot{\\psi} + I_{zz} \\left(\\sin{\\left(\\phi \\right)} \\dot{\\theta} + \\cos{\\left(\\phi \\right)} \\cos{\\left(\\theta \\right)} \\dot{\\psi}\\right) \\sin{\\left(\\theta \\right)} \\cos{\\left(\\phi \\right)} \\dot{\\psi} + I_{zz} \\left(\\sin{\\left(\\phi \\right)} \\dot{\\theta} + \\cos{\\left(\\phi \\right)} \\cos{\\left(\\theta \\right)} \\dot{\\psi}\\right) \\cos{\\left(\\phi \\right)} \\dot{\\phi} + I_{zz} \\left(- \\sin{\\left(\\phi \\right)} \\cos{\\left(\\theta \\right)} \\dot{\\phi} \\dot{\\psi} + \\sin{\\left(\\phi \\right)} \\ddot{\\theta} - \\sin{\\left(\\theta \\right)} \\cos{\\left(\\phi \\right)} \\dot{\\psi} \\dot{\\theta} + \\cos{\\left(\\phi \\right)} \\cos{\\left(\\theta \\right)} \\ddot{\\psi} + \\cos{\\left(\\phi \\right)} \\dot{\\phi} \\dot{\\theta}\\right) \\sin{\\left(\\phi \\right)}\\\\- \\frac{I_{xx} \\left(- 2 \\sin{\\left(\\phi \\right)} \\dot{\\theta} - 2 \\cos{\\left(\\phi \\right)} \\cos{\\left(\\theta \\right)} \\dot{\\psi}\\right) \\left(- \\sin{\\left(\\phi \\right)} \\cos{\\left(\\theta \\right)} \\dot{\\psi} + \\cos{\\left(\\phi \\right)} \\dot{\\theta}\\right)}{2} + \\frac{I_{yy} \\left(2 \\sin{\\left(\\theta \\right)} \\ddot{\\psi} + 2 \\cos{\\left(\\theta \\right)} \\dot{\\psi} \\dot{\\theta} + 2 \\ddot{\\phi}\\right)}{2} - \\frac{I_{zz} \\left(\\sin{\\left(\\phi \\right)} \\dot{\\theta} + \\cos{\\left(\\phi \\right)} \\cos{\\left(\\theta \\right)} \\dot{\\psi}\\right) \\left(- 2 \\sin{\\left(\\phi \\right)} \\cos{\\left(\\theta \\right)} \\dot{\\psi} + 2 \\cos{\\left(\\phi \\right)} \\dot{\\theta}\\right)}{2}\\\\M \\ddot{x}\\\\M \\ddot{y}\\\\M \\ddot{z}\\end{matrix}\\right]$"
      ],
      "text/plain": [
       "⎡I_{xx}⋅(-sin(φ)⋅cos(θ)⋅ψ̇ + cos(φ)⋅θ̇)⋅sin(φ)⋅sin(θ)⋅θ̇ - I_{xx}⋅(-sin(φ)⋅cos\n",
       "⎢                                                                             \n",
       "⎢                                   -I_{xx}⋅(-sin(φ)⋅cos(θ)⋅ψ̇ + cos(φ)⋅θ̇)⋅si\n",
       "⎢                                                                             \n",
       "⎢                                                                             \n",
       "⎢                                                                             \n",
       "⎢                                                                             \n",
       "⎢                                                                             \n",
       "⎢                                                                             \n",
       "⎢                                                                             \n",
       "⎢                                                                             \n",
       "⎢                                                                             \n",
       "⎣                                                                             \n",
       "\n",
       "(θ)⋅ψ̇ + cos(φ)⋅θ̇)⋅cos(φ)⋅cos(θ)⋅φ̇ - I_{xx}⋅(sin(φ)⋅sin(θ)⋅ψ̇⋅θ̇ - sin(φ)⋅co\n",
       "                                                                              \n",
       "n(φ)⋅sin(θ)⋅ψ̇ - I_{xx}⋅(-sin(φ)⋅cos(θ)⋅ψ̇ + cos(φ)⋅θ̇)⋅sin(φ)⋅φ̇ + I_{xx}⋅(si\n",
       "                                                                              \n",
       "                                                                              \n",
       "                                                                              \n",
       "                                                                              \n",
       "                                                                              \n",
       "                                                                              \n",
       "                                                                              \n",
       "                                                                              \n",
       "                                                                              \n",
       "                                                                              \n",
       "\n",
       "s(θ)⋅ψ̈ - sin(φ)⋅φ̇⋅θ̇ - cos(φ)⋅cos(θ)⋅φ̇⋅ψ̇ + cos(φ)⋅θ̈)⋅sin(φ)⋅cos(θ) + I_{y\n",
       "                                                                              \n",
       "n(φ)⋅sin(θ)⋅ψ̇⋅θ̇ - sin(φ)⋅cos(θ)⋅ψ̈ - sin(φ)⋅φ̇⋅θ̇ - cos(φ)⋅cos(θ)⋅φ̇⋅ψ̇ + co\n",
       "                                                                              \n",
       "     I_{xx}⋅(-2⋅sin(φ)⋅θ̇ - 2⋅cos(φ)⋅cos(θ)⋅ψ̇)⋅(-sin(φ)⋅cos(θ)⋅ψ̇ + cos(φ)⋅θ̇\n",
       "   - ────────────────────────────────────────────────────────────────────── + \n",
       "                                       2                                      \n",
       "                                                                              \n",
       "                                                                              \n",
       "                                                                              \n",
       "                                                                              \n",
       "                                                                              \n",
       "                                                                              \n",
       "\n",
       "y}⋅(sin(θ)⋅ψ̇ + φ̇)⋅cos(θ)⋅θ̇ + I_{yy}⋅(sin(θ)⋅ψ̈ + cos(θ)⋅ψ̇⋅θ̇ + φ̈)⋅sin(θ) \n",
       "                                                                              \n",
       "s(φ)⋅θ̈)⋅cos(φ) - I_{yy}⋅(sin(θ)⋅ψ̇ + φ̇)⋅cos(θ)⋅ψ̇ + I_{zz}⋅(sin(φ)⋅θ̇ + cos(\n",
       "                                                                              \n",
       ")   I_{yy}⋅(2⋅sin(θ)⋅ψ̈ + 2⋅cos(θ)⋅ψ̇⋅θ̇ + 2⋅φ̈)   I_{zz}⋅(sin(φ)⋅θ̇ + cos(φ)⋅\n",
       "──────────────────────────────────────── - ───────────────────────────────────\n",
       "                   2                                                         2\n",
       "                                                                              \n",
       "                 M⋅ẍ                                                         \n",
       "                                                                              \n",
       "                 M⋅ÿ                                                         \n",
       "                                                                              \n",
       "                 M⋅z̈                                                         \n",
       "\n",
       "- I_{zz}⋅(sin(φ)⋅θ̇ + cos(φ)⋅cos(θ)⋅ψ̇)⋅sin(φ)⋅cos(θ)⋅φ̇ - I_{zz}⋅(sin(φ)⋅θ̇ +\n",
       "                                                                              \n",
       "φ)⋅cos(θ)⋅ψ̇)⋅sin(θ)⋅cos(φ)⋅ψ̇ + I_{zz}⋅(sin(φ)⋅θ̇ + cos(φ)⋅cos(θ)⋅ψ̇)⋅cos(φ)⋅\n",
       "                                                                              \n",
       "cos(θ)⋅ψ̇)⋅(-2⋅sin(φ)⋅cos(θ)⋅ψ̇ + 2⋅cos(φ)⋅θ̇)                                \n",
       "──────────────────────────────────                                            \n",
       "                                                                              \n",
       "                                                                              \n",
       "                                                                              \n",
       "                                                                              \n",
       "                                                                              \n",
       "                                                                              \n",
       "                                                                              \n",
       "\n",
       " cos(φ)⋅cos(θ)⋅ψ̇)⋅sin(θ)⋅cos(φ)⋅θ̇ + I_{zz}⋅(-sin(φ)⋅cos(θ)⋅φ̇⋅ψ̇ + sin(φ)⋅θ̈\n",
       "                                                                              \n",
       "φ̇ + I_{zz}⋅(-sin(φ)⋅cos(θ)⋅φ̇⋅ψ̇ + sin(φ)⋅θ̈ - sin(θ)⋅cos(φ)⋅ψ̇⋅θ̇ + cos(φ)⋅c\n",
       "                                                                              \n",
       "                                                                              \n",
       "                                                                              \n",
       "                                                                              \n",
       "                                                                              \n",
       "                                                                              \n",
       "                                                                              \n",
       "                                                                              \n",
       "                                                                              \n",
       "                                                                              \n",
       "\n",
       " - sin(θ)⋅cos(φ)⋅ψ̇⋅θ̇ + cos(φ)⋅cos(θ)⋅ψ̈ + cos(φ)⋅φ̇⋅θ̇)⋅cos(φ)⋅cos(θ)⎤\n",
       "                                    ⎥\n",
       "os(θ)⋅ψ̈ + cos(φ)⋅φ̇⋅θ̇)⋅sin(φ)                                    ⎥\n",
       "                                    ⎥\n",
       "                                                ⎥\n",
       "                                    ⎥\n",
       "                                    ⎥\n",
       "                                    ⎥\n",
       "                                     ⎥\n",
       "                                    ⎥\n",
       "                                     ⎥\n",
       "                                    ⎥\n",
       "                                     ⎦"
      ]
     },
     "execution_count": 6,
     "metadata": {},
     "output_type": "execute_result"
    }
   ],
   "source": [
    "K_as_matrix = sm.Matrix([K])\n",
    "Fs_transposed = K_as_matrix.jacobian(qd).diff(t) - K_as_matrix.jacobian(q)\n",
    "Fs = Fs_transposed.transpose()\n",
    "Fs"
   ]
  },
  {
   "cell_type": "code",
   "execution_count": 7,
   "id": "597a85f1",
   "metadata": {
    "execution": {
     "iopub.execute_input": "2024-02-20T15:55:52.484511Z",
     "iopub.status.busy": "2024-02-20T15:55:52.484049Z",
     "iopub.status.idle": "2024-02-20T15:55:57.209019Z",
     "shell.execute_reply": "2024-02-20T15:55:57.208380Z"
    }
   },
   "outputs": [
    {
     "data": {
      "text/latex": [
       "$\\displaystyle \\left( \\left[\\begin{matrix}I_{xx} \\sin^{2}{\\left(\\phi \\right)} \\cos^{2}{\\left(\\theta \\right)} + I_{yy} \\sin^{2}{\\left(\\theta \\right)} + I_{zz} \\cos^{2}{\\left(\\phi \\right)} \\cos^{2}{\\left(\\theta \\right)} & \\frac{\\left(- I_{xx} + I_{zz}\\right) \\left(\\sin{\\left(2 \\phi - \\theta \\right)} + \\sin{\\left(2 \\phi + \\theta \\right)}\\right)}{4} & I_{yy} \\sin{\\left(\\theta \\right)} & 0 & 0 & 0\\\\\\frac{\\left(- I_{xx} + I_{zz}\\right) \\left(\\sin{\\left(2 \\phi - \\theta \\right)} + \\sin{\\left(2 \\phi + \\theta \\right)}\\right)}{4} & I_{xx} \\cos^{2}{\\left(\\phi \\right)} + I_{zz} \\sin^{2}{\\left(\\phi \\right)} & 0 & 0 & 0 & 0\\\\I_{yy} \\sin{\\left(\\theta \\right)} & 0 & I_{yy} & 0 & 0 & 0\\\\0 & 0 & 0 & M & 0 & 0\\\\0 & 0 & 0 & 0 & M & 0\\\\0 & 0 & 0 & 0 & 0 & M\\end{matrix}\\right], \\  \\left[\\begin{matrix}\\frac{I_{xx} \\sin{\\left(2 \\phi - 2 \\theta \\right)} \\dot{\\phi} \\dot{\\psi}}{4} - \\frac{I_{xx} \\sin{\\left(2 \\phi - 2 \\theta \\right)} \\dot{\\psi} \\dot{\\theta}}{4} + \\frac{I_{xx} \\sin{\\left(2 \\phi + 2 \\theta \\right)} \\dot{\\phi} \\dot{\\psi}}{4} + \\frac{I_{xx} \\sin{\\left(2 \\phi + 2 \\theta \\right)} \\dot{\\psi} \\dot{\\theta}}{4} + \\frac{I_{xx} \\sin{\\left(2 \\phi \\right)} \\dot{\\phi} \\dot{\\psi}}{2} - \\frac{I_{xx} \\sin{\\left(2 \\theta \\right)} \\dot{\\psi} \\dot{\\theta}}{2} - \\frac{I_{xx} \\cos{\\left(2 \\phi - \\theta \\right)} \\dot{\\phi} \\dot{\\theta}}{2} + \\frac{I_{xx} \\cos{\\left(2 \\phi - \\theta \\right)} \\dot{\\theta}^{2}}{4} - \\frac{I_{xx} \\cos{\\left(2 \\phi + \\theta \\right)} \\dot{\\phi} \\dot{\\theta}}{2} - \\frac{I_{xx} \\cos{\\left(2 \\phi + \\theta \\right)} \\dot{\\theta}^{2}}{4} + I_{yy} \\sin{\\left(2 \\theta \\right)} \\dot{\\psi} \\dot{\\theta} + I_{yy} \\cos{\\left(\\theta \\right)} \\dot{\\phi} \\dot{\\theta} - \\frac{I_{zz} \\sin{\\left(2 \\phi - 2 \\theta \\right)} \\dot{\\phi} \\dot{\\psi}}{4} + \\frac{I_{zz} \\sin{\\left(2 \\phi - 2 \\theta \\right)} \\dot{\\psi} \\dot{\\theta}}{4} - \\frac{I_{zz} \\sin{\\left(2 \\phi + 2 \\theta \\right)} \\dot{\\phi} \\dot{\\psi}}{4} - \\frac{I_{zz} \\sin{\\left(2 \\phi + 2 \\theta \\right)} \\dot{\\psi} \\dot{\\theta}}{4} - \\frac{I_{zz} \\sin{\\left(2 \\phi \\right)} \\dot{\\phi} \\dot{\\psi}}{2} - \\frac{I_{zz} \\sin{\\left(2 \\theta \\right)} \\dot{\\psi} \\dot{\\theta}}{2} + \\frac{I_{zz} \\cos{\\left(2 \\phi - \\theta \\right)} \\dot{\\phi} \\dot{\\theta}}{2} - \\frac{I_{zz} \\cos{\\left(2 \\phi - \\theta \\right)} \\dot{\\theta}^{2}}{4} + \\frac{I_{zz} \\cos{\\left(2 \\phi + \\theta \\right)} \\dot{\\phi} \\dot{\\theta}}{2} + \\frac{I_{zz} \\cos{\\left(2 \\phi + \\theta \\right)} \\dot{\\theta}^{2}}{4}\\\\\\frac{I_{xx} \\sin{\\left(2 \\phi - 2 \\theta \\right)} \\dot{\\psi}^{2}}{8} - \\frac{I_{xx} \\sin{\\left(2 \\phi + 2 \\theta \\right)} \\dot{\\psi}^{2}}{8} - I_{xx} \\sin{\\left(2 \\phi \\right)} \\dot{\\phi} \\dot{\\theta} + \\frac{I_{xx} \\sin{\\left(2 \\theta \\right)} \\dot{\\psi}^{2}}{4} - \\frac{I_{xx} \\cos{\\left(2 \\phi - \\theta \\right)} \\dot{\\phi} \\dot{\\psi}}{2} - \\frac{I_{xx} \\cos{\\left(2 \\phi + \\theta \\right)} \\dot{\\phi} \\dot{\\psi}}{2} - \\frac{I_{yy} \\sin{\\left(2 \\theta \\right)} \\dot{\\psi}^{2}}{2} - I_{yy} \\cos{\\left(\\theta \\right)} \\dot{\\phi} \\dot{\\psi} - \\frac{I_{zz} \\sin{\\left(2 \\phi - 2 \\theta \\right)} \\dot{\\psi}^{2}}{8} + \\frac{I_{zz} \\sin{\\left(2 \\phi + 2 \\theta \\right)} \\dot{\\psi}^{2}}{8} + I_{zz} \\sin{\\left(2 \\phi \\right)} \\dot{\\phi} \\dot{\\theta} + \\frac{I_{zz} \\sin{\\left(2 \\theta \\right)} \\dot{\\psi}^{2}}{4} + \\frac{I_{zz} \\cos{\\left(2 \\phi - \\theta \\right)} \\dot{\\phi} \\dot{\\psi}}{2} + \\frac{I_{zz} \\cos{\\left(2 \\phi + \\theta \\right)} \\dot{\\phi} \\dot{\\psi}}{2}\\\\- I_{xx} \\left(\\sin{\\left(\\phi \\right)} \\dot{\\theta} + \\cos{\\left(\\phi \\right)} \\cos{\\left(\\theta \\right)} \\dot{\\psi}\\right) \\left(\\sin{\\left(\\phi \\right)} \\cos{\\left(\\theta \\right)} \\dot{\\psi} - \\cos{\\left(\\phi \\right)} \\dot{\\theta}\\right) + I_{yy} \\cos{\\left(\\theta \\right)} \\dot{\\psi} \\dot{\\theta} + I_{zz} \\left(\\sin{\\left(\\phi \\right)} \\dot{\\theta} + \\cos{\\left(\\phi \\right)} \\cos{\\left(\\theta \\right)} \\dot{\\psi}\\right) \\left(\\sin{\\left(\\phi \\right)} \\cos{\\left(\\theta \\right)} \\dot{\\psi} - \\cos{\\left(\\phi \\right)} \\dot{\\theta}\\right)\\\\0\\\\0\\\\0\\end{matrix}\\right]\\right)$"
      ],
      "text/plain": [
       "⎛                                                                             \n",
       "⎜⎡          2       2                2                2       2     (-I_{xx} +\n",
       "⎜⎢I_{xx}⋅sin (φ)⋅cos (θ) + I_{yy}⋅sin (θ) + I_{zz}⋅cos (φ)⋅cos (θ)  ──────────\n",
       "⎜⎢                                                                            \n",
       "⎜⎢                                                                            \n",
       "⎜⎢        (-I_{xx} + I_{zz})⋅(sin(2⋅φ - θ) + sin(2⋅φ + θ))                    \n",
       "⎜⎢        ────────────────────────────────────────────────                  I_\n",
       "⎜⎢                               4                                            \n",
       "⎜⎢                                                                            \n",
       "⎜⎢                         I_{yy}⋅sin(θ)                                      \n",
       "⎜⎢                                                                            \n",
       "⎜⎢                               0                                            \n",
       "⎜⎢                                                                            \n",
       "⎜⎢                               0                                            \n",
       "⎜⎢                                                                            \n",
       "⎜⎣                               0                                            \n",
       "⎝                                                                             \n",
       "\n",
       "                                                                 ⎡            \n",
       " I_{zz})⋅(sin(2⋅φ - θ) + sin(2⋅φ + θ))                        ⎤  ⎢I_{xx}⋅sin(2\n",
       "──────────────────────────────────────  I_{yy}⋅sin(θ)  0  0  0⎥  ⎢────────────\n",
       "             4                                                ⎥  ⎢            \n",
       "                                                              ⎥  ⎢            \n",
       "        2                2                                    ⎥  ⎢            \n",
       "{xx}⋅cos (φ) + I_{zz}⋅sin (φ)                 0        0  0  0⎥  ⎢            \n",
       "                                                              ⎥  ⎢            \n",
       "                                                              ⎥, ⎢            \n",
       "             0                             I_{yy}      0  0  0⎥  ⎢            \n",
       "                                                              ⎥  ⎢            \n",
       "             0                                0        M  0  0⎥  ⎢            \n",
       "                                                              ⎥  ⎢            \n",
       "             0                                0        0  M  0⎥  ⎢            \n",
       "                                                              ⎥  ⎢            \n",
       "             0                                0        0  0  M⎦  ⎢            \n",
       "                                                                 ⎣            \n",
       "\n",
       "                                                                              \n",
       "⋅φ - 2⋅θ)⋅φ̇⋅ψ̇   I_{xx}⋅sin(2⋅φ - 2⋅θ)⋅ψ̇⋅θ̇   I_{xx}⋅sin(2⋅φ + 2⋅θ)⋅φ̇⋅ψ̇   \n",
       "───────────── - ───────────────────────── + ───────────────────────── + ──────\n",
       "4                           4                           4                     \n",
       "                                                                              \n",
       "                                                                              \n",
       "                                                                              \n",
       "                                                                              \n",
       "                                                                              \n",
       "                                                                              \n",
       "                                                                              \n",
       "                                                                              \n",
       "                                                                              \n",
       "                                                                              \n",
       "                                                                              \n",
       "                                                                              \n",
       "                                                                              \n",
       "\n",
       "                                                                              \n",
       "I_{xx}⋅sin(2⋅φ + 2⋅θ)⋅ψ̇⋅θ̇   I_{xx}⋅sin(2⋅φ)⋅φ̇⋅ψ̇   I_{xx}⋅sin(2⋅θ)⋅ψ̇⋅θ̇   \n",
       "─────────────────── + ─────────────────── - ─────────────────── - ────────────\n",
       "      4                        2                     2                       2\n",
       "                                                                              \n",
       "                                          2                          2        \n",
       "                   I_{xx}⋅sin(2⋅φ - 2⋅θ)⋅ψ̇    I_{xx}⋅sin(2⋅φ + 2⋅θ)⋅ψ̇       \n",
       "                   ──────────────────────── - ──────────────────────── - I_{xx\n",
       "                              8                          8                    \n",
       "                                                                              \n",
       "                                                                              \n",
       "                                                                              \n",
       "                                                                              \n",
       "                                                                              \n",
       "                                                                              \n",
       "                                                                              \n",
       "                                                                              \n",
       "\n",
       "                                   2                                          \n",
       "I_{xx}⋅cos(2⋅φ - θ)⋅φ̇⋅θ̇   I_{xx}⋅cos(2⋅φ - θ)⋅θ̇    I_{xx}⋅cos(2⋅φ + θ)⋅φ̇⋅θ\n",
       "─────────── + ────────────────────── - ─────────────────────── - ─────────────\n",
       "                        4                         2                        4  \n",
       "                                                                              \n",
       "                                  2                                           \n",
       "                   I_{xx}⋅sin(2⋅θ)⋅ψ̇    I_{xx}⋅cos(2⋅φ - θ)⋅φ̇⋅ψ̇   I_{xx}⋅co\n",
       "}⋅sin(2⋅φ)⋅φ̇⋅θ̇ + ────────────────── - ─────────────────────── - ────────────\n",
       "                         4                       2                         2  \n",
       "                                                                              \n",
       "                                 -I_{xx}⋅(sin(φ)⋅θ̇ + cos(φ)⋅cos(θ)⋅ψ̇)⋅(sin(φ\n",
       "                                                                              \n",
       "                                                                              \n",
       "                                                                              \n",
       "                                                                              \n",
       "                                                                              \n",
       "                                                                              \n",
       "\n",
       "        2                                                                     \n",
       "̇   I_{xx}⋅cos(2⋅φ + θ)⋅θ̇                                              I_{zz}\n",
       "───────── + I_{yy}⋅sin(2⋅θ)⋅ψ̇⋅θ̇ + I_{yy}⋅cos(θ)⋅φ̇⋅θ̇ - ────────────────────\n",
       "                                                                  4           \n",
       "                                                                              \n",
       "                             2                                              2 \n",
       "s(2⋅φ + θ)⋅φ̇⋅ψ̇   I_{yy}⋅sin(2⋅θ)⋅ψ̇                        I_{zz}⋅sin(2⋅φ - \n",
       "─────────── - ────────────────── - I_{yy}⋅cos(θ)⋅φ̇⋅ψ̇ - ─────────────────────\n",
       "                    2                                           8             \n",
       "                                                                              \n",
       ")⋅cos(θ)⋅ψ̇ - cos(φ)⋅θ̇) + I_{yy}⋅cos(θ)⋅ψ̇⋅θ̇ + I_{zz}⋅(sin(φ)⋅θ̇ + cos(φ)⋅co\n",
       "                                                                              \n",
       "                               0                                              \n",
       "                                                                              \n",
       "                               0                                              \n",
       "                                                                              \n",
       "                               0                                              \n",
       "\n",
       "                                                                              \n",
       "⋅sin(2⋅φ - 2⋅θ)⋅φ̇⋅ψ̇   I_{zz}⋅sin(2⋅φ - 2⋅θ)⋅ψ̇⋅θ̇   I_{zz}⋅sin(2⋅φ + 2⋅θ)⋅φ̇\n",
       "───── + ───────────────────────── - ───────────────────────── - ──────────────\n",
       "                4                           4                           4     \n",
       "                                                                              \n",
       "                         2                                          2         \n",
       "2⋅θ)⋅ψ̇    I_{zz}⋅sin(2⋅φ + 2⋅θ)⋅ψ̇                          I_{zz}⋅sin(2⋅θ)⋅ψ\n",
       "─── + ──────────────────────── + I_{zz}⋅sin(2⋅φ)⋅φ̇⋅θ̇ + ────────────────── + \n",
       "             8                                             4                  \n",
       "                                                                              \n",
       "s(θ)⋅ψ̇)⋅(sin(φ)⋅cos(θ)⋅ψ̇ - cos(φ)⋅θ̇)                                       \n",
       "                                                                              \n",
       "                                                                              \n",
       "                                                                              \n",
       "                                                                              \n",
       "                                                                              \n",
       "                                                                              \n",
       "\n",
       "                                                                              \n",
       "⋅ψ̇   I_{zz}⋅sin(2⋅φ + 2⋅θ)⋅ψ̇⋅θ̇   I_{zz}⋅sin(2⋅φ)⋅φ̇⋅ψ̇   I_{zz}⋅sin(2⋅θ)⋅ψ̇\n",
       "─────────── - ─────────────────── - ─────────────────── + ────────────────────\n",
       "                   2                     2                       2            \n",
       "                                                                              \n",
       "                                                                              \n",
       "̇    I_{zz}⋅cos(2⋅φ - θ)⋅φ̇⋅ψ̇   I_{zz}⋅cos(2⋅φ + θ)⋅φ̇⋅ψ̇                    \n",
       "─────────────────────── + ───────────────────────                             \n",
       "     2                         2                                              \n",
       "                                                                              \n",
       "                                                                              \n",
       "                                                                              \n",
       "                                                                              \n",
       "                                                                              \n",
       "                                                                              \n",
       "                                                                              \n",
       "                                                                              \n",
       "\n",
       "                       2                                                  2⎤⎞\n",
       "⋅θ̇   I_{zz}⋅cos(2⋅φ - θ)⋅φ̇⋅θ̇   I_{zz}⋅cos(2⋅φ - θ)⋅θ̇    I_{zz}⋅cos(2⋅φ + θ\n",
       "─── - ────────────────────── + ─────────────────────── + ─────────────────────\n",
       "            4                         2                        4           ⎥⎟\n",
       "                                                                           ⎥⎟\n",
       "                                                                           ⎥⎟\n",
       "                                                                              \n",
       "                                                                              \n",
       "                                                                           ⎥⎟\n",
       "                                                                           ⎥⎟\n",
       "                                                                              \n",
       "                                                                           ⎥⎟\n",
       "                                                                           ⎥⎟\n",
       "                                                                           ⎥⎟\n",
       "                                                                           ⎥⎟\n",
       "                                                                           ⎥⎟\n",
       "                                                                           ⎦⎠"
      ]
     },
     "execution_count": 7,
     "metadata": {},
     "output_type": "execute_result"
    }
   ],
   "source": [
    "qdd_zerod = {qddr: 0 for qddr in qdd}\n",
    "Md = Fs.jacobian(qdd)\n",
    "gd = Fs.xreplace(qdd_zerod)\n",
    "Md.simplify()\n",
    "gd.simplify()\n",
    "Md, gd"
   ]
  },
  {
   "cell_type": "code",
   "execution_count": 8,
   "id": "3f37ae88",
   "metadata": {
    "execution": {
     "iopub.execute_input": "2024-02-20T15:55:57.211037Z",
     "iopub.status.busy": "2024-02-20T15:55:57.210839Z",
     "iopub.status.idle": "2024-02-20T15:55:57.225415Z",
     "shell.execute_reply": "2024-02-20T15:55:57.224937Z"
    }
   },
   "outputs": [],
   "source": [
    "m, g, kt, kl, l = sm.symbols('m, g, k_t, k_l, l')\n",
    "q1, q2, q3 = me.dynamicsymbols('q1, q2, q3')\n",
    "\n",
    "N = me.ReferenceFrame('N')\n",
    "A = me.ReferenceFrame('A')\n",
    "B = me.ReferenceFrame('B')\n",
    "\n",
    "A.orient_axis(N, q1, N.z)\n",
    "B.orient_axis(A, q2, A.x)\n",
    "\n",
    "O = me.Point('O')\n",
    "Ao = me.Point('A_O')\n",
    "Bo = me.Point('B_O')\n",
    "Q = me.Point('Q')\n",
    "\n",
    "Ao.set_pos(O, l/2*A.x)\n",
    "Bo.set_pos(O, l*A.x)\n",
    "Q.set_pos(Bo, q3*B.y)\n",
    "\n",
    "O.set_vel(N, 0)\n",
    "\n",
    "I = m*l**2/12\n",
    "I_A_Ao = I*me.outer(A.y, A.y) + I*me.outer(A.z, A.z)\n",
    "I_B_Bo = I*me.outer(B.x, B.x) + I*me.outer(B.z, B.z)"
   ]
  },
  {
   "cell_type": "code",
   "execution_count": 9,
   "id": "80f49a97",
   "metadata": {
    "execution": {
     "iopub.execute_input": "2024-02-20T15:55:57.227435Z",
     "iopub.status.busy": "2024-02-20T15:55:57.227253Z",
     "iopub.status.idle": "2024-02-20T15:55:58.561305Z",
     "shell.execute_reply": "2024-02-20T15:55:58.560753Z"
    }
   },
   "outputs": [
    {
     "data": {
      "text/latex": [
       "$\\displaystyle \\left[\\begin{matrix}\\frac{3 g l m \\cos{\\left(q_{1} \\right)}}{2} - \\frac{k_{l} q_{3}^{2}}{2} - \\frac{k_{t} q_{1}^{2}}{2} - \\frac{k_{t} q_{2}^{2}}{2} + \\frac{l^{2} m \\cos^{2}{\\left(q_{2} \\right)} \\dot{q}_{1}^{2}}{24} + \\frac{7 l^{2} m \\dot{q}_{1}^{2}}{6} + \\frac{l^{2} m \\dot{q}_{2}^{2}}{24} - l m q_{3} \\sin{\\left(q_{2} \\right)} \\dot{q}_{1} \\dot{q}_{2} + l m \\cos{\\left(q_{2} \\right)} \\dot{q}_{1} \\dot{q}_{3} + \\frac{m q_{3}^{2} \\cos^{2}{\\left(q_{2} \\right)} \\dot{q}_{1}^{2}}{2} + \\frac{m q_{3}^{2} \\dot{q}_{2}^{2}}{2} + \\frac{m \\dot{q}_{3}^{2}}{2}\\end{matrix}\\right]$"
      ],
      "text/plain": [
       "⎡                       2        2        2    2      2       2      2     2  \n",
       "⎢3⋅g⋅l⋅m⋅cos(q₁)   kₗ⋅q₃    kₜ⋅q₁    kₜ⋅q₂    l ⋅m⋅cos (q₂)⋅q₁̇    7⋅l ⋅m⋅q₁̇ \n",
       "⎢─────────────── - ────── - ────── - ────── + ───────────────── + ────────── +\n",
       "⎣       2            2        2        2              24              6       \n",
       "\n",
       "  2     2                                                  2    2       2     \n",
       "   l ⋅m⋅q₂̇                                               m⋅q₃ ⋅cos (q₂)⋅q₁̇  \n",
       " ──────── - l⋅m⋅q₃⋅sin(q₂)⋅q₁̇⋅q₂̇ + l⋅m⋅cos(q₂)⋅q₁̇⋅q₃̇ + ────────────────── \n",
       "    24                                                         2              \n",
       "\n",
       "  2   2       2⎤\n",
       "  m⋅q₃ ⋅q₂̇    m⋅q₃̇ ⎥\n",
       "+ ───────── + ─────⎥\n",
       "  2         2  ⎦"
      ]
     },
     "execution_count": 9,
     "metadata": {},
     "output_type": "execute_result"
    }
   ],
   "source": [
    "t = sm.symbols('t')\n",
    "q = sm.Matrix([q1, q2, q3])\n",
    "qd = q.diff(t)\n",
    "qdd = qd.diff(t)\n",
    "\n",
    "K = m/2*(Ao.vel(N).dot(Ao.vel(N)) + Bo.vel(N).dot(Bo.vel(N)) + Q.vel(N).dot(Q.vel(N))) + (\n",
    "    A.ang_vel_in(N).dot(I_A_Ao.dot(A.ang_vel_in(N))) + B.ang_vel_in(N).dot(I_B_Bo.dot(B.ang_vel_in(N)))\n",
    ")/2\n",
    "V = m*g*(Ao.pos_from(O).dot(-N.x) + Bo.pos_from(O).dot(-N.x)) + kt/2*(q1**2) + kt/2*q2**2 + kl/2*q3**2\n",
    "\n",
    "L = sm.Matrix([K - V])\n",
    "sm.trigsimp(L)"
   ]
  },
  {
   "cell_type": "code",
   "execution_count": 10,
   "id": "eb2940cb",
   "metadata": {
    "execution": {
     "iopub.execute_input": "2024-02-20T15:55:58.563376Z",
     "iopub.status.busy": "2024-02-20T15:55:58.563166Z",
     "iopub.status.idle": "2024-02-20T15:55:58.817995Z",
     "shell.execute_reply": "2024-02-20T15:55:58.817384Z"
    }
   },
   "outputs": [
    {
     "data": {
      "text/latex": [
       "$\\displaystyle \\left( \\left\\{q_{2}, q_{3}\\right\\}, \\  \\left\\{q_{1}, q_{2}, q_{3}, \\dot{q}_{1}, \\dot{q}_{2}, \\dot{q}_{3}\\right\\}\\right)$"
      ],
      "text/plain": [
       "({q₂, q₃}, {q₁, q₂, q₃, q₁̇, q₂̇, q₃̇})"
      ]
     },
     "execution_count": 10,
     "metadata": {},
     "output_type": "execute_result"
    }
   ],
   "source": [
    "left_hand_side = L.jacobian(qd).diff(t) - L.jacobian(q)\n",
    "qdd_zerod = {qddr: 0 for qddr in qdd}\n",
    "Md = left_hand_side.jacobian(qdd)\n",
    "gd = left_hand_side.xreplace(qdd_zerod)\n",
    "me.find_dynamicsymbols(Md), me.find_dynamicsymbols(gd)"
   ]
  },
  {
   "cell_type": "code",
   "execution_count": 11,
   "id": "41f6e2ca",
   "metadata": {
    "execution": {
     "iopub.execute_input": "2024-02-20T15:55:58.820585Z",
     "iopub.status.busy": "2024-02-20T15:55:58.820107Z",
     "iopub.status.idle": "2024-02-20T15:55:59.481327Z",
     "shell.execute_reply": "2024-02-20T15:55:59.480669Z"
    }
   },
   "outputs": [
    {
     "data": {
      "text/latex": [
       "$\\displaystyle \\left[\\begin{matrix}m \\left(\\frac{l^{2} \\cos^{2}{\\left(q_{2} \\right)} \\dot{q}_{1}}{12} + \\frac{7 l^{2} \\dot{q}_{1}}{3} - l q_{3} \\sin{\\left(q_{2} \\right)} \\dot{q}_{2} + l \\cos{\\left(q_{2} \\right)} \\dot{q}_{3} + q_{3}^{2} \\cos^{2}{\\left(q_{2} \\right)} \\dot{q}_{1}\\right)\\\\m \\left(\\frac{l^{2} \\dot{q}_{2}}{12} - l q_{3} \\sin{\\left(q_{2} \\right)} \\dot{q}_{1} + q_{3}^{2} \\dot{q}_{2}\\right)\\\\m \\left(l \\cos{\\left(q_{2} \\right)} \\dot{q}_{1} + \\dot{q}_{3}\\right)\\end{matrix}\\right]$"
      ],
      "text/plain": [
       "⎡  ⎛ 2    2             2                                                     \n",
       "⎢  ⎜l ⋅cos (q₂)⋅q₁̇   7⋅l ⋅q₁̇                                      2    2    \n",
       "⎢m⋅⎜────────────── + ─────── - l⋅q₃⋅sin(q₂)⋅q₂̇ + l⋅cos(q₂)⋅q₃̇ + q₃ ⋅cos (q₂)\n",
       "⎢  ⎝      12            3                                                     \n",
       "⎢                                                                             \n",
       "⎢                       ⎛ 2                              ⎞                    \n",
       "⎢                       ⎜l ⋅q₂̇                       2   ⎟                   \n",
       "⎢                     m⋅⎜───── - l⋅q₃⋅sin(q₂)⋅q₁̇ + q₃ ⋅q₂̇⎟                  \n",
       "⎢                       ⎝  12                            ⎠                    \n",
       "⎢                                                                             \n",
       "⎣                             m⋅(l⋅cos(q₂)⋅q₁̇ + q₃̇)                         \n",
       "\n",
       " ⎞⎤\n",
       "   ⎟⎥\n",
       "⋅q₁̇⎟⎥\n",
       " ⎠⎥\n",
       "  ⎥\n",
       "  ⎥\n",
       "   ⎥\n",
       "    ⎥\n",
       "  ⎥\n",
       "  ⎥\n",
       "    ⎦"
      ]
     },
     "execution_count": 11,
     "metadata": {},
     "output_type": "execute_result"
    }
   ],
   "source": [
    "p = L.jacobian(qd).transpose()\n",
    "sm.trigsimp(p)"
   ]
  },
  {
   "cell_type": "code",
   "execution_count": 12,
   "id": "fc43f076",
   "metadata": {
    "execution": {
     "iopub.execute_input": "2024-02-20T15:55:59.483756Z",
     "iopub.status.busy": "2024-02-20T15:55:59.483359Z",
     "iopub.status.idle": "2024-02-20T15:55:59.797629Z",
     "shell.execute_reply": "2024-02-20T15:55:59.797010Z"
    }
   },
   "outputs": [],
   "source": [
    "psi,theta, phi, x, y, z = me.dynamicsymbols('psi theta phi x y z')\n",
    "N = me.ReferenceFrame('N')\n",
    "B = me.ReferenceFrame('B')\n",
    "B.orient_body_fixed(N, (psi, theta, phi), 'zxy')\n",
    "\n",
    "# Mass and inertia\n",
    "m, Ixx, Iyy, Izz = sm.symbols('M, I_{xx}, I_{yy}, I_{zz}')\n",
    "I_B = me.inertia(B, Ixx, Iyy, Izz)"
   ]
  },
  {
   "cell_type": "code",
   "execution_count": 13,
   "id": "564f6961",
   "metadata": {
    "execution": {
     "iopub.execute_input": "2024-02-20T15:55:59.800250Z",
     "iopub.status.busy": "2024-02-20T15:55:59.799806Z",
     "iopub.status.idle": "2024-02-20T15:55:59.814546Z",
     "shell.execute_reply": "2024-02-20T15:55:59.813866Z"
    }
   },
   "outputs": [],
   "source": [
    "omega_B = B.ang_vel_in(N)\n",
    "r_com = x*N.x + y*N.y + z*N.z\n",
    "v_com = r_com.dt(N)\n",
    "K = omega_B.dot(I_B.dot(omega_B))/2 + m*v_com.dot(v_com)/2"
   ]
  },
  {
   "cell_type": "code",
   "execution_count": 14,
   "id": "5c552834",
   "metadata": {
    "execution": {
     "iopub.execute_input": "2024-02-20T15:55:59.817108Z",
     "iopub.status.busy": "2024-02-20T15:55:59.816572Z",
     "iopub.status.idle": "2024-02-20T15:56:00.063014Z",
     "shell.execute_reply": "2024-02-20T15:56:00.062397Z"
    }
   },
   "outputs": [],
   "source": [
    "t = me.dynamicsymbols._t\n",
    "q = sm.Matrix([psi, theta, phi, x, y, z])\n",
    "qd = q.diff(t)\n",
    "qdd = qd.diff(t)\n",
    "\n",
    "L = sm.Matrix([K])\n",
    "left_hand_side = L.jacobian(qd).diff(t) - L.jacobian(q)\n",
    "\n",
    "qdd_zerod = {qddr: 0 for qddr in qdd}\n",
    "Md = left_hand_side.jacobian(qdd)\n",
    "gd = left_hand_side.xreplace(qdd_zerod)"
   ]
  },
  {
   "cell_type": "code",
   "execution_count": 15,
   "id": "927dcc55",
   "metadata": {
    "execution": {
     "iopub.execute_input": "2024-02-20T15:56:00.065699Z",
     "iopub.status.busy": "2024-02-20T15:56:00.065289Z",
     "iopub.status.idle": "2024-02-20T15:56:01.452369Z",
     "shell.execute_reply": "2024-02-20T15:56:01.451741Z"
    }
   },
   "outputs": [
    {
     "data": {
      "text/latex": [
       "$\\displaystyle \\left[\\begin{matrix}- \\sin{\\left(\\psi \\right)} \\dot{\\theta} - \\cos{\\left(\\psi \\right)} \\cos{\\left(\\theta \\right)} \\dot{\\phi} + \\dot{x}\\\\- \\sin{\\left(\\psi \\right)} \\cos{\\left(\\theta \\right)} \\dot{\\phi} + \\cos{\\left(\\psi \\right)} \\dot{\\theta} + \\dot{y}\\\\\\dot{z}\\end{matrix}\\right]$"
      ],
      "text/plain": [
       "⎡-sin(ψ)⋅θ̇ - cos(ψ)⋅cos(θ)⋅φ̇ + ẋ⎤\n",
       "⎢                               ⎥\n",
       "⎢-sin(ψ)⋅cos(θ)⋅φ̇ + cos(ψ)⋅θ̇ + ẏ⎥\n",
       "⎢                               ⎥\n",
       "⎣               ż               ⎦"
      ]
     },
     "execution_count": 15,
     "metadata": {},
     "output_type": "execute_result"
    }
   ],
   "source": [
    "lambda1, lambda2, lambda3 = me.dynamicsymbols('lambda1, lambda2, lambda3')\n",
    "constraint = (v_com + B.ang_vel_in(N).cross(-N.z)).to_matrix(N)\n",
    "M_hn = constraint.jacobian(qd)\n",
    "diff_constraint = constraint.diff(t)\n",
    "sm.trigsimp(constraint)"
   ]
  },
  {
   "cell_type": "code",
   "execution_count": 16,
   "id": "af4dfb4c",
   "metadata": {
    "execution": {
     "iopub.execute_input": "2024-02-20T15:56:01.454841Z",
     "iopub.status.busy": "2024-02-20T15:56:01.454461Z",
     "iopub.status.idle": "2024-02-20T15:56:01.537328Z",
     "shell.execute_reply": "2024-02-20T15:56:01.536678Z"
    }
   },
   "outputs": [
    {
     "data": {
      "text/latex": [
       "$\\displaystyle \\left[\\begin{matrix}0 & 0 & 0 & 0 & 0 & 0\\\\0 & 0 & 0 & 0 & 0 & 0\\\\0 & 0 & 0 & 0 & 0 & 0\\end{matrix}\\right]$"
      ],
      "text/plain": [
       "⎡0  0  0  0  0  0⎤\n",
       "⎢                ⎥\n",
       "⎢0  0  0  0  0  0⎥\n",
       "⎢                ⎥\n",
       "⎣0  0  0  0  0  0⎦"
      ]
     },
     "execution_count": 16,
     "metadata": {},
     "output_type": "execute_result"
    }
   ],
   "source": [
    "diff_constraint.jacobian(qdd) - M_hn"
   ]
  },
  {
   "cell_type": "code",
   "execution_count": 17,
   "id": "db92bacf",
   "metadata": {
    "execution": {
     "iopub.execute_input": "2024-02-20T15:56:01.539746Z",
     "iopub.status.busy": "2024-02-20T15:56:01.539349Z",
     "iopub.status.idle": "2024-02-20T15:56:01.544420Z",
     "shell.execute_reply": "2024-02-20T15:56:01.543846Z"
    }
   },
   "outputs": [],
   "source": [
    "constraint_bias = diff_constraint.xreplace({qddr : 0 for qddr in qdd})"
   ]
  }
 ],
 "metadata": {
  "kernelspec": {
   "display_name": "Python 3 (ipykernel)",
   "language": "python",
   "name": "python3"
  },
  "language_info": {
   "codemirror_mode": {
    "name": "ipython",
    "version": 3
   },
   "file_extension": ".py",
   "mimetype": "text/x-python",
   "name": "python",
   "nbconvert_exporter": "python",
   "pygments_lexer": "ipython3",
   "version": "3.10.13"
  }
 },
 "nbformat": 4,
 "nbformat_minor": 5
}