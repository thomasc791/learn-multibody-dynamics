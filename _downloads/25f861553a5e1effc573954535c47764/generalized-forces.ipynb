{
 "cells": [
  {
   "cell_type": "code",
   "execution_count": 1,
   "id": "5b449814",
   "metadata": {
    "execution": {
     "iopub.execute_input": "2024-02-20T15:53:02.120192Z",
     "iopub.status.busy": "2024-02-20T15:53:02.119766Z",
     "iopub.status.idle": "2024-02-20T15:53:02.517010Z",
     "shell.execute_reply": "2024-02-20T15:53:02.516321Z"
    }
   },
   "outputs": [],
   "source": [
    "import sympy as sm\n",
    "import sympy.physics.mechanics as me\n",
    "me.init_vprinting(use_latex='mathjax')"
   ]
  },
  {
   "cell_type": "code",
   "execution_count": 2,
   "id": "a9f06c3c",
   "metadata": {
    "execution": {
     "iopub.execute_input": "2024-02-20T15:53:02.519959Z",
     "iopub.status.busy": "2024-02-20T15:53:02.519680Z",
     "iopub.status.idle": "2024-02-20T15:53:02.523914Z",
     "shell.execute_reply": "2024-02-20T15:53:02.523396Z"
    }
   },
   "outputs": [],
   "source": [
    "class ReferenceFrame(me.ReferenceFrame):\n",
    "\n",
    "    def __init__(self, *args, **kwargs):\n",
    "\n",
    "        kwargs.pop('latexs', None)\n",
    "\n",
    "        lab = args[0].lower()\n",
    "        tex = r'\\hat{{{}}}_{}'\n",
    "\n",
    "        super(ReferenceFrame, self).__init__(*args,\n",
    "                                             latexs=(tex.format(lab, 'x'),\n",
    "                                                     tex.format(lab, 'y'),\n",
    "                                                     tex.format(lab, 'z')),\n",
    "                                             **kwargs)\n",
    "me.ReferenceFrame = ReferenceFrame"
   ]
  },
  {
   "cell_type": "code",
   "execution_count": 3,
   "id": "296d2bc1",
   "metadata": {
    "execution": {
     "iopub.execute_input": "2024-02-20T15:53:02.526140Z",
     "iopub.status.busy": "2024-02-20T15:53:02.525788Z",
     "iopub.status.idle": "2024-02-20T15:53:02.534950Z",
     "shell.execute_reply": "2024-02-20T15:53:02.534474Z"
    }
   },
   "outputs": [],
   "source": [
    "L = sm.symbols('L')\n",
    "q1, q2, u1, u2 = me.dynamicsymbols('q1, q2, u1, u2')\n",
    "\n",
    "N = me.ReferenceFrame('N')\n",
    "R = me.ReferenceFrame('R')\n",
    "\n",
    "R.orient_axis(N, q2, N.z)"
   ]
  },
  {
   "cell_type": "code",
   "execution_count": 4,
   "id": "b246136b",
   "metadata": {
    "execution": {
     "iopub.execute_input": "2024-02-20T15:53:02.537167Z",
     "iopub.status.busy": "2024-02-20T15:53:02.536802Z",
     "iopub.status.idle": "2024-02-20T15:53:02.542172Z",
     "shell.execute_reply": "2024-02-20T15:53:02.541647Z"
    }
   },
   "outputs": [
    {
     "data": {
      "text/latex": [
       "$\\displaystyle u_{1}\\hat{n}_x$"
      ],
      "text/plain": [
       "u₁ n_x"
      ]
     },
     "execution_count": 4,
     "metadata": {},
     "output_type": "execute_result"
    }
   ],
   "source": [
    "N_v_A = u1*N.x\n",
    "N_v_A"
   ]
  },
  {
   "cell_type": "code",
   "execution_count": 5,
   "id": "00d71d3d",
   "metadata": {
    "execution": {
     "iopub.execute_input": "2024-02-20T15:53:02.544325Z",
     "iopub.status.busy": "2024-02-20T15:53:02.543973Z",
     "iopub.status.idle": "2024-02-20T15:53:02.548547Z",
     "shell.execute_reply": "2024-02-20T15:53:02.548020Z"
    }
   },
   "outputs": [
    {
     "data": {
      "text/latex": [
       "$\\displaystyle u_{2}\\hat{n}_z$"
      ],
      "text/plain": [
       "u₂ n_z"
      ]
     },
     "execution_count": 5,
     "metadata": {},
     "output_type": "execute_result"
    }
   ],
   "source": [
    "N_w_R = u2*N.z\n",
    "N_w_R"
   ]
  },
  {
   "cell_type": "code",
   "execution_count": 6,
   "id": "7971ddef",
   "metadata": {
    "execution": {
     "iopub.execute_input": "2024-02-20T15:53:02.550477Z",
     "iopub.status.busy": "2024-02-20T15:53:02.550291Z",
     "iopub.status.idle": "2024-02-20T15:53:02.561934Z",
     "shell.execute_reply": "2024-02-20T15:53:02.561346Z"
    }
   },
   "outputs": [
    {
     "data": {
      "text/latex": [
       "$\\displaystyle (L u_{2} \\sin{\\left(q_{2} \\right)} + u_{1})\\hat{n}_x -  L u_{2} \\cos{\\left(q_{2} \\right)}\\hat{n}_y$"
      ],
      "text/plain": [
       "(L⋅u₂⋅sin(q₂) + u₁) n_x + -L⋅u₂⋅cos(q₂) n_y"
      ]
     },
     "execution_count": 6,
     "metadata": {},
     "output_type": "execute_result"
    }
   ],
   "source": [
    "r_A_B = -L*R.x\n",
    "N_v_B = N_v_A + me.cross(N_w_R, r_A_B)\n",
    "\n",
    "N_v_B.express(N)"
   ]
  },
  {
   "cell_type": "code",
   "execution_count": 7,
   "id": "b16e41a3",
   "metadata": {
    "execution": {
     "iopub.execute_input": "2024-02-20T15:53:02.563934Z",
     "iopub.status.busy": "2024-02-20T15:53:02.563729Z",
     "iopub.status.idle": "2024-02-20T15:53:02.577330Z",
     "shell.execute_reply": "2024-02-20T15:53:02.576712Z"
    }
   },
   "outputs": [
    {
     "data": {
      "text/latex": [
       "$\\displaystyle \\left( \\hat{n}_x, \\  0\\right)$"
      ],
      "text/plain": [
       "(n_x, 0)"
      ]
     },
     "execution_count": 7,
     "metadata": {},
     "output_type": "execute_result"
    }
   ],
   "source": [
    "v_A_1 = N_v_A.diff(u1, N)\n",
    "v_A_2 = N_v_A.diff(u2, N)\n",
    "\n",
    "v_A_1, v_A_2"
   ]
  },
  {
   "cell_type": "code",
   "execution_count": 8,
   "id": "fb9529b1",
   "metadata": {
    "execution": {
     "iopub.execute_input": "2024-02-20T15:53:02.579707Z",
     "iopub.status.busy": "2024-02-20T15:53:02.579477Z",
     "iopub.status.idle": "2024-02-20T15:53:02.588901Z",
     "shell.execute_reply": "2024-02-20T15:53:02.588389Z"
    }
   },
   "outputs": [
    {
     "data": {
      "text/latex": [
       "$\\displaystyle \\left( \\hat{n}_x, \\  -  L\\hat{r}_y\\right)$"
      ],
      "text/plain": [
       "(n_x, -L r_y)"
      ]
     },
     "execution_count": 8,
     "metadata": {},
     "output_type": "execute_result"
    }
   ],
   "source": [
    "v_B_1 = N_v_B.diff(u1, N)\n",
    "v_B_2 = N_v_B.diff(u2, N)\n",
    "\n",
    "v_B_1, v_B_2"
   ]
  },
  {
   "cell_type": "code",
   "execution_count": 9,
   "id": "f73da2ea",
   "metadata": {
    "execution": {
     "iopub.execute_input": "2024-02-20T15:53:02.591046Z",
     "iopub.status.busy": "2024-02-20T15:53:02.590845Z",
     "iopub.status.idle": "2024-02-20T15:53:02.596544Z",
     "shell.execute_reply": "2024-02-20T15:53:02.596046Z"
    }
   },
   "outputs": [
    {
     "data": {
      "text/latex": [
       "$\\displaystyle \\left( 0, \\  \\hat{n}_z\\right)$"
      ],
      "text/plain": [
       "(0, n_z)"
      ]
     },
     "execution_count": 9,
     "metadata": {},
     "output_type": "execute_result"
    }
   ],
   "source": [
    "w_R_1 = N_w_R.diff(u1, N)\n",
    "w_R_2 = N_w_R.diff(u2, N)\n",
    "\n",
    "w_R_1, w_R_2"
   ]
  },
  {
   "cell_type": "code",
   "execution_count": 10,
   "id": "718885c1",
   "metadata": {
    "execution": {
     "iopub.execute_input": "2024-02-20T15:53:02.598733Z",
     "iopub.status.busy": "2024-02-20T15:53:02.598247Z",
     "iopub.status.idle": "2024-02-20T15:53:02.608475Z",
     "shell.execute_reply": "2024-02-20T15:53:02.607904Z"
    }
   },
   "outputs": [
    {
     "data": {
      "text/latex": [
       "$\\displaystyle \\left[ \\left[ \\hat{n}_x, \\  0\\right], \\  \\left[ \\hat{n}_x, \\  -  L\\hat{r}_y\\right], \\  \\left[ 0, \\  \\hat{n}_z\\right]\\right]$"
      ],
      "text/plain": [
       "[[n_x, 0], [n_x, -L r_y], [0, n_z]]"
      ]
     },
     "execution_count": 10,
     "metadata": {},
     "output_type": "execute_result"
    }
   ],
   "source": [
    "me.partial_velocity((N_v_A, N_v_B, N_w_R), (u1, u2), N)"
   ]
  },
  {
   "cell_type": "code",
   "execution_count": 11,
   "id": "859e9876",
   "metadata": {
    "execution": {
     "iopub.execute_input": "2024-02-20T15:53:02.610638Z",
     "iopub.status.busy": "2024-02-20T15:53:02.610275Z",
     "iopub.status.idle": "2024-02-20T15:53:02.629221Z",
     "shell.execute_reply": "2024-02-20T15:53:02.628623Z"
    }
   },
   "outputs": [
    {
     "data": {
      "text/latex": [
       "$\\displaystyle \\left( l \\dot{q}_{1}\\hat{a}_x, \\  l \\dot{q}_{1}\\hat{a}_x + l \\dot{q}_{2}\\hat{b}_x\\right)$"
      ],
      "text/plain": [
       "(l⋅q₁̇ a_x, l⋅q₁̇ a_x + l⋅q₂̇ b_x)"
      ]
     },
     "execution_count": 11,
     "metadata": {},
     "output_type": "execute_result"
    }
   ],
   "source": [
    "l = sm.symbols('l')\n",
    "q1, q2, u1, u2 = me.dynamicsymbols('q1, q2, u1, u2')\n",
    "\n",
    "N = me.ReferenceFrame('N')\n",
    "A = me.ReferenceFrame('A')\n",
    "B = me.ReferenceFrame('B')\n",
    "\n",
    "A.orient_axis(N, q1, N.z)\n",
    "B.orient_axis(N, q2, N.z)\n",
    "\n",
    "O = me.Point('O')\n",
    "P1 = me.Point('P1')\n",
    "P2 = me.Point('P2')\n",
    "\n",
    "O.set_vel(N, 0)\n",
    "\n",
    "P1.set_pos(O, -l*A.y)\n",
    "P2.set_pos(P1, -l*B.y)\n",
    "\n",
    "P1.v2pt_theory(O, N, A)\n",
    "P2.v2pt_theory(P1, N, B)\n",
    "\n",
    "P1.vel(N), P2.vel(N)"
   ]
  },
  {
   "cell_type": "code",
   "execution_count": 12,
   "id": "8c07f742",
   "metadata": {
    "execution": {
     "iopub.execute_input": "2024-02-20T15:53:02.631554Z",
     "iopub.status.busy": "2024-02-20T15:53:02.631192Z",
     "iopub.status.idle": "2024-02-20T15:53:02.637711Z",
     "shell.execute_reply": "2024-02-20T15:53:02.637152Z"
    }
   },
   "outputs": [
    {
     "data": {
      "text/latex": [
       "$\\displaystyle \\left( l u_{1}\\hat{a}_x, \\  l u_{1}\\hat{a}_x + l u_{2}\\hat{b}_x\\right)$"
      ],
      "text/plain": [
       "(l⋅u₁ a_x, l⋅u₁ a_x + l⋅u₂ b_x)"
      ]
     },
     "execution_count": 12,
     "metadata": {},
     "output_type": "execute_result"
    }
   ],
   "source": [
    "repl = {q1.diff(): u1, q2.diff(): u2}\n",
    "\n",
    "N_v_P1 = P1.vel(N).xreplace(repl)\n",
    "N_v_P2 = P2.vel(N).xreplace(repl)\n",
    "\n",
    "N_v_P1, N_v_P2"
   ]
  },
  {
   "cell_type": "code",
   "execution_count": 13,
   "id": "fc344b31",
   "metadata": {
    "execution": {
     "iopub.execute_input": "2024-02-20T15:53:02.639835Z",
     "iopub.status.busy": "2024-02-20T15:53:02.639495Z",
     "iopub.status.idle": "2024-02-20T15:53:02.650212Z",
     "shell.execute_reply": "2024-02-20T15:53:02.649744Z"
    }
   },
   "outputs": [
    {
     "data": {
      "text/latex": [
       "$\\displaystyle \\left( l\\hat{a}_x, \\  0, \\  l\\hat{a}_x, \\  l\\hat{b}_x\\right)$"
      ],
      "text/plain": [
       "(l a_x, 0, l a_x, l b_x)"
      ]
     },
     "execution_count": 13,
     "metadata": {},
     "output_type": "execute_result"
    }
   ],
   "source": [
    "v_P1_1 = N_v_P1.diff(u1, N)\n",
    "v_P1_2 = N_v_P1.diff(u2, N)\n",
    "v_P2_1 = N_v_P2.diff(u1, N)\n",
    "v_P2_2 = N_v_P2.diff(u2, N)\n",
    "v_P1_1, v_P1_2, v_P2_1, v_P2_2"
   ]
  },
  {
   "cell_type": "code",
   "execution_count": 14,
   "id": "83d20e90",
   "metadata": {
    "execution": {
     "iopub.execute_input": "2024-02-20T15:53:02.652463Z",
     "iopub.status.busy": "2024-02-20T15:53:02.652079Z",
     "iopub.status.idle": "2024-02-20T15:53:02.659889Z",
     "shell.execute_reply": "2024-02-20T15:53:02.659395Z"
    }
   },
   "outputs": [
    {
     "data": {
      "text/latex": [
       "$\\displaystyle -  g m_{1}\\hat{n}_y + T_{1}\\hat{a}_y -  T_{2}\\hat{b}_y$"
      ],
      "text/plain": [
       "-g⋅m₁ n_y + T₁ a_y + -T₂ b_y"
      ]
     },
     "execution_count": 14,
     "metadata": {},
     "output_type": "execute_result"
    }
   ],
   "source": [
    "T1, T2 = me.dynamicsymbols('T1, T2')\n",
    "m1, m2, g = sm.symbols('m1, m2, g')\n",
    "\n",
    "R1 = -m1*g*N.y + T1*A.y - T2*B.y\n",
    "R1"
   ]
  },
  {
   "cell_type": "code",
   "execution_count": 15,
   "id": "cb3e9f51",
   "metadata": {
    "execution": {
     "iopub.execute_input": "2024-02-20T15:53:02.662109Z",
     "iopub.status.busy": "2024-02-20T15:53:02.661667Z",
     "iopub.status.idle": "2024-02-20T15:53:02.667425Z",
     "shell.execute_reply": "2024-02-20T15:53:02.666953Z"
    }
   },
   "outputs": [
    {
     "data": {
      "text/latex": [
       "$\\displaystyle -  g m_{2}\\hat{n}_y + T_{2}\\hat{b}_y$"
      ],
      "text/plain": [
       "-g⋅m₂ n_y + T₂ b_y"
      ]
     },
     "execution_count": 15,
     "metadata": {},
     "output_type": "execute_result"
    }
   ],
   "source": [
    "R2 = -m2*g*N.y + T2*B.y\n",
    "R2"
   ]
  },
  {
   "cell_type": "code",
   "execution_count": 16,
   "id": "e822f098",
   "metadata": {
    "execution": {
     "iopub.execute_input": "2024-02-20T15:53:02.669306Z",
     "iopub.status.busy": "2024-02-20T15:53:02.669139Z",
     "iopub.status.idle": "2024-02-20T15:53:02.687657Z",
     "shell.execute_reply": "2024-02-20T15:53:02.687178Z"
    }
   },
   "outputs": [
    {
     "data": {
      "text/latex": [
       "$\\displaystyle - g l m_{1} \\sin{\\left(q_{1} \\right)} - g l m_{2} \\sin{\\left(q_{1} \\right)}$"
      ],
      "text/plain": [
       "-g⋅l⋅m₁⋅sin(q₁) - g⋅l⋅m₂⋅sin(q₁)"
      ]
     },
     "execution_count": 16,
     "metadata": {},
     "output_type": "execute_result"
    }
   ],
   "source": [
    "F1 = me.dot(v_P1_1, R1) + me.dot(v_P2_1, R2)\n",
    "F1"
   ]
  },
  {
   "cell_type": "code",
   "execution_count": 17,
   "id": "6ff1ecbc",
   "metadata": {
    "execution": {
     "iopub.execute_input": "2024-02-20T15:53:02.689744Z",
     "iopub.status.busy": "2024-02-20T15:53:02.689401Z",
     "iopub.status.idle": "2024-02-20T15:53:02.694870Z",
     "shell.execute_reply": "2024-02-20T15:53:02.694332Z"
    }
   },
   "outputs": [
    {
     "data": {
      "text/latex": [
       "$\\displaystyle - g l m_{2} \\sin{\\left(q_{2} \\right)}$"
      ],
      "text/plain": [
       "-g⋅l⋅m₂⋅sin(q₂)"
      ]
     },
     "execution_count": 17,
     "metadata": {},
     "output_type": "execute_result"
    }
   ],
   "source": [
    "F2 = me.dot(v_P1_2, R1) + me.dot(v_P2_2, R2)\n",
    "F2"
   ]
  },
  {
   "cell_type": "code",
   "execution_count": 18,
   "id": "756fbe08",
   "metadata": {
    "execution": {
     "iopub.execute_input": "2024-02-20T15:53:02.697132Z",
     "iopub.status.busy": "2024-02-20T15:53:02.696564Z",
     "iopub.status.idle": "2024-02-20T15:53:02.715003Z",
     "shell.execute_reply": "2024-02-20T15:53:02.714433Z"
    }
   },
   "outputs": [
    {
     "data": {
      "text/latex": [
       "$\\displaystyle \\left( \\frac{l u_{1}}{2}\\hat{a}_y, \\  l u_{1}\\hat{a}_y, \\  u_{1}\\hat{n}_z, \\  u_{2}\\hat{a}_x + u_{1}\\hat{n}_z\\right)$"
      ],
      "text/plain": [
       "⎛  l⋅u₁  , l⋅u₁ a_y, u₁ n_z, u₂ a_x + u₁ n_z⎞\n",
       "⎜──── a_y                                   ⎟\n",
       "⎝    2                                      ⎠"
      ]
     },
     "execution_count": 18,
     "metadata": {},
     "output_type": "execute_result"
    }
   ],
   "source": [
    "m, g, k, l = sm.symbols('m, g, k, l')\n",
    "q1, q2, u1, u2 = me.dynamicsymbols('q1, q2, u1, u2')\n",
    "\n",
    "N = me.ReferenceFrame('N')\n",
    "A = me.ReferenceFrame('A')\n",
    "B = me.ReferenceFrame('B')\n",
    "\n",
    "A.orient_axis(N, q1, N.z)\n",
    "B.orient_axis(A, q2, A.x)\n",
    "\n",
    "A.set_ang_vel(N, u1*N.z)\n",
    "B.set_ang_vel(A, u2*A.x)\n",
    "\n",
    "O = me.Point('O')\n",
    "Ao = me.Point('A_O')\n",
    "Bo = me.Point('B_O')\n",
    "\n",
    "Ao.set_pos(O, l/2*A.x)\n",
    "Bo.set_pos(O, l*A.x)\n",
    "\n",
    "O.set_vel(N, 0)\n",
    "Ao.v2pt_theory(O, N, A)\n",
    "Bo.v2pt_theory(O, N, A)\n",
    "\n",
    "Ao.vel(N), Bo.vel(N), A.ang_vel_in(N), B.ang_vel_in(N)"
   ]
  },
  {
   "cell_type": "code",
   "execution_count": 19,
   "id": "14805c80",
   "metadata": {
    "execution": {
     "iopub.execute_input": "2024-02-20T15:53:02.717187Z",
     "iopub.status.busy": "2024-02-20T15:53:02.716847Z",
     "iopub.status.idle": "2024-02-20T15:53:02.726885Z",
     "shell.execute_reply": "2024-02-20T15:53:02.726324Z"
    }
   },
   "outputs": [
    {
     "data": {
      "text/latex": [
       "$\\displaystyle \\left( \\frac{l}{2}\\hat{a}_y, \\  0, \\  l\\hat{a}_y, \\  0\\right)$"
      ],
      "text/plain": [
       "⎛  l  , 0, l a_y, 0⎞\n",
       "⎜─ a_y             ⎟\n",
       "⎝  2               ⎠"
      ]
     },
     "execution_count": 19,
     "metadata": {},
     "output_type": "execute_result"
    }
   ],
   "source": [
    "v_Ao_1 = Ao.vel(N).diff(u1, N)\n",
    "v_Ao_2 = Ao.vel(N).diff(u2, N)\n",
    "v_Bo_1 = Bo.vel(N).diff(u1, N)\n",
    "v_Bo_2 = Bo.vel(N).diff(u2, N)\n",
    "\n",
    "v_Ao_1, v_Ao_2, v_Bo_1, v_Bo_2"
   ]
  },
  {
   "cell_type": "code",
   "execution_count": 20,
   "id": "a5473199",
   "metadata": {
    "execution": {
     "iopub.execute_input": "2024-02-20T15:53:02.728992Z",
     "iopub.status.busy": "2024-02-20T15:53:02.728646Z",
     "iopub.status.idle": "2024-02-20T15:53:02.737621Z",
     "shell.execute_reply": "2024-02-20T15:53:02.737058Z"
    }
   },
   "outputs": [
    {
     "data": {
      "text/latex": [
       "$\\displaystyle \\left( \\hat{n}_z, \\  0, \\  \\hat{n}_z, \\  \\hat{a}_x\\right)$"
      ],
      "text/plain": [
       "(n_z, 0, n_z, a_x)"
      ]
     },
     "execution_count": 20,
     "metadata": {},
     "output_type": "execute_result"
    }
   ],
   "source": [
    "w_A_1 = A.ang_vel_in(N).diff(u1, N)\n",
    "w_A_2 = A.ang_vel_in(N).diff(u2, N)\n",
    "w_B_1 = B.ang_vel_in(N).diff(u1, N)\n",
    "w_B_2 = B.ang_vel_in(N).diff(u2, N)\n",
    "\n",
    "w_A_1, w_A_2, w_B_1, w_B_2"
   ]
  },
  {
   "cell_type": "code",
   "execution_count": 21,
   "id": "67d65edc",
   "metadata": {
    "execution": {
     "iopub.execute_input": "2024-02-20T15:53:02.739827Z",
     "iopub.status.busy": "2024-02-20T15:53:02.739367Z",
     "iopub.status.idle": "2024-02-20T15:53:02.744591Z",
     "shell.execute_reply": "2024-02-20T15:53:02.744028Z"
    }
   },
   "outputs": [
    {
     "data": {
      "text/latex": [
       "$\\displaystyle \\left( g m\\hat{n}_x, \\  g m\\hat{n}_x\\right)$"
      ],
      "text/plain": [
       "(g⋅m n_x, g⋅m n_x)"
      ]
     },
     "execution_count": 21,
     "metadata": {},
     "output_type": "execute_result"
    }
   ],
   "source": [
    "R_Ao = m*g*N.x\n",
    "R_Bo = m*g*N.x\n",
    "\n",
    "R_Ao, R_Bo"
   ]
  },
  {
   "cell_type": "code",
   "execution_count": 22,
   "id": "399a088d",
   "metadata": {
    "execution": {
     "iopub.execute_input": "2024-02-20T15:53:02.746814Z",
     "iopub.status.busy": "2024-02-20T15:53:02.746271Z",
     "iopub.status.idle": "2024-02-20T15:53:02.753402Z",
     "shell.execute_reply": "2024-02-20T15:53:02.752958Z"
    }
   },
   "outputs": [
    {
     "data": {
      "text/latex": [
       "$\\displaystyle \\left( -  k q_{1}\\hat{n}_z + k q_{2}\\hat{a}_x, \\  -  k q_{2}\\hat{a}_x\\right)$"
      ],
      "text/plain": [
       "(-k⋅q₁ n_z + k⋅q₂ a_x, -k⋅q₂ a_x)"
      ]
     },
     "execution_count": 22,
     "metadata": {},
     "output_type": "execute_result"
    }
   ],
   "source": [
    "T_A = -k*q1*N.z + k*q2*A.x\n",
    "T_B = -k*q2*A.x\n",
    "\n",
    "T_A, T_B"
   ]
  },
  {
   "cell_type": "code",
   "execution_count": 23,
   "id": "089cf140",
   "metadata": {
    "execution": {
     "iopub.execute_input": "2024-02-20T15:53:02.755275Z",
     "iopub.status.busy": "2024-02-20T15:53:02.755094Z",
     "iopub.status.idle": "2024-02-20T15:53:02.765307Z",
     "shell.execute_reply": "2024-02-20T15:53:02.764732Z"
    }
   },
   "outputs": [
    {
     "data": {
      "text/latex": [
       "$\\displaystyle \\left( - \\frac{g l m \\sin{\\left(q_{1} \\right)}}{2} - k q_{1}, \\  - g l m \\sin{\\left(q_{1} \\right)}, \\  0, \\  - k q_{2}\\right)$"
      ],
      "text/plain": [
       "⎛  g⋅l⋅m⋅sin(q₁)                                 ⎞\n",
       "⎜- ───────────── - k⋅q₁, -g⋅l⋅m⋅sin(q₁), 0, -k⋅q₂⎟\n",
       "⎝        2                                       ⎠"
      ]
     },
     "execution_count": 23,
     "metadata": {},
     "output_type": "execute_result"
    }
   ],
   "source": [
    "F1_A = v_Ao_1.dot(R_Ao) + w_A_1.dot(T_A)\n",
    "F1_B = v_Bo_1.dot(R_Bo) + w_B_1.dot(T_B)\n",
    "F2_A = v_Ao_2.dot(R_Ao) + w_A_2.dot(T_A)\n",
    "F2_B = v_Bo_2.dot(R_Bo) + w_B_2.dot(T_B)\n",
    "\n",
    "F1_A, F1_B, F2_A, F2_B"
   ]
  },
  {
   "cell_type": "code",
   "execution_count": 24,
   "id": "2f8d28a8",
   "metadata": {
    "execution": {
     "iopub.execute_input": "2024-02-20T15:53:02.767301Z",
     "iopub.status.busy": "2024-02-20T15:53:02.767107Z",
     "iopub.status.idle": "2024-02-20T15:53:02.773317Z",
     "shell.execute_reply": "2024-02-20T15:53:02.772803Z"
    }
   },
   "outputs": [
    {
     "data": {
      "text/latex": [
       "$\\displaystyle \\left[\\begin{matrix}- \\frac{3 g l m \\sin{\\left(q_{1} \\right)}}{2} - k q_{1}\\\\- k q_{2}\\end{matrix}\\right]$"
      ],
      "text/plain": [
       "⎡  3⋅g⋅l⋅m⋅sin(q₁)       ⎤\n",
       "⎢- ─────────────── - k⋅q₁⎥\n",
       "⎢         2              ⎥\n",
       "⎢                        ⎥\n",
       "⎣         -k⋅q₂          ⎦"
      ]
     },
     "execution_count": 24,
     "metadata": {},
     "output_type": "execute_result"
    }
   ],
   "source": [
    "F1 = F1_A + F1_B\n",
    "F2 = F2_A + F2_B\n",
    "\n",
    "Fr = sm.Matrix([F1, F2])\n",
    "Fr"
   ]
  },
  {
   "cell_type": "code",
   "execution_count": 25,
   "id": "ed457a77",
   "metadata": {
    "execution": {
     "iopub.execute_input": "2024-02-20T15:53:02.775181Z",
     "iopub.status.busy": "2024-02-20T15:53:02.774995Z",
     "iopub.status.idle": "2024-02-20T15:53:02.798404Z",
     "shell.execute_reply": "2024-02-20T15:53:02.797818Z"
    }
   },
   "outputs": [],
   "source": [
    "m, g, k, l = sm.symbols('m, g, k, l')\n",
    "q1, q2, u1, u2 = me.dynamicsymbols('q1, q2, u1, u2')\n",
    "\n",
    "N = me.ReferenceFrame('N')\n",
    "A = me.ReferenceFrame('A')\n",
    "B = me.ReferenceFrame('B')\n",
    "\n",
    "A.orient_axis(N, q1, N.z)\n",
    "B.orient_axis(A, q2, A.x)\n",
    "\n",
    "A.set_ang_vel(N, u1*N.z)\n",
    "B.set_ang_vel(A, u2*A.x)\n",
    "\n",
    "O = me.Point('O')\n",
    "Ao = me.Point('A_O')\n",
    "Bo = me.Point('B_O')\n",
    "\n",
    "Ao.set_pos(O, l/2*A.x)\n",
    "Bo.set_pos(O, l*A.x)\n",
    "\n",
    "O.set_vel(N, 0)\n",
    "Ao.v2pt_theory(O, N, A)\n",
    "Bo.v2pt_theory(O, N, A)\n",
    "\n",
    "v_Ao_1 = Ao.vel(N).diff(u1, N)\n",
    "v_Ao_2 = Ao.vel(N).diff(u2, N)\n",
    "v_Bo_1 = Bo.vel(N).diff(u1, N)\n",
    "v_Bo_2 = Bo.vel(N).diff(u2, N)\n",
    "\n",
    "w_A_1 = A.ang_vel_in(N).diff(u1, N)\n",
    "w_A_2 = A.ang_vel_in(N).diff(u2, N)\n",
    "w_B_1 = B.ang_vel_in(N).diff(u1, N)\n",
    "w_B_2 = B.ang_vel_in(N).diff(u2, N)"
   ]
  },
  {
   "cell_type": "code",
   "execution_count": 26,
   "id": "b44bdc87",
   "metadata": {
    "execution": {
     "iopub.execute_input": "2024-02-20T15:53:02.800885Z",
     "iopub.status.busy": "2024-02-20T15:53:02.800340Z",
     "iopub.status.idle": "2024-02-20T15:53:02.813891Z",
     "shell.execute_reply": "2024-02-20T15:53:02.813416Z"
    }
   },
   "outputs": [
    {
     "data": {
      "text/latex": [
       "$\\displaystyle \\left( -  \\frac{l u_{1}^{2}}{2}\\hat{a}_x + \\frac{l \\dot{u}_{1}}{2}\\hat{a}_y, \\  -  l u_{1}^{2}\\hat{a}_x + l \\dot{u}_{1}\\hat{a}_y\\right)$"
      ],
      "text/plain": [
       "⎛             2        ,              2       ⎞\n",
       "⎜ -l⋅u₁         l⋅u₁̇    -l⋅u₁  a_x + l⋅u₁̇ a_y⎟\n",
       "⎜─────── a_x + ──── a_y                       ⎟\n",
       "⎝      2           2                          ⎠"
      ]
     },
     "execution_count": 26,
     "metadata": {},
     "output_type": "execute_result"
    }
   ],
   "source": [
    "Ao.acc(N), Bo.acc(N)"
   ]
  },
  {
   "cell_type": "code",
   "execution_count": 27,
   "id": "7ab0406c",
   "metadata": {
    "execution": {
     "iopub.execute_input": "2024-02-20T15:53:02.815703Z",
     "iopub.status.busy": "2024-02-20T15:53:02.815524Z",
     "iopub.status.idle": "2024-02-20T15:53:02.825778Z",
     "shell.execute_reply": "2024-02-20T15:53:02.825295Z"
    }
   },
   "outputs": [
    {
     "data": {
      "text/latex": [
       "$\\displaystyle \\left( \\dot{u}_{1}\\hat{n}_z, \\  \\dot{u}_{2}\\hat{a}_x + u_{1} u_{2}\\hat{a}_y + \\dot{u}_{1}\\hat{n}_z\\right)$"
      ],
      "text/plain": [
       "(u₁̇ n_z, u₂̇ a_x + u₁⋅u₂ a_y + u₁̇ n_z)"
      ]
     },
     "execution_count": 27,
     "metadata": {},
     "output_type": "execute_result"
    }
   ],
   "source": [
    "A.ang_acc_in(N), B.ang_acc_in(N)"
   ]
  },
  {
   "cell_type": "code",
   "execution_count": 28,
   "id": "83dd141d",
   "metadata": {
    "execution": {
     "iopub.execute_input": "2024-02-20T15:53:02.827759Z",
     "iopub.status.busy": "2024-02-20T15:53:02.827399Z",
     "iopub.status.idle": "2024-02-20T15:53:02.831930Z",
     "shell.execute_reply": "2024-02-20T15:53:02.831390Z"
    }
   },
   "outputs": [
    {
     "data": {
      "text/latex": [
       "$\\displaystyle \\frac{l^{2} m}{12}$"
      ],
      "text/plain": [
       " 2  \n",
       "l ⋅m\n",
       "────\n",
       " 12 "
      ]
     },
     "execution_count": 28,
     "metadata": {},
     "output_type": "execute_result"
    }
   ],
   "source": [
    "I = m*l**2/12\n",
    "I"
   ]
  },
  {
   "cell_type": "code",
   "execution_count": 29,
   "id": "cdca7f67",
   "metadata": {
    "execution": {
     "iopub.execute_input": "2024-02-20T15:53:02.834176Z",
     "iopub.status.busy": "2024-02-20T15:53:02.833739Z",
     "iopub.status.idle": "2024-02-20T15:53:02.840795Z",
     "shell.execute_reply": "2024-02-20T15:53:02.840303Z"
    }
   },
   "outputs": [
    {
     "data": {
      "text/latex": [
       "$\\displaystyle \\left( \\frac{l^{2} m}{12}\\hat{a}_y\\otimes \\hat{a}_y + \\frac{l^{2} m}{12}\\hat{a}_z\\otimes \\hat{a}_z, \\  \\frac{l^{2} m}{12}\\hat{b}_x\\otimes \\hat{b}_x + \\frac{l^{2} m}{12}\\hat{b}_z\\otimes \\hat{b}_z\\right)$"
      ],
      "text/plain": [
       "⎛         2         ,          2         ⎞\n",
       "⎜        l ⋅m                 l ⋅m       ⎟\n",
       "⎜        ────                 ────       ⎟\n",
       "⎜ 12  a_y⊗a_y +  2     12  b_x⊗b_x +  2  ⎟\n",
       "⎜        l ⋅m                 l ⋅m       ⎟\n",
       "⎜        ────                 ────       ⎟\n",
       "⎝     12  a_z⊗a_z          12  b_z⊗b_z   ⎠"
      ]
     },
     "execution_count": 29,
     "metadata": {},
     "output_type": "execute_result"
    }
   ],
   "source": [
    "I_A_Ao = I*me.outer(A.y, A.y) + I*me.outer(A.z, A.z)\n",
    "I_B_Bo = I*me.outer(B.x, B.x) + I*me.outer(B.z, B.z)\n",
    "I_A_Ao, I_B_Bo"
   ]
  },
  {
   "cell_type": "code",
   "execution_count": 30,
   "id": "a06aec8a",
   "metadata": {
    "execution": {
     "iopub.execute_input": "2024-02-20T15:53:02.842846Z",
     "iopub.status.busy": "2024-02-20T15:53:02.842509Z",
     "iopub.status.idle": "2024-02-20T15:53:02.855182Z",
     "shell.execute_reply": "2024-02-20T15:53:02.854602Z"
    }
   },
   "outputs": [
    {
     "data": {
      "text/latex": [
       "$\\displaystyle \\left( \\frac{l m u_{1}^{2}}{2}\\hat{a}_x -  \\frac{l m \\dot{u}_{1}}{2}\\hat{a}_y, \\  l m u_{1}^{2}\\hat{a}_x -  l m \\dot{u}_{1}\\hat{a}_y\\right)$"
      ],
      "text/plain": [
       "⎛               2          ,                2         ⎞\n",
       "⎜  l⋅m⋅u₁        -l⋅m⋅u₁̇    l⋅m⋅u₁  a_x + -l⋅m⋅u₁̇ a_y⎟\n",
       "⎜─────── a_x + ──────── a_y                           ⎟\n",
       "⎝       2             2                               ⎠"
      ]
     },
     "execution_count": 30,
     "metadata": {},
     "output_type": "execute_result"
    }
   ],
   "source": [
    "Rs_Ao = -m*Ao.acc(N)\n",
    "Rs_Bo = -m*Bo.acc(N)\n",
    "\n",
    "Rs_Ao, Rs_Bo"
   ]
  },
  {
   "cell_type": "code",
   "execution_count": 31,
   "id": "130f6a35",
   "metadata": {
    "execution": {
     "iopub.execute_input": "2024-02-20T15:53:02.857246Z",
     "iopub.status.busy": "2024-02-20T15:53:02.856897Z",
     "iopub.status.idle": "2024-02-20T15:53:02.868331Z",
     "shell.execute_reply": "2024-02-20T15:53:02.867753Z"
    }
   },
   "outputs": [
    {
     "data": {
      "text/latex": [
       "$\\displaystyle -  \\frac{l^{2} m \\dot{u}_{1}}{12}\\hat{a}_z$"
      ],
      "text/plain": [
       "  2\n",
       "-l ⋅m⋅u₁̇\n",
       "───────── a_z\n",
       "    12"
      ]
     },
     "execution_count": 31,
     "metadata": {},
     "output_type": "execute_result"
    }
   ],
   "source": [
    "Ts_A = -(A.ang_acc_in(N).dot(I_A_Ao) +\n",
    "         me.cross(A.ang_vel_in(N), I_A_Ao).dot(A.ang_vel_in(N)))\n",
    "Ts_A"
   ]
  },
  {
   "cell_type": "code",
   "execution_count": 32,
   "id": "0d1dc765",
   "metadata": {
    "execution": {
     "iopub.execute_input": "2024-02-20T15:53:02.870335Z",
     "iopub.status.busy": "2024-02-20T15:53:02.870005Z",
     "iopub.status.idle": "2024-02-20T15:53:02.899769Z",
     "shell.execute_reply": "2024-02-20T15:53:02.899159Z"
    }
   },
   "outputs": [
    {
     "data": {
      "text/latex": [
       "$\\displaystyle (- \\frac{l^{2} m u_{1}^{2} \\sin{\\left(q_{2} \\right)} \\cos{\\left(q_{2} \\right)}}{12} - \\frac{l^{2} m \\dot{u}_{2}}{12})\\hat{b}_x + (- \\frac{l^{2} m \\left(- u_{1} u_{2} \\sin{\\left(q_{2} \\right)} + \\cos{\\left(q_{2} \\right)} \\dot{u}_{1}\\right)}{12} + \\frac{l^{2} m u_{1} u_{2} \\sin{\\left(q_{2} \\right)}}{12})\\hat{b}_z$"
      ],
      "text/plain": [
       "⎛   2     2                    2     ⎞       ⎛   2\n",
       "⎜  l ⋅m⋅u₁ ⋅sin(q₂)⋅cos(q₂)   l ⋅m⋅u₂̇⎟       ⎜  l ⋅m⋅(-u₁⋅u₂⋅sin(q₂) + cos(q₂\n",
       "⎜- ──────────────────────── - ───────⎟ b_x + ⎜- ──────────────────────────────\n",
       "⎝             12                 12  ⎠       ⎝                  12\n",
       "\n",
       "        2                ⎞\n",
       ")⋅u₁̇)   l ⋅m⋅u₁⋅u₂⋅sin(q₂)⎟\n",
       "──── + ──────────────────⎟ b_z\n",
       "               12        ⎠"
      ]
     },
     "execution_count": 32,
     "metadata": {},
     "output_type": "execute_result"
    }
   ],
   "source": [
    "Ts_B = -(B.ang_acc_in(N).dot(I_B_Bo) +\n",
    "         me.cross(B.ang_vel_in(N), I_B_Bo).dot(B.ang_vel_in(N)))\n",
    "Ts_B"
   ]
  },
  {
   "cell_type": "code",
   "execution_count": 33,
   "id": "7ba58b37",
   "metadata": {
    "execution": {
     "iopub.execute_input": "2024-02-20T15:53:02.902107Z",
     "iopub.status.busy": "2024-02-20T15:53:02.901538Z",
     "iopub.status.idle": "2024-02-20T15:53:02.916743Z",
     "shell.execute_reply": "2024-02-20T15:53:02.916249Z"
    }
   },
   "outputs": [],
   "source": [
    "F1s_A = v_Ao_1.dot(Rs_Ao) + w_A_1.dot(Ts_A)\n",
    "F1s_B = v_Bo_1.dot(Rs_Bo) + w_B_1.dot(Ts_B)\n",
    "F2s_A = v_Ao_2.dot(Rs_Ao) + w_A_2.dot(Ts_A)\n",
    "F2s_B = v_Bo_2.dot(Rs_Bo) + w_B_2.dot(Ts_B)"
   ]
  },
  {
   "cell_type": "code",
   "execution_count": 34,
   "id": "88faede1",
   "metadata": {
    "execution": {
     "iopub.execute_input": "2024-02-20T15:53:02.918948Z",
     "iopub.status.busy": "2024-02-20T15:53:02.918587Z",
     "iopub.status.idle": "2024-02-20T15:53:02.930699Z",
     "shell.execute_reply": "2024-02-20T15:53:02.930225Z"
    }
   },
   "outputs": [
    {
     "data": {
      "text/latex": [
       "$\\displaystyle \\left[\\begin{matrix}- \\frac{4 l^{2} m \\dot{u}_{1}}{3} + \\left(- \\frac{l^{2} m \\left(- u_{1} u_{2} \\sin{\\left(q_{2} \\right)} + \\cos{\\left(q_{2} \\right)} \\dot{u}_{1}\\right)}{12} + \\frac{l^{2} m u_{1} u_{2} \\sin{\\left(q_{2} \\right)}}{12}\\right) \\cos{\\left(q_{2} \\right)}\\\\- \\frac{l^{2} m u_{1}^{2} \\sin{\\left(q_{2} \\right)} \\cos{\\left(q_{2} \\right)}}{12} - \\frac{l^{2} m \\dot{u}_{2}}{12}\\end{matrix}\\right]$"
      ],
      "text/plain": [
       "⎡     2        ⎛   2                                    2                ⎞    \n",
       "⎢  4⋅l ⋅m⋅u₁̇   ⎜  l ⋅m⋅(-u₁⋅u₂⋅sin(q₂) + cos(q₂)⋅u₁̇)   l ⋅m⋅u₁⋅u₂⋅sin(q₂)⎟  \n",
       "⎢- ───────── + ⎜- ────────────────────────────────── + ──────────────────⎟⋅cos\n",
       "⎢      3       ⎝                  12                           12        ⎠    \n",
       "⎢                                                                             \n",
       "⎢                         2     2                    2                        \n",
       "⎢                        l ⋅m⋅u₁ ⋅sin(q₂)⋅cos(q₂)   l ⋅m⋅u₂̇                  \n",
       "⎢                      - ──────────────────────── - ───────                   \n",
       "⎣                                   12                 12                     \n",
       "\n",
       "    ⎤\n",
       "      ⎥\n",
       "(q₂)⎥\n",
       "    ⎥\n",
       "    ⎥\n",
       "    ⎥\n",
       "     ⎥\n",
       "    ⎥\n",
       "    ⎦"
      ]
     },
     "execution_count": 34,
     "metadata": {},
     "output_type": "execute_result"
    }
   ],
   "source": [
    "F1s = F1s_A + F1s_B\n",
    "F2s = F2s_A + F2s_B\n",
    "\n",
    "Frs = sm.Matrix([F1s, F2s])\n",
    "Frs"
   ]
  }
 ],
 "metadata": {
  "kernelspec": {
   "display_name": "Python 3 (ipykernel)",
   "language": "python",
   "name": "python3"
  },
  "language_info": {
   "codemirror_mode": {
    "name": "ipython",
    "version": 3
   },
   "file_extension": ".py",
   "mimetype": "text/x-python",
   "name": "python",
   "nbconvert_exporter": "python",
   "pygments_lexer": "ipython3",
   "version": "3.10.13"
  }
 },
 "nbformat": 4,
 "nbformat_minor": 5
}