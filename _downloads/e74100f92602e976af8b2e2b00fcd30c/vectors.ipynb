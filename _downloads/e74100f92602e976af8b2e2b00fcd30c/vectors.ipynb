{
 "cells": [
  {
   "cell_type": "code",
   "execution_count": 1,
   "id": "b11defcf",
   "metadata": {
    "execution": {
     "iopub.execute_input": "2024-02-20T15:58:08.639766Z",
     "iopub.status.busy": "2024-02-20T15:58:08.639589Z",
     "iopub.status.idle": "2024-02-20T15:58:09.011319Z",
     "shell.execute_reply": "2024-02-20T15:58:09.010668Z"
    }
   },
   "outputs": [],
   "source": [
    "import sympy as sm\n",
    "import sympy.physics.mechanics as me\n",
    "sm.init_printing(use_latex='mathjax')"
   ]
  },
  {
   "cell_type": "code",
   "execution_count": 2,
   "id": "ed7e68f6",
   "metadata": {
    "execution": {
     "iopub.execute_input": "2024-02-20T15:58:09.013958Z",
     "iopub.status.busy": "2024-02-20T15:58:09.013709Z",
     "iopub.status.idle": "2024-02-20T15:58:09.017727Z",
     "shell.execute_reply": "2024-02-20T15:58:09.017230Z"
    }
   },
   "outputs": [],
   "source": [
    "class ReferenceFrame(me.ReferenceFrame):\n",
    "\n",
    "    def __init__(self, *args, **kwargs):\n",
    "\n",
    "        kwargs.pop('latexs', None)\n",
    "\n",
    "        lab = args[0].lower()\n",
    "        tex = r'\\hat{{{}}}_{}'\n",
    "\n",
    "        super(ReferenceFrame, self).__init__(*args,\n",
    "                                             latexs=(tex.format(lab, 'x'),\n",
    "                                                     tex.format(lab, 'y'),\n",
    "                                                     tex.format(lab, 'z')),\n",
    "                                             **kwargs)\n",
    "me.ReferenceFrame = ReferenceFrame"
   ]
  },
  {
   "cell_type": "code",
   "execution_count": 3,
   "id": "204c3a38",
   "metadata": {
    "execution": {
     "iopub.execute_input": "2024-02-20T15:58:09.019798Z",
     "iopub.status.busy": "2024-02-20T15:58:09.019379Z",
     "iopub.status.idle": "2024-02-20T15:58:09.022374Z",
     "shell.execute_reply": "2024-02-20T15:58:09.021936Z"
    }
   },
   "outputs": [],
   "source": [
    "N = me.ReferenceFrame('N')"
   ]
  },
  {
   "cell_type": "code",
   "execution_count": 4,
   "id": "1d854042",
   "metadata": {
    "execution": {
     "iopub.execute_input": "2024-02-20T15:58:09.024234Z",
     "iopub.status.busy": "2024-02-20T15:58:09.024058Z",
     "iopub.status.idle": "2024-02-20T15:58:09.026725Z",
     "shell.execute_reply": "2024-02-20T15:58:09.026267Z"
    }
   },
   "outputs": [],
   "source": [
    "a, b, c, d, e, f = sm.symbols('a, b, c, d, e, f')"
   ]
  },
  {
   "cell_type": "code",
   "execution_count": 5,
   "id": "22d2df45",
   "metadata": {
    "execution": {
     "iopub.execute_input": "2024-02-20T15:58:09.028540Z",
     "iopub.status.busy": "2024-02-20T15:58:09.028350Z",
     "iopub.status.idle": "2024-02-20T15:58:09.033270Z",
     "shell.execute_reply": "2024-02-20T15:58:09.032811Z"
    }
   },
   "outputs": [
    {
     "data": {
      "text/latex": [
       "$\\displaystyle a\\hat{n}_x$"
      ],
      "text/plain": [
       "a n_x"
      ]
     },
     "execution_count": 5,
     "metadata": {},
     "output_type": "execute_result"
    }
   ],
   "source": [
    "v = a*N.x\n",
    "v"
   ]
  },
  {
   "cell_type": "code",
   "execution_count": 6,
   "id": "28e8b1e0",
   "metadata": {
    "execution": {
     "iopub.execute_input": "2024-02-20T15:58:09.035091Z",
     "iopub.status.busy": "2024-02-20T15:58:09.034917Z",
     "iopub.status.idle": "2024-02-20T15:58:09.039977Z",
     "shell.execute_reply": "2024-02-20T15:58:09.039520Z"
    }
   },
   "outputs": [
    {
     "data": {
      "text/latex": [
       "$\\displaystyle \\left[\\begin{matrix}a\\\\0\\\\0\\end{matrix}\\right]$"
      ],
      "text/plain": [
       "⎡a⎤\n",
       "⎢ ⎥\n",
       "⎢0⎥\n",
       "⎢ ⎥\n",
       "⎣0⎦"
      ]
     },
     "execution_count": 6,
     "metadata": {},
     "output_type": "execute_result"
    }
   ],
   "source": [
    "v.to_matrix(N)"
   ]
  },
  {
   "cell_type": "code",
   "execution_count": 7,
   "id": "c25e6f2a",
   "metadata": {
    "execution": {
     "iopub.execute_input": "2024-02-20T15:58:09.041938Z",
     "iopub.status.busy": "2024-02-20T15:58:09.041603Z",
     "iopub.status.idle": "2024-02-20T15:58:09.046265Z",
     "shell.execute_reply": "2024-02-20T15:58:09.045720Z"
    }
   },
   "outputs": [
    {
     "data": {
      "text/latex": [
       "$\\displaystyle a\\hat{n}_x + b\\hat{n}_y + c\\hat{n}_z$"
      ],
      "text/plain": [
       "a n_x + b n_y + c n_z"
      ]
     },
     "execution_count": 7,
     "metadata": {},
     "output_type": "execute_result"
    }
   ],
   "source": [
    "w = a*N.x + b*N.y + c*N.z\n",
    "w"
   ]
  },
  {
   "cell_type": "code",
   "execution_count": 8,
   "id": "99161485",
   "metadata": {
    "execution": {
     "iopub.execute_input": "2024-02-20T15:58:09.048182Z",
     "iopub.status.busy": "2024-02-20T15:58:09.048015Z",
     "iopub.status.idle": "2024-02-20T15:58:09.053437Z",
     "shell.execute_reply": "2024-02-20T15:58:09.052975Z"
    }
   },
   "outputs": [
    {
     "data": {
      "text/latex": [
       "$\\displaystyle \\left[\\begin{matrix}a\\\\b\\\\c\\end{matrix}\\right]$"
      ],
      "text/plain": [
       "⎡a⎤\n",
       "⎢ ⎥\n",
       "⎢b⎥\n",
       "⎢ ⎥\n",
       "⎣c⎦"
      ]
     },
     "execution_count": 8,
     "metadata": {},
     "output_type": "execute_result"
    }
   ],
   "source": [
    "w.to_matrix(N)"
   ]
  },
  {
   "cell_type": "code",
   "execution_count": 9,
   "id": "ae4c6a99",
   "metadata": {
    "execution": {
     "iopub.execute_input": "2024-02-20T15:58:09.055318Z",
     "iopub.status.busy": "2024-02-20T15:58:09.055143Z",
     "iopub.status.idle": "2024-02-20T15:58:09.059581Z",
     "shell.execute_reply": "2024-02-20T15:58:09.059127Z"
    }
   },
   "outputs": [
    {
     "data": {
      "text/latex": [
       "$\\displaystyle d\\hat{n}_x + e\\hat{n}_y + f\\hat{n}_z$"
      ],
      "text/plain": [
       "d n_x + e n_y + f n_z"
      ]
     },
     "execution_count": 9,
     "metadata": {},
     "output_type": "execute_result"
    }
   ],
   "source": [
    "x = d*N.x + e*N.y + f*N.z\n",
    "x"
   ]
  },
  {
   "cell_type": "code",
   "execution_count": 10,
   "id": "42b4fcd2",
   "metadata": {
    "execution": {
     "iopub.execute_input": "2024-02-20T15:58:09.061425Z",
     "iopub.status.busy": "2024-02-20T15:58:09.061247Z",
     "iopub.status.idle": "2024-02-20T15:58:09.066498Z",
     "shell.execute_reply": "2024-02-20T15:58:09.066034Z"
    }
   },
   "outputs": [
    {
     "data": {
      "text/latex": [
       "$\\displaystyle (a + d)\\hat{n}_x + (b + e)\\hat{n}_y + (c + f)\\hat{n}_z$"
      ],
      "text/plain": [
       "(a + d) n_x + (b + e) n_y + (c + f) n_z"
      ]
     },
     "execution_count": 10,
     "metadata": {},
     "output_type": "execute_result"
    }
   ],
   "source": [
    "w + x"
   ]
  },
  {
   "cell_type": "code",
   "execution_count": 11,
   "id": "5e06c047",
   "metadata": {
    "execution": {
     "iopub.execute_input": "2024-02-20T15:58:09.068280Z",
     "iopub.status.busy": "2024-02-20T15:58:09.068108Z",
     "iopub.status.idle": "2024-02-20T15:58:09.072830Z",
     "shell.execute_reply": "2024-02-20T15:58:09.072356Z"
    }
   },
   "outputs": [
    {
     "data": {
      "text/latex": [
       "$\\displaystyle 2 a\\hat{n}_x + 2 b\\hat{n}_y + 2 c\\hat{n}_z$"
      ],
      "text/plain": [
       "2⋅a n_x + 2⋅b n_y + 2⋅c n_z"
      ]
     },
     "execution_count": 11,
     "metadata": {},
     "output_type": "execute_result"
    }
   ],
   "source": [
    "y = 2*w\n",
    "y"
   ]
  },
  {
   "cell_type": "code",
   "execution_count": 12,
   "id": "ee9e095a",
   "metadata": {
    "execution": {
     "iopub.execute_input": "2024-02-20T15:58:09.074601Z",
     "iopub.status.busy": "2024-02-20T15:58:09.074426Z",
     "iopub.status.idle": "2024-02-20T15:58:09.078880Z",
     "shell.execute_reply": "2024-02-20T15:58:09.078418Z"
    }
   },
   "outputs": [
    {
     "data": {
      "text/latex": [
       "$\\displaystyle -  a\\hat{n}_x -  b\\hat{n}_y -  c\\hat{n}_z$"
      ],
      "text/plain": [
       "-a n_x + -b n_y + -c n_z"
      ]
     },
     "execution_count": 12,
     "metadata": {},
     "output_type": "execute_result"
    }
   ],
   "source": [
    "z = -w\n",
    "z"
   ]
  },
  {
   "cell_type": "code",
   "execution_count": 13,
   "id": "26a310ad",
   "metadata": {
    "execution": {
     "iopub.execute_input": "2024-02-20T15:58:09.080690Z",
     "iopub.status.busy": "2024-02-20T15:58:09.080517Z",
     "iopub.status.idle": "2024-02-20T15:58:09.083447Z",
     "shell.execute_reply": "2024-02-20T15:58:09.082965Z"
    }
   },
   "outputs": [],
   "source": [
    "N = me.ReferenceFrame('N')\n",
    "l, theta = sm.symbols('l, theta')"
   ]
  },
  {
   "cell_type": "code",
   "execution_count": 14,
   "id": "0fd28ac2",
   "metadata": {
    "execution": {
     "iopub.execute_input": "2024-02-20T15:58:09.085217Z",
     "iopub.status.busy": "2024-02-20T15:58:09.085047Z",
     "iopub.status.idle": "2024-02-20T15:58:09.093542Z",
     "shell.execute_reply": "2024-02-20T15:58:09.093077Z"
    }
   },
   "outputs": [
    {
     "data": {
      "text/latex": [
       "$\\displaystyle \\frac{\\sqrt{2} l}{2}\\hat{n}_x + \\frac{\\sqrt{2} l}{2}\\hat{n}_y$"
      ],
      "text/plain": [
       "√2⋅l       √2⋅l\n",
       "──── n_x + ──── n_y\n",
       " 2          2"
      ]
     },
     "execution_count": 14,
     "metadata": {},
     "output_type": "execute_result"
    }
   ],
   "source": [
    "v1 = l*sm.cos(sm.pi/4)*N.x + l*sm.sin(sm.pi/4)*N.y\n",
    "v1"
   ]
  },
  {
   "cell_type": "code",
   "execution_count": 15,
   "id": "c41f2f22",
   "metadata": {
    "execution": {
     "iopub.execute_input": "2024-02-20T15:58:09.095524Z",
     "iopub.status.busy": "2024-02-20T15:58:09.095162Z",
     "iopub.status.idle": "2024-02-20T15:58:09.099084Z",
     "shell.execute_reply": "2024-02-20T15:58:09.098557Z"
    }
   },
   "outputs": [
    {
     "data": {
      "text/latex": [
       "$\\displaystyle - 10\\hat{n}_y$"
      ],
      "text/plain": [
       "-10 n_y"
      ]
     },
     "execution_count": 15,
     "metadata": {},
     "output_type": "execute_result"
    }
   ],
   "source": [
    "v2 = -10*N.y\n",
    "v2"
   ]
  },
  {
   "cell_type": "code",
   "execution_count": 16,
   "id": "edf48ea9",
   "metadata": {
    "execution": {
     "iopub.execute_input": "2024-02-20T15:58:09.100902Z",
     "iopub.status.busy": "2024-02-20T15:58:09.100728Z",
     "iopub.status.idle": "2024-02-20T15:58:09.106770Z",
     "shell.execute_reply": "2024-02-20T15:58:09.106323Z"
    }
   },
   "outputs": [
    {
     "data": {
      "text/latex": [
       "$\\displaystyle -  l \\sin{\\left(\\theta \\right)}\\hat{n}_x + l \\cos{\\left(\\theta \\right)}\\hat{n}_y$"
      ],
      "text/plain": [
       "-l⋅sin(θ) n_x + l⋅cos(θ) n_y"
      ]
     },
     "execution_count": 16,
     "metadata": {},
     "output_type": "execute_result"
    }
   ],
   "source": [
    "v3 = -l*sm.sin(theta)*N.x + l*sm.cos(theta)*N.y\n",
    "v3"
   ]
  },
  {
   "cell_type": "code",
   "execution_count": 17,
   "id": "546b6f0e",
   "metadata": {
    "execution": {
     "iopub.execute_input": "2024-02-20T15:58:09.108639Z",
     "iopub.status.busy": "2024-02-20T15:58:09.108432Z",
     "iopub.status.idle": "2024-02-20T15:58:09.115765Z",
     "shell.execute_reply": "2024-02-20T15:58:09.115269Z"
    }
   },
   "outputs": [
    {
     "data": {
      "text/latex": [
       "$\\displaystyle (5 l \\sin{\\left(\\theta \\right)} + \\frac{\\sqrt{2} l}{2})\\hat{n}_x + (- 5 l \\cos{\\left(\\theta \\right)} + \\frac{\\sqrt{2} l}{2} - 10)\\hat{n}_y$"
      ],
      "text/plain": [
       "⎛             √2⋅l⎞       ⎛              √2⋅l     ⎞\n",
       "⎜5⋅l⋅sin(θ) + ────⎟ n_x + ⎜-5⋅l⋅cos(θ) + ──── - 10⎟ n_y\n",
       "⎝              2  ⎠       ⎝               2       ⎠"
      ]
     },
     "execution_count": 17,
     "metadata": {},
     "output_type": "execute_result"
    }
   ],
   "source": [
    "v1 + v2 - 5*v3"
   ]
  },
  {
   "cell_type": "code",
   "execution_count": 18,
   "id": "e69f87ea",
   "metadata": {
    "execution": {
     "iopub.execute_input": "2024-02-20T15:58:09.117800Z",
     "iopub.status.busy": "2024-02-20T15:58:09.117610Z",
     "iopub.status.idle": "2024-02-20T15:58:09.121960Z",
     "shell.execute_reply": "2024-02-20T15:58:09.121503Z"
    }
   },
   "outputs": [],
   "source": [
    "N = me.ReferenceFrame('N')\n",
    "w = a*N.x + b*N.y + c*N.z\n",
    "x = d*N.x + e*N.y + f*N.z"
   ]
  },
  {
   "cell_type": "code",
   "execution_count": 19,
   "id": "9c1c0d04",
   "metadata": {
    "execution": {
     "iopub.execute_input": "2024-02-20T15:58:09.123917Z",
     "iopub.status.busy": "2024-02-20T15:58:09.123735Z",
     "iopub.status.idle": "2024-02-20T15:58:09.129661Z",
     "shell.execute_reply": "2024-02-20T15:58:09.129118Z"
    }
   },
   "outputs": [
    {
     "data": {
      "text/latex": [
       "$\\displaystyle a d + b e + c f$"
      ],
      "text/plain": [
       "a⋅d + b⋅e + c⋅f"
      ]
     },
     "execution_count": 19,
     "metadata": {},
     "output_type": "execute_result"
    }
   ],
   "source": [
    "me.dot(w, x)"
   ]
  },
  {
   "cell_type": "code",
   "execution_count": 20,
   "id": "ca9d4002",
   "metadata": {
    "execution": {
     "iopub.execute_input": "2024-02-20T15:58:09.131680Z",
     "iopub.status.busy": "2024-02-20T15:58:09.131352Z",
     "iopub.status.idle": "2024-02-20T15:58:09.136346Z",
     "shell.execute_reply": "2024-02-20T15:58:09.135800Z"
    }
   },
   "outputs": [
    {
     "data": {
      "text/latex": [
       "$\\displaystyle a d + b e + c f$"
      ],
      "text/plain": [
       "a⋅d + b⋅e + c⋅f"
      ]
     },
     "execution_count": 20,
     "metadata": {},
     "output_type": "execute_result"
    }
   ],
   "source": [
    "w.dot(x)"
   ]
  },
  {
   "cell_type": "code",
   "execution_count": 21,
   "id": "ce11d9ba",
   "metadata": {
    "execution": {
     "iopub.execute_input": "2024-02-20T15:58:09.138493Z",
     "iopub.status.busy": "2024-02-20T15:58:09.138049Z",
     "iopub.status.idle": "2024-02-20T15:58:09.151517Z",
     "shell.execute_reply": "2024-02-20T15:58:09.151054Z"
    }
   },
   "outputs": [
    {
     "data": {
      "text/latex": [
       "$\\displaystyle \\frac{a}{\\sqrt{a^{2} + b^{2} + c^{2}}}\\hat{n}_x + \\frac{b}{\\sqrt{a^{2} + b^{2} + c^{2}}}\\hat{n}_y + \\frac{c}{\\sqrt{a^{2} + b^{2} + c^{2}}}\\hat{n}_z$"
      ],
      "text/plain": [
       "        a                       b                       c\n",
       "───────────────── n_x + ───────────────── n_y + ───────────────── n_z\n",
       "   ______________          ______________          ______________\n",
       "  ╱  2    2    2          ╱  2    2    2          ╱  2    2    2\n",
       "╲╱  a  + b  + c         ╲╱  a  + b  + c         ╲╱  a  + b  + c"
      ]
     },
     "execution_count": 21,
     "metadata": {},
     "output_type": "execute_result"
    }
   ],
   "source": [
    "w.normalize()"
   ]
  },
  {
   "cell_type": "code",
   "execution_count": 22,
   "id": "6d9e3623",
   "metadata": {
    "execution": {
     "iopub.execute_input": "2024-02-20T15:58:09.153587Z",
     "iopub.status.busy": "2024-02-20T15:58:09.153401Z",
     "iopub.status.idle": "2024-02-20T15:58:09.160516Z",
     "shell.execute_reply": "2024-02-20T15:58:09.159933Z"
    }
   },
   "outputs": [
    {
     "data": {
      "text/latex": [
       "$\\displaystyle \\frac{a}{\\sqrt{a^{2} + b^{2} + c^{2}}}\\hat{n}_x + \\frac{b}{\\sqrt{a^{2} + b^{2} + c^{2}}}\\hat{n}_y + \\frac{c}{\\sqrt{a^{2} + b^{2} + c^{2}}}\\hat{n}_z$"
      ],
      "text/plain": [
       "        a                       b                       c\n",
       "───────────────── n_x + ───────────────── n_y + ───────────────── n_z\n",
       "   ______________          ______________          ______________\n",
       "  ╱  2    2    2          ╱  2    2    2          ╱  2    2    2\n",
       "╲╱  a  + b  + c         ╲╱  a  + b  + c         ╲╱  a  + b  + c"
      ]
     },
     "execution_count": 22,
     "metadata": {},
     "output_type": "execute_result"
    }
   ],
   "source": [
    "def normalize(vector):\n",
    "    return vector/sm.sqrt(me.dot(vector, vector))\n",
    "\n",
    "normalize(w)"
   ]
  },
  {
   "cell_type": "code",
   "execution_count": 23,
   "id": "66c37590",
   "metadata": {
    "execution": {
     "iopub.execute_input": "2024-02-20T15:58:09.162352Z",
     "iopub.status.busy": "2024-02-20T15:58:09.162183Z",
     "iopub.status.idle": "2024-02-20T15:58:09.166870Z",
     "shell.execute_reply": "2024-02-20T15:58:09.166335Z"
    }
   },
   "outputs": [
    {
     "data": {
      "text/latex": [
       "$\\displaystyle \\sqrt{a^{2} + b^{2} + c^{2}}$"
      ],
      "text/plain": [
       "   ______________\n",
       "  ╱  2    2    2 \n",
       "╲╱  a  + b  + c  "
      ]
     },
     "execution_count": 23,
     "metadata": {},
     "output_type": "execute_result"
    }
   ],
   "source": [
    "w.magnitude()"
   ]
  },
  {
   "cell_type": "code",
   "execution_count": 24,
   "id": "26d7cafa",
   "metadata": {
    "execution": {
     "iopub.execute_input": "2024-02-20T15:58:09.168829Z",
     "iopub.status.busy": "2024-02-20T15:58:09.168658Z",
     "iopub.status.idle": "2024-02-20T15:58:09.176324Z",
     "shell.execute_reply": "2024-02-20T15:58:09.175842Z"
    }
   },
   "outputs": [
    {
     "data": {
      "text/latex": [
       "$\\displaystyle \\frac{a}{\\sqrt{a^{2} + b^{2} + c^{2}}}\\hat{n}_x + \\frac{b}{\\sqrt{a^{2} + b^{2} + c^{2}}}\\hat{n}_y + \\frac{c}{\\sqrt{a^{2} + b^{2} + c^{2}}}\\hat{n}_z$"
      ],
      "text/plain": [
       "        a                       b                       c\n",
       "───────────────── n_x + ───────────────── n_y + ───────────────── n_z\n",
       "   ______________          ______________          ______________\n",
       "  ╱  2    2    2          ╱  2    2    2          ╱  2    2    2\n",
       "╲╱  a  + b  + c         ╲╱  a  + b  + c         ╲╱  a  + b  + c"
      ]
     },
     "execution_count": 24,
     "metadata": {},
     "output_type": "execute_result"
    }
   ],
   "source": [
    "w/w.magnitude()"
   ]
  },
  {
   "cell_type": "code",
   "execution_count": 25,
   "id": "ba384b53",
   "metadata": {
    "execution": {
     "iopub.execute_input": "2024-02-20T15:58:09.178164Z",
     "iopub.status.busy": "2024-02-20T15:58:09.177996Z",
     "iopub.status.idle": "2024-02-20T15:58:09.182331Z",
     "shell.execute_reply": "2024-02-20T15:58:09.181855Z"
    }
   },
   "outputs": [],
   "source": [
    "N = me.ReferenceFrame('N')\n",
    "v1 = a*N.x + b*N.y + a*N.z\n",
    "v2 = b*N.x + a*N.y + b*N.z"
   ]
  },
  {
   "cell_type": "code",
   "execution_count": 26,
   "id": "f45c32a2",
   "metadata": {
    "execution": {
     "iopub.execute_input": "2024-02-20T15:58:09.184208Z",
     "iopub.status.busy": "2024-02-20T15:58:09.184027Z",
     "iopub.status.idle": "2024-02-20T15:58:09.200775Z",
     "shell.execute_reply": "2024-02-20T15:58:09.200177Z"
    }
   },
   "outputs": [
    {
     "data": {
      "text/latex": [
       "$\\displaystyle \\operatorname{acos}{\\left(\\frac{3 a b}{\\sqrt{a^{2} + 2 b^{2}} \\sqrt{2 a^{2} + b^{2}}} \\right)}$"
      ],
      "text/plain": [
       "    ⎛            3⋅a⋅b            ⎞\n",
       "acos⎜─────────────────────────────⎟\n",
       "    ⎜   ___________    ___________⎟\n",
       "    ⎜  ╱  2      2    ╱    2    2 ⎟\n",
       "    ⎝╲╱  a  + 2⋅b  ⋅╲╱  2⋅a  + b  ⎠"
      ]
     },
     "execution_count": 26,
     "metadata": {},
     "output_type": "execute_result"
    }
   ],
   "source": [
    "sm.acos(v1.dot(v2) / (v1.magnitude()*v2.magnitude()))"
   ]
  },
  {
   "cell_type": "code",
   "execution_count": 27,
   "id": "f3f746e7",
   "metadata": {
    "execution": {
     "iopub.execute_input": "2024-02-20T15:58:09.202933Z",
     "iopub.status.busy": "2024-02-20T15:58:09.202594Z",
     "iopub.status.idle": "2024-02-20T15:58:09.207687Z",
     "shell.execute_reply": "2024-02-20T15:58:09.207209Z"
    }
   },
   "outputs": [
    {
     "data": {
      "text/latex": [
       "$\\displaystyle a\\hat{n}_x + b\\hat{n}_y + c\\hat{n}_z$"
      ],
      "text/plain": [
       "a n_x + b n_y + c n_z"
      ]
     },
     "execution_count": 27,
     "metadata": {},
     "output_type": "execute_result"
    }
   ],
   "source": [
    "N = me.ReferenceFrame('N')\n",
    "w = a*N.x + b*N.y + c*N.z\n",
    "w"
   ]
  },
  {
   "cell_type": "code",
   "execution_count": 28,
   "id": "2d8ce97d",
   "metadata": {
    "execution": {
     "iopub.execute_input": "2024-02-20T15:58:09.209795Z",
     "iopub.status.busy": "2024-02-20T15:58:09.209351Z",
     "iopub.status.idle": "2024-02-20T15:58:09.213899Z",
     "shell.execute_reply": "2024-02-20T15:58:09.213428Z"
    }
   },
   "outputs": [
    {
     "data": {
      "text/latex": [
       "$\\displaystyle d\\hat{n}_x + e\\hat{n}_y + f\\hat{n}_z$"
      ],
      "text/plain": [
       "d n_x + e n_y + f n_z"
      ]
     },
     "execution_count": 28,
     "metadata": {},
     "output_type": "execute_result"
    }
   ],
   "source": [
    "x = d*N.x + e*N.y + f*N.z\n",
    "x"
   ]
  },
  {
   "cell_type": "code",
   "execution_count": 29,
   "id": "4b29b170",
   "metadata": {
    "execution": {
     "iopub.execute_input": "2024-02-20T15:58:09.215733Z",
     "iopub.status.busy": "2024-02-20T15:58:09.215557Z",
     "iopub.status.idle": "2024-02-20T15:58:09.224219Z",
     "shell.execute_reply": "2024-02-20T15:58:09.223751Z"
    }
   },
   "outputs": [
    {
     "data": {
      "text/latex": [
       "$\\displaystyle (b f - c e)\\hat{n}_x + (- a f + c d)\\hat{n}_y + (a e - b d)\\hat{n}_z$"
      ],
      "text/plain": [
       "(b⋅f - c⋅e) n_x + (-a⋅f + c⋅d) n_y + (a⋅e - b⋅d) n_z"
      ]
     },
     "execution_count": 29,
     "metadata": {},
     "output_type": "execute_result"
    }
   ],
   "source": [
    "me.cross(w, x)"
   ]
  },
  {
   "cell_type": "code",
   "execution_count": 30,
   "id": "3815612c",
   "metadata": {
    "execution": {
     "iopub.execute_input": "2024-02-20T15:58:09.226079Z",
     "iopub.status.busy": "2024-02-20T15:58:09.225899Z",
     "iopub.status.idle": "2024-02-20T15:58:09.233463Z",
     "shell.execute_reply": "2024-02-20T15:58:09.232993Z"
    }
   },
   "outputs": [
    {
     "data": {
      "text/latex": [
       "$\\displaystyle (b f - c e)\\hat{n}_x + (- a f + c d)\\hat{n}_y + (a e - b d)\\hat{n}_z$"
      ],
      "text/plain": [
       "(b⋅f - c⋅e) n_x + (-a⋅f + c⋅d) n_y + (a⋅e - b⋅d) n_z"
      ]
     },
     "execution_count": 30,
     "metadata": {},
     "output_type": "execute_result"
    }
   ],
   "source": [
    "w.cross(x)"
   ]
  },
  {
   "cell_type": "code",
   "execution_count": 31,
   "id": "5aeba69a",
   "metadata": {
    "execution": {
     "iopub.execute_input": "2024-02-20T15:58:09.235274Z",
     "iopub.status.busy": "2024-02-20T15:58:09.235095Z",
     "iopub.status.idle": "2024-02-20T15:58:09.243710Z",
     "shell.execute_reply": "2024-02-20T15:58:09.243130Z"
    }
   },
   "outputs": [
    {
     "data": {
      "text/latex": [
       "$\\displaystyle \\sqrt{36077}$"
      ],
      "text/plain": [
       "√36077"
      ]
     },
     "execution_count": 31,
     "metadata": {},
     "output_type": "execute_result"
    }
   ],
   "source": [
    "N = me.ReferenceFrame('N')\n",
    "\n",
    "p1 = 23*N.x - 12* N.y\n",
    "p2 = 16*N.x + 2*N.y - 4*N.z\n",
    "p3 = N.x + 14*N.z\n",
    "\n",
    "me.cross(p2 - p1, p3 - p1).magnitude() / 2"
   ]
  },
  {
   "cell_type": "code",
   "execution_count": 32,
   "id": "fea34aab",
   "metadata": {
    "execution": {
     "iopub.execute_input": "2024-02-20T15:58:09.245813Z",
     "iopub.status.busy": "2024-02-20T15:58:09.245641Z",
     "iopub.status.idle": "2024-02-20T15:58:09.251193Z",
     "shell.execute_reply": "2024-02-20T15:58:09.250723Z"
    }
   },
   "outputs": [
    {
     "data": {
      "text/latex": [
       "$\\displaystyle a\\hat{a}_x + b\\hat{n}_y$"
      ],
      "text/plain": [
       "a a_x + b n_y"
      ]
     },
     "execution_count": 32,
     "metadata": {},
     "output_type": "execute_result"
    }
   ],
   "source": [
    "N = me.ReferenceFrame('N')\n",
    "A = me.ReferenceFrame('A')\n",
    "\n",
    "a, b, theta = sm.symbols('a, b, theta')\n",
    "\n",
    "v = a*A.x + b*N.y\n",
    "v"
   ]
  },
  {
   "cell_type": "code",
   "execution_count": 33,
   "id": "ed9df8aa",
   "metadata": {
    "execution": {
     "iopub.execute_input": "2024-02-20T15:58:09.253351Z",
     "iopub.status.busy": "2024-02-20T15:58:09.252983Z",
     "iopub.status.idle": "2024-02-20T15:58:09.257425Z",
     "shell.execute_reply": "2024-02-20T15:58:09.256905Z"
    }
   },
   "outputs": [
    {
     "data": {
      "text/latex": [
       "$\\displaystyle 2 a\\hat{a}_x + 2 b\\hat{n}_y$"
      ],
      "text/plain": [
       "2⋅a a_x + 2⋅b n_y"
      ]
     },
     "execution_count": 33,
     "metadata": {},
     "output_type": "execute_result"
    }
   ],
   "source": [
    "v + v"
   ]
  },
  {
   "cell_type": "code",
   "execution_count": 34,
   "id": "842d0839",
   "metadata": {
    "execution": {
     "iopub.execute_input": "2024-02-20T15:58:09.259278Z",
     "iopub.status.busy": "2024-02-20T15:58:09.259106Z",
     "iopub.status.idle": "2024-02-20T15:58:09.268505Z",
     "shell.execute_reply": "2024-02-20T15:58:09.267891Z"
    }
   },
   "outputs": [
    {
     "data": {
      "text/latex": [
       "$\\displaystyle a \\cos{\\left(\\theta \\right)}\\hat{n}_x + (a \\sin{\\left(\\theta \\right)} + b)\\hat{n}_y$"
      ],
      "text/plain": [
       "a⋅cos(θ) n_x + (a⋅sin(θ) + b) n_y"
      ]
     },
     "execution_count": 34,
     "metadata": {},
     "output_type": "execute_result"
    }
   ],
   "source": [
    "A.orient_axis(N, theta, N.z)\n",
    "\n",
    "v.express(N)"
   ]
  },
  {
   "cell_type": "code",
   "execution_count": 35,
   "id": "37bd0a07",
   "metadata": {
    "execution": {
     "iopub.execute_input": "2024-02-20T15:58:09.270817Z",
     "iopub.status.busy": "2024-02-20T15:58:09.270430Z",
     "iopub.status.idle": "2024-02-20T15:58:09.277178Z",
     "shell.execute_reply": "2024-02-20T15:58:09.276493Z"
    }
   },
   "outputs": [
    {
     "data": {
      "text/latex": [
       "$\\displaystyle (a + b \\sin{\\left(\\theta \\right)})\\hat{a}_x + b \\cos{\\left(\\theta \\right)}\\hat{a}_y$"
      ],
      "text/plain": [
       "(a + b⋅sin(θ)) a_x + b⋅cos(θ) a_y"
      ]
     },
     "execution_count": 35,
     "metadata": {},
     "output_type": "execute_result"
    }
   ],
   "source": [
    "v.express(A)"
   ]
  },
  {
   "cell_type": "code",
   "execution_count": 36,
   "id": "dd554b3c",
   "metadata": {
    "execution": {
     "iopub.execute_input": "2024-02-20T15:58:09.279696Z",
     "iopub.status.busy": "2024-02-20T15:58:09.279438Z",
     "iopub.status.idle": "2024-02-20T15:58:09.284948Z",
     "shell.execute_reply": "2024-02-20T15:58:09.284254Z"
    }
   },
   "outputs": [],
   "source": [
    "q1, q2, q3, q4, q5 = sm.symbols('q1, q2, q3, q4, q5')\n",
    "l1, l2, l3, l4 = sm.symbols('l1, l2, l3, l4')\n",
    "N = me.ReferenceFrame('N')\n",
    "A = me.ReferenceFrame('A')\n",
    "B = me.ReferenceFrame('B')\n",
    "C = me.ReferenceFrame('C')"
   ]
  },
  {
   "cell_type": "code",
   "execution_count": 37,
   "id": "bceac7d3",
   "metadata": {
    "execution": {
     "iopub.execute_input": "2024-02-20T15:58:09.287240Z",
     "iopub.status.busy": "2024-02-20T15:58:09.287020Z",
     "iopub.status.idle": "2024-02-20T15:58:09.306792Z",
     "shell.execute_reply": "2024-02-20T15:58:09.306218Z"
    }
   },
   "outputs": [],
   "source": [
    "A.orient_body_fixed(N, (q1, q2, 0), 'ZXZ')"
   ]
  },
  {
   "cell_type": "code",
   "execution_count": 38,
   "id": "58d319a5",
   "metadata": {
    "execution": {
     "iopub.execute_input": "2024-02-20T15:58:09.309155Z",
     "iopub.status.busy": "2024-02-20T15:58:09.308709Z",
     "iopub.status.idle": "2024-02-20T15:58:09.314061Z",
     "shell.execute_reply": "2024-02-20T15:58:09.313451Z"
    }
   },
   "outputs": [],
   "source": [
    "B.orient_axis(A, q3, A.x)"
   ]
  },
  {
   "cell_type": "code",
   "execution_count": 39,
   "id": "824cf1b4",
   "metadata": {
    "execution": {
     "iopub.execute_input": "2024-02-20T15:58:09.316196Z",
     "iopub.status.busy": "2024-02-20T15:58:09.315830Z",
     "iopub.status.idle": "2024-02-20T15:58:09.335359Z",
     "shell.execute_reply": "2024-02-20T15:58:09.334734Z"
    }
   },
   "outputs": [],
   "source": [
    "C.orient_body_fixed(B, (q4, q5, 0), 'XZX')"
   ]
  },
  {
   "cell_type": "code",
   "execution_count": 40,
   "id": "5919da41",
   "metadata": {
    "execution": {
     "iopub.execute_input": "2024-02-20T15:58:09.337871Z",
     "iopub.status.busy": "2024-02-20T15:58:09.337443Z",
     "iopub.status.idle": "2024-02-20T15:58:09.342610Z",
     "shell.execute_reply": "2024-02-20T15:58:09.341597Z"
    }
   },
   "outputs": [],
   "source": [
    "R_P1_P2 = l1*A.z\n",
    "R_P2_P3 = l2*B.z\n",
    "R_P3_P4 = l3*C.z - l4*C.y"
   ]
  },
  {
   "cell_type": "code",
   "execution_count": 41,
   "id": "e1f29e81",
   "metadata": {
    "execution": {
     "iopub.execute_input": "2024-02-20T15:58:09.347683Z",
     "iopub.status.busy": "2024-02-20T15:58:09.346593Z",
     "iopub.status.idle": "2024-02-20T15:58:09.356949Z",
     "shell.execute_reply": "2024-02-20T15:58:09.355849Z"
    }
   },
   "outputs": [
    {
     "data": {
      "text/latex": [
       "$\\displaystyle l_{1}\\hat{a}_z + l_{2}\\hat{b}_z -  l_{4}\\hat{c}_y + l_{3}\\hat{c}_z$"
      ],
      "text/plain": [
       "l₁ a_z + l₂ b_z + -l₄ c_y + l₃ c_z"
      ]
     },
     "execution_count": 41,
     "metadata": {},
     "output_type": "execute_result"
    }
   ],
   "source": [
    "R_P1_P4 = R_P1_P2 + R_P2_P3 + R_P3_P4\n",
    "R_P1_P4"
   ]
  },
  {
   "cell_type": "code",
   "execution_count": 42,
   "id": "42a5bbef",
   "metadata": {
    "execution": {
     "iopub.execute_input": "2024-02-20T15:58:09.360240Z",
     "iopub.status.busy": "2024-02-20T15:58:09.359982Z",
     "iopub.status.idle": "2024-02-20T15:58:09.437901Z",
     "shell.execute_reply": "2024-02-20T15:58:09.437342Z"
    }
   },
   "outputs": [
    {
     "data": {
      "text/latex": [
       "$\\displaystyle (l_{1} \\sin{\\left(q_{1} \\right)} \\sin{\\left(q_{2} \\right)} + l_{2} \\left(\\sin{\\left(q_{1} \\right)} \\sin{\\left(q_{2} \\right)} \\cos{\\left(q_{3} \\right)} + \\sin{\\left(q_{1} \\right)} \\sin{\\left(q_{3} \\right)} \\cos{\\left(q_{2} \\right)}\\right) + l_{3} \\left(- \\left(\\sin{\\left(q_{1} \\right)} \\sin{\\left(q_{2} \\right)} \\sin{\\left(q_{3} \\right)} - \\sin{\\left(q_{1} \\right)} \\cos{\\left(q_{2} \\right)} \\cos{\\left(q_{3} \\right)}\\right) \\sin{\\left(q_{4} \\right)} + \\left(\\sin{\\left(q_{1} \\right)} \\sin{\\left(q_{2} \\right)} \\cos{\\left(q_{3} \\right)} + \\sin{\\left(q_{1} \\right)} \\sin{\\left(q_{3} \\right)} \\cos{\\left(q_{2} \\right)}\\right) \\cos{\\left(q_{4} \\right)}\\right) - l_{4} \\left(\\left(\\sin{\\left(q_{1} \\right)} \\sin{\\left(q_{2} \\right)} \\sin{\\left(q_{3} \\right)} - \\sin{\\left(q_{1} \\right)} \\cos{\\left(q_{2} \\right)} \\cos{\\left(q_{3} \\right)}\\right) \\cos{\\left(q_{4} \\right)} \\cos{\\left(q_{5} \\right)} + \\left(\\sin{\\left(q_{1} \\right)} \\sin{\\left(q_{2} \\right)} \\cos{\\left(q_{3} \\right)} + \\sin{\\left(q_{1} \\right)} \\sin{\\left(q_{3} \\right)} \\cos{\\left(q_{2} \\right)}\\right) \\sin{\\left(q_{4} \\right)} \\cos{\\left(q_{5} \\right)} - \\sin{\\left(q_{5} \\right)} \\cos{\\left(q_{1} \\right)}\\right))\\hat{n}_x + (- l_{1} \\sin{\\left(q_{2} \\right)} \\cos{\\left(q_{1} \\right)} + l_{2} \\left(- \\sin{\\left(q_{2} \\right)} \\cos{\\left(q_{1} \\right)} \\cos{\\left(q_{3} \\right)} - \\sin{\\left(q_{3} \\right)} \\cos{\\left(q_{1} \\right)} \\cos{\\left(q_{2} \\right)}\\right) + l_{3} \\left(- \\left(- \\sin{\\left(q_{2} \\right)} \\sin{\\left(q_{3} \\right)} \\cos{\\left(q_{1} \\right)} + \\cos{\\left(q_{1} \\right)} \\cos{\\left(q_{2} \\right)} \\cos{\\left(q_{3} \\right)}\\right) \\sin{\\left(q_{4} \\right)} + \\left(- \\sin{\\left(q_{2} \\right)} \\cos{\\left(q_{1} \\right)} \\cos{\\left(q_{3} \\right)} - \\sin{\\left(q_{3} \\right)} \\cos{\\left(q_{1} \\right)} \\cos{\\left(q_{2} \\right)}\\right) \\cos{\\left(q_{4} \\right)}\\right) - l_{4} \\left(\\left(- \\sin{\\left(q_{2} \\right)} \\sin{\\left(q_{3} \\right)} \\cos{\\left(q_{1} \\right)} + \\cos{\\left(q_{1} \\right)} \\cos{\\left(q_{2} \\right)} \\cos{\\left(q_{3} \\right)}\\right) \\cos{\\left(q_{4} \\right)} \\cos{\\left(q_{5} \\right)} + \\left(- \\sin{\\left(q_{2} \\right)} \\cos{\\left(q_{1} \\right)} \\cos{\\left(q_{3} \\right)} - \\sin{\\left(q_{3} \\right)} \\cos{\\left(q_{1} \\right)} \\cos{\\left(q_{2} \\right)}\\right) \\sin{\\left(q_{4} \\right)} \\cos{\\left(q_{5} \\right)} - \\sin{\\left(q_{1} \\right)} \\sin{\\left(q_{5} \\right)}\\right))\\hat{n}_y + (l_{1} \\cos{\\left(q_{2} \\right)} + l_{2} \\left(- \\sin{\\left(q_{2} \\right)} \\sin{\\left(q_{3} \\right)} + \\cos{\\left(q_{2} \\right)} \\cos{\\left(q_{3} \\right)}\\right) + l_{3} \\left(\\left(- \\sin{\\left(q_{2} \\right)} \\sin{\\left(q_{3} \\right)} + \\cos{\\left(q_{2} \\right)} \\cos{\\left(q_{3} \\right)}\\right) \\cos{\\left(q_{4} \\right)} - \\left(\\sin{\\left(q_{2} \\right)} \\cos{\\left(q_{3} \\right)} + \\sin{\\left(q_{3} \\right)} \\cos{\\left(q_{2} \\right)}\\right) \\sin{\\left(q_{4} \\right)}\\right) - l_{4} \\left(\\left(- \\sin{\\left(q_{2} \\right)} \\sin{\\left(q_{3} \\right)} + \\cos{\\left(q_{2} \\right)} \\cos{\\left(q_{3} \\right)}\\right) \\sin{\\left(q_{4} \\right)} \\cos{\\left(q_{5} \\right)} + \\left(\\sin{\\left(q_{2} \\right)} \\cos{\\left(q_{3} \\right)} + \\sin{\\left(q_{3} \\right)} \\cos{\\left(q_{2} \\right)}\\right) \\cos{\\left(q_{4} \\right)} \\cos{\\left(q_{5} \\right)}\\right))\\hat{n}_z$"
      ],
      "text/plain": [
       "(l₁⋅sin(q₁)⋅sin(q₂) + l₂⋅(sin(q₁)⋅sin(q₂)⋅cos(q₃) + sin(q₁)⋅sin(q₃)⋅cos(q₂)) +\n",
       " l₃⋅(-(sin(q₁)⋅sin(q₂)⋅sin(q₃) - sin(q₁)⋅cos(q₂)⋅cos(q₃))⋅sin(q₄) + (sin(q₁)⋅s\n",
       "in(q₂)⋅cos(q₃) + sin(q₁)⋅sin(q₃)⋅cos(q₂))⋅cos(q₄)) - l₄⋅((sin(q₁)⋅sin(q₂)⋅sin(\n",
       "q₃) - sin(q₁)⋅cos(q₂)⋅cos(q₃))⋅cos(q₄)⋅cos(q₅) + (sin(q₁)⋅sin(q₂)⋅cos(q₃) + si\n",
       "n(q₁)⋅sin(q₃)⋅cos(q₂))⋅sin(q₄)⋅cos(q₅) - sin(q₅)⋅cos(q₁))) n_x + (-l₁⋅sin(q₂)⋅\n",
       "cos(q₁) + l₂⋅(-sin(q₂)⋅cos(q₁)⋅cos(q₃) - sin(q₃)⋅cos(q₁)⋅cos(q₂)) + l₃⋅(-(-sin\n",
       "(q₂)⋅sin(q₃)⋅cos(q₁) + cos(q₁)⋅cos(q₂)⋅cos(q₃))⋅sin(q₄) + (-sin(q₂)⋅cos(q₁)⋅co\n",
       "s(q₃) - sin(q₃)⋅cos(q₁)⋅cos(q₂))⋅cos(q₄)) - l₄⋅((-sin(q₂)⋅sin(q₃)⋅cos(q₁) + co\n",
       "s(q₁)⋅cos(q₂)⋅cos(q₃))⋅cos(q₄)⋅cos(q₅) + (-sin(q₂)⋅cos(q₁)⋅cos(q₃) - sin(q₃)⋅c\n",
       "os(q₁)⋅cos(q₂))⋅sin(q₄)⋅cos(q₅) - sin(q₁)⋅sin(q₅))) n_y + (l₁⋅cos(q₂) + l₂⋅(-s\n",
       "in(q₂)⋅sin(q₃) + cos(q₂)⋅cos(q₃)) + l₃⋅((-sin(q₂)⋅sin(q₃) + cos(q₂)⋅cos(q₃))⋅c\n",
       "os(q₄) - (sin(q₂)⋅cos(q₃) + sin(q₃)⋅cos(q₂))⋅sin(q₄)) - l₄⋅((-sin(q₂)⋅sin(q₃)\n",
       "+ cos(q₂)⋅cos(q₃))⋅sin(q₄)⋅cos(q₅) + (sin(q₂)⋅cos(q₃) + sin(q₃)⋅cos(q₂))⋅cos(q\n",
       "₄)⋅cos(q₅))) n_z"
      ]
     },
     "execution_count": 42,
     "metadata": {},
     "output_type": "execute_result"
    }
   ],
   "source": [
    "R_P1_P4.express(N)"
   ]
  },
  {
   "cell_type": "code",
   "execution_count": 43,
   "id": "a2b7f110",
   "metadata": {
    "execution": {
     "iopub.execute_input": "2024-02-20T15:58:09.440076Z",
     "iopub.status.busy": "2024-02-20T15:58:09.439861Z",
     "iopub.status.idle": "2024-02-20T15:58:09.445678Z",
     "shell.execute_reply": "2024-02-20T15:58:09.445090Z"
    }
   },
   "outputs": [
    {
     "data": {
      "text/latex": [
       "$\\displaystyle l_{1} \\sin{\\left(q_{1} \\right)} \\sin{\\left(q_{2} \\right)}\\hat{n}_x -  l_{1} \\sin{\\left(q_{2} \\right)} \\cos{\\left(q_{1} \\right)}\\hat{n}_y + l_{1} \\cos{\\left(q_{2} \\right)}\\hat{n}_z$"
      ],
      "text/plain": [
       "l₁⋅sin(q₁)⋅sin(q₂) n_x + -l₁⋅sin(q₂)⋅cos(q₁) n_y + l₁⋅cos(q₂) n_z"
      ]
     },
     "execution_count": 43,
     "metadata": {},
     "output_type": "execute_result"
    }
   ],
   "source": [
    "R_P1_P2.express(N)"
   ]
  },
  {
   "cell_type": "code",
   "execution_count": 44,
   "id": "0ea91067",
   "metadata": {
    "execution": {
     "iopub.execute_input": "2024-02-20T15:58:09.447730Z",
     "iopub.status.busy": "2024-02-20T15:58:09.447421Z",
     "iopub.status.idle": "2024-02-20T15:58:09.452255Z",
     "shell.execute_reply": "2024-02-20T15:58:09.451654Z"
    }
   },
   "outputs": [
    {
     "data": {
      "text/latex": [
       "$\\displaystyle \\left\\{l_{1}, q_{1}, q_{2}\\right\\}$"
      ],
      "text/plain": [
       "{l₁, q₁, q₂}"
      ]
     },
     "execution_count": 44,
     "metadata": {},
     "output_type": "execute_result"
    }
   ],
   "source": [
    "R_P1_P2.free_symbols(N)"
   ]
  },
  {
   "cell_type": "code",
   "execution_count": 45,
   "id": "733f37df",
   "metadata": {
    "execution": {
     "iopub.execute_input": "2024-02-20T15:58:09.455139Z",
     "iopub.status.busy": "2024-02-20T15:58:09.454562Z",
     "iopub.status.idle": "2024-02-20T15:58:09.461560Z",
     "shell.execute_reply": "2024-02-20T15:58:09.460858Z"
    }
   },
   "outputs": [
    {
     "data": {
      "text/latex": [
       "$\\displaystyle \\left\\{l_{1}\\right\\}$"
      ],
      "text/plain": [
       "{l₁}"
      ]
     },
     "execution_count": 45,
     "metadata": {},
     "output_type": "execute_result"
    }
   ],
   "source": [
    "R_P1_P2.free_symbols(A)"
   ]
  },
  {
   "cell_type": "code",
   "execution_count": 46,
   "id": "cd48a1d1",
   "metadata": {
    "execution": {
     "iopub.execute_input": "2024-02-20T15:58:09.464485Z",
     "iopub.status.busy": "2024-02-20T15:58:09.464197Z",
     "iopub.status.idle": "2024-02-20T15:58:09.472811Z",
     "shell.execute_reply": "2024-02-20T15:58:09.472322Z"
    }
   },
   "outputs": [
    {
     "data": {
      "text/latex": [
       "$\\displaystyle \\left\\{l_{1}, l_{2}, l_{3}, l_{4}, q_{1}, q_{2}, q_{3}, q_{4}, q_{5}\\right\\}$"
      ],
      "text/plain": [
       "{l₁, l₂, l₃, l₄, q₁, q₂, q₃, q₄, q₅}"
      ]
     },
     "execution_count": 46,
     "metadata": {},
     "output_type": "execute_result"
    }
   ],
   "source": [
    "R_P1_P4.free_symbols(N)"
   ]
  }
 ],
 "metadata": {
  "kernelspec": {
   "display_name": "Python 3 (ipykernel)",
   "language": "python",
   "name": "python3"
  },
  "language_info": {
   "codemirror_mode": {
    "name": "ipython",
    "version": 3
   },
   "file_extension": ".py",
   "mimetype": "text/x-python",
   "name": "python",
   "nbconvert_exporter": "python",
   "pygments_lexer": "ipython3",
   "version": "3.10.13"
  }
 },
 "nbformat": 4,
 "nbformat_minor": 5
}