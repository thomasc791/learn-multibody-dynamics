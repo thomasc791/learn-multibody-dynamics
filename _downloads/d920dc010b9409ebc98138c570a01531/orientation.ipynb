{
 "cells": [
  {
   "cell_type": "code",
   "execution_count": 1,
   "id": "363e8b8b",
   "metadata": {
    "execution": {
     "iopub.execute_input": "2024-02-20T15:56:49.470443Z",
     "iopub.status.busy": "2024-02-20T15:56:49.469975Z",
     "iopub.status.idle": "2024-02-20T15:56:49.699187Z",
     "shell.execute_reply": "2024-02-20T15:56:49.698601Z"
    }
   },
   "outputs": [],
   "source": [
    "import sympy as sm\n",
    "sm.init_printing(use_latex='mathjax')"
   ]
  },
  {
   "cell_type": "code",
   "execution_count": 2,
   "id": "8460bea3",
   "metadata": {
    "execution": {
     "iopub.execute_input": "2024-02-20T15:56:49.701727Z",
     "iopub.status.busy": "2024-02-20T15:56:49.701487Z",
     "iopub.status.idle": "2024-02-20T15:56:49.852589Z",
     "shell.execute_reply": "2024-02-20T15:56:49.851993Z"
    }
   },
   "outputs": [
    {
     "data": {
      "text/latex": [
       "$\\displaystyle \\left[\\begin{matrix}\\cos{\\left(\\theta \\right)} & \\sin{\\left(\\theta \\right)} & 0\\\\- \\sin{\\left(\\theta \\right)} & \\cos{\\left(\\theta \\right)} & 0\\\\0 & 0 & 1\\end{matrix}\\right]$"
      ],
      "text/plain": [
       "⎡cos(θ)   sin(θ)  0⎤\n",
       "⎢                  ⎥\n",
       "⎢-sin(θ)  cos(θ)  0⎥\n",
       "⎢                  ⎥\n",
       "⎣   0       0     1⎦"
      ]
     },
     "execution_count": 2,
     "metadata": {},
     "output_type": "execute_result"
    }
   ],
   "source": [
    "theta = sm.symbols('theta')\n",
    "\n",
    "A_C_N = sm.Matrix([[sm.cos(theta), sm.sin(theta), 0],\n",
    "                   [-sm.sin(theta), sm.cos(theta), 0],\n",
    "                   [0, 0, 1]])\n",
    "A_C_N"
   ]
  },
  {
   "cell_type": "code",
   "execution_count": 3,
   "id": "79c72c00",
   "metadata": {
    "execution": {
     "iopub.execute_input": "2024-02-20T15:56:49.854955Z",
     "iopub.status.busy": "2024-02-20T15:56:49.854517Z",
     "iopub.status.idle": "2024-02-20T15:56:49.935259Z",
     "shell.execute_reply": "2024-02-20T15:56:49.934695Z"
    }
   },
   "outputs": [
    {
     "data": {
      "text/latex": [
       "$\\displaystyle \\left[\\begin{matrix}\\cos{\\left(\\theta \\right)} & - \\sin{\\left(\\theta \\right)} & 0\\\\\\sin{\\left(\\theta \\right)} & \\cos{\\left(\\theta \\right)} & 0\\\\0 & 0 & 1\\end{matrix}\\right]$"
      ],
      "text/plain": [
       "⎡cos(θ)  -sin(θ)  0⎤\n",
       "⎢                  ⎥\n",
       "⎢sin(θ)  cos(θ)   0⎥\n",
       "⎢                  ⎥\n",
       "⎣  0        0     1⎦"
      ]
     },
     "execution_count": 3,
     "metadata": {},
     "output_type": "execute_result"
    }
   ],
   "source": [
    "sm.trigsimp(A_C_N.inv())"
   ]
  },
  {
   "cell_type": "code",
   "execution_count": 4,
   "id": "cc560d99",
   "metadata": {
    "execution": {
     "iopub.execute_input": "2024-02-20T15:56:49.937519Z",
     "iopub.status.busy": "2024-02-20T15:56:49.937166Z",
     "iopub.status.idle": "2024-02-20T15:56:49.942450Z",
     "shell.execute_reply": "2024-02-20T15:56:49.941903Z"
    }
   },
   "outputs": [
    {
     "data": {
      "text/latex": [
       "$\\displaystyle \\left[\\begin{matrix}\\cos{\\left(\\theta \\right)} & - \\sin{\\left(\\theta \\right)} & 0\\\\\\sin{\\left(\\theta \\right)} & \\cos{\\left(\\theta \\right)} & 0\\\\0 & 0 & 1\\end{matrix}\\right]$"
      ],
      "text/plain": [
       "⎡cos(θ)  -sin(θ)  0⎤\n",
       "⎢                  ⎥\n",
       "⎢sin(θ)  cos(θ)   0⎥\n",
       "⎢                  ⎥\n",
       "⎣  0        0     1⎦"
      ]
     },
     "execution_count": 4,
     "metadata": {},
     "output_type": "execute_result"
    }
   ],
   "source": [
    "A_C_N.transpose()"
   ]
  },
  {
   "cell_type": "code",
   "execution_count": 5,
   "id": "edf79ccc",
   "metadata": {
    "execution": {
     "iopub.execute_input": "2024-02-20T15:56:49.944357Z",
     "iopub.status.busy": "2024-02-20T15:56:49.944190Z",
     "iopub.status.idle": "2024-02-20T15:56:49.949256Z",
     "shell.execute_reply": "2024-02-20T15:56:49.948782Z"
    }
   },
   "outputs": [
    {
     "data": {
      "text/latex": [
       "$\\displaystyle \\left[\\begin{matrix}\\cos{\\left(\\theta \\right)} & \\sin{\\left(\\theta \\right)} & 0\\\\- \\sin{\\left(\\theta \\right)} & \\cos{\\left(\\theta \\right)} & 0\\\\0 & 0 & 1\\end{matrix}\\right]$"
      ],
      "text/plain": [
       "⎡cos(θ)   sin(θ)  0⎤\n",
       "⎢                  ⎥\n",
       "⎢-sin(θ)  cos(θ)  0⎥\n",
       "⎢                  ⎥\n",
       "⎣   0       0     1⎦"
      ]
     },
     "execution_count": 5,
     "metadata": {},
     "output_type": "execute_result"
    }
   ],
   "source": [
    "A_C_N"
   ]
  },
  {
   "cell_type": "code",
   "execution_count": 6,
   "id": "4fd9bd3d",
   "metadata": {
    "execution": {
     "iopub.execute_input": "2024-02-20T15:56:49.951073Z",
     "iopub.status.busy": "2024-02-20T15:56:49.950910Z",
     "iopub.status.idle": "2024-02-20T15:56:49.957244Z",
     "shell.execute_reply": "2024-02-20T15:56:49.956697Z"
    }
   },
   "outputs": [
    {
     "data": {
      "text/latex": [
       "$\\displaystyle \\left[\\begin{matrix}\\cos{\\left(\\alpha \\right)} & \\sin{\\left(\\alpha \\right)} & 0\\\\- \\sin{\\left(\\alpha \\right)} & \\cos{\\left(\\alpha \\right)} & 0\\\\0 & 0 & 1\\end{matrix}\\right]$"
      ],
      "text/plain": [
       "⎡cos(α)   sin(α)  0⎤\n",
       "⎢                  ⎥\n",
       "⎢-sin(α)  cos(α)  0⎥\n",
       "⎢                  ⎥\n",
       "⎣   0       0     1⎦"
      ]
     },
     "execution_count": 6,
     "metadata": {},
     "output_type": "execute_result"
    }
   ],
   "source": [
    "alpha = sm.symbols('alpha')\n",
    "\n",
    "B_C_A = sm.Matrix([[sm.cos(alpha), sm.sin(alpha), 0],\n",
    "                   [-sm.sin(alpha), sm.cos(alpha), 0],\n",
    "                   [0, 0, 1]])\n",
    "\n",
    "B_C_A"
   ]
  },
  {
   "cell_type": "code",
   "execution_count": 7,
   "id": "c566de1e",
   "metadata": {
    "execution": {
     "iopub.execute_input": "2024-02-20T15:56:49.959265Z",
     "iopub.status.busy": "2024-02-20T15:56:49.958918Z",
     "iopub.status.idle": "2024-02-20T15:56:49.969657Z",
     "shell.execute_reply": "2024-02-20T15:56:49.969197Z"
    }
   },
   "outputs": [
    {
     "data": {
      "text/latex": [
       "$\\displaystyle \\left[\\begin{matrix}- \\sin{\\left(\\alpha \\right)} \\sin{\\left(\\theta \\right)} + \\cos{\\left(\\alpha \\right)} \\cos{\\left(\\theta \\right)} & \\sin{\\left(\\alpha \\right)} \\cos{\\left(\\theta \\right)} + \\sin{\\left(\\theta \\right)} \\cos{\\left(\\alpha \\right)} & 0\\\\- \\sin{\\left(\\alpha \\right)} \\cos{\\left(\\theta \\right)} - \\sin{\\left(\\theta \\right)} \\cos{\\left(\\alpha \\right)} & - \\sin{\\left(\\alpha \\right)} \\sin{\\left(\\theta \\right)} + \\cos{\\left(\\alpha \\right)} \\cos{\\left(\\theta \\right)} & 0\\\\0 & 0 & 1\\end{matrix}\\right]$"
      ],
      "text/plain": [
       "⎡-sin(α)⋅sin(θ) + cos(α)⋅cos(θ)  sin(α)⋅cos(θ) + sin(θ)⋅cos(α)   0⎤\n",
       "⎢                                                                 ⎥\n",
       "⎢-sin(α)⋅cos(θ) - sin(θ)⋅cos(α)  -sin(α)⋅sin(θ) + cos(α)⋅cos(θ)  0⎥\n",
       "⎢                                                                 ⎥\n",
       "⎣              0                               0                 1⎦"
      ]
     },
     "execution_count": 7,
     "metadata": {},
     "output_type": "execute_result"
    }
   ],
   "source": [
    "B_C_N = B_C_A*A_C_N\n",
    "B_C_N"
   ]
  },
  {
   "cell_type": "code",
   "execution_count": 8,
   "id": "82eefa3d",
   "metadata": {
    "execution": {
     "iopub.execute_input": "2024-02-20T15:56:49.971462Z",
     "iopub.status.busy": "2024-02-20T15:56:49.971302Z",
     "iopub.status.idle": "2024-02-20T15:56:50.083290Z",
     "shell.execute_reply": "2024-02-20T15:56:50.082804Z"
    }
   },
   "outputs": [
    {
     "data": {
      "text/latex": [
       "$\\displaystyle \\left[\\begin{matrix}\\cos{\\left(\\alpha + \\theta \\right)} & \\sin{\\left(\\alpha + \\theta \\right)} & 0\\\\- \\sin{\\left(\\alpha + \\theta \\right)} & \\cos{\\left(\\alpha + \\theta \\right)} & 0\\\\0 & 0 & 1\\end{matrix}\\right]$"
      ],
      "text/plain": [
       "⎡cos(α + θ)   sin(α + θ)  0⎤\n",
       "⎢                          ⎥\n",
       "⎢-sin(α + θ)  cos(α + θ)  0⎥\n",
       "⎢                          ⎥\n",
       "⎣     0           0       1⎦"
      ]
     },
     "execution_count": 8,
     "metadata": {},
     "output_type": "execute_result"
    }
   ],
   "source": [
    "sm.trigsimp(B_C_N)"
   ]
  },
  {
   "cell_type": "code",
   "execution_count": 9,
   "id": "b4189b9b",
   "metadata": {
    "execution": {
     "iopub.execute_input": "2024-02-20T15:56:50.085523Z",
     "iopub.status.busy": "2024-02-20T15:56:50.085160Z",
     "iopub.status.idle": "2024-02-20T15:56:50.092466Z",
     "shell.execute_reply": "2024-02-20T15:56:50.091920Z"
    }
   },
   "outputs": [],
   "source": [
    "import sympy.physics.mechanics as me"
   ]
  },
  {
   "cell_type": "code",
   "execution_count": 10,
   "id": "e8ce5834",
   "metadata": {
    "execution": {
     "iopub.execute_input": "2024-02-20T15:56:50.094594Z",
     "iopub.status.busy": "2024-02-20T15:56:50.094240Z",
     "iopub.status.idle": "2024-02-20T15:56:50.097877Z",
     "shell.execute_reply": "2024-02-20T15:56:50.097436Z"
    }
   },
   "outputs": [],
   "source": [
    "class ReferenceFrame(me.ReferenceFrame):\n",
    "\n",
    "    def __init__(self, *args, **kwargs):\n",
    "\n",
    "        kwargs.pop('latexs', None)\n",
    "\n",
    "        lab = args[0].lower()\n",
    "        tex = r'\\hat{{{}}}_{}'\n",
    "\n",
    "        super(ReferenceFrame, self).__init__(*args,\n",
    "                                             latexs=(tex.format(lab, 'x'),\n",
    "                                                     tex.format(lab, 'y'),\n",
    "                                                     tex.format(lab, 'z')),\n",
    "                                             **kwargs)\n",
    "me.ReferenceFrame = ReferenceFrame"
   ]
  },
  {
   "cell_type": "code",
   "execution_count": 11,
   "id": "d3e40519",
   "metadata": {
    "execution": {
     "iopub.execute_input": "2024-02-20T15:56:50.100020Z",
     "iopub.status.busy": "2024-02-20T15:56:50.099597Z",
     "iopub.status.idle": "2024-02-20T15:56:50.102587Z",
     "shell.execute_reply": "2024-02-20T15:56:50.102145Z"
    }
   },
   "outputs": [],
   "source": [
    "N = me.ReferenceFrame('N')"
   ]
  },
  {
   "cell_type": "code",
   "execution_count": 12,
   "id": "7043dc46",
   "metadata": {
    "execution": {
     "iopub.execute_input": "2024-02-20T15:56:50.104639Z",
     "iopub.status.busy": "2024-02-20T15:56:50.104275Z",
     "iopub.status.idle": "2024-02-20T15:56:50.108177Z",
     "shell.execute_reply": "2024-02-20T15:56:50.107686Z"
    }
   },
   "outputs": [
    {
     "data": {
      "text/latex": [
       "$\\displaystyle \\left( \\hat{n}_x, \\  \\hat{n}_y, \\  \\hat{n}_z\\right)$"
      ],
      "text/plain": [
       "(n_x, n_y, n_z)"
      ]
     },
     "execution_count": 12,
     "metadata": {},
     "output_type": "execute_result"
    }
   ],
   "source": [
    "N.x, N.y, N.z"
   ]
  },
  {
   "cell_type": "code",
   "execution_count": 13,
   "id": "32f3257f",
   "metadata": {
    "execution": {
     "iopub.execute_input": "2024-02-20T15:56:50.110130Z",
     "iopub.status.busy": "2024-02-20T15:56:50.109842Z",
     "iopub.status.idle": "2024-02-20T15:56:50.114433Z",
     "shell.execute_reply": "2024-02-20T15:56:50.113979Z"
    }
   },
   "outputs": [
    {
     "data": {
      "text/plain": [
       "(N, A, B)"
      ]
     },
     "execution_count": 13,
     "metadata": {},
     "output_type": "execute_result"
    }
   ],
   "source": [
    "A = me.ReferenceFrame('A')\n",
    "B = me.ReferenceFrame('B')\n",
    "\n",
    "N, A, B"
   ]
  },
  {
   "cell_type": "code",
   "execution_count": 14,
   "id": "b9f6f6c6",
   "metadata": {
    "execution": {
     "iopub.execute_input": "2024-02-20T15:56:50.116384Z",
     "iopub.status.busy": "2024-02-20T15:56:50.116044Z",
     "iopub.status.idle": "2024-02-20T15:56:50.120933Z",
     "shell.execute_reply": "2024-02-20T15:56:50.120412Z"
    }
   },
   "outputs": [
    {
     "data": {
      "text/latex": [
       "$\\displaystyle \\left[\\begin{matrix}\\cos{\\left(\\theta \\right)} & \\sin{\\left(\\theta \\right)} & 0\\\\- \\sin{\\left(\\theta \\right)} & \\cos{\\left(\\theta \\right)} & 0\\\\0 & 0 & 1\\end{matrix}\\right]$"
      ],
      "text/plain": [
       "⎡cos(θ)   sin(θ)  0⎤\n",
       "⎢                  ⎥\n",
       "⎢-sin(θ)  cos(θ)  0⎥\n",
       "⎢                  ⎥\n",
       "⎣   0       0     1⎦"
      ]
     },
     "execution_count": 14,
     "metadata": {},
     "output_type": "execute_result"
    }
   ],
   "source": [
    "A_C_N"
   ]
  },
  {
   "cell_type": "code",
   "execution_count": 15,
   "id": "7f254148",
   "metadata": {
    "execution": {
     "iopub.execute_input": "2024-02-20T15:56:50.122984Z",
     "iopub.status.busy": "2024-02-20T15:56:50.122646Z",
     "iopub.status.idle": "2024-02-20T15:56:50.126197Z",
     "shell.execute_reply": "2024-02-20T15:56:50.125664Z"
    }
   },
   "outputs": [],
   "source": [
    "N.orient_explicit(A, A_C_N)"
   ]
  },
  {
   "cell_type": "code",
   "execution_count": 16,
   "id": "9072ae60",
   "metadata": {
    "execution": {
     "iopub.execute_input": "2024-02-20T15:56:50.128278Z",
     "iopub.status.busy": "2024-02-20T15:56:50.127942Z",
     "iopub.status.idle": "2024-02-20T15:56:50.132821Z",
     "shell.execute_reply": "2024-02-20T15:56:50.132350Z"
    }
   },
   "outputs": [
    {
     "data": {
      "text/latex": [
       "$\\displaystyle \\left[\\begin{matrix}\\cos{\\left(\\theta \\right)} & \\sin{\\left(\\theta \\right)} & 0\\\\- \\sin{\\left(\\theta \\right)} & \\cos{\\left(\\theta \\right)} & 0\\\\0 & 0 & 1\\end{matrix}\\right]$"
      ],
      "text/plain": [
       "⎡cos(θ)   sin(θ)  0⎤\n",
       "⎢                  ⎥\n",
       "⎢-sin(θ)  cos(θ)  0⎥\n",
       "⎢                  ⎥\n",
       "⎣   0       0     1⎦"
      ]
     },
     "execution_count": 16,
     "metadata": {},
     "output_type": "execute_result"
    }
   ],
   "source": [
    "A.dcm(N)"
   ]
  },
  {
   "cell_type": "code",
   "execution_count": 17,
   "id": "792cfcb7",
   "metadata": {
    "execution": {
     "iopub.execute_input": "2024-02-20T15:56:50.134687Z",
     "iopub.status.busy": "2024-02-20T15:56:50.134515Z",
     "iopub.status.idle": "2024-02-20T15:56:50.139495Z",
     "shell.execute_reply": "2024-02-20T15:56:50.139031Z"
    }
   },
   "outputs": [
    {
     "data": {
      "text/latex": [
       "$\\displaystyle \\left[\\begin{matrix}\\cos{\\left(\\theta \\right)} & - \\sin{\\left(\\theta \\right)} & 0\\\\\\sin{\\left(\\theta \\right)} & \\cos{\\left(\\theta \\right)} & 0\\\\0 & 0 & 1\\end{matrix}\\right]$"
      ],
      "text/plain": [
       "⎡cos(θ)  -sin(θ)  0⎤\n",
       "⎢                  ⎥\n",
       "⎢sin(θ)  cos(θ)   0⎥\n",
       "⎢                  ⎥\n",
       "⎣  0        0     1⎦"
      ]
     },
     "execution_count": 17,
     "metadata": {},
     "output_type": "execute_result"
    }
   ],
   "source": [
    "N.dcm(A)"
   ]
  },
  {
   "cell_type": "code",
   "execution_count": 18,
   "id": "8b4a83ef",
   "metadata": {
    "execution": {
     "iopub.execute_input": "2024-02-20T15:56:50.141311Z",
     "iopub.status.busy": "2024-02-20T15:56:50.141153Z",
     "iopub.status.idle": "2024-02-20T15:56:50.149367Z",
     "shell.execute_reply": "2024-02-20T15:56:50.148906Z"
    }
   },
   "outputs": [
    {
     "data": {
      "text/latex": [
       "$\\displaystyle \\left[\\begin{matrix}\\cos{\\left(\\beta \\right)} & 0 & - \\sin{\\left(\\beta \\right)}\\\\0 & 1 & 0\\\\\\sin{\\left(\\beta \\right)} & 0 & \\cos{\\left(\\beta \\right)}\\end{matrix}\\right]$"
      ],
      "text/plain": [
       "⎡cos(β)  0  -sin(β)⎤\n",
       "⎢                  ⎥\n",
       "⎢  0     1     0   ⎥\n",
       "⎢                  ⎥\n",
       "⎣sin(β)  0  cos(β) ⎦"
      ]
     },
     "execution_count": 18,
     "metadata": {},
     "output_type": "execute_result"
    }
   ],
   "source": [
    "beta = sm.symbols('beta')\n",
    "\n",
    "D = me.ReferenceFrame('D')\n",
    "F = me.ReferenceFrame('F')\n",
    "\n",
    "F_C_D = sm.Matrix([[sm.cos(beta), 0, -sm.sin(beta)],\n",
    "                   [0, 1, 0],\n",
    "                   [sm.sin(beta), 0, sm.cos(beta)]])\n",
    "\n",
    "F.orient_explicit(D, F_C_D.transpose())\n",
    "\n",
    "F.dcm(D)"
   ]
  },
  {
   "cell_type": "code",
   "execution_count": 19,
   "id": "b23a2361",
   "metadata": {
    "execution": {
     "iopub.execute_input": "2024-02-20T15:56:50.151280Z",
     "iopub.status.busy": "2024-02-20T15:56:50.150962Z",
     "iopub.status.idle": "2024-02-20T15:56:50.155633Z",
     "shell.execute_reply": "2024-02-20T15:56:50.155075Z"
    }
   },
   "outputs": [],
   "source": [
    "B.orient_axis(A, alpha, A.z)"
   ]
  },
  {
   "cell_type": "code",
   "execution_count": 20,
   "id": "09498520",
   "metadata": {
    "execution": {
     "iopub.execute_input": "2024-02-20T15:56:50.157587Z",
     "iopub.status.busy": "2024-02-20T15:56:50.157263Z",
     "iopub.status.idle": "2024-02-20T15:56:50.162307Z",
     "shell.execute_reply": "2024-02-20T15:56:50.161760Z"
    }
   },
   "outputs": [
    {
     "data": {
      "text/latex": [
       "$\\displaystyle \\left[\\begin{matrix}\\cos{\\left(\\alpha \\right)} & \\sin{\\left(\\alpha \\right)} & 0\\\\- \\sin{\\left(\\alpha \\right)} & \\cos{\\left(\\alpha \\right)} & 0\\\\0 & 0 & 1\\end{matrix}\\right]$"
      ],
      "text/plain": [
       "⎡cos(α)   sin(α)  0⎤\n",
       "⎢                  ⎥\n",
       "⎢-sin(α)  cos(α)  0⎥\n",
       "⎢                  ⎥\n",
       "⎣   0       0     1⎦"
      ]
     },
     "execution_count": 20,
     "metadata": {},
     "output_type": "execute_result"
    }
   ],
   "source": [
    "B.dcm(A)"
   ]
  },
  {
   "cell_type": "code",
   "execution_count": 21,
   "id": "7f17cd13",
   "metadata": {
    "execution": {
     "iopub.execute_input": "2024-02-20T15:56:50.164211Z",
     "iopub.status.busy": "2024-02-20T15:56:50.163878Z",
     "iopub.status.idle": "2024-02-20T15:56:50.168911Z",
     "shell.execute_reply": "2024-02-20T15:56:50.168328Z"
    }
   },
   "outputs": [
    {
     "data": {
      "text/latex": [
       "$\\displaystyle \\left[\\begin{matrix}\\cos{\\left(\\alpha \\right)} & - \\sin{\\left(\\alpha \\right)} & 0\\\\\\sin{\\left(\\alpha \\right)} & \\cos{\\left(\\alpha \\right)} & 0\\\\0 & 0 & 1\\end{matrix}\\right]$"
      ],
      "text/plain": [
       "⎡cos(α)  -sin(α)  0⎤\n",
       "⎢                  ⎥\n",
       "⎢sin(α)  cos(α)   0⎥\n",
       "⎢                  ⎥\n",
       "⎣  0        0     1⎦"
      ]
     },
     "execution_count": 21,
     "metadata": {},
     "output_type": "execute_result"
    }
   ],
   "source": [
    "A.dcm(B)"
   ]
  },
  {
   "cell_type": "code",
   "execution_count": 22,
   "id": "ce192e14",
   "metadata": {
    "execution": {
     "iopub.execute_input": "2024-02-20T15:56:50.170844Z",
     "iopub.status.busy": "2024-02-20T15:56:50.170523Z",
     "iopub.status.idle": "2024-02-20T15:56:50.270023Z",
     "shell.execute_reply": "2024-02-20T15:56:50.269397Z"
    }
   },
   "outputs": [
    {
     "data": {
      "text/latex": [
       "$\\displaystyle \\left[\\begin{matrix}\\cos{\\left(\\alpha + \\theta \\right)} & \\sin{\\left(\\alpha + \\theta \\right)} & 0\\\\- \\sin{\\left(\\alpha + \\theta \\right)} & \\cos{\\left(\\alpha + \\theta \\right)} & 0\\\\0 & 0 & 1\\end{matrix}\\right]$"
      ],
      "text/plain": [
       "⎡cos(α + θ)   sin(α + θ)  0⎤\n",
       "⎢                          ⎥\n",
       "⎢-sin(α + θ)  cos(α + θ)  0⎥\n",
       "⎢                          ⎥\n",
       "⎣     0           0       1⎦"
      ]
     },
     "execution_count": 22,
     "metadata": {},
     "output_type": "execute_result"
    }
   ],
   "source": [
    "sm.trigsimp(B.dcm(A)*A.dcm(N))"
   ]
  },
  {
   "cell_type": "code",
   "execution_count": 23,
   "id": "358e099f",
   "metadata": {
    "execution": {
     "iopub.execute_input": "2024-02-20T15:56:50.272327Z",
     "iopub.status.busy": "2024-02-20T15:56:50.271869Z",
     "iopub.status.idle": "2024-02-20T15:56:50.370355Z",
     "shell.execute_reply": "2024-02-20T15:56:50.369812Z"
    }
   },
   "outputs": [
    {
     "data": {
      "text/latex": [
       "$\\displaystyle \\left[\\begin{matrix}\\cos{\\left(\\alpha + \\theta \\right)} & \\sin{\\left(\\alpha + \\theta \\right)} & 0\\\\- \\sin{\\left(\\alpha + \\theta \\right)} & \\cos{\\left(\\alpha + \\theta \\right)} & 0\\\\0 & 0 & 1\\end{matrix}\\right]$"
      ],
      "text/plain": [
       "⎡cos(α + θ)   sin(α + θ)  0⎤\n",
       "⎢                          ⎥\n",
       "⎢-sin(α + θ)  cos(α + θ)  0⎥\n",
       "⎢                          ⎥\n",
       "⎣     0           0       1⎦"
      ]
     },
     "execution_count": 23,
     "metadata": {},
     "output_type": "execute_result"
    }
   ],
   "source": [
    "sm.trigsimp(B.dcm(N))"
   ]
  },
  {
   "cell_type": "code",
   "execution_count": 24,
   "id": "2d5085e8",
   "metadata": {
    "execution": {
     "iopub.execute_input": "2024-02-20T15:56:50.372497Z",
     "iopub.status.busy": "2024-02-20T15:56:50.372132Z",
     "iopub.status.idle": "2024-02-20T15:56:50.405815Z",
     "shell.execute_reply": "2024-02-20T15:56:50.405352Z"
    }
   },
   "outputs": [
    {
     "data": {
      "text/latex": [
       "$\\displaystyle \\cos{\\left(\\alpha + \\theta \\right)}$"
      ],
      "text/plain": [
       "cos(α + θ)"
      ]
     },
     "execution_count": 24,
     "metadata": {},
     "output_type": "execute_result"
    }
   ],
   "source": [
    "sm.trigsimp(me.dot(B.x, N.x))"
   ]
  },
  {
   "cell_type": "code",
   "execution_count": 25,
   "id": "df9e1670",
   "metadata": {
    "execution": {
     "iopub.execute_input": "2024-02-20T15:56:50.407923Z",
     "iopub.status.busy": "2024-02-20T15:56:50.407580Z",
     "iopub.status.idle": "2024-02-20T15:56:50.416221Z",
     "shell.execute_reply": "2024-02-20T15:56:50.415762Z"
    }
   },
   "outputs": [
    {
     "data": {
      "text/latex": [
       "$\\displaystyle \\left[\\begin{matrix}\\cos{\\left(\\beta \\right)} & 0 & \\sin{\\left(\\beta \\right)}\\\\0 & 1 & 0\\\\- \\sin{\\left(\\beta \\right)} & 0 & \\cos{\\left(\\beta \\right)}\\end{matrix}\\right]$"
      ],
      "text/plain": [
       "⎡cos(β)   0  sin(β)⎤\n",
       "⎢                  ⎥\n",
       "⎢   0     1    0   ⎥\n",
       "⎢                  ⎥\n",
       "⎣-sin(β)  0  cos(β)⎦"
      ]
     },
     "execution_count": 25,
     "metadata": {},
     "output_type": "execute_result"
    }
   ],
   "source": [
    "beta = sm.symbols('beta')\n",
    "\n",
    "C = me.ReferenceFrame('C')\n",
    "D = me.ReferenceFrame('D')\n",
    "E = me.ReferenceFrame('E')\n",
    "\n",
    "D.orient_axis(C, beta, -C.y)\n",
    "\n",
    "D.dcm(C)"
   ]
  },
  {
   "cell_type": "code",
   "execution_count": 26,
   "id": "610cc589",
   "metadata": {
    "execution": {
     "iopub.execute_input": "2024-02-20T15:56:50.418077Z",
     "iopub.status.busy": "2024-02-20T15:56:50.417902Z",
     "iopub.status.idle": "2024-02-20T15:56:50.423506Z",
     "shell.execute_reply": "2024-02-20T15:56:50.422967Z"
    }
   },
   "outputs": [
    {
     "data": {
      "text/latex": [
       "$\\displaystyle \\left[\\begin{matrix}\\cos{\\left(\\beta \\right)} & 0 & \\sin{\\left(\\beta \\right)}\\\\0 & 1 & 0\\\\- \\sin{\\left(\\beta \\right)} & 0 & \\cos{\\left(\\beta \\right)}\\end{matrix}\\right]$"
      ],
      "text/plain": [
       "⎡cos(β)   0  sin(β)⎤\n",
       "⎢                  ⎥\n",
       "⎢   0     1    0   ⎥\n",
       "⎢                  ⎥\n",
       "⎣-sin(β)  0  cos(β)⎦"
      ]
     },
     "execution_count": 26,
     "metadata": {},
     "output_type": "execute_result"
    }
   ],
   "source": [
    "E.orient_explicit(D, C.dcm(D))\n",
    "E.dcm(D)"
   ]
  },
  {
   "cell_type": "code",
   "execution_count": 27,
   "id": "979fc77f",
   "metadata": {
    "execution": {
     "iopub.execute_input": "2024-02-20T15:56:50.425381Z",
     "iopub.status.busy": "2024-02-20T15:56:50.425220Z",
     "iopub.status.idle": "2024-02-20T15:56:50.433788Z",
     "shell.execute_reply": "2024-02-20T15:56:50.433220Z"
    }
   },
   "outputs": [
    {
     "data": {
      "text/latex": [
       "$\\displaystyle \\left[\\begin{matrix}\\cos{\\left(\\psi \\right)} & \\sin{\\left(\\psi \\right)} & 0\\\\- \\sin{\\left(\\psi \\right)} & \\cos{\\left(\\psi \\right)} & 0\\\\0 & 0 & 1\\end{matrix}\\right]$"
      ],
      "text/plain": [
       "⎡cos(ψ)   sin(ψ)  0⎤\n",
       "⎢                  ⎥\n",
       "⎢-sin(ψ)  cos(ψ)  0⎥\n",
       "⎢                  ⎥\n",
       "⎣   0       0     1⎦"
      ]
     },
     "execution_count": 27,
     "metadata": {},
     "output_type": "execute_result"
    }
   ],
   "source": [
    "psi = sm.symbols('psi')\n",
    "\n",
    "A = me.ReferenceFrame('A')\n",
    "B = me.ReferenceFrame('B')\n",
    "\n",
    "B.orient_axis(A, psi, A.z)\n",
    "\n",
    "B.dcm(A)"
   ]
  },
  {
   "cell_type": "code",
   "execution_count": 28,
   "id": "550ce6e2",
   "metadata": {
    "execution": {
     "iopub.execute_input": "2024-02-20T15:56:50.435695Z",
     "iopub.status.busy": "2024-02-20T15:56:50.435405Z",
     "iopub.status.idle": "2024-02-20T15:56:50.442606Z",
     "shell.execute_reply": "2024-02-20T15:56:50.442178Z"
    }
   },
   "outputs": [
    {
     "data": {
      "text/latex": [
       "$\\displaystyle \\left[\\begin{matrix}1 & 0 & 0\\\\0 & \\cos{\\left(\\theta \\right)} & \\sin{\\left(\\theta \\right)}\\\\0 & - \\sin{\\left(\\theta \\right)} & \\cos{\\left(\\theta \\right)}\\end{matrix}\\right]$"
      ],
      "text/plain": [
       "⎡1     0       0   ⎤\n",
       "⎢                  ⎥\n",
       "⎢0  cos(θ)   sin(θ)⎥\n",
       "⎢                  ⎥\n",
       "⎣0  -sin(θ)  cos(θ)⎦"
      ]
     },
     "execution_count": 28,
     "metadata": {},
     "output_type": "execute_result"
    }
   ],
   "source": [
    "theta = sm.symbols('theta')\n",
    "\n",
    "C = me.ReferenceFrame('C')\n",
    "\n",
    "C.orient_axis(B, theta, B.x)\n",
    "\n",
    "C.dcm(B)"
   ]
  },
  {
   "cell_type": "code",
   "execution_count": 29,
   "id": "e379c33f",
   "metadata": {
    "execution": {
     "iopub.execute_input": "2024-02-20T15:56:50.444429Z",
     "iopub.status.busy": "2024-02-20T15:56:50.444258Z",
     "iopub.status.idle": "2024-02-20T15:56:50.452157Z",
     "shell.execute_reply": "2024-02-20T15:56:50.451705Z"
    }
   },
   "outputs": [
    {
     "data": {
      "text/latex": [
       "$\\displaystyle \\left[\\begin{matrix}\\cos{\\left(\\varphi \\right)} & 0 & - \\sin{\\left(\\varphi \\right)}\\\\0 & 1 & 0\\\\\\sin{\\left(\\varphi \\right)} & 0 & \\cos{\\left(\\varphi \\right)}\\end{matrix}\\right]$"
      ],
      "text/plain": [
       "⎡cos(varphi)  0  -sin(varphi)⎤\n",
       "⎢                            ⎥\n",
       "⎢     0       1       0      ⎥\n",
       "⎢                            ⎥\n",
       "⎣sin(varphi)  0  cos(varphi) ⎦"
      ]
     },
     "execution_count": 29,
     "metadata": {},
     "output_type": "execute_result"
    }
   ],
   "source": [
    "phi = sm.symbols('varphi')\n",
    "\n",
    "D = me.ReferenceFrame('D')\n",
    "\n",
    "D.orient_axis(C, phi, C.y)\n",
    "\n",
    "D.dcm(C)"
   ]
  },
  {
   "cell_type": "code",
   "execution_count": 30,
   "id": "32fa3ce3",
   "metadata": {
    "execution": {
     "iopub.execute_input": "2024-02-20T15:56:50.454050Z",
     "iopub.status.busy": "2024-02-20T15:56:50.453882Z",
     "iopub.status.idle": "2024-02-20T15:56:50.470387Z",
     "shell.execute_reply": "2024-02-20T15:56:50.469863Z"
    }
   },
   "outputs": [
    {
     "data": {
      "text/latex": [
       "$\\displaystyle \\left[\\begin{matrix}- \\sin{\\left(\\psi \\right)} \\sin{\\left(\\theta \\right)} \\sin{\\left(\\varphi \\right)} + \\cos{\\left(\\psi \\right)} \\cos{\\left(\\varphi \\right)} & \\sin{\\left(\\psi \\right)} \\cos{\\left(\\varphi \\right)} + \\sin{\\left(\\theta \\right)} \\sin{\\left(\\varphi \\right)} \\cos{\\left(\\psi \\right)} & - \\sin{\\left(\\varphi \\right)} \\cos{\\left(\\theta \\right)}\\\\- \\sin{\\left(\\psi \\right)} \\cos{\\left(\\theta \\right)} & \\cos{\\left(\\psi \\right)} \\cos{\\left(\\theta \\right)} & \\sin{\\left(\\theta \\right)}\\\\\\sin{\\left(\\psi \\right)} \\sin{\\left(\\theta \\right)} \\cos{\\left(\\varphi \\right)} + \\sin{\\left(\\varphi \\right)} \\cos{\\left(\\psi \\right)} & \\sin{\\left(\\psi \\right)} \\sin{\\left(\\varphi \\right)} - \\sin{\\left(\\theta \\right)} \\cos{\\left(\\psi \\right)} \\cos{\\left(\\varphi \\right)} & \\cos{\\left(\\theta \\right)} \\cos{\\left(\\varphi \\right)}\\end{matrix}\\right]$"
      ],
      "text/plain": [
       "⎡-sin(ψ)⋅sin(θ)⋅sin(varphi) + cos(ψ)⋅cos(varphi)  sin(ψ)⋅cos(varphi) + sin(θ)⋅\n",
       "⎢                                                                             \n",
       "⎢                -sin(ψ)⋅cos(θ)                                   cos(ψ)⋅cos(θ\n",
       "⎢                                                                             \n",
       "⎣sin(ψ)⋅sin(θ)⋅cos(varphi) + sin(varphi)⋅cos(ψ)   sin(ψ)⋅sin(varphi) - sin(θ)⋅\n",
       "\n",
       "sin(varphi)⋅cos(ψ)  -sin(varphi)⋅cos(θ)⎤\n",
       "                                       ⎥\n",
       ")                         sin(θ)       ⎥\n",
       "                                       ⎥\n",
       "cos(ψ)⋅cos(varphi)  cos(θ)⋅cos(varphi) ⎦"
      ]
     },
     "execution_count": 30,
     "metadata": {},
     "output_type": "execute_result"
    }
   ],
   "source": [
    "D.dcm(A)"
   ]
  },
  {
   "cell_type": "code",
   "execution_count": 31,
   "id": "6429a70b",
   "metadata": {
    "execution": {
     "iopub.execute_input": "2024-02-20T15:56:50.472199Z",
     "iopub.status.busy": "2024-02-20T15:56:50.472027Z",
     "iopub.status.idle": "2024-02-20T15:56:50.525486Z",
     "shell.execute_reply": "2024-02-20T15:56:50.525028Z"
    }
   },
   "outputs": [
    {
     "data": {
      "text/latex": [
       "$\\displaystyle \\left[\\begin{matrix}- \\sin{\\left(\\psi \\right)} \\sin{\\left(\\theta \\right)} \\sin{\\left(\\varphi \\right)} + \\cos{\\left(\\psi \\right)} \\cos{\\left(\\varphi \\right)} & \\sin{\\left(\\psi \\right)} \\cos{\\left(\\varphi \\right)} + \\sin{\\left(\\theta \\right)} \\sin{\\left(\\varphi \\right)} \\cos{\\left(\\psi \\right)} & - \\sin{\\left(\\varphi \\right)} \\cos{\\left(\\theta \\right)}\\\\- \\sin{\\left(\\psi \\right)} \\cos{\\left(\\theta \\right)} & \\cos{\\left(\\psi \\right)} \\cos{\\left(\\theta \\right)} & \\sin{\\left(\\theta \\right)}\\\\\\sin{\\left(\\psi \\right)} \\sin{\\left(\\theta \\right)} \\cos{\\left(\\varphi \\right)} + \\sin{\\left(\\varphi \\right)} \\cos{\\left(\\psi \\right)} & \\sin{\\left(\\psi \\right)} \\sin{\\left(\\varphi \\right)} - \\sin{\\left(\\theta \\right)} \\cos{\\left(\\psi \\right)} \\cos{\\left(\\varphi \\right)} & \\cos{\\left(\\theta \\right)} \\cos{\\left(\\varphi \\right)}\\end{matrix}\\right]$"
      ],
      "text/plain": [
       "⎡-sin(ψ)⋅sin(θ)⋅sin(varphi) + cos(ψ)⋅cos(varphi)  sin(ψ)⋅cos(varphi) + sin(θ)⋅\n",
       "⎢                                                                             \n",
       "⎢                -sin(ψ)⋅cos(θ)                                   cos(ψ)⋅cos(θ\n",
       "⎢                                                                             \n",
       "⎣sin(ψ)⋅sin(θ)⋅cos(varphi) + sin(varphi)⋅cos(ψ)   sin(ψ)⋅sin(varphi) - sin(θ)⋅\n",
       "\n",
       "sin(varphi)⋅cos(ψ)  -sin(varphi)⋅cos(θ)⎤\n",
       "                                       ⎥\n",
       ")                         sin(θ)       ⎥\n",
       "                                       ⎥\n",
       "cos(ψ)⋅cos(varphi)  cos(θ)⋅cos(varphi) ⎦"
      ]
     },
     "execution_count": 31,
     "metadata": {},
     "output_type": "execute_result"
    }
   ],
   "source": [
    "A = me.ReferenceFrame('A')\n",
    "D = me.ReferenceFrame('D')\n",
    "\n",
    "D.orient_body_fixed(A, (psi, theta, phi), 'zxy')\n",
    "\n",
    "D.dcm(A)"
   ]
  },
  {
   "cell_type": "code",
   "execution_count": 32,
   "id": "d92bd849",
   "metadata": {
    "execution": {
     "iopub.execute_input": "2024-02-20T15:56:50.527285Z",
     "iopub.status.busy": "2024-02-20T15:56:50.527106Z",
     "iopub.status.idle": "2024-02-20T15:56:50.529762Z",
     "shell.execute_reply": "2024-02-20T15:56:50.529303Z"
    }
   },
   "outputs": [],
   "source": [
    "psi, theta, phi = sm.symbols('psi, theta, varphi')"
   ]
  },
  {
   "cell_type": "code",
   "execution_count": 33,
   "id": "04d30a82",
   "metadata": {
    "execution": {
     "iopub.execute_input": "2024-02-20T15:56:50.531504Z",
     "iopub.status.busy": "2024-02-20T15:56:50.531334Z",
     "iopub.status.idle": "2024-02-20T15:56:50.549947Z",
     "shell.execute_reply": "2024-02-20T15:56:50.549440Z"
    }
   },
   "outputs": [
    {
     "data": {
      "text/latex": [
       "$\\displaystyle \\left[\\begin{matrix}- \\sin{\\left(\\psi \\right)} \\sin{\\left(\\varphi \\right)} \\cos{\\left(\\theta \\right)} + \\cos{\\left(\\psi \\right)} \\cos{\\left(\\varphi \\right)} & \\sin{\\left(\\psi \\right)} \\cos{\\left(\\varphi \\right)} + \\sin{\\left(\\varphi \\right)} \\cos{\\left(\\psi \\right)} \\cos{\\left(\\theta \\right)} & \\sin{\\left(\\theta \\right)} \\sin{\\left(\\varphi \\right)}\\\\- \\sin{\\left(\\psi \\right)} \\cos{\\left(\\theta \\right)} \\cos{\\left(\\varphi \\right)} - \\sin{\\left(\\varphi \\right)} \\cos{\\left(\\psi \\right)} & - \\sin{\\left(\\psi \\right)} \\sin{\\left(\\varphi \\right)} + \\cos{\\left(\\psi \\right)} \\cos{\\left(\\theta \\right)} \\cos{\\left(\\varphi \\right)} & \\sin{\\left(\\theta \\right)} \\cos{\\left(\\varphi \\right)}\\\\\\sin{\\left(\\psi \\right)} \\sin{\\left(\\theta \\right)} & - \\sin{\\left(\\theta \\right)} \\cos{\\left(\\psi \\right)} & \\cos{\\left(\\theta \\right)}\\end{matrix}\\right]$"
      ],
      "text/plain": [
       "⎡-sin(ψ)⋅sin(varphi)⋅cos(θ) + cos(ψ)⋅cos(varphi)  sin(ψ)⋅cos(varphi) + sin(var\n",
       "⎢                                                                             \n",
       "⎢-sin(ψ)⋅cos(θ)⋅cos(varphi) - sin(varphi)⋅cos(ψ)  -sin(ψ)⋅sin(varphi) + cos(ψ)\n",
       "⎢                                                                             \n",
       "⎣                 sin(ψ)⋅sin(θ)                                   -sin(θ)⋅cos(\n",
       "\n",
       "phi)⋅cos(ψ)⋅cos(θ)   sin(θ)⋅sin(varphi)⎤\n",
       "                                       ⎥\n",
       "⋅cos(θ)⋅cos(varphi)  sin(θ)⋅cos(varphi)⎥\n",
       "                                       ⎥\n",
       "ψ)                         cos(θ)      ⎦"
      ]
     },
     "execution_count": 33,
     "metadata": {},
     "output_type": "execute_result"
    }
   ],
   "source": [
    "A = me.ReferenceFrame('A')\n",
    "B = me.ReferenceFrame('B')\n",
    "C = me.ReferenceFrame('C')\n",
    "D = me.ReferenceFrame('D')\n",
    "\n",
    "B.orient_axis(A, psi, A.z)\n",
    "C.orient_axis(B, theta, B.x)\n",
    "D.orient_axis(C, phi, C.z)\n",
    "\n",
    "D.dcm(A)"
   ]
  },
  {
   "cell_type": "code",
   "execution_count": 34,
   "id": "b7266e37",
   "metadata": {
    "execution": {
     "iopub.execute_input": "2024-02-20T15:56:50.551739Z",
     "iopub.status.busy": "2024-02-20T15:56:50.551567Z",
     "iopub.status.idle": "2024-02-20T15:56:50.589512Z",
     "shell.execute_reply": "2024-02-20T15:56:50.588933Z"
    }
   },
   "outputs": [
    {
     "data": {
      "text/latex": [
       "$\\displaystyle \\left[\\begin{matrix}- \\sin{\\left(\\psi \\right)} \\sin{\\left(\\varphi \\right)} \\cos{\\left(\\theta \\right)} + \\cos{\\left(\\psi \\right)} \\cos{\\left(\\varphi \\right)} & \\sin{\\left(\\psi \\right)} \\cos{\\left(\\varphi \\right)} + \\sin{\\left(\\varphi \\right)} \\cos{\\left(\\psi \\right)} \\cos{\\left(\\theta \\right)} & \\sin{\\left(\\theta \\right)} \\sin{\\left(\\varphi \\right)}\\\\- \\sin{\\left(\\psi \\right)} \\cos{\\left(\\theta \\right)} \\cos{\\left(\\varphi \\right)} - \\sin{\\left(\\varphi \\right)} \\cos{\\left(\\psi \\right)} & - \\sin{\\left(\\psi \\right)} \\sin{\\left(\\varphi \\right)} + \\cos{\\left(\\psi \\right)} \\cos{\\left(\\theta \\right)} \\cos{\\left(\\varphi \\right)} & \\sin{\\left(\\theta \\right)} \\cos{\\left(\\varphi \\right)}\\\\\\sin{\\left(\\psi \\right)} \\sin{\\left(\\theta \\right)} & - \\sin{\\left(\\theta \\right)} \\cos{\\left(\\psi \\right)} & \\cos{\\left(\\theta \\right)}\\end{matrix}\\right]$"
      ],
      "text/plain": [
       "⎡-sin(ψ)⋅sin(varphi)⋅cos(θ) + cos(ψ)⋅cos(varphi)  sin(ψ)⋅cos(varphi) + sin(var\n",
       "⎢                                                                             \n",
       "⎢-sin(ψ)⋅cos(θ)⋅cos(varphi) - sin(varphi)⋅cos(ψ)  -sin(ψ)⋅sin(varphi) + cos(ψ)\n",
       "⎢                                                                             \n",
       "⎣                 sin(ψ)⋅sin(θ)                                   -sin(θ)⋅cos(\n",
       "\n",
       "phi)⋅cos(ψ)⋅cos(θ)   sin(θ)⋅sin(varphi)⎤\n",
       "                                       ⎥\n",
       "⋅cos(θ)⋅cos(varphi)  sin(θ)⋅cos(varphi)⎥\n",
       "                                       ⎥\n",
       "ψ)                         cos(θ)      ⎦"
      ]
     },
     "execution_count": 34,
     "metadata": {},
     "output_type": "execute_result"
    }
   ],
   "source": [
    "A = me.ReferenceFrame('A')\n",
    "D = me.ReferenceFrame('D')\n",
    "\n",
    "D.orient_body_fixed(A, (psi, theta, phi), 'zxz')\n",
    "\n",
    "D.dcm(A)"
   ]
  },
  {
   "cell_type": "code",
   "execution_count": 35,
   "id": "38bc04e0",
   "metadata": {
    "execution": {
     "iopub.execute_input": "2024-02-20T15:56:50.591742Z",
     "iopub.status.busy": "2024-02-20T15:56:50.591367Z",
     "iopub.status.idle": "2024-02-20T15:56:50.607309Z",
     "shell.execute_reply": "2024-02-20T15:56:50.606840Z"
    }
   },
   "outputs": [
    {
     "data": {
      "text/latex": [
       "$\\displaystyle \\left[\\begin{matrix}q_{0}^{2} + q_{i}^{2} - q_{j}^{2} - q_{k}^{2} & 2 q_{0} q_{k} + 2 q_{i} q_{j} & - 2 q_{0} q_{j} + 2 q_{i} q_{k}\\\\- 2 q_{0} q_{k} + 2 q_{i} q_{j} & q_{0}^{2} - q_{i}^{2} + q_{j}^{2} - q_{k}^{2} & 2 q_{0} q_{i} + 2 q_{j} q_{k}\\\\2 q_{0} q_{j} + 2 q_{i} q_{k} & - 2 q_{0} q_{i} + 2 q_{j} q_{k} & q_{0}^{2} - q_{i}^{2} - q_{j}^{2} + q_{k}^{2}\\end{matrix}\\right]$"
      ],
      "text/plain": [
       "⎡  2     2      2     2                                                ⎤\n",
       "⎢q₀  + qᵢ  - q_j  - qₖ     2⋅q₀⋅qₖ + 2⋅qᵢ⋅q_j     -2⋅q₀⋅q_j + 2⋅qᵢ⋅qₖ  ⎥\n",
       "⎢                                                                      ⎥\n",
       "⎢                          2     2      2     2                        ⎥\n",
       "⎢ -2⋅q₀⋅qₖ + 2⋅qᵢ⋅q_j    q₀  - qᵢ  + q_j  - qₖ     2⋅q₀⋅qᵢ + 2⋅q_j⋅qₖ  ⎥\n",
       "⎢                                                                      ⎥\n",
       "⎢                                                  2     2      2     2⎥\n",
       "⎣  2⋅q₀⋅q_j + 2⋅qᵢ⋅qₖ     -2⋅q₀⋅qᵢ + 2⋅q_j⋅qₖ    q₀  - qᵢ  - q_j  + qₖ ⎦"
      ]
     },
     "execution_count": 35,
     "metadata": {},
     "output_type": "execute_result"
    }
   ],
   "source": [
    "N = me.ReferenceFrame('N')\n",
    "A = me.ReferenceFrame('A')\n",
    "\n",
    "q_0, qi, qj, qk = sm.symbols('q_0 q_i q_j q_k')\n",
    "q = (q_0, qi, qj, qk)\n",
    "A.orient_quaternion(N, q)\n",
    "A.dcm(N)"
   ]
  },
  {
   "cell_type": "code",
   "execution_count": 36,
   "id": "4669834a",
   "metadata": {
    "execution": {
     "iopub.execute_input": "2024-02-20T15:56:50.609362Z",
     "iopub.status.busy": "2024-02-20T15:56:50.608990Z",
     "iopub.status.idle": "2024-02-20T15:56:50.700164Z",
     "shell.execute_reply": "2024-02-20T15:56:50.699658Z"
    }
   },
   "outputs": [
    {
     "data": {
      "text/latex": [
       "$\\displaystyle \\left[\\begin{matrix}1 & 0 & 0\\\\0 & \\cos{\\left(\\theta \\right)} & \\sin{\\left(\\theta \\right)}\\\\0 & - \\sin{\\left(\\theta \\right)} & \\cos{\\left(\\theta \\right)}\\end{matrix}\\right]$"
      ],
      "text/plain": [
       "⎡1     0       0   ⎤\n",
       "⎢                  ⎥\n",
       "⎢0  cos(θ)   sin(θ)⎥\n",
       "⎢                  ⎥\n",
       "⎣0  -sin(θ)  cos(θ)⎦"
      ]
     },
     "execution_count": 36,
     "metadata": {},
     "output_type": "execute_result"
    }
   ],
   "source": [
    "q = (sm.cos(theta/2), sm.sin(theta/2), 0, 0)\n",
    "A.orient_quaternion(N, q)\n",
    "sm.trigsimp(A.dcm(N))"
   ]
  }
 ],
 "metadata": {
  "kernelspec": {
   "display_name": "Python 3 (ipykernel)",
   "language": "python",
   "name": "python3"
  },
  "language_info": {
   "codemirror_mode": {
    "name": "ipython",
    "version": 3
   },
   "file_extension": ".py",
   "mimetype": "text/x-python",
   "name": "python",
   "nbconvert_exporter": "python",
   "pygments_lexer": "ipython3",
   "version": "3.10.13"
  }
 },
 "nbformat": 4,
 "nbformat_minor": 5
}