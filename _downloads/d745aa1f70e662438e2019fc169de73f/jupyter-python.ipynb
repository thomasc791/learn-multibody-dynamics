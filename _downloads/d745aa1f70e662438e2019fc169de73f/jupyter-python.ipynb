{
 "cells": [
  {
   "cell_type": "code",
   "execution_count": 1,
   "id": "e253f2ff",
   "metadata": {
    "execution": {
     "iopub.execute_input": "2024-02-20T15:55:48.620240Z",
     "iopub.status.busy": "2024-02-20T15:55:48.619740Z",
     "iopub.status.idle": "2024-02-20T15:55:48.628908Z",
     "shell.execute_reply": "2024-02-20T15:55:48.628412Z"
    }
   },
   "outputs": [
    {
     "data": {
      "application/json": {
       "cell": {
        "!": "OSMagics",
        "HTML": "Other",
        "SVG": "Other",
        "bash": "Other",
        "capture": "ExecutionMagics",
        "code_wrap": "ExecutionMagics",
        "debug": "ExecutionMagics",
        "file": "Other",
        "html": "DisplayMagics",
        "javascript": "DisplayMagics",
        "js": "DisplayMagics",
        "latex": "DisplayMagics",
        "markdown": "DisplayMagics",
        "perl": "Other",
        "prun": "ExecutionMagics",
        "pypy": "Other",
        "python": "Other",
        "python2": "Other",
        "python3": "Other",
        "ruby": "Other",
        "script": "ScriptMagics",
        "sh": "Other",
        "svg": "DisplayMagics",
        "sx": "OSMagics",
        "system": "OSMagics",
        "time": "ExecutionMagics",
        "timeit": "ExecutionMagics",
        "writefile": "OSMagics"
       },
       "line": {
        "alias": "OSMagics",
        "alias_magic": "BasicMagics",
        "autoawait": "AsyncMagics",
        "autocall": "AutoMagics",
        "automagic": "AutoMagics",
        "autosave": "KernelMagics",
        "bookmark": "OSMagics",
        "cat": "Other",
        "cd": "OSMagics",
        "clear": "KernelMagics",
        "code_wrap": "ExecutionMagics",
        "colors": "BasicMagics",
        "conda": "PackagingMagics",
        "config": "ConfigMagics",
        "connect_info": "KernelMagics",
        "cp": "Other",
        "debug": "ExecutionMagics",
        "dhist": "OSMagics",
        "dirs": "OSMagics",
        "doctest_mode": "BasicMagics",
        "ed": "Other",
        "edit": "KernelMagics",
        "env": "OSMagics",
        "gui": "BasicMagics",
        "hist": "Other",
        "history": "HistoryMagics",
        "killbgscripts": "ScriptMagics",
        "ldir": "Other",
        "less": "KernelMagics",
        "lf": "Other",
        "lk": "Other",
        "ll": "Other",
        "load": "CodeMagics",
        "load_ext": "ExtensionMagics",
        "loadpy": "CodeMagics",
        "logoff": "LoggingMagics",
        "logon": "LoggingMagics",
        "logstart": "LoggingMagics",
        "logstate": "LoggingMagics",
        "logstop": "LoggingMagics",
        "ls": "Other",
        "lsmagic": "BasicMagics",
        "lx": "Other",
        "macro": "ExecutionMagics",
        "magic": "BasicMagics",
        "man": "KernelMagics",
        "matplotlib": "PylabMagics",
        "mkdir": "Other",
        "more": "KernelMagics",
        "mv": "Other",
        "notebook": "BasicMagics",
        "page": "BasicMagics",
        "pastebin": "CodeMagics",
        "pdb": "ExecutionMagics",
        "pdef": "NamespaceMagics",
        "pdoc": "NamespaceMagics",
        "pfile": "NamespaceMagics",
        "pinfo": "NamespaceMagics",
        "pinfo2": "NamespaceMagics",
        "pip": "PackagingMagics",
        "popd": "OSMagics",
        "pprint": "BasicMagics",
        "precision": "BasicMagics",
        "prun": "ExecutionMagics",
        "psearch": "NamespaceMagics",
        "psource": "NamespaceMagics",
        "pushd": "OSMagics",
        "pwd": "OSMagics",
        "pycat": "OSMagics",
        "pylab": "PylabMagics",
        "qtconsole": "KernelMagics",
        "quickref": "BasicMagics",
        "recall": "HistoryMagics",
        "rehashx": "OSMagics",
        "reload_ext": "ExtensionMagics",
        "rep": "Other",
        "rerun": "HistoryMagics",
        "reset": "NamespaceMagics",
        "reset_selective": "NamespaceMagics",
        "rm": "Other",
        "rmdir": "Other",
        "run": "ExecutionMagics",
        "save": "CodeMagics",
        "sc": "OSMagics",
        "set_env": "OSMagics",
        "store": "StoreMagics",
        "sx": "OSMagics",
        "system": "OSMagics",
        "tb": "ExecutionMagics",
        "time": "ExecutionMagics",
        "timeit": "ExecutionMagics",
        "unalias": "OSMagics",
        "unload_ext": "ExtensionMagics",
        "who": "NamespaceMagics",
        "who_ls": "NamespaceMagics",
        "whos": "NamespaceMagics",
        "xdel": "NamespaceMagics",
        "xmode": "BasicMagics"
       }
      },
      "text/plain": [
       "Available line magics:\n",
       "%alias  %alias_magic  %autoawait  %autocall  %automagic  %autosave  %bookmark  %cat  %cd  %clear  %code_wrap  %colors  %conda  %config  %connect_info  %cp  %debug  %dhist  %dirs  %doctest_mode  %ed  %edit  %env  %gui  %hist  %history  %killbgscripts  %ldir  %less  %lf  %lk  %ll  %load  %load_ext  %loadpy  %logoff  %logon  %logstart  %logstate  %logstop  %ls  %lsmagic  %lx  %macro  %magic  %man  %matplotlib  %mkdir  %more  %mv  %notebook  %page  %pastebin  %pdb  %pdef  %pdoc  %pfile  %pinfo  %pinfo2  %pip  %popd  %pprint  %precision  %prun  %psearch  %psource  %pushd  %pwd  %pycat  %pylab  %qtconsole  %quickref  %recall  %rehashx  %reload_ext  %rep  %rerun  %reset  %reset_selective  %rm  %rmdir  %run  %save  %sc  %set_env  %store  %sx  %system  %tb  %time  %timeit  %unalias  %unload_ext  %who  %who_ls  %whos  %xdel  %xmode\n",
       "\n",
       "Available cell magics:\n",
       "%%!  %%HTML  %%SVG  %%bash  %%capture  %%code_wrap  %%debug  %%file  %%html  %%javascript  %%js  %%latex  %%markdown  %%perl  %%prun  %%pypy  %%python  %%python2  %%python3  %%ruby  %%script  %%sh  %%svg  %%sx  %%system  %%time  %%timeit  %%writefile\n",
       "\n",
       "Automagic is ON, % prefix IS NOT needed for line magics."
      ]
     },
     "execution_count": 1,
     "metadata": {},
     "output_type": "execute_result"
    }
   ],
   "source": [
    "%lsmagic"
   ]
  },
  {
   "cell_type": "code",
   "execution_count": 2,
   "id": "2dc36d8d",
   "metadata": {
    "execution": {
     "iopub.execute_input": "2024-02-20T15:55:48.631039Z",
     "iopub.status.busy": "2024-02-20T15:55:48.630685Z",
     "iopub.status.idle": "2024-02-20T15:55:48.634118Z",
     "shell.execute_reply": "2024-02-20T15:55:48.633630Z"
    }
   },
   "outputs": [
    {
     "name": "stdout",
     "output_type": "stream",
     "text": [
      "Variable   Type    Data/Info\n",
      "----------------------------\n",
      "a          int     5\n"
     ]
    }
   ],
   "source": [
    "a = 5\n",
    "\n",
    "%whos"
   ]
  },
  {
   "cell_type": "code",
   "execution_count": 3,
   "id": "4b266b8b",
   "metadata": {
    "execution": {
     "iopub.execute_input": "2024-02-20T15:55:48.636182Z",
     "iopub.status.busy": "2024-02-20T15:55:48.635795Z",
     "iopub.status.idle": "2024-02-20T15:55:48.638596Z",
     "shell.execute_reply": "2024-02-20T15:55:48.638021Z"
    }
   },
   "outputs": [],
   "source": [
    "?"
   ]
  },
  {
   "cell_type": "code",
   "execution_count": 4,
   "id": "20f753ab",
   "metadata": {
    "execution": {
     "iopub.execute_input": "2024-02-20T15:55:48.640609Z",
     "iopub.status.busy": "2024-02-20T15:55:48.640277Z",
     "iopub.status.idle": "2024-02-20T15:55:48.643934Z",
     "shell.execute_reply": "2024-02-20T15:55:48.643322Z"
    }
   },
   "outputs": [],
   "source": [
    "%quickref"
   ]
  },
  {
   "cell_type": "code",
   "execution_count": 5,
   "id": "0b190adc",
   "metadata": {
    "execution": {
     "iopub.execute_input": "2024-02-20T15:55:48.646064Z",
     "iopub.status.busy": "2024-02-20T15:55:48.645733Z",
     "iopub.status.idle": "2024-02-20T15:55:48.676608Z",
     "shell.execute_reply": "2024-02-20T15:55:48.676006Z"
    }
   },
   "outputs": [],
   "source": [
    "round?"
   ]
  },
  {
   "cell_type": "code",
   "execution_count": 6,
   "id": "ea3f3b83",
   "metadata": {
    "execution": {
     "iopub.execute_input": "2024-02-20T15:55:48.678665Z",
     "iopub.status.busy": "2024-02-20T15:55:48.678500Z",
     "iopub.status.idle": "2024-02-20T15:55:48.682953Z",
     "shell.execute_reply": "2024-02-20T15:55:48.682487Z"
    }
   },
   "outputs": [
    {
     "data": {
      "text/plain": [
       "(int, float, float, str, str, complex, bool)"
      ]
     },
     "execution_count": 6,
     "metadata": {},
     "output_type": "execute_result"
    }
   ],
   "source": [
    "a = 5\n",
    "b = 5.0\n",
    "c = float(5)\n",
    "d = 'dee'\n",
    "e = 'e'\n",
    "f = 2+3j\n",
    "g = True\n",
    "\n",
    "type(a), type(b), type(c), type(d), type(e), type(f), type(g)"
   ]
  },
  {
   "cell_type": "code",
   "execution_count": 7,
   "id": "bd3f52d0",
   "metadata": {
    "execution": {
     "iopub.execute_input": "2024-02-20T15:55:48.684767Z",
     "iopub.status.busy": "2024-02-20T15:55:48.684605Z",
     "iopub.status.idle": "2024-02-20T15:55:48.687644Z",
     "shell.execute_reply": "2024-02-20T15:55:48.687205Z"
    }
   },
   "outputs": [],
   "source": [
    "empty_list = []\n",
    "\n",
    "string_list = ['lions', 'tigers', 'bears', 'sharks', 'hamsters']\n",
    "\n",
    "int_list = [0, 1, 2, 3, 4]\n",
    "\n",
    "int_list2 = list(range(5,10))\n",
    "\n",
    "list_from_variables = [a, b, c, d, e]\n",
    "\n",
    "list_of_lists = [empty_list,\n",
    "                 string_list,\n",
    "                 list_from_variables,\n",
    "                 int_list,\n",
    "                 int_list2]"
   ]
  },
  {
   "cell_type": "code",
   "execution_count": 8,
   "id": "a4235fc8",
   "metadata": {
    "execution": {
     "iopub.execute_input": "2024-02-20T15:55:48.689540Z",
     "iopub.status.busy": "2024-02-20T15:55:48.689378Z",
     "iopub.status.idle": "2024-02-20T15:55:48.692876Z",
     "shell.execute_reply": "2024-02-20T15:55:48.692392Z"
    }
   },
   "outputs": [
    {
     "data": {
      "text/plain": [
       "[]"
      ]
     },
     "execution_count": 8,
     "metadata": {},
     "output_type": "execute_result"
    }
   ],
   "source": [
    "empty_list"
   ]
  },
  {
   "cell_type": "code",
   "execution_count": 9,
   "id": "c4bf90dd",
   "metadata": {
    "execution": {
     "iopub.execute_input": "2024-02-20T15:55:48.694721Z",
     "iopub.status.busy": "2024-02-20T15:55:48.694435Z",
     "iopub.status.idle": "2024-02-20T15:55:48.698037Z",
     "shell.execute_reply": "2024-02-20T15:55:48.697483Z"
    }
   },
   "outputs": [
    {
     "data": {
      "text/plain": [
       "['lions', 'tigers', 'bears', 'sharks', 'hamsters']"
      ]
     },
     "execution_count": 9,
     "metadata": {},
     "output_type": "execute_result"
    }
   ],
   "source": [
    "string_list"
   ]
  },
  {
   "cell_type": "code",
   "execution_count": 10,
   "id": "67067109",
   "metadata": {
    "execution": {
     "iopub.execute_input": "2024-02-20T15:55:48.699881Z",
     "iopub.status.busy": "2024-02-20T15:55:48.699703Z",
     "iopub.status.idle": "2024-02-20T15:55:48.703139Z",
     "shell.execute_reply": "2024-02-20T15:55:48.702680Z"
    }
   },
   "outputs": [
    {
     "data": {
      "text/plain": [
       "[0, 1, 2, 3, 4]"
      ]
     },
     "execution_count": 10,
     "metadata": {},
     "output_type": "execute_result"
    }
   ],
   "source": [
    "int_list"
   ]
  },
  {
   "cell_type": "code",
   "execution_count": 11,
   "id": "0425195c",
   "metadata": {
    "execution": {
     "iopub.execute_input": "2024-02-20T15:55:48.705080Z",
     "iopub.status.busy": "2024-02-20T15:55:48.704904Z",
     "iopub.status.idle": "2024-02-20T15:55:48.708526Z",
     "shell.execute_reply": "2024-02-20T15:55:48.708036Z"
    }
   },
   "outputs": [
    {
     "data": {
      "text/plain": [
       "[5, 6, 7, 8, 9]"
      ]
     },
     "execution_count": 11,
     "metadata": {},
     "output_type": "execute_result"
    }
   ],
   "source": [
    "int_list2"
   ]
  },
  {
   "cell_type": "code",
   "execution_count": 12,
   "id": "784bb687",
   "metadata": {
    "execution": {
     "iopub.execute_input": "2024-02-20T15:55:48.710517Z",
     "iopub.status.busy": "2024-02-20T15:55:48.710340Z",
     "iopub.status.idle": "2024-02-20T15:55:48.713942Z",
     "shell.execute_reply": "2024-02-20T15:55:48.713382Z"
    }
   },
   "outputs": [
    {
     "data": {
      "text/plain": [
       "[5, 5.0, 5.0, 'dee', 'e']"
      ]
     },
     "execution_count": 12,
     "metadata": {},
     "output_type": "execute_result"
    }
   ],
   "source": [
    "list_from_variables"
   ]
  },
  {
   "cell_type": "code",
   "execution_count": 13,
   "id": "1bed369d",
   "metadata": {
    "execution": {
     "iopub.execute_input": "2024-02-20T15:55:48.715836Z",
     "iopub.status.busy": "2024-02-20T15:55:48.715548Z",
     "iopub.status.idle": "2024-02-20T15:55:48.719198Z",
     "shell.execute_reply": "2024-02-20T15:55:48.718716Z"
    }
   },
   "outputs": [
    {
     "data": {
      "text/plain": [
       "[[],\n",
       " ['lions', 'tigers', 'bears', 'sharks', 'hamsters'],\n",
       " [5, 5.0, 5.0, 'dee', 'e'],\n",
       " [0, 1, 2, 3, 4],\n",
       " [5, 6, 7, 8, 9]]"
      ]
     },
     "execution_count": 13,
     "metadata": {},
     "output_type": "execute_result"
    }
   ],
   "source": [
    "list_of_lists"
   ]
  },
  {
   "cell_type": "code",
   "execution_count": 14,
   "id": "943db426",
   "metadata": {
    "execution": {
     "iopub.execute_input": "2024-02-20T15:55:48.721064Z",
     "iopub.status.busy": "2024-02-20T15:55:48.720889Z",
     "iopub.status.idle": "2024-02-20T15:55:48.724382Z",
     "shell.execute_reply": "2024-02-20T15:55:48.723815Z"
    }
   },
   "outputs": [
    {
     "data": {
      "text/plain": [
       "'lions'"
      ]
     },
     "execution_count": 14,
     "metadata": {},
     "output_type": "execute_result"
    }
   ],
   "source": [
    "string_list[0]"
   ]
  },
  {
   "cell_type": "code",
   "execution_count": 15,
   "id": "e043fd20",
   "metadata": {
    "execution": {
     "iopub.execute_input": "2024-02-20T15:55:48.726379Z",
     "iopub.status.busy": "2024-02-20T15:55:48.726036Z",
     "iopub.status.idle": "2024-02-20T15:55:48.729679Z",
     "shell.execute_reply": "2024-02-20T15:55:48.729221Z"
    }
   },
   "outputs": [
    {
     "data": {
      "text/plain": [
       "['tigers', 'bears', 'sharks']"
      ]
     },
     "execution_count": 15,
     "metadata": {},
     "output_type": "execute_result"
    }
   ],
   "source": [
    "string_list[1:4]"
   ]
  },
  {
   "cell_type": "code",
   "execution_count": 16,
   "id": "ad767f3f",
   "metadata": {
    "execution": {
     "iopub.execute_input": "2024-02-20T15:55:48.731649Z",
     "iopub.status.busy": "2024-02-20T15:55:48.731304Z",
     "iopub.status.idle": "2024-02-20T15:55:48.734783Z",
     "shell.execute_reply": "2024-02-20T15:55:48.734276Z"
    }
   },
   "outputs": [
    {
     "data": {
      "text/plain": [
       "[0, 2, 4]"
      ]
     },
     "execution_count": 16,
     "metadata": {},
     "output_type": "execute_result"
    }
   ],
   "source": [
    "int_list[::2]"
   ]
  },
  {
   "cell_type": "code",
   "execution_count": 17,
   "id": "d15563d1",
   "metadata": {
    "execution": {
     "iopub.execute_input": "2024-02-20T15:55:48.736905Z",
     "iopub.status.busy": "2024-02-20T15:55:48.736568Z",
     "iopub.status.idle": "2024-02-20T15:55:48.740019Z",
     "shell.execute_reply": "2024-02-20T15:55:48.739469Z"
    }
   },
   "outputs": [
    {
     "data": {
      "text/plain": [
       "'hamsters'"
      ]
     },
     "execution_count": 17,
     "metadata": {},
     "output_type": "execute_result"
    }
   ],
   "source": [
    "list_of_lists[1][4]"
   ]
  },
  {
   "cell_type": "code",
   "execution_count": 18,
   "id": "1e66b5c3",
   "metadata": {
    "execution": {
     "iopub.execute_input": "2024-02-20T15:55:48.741842Z",
     "iopub.status.busy": "2024-02-20T15:55:48.741680Z",
     "iopub.status.idle": "2024-02-20T15:55:48.744519Z",
     "shell.execute_reply": "2024-02-20T15:55:48.744026Z"
    }
   },
   "outputs": [],
   "source": [
    "int_list[2] = 222\n",
    "\n",
    "int_list.append(5)\n",
    "\n",
    "string_list.remove('lions')\n",
    "\n",
    "list_from_variables.extend(int_list)"
   ]
  },
  {
   "cell_type": "code",
   "execution_count": 19,
   "id": "ca4548d2",
   "metadata": {
    "execution": {
     "iopub.execute_input": "2024-02-20T15:55:48.746283Z",
     "iopub.status.busy": "2024-02-20T15:55:48.746125Z",
     "iopub.status.idle": "2024-02-20T15:55:48.750096Z",
     "shell.execute_reply": "2024-02-20T15:55:48.749604Z"
    }
   },
   "outputs": [
    {
     "data": {
      "text/plain": [
       "[0, 1, 222, 3, 4, 5]"
      ]
     },
     "execution_count": 19,
     "metadata": {},
     "output_type": "execute_result"
    }
   ],
   "source": [
    "int_list"
   ]
  },
  {
   "cell_type": "code",
   "execution_count": 20,
   "id": "f9423d07",
   "metadata": {
    "execution": {
     "iopub.execute_input": "2024-02-20T15:55:48.752108Z",
     "iopub.status.busy": "2024-02-20T15:55:48.751927Z",
     "iopub.status.idle": "2024-02-20T15:55:48.755447Z",
     "shell.execute_reply": "2024-02-20T15:55:48.754916Z"
    }
   },
   "outputs": [
    {
     "data": {
      "text/plain": [
       "['tigers', 'bears', 'sharks', 'hamsters']"
      ]
     },
     "execution_count": 20,
     "metadata": {},
     "output_type": "execute_result"
    }
   ],
   "source": [
    "string_list"
   ]
  },
  {
   "cell_type": "code",
   "execution_count": 21,
   "id": "5e9257c1",
   "metadata": {
    "execution": {
     "iopub.execute_input": "2024-02-20T15:55:48.757440Z",
     "iopub.status.busy": "2024-02-20T15:55:48.757268Z",
     "iopub.status.idle": "2024-02-20T15:55:48.760925Z",
     "shell.execute_reply": "2024-02-20T15:55:48.760310Z"
    }
   },
   "outputs": [
    {
     "data": {
      "text/plain": [
       "[5, 5.0, 5.0, 'dee', 'e', 0, 1, 222, 3, 4, 5]"
      ]
     },
     "execution_count": 21,
     "metadata": {},
     "output_type": "execute_result"
    }
   ],
   "source": [
    "list_from_variables"
   ]
  },
  {
   "cell_type": "code",
   "execution_count": 22,
   "id": "f53f4e5c",
   "metadata": {
    "execution": {
     "iopub.execute_input": "2024-02-20T15:55:48.762894Z",
     "iopub.status.busy": "2024-02-20T15:55:48.762559Z",
     "iopub.status.idle": "2024-02-20T15:55:48.766311Z",
     "shell.execute_reply": "2024-02-20T15:55:48.765780Z"
    }
   },
   "outputs": [
    {
     "data": {
      "text/plain": [
       "(32, 'tall', 'likes hats')"
      ]
     },
     "execution_count": 22,
     "metadata": {},
     "output_type": "execute_result"
    }
   ],
   "source": [
    "joe_blow = (32, 'tall', 'likes hats')\n",
    "joe_blow"
   ]
  },
  {
   "cell_type": "code",
   "execution_count": 23,
   "id": "5f816ce8",
   "metadata": {
    "execution": {
     "iopub.execute_input": "2024-02-20T15:55:48.768533Z",
     "iopub.status.busy": "2024-02-20T15:55:48.768093Z",
     "iopub.status.idle": "2024-02-20T15:55:48.771647Z",
     "shell.execute_reply": "2024-02-20T15:55:48.771184Z"
    }
   },
   "outputs": [
    {
     "data": {
      "text/plain": [
       "'tall'"
      ]
     },
     "execution_count": 23,
     "metadata": {},
     "output_type": "execute_result"
    }
   ],
   "source": [
    "joe_blow[1]"
   ]
  },
  {
   "cell_type": "code",
   "execution_count": 24,
   "id": "0c560c6c",
   "metadata": {
    "execution": {
     "iopub.execute_input": "2024-02-20T15:55:48.773531Z",
     "iopub.status.busy": "2024-02-20T15:55:48.773365Z",
     "iopub.status.idle": "2024-02-20T15:55:48.904901Z",
     "shell.execute_reply": "2024-02-20T15:55:48.904078Z"
    }
   },
   "outputs": [
    {
     "ename": "AttributeError",
     "evalue": "'tuple' object has no attribute 'append'",
     "output_type": "error",
     "traceback": [
      "\u001b[0;31m---------------------------------------------------------------------------\u001b[0m",
      "\u001b[0;31mAttributeError\u001b[0m                            Traceback (most recent call last)",
      "Cell \u001b[0;32mIn[24], line 1\u001b[0m\n\u001b[0;32m----> 1\u001b[0m \u001b[43mjoe_blow\u001b[49m\u001b[38;5;241;43m.\u001b[39;49m\u001b[43mappend\u001b[49m(\u001b[38;5;124m'\u001b[39m\u001b[38;5;124mmarried\u001b[39m\u001b[38;5;124m'\u001b[39m)\n",
      "\u001b[0;31mAttributeError\u001b[0m: 'tuple' object has no attribute 'append'"
     ]
    }
   ],
   "source": [
    "joe_blow.append('married')"
   ]
  },
  {
   "cell_type": "code",
   "execution_count": 25,
   "id": "eb49db1c",
   "metadata": {
    "execution": {
     "iopub.execute_input": "2024-02-20T15:55:48.908285Z",
     "iopub.status.busy": "2024-02-20T15:55:48.907753Z",
     "iopub.status.idle": "2024-02-20T15:55:48.920509Z",
     "shell.execute_reply": "2024-02-20T15:55:48.919925Z"
    }
   },
   "outputs": [
    {
     "ename": "TypeError",
     "evalue": "'tuple' object does not support item assignment",
     "output_type": "error",
     "traceback": [
      "\u001b[0;31m---------------------------------------------------------------------------\u001b[0m",
      "\u001b[0;31mTypeError\u001b[0m                                 Traceback (most recent call last)",
      "Cell \u001b[0;32mIn[25], line 1\u001b[0m\n\u001b[0;32m----> 1\u001b[0m \u001b[43mjoe_blow\u001b[49m\u001b[43m[\u001b[49m\u001b[38;5;241;43m2\u001b[39;49m\u001b[43m]\u001b[49m \u001b[38;5;241m=\u001b[39m \u001b[38;5;124m'\u001b[39m\u001b[38;5;124mnot really a fan of hats\u001b[39m\u001b[38;5;124m'\u001b[39m\n",
      "\u001b[0;31mTypeError\u001b[0m: 'tuple' object does not support item assignment"
     ]
    }
   ],
   "source": [
    "joe_blow[2] = 'not really a fan of hats'"
   ]
  },
  {
   "cell_type": "code",
   "execution_count": 26,
   "id": "b63f3c5a",
   "metadata": {
    "execution": {
     "iopub.execute_input": "2024-02-20T15:55:48.922971Z",
     "iopub.status.busy": "2024-02-20T15:55:48.922553Z",
     "iopub.status.idle": "2024-02-20T15:55:48.926846Z",
     "shell.execute_reply": "2024-02-20T15:55:48.926235Z"
    }
   },
   "outputs": [
    {
     "data": {
      "text/plain": [
       "'elephant'"
      ]
     },
     "execution_count": 26,
     "metadata": {},
     "output_type": "execute_result"
    }
   ],
   "source": [
    "pets = ('elephant', 'cow', 'rock')\n",
    "\n",
    "pet1, pet2, pet3 = pets\n",
    "\n",
    "pet1"
   ]
  },
  {
   "cell_type": "code",
   "execution_count": 27,
   "id": "773f7941",
   "metadata": {
    "execution": {
     "iopub.execute_input": "2024-02-20T15:55:48.929095Z",
     "iopub.status.busy": "2024-02-20T15:55:48.928724Z",
     "iopub.status.idle": "2024-02-20T15:55:48.932652Z",
     "shell.execute_reply": "2024-02-20T15:55:48.932046Z"
    }
   },
   "outputs": [
    {
     "data": {
      "text/plain": [
       "('elephant',)"
      ]
     },
     "execution_count": 27,
     "metadata": {},
     "output_type": "execute_result"
    }
   ],
   "source": [
    "tuple_with_one_item = pet1,\n",
    "\n",
    "tuple_with_one_item"
   ]
  },
  {
   "cell_type": "code",
   "execution_count": 28,
   "id": "8f53db7b",
   "metadata": {
    "execution": {
     "iopub.execute_input": "2024-02-20T15:55:48.934717Z",
     "iopub.status.busy": "2024-02-20T15:55:48.934365Z",
     "iopub.status.idle": "2024-02-20T15:55:48.938372Z",
     "shell.execute_reply": "2024-02-20T15:55:48.937796Z"
    }
   },
   "outputs": [
    {
     "data": {
      "text/plain": [
       "{'key1': 'value1', 'key2': 'value2', 'key3': 'value3'}"
      ]
     },
     "execution_count": 28,
     "metadata": {},
     "output_type": "execute_result"
    }
   ],
   "source": [
    "dictionary0 = {'key1': 'value1', 'key2': 'value2', 'key3': 'value3'}\n",
    "dictionary0"
   ]
  },
  {
   "cell_type": "code",
   "execution_count": 29,
   "id": "f9023796",
   "metadata": {
    "execution": {
     "iopub.execute_input": "2024-02-20T15:55:48.940542Z",
     "iopub.status.busy": "2024-02-20T15:55:48.940081Z",
     "iopub.status.idle": "2024-02-20T15:55:48.944273Z",
     "shell.execute_reply": "2024-02-20T15:55:48.943584Z"
    }
   },
   "outputs": [
    {
     "data": {
      "text/plain": [
       "{1: 'value1', 2: 'value2', 3: 'value3'}"
      ]
     },
     "execution_count": 29,
     "metadata": {},
     "output_type": "execute_result"
    }
   ],
   "source": [
    "dictionary1 = {1: 'value1', 2: 'value2', 3: 'value3'}\n",
    "dictionary1"
   ]
  },
  {
   "cell_type": "code",
   "execution_count": 30,
   "id": "a624d289",
   "metadata": {
    "execution": {
     "iopub.execute_input": "2024-02-20T15:55:48.948147Z",
     "iopub.status.busy": "2024-02-20T15:55:48.947258Z",
     "iopub.status.idle": "2024-02-20T15:55:48.953216Z",
     "shell.execute_reply": "2024-02-20T15:55:48.952477Z"
    }
   },
   "outputs": [
    {
     "data": {
      "text/plain": [
       "[1, 2, 3]"
      ]
     },
     "execution_count": 30,
     "metadata": {},
     "output_type": "execute_result"
    }
   ],
   "source": [
    "list(dictionary1.keys())"
   ]
  },
  {
   "cell_type": "code",
   "execution_count": 31,
   "id": "b2d583b4",
   "metadata": {
    "execution": {
     "iopub.execute_input": "2024-02-20T15:55:48.955911Z",
     "iopub.status.busy": "2024-02-20T15:55:48.955378Z",
     "iopub.status.idle": "2024-02-20T15:55:48.959913Z",
     "shell.execute_reply": "2024-02-20T15:55:48.959283Z"
    }
   },
   "outputs": [
    {
     "data": {
      "text/plain": [
       "['value1', 'value2', 'value3']"
      ]
     },
     "execution_count": 31,
     "metadata": {},
     "output_type": "execute_result"
    }
   ],
   "source": [
    "list(dictionary1.values())"
   ]
  },
  {
   "cell_type": "code",
   "execution_count": 32,
   "id": "ea557775",
   "metadata": {
    "execution": {
     "iopub.execute_input": "2024-02-20T15:55:48.962324Z",
     "iopub.status.busy": "2024-02-20T15:55:48.961922Z",
     "iopub.status.idle": "2024-02-20T15:55:48.966134Z",
     "shell.execute_reply": "2024-02-20T15:55:48.965596Z"
    }
   },
   "outputs": [
    {
     "data": {
      "text/plain": [
       "50"
      ]
     },
     "execution_count": 32,
     "metadata": {},
     "output_type": "execute_result"
    }
   ],
   "source": [
    "cylinder = {'mass': 50, 'base': 10, 'height': 100}\n",
    "cylinder['mass']"
   ]
  },
  {
   "cell_type": "code",
   "execution_count": 33,
   "id": "b8b422a5",
   "metadata": {
    "execution": {
     "iopub.execute_input": "2024-02-20T15:55:48.968357Z",
     "iopub.status.busy": "2024-02-20T15:55:48.968150Z",
     "iopub.status.idle": "2024-02-20T15:55:48.972625Z",
     "shell.execute_reply": "2024-02-20T15:55:48.972074Z"
    }
   },
   "outputs": [
    {
     "data": {
      "text/plain": [
       "{'mass01': 10, 'inertia01': 1, 'mass02': 50, 'inertia02': 5}"
      ]
     },
     "execution_count": 33,
     "metadata": {},
     "output_type": "execute_result"
    }
   ],
   "source": [
    "keys = ['mass01', 'inertia01', 'mass02', 'inertia02']\n",
    "values = [10, 1, 50, 5]\n",
    "dict(zip(keys, values))"
   ]
  },
  {
   "cell_type": "code",
   "execution_count": 34,
   "id": "bdaac360",
   "metadata": {
    "execution": {
     "iopub.execute_input": "2024-02-20T15:55:48.974776Z",
     "iopub.status.busy": "2024-02-20T15:55:48.974416Z",
     "iopub.status.idle": "2024-02-20T15:55:48.978813Z",
     "shell.execute_reply": "2024-02-20T15:55:48.978298Z"
    }
   },
   "outputs": [
    {
     "data": {
      "text/plain": [
       "100"
      ]
     },
     "execution_count": 34,
     "metadata": {},
     "output_type": "execute_result"
    }
   ],
   "source": [
    "def abs_value(A):\n",
    "    if A < 0:\n",
    "        A = -A\n",
    "    return A\n",
    "\n",
    "abs_value(-100)"
   ]
  },
  {
   "cell_type": "code",
   "execution_count": 35,
   "id": "fa27cc61",
   "metadata": {
    "execution": {
     "iopub.execute_input": "2024-02-20T15:55:48.980814Z",
     "iopub.status.busy": "2024-02-20T15:55:48.980622Z",
     "iopub.status.idle": "2024-02-20T15:55:48.984673Z",
     "shell.execute_reply": "2024-02-20T15:55:48.984154Z"
    }
   },
   "outputs": [
    {
     "data": {
      "text/plain": [
       "123"
      ]
     },
     "execution_count": 35,
     "metadata": {},
     "output_type": "execute_result"
    }
   ],
   "source": [
    "abs_value(123)"
   ]
  },
  {
   "cell_type": "code",
   "execution_count": 36,
   "id": "abfaac0c",
   "metadata": {
    "execution": {
     "iopub.execute_input": "2024-02-20T15:55:48.986914Z",
     "iopub.status.busy": "2024-02-20T15:55:48.986540Z",
     "iopub.status.idle": "2024-02-20T15:55:48.989535Z",
     "shell.execute_reply": "2024-02-20T15:55:48.988987Z"
    }
   },
   "outputs": [],
   "source": [
    "def long_div(dividend, divisor):\n",
    "    quotient = dividend // divisor  # // : floor division\n",
    "    remainder = dividend % divisor  # % : modulo\n",
    "    return quotient, remainder"
   ]
  },
  {
   "cell_type": "code",
   "execution_count": 37,
   "id": "08122862",
   "metadata": {
    "execution": {
     "iopub.execute_input": "2024-02-20T15:55:48.991464Z",
     "iopub.status.busy": "2024-02-20T15:55:48.991292Z",
     "iopub.status.idle": "2024-02-20T15:55:48.995340Z",
     "shell.execute_reply": "2024-02-20T15:55:48.994828Z"
    }
   },
   "outputs": [
    {
     "data": {
      "text/plain": [
       "(17, 5)"
      ]
     },
     "execution_count": 37,
     "metadata": {},
     "output_type": "execute_result"
    }
   ],
   "source": [
    "a = 430\n",
    "b = 25\n",
    "\n",
    "quo, rem = long_div(a, b)\n",
    "\n",
    "quo, rem"
   ]
  },
  {
   "cell_type": "code",
   "execution_count": 38,
   "id": "b89b59cc",
   "metadata": {
    "execution": {
     "iopub.execute_input": "2024-02-20T15:55:48.997310Z",
     "iopub.status.busy": "2024-02-20T15:55:48.997139Z",
     "iopub.status.idle": "2024-02-20T15:55:49.000381Z",
     "shell.execute_reply": "2024-02-20T15:55:48.999855Z"
    }
   },
   "outputs": [
    {
     "name": "stdout",
     "output_type": "stream",
     "text": [
      "430 divided 25 is 17 remainder 5\n"
     ]
    }
   ],
   "source": [
    "msg = '{} divided {} is {} remainder {}'.format(a, b, quo, rem)\n",
    "print(msg)"
   ]
  },
  {
   "cell_type": "code",
   "execution_count": 39,
   "id": "4ddd8436",
   "metadata": {
    "execution": {
     "iopub.execute_input": "2024-02-20T15:55:49.002542Z",
     "iopub.status.busy": "2024-02-20T15:55:49.002185Z",
     "iopub.status.idle": "2024-02-20T15:55:49.005346Z",
     "shell.execute_reply": "2024-02-20T15:55:49.004755Z"
    }
   },
   "outputs": [
    {
     "name": "stdout",
     "output_type": "stream",
     "text": [
      "3.10.13 | packaged by conda-forge | (main, Dec 23 2023, 15:36:39) [GCC 12.3.0]\n"
     ]
    }
   ],
   "source": [
    "import sys\n",
    "\n",
    "print(sys.version)"
   ]
  },
  {
   "cell_type": "code",
   "execution_count": 40,
   "id": "53919c5a",
   "metadata": {
    "execution": {
     "iopub.execute_input": "2024-02-20T15:55:49.007424Z",
     "iopub.status.busy": "2024-02-20T15:55:49.007087Z",
     "iopub.status.idle": "2024-02-20T15:55:49.010049Z",
     "shell.execute_reply": "2024-02-20T15:55:49.009484Z"
    }
   },
   "outputs": [
    {
     "name": "stdout",
     "output_type": "stream",
     "text": [
      "3.10.13 | packaged by conda-forge | (main, Dec 23 2023, 15:36:39) [GCC 12.3.0]\n"
     ]
    }
   ],
   "source": [
    "from sys import version\n",
    "\n",
    "print(version)"
   ]
  },
  {
   "cell_type": "code",
   "execution_count": 41,
   "id": "c580df79",
   "metadata": {
    "execution": {
     "iopub.execute_input": "2024-02-20T15:55:49.012218Z",
     "iopub.status.busy": "2024-02-20T15:55:49.011866Z",
     "iopub.status.idle": "2024-02-20T15:55:49.616528Z",
     "shell.execute_reply": "2024-02-20T15:55:49.615794Z"
    }
   },
   "outputs": [],
   "source": [
    "import sympy as sm\n",
    "import numpy as np\n",
    "import scipy as sp\n",
    "import matplotlib.pyplot as plt"
   ]
  },
  {
   "cell_type": "code",
   "execution_count": 42,
   "id": "affa132e",
   "metadata": {
    "execution": {
     "iopub.execute_input": "2024-02-20T15:55:49.619494Z",
     "iopub.status.busy": "2024-02-20T15:55:49.619047Z",
     "iopub.status.idle": "2024-02-20T15:55:49.624082Z",
     "shell.execute_reply": "2024-02-20T15:55:49.623601Z"
    }
   },
   "outputs": [
    {
     "data": {
      "text/latex": [
       "$\\displaystyle 0.843853958732492$"
      ],
      "text/plain": [
       "0.843853958732492"
      ]
     },
     "execution_count": 42,
     "metadata": {},
     "output_type": "execute_result"
    }
   ],
   "source": [
    "sm.cos(12.0)"
   ]
  },
  {
   "cell_type": "code",
   "execution_count": 43,
   "id": "020e5290",
   "metadata": {
    "execution": {
     "iopub.execute_input": "2024-02-20T15:55:49.626274Z",
     "iopub.status.busy": "2024-02-20T15:55:49.625864Z",
     "iopub.status.idle": "2024-02-20T15:55:49.630647Z",
     "shell.execute_reply": "2024-02-20T15:55:49.630015Z"
    }
   },
   "outputs": [
    {
     "data": {
      "text/plain": [
       "0.8438539587324921"
      ]
     },
     "execution_count": 43,
     "metadata": {},
     "output_type": "execute_result"
    }
   ],
   "source": [
    "np.cos(12.0)"
   ]
  },
  {
   "cell_type": "code",
   "execution_count": 44,
   "id": "49c02222",
   "metadata": {
    "execution": {
     "iopub.execute_input": "2024-02-20T15:55:49.632593Z",
     "iopub.status.busy": "2024-02-20T15:55:49.632378Z",
     "iopub.status.idle": "2024-02-20T15:55:49.636437Z",
     "shell.execute_reply": "2024-02-20T15:55:49.635855Z"
    }
   },
   "outputs": [
    {
     "name": "stderr",
     "output_type": "stream",
     "text": [
      "/tmp/ipykernel_4049/3139199006.py:1: DeprecationWarning: scipy.cos is deprecated and will be removed in SciPy 2.0.0, use numpy.cos instead\n",
      "  sp.cos(12.0)\n"
     ]
    },
    {
     "data": {
      "text/plain": [
       "0.8438539587324921"
      ]
     },
     "execution_count": 44,
     "metadata": {},
     "output_type": "execute_result"
    }
   ],
   "source": [
    "sp.cos(12.0)"
   ]
  }
 ],
 "metadata": {
  "kernelspec": {
   "display_name": "Python 3 (ipykernel)",
   "language": "python",
   "name": "python3"
  },
  "language_info": {
   "codemirror_mode": {
    "name": "ipython",
    "version": 3
   },
   "file_extension": ".py",
   "mimetype": "text/x-python",
   "name": "python",
   "nbconvert_exporter": "python",
   "pygments_lexer": "ipython3",
   "version": "3.10.13"
  }
 },
 "nbformat": 4,
 "nbformat_minor": 5
}