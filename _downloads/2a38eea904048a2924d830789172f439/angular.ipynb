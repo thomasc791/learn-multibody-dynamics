{
 "cells": [
  {
   "cell_type": "code",
   "execution_count": 1,
   "id": "15dbb07a",
   "metadata": {
    "execution": {
     "iopub.execute_input": "2024-02-20T15:51:52.219607Z",
     "iopub.status.busy": "2024-02-20T15:51:52.219423Z",
     "iopub.status.idle": "2024-02-20T15:51:52.591512Z",
     "shell.execute_reply": "2024-02-20T15:51:52.590877Z"
    }
   },
   "outputs": [],
   "source": [
    "import sympy as sm\n",
    "import sympy.physics.mechanics as me\n",
    "me.init_vprinting(use_latex='mathjax')"
   ]
  },
  {
   "cell_type": "code",
   "execution_count": 2,
   "id": "413771e3",
   "metadata": {
    "execution": {
     "iopub.execute_input": "2024-02-20T15:51:52.594370Z",
     "iopub.status.busy": "2024-02-20T15:51:52.593946Z",
     "iopub.status.idle": "2024-02-20T15:51:52.597991Z",
     "shell.execute_reply": "2024-02-20T15:51:52.597513Z"
    }
   },
   "outputs": [],
   "source": [
    "class ReferenceFrame(me.ReferenceFrame):\n",
    "\n",
    "    def __init__(self, *args, **kwargs):\n",
    "\n",
    "        kwargs.pop('latexs', None)\n",
    "\n",
    "        lab = args[0].lower()\n",
    "        tex = r'\\hat{{{}}}_{}'\n",
    "\n",
    "        super(ReferenceFrame, self).__init__(*args,\n",
    "                                             latexs=(tex.format(lab, 'x'),\n",
    "                                                     tex.format(lab, 'y'),\n",
    "                                                     tex.format(lab, 'z')),\n",
    "                                             **kwargs)\n",
    "me.ReferenceFrame = ReferenceFrame"
   ]
  },
  {
   "cell_type": "code",
   "execution_count": 3,
   "id": "006013ee",
   "metadata": {
    "execution": {
     "iopub.execute_input": "2024-02-20T15:51:52.600150Z",
     "iopub.status.busy": "2024-02-20T15:51:52.599678Z",
     "iopub.status.idle": "2024-02-20T15:51:52.604758Z",
     "shell.execute_reply": "2024-02-20T15:51:52.604173Z"
    }
   },
   "outputs": [],
   "source": [
    "cxx, cyy, czz = me.dynamicsymbols('c_{xx}, c_{yy}, c_{zz}')\n",
    "cxy, cxz, cyx = me.dynamicsymbols('c_{xy}, c_{xz}, c_{yx}')\n",
    "cyz, czx, czy = me.dynamicsymbols('c_{yz}, c_{zx}, c_{zy}')\n",
    "\n",
    "B_C_A = sm.Matrix([[cxx, cxy, cxz],\n",
    "                   [cyx, cyy, cyz],\n",
    "                   [czx, czy, czz]])"
   ]
  },
  {
   "cell_type": "code",
   "execution_count": 4,
   "id": "344ae885",
   "metadata": {
    "execution": {
     "iopub.execute_input": "2024-02-20T15:51:52.606803Z",
     "iopub.status.busy": "2024-02-20T15:51:52.606461Z",
     "iopub.status.idle": "2024-02-20T15:51:52.630449Z",
     "shell.execute_reply": "2024-02-20T15:51:52.629888Z"
    }
   },
   "outputs": [
    {
     "data": {
      "text/latex": [
       "$\\displaystyle \\left[\\begin{matrix}c_{xx} & c_{xy} & c_{xz}\\\\c_{yx} & c_{yy} & c_{yz}\\\\c_{zx} & c_{zy} & c_{zz}\\end{matrix}\\right]$"
      ],
      "text/plain": [
       "⎡c_{xx}  c_{xy}  c_{xz}⎤\n",
       "⎢                      ⎥\n",
       "⎢c_{yx}  c_{yy}  c_{yz}⎥\n",
       "⎢                      ⎥\n",
       "⎣c_{zx}  c_{zy}  c_{zz}⎦"
      ]
     },
     "execution_count": 4,
     "metadata": {},
     "output_type": "execute_result"
    }
   ],
   "source": [
    "A = me.ReferenceFrame('A')\n",
    "B = me.ReferenceFrame('B')\n",
    "B.orient_explicit(A, B_C_A.transpose())\n",
    "B.dcm(A)"
   ]
  },
  {
   "cell_type": "code",
   "execution_count": 5,
   "id": "a5546bb9",
   "metadata": {
    "execution": {
     "iopub.execute_input": "2024-02-20T15:51:52.632576Z",
     "iopub.status.busy": "2024-02-20T15:51:52.632302Z",
     "iopub.status.idle": "2024-02-20T15:51:52.637070Z",
     "shell.execute_reply": "2024-02-20T15:51:52.636536Z"
    }
   },
   "outputs": [
    {
     "data": {
      "text/latex": [
       "$\\displaystyle c_{xx}\\hat{a}_x + c_{xy}\\hat{a}_y + c_{xz}\\hat{a}_z$"
      ],
      "text/plain": [
       "c_{xx} a_x + c_{xy} a_y + c_{xz} a_z"
      ]
     },
     "execution_count": 5,
     "metadata": {},
     "output_type": "execute_result"
    }
   ],
   "source": [
    "B.x.express(A)"
   ]
  },
  {
   "cell_type": "code",
   "execution_count": 6,
   "id": "b110ce02",
   "metadata": {
    "execution": {
     "iopub.execute_input": "2024-02-20T15:51:52.639100Z",
     "iopub.status.busy": "2024-02-20T15:51:52.638816Z",
     "iopub.status.idle": "2024-02-20T15:51:52.643219Z",
     "shell.execute_reply": "2024-02-20T15:51:52.642734Z"
    }
   },
   "outputs": [
    {
     "data": {
      "text/latex": [
       "$\\displaystyle c_{yx}\\hat{a}_x + c_{yy}\\hat{a}_y + c_{yz}\\hat{a}_z$"
      ],
      "text/plain": [
       "c_{yx} a_x + c_{yy} a_y + c_{yz} a_z"
      ]
     },
     "execution_count": 6,
     "metadata": {},
     "output_type": "execute_result"
    }
   ],
   "source": [
    "B.y.express(A)"
   ]
  },
  {
   "cell_type": "code",
   "execution_count": 7,
   "id": "deecd24c",
   "metadata": {
    "execution": {
     "iopub.execute_input": "2024-02-20T15:51:52.645254Z",
     "iopub.status.busy": "2024-02-20T15:51:52.644852Z",
     "iopub.status.idle": "2024-02-20T15:51:52.649333Z",
     "shell.execute_reply": "2024-02-20T15:51:52.648795Z"
    }
   },
   "outputs": [
    {
     "data": {
      "text/latex": [
       "$\\displaystyle c_{zx}\\hat{a}_x + c_{zy}\\hat{a}_y + c_{zz}\\hat{a}_z$"
      ],
      "text/plain": [
       "c_{zx} a_x + c_{zy} a_y + c_{zz} a_z"
      ]
     },
     "execution_count": 7,
     "metadata": {},
     "output_type": "execute_result"
    }
   ],
   "source": [
    "B.z.express(A)"
   ]
  },
  {
   "cell_type": "code",
   "execution_count": 8,
   "id": "622e049e",
   "metadata": {
    "execution": {
     "iopub.execute_input": "2024-02-20T15:51:52.651278Z",
     "iopub.status.busy": "2024-02-20T15:51:52.650939Z",
     "iopub.status.idle": "2024-02-20T15:51:52.657292Z",
     "shell.execute_reply": "2024-02-20T15:51:52.656757Z"
    }
   },
   "outputs": [
    {
     "data": {
      "text/latex": [
       "$\\displaystyle \\dot{c}_{yx}\\hat{a}_x + \\dot{c}_{yy}\\hat{a}_y + \\dot{c}_{yz}\\hat{a}_z$"
      ],
      "text/plain": [
       "c_{ẏx} a_x + c_{ẏy} a_y + c_{ẏz} a_z"
      ]
     },
     "execution_count": 8,
     "metadata": {},
     "output_type": "execute_result"
    }
   ],
   "source": [
    "B.y.express(A).dt(A)"
   ]
  },
  {
   "cell_type": "code",
   "execution_count": 9,
   "id": "28150671",
   "metadata": {
    "execution": {
     "iopub.execute_input": "2024-02-20T15:51:52.659419Z",
     "iopub.status.busy": "2024-02-20T15:51:52.659093Z",
     "iopub.status.idle": "2024-02-20T15:51:52.667696Z",
     "shell.execute_reply": "2024-02-20T15:51:52.667224Z"
    }
   },
   "outputs": [
    {
     "data": {
      "text/latex": [
       "$\\displaystyle c_{zx} \\dot{c}_{yx} + c_{zy} \\dot{c}_{yy} + c_{zz} \\dot{c}_{yz}$"
      ],
      "text/plain": [
       "c_{zx}⋅c_{ẏx} + c_{zy}⋅c_{ẏy} + c_{zz}⋅c_{ẏz}"
      ]
     },
     "execution_count": 9,
     "metadata": {},
     "output_type": "execute_result"
    }
   ],
   "source": [
    "mnx = me.dot(B.y.express(A).dt(A), B.z)\n",
    "mnx"
   ]
  },
  {
   "cell_type": "code",
   "execution_count": 10,
   "id": "0a366f50",
   "metadata": {
    "execution": {
     "iopub.execute_input": "2024-02-20T15:51:52.669700Z",
     "iopub.status.busy": "2024-02-20T15:51:52.669370Z",
     "iopub.status.idle": "2024-02-20T15:51:52.677771Z",
     "shell.execute_reply": "2024-02-20T15:51:52.677235Z"
    }
   },
   "outputs": [
    {
     "data": {
      "text/latex": [
       "$\\displaystyle c_{xx} \\dot{c}_{zx} + c_{xy} \\dot{c}_{zy} + c_{xz} \\dot{c}_{zz}$"
      ],
      "text/plain": [
       "c_{xx}⋅c_{żx} + c_{xy}⋅c_{ży} + c_{xz}⋅c_{żz}"
      ]
     },
     "execution_count": 10,
     "metadata": {},
     "output_type": "execute_result"
    }
   ],
   "source": [
    "mny = me.dot(B.z.express(A).dt(A), B.x)\n",
    "mny"
   ]
  },
  {
   "cell_type": "code",
   "execution_count": 11,
   "id": "4dd46828",
   "metadata": {
    "execution": {
     "iopub.execute_input": "2024-02-20T15:51:52.679996Z",
     "iopub.status.busy": "2024-02-20T15:51:52.679571Z",
     "iopub.status.idle": "2024-02-20T15:51:52.687967Z",
     "shell.execute_reply": "2024-02-20T15:51:52.687491Z"
    }
   },
   "outputs": [
    {
     "data": {
      "text/latex": [
       "$\\displaystyle c_{yx} \\dot{c}_{xx} + c_{yy} \\dot{c}_{xy} + c_{yz} \\dot{c}_{xz}$"
      ],
      "text/plain": [
       "c_{yx}⋅c_{ẋx} + c_{yy}⋅c_{ẋy} + c_{yz}⋅c_{ẋz}"
      ]
     },
     "execution_count": 11,
     "metadata": {},
     "output_type": "execute_result"
    }
   ],
   "source": [
    "mnz = me.dot(B.x.express(A).dt(A), B.y)\n",
    "mnz"
   ]
  },
  {
   "cell_type": "code",
   "execution_count": 12,
   "id": "1155b9b1",
   "metadata": {
    "execution": {
     "iopub.execute_input": "2024-02-20T15:51:52.689947Z",
     "iopub.status.busy": "2024-02-20T15:51:52.689601Z",
     "iopub.status.idle": "2024-02-20T15:51:52.699754Z",
     "shell.execute_reply": "2024-02-20T15:51:52.699254Z"
    }
   },
   "outputs": [
    {
     "data": {
      "text/latex": [
       "$\\displaystyle (c_{zx} \\dot{c}_{yx} + c_{zy} \\dot{c}_{yy} + c_{zz} \\dot{c}_{yz})\\hat{b}_x + (c_{xx} \\dot{c}_{zx} + c_{xy} \\dot{c}_{zy} + c_{xz} \\dot{c}_{zz})\\hat{b}_y + (c_{yx} \\dot{c}_{xx} + c_{yy} \\dot{c}_{xy} + c_{yz} \\dot{c}_{xz})\\hat{b}_z$"
      ],
      "text/plain": [
       "(c_{zx}⋅c_{ẏx} + c_{zy}⋅c_{ẏy} + c_{zz}⋅c_{ẏz}) b_x + (c_{xx}⋅c_{żx} + c_{\n",
       "xy}⋅c_{ży} + c_{xz}⋅c_{żz}) b_y + (c_{yx}⋅c_{ẋx} + c_{yy}⋅c_{ẋy} + c_{yz}⋅\n",
       "c_{ẋz}) b_z"
      ]
     },
     "execution_count": 12,
     "metadata": {},
     "output_type": "execute_result"
    }
   ],
   "source": [
    "A_w_B = mnx*B.x + mny*B.y + mnz*B.z\n",
    "A_w_B"
   ]
  },
  {
   "cell_type": "code",
   "execution_count": 13,
   "id": "c56ea93d",
   "metadata": {
    "execution": {
     "iopub.execute_input": "2024-02-20T15:51:52.701640Z",
     "iopub.status.busy": "2024-02-20T15:51:52.701463Z",
     "iopub.status.idle": "2024-02-20T15:51:52.709113Z",
     "shell.execute_reply": "2024-02-20T15:51:52.708643Z"
    }
   },
   "outputs": [
    {
     "data": {
      "text/latex": [
       "$\\displaystyle \\left[\\begin{matrix}\\frac{\\sqrt{2}}{4} & \\frac{\\sqrt{2}}{2} & \\frac{\\sqrt{6}}{4}\\\\- \\frac{\\sqrt{3}}{2} & 0 & \\frac{1}{2}\\\\\\frac{\\sqrt{2}}{4} & - \\frac{\\sqrt{2}}{2} & \\frac{\\sqrt{6}}{4}\\end{matrix}\\right]$"
      ],
      "text/plain": [
       "⎡ √2    √2   √6 ⎤\n",
       "⎢ ──    ──   ── ⎥\n",
       "⎢ 4     2    4  ⎥\n",
       "⎢               ⎥\n",
       "⎢-√3            ⎥\n",
       "⎢────   0    1/2⎥\n",
       "⎢ 2             ⎥\n",
       "⎢               ⎥\n",
       "⎢ √2   -√2   √6 ⎥\n",
       "⎢ ──   ────  ── ⎥\n",
       "⎣ 4     2    4  ⎦"
      ]
     },
     "execution_count": 13,
     "metadata": {},
     "output_type": "execute_result"
    }
   ],
   "source": [
    "B_C_A = sm.Matrix([\n",
    "    [ sm.sqrt(2)/4,  sm.sqrt(2)/2, sm.sqrt(6)/4],\n",
    "    [-sm.sqrt(3)/2,          0,       sm.S(1)/2],\n",
    "    [ sm.sqrt(2)/4, -sm.sqrt(2)/2, sm.sqrt(6)/4]\n",
    "])\n",
    "B_C_A"
   ]
  },
  {
   "cell_type": "code",
   "execution_count": 14,
   "id": "df05079b",
   "metadata": {
    "execution": {
     "iopub.execute_input": "2024-02-20T15:51:52.711229Z",
     "iopub.status.busy": "2024-02-20T15:51:52.710890Z",
     "iopub.status.idle": "2024-02-20T15:51:52.722913Z",
     "shell.execute_reply": "2024-02-20T15:51:52.722361Z"
    }
   },
   "outputs": [
    {
     "data": {
      "text/latex": [
       "$\\displaystyle \\left[\\begin{matrix}- \\frac{\\sqrt{6}}{2} - \\frac{3 \\sqrt{2}}{4} & - \\frac{\\sqrt{6}}{4} + \\frac{3 \\sqrt{2}}{2} & - \\frac{3 \\sqrt{6}}{4} + \\sqrt{2}\\\\-1 & - \\frac{1}{2} & - \\sqrt{3}\\\\- \\frac{\\sqrt{6}}{2} + \\frac{3 \\sqrt{2}}{4} & - \\frac{\\sqrt{6}}{4} + \\frac{3 \\sqrt{2}}{2} & \\frac{3 \\sqrt{6}}{4}\\end{matrix}\\right]$"
      ],
      "text/plain": [
       "⎡  √6   3⋅√2    √6   3⋅√2    3⋅√6     ⎤\n",
       "⎢- ── - ────  - ── + ────  - ──── + √2⎥\n",
       "⎢  2     4      4     2       4       ⎥\n",
       "⎢                                     ⎥\n",
       "⎢    -1          -1/2          -√3    ⎥\n",
       "⎢                                     ⎥\n",
       "⎢  √6   3⋅√2    √6   3⋅√2     3⋅√6    ⎥\n",
       "⎢- ── + ────  - ── + ────     ────    ⎥\n",
       "⎣  2     4      4     2        4      ⎦"
      ]
     },
     "execution_count": 14,
     "metadata": {},
     "output_type": "execute_result"
    }
   ],
   "source": [
    "B_C_A_dt = sm.Matrix([\n",
    "    [-sm.sqrt(6)/2 - 3*sm.sqrt(2)/4, -sm.sqrt(6)/4 + 3*sm.sqrt(2)/2, -3*sm.sqrt(6)/4 + sm.sqrt(2)],\n",
    "    [                      -1,                     -sm.S(1)/2,               -sm.sqrt(3)],\n",
    "    [-sm.sqrt(6)/2 + 3*sm.sqrt(2)/4, -sm.sqrt(6)/4 + 3*sm.sqrt(2)/2,            3*sm.sqrt(6)/4]\n",
    "])\n",
    "B_C_A_dt"
   ]
  },
  {
   "cell_type": "code",
   "execution_count": 15,
   "id": "dee5a9ca",
   "metadata": {
    "execution": {
     "iopub.execute_input": "2024-02-20T15:51:52.724800Z",
     "iopub.status.busy": "2024-02-20T15:51:52.724631Z",
     "iopub.status.idle": "2024-02-20T15:51:52.730755Z",
     "shell.execute_reply": "2024-02-20T15:51:52.730268Z"
    }
   },
   "outputs": [],
   "source": [
    "mnx = (B_C_A[2, :]*B_C_A_dt[1, :].transpose())[0, 0]\n",
    "mny = (B_C_A[0, :]*B_C_A_dt[2, :].transpose())[0, 0]\n",
    "mnz = (B_C_A[1, :]*B_C_A_dt[0, :].transpose())[0, 0]\n",
    "\n",
    "A_w_B = mnx*B.x + mny*B.y + mnz*B.z"
   ]
  },
  {
   "cell_type": "code",
   "execution_count": 16,
   "id": "85060602",
   "metadata": {
    "execution": {
     "iopub.execute_input": "2024-02-20T15:51:52.732588Z",
     "iopub.status.busy": "2024-02-20T15:51:52.732401Z",
     "iopub.status.idle": "2024-02-20T15:51:52.796434Z",
     "shell.execute_reply": "2024-02-20T15:51:52.795868Z"
    }
   },
   "outputs": [
    {
     "data": {
      "text/latex": [
       "$\\displaystyle -  \\frac{3 \\sqrt{2}}{4}\\hat{b}_x + (3 - \\frac{\\sqrt{3}}{2})\\hat{b}_y + \\frac{5 \\sqrt{2}}{4}\\hat{b}_z$"
      ],
      "text/plain": [
       "-3⋅√2        ⎛    √3⎞       5⋅√2\n",
       "────── b_x + ⎜3 - ──⎟ b_y + ──── b_z\n",
       "  4          ⎝    2 ⎠        4"
      ]
     },
     "execution_count": 16,
     "metadata": {},
     "output_type": "execute_result"
    }
   ],
   "source": [
    "A_w_B.simplify()"
   ]
  },
  {
   "cell_type": "code",
   "execution_count": 17,
   "id": "b367c80e",
   "metadata": {
    "execution": {
     "iopub.execute_input": "2024-02-20T15:51:52.798518Z",
     "iopub.status.busy": "2024-02-20T15:51:52.798331Z",
     "iopub.status.idle": "2024-02-20T15:51:52.805062Z",
     "shell.execute_reply": "2024-02-20T15:51:52.804519Z"
    }
   },
   "outputs": [
    {
     "data": {
      "text/latex": [
       "$\\displaystyle \\left[\\begin{matrix}\\cos{\\left(\\theta \\right)} & \\sin{\\left(\\theta \\right)} & 0\\\\- \\sin{\\left(\\theta \\right)} & \\cos{\\left(\\theta \\right)} & 0\\\\0 & 0 & 1\\end{matrix}\\right]$"
      ],
      "text/plain": [
       "⎡cos(θ)   sin(θ)  0⎤\n",
       "⎢                  ⎥\n",
       "⎢-sin(θ)  cos(θ)  0⎥\n",
       "⎢                  ⎥\n",
       "⎣   0       0     1⎦"
      ]
     },
     "execution_count": 17,
     "metadata": {},
     "output_type": "execute_result"
    }
   ],
   "source": [
    "theta = me.dynamicsymbols('theta')\n",
    "\n",
    "B_C_A = sm.Matrix([[sm.cos(theta), sm.sin(theta), 0],\n",
    "                   [-sm.sin(theta), sm.cos(theta), 0],\n",
    "                   [0, 0, 1]])\n",
    "\n",
    "B_C_A"
   ]
  },
  {
   "cell_type": "code",
   "execution_count": 18,
   "id": "135c4045",
   "metadata": {
    "execution": {
     "iopub.execute_input": "2024-02-20T15:51:52.807067Z",
     "iopub.status.busy": "2024-02-20T15:51:52.806734Z",
     "iopub.status.idle": "2024-02-20T15:51:52.856719Z",
     "shell.execute_reply": "2024-02-20T15:51:52.856125Z"
    }
   },
   "outputs": [
    {
     "data": {
      "text/latex": [
       "$\\displaystyle (\\sin^{2}{\\left(\\theta \\right)} \\dot{\\theta} + \\cos^{2}{\\left(\\theta \\right)} \\dot{\\theta})\\hat{b}_z$"
      ],
      "text/plain": [
       "⎛   2           2     ⎞\n",
       "⎝sin (θ)⋅θ̇ + cos (θ)⋅θ̇⎠ b_z"
      ]
     },
     "execution_count": 18,
     "metadata": {},
     "output_type": "execute_result"
    }
   ],
   "source": [
    "A = me.ReferenceFrame('A')\n",
    "B = me.ReferenceFrame('B')\n",
    "B.orient_explicit(A, B_C_A.transpose())\n",
    "\n",
    "mnx = me.dot(B.y.express(A).dt(A), B.z)\n",
    "mny = me.dot(B.z.express(A).dt(A), B.x)\n",
    "mnz = me.dot(B.x.express(A).dt(A), B.y)\n",
    "\n",
    "A_w_B = mnx*B.x + mny*B.y + mnz*B.z\n",
    "A_w_B"
   ]
  },
  {
   "cell_type": "code",
   "execution_count": 19,
   "id": "8ad022de",
   "metadata": {
    "execution": {
     "iopub.execute_input": "2024-02-20T15:51:52.858890Z",
     "iopub.status.busy": "2024-02-20T15:51:52.858454Z",
     "iopub.status.idle": "2024-02-20T15:51:52.888157Z",
     "shell.execute_reply": "2024-02-20T15:51:52.887572Z"
    }
   },
   "outputs": [
    {
     "data": {
      "text/latex": [
       "$\\displaystyle \\dot{\\theta}\\hat{b}_z$"
      ],
      "text/plain": [
       "θ̇ b_z"
      ]
     },
     "execution_count": 19,
     "metadata": {},
     "output_type": "execute_result"
    }
   ],
   "source": [
    "A_w_B.simplify()"
   ]
  },
  {
   "cell_type": "code",
   "execution_count": 20,
   "id": "7e5f4825",
   "metadata": {
    "execution": {
     "iopub.execute_input": "2024-02-20T15:51:52.890194Z",
     "iopub.status.busy": "2024-02-20T15:51:52.890005Z",
     "iopub.status.idle": "2024-02-20T15:51:52.897476Z",
     "shell.execute_reply": "2024-02-20T15:51:52.896939Z"
    }
   },
   "outputs": [
    {
     "data": {
      "text/latex": [
       "$\\displaystyle \\dot{\\theta}\\hat{a}_z$"
      ],
      "text/plain": [
       "θ̇ a_z"
      ]
     },
     "execution_count": 20,
     "metadata": {},
     "output_type": "execute_result"
    }
   ],
   "source": [
    "A = me.ReferenceFrame('A')\n",
    "B = me.ReferenceFrame('B')\n",
    "B.orient_axis(A, theta, A.z)\n",
    "B.ang_vel_in(A)"
   ]
  },
  {
   "cell_type": "code",
   "execution_count": 21,
   "id": "4c6e66ca",
   "metadata": {
    "execution": {
     "iopub.execute_input": "2024-02-20T15:51:52.899332Z",
     "iopub.status.busy": "2024-02-20T15:51:52.899154Z",
     "iopub.status.idle": "2024-02-20T15:51:52.908390Z",
     "shell.execute_reply": "2024-02-20T15:51:52.907927Z"
    }
   },
   "outputs": [
    {
     "data": {
      "text/latex": [
       "$\\displaystyle \\frac{\\sqrt{2} \\dot{\\theta}}{2}\\hat{a}_x + \\frac{\\sqrt{2} \\dot{\\theta}}{2}\\hat{a}_y$"
      ],
      "text/plain": [
       "√2⋅θ̇       √2⋅θ̇\n",
       "──── a_x + ──── a_y\n",
       " 2          2"
      ]
     },
     "execution_count": 21,
     "metadata": {},
     "output_type": "execute_result"
    }
   ],
   "source": [
    "theta = me.dynamicsymbols('theta')\n",
    "\n",
    "A = me.ReferenceFrame('A')\n",
    "B = me.ReferenceFrame('B')\n",
    "B.orient_axis(A, theta, A.x + A.y)\n",
    "B.ang_vel_in(A)"
   ]
  },
  {
   "cell_type": "code",
   "execution_count": 22,
   "id": "4c746492",
   "metadata": {
    "execution": {
     "iopub.execute_input": "2024-02-20T15:51:52.910588Z",
     "iopub.status.busy": "2024-02-20T15:51:52.910092Z",
     "iopub.status.idle": "2024-02-20T15:51:52.924594Z",
     "shell.execute_reply": "2024-02-20T15:51:52.924034Z"
    }
   },
   "outputs": [
    {
     "data": {
      "text/latex": [
       "$\\displaystyle \\sqrt{\\dot{\\theta}^{2}}$"
      ],
      "text/plain": [
       "   ____\n",
       "  ╱  2 \n",
       "╲╱ θ̇  "
      ]
     },
     "execution_count": 22,
     "metadata": {},
     "output_type": "execute_result"
    }
   ],
   "source": [
    "B.ang_vel_in(A).magnitude()"
   ]
  },
  {
   "cell_type": "code",
   "execution_count": 23,
   "id": "0ed87fc6",
   "metadata": {
    "execution": {
     "iopub.execute_input": "2024-02-20T15:51:52.926536Z",
     "iopub.status.busy": "2024-02-20T15:51:52.926210Z",
     "iopub.status.idle": "2024-02-20T15:51:56.082044Z",
     "shell.execute_reply": "2024-02-20T15:51:56.081510Z"
    }
   },
   "outputs": [
    {
     "data": {
      "text/latex": [
       "$\\displaystyle (\\sin{\\left(\\theta \\right)} \\sin{\\left(\\varphi \\right)} \\dot{\\psi} + \\cos{\\left(\\varphi \\right)} \\dot{\\theta})\\hat{b}_x + (\\sin{\\left(\\theta \\right)} \\cos{\\left(\\varphi \\right)} \\dot{\\psi} - \\sin{\\left(\\varphi \\right)} \\dot{\\theta})\\hat{b}_y + (\\cos{\\left(\\theta \\right)} \\dot{\\psi} + \\dot{\\varphi})\\hat{b}_z$"
      ],
      "text/plain": [
       "(sin(θ)⋅sin(varphi)⋅ψ̇ + cos(varphi)⋅θ̇) b_x + (sin(θ)⋅cos(varphi)⋅ψ̇ - sin(va\n",
       "rphi)⋅θ̇) b_y + (cos(θ)⋅ψ̇ + varṗhi) b_z"
      ]
     },
     "execution_count": 23,
     "metadata": {},
     "output_type": "execute_result"
    }
   ],
   "source": [
    "psi, theta, phi = me.dynamicsymbols('psi, theta, varphi')\n",
    "\n",
    "A = me.ReferenceFrame('A')\n",
    "B = me.ReferenceFrame('B')\n",
    "B.orient_body_fixed(A, (psi, theta, phi), 'ZXZ')\n",
    "\n",
    "mnx = me.dot(B.y.express(A).dt(A), B.z)\n",
    "mny = me.dot(B.z.express(A).dt(A), B.x)\n",
    "mnz = me.dot(B.x.express(A).dt(A), B.y)\n",
    "\n",
    "A_w_B = mnx*B.x + mny*B.y + mnz*B.z\n",
    "A_w_B.simplify()"
   ]
  },
  {
   "cell_type": "code",
   "execution_count": 24,
   "id": "ae24a6e5",
   "metadata": {
    "execution": {
     "iopub.execute_input": "2024-02-20T15:51:56.084280Z",
     "iopub.status.busy": "2024-02-20T15:51:56.083896Z",
     "iopub.status.idle": "2024-02-20T15:51:56.092551Z",
     "shell.execute_reply": "2024-02-20T15:51:56.092056Z"
    }
   },
   "outputs": [
    {
     "data": {
      "text/latex": [
       "$\\displaystyle (\\sin{\\left(\\theta \\right)} \\sin{\\left(\\varphi \\right)} \\dot{\\psi} + \\cos{\\left(\\varphi \\right)} \\dot{\\theta})\\hat{b}_x + (\\sin{\\left(\\theta \\right)} \\cos{\\left(\\varphi \\right)} \\dot{\\psi} - \\sin{\\left(\\varphi \\right)} \\dot{\\theta})\\hat{b}_y + (\\cos{\\left(\\theta \\right)} \\dot{\\psi} + \\dot{\\varphi})\\hat{b}_z$"
      ],
      "text/plain": [
       "(sin(θ)⋅sin(varphi)⋅ψ̇ + cos(varphi)⋅θ̇) b_x + (sin(θ)⋅cos(varphi)⋅ψ̇ - sin(va\n",
       "rphi)⋅θ̇) b_y + (cos(θ)⋅ψ̇ + varṗhi) b_z"
      ]
     },
     "execution_count": 24,
     "metadata": {},
     "output_type": "execute_result"
    }
   ],
   "source": [
    "B.ang_vel_in(A)"
   ]
  },
  {
   "cell_type": "code",
   "execution_count": 25,
   "id": "f6e44ae8",
   "metadata": {
    "execution": {
     "iopub.execute_input": "2024-02-20T15:51:56.094535Z",
     "iopub.status.busy": "2024-02-20T15:51:56.094206Z",
     "iopub.status.idle": "2024-02-20T15:51:56.433562Z",
     "shell.execute_reply": "2024-02-20T15:51:56.432889Z"
    }
   },
   "outputs": [],
   "source": [
    "psi, theta, phi = me.dynamicsymbols('psi, theta, varphi')\n",
    "\n",
    "N = me.ReferenceFrame('N')\n",
    "T = me.ReferenceFrame('T')\n",
    "T.orient_body_fixed(N, (psi, theta, phi), 'xyz')"
   ]
  },
  {
   "cell_type": "code",
   "execution_count": 26,
   "id": "31712916",
   "metadata": {
    "execution": {
     "iopub.execute_input": "2024-02-20T15:51:56.436253Z",
     "iopub.status.busy": "2024-02-20T15:51:56.436025Z",
     "iopub.status.idle": "2024-02-20T15:51:56.476916Z",
     "shell.execute_reply": "2024-02-20T15:51:56.476238Z"
    }
   },
   "outputs": [
    {
     "data": {
      "text/latex": [
       "$\\displaystyle \\left[\\begin{matrix}\\cos{\\left(\\theta \\right)} \\cos{\\left(\\varphi \\right)} & \\sin{\\left(\\varphi \\right)} & - \\sin{\\left(\\theta \\right)} \\cos{\\left(\\varphi \\right)}\\\\- \\sin{\\left(\\varphi \\right)} \\cos{\\left(\\theta \\right)} & \\cos{\\left(\\varphi \\right)} & \\sin{\\left(\\theta \\right)} \\sin{\\left(\\varphi \\right)}\\\\\\sin{\\left(\\theta \\right)} & 0 & \\cos{\\left(\\theta \\right)}\\end{matrix}\\right]$"
      ],
      "text/plain": [
       "⎡cos(θ)⋅cos(varphi)   sin(varphi)  -sin(θ)⋅cos(varphi)⎤\n",
       "⎢                                                     ⎥\n",
       "⎢-sin(varphi)⋅cos(θ)  cos(varphi)  sin(θ)⋅sin(varphi) ⎥\n",
       "⎢                                                     ⎥\n",
       "⎣      sin(θ)              0             cos(θ)       ⎦"
      ]
     },
     "execution_count": 26,
     "metadata": {},
     "output_type": "execute_result"
    }
   ],
   "source": [
    "sm.trigsimp(T.dcm(N).xreplace({psi: 0}))"
   ]
  },
  {
   "cell_type": "code",
   "execution_count": 27,
   "id": "36803850",
   "metadata": {
    "execution": {
     "iopub.execute_input": "2024-02-20T15:51:56.479133Z",
     "iopub.status.busy": "2024-02-20T15:51:56.478766Z",
     "iopub.status.idle": "2024-02-20T15:51:56.521451Z",
     "shell.execute_reply": "2024-02-20T15:51:56.520849Z"
    }
   },
   "outputs": [
    {
     "data": {
      "text/latex": [
       "$\\displaystyle \\left[\\begin{matrix}\\cos{\\left(\\theta \\right)} \\cos{\\left(\\varphi \\right)} & - \\sin{\\left(\\varphi \\right)} & \\sin{\\left(\\theta \\right)} \\cos{\\left(\\varphi \\right)}\\\\- \\sin{\\left(\\varphi \\right)} \\cos{\\left(\\theta \\right)} & - \\cos{\\left(\\varphi \\right)} & - \\sin{\\left(\\theta \\right)} \\sin{\\left(\\varphi \\right)}\\\\\\sin{\\left(\\theta \\right)} & 0 & - \\cos{\\left(\\theta \\right)}\\end{matrix}\\right]$"
      ],
      "text/plain": [
       "⎡cos(θ)⋅cos(varphi)   -sin(varphi)  sin(θ)⋅cos(varphi) ⎤\n",
       "⎢                                                      ⎥\n",
       "⎢-sin(varphi)⋅cos(θ)  -cos(varphi)  -sin(θ)⋅sin(varphi)⎥\n",
       "⎢                                                      ⎥\n",
       "⎣      sin(θ)              0              -cos(θ)      ⎦"
      ]
     },
     "execution_count": 27,
     "metadata": {},
     "output_type": "execute_result"
    }
   ],
   "source": [
    "sm.trigsimp(T.dcm(N).xreplace({psi: sm.pi}))"
   ]
  },
  {
   "cell_type": "code",
   "execution_count": 28,
   "id": "705d8deb",
   "metadata": {
    "execution": {
     "iopub.execute_input": "2024-02-20T15:51:56.523460Z",
     "iopub.status.busy": "2024-02-20T15:51:56.523284Z",
     "iopub.status.idle": "2024-02-20T15:51:56.643880Z",
     "shell.execute_reply": "2024-02-20T15:51:56.643324Z"
    }
   },
   "outputs": [
    {
     "data": {
      "text/latex": [
       "$\\displaystyle \\left[\\begin{matrix}0 & - \\sin{\\left(\\psi - \\varphi \\right)} & \\cos{\\left(\\psi - \\varphi \\right)}\\\\0 & \\cos{\\left(\\psi - \\varphi \\right)} & \\sin{\\left(\\psi - \\varphi \\right)}\\\\-1 & 0 & 0\\end{matrix}\\right]$"
      ],
      "text/plain": [
       "⎡0   -sin(ψ - varphi)  cos(ψ - varphi)⎤\n",
       "⎢                                     ⎥\n",
       "⎢0   cos(ψ - varphi)   sin(ψ - varphi)⎥\n",
       "⎢                                     ⎥\n",
       "⎣-1         0                 0       ⎦"
      ]
     },
     "execution_count": 28,
     "metadata": {},
     "output_type": "execute_result"
    }
   ],
   "source": [
    "sm.trigsimp(T.dcm(N).xreplace({theta: -sm.pi/2}))"
   ]
  },
  {
   "cell_type": "code",
   "execution_count": 29,
   "id": "50a9e247",
   "metadata": {
    "execution": {
     "iopub.execute_input": "2024-02-20T15:51:56.645933Z",
     "iopub.status.busy": "2024-02-20T15:51:56.645744Z",
     "iopub.status.idle": "2024-02-20T15:51:56.758704Z",
     "shell.execute_reply": "2024-02-20T15:51:56.758050Z"
    }
   },
   "outputs": [
    {
     "data": {
      "text/latex": [
       "$\\displaystyle \\left[\\begin{matrix}0 & \\sin{\\left(\\psi + \\varphi \\right)} & - \\cos{\\left(\\psi + \\varphi \\right)}\\\\0 & \\cos{\\left(\\psi + \\varphi \\right)} & \\sin{\\left(\\psi + \\varphi \\right)}\\\\1 & 0 & 0\\end{matrix}\\right]$"
      ],
      "text/plain": [
       "⎡0  sin(ψ + varphi)  -cos(ψ + varphi)⎤\n",
       "⎢                                    ⎥\n",
       "⎢0  cos(ψ + varphi)  sin(ψ + varphi) ⎥\n",
       "⎢                                    ⎥\n",
       "⎣1         0                0        ⎦"
      ]
     },
     "execution_count": 29,
     "metadata": {},
     "output_type": "execute_result"
    }
   ],
   "source": [
    "sm.trigsimp(T.dcm(N).xreplace({theta: sm.pi/2}))"
   ]
  },
  {
   "cell_type": "code",
   "execution_count": 30,
   "id": "f007704e",
   "metadata": {
    "execution": {
     "iopub.execute_input": "2024-02-20T15:51:56.761022Z",
     "iopub.status.busy": "2024-02-20T15:51:56.760649Z",
     "iopub.status.idle": "2024-02-20T15:51:56.802692Z",
     "shell.execute_reply": "2024-02-20T15:51:56.801883Z"
    }
   },
   "outputs": [
    {
     "data": {
      "text/latex": [
       "$\\displaystyle u_{1}\\hat{b}_x + u_{2}\\hat{b}_y + u_{3}\\hat{b}_z$"
      ],
      "text/plain": [
       "u₁ b_x + u₂ b_y + u₃ b_z"
      ]
     },
     "execution_count": 30,
     "metadata": {},
     "output_type": "execute_result"
    }
   ],
   "source": [
    "A = me.ReferenceFrame('A')\n",
    "B = me.ReferenceFrame('B')\n",
    "B.orient_body_fixed(A, (psi, theta, 0), 'ZXZ')\n",
    "\n",
    "u1, u2, u3 = me.dynamicsymbols('u1, u2, u3')\n",
    "\n",
    "u = u1*B.x + u2*B.y + u3*B.z\n",
    "u"
   ]
  },
  {
   "cell_type": "code",
   "execution_count": 31,
   "id": "bd1ed98b",
   "metadata": {
    "execution": {
     "iopub.execute_input": "2024-02-20T15:51:56.805607Z",
     "iopub.status.busy": "2024-02-20T15:51:56.805138Z",
     "iopub.status.idle": "2024-02-20T15:51:56.817140Z",
     "shell.execute_reply": "2024-02-20T15:51:56.816591Z"
    }
   },
   "outputs": [
    {
     "data": {
      "text/latex": [
       "$\\displaystyle (u_{1} \\cos{\\left(\\psi \\right)} - u_{2} \\sin{\\left(\\psi \\right)} \\cos{\\left(\\theta \\right)} + u_{3} \\sin{\\left(\\psi \\right)} \\sin{\\left(\\theta \\right)})\\hat{a}_x + (u_{1} \\sin{\\left(\\psi \\right)} + u_{2} \\cos{\\left(\\psi \\right)} \\cos{\\left(\\theta \\right)} - u_{3} \\sin{\\left(\\theta \\right)} \\cos{\\left(\\psi \\right)})\\hat{a}_y + (u_{2} \\sin{\\left(\\theta \\right)} + u_{3} \\cos{\\left(\\theta \\right)})\\hat{a}_z$"
      ],
      "text/plain": [
       "(u₁⋅cos(ψ) - u₂⋅sin(ψ)⋅cos(θ) + u₃⋅sin(ψ)⋅sin(θ)) a_x + (u₁⋅sin(ψ) + u₂⋅cos(ψ)\n",
       "⋅cos(θ) - u₃⋅sin(θ)⋅cos(ψ)) a_y + (u₂⋅sin(θ) + u₃⋅cos(θ)) a_z"
      ]
     },
     "execution_count": 31,
     "metadata": {},
     "output_type": "execute_result"
    }
   ],
   "source": [
    "u.express(A)"
   ]
  },
  {
   "cell_type": "code",
   "execution_count": 32,
   "id": "a9181999",
   "metadata": {
    "execution": {
     "iopub.execute_input": "2024-02-20T15:51:56.819218Z",
     "iopub.status.busy": "2024-02-20T15:51:56.819032Z",
     "iopub.status.idle": "2024-02-20T15:51:56.871402Z",
     "shell.execute_reply": "2024-02-20T15:51:56.870724Z"
    }
   },
   "outputs": [
    {
     "data": {
      "text/latex": [
       "$\\displaystyle (- u_{1} \\sin{\\left(\\psi \\right)} \\dot{\\psi} + u_{2} \\sin{\\left(\\psi \\right)} \\sin{\\left(\\theta \\right)} \\dot{\\theta} - u_{2} \\cos{\\left(\\psi \\right)} \\cos{\\left(\\theta \\right)} \\dot{\\psi} + u_{3} \\sin{\\left(\\psi \\right)} \\cos{\\left(\\theta \\right)} \\dot{\\theta} + u_{3} \\sin{\\left(\\theta \\right)} \\cos{\\left(\\psi \\right)} \\dot{\\psi} + \\sin{\\left(\\psi \\right)} \\sin{\\left(\\theta \\right)} \\dot{u}_{3} - \\sin{\\left(\\psi \\right)} \\cos{\\left(\\theta \\right)} \\dot{u}_{2} + \\cos{\\left(\\psi \\right)} \\dot{u}_{1})\\hat{a}_x + (u_{1} \\cos{\\left(\\psi \\right)} \\dot{\\psi} - u_{2} \\sin{\\left(\\psi \\right)} \\cos{\\left(\\theta \\right)} \\dot{\\psi} - u_{2} \\sin{\\left(\\theta \\right)} \\cos{\\left(\\psi \\right)} \\dot{\\theta} + u_{3} \\sin{\\left(\\psi \\right)} \\sin{\\left(\\theta \\right)} \\dot{\\psi} - u_{3} \\cos{\\left(\\psi \\right)} \\cos{\\left(\\theta \\right)} \\dot{\\theta} + \\sin{\\left(\\psi \\right)} \\dot{u}_{1} - \\sin{\\left(\\theta \\right)} \\cos{\\left(\\psi \\right)} \\dot{u}_{3} + \\cos{\\left(\\psi \\right)} \\cos{\\left(\\theta \\right)} \\dot{u}_{2})\\hat{a}_y + (u_{2} \\cos{\\left(\\theta \\right)} \\dot{\\theta} - u_{3} \\sin{\\left(\\theta \\right)} \\dot{\\theta} + \\sin{\\left(\\theta \\right)} \\dot{u}_{2} + \\cos{\\left(\\theta \\right)} \\dot{u}_{3})\\hat{a}_z$"
      ],
      "text/plain": [
       "(-u₁⋅sin(ψ)⋅ψ̇ + u₂⋅sin(ψ)⋅sin(θ)⋅θ̇ - u₂⋅cos(ψ)⋅cos(θ)⋅ψ̇ + u₃⋅sin(ψ)⋅cos(θ)⋅\n",
       "θ̇ + u₃⋅sin(θ)⋅cos(ψ)⋅ψ̇ + sin(ψ)⋅sin(θ)⋅u₃̇ - sin(ψ)⋅cos(θ)⋅u₂̇ + cos(ψ)⋅u₁̇)\n",
       " a_x + (u₁⋅cos(ψ)⋅ψ̇ - u₂⋅sin(ψ)⋅cos(θ)⋅ψ̇ - u₂⋅sin(θ)⋅cos(ψ)⋅θ̇ + u₃⋅sin(ψ)⋅s\n",
       "in(θ)⋅ψ̇ - u₃⋅cos(ψ)⋅cos(θ)⋅θ̇ + sin(ψ)⋅u₁̇ - sin(θ)⋅cos(ψ)⋅u₃̇ + cos(ψ)⋅cos(θ\n",
       ")⋅u₂̇) a_y + (u₂⋅cos(θ)⋅θ̇ - u₃⋅sin(θ)⋅θ̇ + sin(θ)⋅u₂̇ + cos(θ)⋅u₃̇) a_z"
      ]
     },
     "execution_count": 32,
     "metadata": {},
     "output_type": "execute_result"
    }
   ],
   "source": [
    "u.express(A).dt(A)"
   ]
  },
  {
   "cell_type": "code",
   "execution_count": 33,
   "id": "299aa1c8",
   "metadata": {
    "execution": {
     "iopub.execute_input": "2024-02-20T15:51:56.873947Z",
     "iopub.status.busy": "2024-02-20T15:51:56.873545Z",
     "iopub.status.idle": "2024-02-20T15:51:56.880178Z",
     "shell.execute_reply": "2024-02-20T15:51:56.879601Z"
    }
   },
   "outputs": [
    {
     "data": {
      "text/latex": [
       "$\\displaystyle \\dot{u}_{1}\\hat{b}_x + \\dot{u}_{2}\\hat{b}_y + \\dot{u}_{3}\\hat{b}_z$"
      ],
      "text/plain": [
       "u₁̇ b_x + u₂̇ b_y + u₃̇ b_z"
      ]
     },
     "execution_count": 33,
     "metadata": {},
     "output_type": "execute_result"
    }
   ],
   "source": [
    "u.dt(B)"
   ]
  },
  {
   "cell_type": "code",
   "execution_count": 34,
   "id": "1819dc8d",
   "metadata": {
    "execution": {
     "iopub.execute_input": "2024-02-20T15:51:56.882418Z",
     "iopub.status.busy": "2024-02-20T15:51:56.882100Z",
     "iopub.status.idle": "2024-02-20T15:51:56.888097Z",
     "shell.execute_reply": "2024-02-20T15:51:56.887535Z"
    }
   },
   "outputs": [
    {
     "data": {
      "text/latex": [
       "$\\displaystyle \\dot{\\theta}\\hat{b}_x + \\sin{\\left(\\theta \\right)} \\dot{\\psi}\\hat{b}_y + \\cos{\\left(\\theta \\right)} \\dot{\\psi}\\hat{b}_z$"
      ],
      "text/plain": [
       "θ̇ b_x + sin(θ)⋅ψ̇ b_y + cos(θ)⋅ψ̇ b_z"
      ]
     },
     "execution_count": 34,
     "metadata": {},
     "output_type": "execute_result"
    }
   ],
   "source": [
    "A_w_B = B.ang_vel_in(A)\n",
    "A_w_B"
   ]
  },
  {
   "cell_type": "code",
   "execution_count": 35,
   "id": "edde2d7a",
   "metadata": {
    "execution": {
     "iopub.execute_input": "2024-02-20T15:51:56.890201Z",
     "iopub.status.busy": "2024-02-20T15:51:56.889852Z",
     "iopub.status.idle": "2024-02-20T15:51:56.905494Z",
     "shell.execute_reply": "2024-02-20T15:51:56.904915Z"
    }
   },
   "outputs": [
    {
     "data": {
      "text/latex": [
       "$\\displaystyle (- u_{2} \\cos{\\left(\\theta \\right)} \\dot{\\psi} + u_{3} \\sin{\\left(\\theta \\right)} \\dot{\\psi} + \\dot{u}_{1})\\hat{b}_x + (u_{1} \\cos{\\left(\\theta \\right)} \\dot{\\psi} - u_{3} \\dot{\\theta} + \\dot{u}_{2})\\hat{b}_y + (- u_{1} \\sin{\\left(\\theta \\right)} \\dot{\\psi} + u_{2} \\dot{\\theta} + \\dot{u}_{3})\\hat{b}_z$"
      ],
      "text/plain": [
       "(-u₂⋅cos(θ)⋅ψ̇ + u₃⋅sin(θ)⋅ψ̇ + u₁̇) b_x + (u₁⋅cos(θ)⋅ψ̇ - u₃⋅θ̇ + u₂̇) b_y +\n",
       "(-u₁⋅sin(θ)⋅ψ̇ + u₂⋅θ̇ + u₃̇) b_z"
      ]
     },
     "execution_count": 35,
     "metadata": {},
     "output_type": "execute_result"
    }
   ],
   "source": [
    "u.dt(B) + me.cross(A_w_B, u)"
   ]
  },
  {
   "cell_type": "code",
   "execution_count": 36,
   "id": "e5373d35",
   "metadata": {
    "execution": {
     "iopub.execute_input": "2024-02-20T15:51:56.907764Z",
     "iopub.status.busy": "2024-02-20T15:51:56.907547Z",
     "iopub.status.idle": "2024-02-20T15:51:58.668462Z",
     "shell.execute_reply": "2024-02-20T15:51:58.667797Z"
    }
   },
   "outputs": [
    {
     "data": {
      "text/latex": [
       "$\\displaystyle (- u_{2} \\cos{\\left(\\theta \\right)} \\dot{\\psi} + u_{3} \\sin{\\left(\\theta \\right)} \\dot{\\psi} + \\dot{u}_{1})\\hat{b}_x + (u_{1} \\cos{\\left(\\theta \\right)} \\dot{\\psi} - u_{3} \\dot{\\theta} + \\dot{u}_{2})\\hat{b}_y + (- u_{1} \\sin{\\left(\\theta \\right)} \\dot{\\psi} + u_{2} \\dot{\\theta} + \\dot{u}_{3})\\hat{b}_z$"
      ],
      "text/plain": [
       "(-u₂⋅cos(θ)⋅ψ̇ + u₃⋅sin(θ)⋅ψ̇ + u₁̇) b_x + (u₁⋅cos(θ)⋅ψ̇ - u₃⋅θ̇ + u₂̇) b_y +\n",
       "(-u₁⋅sin(θ)⋅ψ̇ + u₂⋅θ̇ + u₃̇) b_z"
      ]
     },
     "execution_count": 36,
     "metadata": {},
     "output_type": "execute_result"
    }
   ],
   "source": [
    "u.express(A).dt(A).express(B).simplify()"
   ]
  },
  {
   "cell_type": "code",
   "execution_count": 37,
   "id": "b056ff91",
   "metadata": {
    "execution": {
     "iopub.execute_input": "2024-02-20T15:51:58.670532Z",
     "iopub.status.busy": "2024-02-20T15:51:58.670335Z",
     "iopub.status.idle": "2024-02-20T15:51:58.685684Z",
     "shell.execute_reply": "2024-02-20T15:51:58.685206Z"
    }
   },
   "outputs": [
    {
     "data": {
      "text/latex": [
       "$\\displaystyle (- u_{2} \\cos{\\left(\\theta \\right)} \\dot{\\psi} + u_{3} \\sin{\\left(\\theta \\right)} \\dot{\\psi} + \\dot{u}_{1})\\hat{b}_x + (u_{1} \\cos{\\left(\\theta \\right)} \\dot{\\psi} - u_{3} \\dot{\\theta} + \\dot{u}_{2})\\hat{b}_y + (- u_{1} \\sin{\\left(\\theta \\right)} \\dot{\\psi} + u_{2} \\dot{\\theta} + \\dot{u}_{3})\\hat{b}_z$"
      ],
      "text/plain": [
       "(-u₂⋅cos(θ)⋅ψ̇ + u₃⋅sin(θ)⋅ψ̇ + u₁̇) b_x + (u₁⋅cos(θ)⋅ψ̇ - u₃⋅θ̇ + u₂̇) b_y +\n",
       "(-u₁⋅sin(θ)⋅ψ̇ + u₂⋅θ̇ + u₃̇) b_z"
      ]
     },
     "execution_count": 37,
     "metadata": {},
     "output_type": "execute_result"
    }
   ],
   "source": [
    "u.dt(A)"
   ]
  },
  {
   "cell_type": "code",
   "execution_count": 38,
   "id": "ee85f9e2",
   "metadata": {
    "execution": {
     "iopub.execute_input": "2024-02-20T15:51:58.687474Z",
     "iopub.status.busy": "2024-02-20T15:51:58.687295Z",
     "iopub.status.idle": "2024-02-20T15:51:58.700394Z",
     "shell.execute_reply": "2024-02-20T15:51:58.699846Z"
    }
   },
   "outputs": [
    {
     "data": {
      "text/latex": [
       "$\\displaystyle (- u_{2} \\cos{\\left(\\theta \\right)} \\dot{\\psi} + u_{3} \\sin{\\left(\\theta \\right)} \\dot{\\psi} + \\dot{u}_{1})\\hat{b}_x + (u_{1} \\cos{\\left(\\theta \\right)} \\dot{\\psi} - u_{3} \\dot{\\theta} + \\dot{u}_{2})\\hat{b}_y + (- u_{1} \\sin{\\left(\\theta \\right)} \\dot{\\psi} + u_{2} \\dot{\\theta} + \\dot{u}_{3})\\hat{b}_z$"
      ],
      "text/plain": [
       "(-u₂⋅cos(θ)⋅ψ̇ + u₃⋅sin(θ)⋅ψ̇ + u₁̇) b_x + (u₁⋅cos(θ)⋅ψ̇ - u₃⋅θ̇ + u₂̇) b_y +\n",
       "(-u₁⋅sin(θ)⋅ψ̇ + u₂⋅θ̇ + u₃̇) b_z"
      ]
     },
     "execution_count": 38,
     "metadata": {},
     "output_type": "execute_result"
    }
   ],
   "source": [
    "u.dt(B) + me.cross(A_w_B, u)"
   ]
  },
  {
   "cell_type": "code",
   "execution_count": 39,
   "id": "2d625555",
   "metadata": {
    "execution": {
     "iopub.execute_input": "2024-02-20T15:51:58.702545Z",
     "iopub.status.busy": "2024-02-20T15:51:58.702095Z",
     "iopub.status.idle": "2024-02-20T15:51:58.712922Z",
     "shell.execute_reply": "2024-02-20T15:51:58.712357Z"
    }
   },
   "outputs": [],
   "source": [
    "psi, theta, phi = me.dynamicsymbols('psi, theta, varphi')\n",
    "\n",
    "A = me.ReferenceFrame('A')\n",
    "B = me.ReferenceFrame('B')\n",
    "C = me.ReferenceFrame('C')\n",
    "D = me.ReferenceFrame('D')\n",
    "\n",
    "B.orient_axis(A, psi, A.y)\n",
    "C.orient_axis(B, theta, B.x)\n",
    "D.orient_axis(C, phi, C.y)"
   ]
  },
  {
   "cell_type": "code",
   "execution_count": 40,
   "id": "fb22b034",
   "metadata": {
    "execution": {
     "iopub.execute_input": "2024-02-20T15:51:58.715008Z",
     "iopub.status.busy": "2024-02-20T15:51:58.714684Z",
     "iopub.status.idle": "2024-02-20T15:51:58.719055Z",
     "shell.execute_reply": "2024-02-20T15:51:58.718584Z"
    }
   },
   "outputs": [
    {
     "data": {
      "text/latex": [
       "$\\displaystyle \\dot{\\psi}\\hat{a}_y$"
      ],
      "text/plain": [
       "ψ̇ a_y"
      ]
     },
     "execution_count": 40,
     "metadata": {},
     "output_type": "execute_result"
    }
   ],
   "source": [
    "A_w_B = B.ang_vel_in(A)\n",
    "A_w_B"
   ]
  },
  {
   "cell_type": "code",
   "execution_count": 41,
   "id": "013f95c8",
   "metadata": {
    "execution": {
     "iopub.execute_input": "2024-02-20T15:51:58.721340Z",
     "iopub.status.busy": "2024-02-20T15:51:58.720820Z",
     "iopub.status.idle": "2024-02-20T15:51:58.725376Z",
     "shell.execute_reply": "2024-02-20T15:51:58.724831Z"
    }
   },
   "outputs": [
    {
     "data": {
      "text/latex": [
       "$\\displaystyle \\dot{\\theta}\\hat{b}_x$"
      ],
      "text/plain": [
       "θ̇ b_x"
      ]
     },
     "execution_count": 41,
     "metadata": {},
     "output_type": "execute_result"
    }
   ],
   "source": [
    "B_w_C = C.ang_vel_in(B)\n",
    "B_w_C"
   ]
  },
  {
   "cell_type": "code",
   "execution_count": 42,
   "id": "bd603ddc",
   "metadata": {
    "execution": {
     "iopub.execute_input": "2024-02-20T15:51:58.727210Z",
     "iopub.status.busy": "2024-02-20T15:51:58.727037Z",
     "iopub.status.idle": "2024-02-20T15:51:58.731232Z",
     "shell.execute_reply": "2024-02-20T15:51:58.730785Z"
    }
   },
   "outputs": [
    {
     "data": {
      "text/latex": [
       "$\\displaystyle \\dot{\\varphi}\\hat{c}_y$"
      ],
      "text/plain": [
       "varṗhi c_y"
      ]
     },
     "execution_count": 42,
     "metadata": {},
     "output_type": "execute_result"
    }
   ],
   "source": [
    "C_w_D = D.ang_vel_in(C)\n",
    "C_w_D"
   ]
  },
  {
   "cell_type": "code",
   "execution_count": 43,
   "id": "95e57ada",
   "metadata": {
    "execution": {
     "iopub.execute_input": "2024-02-20T15:51:58.733032Z",
     "iopub.status.busy": "2024-02-20T15:51:58.732855Z",
     "iopub.status.idle": "2024-02-20T15:51:58.738156Z",
     "shell.execute_reply": "2024-02-20T15:51:58.737603Z"
    }
   },
   "outputs": [
    {
     "data": {
      "text/latex": [
       "$\\displaystyle \\dot{\\psi}\\hat{a}_y + \\dot{\\theta}\\hat{b}_x + \\dot{\\varphi}\\hat{c}_y$"
      ],
      "text/plain": [
       "ψ̇ a_y + θ̇ b_x + varṗhi c_y"
      ]
     },
     "execution_count": 43,
     "metadata": {},
     "output_type": "execute_result"
    }
   ],
   "source": [
    "A_w_D = A_w_B + B_w_C + C_w_D\n",
    "A_w_D"
   ]
  },
  {
   "cell_type": "code",
   "execution_count": 44,
   "id": "bf49bf58",
   "metadata": {
    "execution": {
     "iopub.execute_input": "2024-02-20T15:51:58.740104Z",
     "iopub.status.busy": "2024-02-20T15:51:58.739926Z",
     "iopub.status.idle": "2024-02-20T15:51:59.180313Z",
     "shell.execute_reply": "2024-02-20T15:51:59.179716Z"
    }
   },
   "outputs": [
    {
     "data": {
      "text/latex": [
       "$\\displaystyle (\\sin{\\left(\\theta \\right)} \\sin{\\left(\\varphi \\right)} \\dot{\\psi} + \\cos{\\left(\\varphi \\right)} \\dot{\\theta})\\hat{d}_x + (\\cos{\\left(\\theta \\right)} \\dot{\\psi} + \\dot{\\varphi})\\hat{d}_y + (- \\sin{\\left(\\theta \\right)} \\cos{\\left(\\varphi \\right)} \\dot{\\psi} + \\sin{\\left(\\varphi \\right)} \\dot{\\theta})\\hat{d}_z$"
      ],
      "text/plain": [
       "(sin(θ)⋅sin(varphi)⋅ψ̇ + cos(varphi)⋅θ̇) d_x + (cos(θ)⋅ψ̇ + varṗhi) d_y + (-s\n",
       "in(θ)⋅cos(varphi)⋅ψ̇ + sin(varphi)⋅θ̇) d_z"
      ]
     },
     "execution_count": 44,
     "metadata": {},
     "output_type": "execute_result"
    }
   ],
   "source": [
    "A2 = me.ReferenceFrame('A')\n",
    "D2 = me.ReferenceFrame('D')\n",
    "D2.orient_body_fixed(A2, (psi, theta, phi), 'YXY')\n",
    "D2.ang_vel_in(A2).simplify()"
   ]
  },
  {
   "cell_type": "code",
   "execution_count": 45,
   "id": "57b9ba12",
   "metadata": {
    "execution": {
     "iopub.execute_input": "2024-02-20T15:51:59.182450Z",
     "iopub.status.busy": "2024-02-20T15:51:59.182231Z",
     "iopub.status.idle": "2024-02-20T15:51:59.200801Z",
     "shell.execute_reply": "2024-02-20T15:51:59.200213Z"
    }
   },
   "outputs": [
    {
     "data": {
      "text/latex": [
       "$\\displaystyle (\\sin{\\left(\\theta \\right)} \\sin{\\left(\\varphi \\right)} \\dot{\\psi} + \\cos{\\left(\\varphi \\right)} \\dot{\\theta})\\hat{d}_x + (\\cos{\\left(\\theta \\right)} \\dot{\\psi} + \\dot{\\varphi})\\hat{d}_y + (- \\sin{\\left(\\theta \\right)} \\cos{\\left(\\varphi \\right)} \\dot{\\psi} + \\sin{\\left(\\varphi \\right)} \\dot{\\theta})\\hat{d}_z$"
      ],
      "text/plain": [
       "(sin(θ)⋅sin(varphi)⋅ψ̇ + cos(varphi)⋅θ̇) d_x + (cos(θ)⋅ψ̇ + varṗhi) d_y + (-s\n",
       "in(θ)⋅cos(varphi)⋅ψ̇ + sin(varphi)⋅θ̇) d_z"
      ]
     },
     "execution_count": 45,
     "metadata": {},
     "output_type": "execute_result"
    }
   ],
   "source": [
    "A_w_D.express(D)"
   ]
  },
  {
   "cell_type": "code",
   "execution_count": 46,
   "id": "ffe458b0",
   "metadata": {
    "execution": {
     "iopub.execute_input": "2024-02-20T15:51:59.202820Z",
     "iopub.status.busy": "2024-02-20T15:51:59.202628Z",
     "iopub.status.idle": "2024-02-20T15:51:59.211655Z",
     "shell.execute_reply": "2024-02-20T15:51:59.211193Z"
    }
   },
   "outputs": [
    {
     "data": {
      "text/latex": [
       "$\\displaystyle \\ddot{\\theta}\\hat{a}_z$"
      ],
      "text/plain": [
       "θ̈ a_z"
      ]
     },
     "execution_count": 46,
     "metadata": {},
     "output_type": "execute_result"
    }
   ],
   "source": [
    "theta = me.dynamicsymbols('theta')\n",
    "\n",
    "A = me.ReferenceFrame('A')\n",
    "B = me.ReferenceFrame('B')\n",
    "B.orient_axis(A, theta, A.z)\n",
    "B.ang_acc_in(A)"
   ]
  },
  {
   "cell_type": "code",
   "execution_count": 47,
   "id": "4b56a474",
   "metadata": {
    "execution": {
     "iopub.execute_input": "2024-02-20T15:51:59.213567Z",
     "iopub.status.busy": "2024-02-20T15:51:59.213384Z",
     "iopub.status.idle": "2024-02-20T15:51:59.219162Z",
     "shell.execute_reply": "2024-02-20T15:51:59.218688Z"
    }
   },
   "outputs": [
    {
     "data": {
      "text/latex": [
       "$\\displaystyle \\ddot{\\theta}\\hat{a}_z$"
      ],
      "text/plain": [
       "θ̈ a_z"
      ]
     },
     "execution_count": 47,
     "metadata": {},
     "output_type": "execute_result"
    }
   ],
   "source": [
    "B.ang_vel_in(A).dt(A)"
   ]
  },
  {
   "cell_type": "code",
   "execution_count": 48,
   "id": "6600e222",
   "metadata": {
    "execution": {
     "iopub.execute_input": "2024-02-20T15:51:59.221279Z",
     "iopub.status.busy": "2024-02-20T15:51:59.220935Z",
     "iopub.status.idle": "2024-02-20T15:51:59.228463Z",
     "shell.execute_reply": "2024-02-20T15:51:59.227981Z"
    }
   },
   "outputs": [
    {
     "data": {
      "text/latex": [
       "$\\displaystyle \\ddot{\\theta}\\hat{a}_z$"
      ],
      "text/plain": [
       "θ̈ a_z"
      ]
     },
     "execution_count": 48,
     "metadata": {},
     "output_type": "execute_result"
    }
   ],
   "source": [
    "B.ang_vel_in(A).dt(B)"
   ]
  },
  {
   "cell_type": "code",
   "execution_count": 49,
   "id": "c0e80aad",
   "metadata": {
    "execution": {
     "iopub.execute_input": "2024-02-20T15:51:59.230303Z",
     "iopub.status.busy": "2024-02-20T15:51:59.230124Z",
     "iopub.status.idle": "2024-02-20T15:52:00.011346Z",
     "shell.execute_reply": "2024-02-20T15:52:00.010681Z"
    }
   },
   "outputs": [
    {
     "data": {
      "text/latex": [
       "$\\displaystyle (\\sin{\\left(\\theta \\right)} \\sin{\\left(\\varphi \\right)} \\ddot{\\psi} + \\sin{\\left(\\theta \\right)} \\cos{\\left(\\varphi \\right)} \\dot{\\psi} \\dot{\\varphi} + \\sin{\\left(\\varphi \\right)} \\cos{\\left(\\theta \\right)} \\dot{\\psi} \\dot{\\theta} - \\sin{\\left(\\varphi \\right)} \\dot{\\theta} \\dot{\\varphi} + \\cos{\\left(\\varphi \\right)} \\ddot{\\theta})\\hat{d}_x + (- \\sin{\\left(\\theta \\right)} \\dot{\\psi} \\dot{\\theta} + \\cos{\\left(\\theta \\right)} \\ddot{\\psi} + \\ddot{\\varphi})\\hat{d}_y + (\\sin{\\left(\\theta \\right)} \\sin{\\left(\\varphi \\right)} \\dot{\\psi} \\dot{\\varphi} - \\sin{\\left(\\theta \\right)} \\cos{\\left(\\varphi \\right)} \\ddot{\\psi} + \\sin{\\left(\\varphi \\right)} \\ddot{\\theta} - \\cos{\\left(\\theta \\right)} \\cos{\\left(\\varphi \\right)} \\dot{\\psi} \\dot{\\theta} + \\cos{\\left(\\varphi \\right)} \\dot{\\theta} \\dot{\\varphi})\\hat{d}_z$"
      ],
      "text/plain": [
       "(sin(θ)⋅sin(varphi)⋅ψ̈ + sin(θ)⋅cos(varphi)⋅ψ̇⋅varṗhi + sin(varphi)⋅cos(θ)⋅ψ̇\n",
       "⋅θ̇ - sin(varphi)⋅θ̇⋅varṗhi + cos(varphi)⋅θ̈) d_x + (-sin(θ)⋅ψ̇⋅θ̇ + cos(θ)⋅ψ\n",
       "̈ + varp̈hi) d_y + (sin(θ)⋅sin(varphi)⋅ψ̇⋅varṗhi - sin(θ)⋅cos(varphi)⋅ψ̈ + si\n",
       "n(varphi)⋅θ̈ - cos(θ)⋅cos(varphi)⋅ψ̇⋅θ̇ + cos(varphi)⋅θ̇⋅varṗhi) d_z"
      ]
     },
     "execution_count": 49,
     "metadata": {},
     "output_type": "execute_result"
    }
   ],
   "source": [
    "psi, theta, phi = me.dynamicsymbols('psi, theta, varphi')\n",
    "\n",
    "A = me.ReferenceFrame('A')\n",
    "D = me.ReferenceFrame('D')\n",
    "D.orient_body_fixed(A, (psi, theta, phi), 'YXY')\n",
    "\n",
    "D.ang_acc_in(A).simplify()"
   ]
  },
  {
   "cell_type": "code",
   "execution_count": 50,
   "id": "2ffe2f83",
   "metadata": {
    "execution": {
     "iopub.execute_input": "2024-02-20T15:52:00.013977Z",
     "iopub.status.busy": "2024-02-20T15:52:00.013540Z",
     "iopub.status.idle": "2024-02-20T15:52:00.480260Z",
     "shell.execute_reply": "2024-02-20T15:52:00.479637Z"
    }
   },
   "outputs": [
    {
     "data": {
      "text/latex": [
       "$\\displaystyle (\\sin{\\left(\\theta \\right)} \\sin{\\left(\\varphi \\right)} \\ddot{\\psi} + \\sin{\\left(\\theta \\right)} \\cos{\\left(\\varphi \\right)} \\dot{\\psi} \\dot{\\varphi} + \\sin{\\left(\\varphi \\right)} \\cos{\\left(\\theta \\right)} \\dot{\\psi} \\dot{\\theta} - \\sin{\\left(\\varphi \\right)} \\dot{\\theta} \\dot{\\varphi} + \\cos{\\left(\\varphi \\right)} \\ddot{\\theta})\\hat{d}_x + (- \\sin{\\left(\\theta \\right)} \\dot{\\psi} \\dot{\\theta} + \\cos{\\left(\\theta \\right)} \\ddot{\\psi} + \\ddot{\\varphi})\\hat{d}_y + (\\sin{\\left(\\theta \\right)} \\sin{\\left(\\varphi \\right)} \\dot{\\psi} \\dot{\\varphi} - \\sin{\\left(\\theta \\right)} \\cos{\\left(\\varphi \\right)} \\ddot{\\psi} + \\sin{\\left(\\varphi \\right)} \\ddot{\\theta} - \\cos{\\left(\\theta \\right)} \\cos{\\left(\\varphi \\right)} \\dot{\\psi} \\dot{\\theta} + \\cos{\\left(\\varphi \\right)} \\dot{\\theta} \\dot{\\varphi})\\hat{d}_z$"
      ],
      "text/plain": [
       "(sin(θ)⋅sin(varphi)⋅ψ̈ + sin(θ)⋅cos(varphi)⋅ψ̇⋅varṗhi + sin(varphi)⋅cos(θ)⋅ψ̇\n",
       "⋅θ̇ - sin(varphi)⋅θ̇⋅varṗhi + cos(varphi)⋅θ̈) d_x + (-sin(θ)⋅ψ̇⋅θ̇ + cos(θ)⋅ψ\n",
       "̈ + varp̈hi) d_y + (sin(θ)⋅sin(varphi)⋅ψ̇⋅varṗhi - sin(θ)⋅cos(varphi)⋅ψ̈ + si\n",
       "n(varphi)⋅θ̈ - cos(θ)⋅cos(varphi)⋅ψ̇⋅θ̇ + cos(varphi)⋅θ̇⋅varṗhi) d_z"
      ]
     },
     "execution_count": 50,
     "metadata": {},
     "output_type": "execute_result"
    }
   ],
   "source": [
    "D.ang_vel_in(A).dt(A).simplify()"
   ]
  },
  {
   "cell_type": "code",
   "execution_count": 51,
   "id": "f981e4d5",
   "metadata": {
    "execution": {
     "iopub.execute_input": "2024-02-20T15:52:00.482874Z",
     "iopub.status.busy": "2024-02-20T15:52:00.482351Z",
     "iopub.status.idle": "2024-02-20T15:52:00.940334Z",
     "shell.execute_reply": "2024-02-20T15:52:00.939722Z"
    }
   },
   "outputs": [
    {
     "data": {
      "text/latex": [
       "$\\displaystyle (\\sin{\\left(\\theta \\right)} \\sin{\\left(\\varphi \\right)} \\ddot{\\psi} + \\sin{\\left(\\theta \\right)} \\cos{\\left(\\varphi \\right)} \\dot{\\psi} \\dot{\\varphi} + \\sin{\\left(\\varphi \\right)} \\cos{\\left(\\theta \\right)} \\dot{\\psi} \\dot{\\theta} - \\sin{\\left(\\varphi \\right)} \\dot{\\theta} \\dot{\\varphi} + \\cos{\\left(\\varphi \\right)} \\ddot{\\theta})\\hat{d}_x + (- \\sin{\\left(\\theta \\right)} \\dot{\\psi} \\dot{\\theta} + \\cos{\\left(\\theta \\right)} \\ddot{\\psi} + \\ddot{\\varphi})\\hat{d}_y + (\\sin{\\left(\\theta \\right)} \\sin{\\left(\\varphi \\right)} \\dot{\\psi} \\dot{\\varphi} - \\sin{\\left(\\theta \\right)} \\cos{\\left(\\varphi \\right)} \\ddot{\\psi} + \\sin{\\left(\\varphi \\right)} \\ddot{\\theta} - \\cos{\\left(\\theta \\right)} \\cos{\\left(\\varphi \\right)} \\dot{\\psi} \\dot{\\theta} + \\cos{\\left(\\varphi \\right)} \\dot{\\theta} \\dot{\\varphi})\\hat{d}_z$"
      ],
      "text/plain": [
       "(sin(θ)⋅sin(varphi)⋅ψ̈ + sin(θ)⋅cos(varphi)⋅ψ̇⋅varṗhi + sin(varphi)⋅cos(θ)⋅ψ̇\n",
       "⋅θ̇ - sin(varphi)⋅θ̇⋅varṗhi + cos(varphi)⋅θ̈) d_x + (-sin(θ)⋅ψ̇⋅θ̇ + cos(θ)⋅ψ\n",
       "̈ + varp̈hi) d_y + (sin(θ)⋅sin(varphi)⋅ψ̇⋅varṗhi - sin(θ)⋅cos(varphi)⋅ψ̈ + si\n",
       "n(varphi)⋅θ̈ - cos(θ)⋅cos(varphi)⋅ψ̇⋅θ̇ + cos(varphi)⋅θ̇⋅varṗhi) d_z"
      ]
     },
     "execution_count": 51,
     "metadata": {},
     "output_type": "execute_result"
    }
   ],
   "source": [
    "D.ang_vel_in(A).dt(D).simplify()"
   ]
  },
  {
   "cell_type": "code",
   "execution_count": 52,
   "id": "a3dff76c",
   "metadata": {
    "execution": {
     "iopub.execute_input": "2024-02-20T15:52:00.942545Z",
     "iopub.status.busy": "2024-02-20T15:52:00.942351Z",
     "iopub.status.idle": "2024-02-20T15:52:00.952940Z",
     "shell.execute_reply": "2024-02-20T15:52:00.952480Z"
    }
   },
   "outputs": [],
   "source": [
    "psi, theta, phi = me.dynamicsymbols('psi, theta, varphi')\n",
    "\n",
    "A = me.ReferenceFrame('A')\n",
    "B = me.ReferenceFrame('B')\n",
    "C = me.ReferenceFrame('C')\n",
    "D = me.ReferenceFrame('D')\n",
    "\n",
    "B.orient_axis(A, psi, A.y)\n",
    "C.orient_axis(B, theta, B.x)\n",
    "D.orient_axis(C, phi, C.y)"
   ]
  },
  {
   "cell_type": "code",
   "execution_count": 53,
   "id": "54802554",
   "metadata": {
    "execution": {
     "iopub.execute_input": "2024-02-20T15:52:00.954835Z",
     "iopub.status.busy": "2024-02-20T15:52:00.954653Z",
     "iopub.status.idle": "2024-02-20T15:52:00.960307Z",
     "shell.execute_reply": "2024-02-20T15:52:00.959749Z"
    }
   },
   "outputs": [
    {
     "data": {
      "text/latex": [
       "$\\displaystyle \\ddot{\\psi}\\hat{a}_y$"
      ],
      "text/plain": [
       "ψ̈ a_y"
      ]
     },
     "execution_count": 53,
     "metadata": {},
     "output_type": "execute_result"
    }
   ],
   "source": [
    "A_alp_B = B.ang_acc_in(A)\n",
    "A_alp_B"
   ]
  },
  {
   "cell_type": "code",
   "execution_count": 54,
   "id": "4f8e368d",
   "metadata": {
    "execution": {
     "iopub.execute_input": "2024-02-20T15:52:00.962456Z",
     "iopub.status.busy": "2024-02-20T15:52:00.962116Z",
     "iopub.status.idle": "2024-02-20T15:52:00.967767Z",
     "shell.execute_reply": "2024-02-20T15:52:00.967228Z"
    }
   },
   "outputs": [
    {
     "data": {
      "text/latex": [
       "$\\displaystyle \\ddot{\\theta}\\hat{b}_x$"
      ],
      "text/plain": [
       "θ̈ b_x"
      ]
     },
     "execution_count": 54,
     "metadata": {},
     "output_type": "execute_result"
    }
   ],
   "source": [
    "B_alp_C = C.ang_acc_in(B)\n",
    "B_alp_C"
   ]
  },
  {
   "cell_type": "code",
   "execution_count": 55,
   "id": "8adfcd88",
   "metadata": {
    "execution": {
     "iopub.execute_input": "2024-02-20T15:52:00.969625Z",
     "iopub.status.busy": "2024-02-20T15:52:00.969451Z",
     "iopub.status.idle": "2024-02-20T15:52:00.974947Z",
     "shell.execute_reply": "2024-02-20T15:52:00.974372Z"
    }
   },
   "outputs": [
    {
     "data": {
      "text/latex": [
       "$\\displaystyle \\ddot{\\varphi}\\hat{c}_y$"
      ],
      "text/plain": [
       "varp̈hi c_y"
      ]
     },
     "execution_count": 55,
     "metadata": {},
     "output_type": "execute_result"
    }
   ],
   "source": [
    "C_alp_D = D.ang_acc_in(C)\n",
    "C_alp_D"
   ]
  },
  {
   "cell_type": "code",
   "execution_count": 56,
   "id": "ca967eec",
   "metadata": {
    "execution": {
     "iopub.execute_input": "2024-02-20T15:52:00.976990Z",
     "iopub.status.busy": "2024-02-20T15:52:00.976658Z",
     "iopub.status.idle": "2024-02-20T15:52:01.128837Z",
     "shell.execute_reply": "2024-02-20T15:52:01.128220Z"
    }
   },
   "outputs": [
    {
     "data": {
      "text/latex": [
       "$\\displaystyle (\\sin{\\left(\\theta \\right)} \\sin{\\left(\\varphi \\right)} \\ddot{\\psi} + \\cos{\\left(\\varphi \\right)} \\ddot{\\theta})\\hat{d}_x + (\\cos{\\left(\\theta \\right)} \\ddot{\\psi} + \\ddot{\\varphi})\\hat{d}_y + (- \\sin{\\left(\\theta \\right)} \\cos{\\left(\\varphi \\right)} \\ddot{\\psi} + \\sin{\\left(\\varphi \\right)} \\ddot{\\theta})\\hat{d}_z$"
      ],
      "text/plain": [
       "(sin(θ)⋅sin(varphi)⋅ψ̈ + cos(varphi)⋅θ̈) d_x + (cos(θ)⋅ψ̈ + varp̈hi) d_y + (-s\n",
       "in(θ)⋅cos(varphi)⋅ψ̈ + sin(varphi)⋅θ̈) d_z"
      ]
     },
     "execution_count": 56,
     "metadata": {},
     "output_type": "execute_result"
    }
   ],
   "source": [
    "A_alp_D = A_alp_B + B_alp_C + C_alp_D\n",
    "A_alp_D.express(D).simplify()"
   ]
  },
  {
   "cell_type": "code",
   "execution_count": 57,
   "id": "80c910f4",
   "metadata": {
    "execution": {
     "iopub.execute_input": "2024-02-20T15:52:01.130955Z",
     "iopub.status.busy": "2024-02-20T15:52:01.130751Z",
     "iopub.status.idle": "2024-02-20T15:52:01.629455Z",
     "shell.execute_reply": "2024-02-20T15:52:01.627878Z"
    }
   },
   "outputs": [
    {
     "data": {
      "text/latex": [
       "$\\displaystyle (\\sin{\\left(\\theta \\right)} \\sin{\\left(\\varphi \\right)} \\ddot{\\psi} + \\sin{\\left(\\theta \\right)} \\cos{\\left(\\varphi \\right)} \\dot{\\psi} \\dot{\\varphi} + \\sin{\\left(\\varphi \\right)} \\cos{\\left(\\theta \\right)} \\dot{\\psi} \\dot{\\theta} - \\sin{\\left(\\varphi \\right)} \\dot{\\theta} \\dot{\\varphi} + \\cos{\\left(\\varphi \\right)} \\ddot{\\theta})\\hat{d}_x + (- \\sin{\\left(\\theta \\right)} \\dot{\\psi} \\dot{\\theta} + \\cos{\\left(\\theta \\right)} \\ddot{\\psi} + \\ddot{\\varphi})\\hat{d}_y + (\\sin{\\left(\\theta \\right)} \\sin{\\left(\\varphi \\right)} \\dot{\\psi} \\dot{\\varphi} - \\sin{\\left(\\theta \\right)} \\cos{\\left(\\varphi \\right)} \\ddot{\\psi} + \\sin{\\left(\\varphi \\right)} \\ddot{\\theta} - \\cos{\\left(\\theta \\right)} \\cos{\\left(\\varphi \\right)} \\dot{\\psi} \\dot{\\theta} + \\cos{\\left(\\varphi \\right)} \\dot{\\theta} \\dot{\\varphi})\\hat{d}_z$"
      ],
      "text/plain": [
       "(sin(θ)⋅sin(varphi)⋅ψ̈ + sin(θ)⋅cos(varphi)⋅ψ̇⋅varṗhi + sin(varphi)⋅cos(θ)⋅ψ̇\n",
       "⋅θ̇ - sin(varphi)⋅θ̇⋅varṗhi + cos(varphi)⋅θ̈) d_x + (-sin(θ)⋅ψ̇⋅θ̇ + cos(θ)⋅ψ\n",
       "̈ + varp̈hi) d_y + (sin(θ)⋅sin(varphi)⋅ψ̇⋅varṗhi - sin(θ)⋅cos(varphi)⋅ψ̈ + si\n",
       "n(varphi)⋅θ̈ - cos(θ)⋅cos(varphi)⋅ψ̇⋅θ̇ + cos(varphi)⋅θ̇⋅varṗhi) d_z"
      ]
     },
     "execution_count": 57,
     "metadata": {},
     "output_type": "execute_result"
    }
   ],
   "source": [
    "D.ang_vel_in(A).dt(A).express(D).simplify()"
   ]
  }
 ],
 "metadata": {
  "kernelspec": {
   "display_name": "Python 3 (ipykernel)",
   "language": "python",
   "name": "python3"
  },
  "language_info": {
   "codemirror_mode": {
    "name": "ipython",
    "version": 3
   },
   "file_extension": ".py",
   "mimetype": "text/x-python",
   "name": "python",
   "nbconvert_exporter": "python",
   "pygments_lexer": "ipython3",
   "version": "3.10.13"
  }
 },
 "nbformat": 4,
 "nbformat_minor": 5
}