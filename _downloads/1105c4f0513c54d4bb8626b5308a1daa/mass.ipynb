{
 "cells": [
  {
   "cell_type": "code",
   "execution_count": 1,
   "id": "3e83e878",
   "metadata": {
    "execution": {
     "iopub.execute_input": "2024-02-20T15:56:08.355719Z",
     "iopub.status.busy": "2024-02-20T15:56:08.355526Z",
     "iopub.status.idle": "2024-02-20T15:56:08.749425Z",
     "shell.execute_reply": "2024-02-20T15:56:08.748826Z"
    }
   },
   "outputs": [],
   "source": [
    "import sympy as sm\n",
    "import sympy.physics.mechanics as me\n",
    "me.init_vprinting(use_latex='mathjax')"
   ]
  },
  {
   "cell_type": "code",
   "execution_count": 2,
   "id": "9a310b8c",
   "metadata": {
    "execution": {
     "iopub.execute_input": "2024-02-20T15:56:08.752403Z",
     "iopub.status.busy": "2024-02-20T15:56:08.752056Z",
     "iopub.status.idle": "2024-02-20T15:56:08.757209Z",
     "shell.execute_reply": "2024-02-20T15:56:08.756411Z"
    }
   },
   "outputs": [],
   "source": [
    "class ReferenceFrame(me.ReferenceFrame):\n",
    "\n",
    "    def __init__(self, *args, **kwargs):\n",
    "\n",
    "        kwargs.pop('latexs', None)\n",
    "\n",
    "        lab = args[0].lower()\n",
    "        tex = r'\\hat{{{}}}_{}'\n",
    "\n",
    "        super(ReferenceFrame, self).__init__(*args,\n",
    "                                             latexs=(tex.format(lab, 'x'),\n",
    "                                                     tex.format(lab, 'y'),\n",
    "                                                     tex.format(lab, 'z')),\n",
    "                                             **kwargs)\n",
    "me.ReferenceFrame = ReferenceFrame"
   ]
  },
  {
   "cell_type": "code",
   "execution_count": 3,
   "id": "4cb7f634",
   "metadata": {
    "execution": {
     "iopub.execute_input": "2024-02-20T15:56:08.760273Z",
     "iopub.status.busy": "2024-02-20T15:56:08.759693Z",
     "iopub.status.idle": "2024-02-20T15:56:08.767261Z",
     "shell.execute_reply": "2024-02-20T15:56:08.766640Z"
    }
   },
   "outputs": [
    {
     "data": {
      "text/latex": [
       "$\\displaystyle \\frac{5 m}{2}$"
      ],
      "text/plain": [
       "5⋅m\n",
       "───\n",
       " 2 "
      ]
     },
     "execution_count": 3,
     "metadata": {},
     "output_type": "execute_result"
    }
   ],
   "source": [
    "m = sm.symbols('m')\n",
    "\n",
    "m_total = m + m + m/2\n",
    "m_total"
   ]
  },
  {
   "cell_type": "code",
   "execution_count": 4,
   "id": "ac93fa0d",
   "metadata": {
    "execution": {
     "iopub.execute_input": "2024-02-20T15:56:08.769504Z",
     "iopub.status.busy": "2024-02-20T15:56:08.769110Z",
     "iopub.status.idle": "2024-02-20T15:56:08.805693Z",
     "shell.execute_reply": "2024-02-20T15:56:08.805149Z"
    }
   },
   "outputs": [
    {
     "data": {
      "text/latex": [
       "$\\displaystyle \\frac{\\pi h r^{2} \\rho}{3}$"
      ],
      "text/plain": [
       "     2  \n",
       "π⋅h⋅r ⋅ρ\n",
       "────────\n",
       "   3    "
      ]
     },
     "execution_count": 4,
     "metadata": {},
     "output_type": "execute_result"
    }
   ],
   "source": [
    "p, r, h, z, theta = sm.symbols('rho, r, h, z, theta')\n",
    "\n",
    "sm.integrate(p*r, (r, 0, r/h*z), (theta, 0, 2*sm.pi), (z, 0, h))"
   ]
  },
  {
   "cell_type": "code",
   "execution_count": 5,
   "id": "41d96d73",
   "metadata": {
    "execution": {
     "iopub.execute_input": "2024-02-20T15:56:08.807805Z",
     "iopub.status.busy": "2024-02-20T15:56:08.807609Z",
     "iopub.status.idle": "2024-02-20T15:56:08.824874Z",
     "shell.execute_reply": "2024-02-20T15:56:08.824329Z"
    }
   },
   "outputs": [
    {
     "data": {
      "text/latex": [
       "$\\displaystyle (m_{1} x_{1} + m_{2} x_{2} + m_{3} x_{3})\\hat{a}_x + (m_{1} y_{1} + m_{2} y_{2} + m_{3} y_{3})\\hat{a}_y + (m_{1} z_{1} + m_{2} z_{2} + m_{3} z_{3})\\hat{a}_z$"
      ],
      "text/plain": [
       "(m₁⋅x₁ + m₂⋅x₂ + m₃⋅x₃) a_x + (m₁⋅y₁ + m₂⋅y₂ + m₃⋅y₃) a_y + (m₁⋅z₁ + m₂⋅z₂ + m\n",
       "₃⋅z₃) a_z"
      ]
     },
     "execution_count": 5,
     "metadata": {},
     "output_type": "execute_result"
    }
   ],
   "source": [
    "m1, m2, m3 = sm.symbols('m1, m2, m3')\n",
    "x1, x2, x3 = me.dynamicsymbols('x1, x2, x3')\n",
    "y1, y2, y3 = me.dynamicsymbols('y1, y2, y3')\n",
    "z1, z2, z3 = me.dynamicsymbols('z1, z2, z3')\n",
    "\n",
    "A = me.ReferenceFrame('A')\n",
    "\n",
    "zeroth_moment = (m1 + m2 + m3)\n",
    "\n",
    "first_moment = (m1*(x1*A.x + y1*A.y + z1*A.z) +\n",
    "                m2*(x2*A.x + y2*A.y + z2*A.z) +\n",
    "                m3*(x3*A.x + y3*A.y + z3*A.z))\n",
    "first_moment"
   ]
  },
  {
   "cell_type": "code",
   "execution_count": 6,
   "id": "f1e36844",
   "metadata": {
    "execution": {
     "iopub.execute_input": "2024-02-20T15:56:08.827034Z",
     "iopub.status.busy": "2024-02-20T15:56:08.826670Z",
     "iopub.status.idle": "2024-02-20T15:56:08.838927Z",
     "shell.execute_reply": "2024-02-20T15:56:08.838481Z"
    }
   },
   "outputs": [
    {
     "data": {
      "text/latex": [
       "$\\displaystyle \\frac{m_{1} x_{1} + m_{2} x_{2} + m_{3} x_{3}}{m_{1} + m_{2} + m_{3}}\\hat{a}_x + \\frac{m_{1} y_{1} + m_{2} y_{2} + m_{3} y_{3}}{m_{1} + m_{2} + m_{3}}\\hat{a}_y + \\frac{m_{1} z_{1} + m_{2} z_{2} + m_{3} z_{3}}{m_{1} + m_{2} + m_{3}}\\hat{a}_z$"
      ],
      "text/plain": [
       "m₁⋅x₁ + m₂⋅x₂ + m₃⋅x₃       m₁⋅y₁ + m₂⋅y₂ + m₃⋅y₃       m₁⋅z₁ + m₂⋅z₂ + m₃⋅z₃\n",
       "───────────────────── a_x + ───────────────────── a_y + ─────────────────────\n",
       "     m₁ + m₂ + m₃                m₁ + m₂ + m₃                m₁ + m₂ + m₃\n",
       "\n",
       "\n",
       "a_z\n"
      ]
     },
     "execution_count": 6,
     "metadata": {},
     "output_type": "execute_result"
    }
   ],
   "source": [
    "r_O_So =  first_moment/zeroth_moment\n",
    "r_O_So"
   ]
  },
  {
   "cell_type": "code",
   "execution_count": 7,
   "id": "426f74be",
   "metadata": {
    "execution": {
     "iopub.execute_input": "2024-02-20T15:56:08.841154Z",
     "iopub.status.busy": "2024-02-20T15:56:08.840801Z",
     "iopub.status.idle": "2024-02-20T15:56:08.913233Z",
     "shell.execute_reply": "2024-02-20T15:56:08.912605Z"
    }
   },
   "outputs": [
    {
     "data": {
      "text/latex": [
       "$\\displaystyle (\\frac{x_{1}}{6} + \\frac{x_{2}}{3} + \\frac{x_{3}}{2})\\hat{a}_x + (\\frac{y_{1}}{6} + \\frac{y_{2}}{3} + \\frac{y_{3}}{2})\\hat{a}_y + (\\frac{z_{1}}{6} + \\frac{z_{2}}{3} + \\frac{z_{3}}{2})\\hat{a}_z$"
      ],
      "text/plain": [
       "⎛x₁   x₂   x₃⎞       ⎛y₁   y₂   y₃⎞       ⎛z₁   z₂   z₃⎞\n",
       "⎜── + ── + ──⎟ a_x + ⎜── + ── + ──⎟ a_y + ⎜── + ── + ──⎟ a_z\n",
       "⎝6    3    2 ⎠       ⎝6    3    2 ⎠       ⎝6    3    2 ⎠"
      ]
     },
     "execution_count": 7,
     "metadata": {},
     "output_type": "execute_result"
    }
   ],
   "source": [
    "r_O_So.xreplace({m2: 2*m1, m3: 3*m1}).simplify()"
   ]
  },
  {
   "cell_type": "code",
   "execution_count": 8,
   "id": "054a31b9",
   "metadata": {
    "execution": {
     "iopub.execute_input": "2024-02-20T15:56:08.915365Z",
     "iopub.status.busy": "2024-02-20T15:56:08.915180Z",
     "iopub.status.idle": "2024-02-20T15:56:08.918432Z",
     "shell.execute_reply": "2024-02-20T15:56:08.917928Z"
    }
   },
   "outputs": [],
   "source": [
    "m, r, theta = sm.symbols('m, r, theta')\n",
    "A = me.ReferenceFrame('A')"
   ]
  },
  {
   "cell_type": "code",
   "execution_count": 9,
   "id": "78c55c4d",
   "metadata": {
    "execution": {
     "iopub.execute_input": "2024-02-20T15:56:08.920328Z",
     "iopub.status.busy": "2024-02-20T15:56:08.920146Z",
     "iopub.status.idle": "2024-02-20T15:56:08.932560Z",
     "shell.execute_reply": "2024-02-20T15:56:08.932011Z"
    }
   },
   "outputs": [],
   "source": [
    "r_O_m = (r + r*sm.sin(theta))*A.x + r*sm.cos(theta)*A.y\n",
    "r_O_2m = (r + r*sm.sin(theta + sm.pi/7))*A.x + r*sm.cos(theta + sm.pi/7)*A.y\n",
    "r_O_3m = (r + r*sm.sin(theta - sm.pi/6))*A.x + r*sm.cos(theta - sm.pi/6)*A.y"
   ]
  },
  {
   "cell_type": "code",
   "execution_count": 10,
   "id": "5d636497",
   "metadata": {
    "execution": {
     "iopub.execute_input": "2024-02-20T15:56:08.935073Z",
     "iopub.status.busy": "2024-02-20T15:56:08.934709Z",
     "iopub.status.idle": "2024-02-20T15:56:08.960480Z",
     "shell.execute_reply": "2024-02-20T15:56:08.959838Z"
    }
   },
   "outputs": [
    {
     "data": {
      "text/latex": [
       "$\\displaystyle m \\left(r \\sin{\\left(\\theta \\right)} + r\\right)^{2} + 2 m \\left(r \\sin{\\left(\\theta + \\frac{\\pi}{7} \\right)} + r\\right)^{2} + 3 m \\left(- r \\cos{\\left(\\theta + \\frac{\\pi}{3} \\right)} + r\\right)^{2}$"
      ],
      "text/plain": [
       "                                          2                           2\n",
       "                2       ⎛     ⎛    π⎞    ⎞        ⎛       ⎛    π⎞    ⎞ \n",
       "m⋅(r⋅sin(θ) + r)  + 2⋅m⋅⎜r⋅sin⎜θ + ─⎟ + r⎟  + 3⋅m⋅⎜- r⋅cos⎜θ + ─⎟ + r⎟ \n",
       "                        ⎝     ⎝    7⎠    ⎠        ⎝       ⎝    3⎠    ⎠ "
      ]
     },
     "execution_count": 10,
     "metadata": {},
     "output_type": "execute_result"
    }
   ],
   "source": [
    "Iyy = (m*me.dot(r_O_m.cross(A.y), r_O_m.cross(A.y)) +\n",
    "       2*m*me.dot(r_O_2m.cross(A.y), r_O_2m.cross(A.y)) +\n",
    "       3*m*me.dot(r_O_3m.cross(A.y), r_O_3m.cross(A.y)))\n",
    "Iyy"
   ]
  },
  {
   "cell_type": "code",
   "execution_count": 11,
   "id": "b445b6e2",
   "metadata": {
    "execution": {
     "iopub.execute_input": "2024-02-20T15:56:08.962773Z",
     "iopub.status.busy": "2024-02-20T15:56:08.962401Z",
     "iopub.status.idle": "2024-02-20T15:56:09.476054Z",
     "shell.execute_reply": "2024-02-20T15:56:09.475361Z"
    }
   },
   "outputs": [
    {
     "data": {
      "text/latex": [
       "$\\displaystyle 2 m r^{2} \\left(\\left(\\sin{\\left(\\theta \\right)} + 1\\right) \\cos{\\left(\\theta \\right)} + 2 \\left(\\sin{\\left(\\theta + \\frac{\\pi}{7} \\right)} + 1\\right) \\cos{\\left(\\theta + \\frac{\\pi}{7} \\right)} - 3 \\left(\\cos{\\left(\\theta + \\frac{\\pi}{3} \\right)} - 1\\right) \\sin{\\left(\\theta + \\frac{\\pi}{3} \\right)}\\right)$"
      ],
      "text/plain": [
       "     2 ⎛                        ⎛   ⎛    π⎞    ⎞    ⎛    π⎞     ⎛   ⎛    π⎞   \n",
       "2⋅m⋅r ⋅⎜(sin(θ) + 1)⋅cos(θ) + 2⋅⎜sin⎜θ + ─⎟ + 1⎟⋅cos⎜θ + ─⎟ - 3⋅⎜cos⎜θ + ─⎟ - \n",
       "       ⎝                        ⎝   ⎝    7⎠    ⎠    ⎝    7⎠     ⎝   ⎝    3⎠   \n",
       "\n",
       " ⎞    ⎛    π⎞⎞\n",
       "1⎟⋅sin⎜θ + ─⎟⎟\n",
       " ⎠    ⎝    3⎠⎠"
      ]
     },
     "execution_count": 11,
     "metadata": {},
     "output_type": "execute_result"
    }
   ],
   "source": [
    "dIyydtheta = sm.simplify(Iyy.diff(theta))\n",
    "dIyydtheta"
   ]
  },
  {
   "cell_type": "code",
   "execution_count": 12,
   "id": "462eb7f2",
   "metadata": {
    "execution": {
     "iopub.execute_input": "2024-02-20T15:56:09.478712Z",
     "iopub.status.busy": "2024-02-20T15:56:09.478186Z",
     "iopub.status.idle": "2024-02-20T15:56:09.499367Z",
     "shell.execute_reply": "2024-02-20T15:56:09.498385Z"
    }
   },
   "outputs": [
    {
     "data": {
      "text/latex": [
       "$\\displaystyle -1.49935061382135$"
      ],
      "text/plain": [
       "-1.49935061382135"
      ]
     },
     "execution_count": 12,
     "metadata": {},
     "output_type": "execute_result"
    }
   ],
   "source": [
    "theta_sol = sm.nsolve((dIyydtheta/m/r**2).evalf(), theta, 0)\n",
    "theta_sol"
   ]
  },
  {
   "cell_type": "code",
   "execution_count": 13,
   "id": "3e4e78c6",
   "metadata": {
    "execution": {
     "iopub.execute_input": "2024-02-20T15:56:09.501759Z",
     "iopub.status.busy": "2024-02-20T15:56:09.501368Z",
     "iopub.status.idle": "2024-02-20T15:56:09.505897Z",
     "shell.execute_reply": "2024-02-20T15:56:09.505341Z"
    }
   },
   "outputs": [
    {
     "data": {
      "text/latex": [
       "$\\displaystyle -85.9064621823125$"
      ],
      "text/plain": [
       "-85.9064621823125"
      ]
     },
     "execution_count": 13,
     "metadata": {},
     "output_type": "execute_result"
    }
   ],
   "source": [
    "import math\n",
    "\n",
    "theta_sol*180/math.pi"
   ]
  },
  {
   "cell_type": "code",
   "execution_count": 14,
   "id": "ae57cc06",
   "metadata": {
    "execution": {
     "iopub.execute_input": "2024-02-20T15:56:09.508051Z",
     "iopub.status.busy": "2024-02-20T15:56:09.507855Z",
     "iopub.status.idle": "2024-02-20T15:56:09.523094Z",
     "shell.execute_reply": "2024-02-20T15:56:09.522578Z"
    }
   },
   "outputs": [
    {
     "data": {
      "text/latex": [
       "$\\displaystyle \\sqrt{\\frac{m \\left(r \\sin{\\left(\\theta \\right)} + r\\right)^{2} + 2 m \\left(r \\sin{\\left(\\theta + \\frac{\\pi}{7} \\right)} + r\\right)^{2} + 3 m \\left(- r \\cos{\\left(\\theta + \\frac{\\pi}{3} \\right)} + r\\right)^{2}}{m}}$"
      ],
      "text/plain": [
       "       _______________________________________________________________________\n",
       "      ╱                                           2                           \n",
       "     ╱                  2       ⎛     ⎛    π⎞    ⎞        ⎛       ⎛    π⎞    ⎞\n",
       "    ╱   m⋅(r⋅sin(θ) + r)  + 2⋅m⋅⎜r⋅sin⎜θ + ─⎟ + r⎟  + 3⋅m⋅⎜- r⋅cos⎜θ + ─⎟ + r⎟\n",
       "   ╱                            ⎝     ⎝    7⎠    ⎠        ⎝       ⎝    3⎠    ⎠\n",
       "  ╱     ──────────────────────────────────────────────────────────────────────\n",
       "╲╱                                         m                                  \n",
       "\n",
       "__\n",
       "2 \n",
       "  \n",
       "  \n",
       "  \n",
       "─ \n",
       "  "
      ]
     },
     "execution_count": 14,
     "metadata": {},
     "output_type": "execute_result"
    }
   ],
   "source": [
    "kyy = sm.sqrt(Iyy/m)\n",
    "kyy"
   ]
  },
  {
   "cell_type": "code",
   "execution_count": 15,
   "id": "78140911",
   "metadata": {
    "execution": {
     "iopub.execute_input": "2024-02-20T15:56:09.525154Z",
     "iopub.status.busy": "2024-02-20T15:56:09.524967Z",
     "iopub.status.idle": "2024-02-20T15:56:10.151945Z",
     "shell.execute_reply": "2024-02-20T15:56:10.151365Z"
    }
   },
   "outputs": [
    {
     "data": {
      "image/png": "[encoded data removed]",
      "text/plain": [
       "<Figure size 640x480 with 1 Axes>"
      ]
     },
     "metadata": {
      "filenames": {
       "image/png": "/home/runner/work/learn-multibody-dynamics/learn-multibody-dynamics/_build/jupyter_execute/mass_14_0.png"
      }
     },
     "output_type": "display_data"
    }
   ],
   "source": [
    "sm.plot(kyy.xreplace({m: 1, r: 1}));"
   ]
  },
  {
   "cell_type": "code",
   "execution_count": 16,
   "id": "58649a31",
   "metadata": {
    "execution": {
     "iopub.execute_input": "2024-02-20T15:56:10.154354Z",
     "iopub.status.busy": "2024-02-20T15:56:10.153827Z",
     "iopub.status.idle": "2024-02-20T15:56:10.169190Z",
     "shell.execute_reply": "2024-02-20T15:56:10.168590Z"
    }
   },
   "outputs": [
    {
     "data": {
      "text/latex": [
       "$\\displaystyle 0.255558185585985$"
      ],
      "text/plain": [
       "0.255558185585985"
      ]
     },
     "execution_count": 16,
     "metadata": {},
     "output_type": "execute_result"
    }
   ],
   "source": [
    "kyy.xreplace({m: 1, r: 1, theta: theta_sol}).evalf()"
   ]
  },
  {
   "cell_type": "code",
   "execution_count": 17,
   "id": "e73a5f47",
   "metadata": {
    "execution": {
     "iopub.execute_input": "2024-02-20T15:56:10.171633Z",
     "iopub.status.busy": "2024-02-20T15:56:10.171175Z",
     "iopub.status.idle": "2024-02-20T15:56:10.190399Z",
     "shell.execute_reply": "2024-02-20T15:56:10.189873Z"
    }
   },
   "outputs": [
    {
     "data": {
      "text/latex": [
       "$\\displaystyle v_{1} w_{1}\\hat{a}_x\\otimes \\hat{a}_x + v_{1} w_{2}\\hat{a}_x\\otimes \\hat{a}_y + v_{1} w_{3}\\hat{a}_x\\otimes \\hat{a}_z + v_{2} w_{1}\\hat{a}_y\\otimes \\hat{a}_x + v_{2} w_{2}\\hat{a}_y\\otimes \\hat{a}_y + v_{2} w_{3}\\hat{a}_y\\otimes \\hat{a}_z + v_{3} w_{1}\\hat{a}_z\\otimes \\hat{a}_x + v_{3} w_{2}\\hat{a}_z\\otimes \\hat{a}_y + v_{3} w_{3}\\hat{a}_z\\otimes \\hat{a}_z$"
      ],
      "text/plain": [
       "v₁⋅w₁ a_x⊗a_x + v₁⋅w₂ a_x⊗a_y + v₁⋅w₃ a_x⊗a_z + v₂⋅w₁ a_y⊗a_x + v₂⋅w₂ a_y⊗a_y + v₂⋅w₃ a_y⊗a_z + v₃⋅w₁ a_z⊗a_x + v₃⋅w₂ a_z⊗a_y + v₃⋅w₃ a_z⊗a_z"
      ]
     },
     "execution_count": 17,
     "metadata": {},
     "output_type": "execute_result"
    }
   ],
   "source": [
    "v1, v2, v3 = sm.symbols('v1, v2, v3')\n",
    "w1, w2, w3 = sm.symbols('w1, w2, w3')\n",
    "\n",
    "A = me.ReferenceFrame('A')\n",
    "\n",
    "v = v1*A.x + v2*A.y + v3*A.z\n",
    "w = w1*A.x + w2*A.y + w3*A.z\n",
    "\n",
    "Q = me.outer(v, w)\n",
    "Q"
   ]
  },
  {
   "cell_type": "code",
   "execution_count": 18,
   "id": "8ff90075",
   "metadata": {
    "execution": {
     "iopub.execute_input": "2024-02-20T15:56:10.192387Z",
     "iopub.status.busy": "2024-02-20T15:56:10.192200Z",
     "iopub.status.idle": "2024-02-20T15:56:10.230228Z",
     "shell.execute_reply": "2024-02-20T15:56:10.229661Z"
    }
   },
   "outputs": [
    {
     "data": {
      "text/latex": [
       "$\\displaystyle \\left[\\begin{matrix}v_{1} w_{1} & v_{1} w_{2} & v_{1} w_{3}\\\\v_{2} w_{1} & v_{2} w_{2} & v_{2} w_{3}\\\\v_{3} w_{1} & v_{3} w_{2} & v_{3} w_{3}\\end{matrix}\\right]$"
      ],
      "text/plain": [
       "⎡v₁⋅w₁  v₁⋅w₂  v₁⋅w₃⎤\n",
       "⎢                   ⎥\n",
       "⎢v₂⋅w₁  v₂⋅w₂  v₂⋅w₃⎥\n",
       "⎢                   ⎥\n",
       "⎣v₃⋅w₁  v₃⋅w₂  v₃⋅w₃⎦"
      ]
     },
     "execution_count": 18,
     "metadata": {},
     "output_type": "execute_result"
    }
   ],
   "source": [
    "Q.to_matrix(A)"
   ]
  },
  {
   "cell_type": "code",
   "execution_count": 19,
   "id": "059a2385",
   "metadata": {
    "execution": {
     "iopub.execute_input": "2024-02-20T15:56:10.232295Z",
     "iopub.status.busy": "2024-02-20T15:56:10.232100Z",
     "iopub.status.idle": "2024-02-20T15:56:10.236577Z",
     "shell.execute_reply": "2024-02-20T15:56:10.236074Z"
    }
   },
   "outputs": [
    {
     "data": {
      "text/latex": [
       "$\\displaystyle \\hat{a}_x\\otimes \\hat{a}_x$"
      ],
      "text/plain": [
       "a_x⊗a_x"
      ]
     },
     "execution_count": 19,
     "metadata": {},
     "output_type": "execute_result"
    }
   ],
   "source": [
    "me.outer(A.x, A.x)"
   ]
  },
  {
   "cell_type": "code",
   "execution_count": 20,
   "id": "6aee75b2",
   "metadata": {
    "execution": {
     "iopub.execute_input": "2024-02-20T15:56:10.238683Z",
     "iopub.status.busy": "2024-02-20T15:56:10.238492Z",
     "iopub.status.idle": "2024-02-20T15:56:10.247238Z",
     "shell.execute_reply": "2024-02-20T15:56:10.246725Z"
    }
   },
   "outputs": [
    {
     "data": {
      "text/latex": [
       "$\\displaystyle \\left[\\begin{matrix}1 & 0 & 0\\\\0 & 0 & 0\\\\0 & 0 & 0\\end{matrix}\\right]$"
      ],
      "text/plain": [
       "⎡1  0  0⎤\n",
       "⎢       ⎥\n",
       "⎢0  0  0⎥\n",
       "⎢       ⎥\n",
       "⎣0  0  0⎦"
      ]
     },
     "execution_count": 20,
     "metadata": {},
     "output_type": "execute_result"
    }
   ],
   "source": [
    "me.outer(A.x, A.x).to_matrix(A)"
   ]
  },
  {
   "cell_type": "code",
   "execution_count": 21,
   "id": "ab14a8ec",
   "metadata": {
    "execution": {
     "iopub.execute_input": "2024-02-20T15:56:10.249338Z",
     "iopub.status.busy": "2024-02-20T15:56:10.249131Z",
     "iopub.status.idle": "2024-02-20T15:56:10.253618Z",
     "shell.execute_reply": "2024-02-20T15:56:10.253119Z"
    }
   },
   "outputs": [
    {
     "data": {
      "text/latex": [
       "$\\displaystyle \\hat{a}_y\\otimes \\hat{a}_z$"
      ],
      "text/plain": [
       "a_y⊗a_z"
      ]
     },
     "execution_count": 21,
     "metadata": {},
     "output_type": "execute_result"
    }
   ],
   "source": [
    "me.outer(A.y, A.z)"
   ]
  },
  {
   "cell_type": "code",
   "execution_count": 22,
   "id": "6ad59f5c",
   "metadata": {
    "execution": {
     "iopub.execute_input": "2024-02-20T15:56:10.255726Z",
     "iopub.status.busy": "2024-02-20T15:56:10.255533Z",
     "iopub.status.idle": "2024-02-20T15:56:10.264368Z",
     "shell.execute_reply": "2024-02-20T15:56:10.263734Z"
    }
   },
   "outputs": [
    {
     "data": {
      "text/latex": [
       "$\\displaystyle \\left[\\begin{matrix}0 & 0 & 0\\\\0 & 0 & 1\\\\0 & 0 & 0\\end{matrix}\\right]$"
      ],
      "text/plain": [
       "⎡0  0  0⎤\n",
       "⎢       ⎥\n",
       "⎢0  0  1⎥\n",
       "⎢       ⎥\n",
       "⎣0  0  0⎦"
      ]
     },
     "execution_count": 22,
     "metadata": {},
     "output_type": "execute_result"
    }
   ],
   "source": [
    "me.outer(A.y, A.z).to_matrix(A)"
   ]
  },
  {
   "cell_type": "code",
   "execution_count": 23,
   "id": "c233f758",
   "metadata": {
    "execution": {
     "iopub.execute_input": "2024-02-20T15:56:10.266526Z",
     "iopub.status.busy": "2024-02-20T15:56:10.266314Z",
     "iopub.status.idle": "2024-02-20T15:56:10.333285Z",
     "shell.execute_reply": "2024-02-20T15:56:10.332722Z"
    }
   },
   "outputs": [
    {
     "data": {
      "text/latex": [
       "$\\displaystyle 2\\hat{b}_x\\otimes \\hat{b}_x + 3\\hat{a}_x\\otimes \\hat{b}_y + 4\\hat{b}_z\\otimes \\hat{a}_z$"
      ],
      "text/plain": [
       "2 b_x⊗b_x + 3 a_x⊗b_y + 4 b_z⊗a_z"
      ]
     },
     "execution_count": 23,
     "metadata": {},
     "output_type": "execute_result"
    }
   ],
   "source": [
    "theta = sm.symbols(\"theta\")\n",
    "\n",
    "A = me.ReferenceFrame('A')\n",
    "B = me.ReferenceFrame('B')\n",
    "\n",
    "B.orient_axis(A, theta, A.x)\n",
    "\n",
    "P = 2*me.outer(B.x, B.x) + 3*me.outer(A.x, B.y) + 4*me.outer(B.z, A.z)\n",
    "P"
   ]
  },
  {
   "cell_type": "code",
   "execution_count": 24,
   "id": "76e3c60c",
   "metadata": {
    "execution": {
     "iopub.execute_input": "2024-02-20T15:56:10.335381Z",
     "iopub.status.busy": "2024-02-20T15:56:10.335189Z",
     "iopub.status.idle": "2024-02-20T15:56:10.345228Z",
     "shell.execute_reply": "2024-02-20T15:56:10.344731Z"
    }
   },
   "outputs": [
    {
     "data": {
      "text/latex": [
       "$\\displaystyle 2\\hat{a}_x\\otimes \\hat{a}_x + 3 \\cos{\\left(\\theta \\right)}\\hat{a}_x\\otimes \\hat{a}_y + 3 \\sin{\\left(\\theta \\right)}\\hat{a}_x\\otimes \\hat{a}_z -  4 \\sin{\\left(\\theta \\right)}\\hat{a}_y\\otimes \\hat{a}_z + 4 \\cos{\\left(\\theta \\right)}\\hat{a}_z\\otimes \\hat{a}_z$"
      ],
      "text/plain": [
       "2 a_x⊗a_x + 3⋅cos(θ) a_x⊗a_y + 3⋅sin(θ) a_x⊗a_z - 4⋅sin(θ) a_y⊗a_z + 4⋅cos(θ) a_z⊗a_z"
      ]
     },
     "execution_count": 24,
     "metadata": {},
     "output_type": "execute_result"
    }
   ],
   "source": [
    "P.express(A)"
   ]
  },
  {
   "cell_type": "code",
   "execution_count": 25,
   "id": "b5b8b0ed",
   "metadata": {
    "execution": {
     "iopub.execute_input": "2024-02-20T15:56:10.347252Z",
     "iopub.status.busy": "2024-02-20T15:56:10.347070Z",
     "iopub.status.idle": "2024-02-20T15:56:10.363989Z",
     "shell.execute_reply": "2024-02-20T15:56:10.363485Z"
    }
   },
   "outputs": [
    {
     "data": {
      "text/latex": [
       "$\\displaystyle \\left[\\begin{matrix}2 & 3 \\cos{\\left(\\theta \\right)} & 3 \\sin{\\left(\\theta \\right)}\\\\0 & 0 & - 4 \\sin{\\left(\\theta \\right)}\\\\0 & 0 & 4 \\cos{\\left(\\theta \\right)}\\end{matrix}\\right]$"
      ],
      "text/plain": [
       "⎡2  3⋅cos(θ)  3⋅sin(θ) ⎤\n",
       "⎢                      ⎥\n",
       "⎢0     0      -4⋅sin(θ)⎥\n",
       "⎢                      ⎥\n",
       "⎣0     0      4⋅cos(θ) ⎦"
      ]
     },
     "execution_count": 25,
     "metadata": {},
     "output_type": "execute_result"
    }
   ],
   "source": [
    "P.to_matrix(A)"
   ]
  },
  {
   "cell_type": "code",
   "execution_count": 26,
   "id": "b86294e0",
   "metadata": {
    "execution": {
     "iopub.execute_input": "2024-02-20T15:56:10.366007Z",
     "iopub.status.busy": "2024-02-20T15:56:10.365821Z",
     "iopub.status.idle": "2024-02-20T15:56:10.373405Z",
     "shell.execute_reply": "2024-02-20T15:56:10.372829Z"
    }
   },
   "outputs": [
    {
     "data": {
      "text/latex": [
       "$\\displaystyle 2\\hat{b}_x\\otimes \\hat{b}_x + 3\\hat{b}_x\\otimes \\hat{b}_y + 4 \\sin{\\left(\\theta \\right)}\\hat{b}_z\\otimes \\hat{b}_y + 4 \\cos{\\left(\\theta \\right)}\\hat{b}_z\\otimes \\hat{b}_z$"
      ],
      "text/plain": [
       "2 b_x⊗b_x + 3 b_x⊗b_y + 4⋅sin(θ) b_z⊗b_y + 4⋅cos(θ) b_z⊗b_z"
      ]
     },
     "execution_count": 26,
     "metadata": {},
     "output_type": "execute_result"
    }
   ],
   "source": [
    "P.express(B)"
   ]
  },
  {
   "cell_type": "code",
   "execution_count": 27,
   "id": "1ec07359",
   "metadata": {
    "execution": {
     "iopub.execute_input": "2024-02-20T15:56:10.375494Z",
     "iopub.status.busy": "2024-02-20T15:56:10.375309Z",
     "iopub.status.idle": "2024-02-20T15:56:10.390369Z",
     "shell.execute_reply": "2024-02-20T15:56:10.389867Z"
    }
   },
   "outputs": [
    {
     "data": {
      "text/latex": [
       "$\\displaystyle \\left[\\begin{matrix}2 & 3 & 0\\\\0 & 0 & 0\\\\0 & 4 \\sin{\\left(\\theta \\right)} & 4 \\cos{\\left(\\theta \\right)}\\end{matrix}\\right]$"
      ],
      "text/plain": [
       "⎡2     3         0    ⎤\n",
       "⎢                     ⎥\n",
       "⎢0     0         0    ⎥\n",
       "⎢                     ⎥\n",
       "⎣0  4⋅sin(θ)  4⋅cos(θ)⎦"
      ]
     },
     "execution_count": 27,
     "metadata": {},
     "output_type": "execute_result"
    }
   ],
   "source": [
    "P.to_matrix(B)"
   ]
  },
  {
   "cell_type": "code",
   "execution_count": 28,
   "id": "34d8ecf2",
   "metadata": {
    "execution": {
     "iopub.execute_input": "2024-02-20T15:56:10.392341Z",
     "iopub.status.busy": "2024-02-20T15:56:10.392150Z",
     "iopub.status.idle": "2024-02-20T15:56:10.397534Z",
     "shell.execute_reply": "2024-02-20T15:56:10.396958Z"
    }
   },
   "outputs": [
    {
     "data": {
      "text/latex": [
       "$\\displaystyle \\hat{a}_x\\otimes \\hat{a}_x + \\hat{a}_y\\otimes \\hat{a}_y + \\hat{a}_z\\otimes \\hat{a}_z$"
      ],
      "text/plain": [
       "a_x⊗a_x + a_y⊗a_y + a_z⊗a_z"
      ]
     },
     "execution_count": 28,
     "metadata": {},
     "output_type": "execute_result"
    }
   ],
   "source": [
    "U = me.outer(A.x, A.x) + me.outer(A.y, A.y) + me.outer(A.z, A.z)\n",
    "U"
   ]
  },
  {
   "cell_type": "code",
   "execution_count": 29,
   "id": "ad740683",
   "metadata": {
    "execution": {
     "iopub.execute_input": "2024-02-20T15:56:10.399669Z",
     "iopub.status.busy": "2024-02-20T15:56:10.399303Z",
     "iopub.status.idle": "2024-02-20T15:56:10.413749Z",
     "shell.execute_reply": "2024-02-20T15:56:10.413213Z"
    }
   },
   "outputs": [
    {
     "data": {
      "text/latex": [
       "$\\displaystyle \\left[\\begin{matrix}1 & 0 & 0\\\\0 & 1 & 0\\\\0 & 0 & 1\\end{matrix}\\right]$"
      ],
      "text/plain": [
       "⎡1  0  0⎤\n",
       "⎢       ⎥\n",
       "⎢0  1  0⎥\n",
       "⎢       ⎥\n",
       "⎣0  0  1⎦"
      ]
     },
     "execution_count": 29,
     "metadata": {},
     "output_type": "execute_result"
    }
   ],
   "source": [
    "U.to_matrix(A)"
   ]
  },
  {
   "cell_type": "code",
   "execution_count": 30,
   "id": "4c7ae08c",
   "metadata": {
    "execution": {
     "iopub.execute_input": "2024-02-20T15:56:10.415997Z",
     "iopub.status.busy": "2024-02-20T15:56:10.415607Z",
     "iopub.status.idle": "2024-02-20T15:56:10.464223Z",
     "shell.execute_reply": "2024-02-20T15:56:10.463593Z"
    }
   },
   "outputs": [
    {
     "data": {
      "text/latex": [
       "$\\displaystyle \\hat{b}_x\\otimes \\hat{b}_x + \\hat{b}_y\\otimes \\hat{b}_y + \\hat{b}_z\\otimes \\hat{b}_z$"
      ],
      "text/plain": [
       "b_x⊗b_x + b_y⊗b_y + b_z⊗b_z"
      ]
     },
     "execution_count": 30,
     "metadata": {},
     "output_type": "execute_result"
    }
   ],
   "source": [
    "U.express(B).simplify()"
   ]
  },
  {
   "cell_type": "code",
   "execution_count": 31,
   "id": "cbaf88a2",
   "metadata": {
    "execution": {
     "iopub.execute_input": "2024-02-20T15:56:10.466764Z",
     "iopub.status.busy": "2024-02-20T15:56:10.466344Z",
     "iopub.status.idle": "2024-02-20T15:56:10.482065Z",
     "shell.execute_reply": "2024-02-20T15:56:10.481560Z"
    }
   },
   "outputs": [
    {
     "data": {
      "text/latex": [
       "$\\displaystyle I_{xx}\\hat{a}_x\\otimes \\hat{a}_x + I_{xy}\\hat{a}_x\\otimes \\hat{a}_y + I_{xz}\\hat{a}_x\\otimes \\hat{a}_z + I_{xy}\\hat{a}_y\\otimes \\hat{a}_x + I_{yy}\\hat{a}_y\\otimes \\hat{a}_y + I_{yz}\\hat{a}_y\\otimes \\hat{a}_z + I_{xz}\\hat{a}_z\\otimes \\hat{a}_x + I_{yz}\\hat{a}_z\\otimes \\hat{a}_y + I_{zz}\\hat{a}_z\\otimes \\hat{a}_z$"
      ],
      "text/plain": [
       "I_{xx} a_x⊗a_x + I_{xy} a_x⊗a_y + I_{xz} a_x⊗a_z + I_{xy} a_y⊗a_x + I_{yy} a_y⊗a_y + I_{yz} a_y⊗a_z + I_{xz} a_z⊗a_x + I_{yz} a_z⊗a_y + I_{zz} a_z⊗a_z"
      ]
     },
     "execution_count": 31,
     "metadata": {},
     "output_type": "execute_result"
    }
   ],
   "source": [
    "Ixx, Iyy, Izz = sm.symbols('I_{xx}, I_{yy}, I_{zz}')\n",
    "Ixy, Iyz, Ixz = sm.symbols('I_{xy}, I_{yz}, I_{xz}')\n",
    "\n",
    "I = me.inertia(A, Ixx, Iyy, Izz, ixy=Ixy, iyz=Iyz, izx=Ixz)\n",
    "I"
   ]
  },
  {
   "cell_type": "code",
   "execution_count": 32,
   "id": "6f07907d",
   "metadata": {
    "execution": {
     "iopub.execute_input": "2024-02-20T15:56:10.484391Z",
     "iopub.status.busy": "2024-02-20T15:56:10.483927Z",
     "iopub.status.idle": "2024-02-20T15:56:10.519546Z",
     "shell.execute_reply": "2024-02-20T15:56:10.518818Z"
    }
   },
   "outputs": [
    {
     "data": {
      "text/latex": [
       "$\\displaystyle \\left[\\begin{matrix}I_{xx} & I_{xy} & I_{xz}\\\\I_{xy} & I_{yy} & I_{yz}\\\\I_{xz} & I_{yz} & I_{zz}\\end{matrix}\\right]$"
      ],
      "text/plain": [
       "⎡I_{xx}  I_{xy}  I_{xz}⎤\n",
       "⎢                      ⎥\n",
       "⎢I_{xy}  I_{yy}  I_{yz}⎥\n",
       "⎢                      ⎥\n",
       "⎣I_{xz}  I_{yz}  I_{zz}⎦"
      ]
     },
     "execution_count": 32,
     "metadata": {},
     "output_type": "execute_result"
    }
   ],
   "source": [
    "I.to_matrix(A)"
   ]
  },
  {
   "cell_type": "code",
   "execution_count": 33,
   "id": "a708e12a",
   "metadata": {
    "execution": {
     "iopub.execute_input": "2024-02-20T15:56:10.522653Z",
     "iopub.status.busy": "2024-02-20T15:56:10.522144Z",
     "iopub.status.idle": "2024-02-20T15:56:11.122704Z",
     "shell.execute_reply": "2024-02-20T15:56:11.122010Z"
    }
   },
   "outputs": [
    {
     "data": {
      "text/latex": [
       "$\\displaystyle \\left[\\begin{matrix}I_{xx} & I_{xy} \\cos{\\left(\\theta \\right)} + I_{xz} \\sin{\\left(\\theta \\right)} & - I_{xy} \\sin{\\left(\\theta \\right)} + I_{xz} \\cos{\\left(\\theta \\right)}\\\\I_{xy} \\cos{\\left(\\theta \\right)} + I_{xz} \\sin{\\left(\\theta \\right)} & \\frac{I_{yy} \\cos{\\left(2 \\theta \\right)}}{2} + \\frac{I_{yy}}{2} + I_{yz} \\sin{\\left(2 \\theta \\right)} - \\frac{I_{zz} \\cos{\\left(2 \\theta \\right)}}{2} + \\frac{I_{zz}}{2} & - \\frac{I_{yy} \\sin{\\left(2 \\theta \\right)}}{2} + I_{yz} \\cos{\\left(2 \\theta \\right)} + \\frac{I_{zz} \\sin{\\left(2 \\theta \\right)}}{2}\\\\- I_{xy} \\sin{\\left(\\theta \\right)} + I_{xz} \\cos{\\left(\\theta \\right)} & - \\frac{I_{yy} \\sin{\\left(2 \\theta \\right)}}{2} + I_{yz} \\cos{\\left(2 \\theta \\right)} + \\frac{I_{zz} \\sin{\\left(2 \\theta \\right)}}{2} & - \\frac{I_{yy} \\cos{\\left(2 \\theta \\right)}}{2} + \\frac{I_{yy}}{2} - I_{yz} \\sin{\\left(2 \\theta \\right)} + \\frac{I_{zz} \\cos{\\left(2 \\theta \\right)}}{2} + \\frac{I_{zz}}{2}\\end{matrix}\\right]$"
      ],
      "text/plain": [
       "⎡            I_{xx}                                  I_{xy}⋅cos(θ) + I_{xz}⋅si\n",
       "⎢                                                                             \n",
       "⎢                                I_{yy}⋅cos(2⋅θ)   I_{yy}                     \n",
       "⎢I_{xy}⋅cos(θ) + I_{xz}⋅sin(θ)   ─────────────── + ────── + I_{yz}⋅sin(2⋅θ) - \n",
       "⎢                                       2            2                        \n",
       "⎢                                                                             \n",
       "⎢                                          I_{yy}⋅sin(2⋅θ)                    \n",
       "⎢-I_{xy}⋅sin(θ) + I_{xz}⋅cos(θ)          - ─────────────── + I_{yz}⋅cos(2⋅θ) +\n",
       "⎣                                                 2                           \n",
       "\n",
       "n(θ)                                          -I_{xy}⋅sin(θ) + I_{xz}⋅cos(θ)  \n",
       "                                                                              \n",
       "I_{zz}⋅cos(2⋅θ)   I_{zz}             I_{yy}⋅sin(2⋅θ)                     I_{zz\n",
       "─────────────── + ──────           - ─────────────── + I_{yz}⋅cos(2⋅θ) + ─────\n",
       "       2            2                       2                                 \n",
       "                                                                              \n",
       " I_{zz}⋅sin(2⋅θ)            I_{yy}⋅cos(2⋅θ)   I_{yy}                     I_{zz\n",
       " ───────────────          - ─────────────── + ────── - I_{yz}⋅sin(2⋅θ) + ─────\n",
       "        2                          2            2                             \n",
       "\n",
       "                   ⎤\n",
       "                   ⎥\n",
       "}⋅sin(2⋅θ)         ⎥\n",
       "──────────         ⎥\n",
       "  2                ⎥\n",
       "                   ⎥\n",
       "}⋅cos(2⋅θ)   I_{zz}⎥\n",
       "────────── + ──────⎥\n",
       "  2            2   ⎦"
      ]
     },
     "execution_count": 33,
     "metadata": {},
     "output_type": "execute_result"
    }
   ],
   "source": [
    "sm.trigsimp(I.to_matrix(B))"
   ]
  },
  {
   "cell_type": "code",
   "execution_count": 34,
   "id": "42a91915",
   "metadata": {
    "execution": {
     "iopub.execute_input": "2024-02-20T15:56:11.125100Z",
     "iopub.status.busy": "2024-02-20T15:56:11.124698Z",
     "iopub.status.idle": "2024-02-20T15:56:11.658337Z",
     "shell.execute_reply": "2024-02-20T15:56:11.657769Z"
    }
   },
   "outputs": [
    {
     "data": {
      "text/latex": [
       "$\\displaystyle \\left[\\begin{matrix}I_{xx} & I_{xy} \\cos{\\left(\\theta \\right)} + I_{xz} \\sin{\\left(\\theta \\right)} & - I_{xy} \\sin{\\left(\\theta \\right)} + I_{xz} \\cos{\\left(\\theta \\right)}\\\\I_{xy} \\cos{\\left(\\theta \\right)} + I_{xz} \\sin{\\left(\\theta \\right)} & \\frac{I_{yy} \\cos{\\left(2 \\theta \\right)}}{2} + \\frac{I_{yy}}{2} + I_{yz} \\sin{\\left(2 \\theta \\right)} - \\frac{I_{zz} \\cos{\\left(2 \\theta \\right)}}{2} + \\frac{I_{zz}}{2} & - \\frac{I_{yy} \\sin{\\left(2 \\theta \\right)}}{2} + I_{yz} \\cos{\\left(2 \\theta \\right)} + \\frac{I_{zz} \\sin{\\left(2 \\theta \\right)}}{2}\\\\- I_{xy} \\sin{\\left(\\theta \\right)} + I_{xz} \\cos{\\left(\\theta \\right)} & - \\frac{I_{yy} \\sin{\\left(2 \\theta \\right)}}{2} + I_{yz} \\cos{\\left(2 \\theta \\right)} + \\frac{I_{zz} \\sin{\\left(2 \\theta \\right)}}{2} & - \\frac{I_{yy} \\cos{\\left(2 \\theta \\right)}}{2} + \\frac{I_{yy}}{2} - I_{yz} \\sin{\\left(2 \\theta \\right)} + \\frac{I_{zz} \\cos{\\left(2 \\theta \\right)}}{2} + \\frac{I_{zz}}{2}\\end{matrix}\\right]$"
      ],
      "text/plain": [
       "⎡            I_{xx}                                  I_{xy}⋅cos(θ) + I_{xz}⋅si\n",
       "⎢                                                                             \n",
       "⎢                                I_{yy}⋅cos(2⋅θ)   I_{yy}                     \n",
       "⎢I_{xy}⋅cos(θ) + I_{xz}⋅sin(θ)   ─────────────── + ────── + I_{yz}⋅sin(2⋅θ) - \n",
       "⎢                                       2            2                        \n",
       "⎢                                                                             \n",
       "⎢                                          I_{yy}⋅sin(2⋅θ)                    \n",
       "⎢-I_{xy}⋅sin(θ) + I_{xz}⋅cos(θ)          - ─────────────── + I_{yz}⋅cos(2⋅θ) +\n",
       "⎣                                                 2                           \n",
       "\n",
       "n(θ)                                          -I_{xy}⋅sin(θ) + I_{xz}⋅cos(θ)  \n",
       "                                                                              \n",
       "I_{zz}⋅cos(2⋅θ)   I_{zz}             I_{yy}⋅sin(2⋅θ)                     I_{zz\n",
       "─────────────── + ──────           - ─────────────── + I_{yz}⋅cos(2⋅θ) + ─────\n",
       "       2            2                       2                                 \n",
       "                                                                              \n",
       " I_{zz}⋅sin(2⋅θ)            I_{yy}⋅cos(2⋅θ)   I_{yy}                     I_{zz\n",
       " ───────────────          - ─────────────── + ────── - I_{yz}⋅sin(2⋅θ) + ─────\n",
       "        2                          2            2                             \n",
       "\n",
       "                   ⎤\n",
       "                   ⎥\n",
       "}⋅sin(2⋅θ)         ⎥\n",
       "──────────         ⎥\n",
       "  2                ⎥\n",
       "                   ⎥\n",
       "}⋅cos(2⋅θ)   I_{zz}⎥\n",
       "────────── + ──────⎥\n",
       "  2            2   ⎦"
      ]
     },
     "execution_count": 34,
     "metadata": {},
     "output_type": "execute_result"
    }
   ],
   "source": [
    "sm.trigsimp(B.dcm(A)*I.to_matrix(A)*A.dcm(B))"
   ]
  },
  {
   "cell_type": "code",
   "execution_count": 35,
   "id": "ee879df2",
   "metadata": {
    "execution": {
     "iopub.execute_input": "2024-02-20T15:56:11.660709Z",
     "iopub.status.busy": "2024-02-20T15:56:11.660338Z",
     "iopub.status.idle": "2024-02-20T15:56:11.668940Z",
     "shell.execute_reply": "2024-02-20T15:56:11.668405Z"
    }
   },
   "outputs": [
    {
     "data": {
      "text/latex": [
       "$\\displaystyle 0.25\\hat{n}_x\\otimes \\hat{n}_x + 0.25\\hat{n}_y\\otimes \\hat{n}_y + 0.1\\hat{n}_z\\otimes \\hat{n}_z - 0.07\\hat{n}_x\\otimes \\hat{n}_z - 0.07\\hat{n}_z\\otimes \\hat{n}_x$"
      ],
      "text/plain": [
       "0.250000000000000 n_x⊗n_x + 0.250000000000000 n_y⊗n_y + 0.100000000000000 n_z⊗n_z - 0.0700000000000000 n_x⊗n_z - 0.0700000000000000 n_z⊗n_x"
      ]
     },
     "execution_count": 35,
     "metadata": {},
     "output_type": "execute_result"
    }
   ],
   "source": [
    "N = me.ReferenceFrame('N')\n",
    "\n",
    "I = (0.25*me.outer(N.x, N.x) +\n",
    "     0.25*me.outer(N.y, N.y) +\n",
    "     0.10*me.outer(N.z, N.z) -\n",
    "     0.07*me.outer(N.x, N.z) -\n",
    "     0.07*me.outer(N.z, N.x))\n",
    "I"
   ]
  },
  {
   "cell_type": "code",
   "execution_count": 36,
   "id": "43e80564",
   "metadata": {
    "execution": {
     "iopub.execute_input": "2024-02-20T15:56:11.670903Z",
     "iopub.status.busy": "2024-02-20T15:56:11.670722Z",
     "iopub.status.idle": "2024-02-20T15:56:11.680969Z",
     "shell.execute_reply": "2024-02-20T15:56:11.680494Z"
    }
   },
   "outputs": [],
   "source": [
    "H = me.ReferenceFrame('H')\n",
    "H.orient_axis(N, 68.0*sm.pi/180, N.y)"
   ]
  },
  {
   "cell_type": "code",
   "execution_count": 37,
   "id": "b8ff3678",
   "metadata": {
    "execution": {
     "iopub.execute_input": "2024-02-20T15:56:11.682969Z",
     "iopub.status.busy": "2024-02-20T15:56:11.682766Z",
     "iopub.status.idle": "2024-02-20T15:56:11.694248Z",
     "shell.execute_reply": "2024-02-20T15:56:11.693646Z"
    }
   },
   "outputs": [
    {
     "data": {
      "text/latex": [
       "$\\displaystyle 0.180324399093269$"
      ],
      "text/plain": [
       "0.180324399093269"
      ]
     },
     "execution_count": 37,
     "metadata": {},
     "output_type": "execute_result"
    }
   ],
   "source": [
    "I.dot(H.z).dot(H.z).evalf()"
   ]
  },
  {
   "cell_type": "code",
   "execution_count": 38,
   "id": "978baf88",
   "metadata": {
    "execution": {
     "iopub.execute_input": "2024-02-20T15:56:11.696428Z",
     "iopub.status.busy": "2024-02-20T15:56:11.696062Z",
     "iopub.status.idle": "2024-02-20T15:56:11.719378Z",
     "shell.execute_reply": "2024-02-20T15:56:11.718844Z"
    }
   },
   "outputs": [
    {
     "data": {
      "text/latex": [
       "$\\displaystyle \\left[\\begin{matrix}0.25 & 0 & -0.07\\\\0 & 0.25 & 0\\\\-0.07 & 0 & 0.1\\end{matrix}\\right]$"
      ],
      "text/plain": [
       "⎡0.25    0    -0.07⎤\n",
       "⎢                  ⎥\n",
       "⎢  0    0.25    0  ⎥\n",
       "⎢                  ⎥\n",
       "⎣-0.07   0     0.1 ⎦"
      ]
     },
     "execution_count": 38,
     "metadata": {},
     "output_type": "execute_result"
    }
   ],
   "source": [
    "I.to_matrix(N)"
   ]
  },
  {
   "cell_type": "code",
   "execution_count": 39,
   "id": "df7335f0",
   "metadata": {
    "execution": {
     "iopub.execute_input": "2024-02-20T15:56:11.721493Z",
     "iopub.status.busy": "2024-02-20T15:56:11.721296Z",
     "iopub.status.idle": "2024-02-20T15:56:11.758429Z",
     "shell.execute_reply": "2024-02-20T15:56:11.757846Z"
    }
   },
   "outputs": [
    {
     "data": {
      "text/latex": [
       "$\\displaystyle \\left[\\begin{matrix}0.169675600906731 & 0 & 0.10245316380813\\\\0 & 0.25 & 0\\\\0.10245316380813 & 0 & 0.180324399093269\\end{matrix}\\right]$"
      ],
      "text/plain": [
       "⎡0.169675600906731   0    0.10245316380813 ⎤\n",
       "⎢                                          ⎥\n",
       "⎢        0          0.25          0        ⎥\n",
       "⎢                                          ⎥\n",
       "⎣0.10245316380813    0    0.180324399093269⎦"
      ]
     },
     "execution_count": 39,
     "metadata": {},
     "output_type": "execute_result"
    }
   ],
   "source": [
    "I_H = (H.dcm(N) @ I.to_matrix(N) @ N.dcm(H)).evalf()\n",
    "I_H"
   ]
  },
  {
   "cell_type": "code",
   "execution_count": 40,
   "id": "5951ea23",
   "metadata": {
    "execution": {
     "iopub.execute_input": "2024-02-20T15:56:11.760697Z",
     "iopub.status.busy": "2024-02-20T15:56:11.760509Z",
     "iopub.status.idle": "2024-02-20T15:56:11.764618Z",
     "shell.execute_reply": "2024-02-20T15:56:11.764082Z"
    }
   },
   "outputs": [
    {
     "data": {
      "text/latex": [
       "$\\displaystyle 0.180324399093269$"
      ],
      "text/plain": [
       "0.180324399093269"
      ]
     },
     "execution_count": 40,
     "metadata": {},
     "output_type": "execute_result"
    }
   ],
   "source": [
    "I_H[2, 2]"
   ]
  },
  {
   "cell_type": "code",
   "execution_count": 41,
   "id": "ebaa0025",
   "metadata": {
    "execution": {
     "iopub.execute_input": "2024-02-20T15:56:11.766998Z",
     "iopub.status.busy": "2024-02-20T15:56:11.766590Z",
     "iopub.status.idle": "2024-02-20T15:56:11.797479Z",
     "shell.execute_reply": "2024-02-20T15:56:11.796695Z"
    }
   },
   "outputs": [
    {
     "data": {
      "text/latex": [
       "$\\displaystyle m \\left(d_{y}^{2} + d_{z}^{2}\\right)\\hat{n}_x\\otimes \\hat{n}_x + m \\left(d_{x}^{2} + d_{z}^{2}\\right)\\hat{n}_y\\otimes \\hat{n}_y + m \\left(d_{x}^{2} + d_{y}^{2}\\right)\\hat{n}_z\\otimes \\hat{n}_z -  d_{x} d_{y} m\\hat{n}_x\\otimes \\hat{n}_y -  d_{x} d_{z} m\\hat{n}_x\\otimes \\hat{n}_z -  d_{x} d_{y} m\\hat{n}_y\\otimes \\hat{n}_x -  d_{y} d_{z} m\\hat{n}_y\\otimes \\hat{n}_z -  d_{x} d_{z} m\\hat{n}_z\\otimes \\hat{n}_x -  d_{y} d_{z} m\\hat{n}_z\\otimes \\hat{n}_y$"
      ],
      "text/plain": [
       "  ⎛   2      2⎞\n",
       "m⋅⎝d_y  + d_z ⎠ n_x⊗n_x +   ⎛  2      2⎞\n",
       "m⋅⎝dₓ  + d_z ⎠ n_y⊗n_y +   ⎛  2      2⎞\n",
       "m⋅⎝dₓ  + d_y ⎠ n_z⊗n_z - dₓ⋅d_y⋅m n_x⊗n_y - dₓ⋅d_z⋅m n_x⊗n_z - dₓ⋅d_y⋅m n_y⊗n_x - d_y⋅d_z⋅m n_y⊗n_z - dₓ⋅d_z⋅m n_z⊗n_x - d_y⋅d_z⋅m n_z⊗n_y"
      ]
     },
     "execution_count": 41,
     "metadata": {},
     "output_type": "execute_result"
    }
   ],
   "source": [
    "dx, dy, dz, m = sm.symbols('d_x, d_y, d_z, m')\n",
    "\n",
    "N = me.ReferenceFrame('N')\n",
    "\n",
    "r_O_Bo = dx*N.x + dy*N.y + dz*N.z\n",
    "\n",
    "U = me.outer(N.x, N.x) + me.outer(N.y, N.y) + me.outer(N.z, N.z)\n",
    "\n",
    "I_Bo_O = m*(me.dot(r_O_Bo, r_O_Bo)*U - me.outer(r_O_Bo, r_O_Bo))\n",
    "I_Bo_O"
   ]
  },
  {
   "cell_type": "code",
   "execution_count": 42,
   "id": "2b706ccb",
   "metadata": {
    "execution": {
     "iopub.execute_input": "2024-02-20T15:56:11.800287Z",
     "iopub.status.busy": "2024-02-20T15:56:11.799824Z",
     "iopub.status.idle": "2024-02-20T15:56:11.844132Z",
     "shell.execute_reply": "2024-02-20T15:56:11.843521Z"
    }
   },
   "outputs": [
    {
     "data": {
      "text/latex": [
       "$\\displaystyle \\left[\\begin{matrix}m \\left(d_{y}^{2} + d_{z}^{2}\\right) & - d_{x} d_{y} m & - d_{x} d_{z} m\\\\- d_{x} d_{y} m & m \\left(d_{x}^{2} + d_{z}^{2}\\right) & - d_{y} d_{z} m\\\\- d_{x} d_{z} m & - d_{y} d_{z} m & m \\left(d_{x}^{2} + d_{y}^{2}\\right)\\end{matrix}\\right]$"
      ],
      "text/plain": [
       "⎡  ⎛   2      2⎞                                ⎤\n",
       "⎢m⋅⎝d_y  + d_z ⎠    -dₓ⋅d_y⋅m       -dₓ⋅d_z⋅m   ⎥\n",
       "⎢                                               ⎥\n",
       "⎢                   ⎛  2      2⎞                ⎥\n",
       "⎢   -dₓ⋅d_y⋅m     m⋅⎝dₓ  + d_z ⎠    -d_y⋅d_z⋅m  ⎥\n",
       "⎢                                               ⎥\n",
       "⎢                                   ⎛  2      2⎞⎥\n",
       "⎣   -dₓ⋅d_z⋅m       -d_y⋅d_z⋅m    m⋅⎝dₓ  + d_y ⎠⎦"
      ]
     },
     "execution_count": 42,
     "metadata": {},
     "output_type": "execute_result"
    }
   ],
   "source": [
    "I_Bo_O.to_matrix(N)"
   ]
  },
  {
   "cell_type": "code",
   "execution_count": 43,
   "id": "49ea250e",
   "metadata": {
    "execution": {
     "iopub.execute_input": "2024-02-20T15:56:11.846823Z",
     "iopub.status.busy": "2024-02-20T15:56:11.846319Z",
     "iopub.status.idle": "2024-02-20T15:56:11.852179Z",
     "shell.execute_reply": "2024-02-20T15:56:11.851715Z"
    }
   },
   "outputs": [
    {
     "data": {
      "text/latex": [
       "$\\displaystyle \\left[\\begin{matrix}1.0451 & 0 & -0.1123\\\\0 & 2.403 & 0\\\\-0.1123 & 0 & 1.8501\\end{matrix}\\right]$"
      ],
      "text/plain": [
       "⎡1.0451     0    -0.1123⎤\n",
       "⎢                       ⎥\n",
       "⎢   0     2.403     0   ⎥\n",
       "⎢                       ⎥\n",
       "⎣-0.1123    0    1.8501 ⎦"
      ]
     },
     "execution_count": 43,
     "metadata": {},
     "output_type": "execute_result"
    }
   ],
   "source": [
    "I = sm.Matrix([[1.0451, 0.0, -0.1123],\n",
    "               [0.0, 2.403, 0.0],\n",
    "               [-0.1123, 0.0, 1.8501]])\n",
    "I"
   ]
  },
  {
   "cell_type": "code",
   "execution_count": 44,
   "id": "d377bf43",
   "metadata": {
    "execution": {
     "iopub.execute_input": "2024-02-20T15:56:11.854289Z",
     "iopub.status.busy": "2024-02-20T15:56:11.853928Z",
     "iopub.status.idle": "2024-02-20T15:56:11.859741Z",
     "shell.execute_reply": "2024-02-20T15:56:11.859272Z"
    }
   },
   "outputs": [],
   "source": [
    "ev1, ev2, ev3 = I.eigenvects()"
   ]
  },
  {
   "cell_type": "code",
   "execution_count": 45,
   "id": "065938f1",
   "metadata": {
    "execution": {
     "iopub.execute_input": "2024-02-20T15:56:11.861740Z",
     "iopub.status.busy": "2024-02-20T15:56:11.861555Z",
     "iopub.status.idle": "2024-02-20T15:56:11.865658Z",
     "shell.execute_reply": "2024-02-20T15:56:11.865182Z"
    }
   },
   "outputs": [
    {
     "data": {
      "text/latex": [
       "$\\displaystyle 2.403$"
      ],
      "text/plain": [
       "2.40300000000000"
      ]
     },
     "execution_count": 45,
     "metadata": {},
     "output_type": "execute_result"
    }
   ],
   "source": [
    "ev1[0]"
   ]
  },
  {
   "cell_type": "code",
   "execution_count": 46,
   "id": "c53f2f8e",
   "metadata": {
    "execution": {
     "iopub.execute_input": "2024-02-20T15:56:11.867710Z",
     "iopub.status.busy": "2024-02-20T15:56:11.867355Z",
     "iopub.status.idle": "2024-02-20T15:56:11.871847Z",
     "shell.execute_reply": "2024-02-20T15:56:11.871404Z"
    }
   },
   "outputs": [
    {
     "data": {
      "text/latex": [
       "$\\displaystyle \\left[\\begin{matrix}0\\\\1.0\\\\0\\end{matrix}\\right]$"
      ],
      "text/plain": [
       "⎡ 0 ⎤\n",
       "⎢   ⎥\n",
       "⎢1.0⎥\n",
       "⎢   ⎥\n",
       "⎣ 0 ⎦"
      ]
     },
     "execution_count": 46,
     "metadata": {},
     "output_type": "execute_result"
    }
   ],
   "source": [
    "ev1[2][0]"
   ]
  },
  {
   "cell_type": "code",
   "execution_count": 47,
   "id": "4dcc351b",
   "metadata": {
    "execution": {
     "iopub.execute_input": "2024-02-20T15:56:11.873962Z",
     "iopub.status.busy": "2024-02-20T15:56:11.873624Z",
     "iopub.status.idle": "2024-02-20T15:56:11.877558Z",
     "shell.execute_reply": "2024-02-20T15:56:11.877089Z"
    }
   },
   "outputs": [
    {
     "data": {
      "text/latex": [
       "$\\displaystyle 1.02972736390139$"
      ],
      "text/plain": [
       "1.02972736390139"
      ]
     },
     "execution_count": 47,
     "metadata": {},
     "output_type": "execute_result"
    }
   ],
   "source": [
    "ev2[0]"
   ]
  },
  {
   "cell_type": "code",
   "execution_count": 48,
   "id": "12cac029",
   "metadata": {
    "execution": {
     "iopub.execute_input": "2024-02-20T15:56:11.879520Z",
     "iopub.status.busy": "2024-02-20T15:56:11.879190Z",
     "iopub.status.idle": "2024-02-20T15:56:11.883509Z",
     "shell.execute_reply": "2024-02-20T15:56:11.883053Z"
    }
   },
   "outputs": [
    {
     "data": {
      "text/latex": [
       "$\\displaystyle \\left[\\begin{matrix}-0.990760351805416\\\\0\\\\-0.135624206137434\\end{matrix}\\right]$"
      ],
      "text/plain": [
       "⎡-0.990760351805416⎤\n",
       "⎢                  ⎥\n",
       "⎢        0         ⎥\n",
       "⎢                  ⎥\n",
       "⎣-0.135624206137434⎦"
      ]
     },
     "execution_count": 48,
     "metadata": {},
     "output_type": "execute_result"
    }
   ],
   "source": [
    "ev2[2][0]"
   ]
  },
  {
   "cell_type": "code",
   "execution_count": 49,
   "id": "ba075a53",
   "metadata": {
    "execution": {
     "iopub.execute_input": "2024-02-20T15:56:11.885581Z",
     "iopub.status.busy": "2024-02-20T15:56:11.885229Z",
     "iopub.status.idle": "2024-02-20T15:56:11.888996Z",
     "shell.execute_reply": "2024-02-20T15:56:11.888405Z"
    }
   },
   "outputs": [
    {
     "data": {
      "text/latex": [
       "$\\displaystyle 1.86547263609861$"
      ],
      "text/plain": [
       "1.86547263609861"
      ]
     },
     "execution_count": 49,
     "metadata": {},
     "output_type": "execute_result"
    }
   ],
   "source": [
    "ev3[0]"
   ]
  },
  {
   "cell_type": "code",
   "execution_count": 50,
   "id": "509da9df",
   "metadata": {
    "execution": {
     "iopub.execute_input": "2024-02-20T15:56:11.891013Z",
     "iopub.status.busy": "2024-02-20T15:56:11.890677Z",
     "iopub.status.idle": "2024-02-20T15:56:11.895153Z",
     "shell.execute_reply": "2024-02-20T15:56:11.894607Z"
    }
   },
   "outputs": [
    {
     "data": {
      "text/latex": [
       "$\\displaystyle \\left[\\begin{matrix}0.135624206137434\\\\0\\\\-0.990760351805416\\end{matrix}\\right]$"
      ],
      "text/plain": [
       "⎡0.135624206137434 ⎤\n",
       "⎢                  ⎥\n",
       "⎢        0         ⎥\n",
       "⎢                  ⎥\n",
       "⎣-0.990760351805416⎦"
      ]
     },
     "execution_count": 50,
     "metadata": {},
     "output_type": "execute_result"
    }
   ],
   "source": [
    "ev3[2][0]"
   ]
  },
  {
   "cell_type": "code",
   "execution_count": 51,
   "id": "9ea8a49c",
   "metadata": {
    "execution": {
     "iopub.execute_input": "2024-02-20T15:56:11.897163Z",
     "iopub.status.busy": "2024-02-20T15:56:11.896835Z",
     "iopub.status.idle": "2024-02-20T15:56:11.923455Z",
     "shell.execute_reply": "2024-02-20T15:56:11.922935Z"
    }
   },
   "outputs": [
    {
     "data": {
      "text/latex": [
       "$\\displaystyle (I_{xx} \\omega_{1} + I_{xy} \\omega_{2} + I_{xz} \\omega_{3})\\hat{b}_x + (I_{xy} \\omega_{1} + I_{yy} \\omega_{2} + I_{yz} \\omega_{3})\\hat{b}_y + (I_{xz} \\omega_{1} + I_{yz} \\omega_{2} + I_{zz} \\omega_{3})\\hat{b}_z$"
      ],
      "text/plain": [
       "(I_{xx}⋅ω₁ + I_{xy}⋅ω₂ + I_{xz}⋅ω₃) b_x + (I_{xy}⋅ω₁ + I_{yy}⋅ω₂ + I_{yz}⋅ω₃)\n",
       "b_y + (I_{xz}⋅ω₁ + I_{yz}⋅ω₂ + I_{zz}⋅ω₃) b_z"
      ]
     },
     "execution_count": 51,
     "metadata": {},
     "output_type": "execute_result"
    }
   ],
   "source": [
    "Ixx, Iyy, Izz = sm.symbols('I_{xx}, I_{yy}, I_{zz}')\n",
    "Ixy, Iyz, Ixz = sm.symbols('I_{xy}, I_{yz}, I_{xz}')\n",
    "w1, w2, w3 = me.dynamicsymbols('omega1, omega2, omega3')\n",
    "\n",
    "B = me.ReferenceFrame('B')\n",
    "\n",
    "I = me.inertia(B, Ixx, Iyy, Izz, Ixy, Iyz, Ixz)\n",
    "\n",
    "A_w_B = w1*B.x + w2*B.y + w3*B.z\n",
    "\n",
    "I.dot(A_w_B)"
   ]
  },
  {
   "cell_type": "code",
   "execution_count": 52,
   "id": "31e8354a",
   "metadata": {
    "execution": {
     "iopub.execute_input": "2024-02-20T15:56:11.925908Z",
     "iopub.status.busy": "2024-02-20T15:56:11.925513Z",
     "iopub.status.idle": "2024-02-20T15:56:11.936289Z",
     "shell.execute_reply": "2024-02-20T15:56:11.935689Z"
    }
   },
   "outputs": [
    {
     "data": {
      "text/latex": [
       "$\\displaystyle I_{1} \\omega_{1}\\hat{b}_x + I_{2} \\omega_{2}\\hat{b}_y + I_{3} \\omega_{3}\\hat{b}_z$"
      ],
      "text/plain": [
       "I₁⋅ω₁ b_x + I₂⋅ω₂ b_y + I₃⋅ω₃ b_z"
      ]
     },
     "execution_count": 52,
     "metadata": {},
     "output_type": "execute_result"
    }
   ],
   "source": [
    "I1, I2, I3 = sm.symbols('I_1, I_2, I_3')\n",
    "w1, w2, w3 = me.dynamicsymbols('omega1, omega2, omega3')\n",
    "\n",
    "B = me.ReferenceFrame('B')\n",
    "\n",
    "I = me.inertia(B, I1, I2, I3)\n",
    "\n",
    "A_w_B = w1*B.x + w2*B.y + w3*B.z\n",
    "\n",
    "I.dot(A_w_B)"
   ]
  }
 ],
 "metadata": {
  "kernelspec": {
   "display_name": "Python 3 (ipykernel)",
   "language": "python",
   "name": "python3"
  },
  "language_info": {
   "codemirror_mode": {
    "name": "ipython",
    "version": 3
   },
   "file_extension": ".py",
   "mimetype": "text/x-python",
   "name": "python",
   "nbconvert_exporter": "python",
   "pygments_lexer": "ipython3",
   "version": "3.10.13"
  }
 },
 "nbformat": 4,
 "nbformat_minor": 5
}