{
 "cells": [
  {
   "cell_type": "code",
   "execution_count": 1,
   "id": "f722b493",
   "metadata": {
    "execution": {
     "iopub.execute_input": "2024-02-20T15:52:03.107931Z",
     "iopub.status.busy": "2024-02-20T15:52:03.107749Z",
     "iopub.status.idle": "2024-02-20T15:52:03.481070Z",
     "shell.execute_reply": "2024-02-20T15:52:03.480478Z"
    }
   },
   "outputs": [],
   "source": [
    "import sympy as sm\n",
    "import sympy.physics.mechanics as me\n",
    "me.init_vprinting(use_latex='mathjax')"
   ]
  },
  {
   "cell_type": "code",
   "execution_count": 2,
   "id": "92598f85",
   "metadata": {
    "execution": {
     "iopub.execute_input": "2024-02-20T15:52:03.483738Z",
     "iopub.status.busy": "2024-02-20T15:52:03.483292Z",
     "iopub.status.idle": "2024-02-20T15:52:03.487378Z",
     "shell.execute_reply": "2024-02-20T15:52:03.486893Z"
    }
   },
   "outputs": [],
   "source": [
    "class ReferenceFrame(me.ReferenceFrame):\n",
    "\n",
    "    def __init__(self, *args, **kwargs):\n",
    "\n",
    "        kwargs.pop('latexs', None)\n",
    "\n",
    "        lab = args[0].lower()\n",
    "        tex = r'\\hat{{{}}}_{}'\n",
    "\n",
    "        super(ReferenceFrame, self).__init__(*args,\n",
    "                                             latexs=(tex.format(lab, 'x'),\n",
    "                                                     tex.format(lab, 'y'),\n",
    "                                                     tex.format(lab, 'z')),\n",
    "                                             **kwargs)\n",
    "me.ReferenceFrame = ReferenceFrame"
   ]
  },
  {
   "cell_type": "code",
   "execution_count": 3,
   "id": "b9822716",
   "metadata": {
    "execution": {
     "iopub.execute_input": "2024-02-20T15:52:03.489290Z",
     "iopub.status.busy": "2024-02-20T15:52:03.489130Z",
     "iopub.status.idle": "2024-02-20T15:52:03.503430Z",
     "shell.execute_reply": "2024-02-20T15:52:03.502987Z"
    }
   },
   "outputs": [],
   "source": [
    "q1, q2, q3 = me.dynamicsymbols('q1, q2, q3')\n",
    "la, lb, lc, ln = sm.symbols('l_a, l_b, l_c, l_n')\n",
    "\n",
    "N = me.ReferenceFrame('N')\n",
    "A = me.ReferenceFrame('A')\n",
    "B = me.ReferenceFrame('B')\n",
    "C = me.ReferenceFrame('C')\n",
    "\n",
    "A.orient_axis(N, q1, N.z)\n",
    "B.orient_axis(A, q2, A.z)\n",
    "C.orient_axis(B, q3, B.z)\n",
    "\n",
    "P1 = me.Point('P1')\n",
    "P2 = me.Point('P2')\n",
    "P3 = me.Point('P3')\n",
    "P4 = me.Point('P4')"
   ]
  },
  {
   "cell_type": "code",
   "execution_count": 4,
   "id": "6142b7d6",
   "metadata": {
    "execution": {
     "iopub.execute_input": "2024-02-20T15:52:03.505364Z",
     "iopub.status.busy": "2024-02-20T15:52:03.505191Z",
     "iopub.status.idle": "2024-02-20T15:52:03.511600Z",
     "shell.execute_reply": "2024-02-20T15:52:03.511160Z"
    }
   },
   "outputs": [
    {
     "data": {
      "text/latex": [
       "$\\displaystyle l_{c}\\hat{c}_x + l_{b}\\hat{b}_x + l_{a}\\hat{a}_x$"
      ],
      "text/plain": [
       "l_c c_x + l_b b_x + lₐ a_x"
      ]
     },
     "execution_count": 4,
     "metadata": {},
     "output_type": "execute_result"
    }
   ],
   "source": [
    "P2.set_pos(P1, la*A.x)\n",
    "P3.set_pos(P2, lb*B.x)\n",
    "P4.set_pos(P3, lc*C.x)\n",
    "\n",
    "P4.pos_from(P1)"
   ]
  },
  {
   "cell_type": "code",
   "execution_count": 5,
   "id": "bd24ec05",
   "metadata": {
    "execution": {
     "iopub.execute_input": "2024-02-20T15:52:03.513443Z",
     "iopub.status.busy": "2024-02-20T15:52:03.513281Z",
     "iopub.status.idle": "2024-02-20T15:52:03.515895Z",
     "shell.execute_reply": "2024-02-20T15:52:03.515454Z"
    }
   },
   "outputs": [],
   "source": [
    "r_P1_P4 = ln*N.x"
   ]
  },
  {
   "cell_type": "code",
   "execution_count": 6,
   "id": "9d11001d",
   "metadata": {
    "execution": {
     "iopub.execute_input": "2024-02-20T15:52:03.517689Z",
     "iopub.status.busy": "2024-02-20T15:52:03.517528Z",
     "iopub.status.idle": "2024-02-20T15:52:03.522513Z",
     "shell.execute_reply": "2024-02-20T15:52:03.522066Z"
    }
   },
   "outputs": [
    {
     "data": {
      "text/latex": [
       "$\\displaystyle l_{c}\\hat{c}_x + l_{b}\\hat{b}_x + l_{a}\\hat{a}_x -  l_{n}\\hat{n}_x$"
      ],
      "text/plain": [
       "l_c c_x + l_b b_x + lₐ a_x + -lₙ n_x"
      ]
     },
     "execution_count": 6,
     "metadata": {},
     "output_type": "execute_result"
    }
   ],
   "source": [
    "loop = P4.pos_from(P1) - r_P1_P4\n",
    "loop"
   ]
  },
  {
   "cell_type": "code",
   "execution_count": 7,
   "id": "c3f83c3b",
   "metadata": {
    "execution": {
     "iopub.execute_input": "2024-02-20T15:52:03.524477Z",
     "iopub.status.busy": "2024-02-20T15:52:03.524116Z",
     "iopub.status.idle": "2024-02-20T15:52:03.889894Z",
     "shell.execute_reply": "2024-02-20T15:52:03.889372Z"
    }
   },
   "outputs": [
    {
     "data": {
      "text/latex": [
       "$\\displaystyle l_{a} \\cos{\\left(q_{1} \\right)} + l_{b} \\cos{\\left(q_{1} + q_{2} \\right)} + l_{c} \\cos{\\left(q_{1} + q_{2} + q_{3} \\right)} - l_{n}$"
      ],
      "text/plain": [
       "lₐ⋅cos(q₁) + l_b⋅cos(q₁ + q₂) + l_c⋅cos(q₁ + q₂ + q₃) - lₙ"
      ]
     },
     "execution_count": 7,
     "metadata": {},
     "output_type": "execute_result"
    }
   ],
   "source": [
    "fhx = sm.trigsimp(loop.dot(N.x))\n",
    "fhx"
   ]
  },
  {
   "cell_type": "code",
   "execution_count": 8,
   "id": "8f7ac788",
   "metadata": {
    "execution": {
     "iopub.execute_input": "2024-02-20T15:52:03.891889Z",
     "iopub.status.busy": "2024-02-20T15:52:03.891702Z",
     "iopub.status.idle": "2024-02-20T15:52:04.179838Z",
     "shell.execute_reply": "2024-02-20T15:52:04.179179Z"
    }
   },
   "outputs": [
    {
     "data": {
      "text/latex": [
       "$\\displaystyle l_{a} \\sin{\\left(q_{1} \\right)} + l_{b} \\sin{\\left(q_{1} + q_{2} \\right)} + l_{c} \\sin{\\left(q_{1} + q_{2} + q_{3} \\right)}$"
      ],
      "text/plain": [
       "lₐ⋅sin(q₁) + l_b⋅sin(q₁ + q₂) + l_c⋅sin(q₁ + q₂ + q₃)"
      ]
     },
     "execution_count": 8,
     "metadata": {},
     "output_type": "execute_result"
    }
   ],
   "source": [
    "fhy = sm.trigsimp(loop.dot(N.y))\n",
    "fhy"
   ]
  },
  {
   "cell_type": "code",
   "execution_count": 9,
   "id": "a1fd31cb",
   "metadata": {
    "execution": {
     "iopub.execute_input": "2024-02-20T15:52:04.182464Z",
     "iopub.status.busy": "2024-02-20T15:52:04.181953Z",
     "iopub.status.idle": "2024-02-20T15:52:04.191100Z",
     "shell.execute_reply": "2024-02-20T15:52:04.190542Z"
    }
   },
   "outputs": [
    {
     "data": {
      "text/latex": [
       "$\\displaystyle \\left[\\begin{matrix}l_{a} \\cos{\\left(q_{1} \\right)} + l_{b} \\cos{\\left(q_{1} + q_{2} \\right)} + l_{c} \\cos{\\left(q_{1} + q_{2} + q_{3} \\right)} - l_{n}\\\\l_{a} \\sin{\\left(q_{1} \\right)} + l_{b} \\sin{\\left(q_{1} + q_{2} \\right)} + l_{c} \\sin{\\left(q_{1} + q_{2} + q_{3} \\right)}\\end{matrix}\\right]$"
      ],
      "text/plain": [
       "⎡lₐ⋅cos(q₁) + l_b⋅cos(q₁ + q₂) + l_c⋅cos(q₁ + q₂ + q₃) - lₙ⎤\n",
       "⎢                                                          ⎥\n",
       "⎣  lₐ⋅sin(q₁) + l_b⋅sin(q₁ + q₂) + l_c⋅sin(q₁ + q₂ + q₃)   ⎦"
      ]
     },
     "execution_count": 9,
     "metadata": {},
     "output_type": "execute_result"
    }
   ],
   "source": [
    "fh = sm.Matrix([fhx, fhy])\n",
    "fh"
   ]
  },
  {
   "cell_type": "code",
   "execution_count": 10,
   "id": "e03bc3fa",
   "metadata": {
    "execution": {
     "iopub.execute_input": "2024-02-20T15:52:04.193167Z",
     "iopub.status.busy": "2024-02-20T15:52:04.192836Z",
     "iopub.status.idle": "2024-02-20T15:52:04.692514Z",
     "shell.execute_reply": "2024-02-20T15:52:04.691911Z"
    }
   },
   "outputs": [
    {
     "data": {
      "text/latex": [
       "$\\displaystyle \\left[\\begin{matrix}2 a \\cos{\\left(q_{1} + q_{2} \\right)} + b \\cos{\\left(q_{1} + q_{2} + q_{3} \\right)} + b \\cos{\\left(q_{1} \\right)} - \\frac{39 b}{20}\\\\2 a \\sin{\\left(q_{1} + q_{2} \\right)} + 2 a + b \\sin{\\left(q_{1} + q_{2} + q_{3} \\right)} + b \\sin{\\left(q_{1} \\right)}\\end{matrix}\\right]$"
      ],
      "text/plain": [
       "⎡                                                     39⋅b⎤\n",
       "⎢2⋅a⋅cos(q₁ + q₂) + b⋅cos(q₁ + q₂ + q₃) + b⋅cos(q₁) - ────⎥\n",
       "⎢                                                      20 ⎥\n",
       "⎢                                                         ⎥\n",
       "⎣2⋅a⋅sin(q₁ + q₂) + 2⋅a + b⋅sin(q₁ + q₂ + q₃) + b⋅sin(q₁) ⎦"
      ]
     },
     "execution_count": 10,
     "metadata": {},
     "output_type": "execute_result"
    }
   ],
   "source": [
    "q1, q2, q3 = me.dynamicsymbols('q1, q2, q3')\n",
    "a, b = sm.symbols('a, b')\n",
    "\n",
    "N = me.ReferenceFrame('N')\n",
    "A = me.ReferenceFrame('A')\n",
    "B = me.ReferenceFrame('B')\n",
    "C = me.ReferenceFrame('C')\n",
    "\n",
    "A.orient_axis(N, q1, N.z)\n",
    "B.orient_axis(A, q2, A.z)\n",
    "C.orient_axis(B, q3, B.z)\n",
    "\n",
    "P1 = me.Point('P1')\n",
    "P2 = me.Point('P2')\n",
    "P3 = me.Point('P3')\n",
    "P4 = me.Point('P4')\n",
    "\n",
    "P2.set_pos(P1, b*A.x)\n",
    "P3.set_pos(P2, 2*a*B.x)\n",
    "P4.set_pos(P3, b*C.x)\n",
    "\n",
    "P4.pos_from(P1)\n",
    "\n",
    "r_P1_P4 = (2 - sm.S(1)/20)*b*N.x - 2*a*N.y\n",
    "\n",
    "loop = P4.pos_from(P1) - r_P1_P4\n",
    "\n",
    "fh_watts = sm.trigsimp(sm.Matrix([loop.dot(N.x), loop.dot(N.y)]))\n",
    "fh_watts"
   ]
  },
  {
   "cell_type": "code",
   "execution_count": 11,
   "id": "e8426d6e",
   "metadata": {
    "execution": {
     "iopub.execute_input": "2024-02-20T15:52:04.694758Z",
     "iopub.status.busy": "2024-02-20T15:52:04.694379Z",
     "iopub.status.idle": "2024-02-20T15:52:04.699590Z",
     "shell.execute_reply": "2024-02-20T15:52:04.699015Z"
    }
   },
   "outputs": [
    {
     "data": {
      "text/latex": [
       "$\\displaystyle \\left\\{ l_{a} : 1.0, \\  l_{b} : 4.0, \\  l_{c} : 3.0, \\  l_{n} : 5.0, \\  q_{1} : 0.523598775598299\\right\\}$"
      ],
      "text/plain": [
       "{lₐ: 1.0, l_b: 4.0, l_c: 3.0, lₙ: 5.0, q₁: 0.5235987755982988}"
      ]
     },
     "execution_count": 11,
     "metadata": {},
     "output_type": "execute_result"
    }
   ],
   "source": [
    "import math  # provides pi as a float\n",
    "\n",
    "repl = {\n",
    "    la: 1.0,\n",
    "    lb: 4.0,\n",
    "    lc: 3.0,\n",
    "    ln: 5.0,\n",
    "    q1: 30.0/180.0*math.pi,  # 30 degrees in radians\n",
    "}\n",
    "repl"
   ]
  },
  {
   "cell_type": "code",
   "execution_count": 12,
   "id": "b99618fb",
   "metadata": {
    "execution": {
     "iopub.execute_input": "2024-02-20T15:52:04.701607Z",
     "iopub.status.busy": "2024-02-20T15:52:04.701419Z",
     "iopub.status.idle": "2024-02-20T15:52:04.716538Z",
     "shell.execute_reply": "2024-02-20T15:52:04.716038Z"
    }
   },
   "outputs": [
    {
     "data": {
      "text/latex": [
       "$\\displaystyle \\left[\\begin{matrix}4.0 \\cos{\\left(q_{2} + 0.523598775598299 \\right)} + 3.0 \\cos{\\left(q_{2} + q_{3} + 0.523598775598299 \\right)} - 4.13397459621556\\\\4.0 \\sin{\\left(q_{2} + 0.523598775598299 \\right)} + 3.0 \\sin{\\left(q_{2} + q_{3} + 0.523598775598299 \\right)} + 0.5\\end{matrix}\\right]$"
      ],
      "text/plain": [
       "⎡4.0⋅cos(q₂ + 0.523598775598299) + 3.0⋅cos(q₂ + q₃ + 0.523598775598299) - 4.13\n",
       "⎢                                                                             \n",
       "⎣      4.0⋅sin(q₂ + 0.523598775598299) + 3.0⋅sin(q₂ + q₃ + 0.523598775598299) \n",
       "\n",
       "397459621556⎤\n",
       "            ⎥\n",
       "+ 0.5       ⎦"
      ]
     },
     "execution_count": 12,
     "metadata": {},
     "output_type": "execute_result"
    }
   ],
   "source": [
    "fh.xreplace(repl)"
   ]
  },
  {
   "cell_type": "code",
   "execution_count": 13,
   "id": "c59ee731",
   "metadata": {
    "execution": {
     "iopub.execute_input": "2024-02-20T15:52:04.718749Z",
     "iopub.status.busy": "2024-02-20T15:52:04.718321Z",
     "iopub.status.idle": "2024-02-20T15:52:04.792244Z",
     "shell.execute_reply": "2024-02-20T15:52:04.791660Z"
    }
   },
   "outputs": [
    {
     "data": {
      "text/latex": [
       "$\\displaystyle \\left[\\begin{matrix}-79.9561178980214\\\\108.613175851763\\end{matrix}\\right]$"
      ],
      "text/plain": [
       "⎡-79.9561178980214⎤\n",
       "⎢                 ⎥\n",
       "⎣108.613175851763 ⎦"
      ]
     },
     "execution_count": 13,
     "metadata": {},
     "output_type": "execute_result"
    }
   ],
   "source": [
    "q2_guess = -75.0/180.0*math.pi  # -75 degrees in radians\n",
    "q3_guess = 100.0/180.0*math.pi  # 100 degrees in radians\n",
    "\n",
    "sol = sm.nsolve(fh.xreplace(repl), (q2, q3), (q2_guess, q3_guess))\n",
    "sol/math.pi*180.0  # to degrees"
   ]
  },
  {
   "cell_type": "code",
   "execution_count": 14,
   "id": "d382e289",
   "metadata": {
    "execution": {
     "iopub.execute_input": "2024-02-20T15:52:04.794498Z",
     "iopub.status.busy": "2024-02-20T15:52:04.794140Z",
     "iopub.status.idle": "2024-02-20T15:52:04.799159Z",
     "shell.execute_reply": "2024-02-20T15:52:04.798628Z"
    }
   },
   "outputs": [
    {
     "data": {
      "text/latex": [
       "$\\displaystyle \\left\\{ a : 1.0, \\  b : 4.0, \\  q_{2} : 4.62512251778497 - q_{1}\\right\\}$"
      ],
      "text/plain": [
       "{a: 1.0, b: 4.0, q₂: 4.62512251778497 - q₁}"
      ]
     },
     "execution_count": 14,
     "metadata": {},
     "output_type": "execute_result"
    }
   ],
   "source": [
    "repl = {\n",
    "    a: 1.0,\n",
    "    b: 4.0,\n",
    "    q2: 3.0*math.pi/2.0 - 5.0/180.0*math.pi - q1,\n",
    "}\n",
    "repl"
   ]
  },
  {
   "cell_type": "code",
   "execution_count": 15,
   "id": "d5351d96",
   "metadata": {
    "execution": {
     "iopub.execute_input": "2024-02-20T15:52:04.801180Z",
     "iopub.status.busy": "2024-02-20T15:52:04.800848Z",
     "iopub.status.idle": "2024-02-20T15:52:04.812577Z",
     "shell.execute_reply": "2024-02-20T15:52:04.812078Z"
    }
   },
   "outputs": [
    {
     "data": {
      "text/latex": [
       "$\\displaystyle \\left[\\begin{matrix}4.0 \\cos{\\left(q_{3} + 4.62512251778497 \\right)} + 4.0 \\cos{\\left(q_{1} \\right)} - 7.97431148549532\\\\4.0 \\sin{\\left(q_{3} + 4.62512251778497 \\right)} + 4.0 \\sin{\\left(q_{1} \\right)} + 0.00761060381650891\\end{matrix}\\right]$"
      ],
      "text/plain": [
       "⎡ 4.0⋅cos(q₃ + 4.62512251778497) + 4.0⋅cos(q₁) - 7.97431148549532  ⎤\n",
       "⎢                                                                  ⎥\n",
       "⎣4.0⋅sin(q₃ + 4.62512251778497) + 4.0⋅sin(q₁) + 0.00761060381650891⎦"
      ]
     },
     "execution_count": 15,
     "metadata": {},
     "output_type": "execute_result"
    }
   ],
   "source": [
    "fh_watts.xreplace(repl)"
   ]
  },
  {
   "cell_type": "code",
   "execution_count": 16,
   "id": "fc2cb5c7",
   "metadata": {
    "execution": {
     "iopub.execute_input": "2024-02-20T15:52:04.814431Z",
     "iopub.status.busy": "2024-02-20T15:52:04.814248Z",
     "iopub.status.idle": "2024-02-20T15:52:04.850385Z",
     "shell.execute_reply": "2024-02-20T15:52:04.849915Z"
    }
   },
   "outputs": [
    {
     "data": {
      "text/latex": [
       "$\\displaystyle \\left[\\begin{matrix}4.53780194767253\\\\90.3528330377729\\end{matrix}\\right]$"
      ],
      "text/plain": [
       "⎡4.53780194767253⎤\n",
       "⎢                ⎥\n",
       "⎣90.3528330377729⎦"
      ]
     },
     "execution_count": 16,
     "metadata": {},
     "output_type": "execute_result"
    }
   ],
   "source": [
    "q1_guess = 10.0/180.0*math.pi\n",
    "q3_guess = 100.0/180.0*math.pi\n",
    "\n",
    "sol = sm.nsolve(fh_watts.xreplace(repl), (q1, q3), (q1_guess, q3_guess))\n",
    "sol/math.pi*180.0  # to degrees"
   ]
  },
  {
   "cell_type": "code",
   "execution_count": 17,
   "id": "88b5dc05",
   "metadata": {
    "execution": {
     "iopub.execute_input": "2024-02-20T15:52:04.852315Z",
     "iopub.status.busy": "2024-02-20T15:52:04.852131Z",
     "iopub.status.idle": "2024-02-20T15:52:04.856348Z",
     "shell.execute_reply": "2024-02-20T15:52:04.855883Z"
    }
   },
   "outputs": [],
   "source": [
    "P1 = me.Point('P1')\n",
    "P2 = me.Point('P2')\n",
    "P3 = me.Point('P3')\n",
    "P4 = me.Point('P4')\n",
    "P2.set_pos(P1, la*A.x)\n",
    "P3.set_pos(P2, lb*B.x)\n",
    "P4.set_pos(P3, lc*C.x)"
   ]
  },
  {
   "cell_type": "code",
   "execution_count": 18,
   "id": "51e87dd4",
   "metadata": {
    "execution": {
     "iopub.execute_input": "2024-02-20T15:52:04.858177Z",
     "iopub.status.busy": "2024-02-20T15:52:04.858011Z",
     "iopub.status.idle": "2024-02-20T15:52:04.883171Z",
     "shell.execute_reply": "2024-02-20T15:52:04.882723Z"
    }
   },
   "outputs": [
    {
     "data": {
      "text/latex": [
       "$\\displaystyle l_{c} \\left(\\dot{q}_{1} + \\dot{q}_{2} + \\dot{q}_{3}\\right)\\hat{c}_y + l_{b} \\left(\\dot{q}_{1} + \\dot{q}_{2}\\right)\\hat{b}_y + l_{a} \\dot{q}_{1}\\hat{a}_y$"
      ],
      "text/plain": [
       "l_c⋅(q₁̇ + q₂̇ + q₃̇) c_y + l_b⋅(q₁̇ + q₂̇) b_y + lₐ⋅q₁̇ a_y"
      ]
     },
     "execution_count": 18,
     "metadata": {},
     "output_type": "execute_result"
    }
   ],
   "source": [
    "P1.set_vel(N, 0)\n",
    "P4.vel(N)"
   ]
  },
  {
   "cell_type": "code",
   "execution_count": 19,
   "id": "07b8f9d1",
   "metadata": {
    "execution": {
     "iopub.execute_input": "2024-02-20T15:52:04.885011Z",
     "iopub.status.busy": "2024-02-20T15:52:04.884847Z",
     "iopub.status.idle": "2024-02-20T15:52:05.507468Z",
     "shell.execute_reply": "2024-02-20T15:52:05.506832Z"
    }
   },
   "outputs": [
    {
     "data": {
      "text/latex": [
       "$\\displaystyle - l_{a} \\sin{\\left(q_{1} \\right)} \\dot{q}_{1} - l_{b} \\left(\\dot{q}_{1} + \\dot{q}_{2}\\right) \\sin{\\left(q_{1} + q_{2} \\right)} - l_{c} \\left(\\dot{q}_{1} + \\dot{q}_{2} + \\dot{q}_{3}\\right) \\sin{\\left(q_{1} + q_{2} + q_{3} \\right)}$"
      ],
      "text/plain": [
       "-lₐ⋅sin(q₁)⋅q₁̇ - l_b⋅(q₁̇ + q₂̇)⋅sin(q₁ + q₂) - l_c⋅(q₁̇ + q₂̇ + q₃̇)⋅sin(q₁ \n",
       "+ q₂ + q₃)"
      ]
     },
     "execution_count": 19,
     "metadata": {},
     "output_type": "execute_result"
    }
   ],
   "source": [
    "sm.trigsimp(P4.vel(N).dot(N.x))"
   ]
  },
  {
   "cell_type": "code",
   "execution_count": 20,
   "id": "ac3669ab",
   "metadata": {
    "execution": {
     "iopub.execute_input": "2024-02-20T15:52:05.509879Z",
     "iopub.status.busy": "2024-02-20T15:52:05.509484Z",
     "iopub.status.idle": "2024-02-20T15:52:06.150966Z",
     "shell.execute_reply": "2024-02-20T15:52:06.150448Z"
    }
   },
   "outputs": [
    {
     "data": {
      "text/latex": [
       "$\\displaystyle l_{a} \\cos{\\left(q_{1} \\right)} \\dot{q}_{1} + l_{b} \\left(\\dot{q}_{1} + \\dot{q}_{2}\\right) \\cos{\\left(q_{1} + q_{2} \\right)} + l_{c} \\left(\\dot{q}_{1} + \\dot{q}_{2} + \\dot{q}_{3}\\right) \\cos{\\left(q_{1} + q_{2} + q_{3} \\right)}$"
      ],
      "text/plain": [
       "lₐ⋅cos(q₁)⋅q₁̇ + l_b⋅(q₁̇ + q₂̇)⋅cos(q₁ + q₂) + l_c⋅(q₁̇ + q₂̇ + q₃̇)⋅cos(q₁ +\n",
       " q₂ + q₃)"
      ]
     },
     "execution_count": 20,
     "metadata": {},
     "output_type": "execute_result"
    }
   ],
   "source": [
    "sm.trigsimp(P4.vel(N).dot(N.y))"
   ]
  },
  {
   "cell_type": "code",
   "execution_count": 21,
   "id": "463c4018",
   "metadata": {
    "execution": {
     "iopub.execute_input": "2024-02-20T15:52:06.153105Z",
     "iopub.status.busy": "2024-02-20T15:52:06.152762Z",
     "iopub.status.idle": "2024-02-20T15:52:06.185663Z",
     "shell.execute_reply": "2024-02-20T15:52:06.185090Z"
    }
   },
   "outputs": [
    {
     "data": {
      "text/latex": [
       "$\\displaystyle \\left[\\begin{matrix}- l_{a} \\sin{\\left(q_{1} \\right)} \\dot{q}_{1} - l_{b} \\left(\\dot{q}_{1} + \\dot{q}_{2}\\right) \\sin{\\left(q_{1} + q_{2} \\right)} - l_{c} \\left(\\dot{q}_{1} + \\dot{q}_{2} + \\dot{q}_{3}\\right) \\sin{\\left(q_{1} + q_{2} + q_{3} \\right)}\\\\l_{a} \\cos{\\left(q_{1} \\right)} \\dot{q}_{1} + l_{b} \\left(\\dot{q}_{1} + \\dot{q}_{2}\\right) \\cos{\\left(q_{1} + q_{2} \\right)} + l_{c} \\left(\\dot{q}_{1} + \\dot{q}_{2} + \\dot{q}_{3}\\right) \\cos{\\left(q_{1} + q_{2} + q_{3} \\right)}\\end{matrix}\\right]$"
      ],
      "text/plain": [
       "⎡-lₐ⋅sin(q₁)⋅q₁̇ - l_b⋅(q₁̇ + q₂̇)⋅sin(q₁ + q₂) - l_c⋅(q₁̇ + q₂̇ + q₃̇)⋅sin(q₁\n",
       "⎢                                                                             \n",
       "⎣lₐ⋅cos(q₁)⋅q₁̇ + l_b⋅(q₁̇ + q₂̇)⋅cos(q₁ + q₂) + l_c⋅(q₁̇ + q₂̇ + q₃̇)⋅cos(q₁ \n",
       "\n",
       " + q₂ + q₃)⎤\n",
       "     ⎥\n",
       "+ q₂ + q₃) ⎦"
      ]
     },
     "execution_count": 21,
     "metadata": {},
     "output_type": "execute_result"
    }
   ],
   "source": [
    "t = me.dynamicsymbols._t\n",
    "fhd = fh.diff(t)\n",
    "fhd"
   ]
  },
  {
   "cell_type": "code",
   "execution_count": 22,
   "id": "788031f9",
   "metadata": {
    "execution": {
     "iopub.execute_input": "2024-02-20T15:52:06.187856Z",
     "iopub.status.busy": "2024-02-20T15:52:06.187490Z",
     "iopub.status.idle": "2024-02-20T15:52:06.193160Z",
     "shell.execute_reply": "2024-02-20T15:52:06.192607Z"
    }
   },
   "outputs": [
    {
     "data": {
      "text/latex": [
       "$\\displaystyle \\left[\\begin{matrix}\\dot{q}_{2}\\\\\\dot{q}_{3}\\end{matrix}\\right]$"
      ],
      "text/plain": [
       "⎡q₂̇⎤\n",
       "⎢  ⎥\n",
       "⎣q₃̇⎦"
      ]
     },
     "execution_count": 22,
     "metadata": {},
     "output_type": "execute_result"
    }
   ],
   "source": [
    "x = sm.Matrix([q2.diff(t), q3.diff(t)])\n",
    "x"
   ]
  },
  {
   "cell_type": "code",
   "execution_count": 23,
   "id": "11eb9c7e",
   "metadata": {
    "execution": {
     "iopub.execute_input": "2024-02-20T15:52:06.195456Z",
     "iopub.status.busy": "2024-02-20T15:52:06.195021Z",
     "iopub.status.idle": "2024-02-20T15:52:06.218163Z",
     "shell.execute_reply": "2024-02-20T15:52:06.217571Z"
    }
   },
   "outputs": [
    {
     "data": {
      "text/latex": [
       "$\\displaystyle \\left[\\begin{matrix}- l_{b} \\sin{\\left(q_{1} + q_{2} \\right)} - l_{c} \\sin{\\left(q_{1} + q_{2} + q_{3} \\right)} & - l_{c} \\sin{\\left(q_{1} + q_{2} + q_{3} \\right)}\\\\l_{b} \\cos{\\left(q_{1} + q_{2} \\right)} + l_{c} \\cos{\\left(q_{1} + q_{2} + q_{3} \\right)} & l_{c} \\cos{\\left(q_{1} + q_{2} + q_{3} \\right)}\\end{matrix}\\right]$"
      ],
      "text/plain": [
       "⎡-l_b⋅sin(q₁ + q₂) - l_c⋅sin(q₁ + q₂ + q₃)  -l_c⋅sin(q₁ + q₂ + q₃)⎤\n",
       "⎢                                                                 ⎥\n",
       "⎣l_b⋅cos(q₁ + q₂) + l_c⋅cos(q₁ + q₂ + q₃)   l_c⋅cos(q₁ + q₂ + q₃) ⎦"
      ]
     },
     "execution_count": 23,
     "metadata": {},
     "output_type": "execute_result"
    }
   ],
   "source": [
    "A = fhd.jacobian(x)\n",
    "A"
   ]
  },
  {
   "cell_type": "code",
   "execution_count": 24,
   "id": "88b655ba",
   "metadata": {
    "execution": {
     "iopub.execute_input": "2024-02-20T15:52:06.220174Z",
     "iopub.status.busy": "2024-02-20T15:52:06.219986Z",
     "iopub.status.idle": "2024-02-20T15:52:06.232575Z",
     "shell.execute_reply": "2024-02-20T15:52:06.232058Z"
    }
   },
   "outputs": [
    {
     "data": {
      "text/latex": [
       "$\\displaystyle \\left[\\begin{matrix}l_{a} \\sin{\\left(q_{1} \\right)} \\dot{q}_{1} + l_{b} \\sin{\\left(q_{1} + q_{2} \\right)} \\dot{q}_{1} + l_{c} \\sin{\\left(q_{1} + q_{2} + q_{3} \\right)} \\dot{q}_{1}\\\\- l_{a} \\cos{\\left(q_{1} \\right)} \\dot{q}_{1} - l_{b} \\cos{\\left(q_{1} + q_{2} \\right)} \\dot{q}_{1} - l_{c} \\cos{\\left(q_{1} + q_{2} + q_{3} \\right)} \\dot{q}_{1}\\end{matrix}\\right]$"
      ],
      "text/plain": [
       "⎡lₐ⋅sin(q₁)⋅q₁̇ + l_b⋅sin(q₁ + q₂)⋅q₁̇ + l_c⋅sin(q₁ + q₂ + q₃)⋅q₁̇ ⎤\n",
       "⎢                                                               ⎥\n",
       "⎣-lₐ⋅cos(q₁)⋅q₁̇ - l_b⋅cos(q₁ + q₂)⋅q₁̇ - l_c⋅cos(q₁ + q₂ + q₃)⋅q₁̇⎦"
      ]
     },
     "execution_count": 24,
     "metadata": {},
     "output_type": "execute_result"
    }
   ],
   "source": [
    "b = -fhd.xreplace({q2.diff(t): 0, q3.diff(t): 0})\n",
    "b"
   ]
  },
  {
   "cell_type": "code",
   "execution_count": 25,
   "id": "e3b188fa",
   "metadata": {
    "execution": {
     "iopub.execute_input": "2024-02-20T15:52:06.234837Z",
     "iopub.status.busy": "2024-02-20T15:52:06.234457Z",
     "iopub.status.idle": "2024-02-20T15:52:07.907171Z",
     "shell.execute_reply": "2024-02-20T15:52:07.906517Z"
    }
   },
   "outputs": [
    {
     "data": {
      "text/latex": [
       "$\\displaystyle \\left[\\begin{matrix}- \\frac{\\left(\\frac{l_{a} \\sin{\\left(q_{2} \\right)}}{\\tan{\\left(q_{3} \\right)}} + l_{a} \\cos{\\left(q_{2} \\right)} + l_{b}\\right) \\dot{q}_{1}}{l_{b}}\\\\\\frac{l_{a} \\left(l_{b} \\sin{\\left(q_{2} \\right)} + l_{c} \\sin{\\left(q_{2} + q_{3} \\right)}\\right) \\dot{q}_{1}}{l_{b} l_{c} \\sin{\\left(q_{3} \\right)}}\\end{matrix}\\right]$"
      ],
      "text/plain": [
       "⎡  ⎛lₐ⋅sin(q₂)                   ⎞     ⎤\n",
       "⎢ -⎜────────── + lₐ⋅cos(q₂) + l_b⎟⋅q₁̇  ⎥\n",
       "⎢  ⎝ tan(q₃)                     ⎠     ⎥\n",
       "⎢ ──────────────────────────────────── ⎥\n",
       "⎢                 l_b                  ⎥\n",
       "⎢                                      ⎥\n",
       "⎢lₐ⋅(l_b⋅sin(q₂) + l_c⋅sin(q₂ + q₃))⋅q₁̇⎥\n",
       "⎢──────────────────────────────────────⎥\n",
       "⎣           l_b⋅l_c⋅sin(q₃)            ⎦"
      ]
     },
     "execution_count": 25,
     "metadata": {},
     "output_type": "execute_result"
    }
   ],
   "source": [
    "x_sol = sm.simplify(A.LUsolve(b))\n",
    "x_sol"
   ]
  },
  {
   "cell_type": "code",
   "execution_count": 26,
   "id": "75741db5",
   "metadata": {
    "execution": {
     "iopub.execute_input": "2024-02-20T15:52:07.909693Z",
     "iopub.status.busy": "2024-02-20T15:52:07.909287Z",
     "iopub.status.idle": "2024-02-20T15:52:07.917928Z",
     "shell.execute_reply": "2024-02-20T15:52:07.917356Z"
    }
   },
   "outputs": [
    {
     "data": {
      "text/latex": [
       "$\\displaystyle \\left\\{q_{1}, q_{2}, q_{3}, \\dot{q}_{1}, \\dot{q}_{2}, \\dot{q}_{3}\\right\\}$"
      ],
      "text/plain": [
       "{q₁, q₂, q₃, q₁̇, q₂̇, q₃̇}"
      ]
     },
     "execution_count": 26,
     "metadata": {},
     "output_type": "execute_result"
    }
   ],
   "source": [
    "P4.vel(N).free_dynamicsymbols(N)"
   ]
  },
  {
   "cell_type": "code",
   "execution_count": 27,
   "id": "a3e76a10",
   "metadata": {
    "execution": {
     "iopub.execute_input": "2024-02-20T15:52:07.920137Z",
     "iopub.status.busy": "2024-02-20T15:52:07.919783Z",
     "iopub.status.idle": "2024-02-20T15:52:07.929631Z",
     "shell.execute_reply": "2024-02-20T15:52:07.929073Z"
    }
   },
   "outputs": [
    {
     "data": {
      "text/latex": [
       "$\\displaystyle \\left\\{ \\dot{q}_{2} : - \\frac{\\left(\\frac{l_{a} \\sin{\\left(q_{2} \\right)}}{\\tan{\\left(q_{3} \\right)}} + l_{a} \\cos{\\left(q_{2} \\right)} + l_{b}\\right) \\dot{q}_{1}}{l_{b}}, \\  \\dot{q}_{3} : \\frac{l_{a} \\left(l_{b} \\sin{\\left(q_{2} \\right)} + l_{c} \\sin{\\left(q_{2} + q_{3} \\right)}\\right) \\dot{q}_{1}}{l_{b} l_{c} \\sin{\\left(q_{3} \\right)}}\\right\\}$"
      ],
      "text/plain": [
       "⎧     ⎛lₐ⋅sin(q₂)                   ⎞                                         \n",
       "⎪    -⎜────────── + lₐ⋅cos(q₂) + l_b⎟⋅q₁̇                                     \n",
       "⎨     ⎝ tan(q₃)                     ⎠          lₐ⋅(l_b⋅sin(q₂) + l_c⋅sin(q₂ + \n",
       "⎪q₂̇: ────────────────────────────────────, q₃̇: ─────────────────────────────\n",
       "⎩                    l_b                                  l_b⋅l_c⋅sin(q₃)     \n",
       "\n",
       "       ⎫\n",
       "        ⎪\n",
       "q₃))⋅q₁̇⎬\n",
       "─────────⎪\n",
       "       ⎭"
      ]
     },
     "execution_count": 27,
     "metadata": {},
     "output_type": "execute_result"
    }
   ],
   "source": [
    "qd_dep_repl = {\n",
    "  q2.diff(t): x_sol[0, 0],\n",
    "  q3.diff(t): x_sol[1, 0],\n",
    "}\n",
    "qd_dep_repl"
   ]
  },
  {
   "cell_type": "code",
   "execution_count": 28,
   "id": "cf80ca80",
   "metadata": {
    "execution": {
     "iopub.execute_input": "2024-02-20T15:52:07.931868Z",
     "iopub.status.busy": "2024-02-20T15:52:07.931400Z",
     "iopub.status.idle": "2024-02-20T15:52:07.944967Z",
     "shell.execute_reply": "2024-02-20T15:52:07.944470Z"
    }
   },
   "outputs": [
    {
     "data": {
      "text/latex": [
       "$\\displaystyle l_{c} \\left(\\frac{l_{a} \\left(l_{b} \\sin{\\left(q_{2} \\right)} + l_{c} \\sin{\\left(q_{2} + q_{3} \\right)}\\right) \\dot{q}_{1}}{l_{b} l_{c} \\sin{\\left(q_{3} \\right)}} + \\dot{q}_{1} - \\frac{\\left(\\frac{l_{a} \\sin{\\left(q_{2} \\right)}}{\\tan{\\left(q_{3} \\right)}} + l_{a} \\cos{\\left(q_{2} \\right)} + l_{b}\\right) \\dot{q}_{1}}{l_{b}}\\right)\\hat{c}_y + l_{b} \\left(\\dot{q}_{1} - \\frac{\\left(\\frac{l_{a} \\sin{\\left(q_{2} \\right)}}{\\tan{\\left(q_{3} \\right)}} + l_{a} \\cos{\\left(q_{2} \\right)} + l_{b}\\right) \\dot{q}_{1}}{l_{b}}\\right)\\hat{b}_y + l_{a} \\dot{q}_{1}\\hat{a}_y$"
      ],
      "text/plain": [
       "    ⎛                                              ⎛lₐ⋅sin(q₂)\n",
       "    ⎜                                              ⎜────────── + lₐ⋅cos(q₂) +\n",
       "    ⎜lₐ⋅(l_b⋅sin(q₂) + l_c⋅sin(q₂ + q₃))⋅q₁̇        ⎝ tan(q₃)\n",
       "l_c⋅⎜────────────────────────────────────── + q₁̇ - ──────────────────────────\n",
       "    ⎝           l_b⋅l_c⋅sin(q₃)                                   l_b\n",
       "\n",
       "   ⎞   ⎞           ⎛     ⎛lₐ⋅sin(q₂)                   ⎞   ⎞\n",
       "l_b⎟⋅q₁̇⎟           ⎜     ⎜────────── + lₐ⋅cos(q₂) + l_b⎟⋅q₁̇⎟\n",
       "    ⎠   ⎟           ⎜     ⎝ tan(q₃)                     ⎠   ⎟\n",
       "────────⎟ c_y + l_b⋅⎜q₁̇ - ──────────────────────────────────⎟ b_y + lₐ⋅q₁̇ a_\n",
       "       ⎠           ⎝                    l_b                ⎠"
      ]
     },
     "execution_count": 28,
     "metadata": {},
     "output_type": "execute_result"
    }
   ],
   "source": [
    "P4.vel(N).xreplace(qd_dep_repl)"
   ]
  },
  {
   "cell_type": "code",
   "execution_count": 29,
   "id": "2120a9f8",
   "metadata": {
    "execution": {
     "iopub.execute_input": "2024-02-20T15:52:07.947190Z",
     "iopub.status.busy": "2024-02-20T15:52:07.946820Z",
     "iopub.status.idle": "2024-02-20T15:52:07.959503Z",
     "shell.execute_reply": "2024-02-20T15:52:07.958838Z"
    }
   },
   "outputs": [
    {
     "data": {
      "text/latex": [
       "$\\displaystyle \\left\\{q_{1}, q_{2}, q_{3}, \\dot{q}_{1}\\right\\}$"
      ],
      "text/plain": [
       "{q₁, q₂, q₃, q₁̇}"
      ]
     },
     "execution_count": 29,
     "metadata": {},
     "output_type": "execute_result"
    }
   ],
   "source": [
    "P4.vel(N).xreplace(qd_dep_repl).free_dynamicsymbols(N)"
   ]
  }
 ],
 "metadata": {
  "kernelspec": {
   "display_name": "Python 3 (ipykernel)",
   "language": "python",
   "name": "python3"
  },
  "language_info": {
   "codemirror_mode": {
    "name": "ipython",
    "version": 3
   },
   "file_extension": ".py",
   "mimetype": "text/x-python",
   "name": "python",
   "nbconvert_exporter": "python",
   "pygments_lexer": "ipython3",
   "version": "3.10.13"
  }
 },
 "nbformat": 4,
 "nbformat_minor": 5
}