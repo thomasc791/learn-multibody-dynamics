{
 "cells": [
  {
   "cell_type": "code",
   "execution_count": 1,
   "id": "69546fe4",
   "metadata": {
    "execution": {
     "iopub.execute_input": "2024-02-20T15:56:13.577764Z",
     "iopub.status.busy": "2024-02-20T15:56:13.577592Z",
     "iopub.status.idle": "2024-02-20T15:56:13.977965Z",
     "shell.execute_reply": "2024-02-20T15:56:13.977355Z"
    }
   },
   "outputs": [],
   "source": [
    "import sympy as sm\n",
    "import sympy.physics.mechanics as me\n",
    "me.init_vprinting(use_latex='mathjax')"
   ]
  },
  {
   "cell_type": "code",
   "execution_count": 2,
   "id": "cddacbda",
   "metadata": {
    "execution": {
     "iopub.execute_input": "2024-02-20T15:56:13.980501Z",
     "iopub.status.busy": "2024-02-20T15:56:13.980202Z",
     "iopub.status.idle": "2024-02-20T15:56:13.984539Z",
     "shell.execute_reply": "2024-02-20T15:56:13.983920Z"
    }
   },
   "outputs": [],
   "source": [
    "class ReferenceFrame(me.ReferenceFrame):\n",
    "\n",
    "    def __init__(self, *args, **kwargs):\n",
    "\n",
    "        kwargs.pop('latexs', None)\n",
    "\n",
    "        lab = args[0].lower()\n",
    "        tex = r'\\hat{{{}}}_{}'\n",
    "\n",
    "        super(ReferenceFrame, self).__init__(*args,\n",
    "                                             latexs=(tex.format(lab, 'x'),\n",
    "                                                     tex.format(lab, 'y'),\n",
    "                                                     tex.format(lab, 'z')),\n",
    "                                             **kwargs)\n",
    "me.ReferenceFrame = ReferenceFrame"
   ]
  },
  {
   "cell_type": "code",
   "execution_count": 3,
   "id": "5ff91fa7",
   "metadata": {
    "execution": {
     "iopub.execute_input": "2024-02-20T15:56:13.986727Z",
     "iopub.status.busy": "2024-02-20T15:56:13.986377Z",
     "iopub.status.idle": "2024-02-20T15:56:14.013286Z",
     "shell.execute_reply": "2024-02-20T15:56:14.012693Z"
    }
   },
   "outputs": [
    {
     "data": {
      "text/latex": [
       "$\\displaystyle (\\sin{\\left(\\theta \\right)} \\dot{y} + \\cos{\\left(\\theta \\right)} \\dot{x})\\hat{a}_x + (- \\sin{\\left(\\theta \\right)} \\dot{x} + \\cos{\\left(\\theta \\right)} \\dot{y})\\hat{a}_y$"
      ],
      "text/plain": [
       "(sin(θ)⋅ẏ + cos(θ)⋅ẋ) a_x + (-sin(θ)⋅ẋ + cos(θ)⋅ẏ) a_y"
      ]
     },
     "execution_count": 3,
     "metadata": {},
     "output_type": "execute_result"
    }
   ],
   "source": [
    "x, y, theta = me.dynamicsymbols('x, y, theta')\n",
    "\n",
    "N = me.ReferenceFrame('N')\n",
    "A = me.ReferenceFrame('A')\n",
    "\n",
    "A.orient_axis(N, theta, N.z)\n",
    "\n",
    "O = me.Point('O')\n",
    "P = me.Point('P')\n",
    "\n",
    "P.set_pos(O, x*N.x + y*N.y)\n",
    "\n",
    "O.set_vel(N, 0)\n",
    "\n",
    "P.vel(N).express(A)"
   ]
  },
  {
   "cell_type": "code",
   "execution_count": 4,
   "id": "f6ffb6e6",
   "metadata": {
    "execution": {
     "iopub.execute_input": "2024-02-20T15:56:14.015614Z",
     "iopub.status.busy": "2024-02-20T15:56:14.015257Z",
     "iopub.status.idle": "2024-02-20T15:56:14.021021Z",
     "shell.execute_reply": "2024-02-20T15:56:14.020506Z"
    }
   },
   "outputs": [
    {
     "data": {
      "text/latex": [
       "$\\displaystyle - \\sin{\\left(\\theta \\right)} \\dot{x} + \\cos{\\left(\\theta \\right)} \\dot{y}$"
      ],
      "text/plain": [
       "-sin(θ)⋅ẋ + cos(θ)⋅ẏ"
      ]
     },
     "execution_count": 4,
     "metadata": {},
     "output_type": "execute_result"
    }
   ],
   "source": [
    "fn = P.vel(N).dot(A.y)\n",
    "fn"
   ]
  },
  {
   "cell_type": "code",
   "execution_count": 5,
   "id": "7c1428a6",
   "metadata": {
    "execution": {
     "iopub.execute_input": "2024-02-20T15:56:14.023172Z",
     "iopub.status.busy": "2024-02-20T15:56:14.022867Z",
     "iopub.status.idle": "2024-02-20T15:56:14.580270Z",
     "shell.execute_reply": "2024-02-20T15:56:14.579544Z"
    }
   },
   "outputs": [
    {
     "data": {
      "text/latex": [
       "$\\displaystyle - l_{a} \\sin{\\left(q_{1} \\right)} \\dot{q}_{1} - l_{b} \\left(\\dot{q}_{1} + \\dot{q}_{2}\\right) \\sin{\\left(q_{1} + q_{2} \\right)} - l_{c} \\left(\\dot{q}_{1} + \\dot{q}_{2} + \\dot{q}_{3}\\right) \\sin{\\left(q_{1} + q_{2} + q_{3} \\right)}$"
      ],
      "text/plain": [
       "-lₐ⋅sin(q₁)⋅q₁̇ - l_b⋅(q₁̇ + q₂̇)⋅sin(q₁ + q₂) - l_c⋅(q₁̇ + q₂̇ + q₃̇)⋅sin(q₁ \n",
       "+ q₂ + q₃)"
      ]
     },
     "execution_count": 5,
     "metadata": {},
     "output_type": "execute_result"
    }
   ],
   "source": [
    "t = me.dynamicsymbols._t\n",
    "\n",
    "q1, q2, q3 = me.dynamicsymbols('q1, q2, q3')\n",
    "la, lb, lc, ln = sm.symbols('l_a, l_b, l_c, l_n')\n",
    "\n",
    "fhx = la*sm.cos(q1) + lb*sm.cos(q1 + q2) + lc*sm.cos(q1 + q2 + q3) - ln\n",
    "sm.trigsimp(fhx.diff(t))"
   ]
  },
  {
   "cell_type": "code",
   "execution_count": 6,
   "id": "9864f8a8",
   "metadata": {
    "execution": {
     "iopub.execute_input": "2024-02-20T15:56:14.582600Z",
     "iopub.status.busy": "2024-02-20T15:56:14.582378Z",
     "iopub.status.idle": "2024-02-20T15:56:14.588585Z",
     "shell.execute_reply": "2024-02-20T15:56:14.587942Z"
    }
   },
   "outputs": [
    {
     "data": {
      "text/latex": [
       "$\\displaystyle \\left( - \\sin{\\left(\\theta \\right)}, \\  \\cos{\\left(\\theta \\right)}, \\  0\\right)$"
      ],
      "text/plain": [
       "(-sin(θ), cos(θ), 0)"
      ]
     },
     "execution_count": 6,
     "metadata": {},
     "output_type": "execute_result"
    }
   ],
   "source": [
    "dfdx = fn.coeff(x.diff(t))\n",
    "dfdy = fn.coeff(y.diff(t))\n",
    "dfdth = fn.coeff(theta.diff(t))\n",
    "\n",
    "dfdx, dfdy, dfdth"
   ]
  },
  {
   "cell_type": "code",
   "execution_count": 7,
   "id": "30ad13f7",
   "metadata": {
    "execution": {
     "iopub.execute_input": "2024-02-20T15:56:14.590813Z",
     "iopub.status.busy": "2024-02-20T15:56:14.590471Z",
     "iopub.status.idle": "2024-02-20T15:56:14.594745Z",
     "shell.execute_reply": "2024-02-20T15:56:14.594198Z"
    }
   },
   "outputs": [
    {
     "data": {
      "text/latex": [
       "$\\displaystyle \\left( 0, \\  0\\right)$"
      ],
      "text/plain": [
       "(0, 0)"
      ]
     },
     "execution_count": 7,
     "metadata": {},
     "output_type": "execute_result"
    }
   ],
   "source": [
    "dfdx.diff(y), dfdy.diff(x)"
   ]
  },
  {
   "cell_type": "code",
   "execution_count": 8,
   "id": "7ffbeb4c",
   "metadata": {
    "execution": {
     "iopub.execute_input": "2024-02-20T15:56:14.597014Z",
     "iopub.status.busy": "2024-02-20T15:56:14.596605Z",
     "iopub.status.idle": "2024-02-20T15:56:14.604151Z",
     "shell.execute_reply": "2024-02-20T15:56:14.603653Z"
    }
   },
   "outputs": [
    {
     "data": {
      "text/latex": [
       "$\\displaystyle \\left( - \\cos{\\left(\\theta \\right)}, \\  0\\right)$"
      ],
      "text/plain": [
       "(-cos(θ), 0)"
      ]
     },
     "execution_count": 8,
     "metadata": {},
     "output_type": "execute_result"
    }
   ],
   "source": [
    "dfdx.diff(theta), dfdth.diff(x)"
   ]
  },
  {
   "cell_type": "code",
   "execution_count": 9,
   "id": "899ad96a",
   "metadata": {
    "execution": {
     "iopub.execute_input": "2024-02-20T15:56:14.606379Z",
     "iopub.status.busy": "2024-02-20T15:56:14.605922Z",
     "iopub.status.idle": "2024-02-20T15:56:14.612679Z",
     "shell.execute_reply": "2024-02-20T15:56:14.612054Z"
    }
   },
   "outputs": [
    {
     "data": {
      "text/latex": [
       "$\\displaystyle \\left( - \\sin{\\left(\\theta \\right)}, \\  0\\right)$"
      ],
      "text/plain": [
       "(-sin(θ), 0)"
      ]
     },
     "execution_count": 9,
     "metadata": {},
     "output_type": "execute_result"
    }
   ],
   "source": [
    "dfdy.diff(theta), dfdth.diff(y)"
   ]
  },
  {
   "cell_type": "code",
   "execution_count": 10,
   "id": "513a7def",
   "metadata": {
    "execution": {
     "iopub.execute_input": "2024-02-20T15:56:14.614719Z",
     "iopub.status.busy": "2024-02-20T15:56:14.614528Z",
     "iopub.status.idle": "2024-02-20T15:56:14.653421Z",
     "shell.execute_reply": "2024-02-20T15:56:14.652704Z"
    }
   },
   "outputs": [],
   "source": [
    "fnx = fhx.diff(t)\n",
    "dfdq1 = fnx.diff(q1)\n",
    "dfdq2 = fnx.diff(q2)\n",
    "dfdq3 = fnx.diff(q3)"
   ]
  },
  {
   "cell_type": "code",
   "execution_count": 11,
   "id": "3cf9e57a",
   "metadata": {
    "execution": {
     "iopub.execute_input": "2024-02-20T15:56:14.656152Z",
     "iopub.status.busy": "2024-02-20T15:56:14.655935Z",
     "iopub.status.idle": "2024-02-20T15:56:14.688167Z",
     "shell.execute_reply": "2024-02-20T15:56:14.687557Z"
    }
   },
   "outputs": [
    {
     "data": {
      "text/latex": [
       "$\\displaystyle 0$"
      ],
      "text/plain": [
       "0"
      ]
     },
     "execution_count": 11,
     "metadata": {},
     "output_type": "execute_result"
    }
   ],
   "source": [
    "dfdq1.diff(q2) -  dfdq2.diff(q1)"
   ]
  },
  {
   "cell_type": "code",
   "execution_count": 12,
   "id": "850641c9",
   "metadata": {
    "execution": {
     "iopub.execute_input": "2024-02-20T15:56:14.690367Z",
     "iopub.status.busy": "2024-02-20T15:56:14.690155Z",
     "iopub.status.idle": "2024-02-20T15:56:14.709770Z",
     "shell.execute_reply": "2024-02-20T15:56:14.709119Z"
    }
   },
   "outputs": [
    {
     "data": {
      "text/latex": [
       "$\\displaystyle 0$"
      ],
      "text/plain": [
       "0"
      ]
     },
     "execution_count": 12,
     "metadata": {},
     "output_type": "execute_result"
    }
   ],
   "source": [
    "dfdq2.diff(q3) - dfdq3.diff(q2)"
   ]
  },
  {
   "cell_type": "code",
   "execution_count": 13,
   "id": "201a163a",
   "metadata": {
    "execution": {
     "iopub.execute_input": "2024-02-20T15:56:14.711895Z",
     "iopub.status.busy": "2024-02-20T15:56:14.711693Z",
     "iopub.status.idle": "2024-02-20T15:56:14.731200Z",
     "shell.execute_reply": "2024-02-20T15:56:14.730674Z"
    }
   },
   "outputs": [
    {
     "data": {
      "text/latex": [
       "$\\displaystyle 0$"
      ],
      "text/plain": [
       "0"
      ]
     },
     "execution_count": 13,
     "metadata": {},
     "output_type": "execute_result"
    }
   ],
   "source": [
    "dfdq3.diff(q1) - dfdq1.diff(q3)"
   ]
  },
  {
   "cell_type": "code",
   "execution_count": 14,
   "id": "bf20175e",
   "metadata": {
    "execution": {
     "iopub.execute_input": "2024-02-20T15:56:14.733250Z",
     "iopub.status.busy": "2024-02-20T15:56:14.733061Z",
     "iopub.status.idle": "2024-02-20T15:56:15.266766Z",
     "shell.execute_reply": "2024-02-20T15:56:15.266224Z"
    }
   },
   "outputs": [
    {
     "data": {
      "text/latex": [
       "$\\displaystyle (- \\sin{\\left(q_{3} \\right)} \\cos{\\left(q_{2} \\right)} \\dot{q}_{1} + \\cos{\\left(q_{3} \\right)} \\dot{q}_{2})\\hat{b}_x + (\\sin{\\left(q_{2} \\right)} \\dot{q}_{1} + \\dot{q}_{3})\\hat{b}_y + (\\sin{\\left(q_{3} \\right)} \\dot{q}_{2} + \\cos{\\left(q_{2} \\right)} \\cos{\\left(q_{3} \\right)} \\dot{q}_{1})\\hat{b}_z$"
      ],
      "text/plain": [
       "(-sin(q₃)⋅cos(q₂)⋅q₁̇ + cos(q₃)⋅q₂̇) b_x + (sin(q₂)⋅q₁̇ + q₃̇) b_y + (sin(q₃)⋅\n",
       "q₂̇ + cos(q₂)⋅cos(q₃)⋅q₁̇) b_z"
      ]
     },
     "execution_count": 14,
     "metadata": {},
     "output_type": "execute_result"
    }
   ],
   "source": [
    "q1, q2, q3 = me.dynamicsymbols('q1, q2, q3')\n",
    "\n",
    "A = me.ReferenceFrame('A')\n",
    "B = me.ReferenceFrame('B')\n",
    "\n",
    "B.orient_body_fixed(A, (q1, q2, q3), 'ZXY')\n",
    "\n",
    "A_w_B = B.ang_vel_in(A).simplify()\n",
    "A_w_B"
   ]
  },
  {
   "cell_type": "code",
   "execution_count": 15,
   "id": "65484fa4",
   "metadata": {
    "execution": {
     "iopub.execute_input": "2024-02-20T15:56:15.268872Z",
     "iopub.status.busy": "2024-02-20T15:56:15.268667Z",
     "iopub.status.idle": "2024-02-20T15:56:15.280959Z",
     "shell.execute_reply": "2024-02-20T15:56:15.280434Z"
    }
   },
   "outputs": [
    {
     "data": {
      "text/latex": [
       "$\\displaystyle (- u_{1} \\sin{\\left(q_{3} \\right)} \\cos{\\left(q_{2} \\right)} + u_{2} \\cos{\\left(q_{3} \\right)})\\hat{b}_x + (u_{1} \\sin{\\left(q_{2} \\right)} + u_{3})\\hat{b}_y + (u_{1} \\cos{\\left(q_{2} \\right)} \\cos{\\left(q_{3} \\right)} + u_{2} \\sin{\\left(q_{3} \\right)})\\hat{b}_z$"
      ],
      "text/plain": [
       "(-u₁⋅sin(q₃)⋅cos(q₂) + u₂⋅cos(q₃)) b_x + (u₁⋅sin(q₂) + u₃) b_y + (u₁⋅cos(q₂)⋅c\n",
       "os(q₃) + u₂⋅sin(q₃)) b_z"
      ]
     },
     "execution_count": 15,
     "metadata": {},
     "output_type": "execute_result"
    }
   ],
   "source": [
    "u1, u2, u3 = me.dynamicsymbols('u1, u2, u3')\n",
    "\n",
    "t = me.dynamicsymbols._t\n",
    "qdot = sm.Matrix([q1.diff(t), q2.diff(t), q3.diff(t)])\n",
    "u = sm.Matrix([u1, u2, u3])\n",
    "\n",
    "A_w_B = A_w_B.xreplace(dict(zip(qdot, u)))\n",
    "A_w_B"
   ]
  },
  {
   "cell_type": "code",
   "execution_count": 16,
   "id": "d9d604cd",
   "metadata": {
    "execution": {
     "iopub.execute_input": "2024-02-20T15:56:15.282968Z",
     "iopub.status.busy": "2024-02-20T15:56:15.282774Z",
     "iopub.status.idle": "2024-02-20T15:56:15.288476Z",
     "shell.execute_reply": "2024-02-20T15:56:15.287941Z"
    }
   },
   "outputs": [
    {
     "data": {
      "text/latex": [
       "$\\displaystyle \\left[\\begin{matrix}\\dot{q}_{1}\\\\\\dot{q}_{2}\\\\\\dot{q}_{3}\\end{matrix}\\right]$"
      ],
      "text/plain": [
       "⎡q₁̇⎤\n",
       "⎢  ⎥\n",
       "⎢q₂̇⎥\n",
       "⎢  ⎥\n",
       "⎣q₃̇⎦"
      ]
     },
     "execution_count": 16,
     "metadata": {},
     "output_type": "execute_result"
    }
   ],
   "source": [
    "Yk_plus_zk = qdot\n",
    "Yk_plus_zk"
   ]
  },
  {
   "cell_type": "code",
   "execution_count": 17,
   "id": "162f5118",
   "metadata": {
    "execution": {
     "iopub.execute_input": "2024-02-20T15:56:15.290760Z",
     "iopub.status.busy": "2024-02-20T15:56:15.290303Z",
     "iopub.status.idle": "2024-02-20T15:56:15.302673Z",
     "shell.execute_reply": "2024-02-20T15:56:15.302149Z"
    }
   },
   "outputs": [
    {
     "data": {
      "text/latex": [
       "$\\displaystyle \\left[\\begin{matrix}1 & 0 & 0\\\\0 & 1 & 0\\\\0 & 0 & 1\\end{matrix}\\right]$"
      ],
      "text/plain": [
       "⎡1  0  0⎤\n",
       "⎢       ⎥\n",
       "⎢0  1  0⎥\n",
       "⎢       ⎥\n",
       "⎣0  0  1⎦"
      ]
     },
     "execution_count": 17,
     "metadata": {},
     "output_type": "execute_result"
    }
   ],
   "source": [
    "Yk = Yk_plus_zk.jacobian(qdot)\n",
    "Yk"
   ]
  },
  {
   "cell_type": "code",
   "execution_count": 18,
   "id": "1effe76c",
   "metadata": {
    "execution": {
     "iopub.execute_input": "2024-02-20T15:56:15.304795Z",
     "iopub.status.busy": "2024-02-20T15:56:15.304608Z",
     "iopub.status.idle": "2024-02-20T15:56:15.310097Z",
     "shell.execute_reply": "2024-02-20T15:56:15.309509Z"
    }
   },
   "outputs": [
    {
     "data": {
      "text/latex": [
       "$\\displaystyle \\left\\{ \\dot{q}_{1} : 0, \\  \\dot{q}_{2} : 0, \\  \\dot{q}_{3} : 0\\right\\}$"
      ],
      "text/plain": [
       "{q₁̇: 0, q₂̇: 0, q₃̇: 0}"
      ]
     },
     "execution_count": 18,
     "metadata": {},
     "output_type": "execute_result"
    }
   ],
   "source": [
    "qd_zero_repl = dict(zip(qdot, sm.zeros(3, 1)))\n",
    "qd_zero_repl"
   ]
  },
  {
   "cell_type": "code",
   "execution_count": 19,
   "id": "241b6361",
   "metadata": {
    "execution": {
     "iopub.execute_input": "2024-02-20T15:56:15.312505Z",
     "iopub.status.busy": "2024-02-20T15:56:15.311976Z",
     "iopub.status.idle": "2024-02-20T15:56:15.317145Z",
     "shell.execute_reply": "2024-02-20T15:56:15.316493Z"
    }
   },
   "outputs": [
    {
     "data": {
      "text/latex": [
       "$\\displaystyle \\left[\\begin{matrix}0\\\\0\\\\0\\end{matrix}\\right]$"
      ],
      "text/plain": [
       "⎡0⎤\n",
       "⎢ ⎥\n",
       "⎢0⎥\n",
       "⎢ ⎥\n",
       "⎣0⎦"
      ]
     },
     "execution_count": 19,
     "metadata": {},
     "output_type": "execute_result"
    }
   ],
   "source": [
    "zk = Yk_plus_zk.xreplace(qd_zero_repl)\n",
    "zk"
   ]
  },
  {
   "cell_type": "code",
   "execution_count": 20,
   "id": "c2a60b57",
   "metadata": {
    "execution": {
     "iopub.execute_input": "2024-02-20T15:56:15.319264Z",
     "iopub.status.busy": "2024-02-20T15:56:15.319057Z",
     "iopub.status.idle": "2024-02-20T15:56:15.337354Z",
     "shell.execute_reply": "2024-02-20T15:56:15.336753Z"
    }
   },
   "outputs": [
    {
     "data": {
      "text/latex": [
       "$\\displaystyle \\left[\\begin{matrix}\\dot{q}_{1}\\\\\\dot{q}_{2}\\\\\\dot{q}_{3}\\end{matrix}\\right] = \\left[\\begin{matrix}u_{1}\\\\u_{2}\\\\u_{3}\\end{matrix}\\right]$"
      ],
      "text/plain": [
       "⎡q₁̇⎤   ⎡u₁⎤\n",
       "⎢  ⎥   ⎢  ⎥\n",
       "⎢q₂̇⎥ = ⎢u₂⎥\n",
       "⎢  ⎥   ⎢  ⎥\n",
       "⎣q₃̇⎦   ⎣u₃⎦"
      ]
     },
     "execution_count": 20,
     "metadata": {},
     "output_type": "execute_result"
    }
   ],
   "source": [
    "sm.Eq(qdot, Yk.LUsolve(u - zk))"
   ]
  },
  {
   "cell_type": "code",
   "execution_count": 21,
   "id": "df96dced",
   "metadata": {
    "execution": {
     "iopub.execute_input": "2024-02-20T15:56:15.339403Z",
     "iopub.status.busy": "2024-02-20T15:56:15.339192Z",
     "iopub.status.idle": "2024-02-20T15:56:15.493111Z",
     "shell.execute_reply": "2024-02-20T15:56:15.492415Z"
    }
   },
   "outputs": [
    {
     "data": {
      "text/latex": [
       "$\\displaystyle (- \\sin{\\left(q_{3} \\right)} \\cos{\\left(q_{2} \\right)} \\dot{q}_{1} + \\cos{\\left(q_{3} \\right)} \\dot{q}_{2})\\hat{b}_x + (\\sin{\\left(q_{2} \\right)} \\dot{q}_{1} + \\dot{q}_{3})\\hat{b}_y + (\\sin{\\left(q_{3} \\right)} \\dot{q}_{2} + \\cos{\\left(q_{2} \\right)} \\cos{\\left(q_{3} \\right)} \\dot{q}_{1})\\hat{b}_z$"
      ],
      "text/plain": [
       "(-sin(q₃)⋅cos(q₂)⋅q₁̇ + cos(q₃)⋅q₂̇) b_x + (sin(q₂)⋅q₁̇ + q₃̇) b_y + (sin(q₃)⋅\n",
       "q₂̇ + cos(q₂)⋅cos(q₃)⋅q₁̇) b_z"
      ]
     },
     "execution_count": 21,
     "metadata": {},
     "output_type": "execute_result"
    }
   ],
   "source": [
    "A_w_B = B.ang_vel_in(A).simplify()\n",
    "A_w_B"
   ]
  },
  {
   "cell_type": "code",
   "execution_count": 22,
   "id": "4ffb32b6",
   "metadata": {
    "execution": {
     "iopub.execute_input": "2024-02-20T15:56:15.495835Z",
     "iopub.status.busy": "2024-02-20T15:56:15.495383Z",
     "iopub.status.idle": "2024-02-20T15:56:15.507201Z",
     "shell.execute_reply": "2024-02-20T15:56:15.506677Z"
    }
   },
   "outputs": [
    {
     "data": {
      "text/latex": [
       "$\\displaystyle \\left[\\begin{matrix}- \\sin{\\left(q_{3} \\right)} \\cos{\\left(q_{2} \\right)} \\dot{q}_{1} + \\cos{\\left(q_{3} \\right)} \\dot{q}_{2}\\\\\\sin{\\left(q_{2} \\right)} \\dot{q}_{1} + \\dot{q}_{3}\\\\\\sin{\\left(q_{3} \\right)} \\dot{q}_{2} + \\cos{\\left(q_{2} \\right)} \\cos{\\left(q_{3} \\right)} \\dot{q}_{1}\\end{matrix}\\right]$"
      ],
      "text/plain": [
       "⎡-sin(q₃)⋅cos(q₂)⋅q₁̇ + cos(q₃)⋅q₂̇⎤\n",
       "⎢                                ⎥\n",
       "⎢        sin(q₂)⋅q₁̇ + q₃̇         ⎥\n",
       "⎢                                ⎥\n",
       "⎣sin(q₃)⋅q₂̇ + cos(q₂)⋅cos(q₃)⋅q₁̇ ⎦"
      ]
     },
     "execution_count": 22,
     "metadata": {},
     "output_type": "execute_result"
    }
   ],
   "source": [
    "u1_expr = A_w_B.dot(B.x)\n",
    "u2_expr = A_w_B.dot(B.y)\n",
    "u3_expr = A_w_B.dot(B.z)\n",
    "\n",
    "Yk_plus_zk = sm.Matrix([u1_expr, u2_expr, u3_expr])\n",
    "Yk_plus_zk"
   ]
  },
  {
   "cell_type": "code",
   "execution_count": 23,
   "id": "1cf7e3f0",
   "metadata": {
    "execution": {
     "iopub.execute_input": "2024-02-20T15:56:15.509451Z",
     "iopub.status.busy": "2024-02-20T15:56:15.509055Z",
     "iopub.status.idle": "2024-02-20T15:56:15.523203Z",
     "shell.execute_reply": "2024-02-20T15:56:15.522683Z"
    }
   },
   "outputs": [
    {
     "data": {
      "text/latex": [
       "$\\displaystyle \\left[\\begin{matrix}- \\sin{\\left(q_{3} \\right)} \\cos{\\left(q_{2} \\right)} & \\cos{\\left(q_{3} \\right)} & 0\\\\\\sin{\\left(q_{2} \\right)} & 0 & 1\\\\\\cos{\\left(q_{2} \\right)} \\cos{\\left(q_{3} \\right)} & \\sin{\\left(q_{3} \\right)} & 0\\end{matrix}\\right]$"
      ],
      "text/plain": [
       "⎡-sin(q₃)⋅cos(q₂)  cos(q₃)  0⎤\n",
       "⎢                            ⎥\n",
       "⎢    sin(q₂)          0     1⎥\n",
       "⎢                            ⎥\n",
       "⎣cos(q₂)⋅cos(q₃)   sin(q₃)  0⎦"
      ]
     },
     "execution_count": 23,
     "metadata": {},
     "output_type": "execute_result"
    }
   ],
   "source": [
    "Yk = Yk_plus_zk.jacobian(qdot)\n",
    "Yk"
   ]
  },
  {
   "cell_type": "code",
   "execution_count": 24,
   "id": "b2895d6c",
   "metadata": {
    "execution": {
     "iopub.execute_input": "2024-02-20T15:56:15.525371Z",
     "iopub.status.busy": "2024-02-20T15:56:15.525042Z",
     "iopub.status.idle": "2024-02-20T15:56:15.530162Z",
     "shell.execute_reply": "2024-02-20T15:56:15.529554Z"
    }
   },
   "outputs": [
    {
     "data": {
      "text/latex": [
       "$\\displaystyle \\left[\\begin{matrix}0\\\\0\\\\0\\end{matrix}\\right]$"
      ],
      "text/plain": [
       "⎡0⎤\n",
       "⎢ ⎥\n",
       "⎢0⎥\n",
       "⎢ ⎥\n",
       "⎣0⎦"
      ]
     },
     "execution_count": 24,
     "metadata": {},
     "output_type": "execute_result"
    }
   ],
   "source": [
    "zk = Yk_plus_zk.xreplace(qd_zero_repl)\n",
    "zk"
   ]
  },
  {
   "cell_type": "code",
   "execution_count": 25,
   "id": "ea8eec40",
   "metadata": {
    "execution": {
     "iopub.execute_input": "2024-02-20T15:56:15.532740Z",
     "iopub.status.busy": "2024-02-20T15:56:15.531992Z",
     "iopub.status.idle": "2024-02-20T15:56:17.264929Z",
     "shell.execute_reply": "2024-02-20T15:56:17.264293Z"
    }
   },
   "outputs": [
    {
     "data": {
      "text/latex": [
       "$\\displaystyle \\left[\\begin{matrix}\\dot{q}_{1}\\\\\\dot{q}_{2}\\\\\\dot{q}_{3}\\end{matrix}\\right] = \\left[\\begin{matrix}- \\frac{u_{1} \\sin{\\left(q_{3} \\right)} - u_{3} \\cos{\\left(q_{3} \\right)}}{\\cos{\\left(q_{2} \\right)}}\\\\\\frac{u_{1} \\cos{\\left(2 q_{3} \\right)} + u_{1} + u_{3} \\sin{\\left(2 q_{3} \\right)}}{2 \\cos{\\left(q_{3} \\right)}}\\\\u_{1} \\sin{\\left(q_{3} \\right)} \\tan{\\left(q_{2} \\right)} + u_{2} - u_{3} \\cos{\\left(q_{3} \\right)} \\tan{\\left(q_{2} \\right)}\\end{matrix}\\right]$"
      ],
      "text/plain": [
       "       ⎡        -(u₁⋅sin(q₃) - u₃⋅cos(q₃))          ⎤\n",
       "       ⎢        ───────────────────────────         ⎥\n",
       "⎡q₁̇⎤   ⎢                  cos(q₂)                   ⎥\n",
       "⎢  ⎥   ⎢                                            ⎥\n",
       "⎢q₂̇⎥ = ⎢      u₁⋅cos(2⋅q₃) + u₁ + u₃⋅sin(2⋅q₃)      ⎥\n",
       "⎢  ⎥   ⎢      ────────────────────────────────      ⎥\n",
       "⎣q₃̇⎦   ⎢                 2⋅cos(q₃)                  ⎥\n",
       "       ⎢                                            ⎥\n",
       "       ⎣u₁⋅sin(q₃)⋅tan(q₂) + u₂ - u₃⋅cos(q₃)⋅tan(q₂)⎦"
      ]
     },
     "execution_count": 25,
     "metadata": {},
     "output_type": "execute_result"
    }
   ],
   "source": [
    "sm.Eq(qdot, sm.trigsimp(Yk.LUsolve(u - zk)))"
   ]
  },
  {
   "cell_type": "code",
   "execution_count": 26,
   "id": "35f9c629",
   "metadata": {
    "execution": {
     "iopub.execute_input": "2024-02-20T15:56:17.267449Z",
     "iopub.status.busy": "2024-02-20T15:56:17.267043Z",
     "iopub.status.idle": "2024-02-20T15:56:18.380436Z",
     "shell.execute_reply": "2024-02-20T15:56:18.379900Z"
    }
   },
   "outputs": [
    {
     "data": {
      "text/latex": [
       "$\\displaystyle (- \\sin{\\left(q_{1} \\right)} \\cos{\\left(q_{2} \\right)} \\dot{q}_{3} + \\cos{\\left(q_{1} \\right)} \\dot{q}_{2})\\hat{a}_x + (\\sin{\\left(q_{1} \\right)} \\dot{q}_{2} + \\cos{\\left(q_{1} \\right)} \\cos{\\left(q_{2} \\right)} \\dot{q}_{3})\\hat{a}_y + (\\sin{\\left(q_{2} \\right)} \\dot{q}_{3} + \\dot{q}_{1})\\hat{a}_z$"
      ],
      "text/plain": [
       "(-sin(q₁)⋅cos(q₂)⋅q₃̇ + cos(q₁)⋅q₂̇) a_x + (sin(q₁)⋅q₂̇ + cos(q₁)⋅cos(q₂)⋅q₃̇)\n",
       " a_y + (sin(q₂)⋅q₃̇ + q₁̇) a_z"
      ]
     },
     "execution_count": 26,
     "metadata": {},
     "output_type": "execute_result"
    }
   ],
   "source": [
    "A_w_B = B.ang_vel_in(A).express(A).simplify()\n",
    "A_w_B"
   ]
  },
  {
   "cell_type": "code",
   "execution_count": 27,
   "id": "4c08c280",
   "metadata": {
    "execution": {
     "iopub.execute_input": "2024-02-20T15:56:18.382738Z",
     "iopub.status.busy": "2024-02-20T15:56:18.382331Z",
     "iopub.status.idle": "2024-02-20T15:56:18.397179Z",
     "shell.execute_reply": "2024-02-20T15:56:18.396577Z"
    }
   },
   "outputs": [
    {
     "data": {
      "text/latex": [
       "$\\displaystyle \\left[\\begin{matrix}- \\sin{\\left(q_{1} \\right)} \\cos{\\left(q_{2} \\right)} \\dot{q}_{3} + \\cos{\\left(q_{1} \\right)} \\dot{q}_{2}\\\\\\sin{\\left(q_{1} \\right)} \\dot{q}_{2} + \\cos{\\left(q_{1} \\right)} \\cos{\\left(q_{2} \\right)} \\dot{q}_{3}\\\\\\sin{\\left(q_{2} \\right)} \\dot{q}_{3} + \\dot{q}_{1}\\end{matrix}\\right]$"
      ],
      "text/plain": [
       "⎡-sin(q₁)⋅cos(q₂)⋅q₃̇ + cos(q₁)⋅q₂̇⎤\n",
       "⎢                                ⎥\n",
       "⎢sin(q₁)⋅q₂̇ + cos(q₁)⋅cos(q₂)⋅q₃̇ ⎥\n",
       "⎢                                ⎥\n",
       "⎣        sin(q₂)⋅q₃̇ + q₁̇         ⎦"
      ]
     },
     "execution_count": 27,
     "metadata": {},
     "output_type": "execute_result"
    }
   ],
   "source": [
    "u1_expr = A_w_B.dot(A.x)\n",
    "u2_expr = A_w_B.dot(A.y)\n",
    "u3_expr = A_w_B.dot(A.z)\n",
    "\n",
    "Yk_plus_zk = sm.Matrix([u1_expr, u2_expr, u3_expr])\n",
    "Yk_plus_zk"
   ]
  },
  {
   "cell_type": "code",
   "execution_count": 28,
   "id": "cf224295",
   "metadata": {
    "execution": {
     "iopub.execute_input": "2024-02-20T15:56:18.399309Z",
     "iopub.status.busy": "2024-02-20T15:56:18.398966Z",
     "iopub.status.idle": "2024-02-20T15:56:18.412817Z",
     "shell.execute_reply": "2024-02-20T15:56:18.412232Z"
    }
   },
   "outputs": [
    {
     "data": {
      "text/latex": [
       "$\\displaystyle \\left[\\begin{matrix}0 & \\cos{\\left(q_{1} \\right)} & - \\sin{\\left(q_{1} \\right)} \\cos{\\left(q_{2} \\right)}\\\\0 & \\sin{\\left(q_{1} \\right)} & \\cos{\\left(q_{1} \\right)} \\cos{\\left(q_{2} \\right)}\\\\1 & 0 & \\sin{\\left(q_{2} \\right)}\\end{matrix}\\right]$"
      ],
      "text/plain": [
       "⎡0  cos(q₁)  -sin(q₁)⋅cos(q₂)⎤\n",
       "⎢                            ⎥\n",
       "⎢0  sin(q₁)  cos(q₁)⋅cos(q₂) ⎥\n",
       "⎢                            ⎥\n",
       "⎣1     0         sin(q₂)     ⎦"
      ]
     },
     "execution_count": 28,
     "metadata": {},
     "output_type": "execute_result"
    }
   ],
   "source": [
    "Yk = Yk_plus_zk.jacobian(qdot)\n",
    "Yk"
   ]
  },
  {
   "cell_type": "code",
   "execution_count": 29,
   "id": "457018a6",
   "metadata": {
    "execution": {
     "iopub.execute_input": "2024-02-20T15:56:18.414884Z",
     "iopub.status.busy": "2024-02-20T15:56:18.414550Z",
     "iopub.status.idle": "2024-02-20T15:56:18.419092Z",
     "shell.execute_reply": "2024-02-20T15:56:18.418606Z"
    }
   },
   "outputs": [
    {
     "data": {
      "text/latex": [
       "$\\displaystyle \\left[\\begin{matrix}0\\\\0\\\\0\\end{matrix}\\right]$"
      ],
      "text/plain": [
       "⎡0⎤\n",
       "⎢ ⎥\n",
       "⎢0⎥\n",
       "⎢ ⎥\n",
       "⎣0⎦"
      ]
     },
     "execution_count": 29,
     "metadata": {},
     "output_type": "execute_result"
    }
   ],
   "source": [
    "zk = Yk_plus_zk.xreplace(qd_zero_repl)\n",
    "zk"
   ]
  },
  {
   "cell_type": "code",
   "execution_count": 30,
   "id": "b26823f7",
   "metadata": {
    "execution": {
     "iopub.execute_input": "2024-02-20T15:56:18.421109Z",
     "iopub.status.busy": "2024-02-20T15:56:18.420751Z",
     "iopub.status.idle": "2024-02-20T15:56:18.819414Z",
     "shell.execute_reply": "2024-02-20T15:56:18.818842Z"
    }
   },
   "outputs": [
    {
     "data": {
      "text/latex": [
       "$\\displaystyle \\left[\\begin{matrix}\\dot{q}_{1}\\\\\\dot{q}_{2}\\\\\\dot{q}_{3}\\end{matrix}\\right] = \\left[\\begin{matrix}\\left(u_{1} \\sin{\\left(q_{1} \\right)} - u_{2} \\cos{\\left(q_{1} \\right)}\\right) \\tan{\\left(q_{2} \\right)} + u_{3}\\\\u_{1} \\cos{\\left(q_{1} \\right)} + u_{2} \\sin{\\left(q_{1} \\right)}\\\\- \\frac{u_{1} \\sin{\\left(q_{1} \\right)} - u_{2} \\cos{\\left(q_{1} \\right)}}{\\cos{\\left(q_{2} \\right)}}\\end{matrix}\\right]$"
      ],
      "text/plain": [
       "       ⎡(u₁⋅sin(q₁) - u₂⋅cos(q₁))⋅tan(q₂) + u₃⎤\n",
       "⎡q₁̇⎤   ⎢                                      ⎥\n",
       "⎢  ⎥   ⎢       u₁⋅cos(q₁) + u₂⋅sin(q₁)        ⎥\n",
       "⎢q₂̇⎥ = ⎢                                      ⎥\n",
       "⎢  ⎥   ⎢     -(u₁⋅sin(q₁) - u₂⋅cos(q₁))       ⎥\n",
       "⎣q₃̇⎦   ⎢     ───────────────────────────      ⎥\n",
       "       ⎣               cos(q₂)                ⎦"
      ]
     },
     "execution_count": 30,
     "metadata": {},
     "output_type": "execute_result"
    }
   ],
   "source": [
    "sm.Eq(qdot, sm.trigsimp(Yk.LUsolve(u - zk)))"
   ]
  },
  {
   "cell_type": "code",
   "execution_count": 31,
   "id": "c392b8ab",
   "metadata": {
    "execution": {
     "iopub.execute_input": "2024-02-20T15:56:18.821516Z",
     "iopub.status.busy": "2024-02-20T15:56:18.821329Z",
     "iopub.status.idle": "2024-02-20T15:56:18.824712Z",
     "shell.execute_reply": "2024-02-20T15:56:18.824202Z"
    }
   },
   "outputs": [],
   "source": [
    "q1, q2, q3, q4, q5 = me.dynamicsymbols('q1, q2, q3, q4, q5')\n",
    "l = sm.symbols('l')"
   ]
  },
  {
   "cell_type": "code",
   "execution_count": 32,
   "id": "3dd1ca00",
   "metadata": {
    "execution": {
     "iopub.execute_input": "2024-02-20T15:56:18.826492Z",
     "iopub.status.busy": "2024-02-20T15:56:18.826323Z",
     "iopub.status.idle": "2024-02-20T15:56:18.838264Z",
     "shell.execute_reply": "2024-02-20T15:56:18.837668Z"
    }
   },
   "outputs": [],
   "source": [
    "N = me.ReferenceFrame('N')\n",
    "A = me.ReferenceFrame('A')\n",
    "B = me.ReferenceFrame('B')\n",
    "C = me.ReferenceFrame('C')\n",
    "\n",
    "A.orient_axis(N, q3, N.z)\n",
    "B.orient_axis(A, q4, A.z)\n",
    "C.orient_axis(A, q5, A.z)"
   ]
  },
  {
   "cell_type": "code",
   "execution_count": 33,
   "id": "6a728e7d",
   "metadata": {
    "execution": {
     "iopub.execute_input": "2024-02-20T15:56:18.840312Z",
     "iopub.status.busy": "2024-02-20T15:56:18.839950Z",
     "iopub.status.idle": "2024-02-20T15:56:18.844498Z",
     "shell.execute_reply": "2024-02-20T15:56:18.843901Z"
    }
   },
   "outputs": [
    {
     "data": {
      "text/latex": [
       "$\\displaystyle \\dot{q}_{3}\\hat{n}_z$"
      ],
      "text/plain": [
       "q₃̇ n_z"
      ]
     },
     "execution_count": 33,
     "metadata": {},
     "output_type": "execute_result"
    }
   ],
   "source": [
    "A.ang_vel_in(N)"
   ]
  },
  {
   "cell_type": "code",
   "execution_count": 34,
   "id": "78d0bc5b",
   "metadata": {
    "execution": {
     "iopub.execute_input": "2024-02-20T15:56:18.846526Z",
     "iopub.status.busy": "2024-02-20T15:56:18.846177Z",
     "iopub.status.idle": "2024-02-20T15:56:18.851175Z",
     "shell.execute_reply": "2024-02-20T15:56:18.850706Z"
    }
   },
   "outputs": [
    {
     "data": {
      "text/latex": [
       "$\\displaystyle \\dot{q}_{4}\\hat{a}_z + \\dot{q}_{3}\\hat{n}_z$"
      ],
      "text/plain": [
       "q₄̇ a_z + q₃̇ n_z"
      ]
     },
     "execution_count": 34,
     "metadata": {},
     "output_type": "execute_result"
    }
   ],
   "source": [
    "B.ang_vel_in(N)"
   ]
  },
  {
   "cell_type": "code",
   "execution_count": 35,
   "id": "71391db5",
   "metadata": {
    "execution": {
     "iopub.execute_input": "2024-02-20T15:56:18.853276Z",
     "iopub.status.busy": "2024-02-20T15:56:18.852821Z",
     "iopub.status.idle": "2024-02-20T15:56:18.857665Z",
     "shell.execute_reply": "2024-02-20T15:56:18.857102Z"
    }
   },
   "outputs": [
    {
     "data": {
      "text/latex": [
       "$\\displaystyle \\dot{q}_{5}\\hat{a}_z + \\dot{q}_{3}\\hat{n}_z$"
      ],
      "text/plain": [
       "q₅̇ a_z + q₃̇ n_z"
      ]
     },
     "execution_count": 35,
     "metadata": {},
     "output_type": "execute_result"
    }
   ],
   "source": [
    "C.ang_vel_in(N)"
   ]
  },
  {
   "cell_type": "code",
   "execution_count": 36,
   "id": "b8f15ced",
   "metadata": {
    "execution": {
     "iopub.execute_input": "2024-02-20T15:56:18.859795Z",
     "iopub.status.busy": "2024-02-20T15:56:18.859461Z",
     "iopub.status.idle": "2024-02-20T15:56:18.864316Z",
     "shell.execute_reply": "2024-02-20T15:56:18.863833Z"
    }
   },
   "outputs": [],
   "source": [
    "O = me.Point('O')\n",
    "Ao = me.Point('A_o')\n",
    "Bo = me.Point('B_o')\n",
    "Co = me.Point('C_o')\n",
    "\n",
    "Ao.set_pos(O, q1*N.x + q2*N.y)\n",
    "Bo.set_pos(Ao, l/2*A.x)\n",
    "Co.set_pos(Ao, -l/2*A.x)"
   ]
  },
  {
   "cell_type": "code",
   "execution_count": 37,
   "id": "ff1d16ce",
   "metadata": {
    "execution": {
     "iopub.execute_input": "2024-02-20T15:56:18.866179Z",
     "iopub.status.busy": "2024-02-20T15:56:18.865994Z",
     "iopub.status.idle": "2024-02-20T15:56:18.873195Z",
     "shell.execute_reply": "2024-02-20T15:56:18.872698Z"
    }
   },
   "outputs": [
    {
     "data": {
      "text/latex": [
       "$\\displaystyle \\dot{q}_{1}\\hat{n}_x + \\dot{q}_{2}\\hat{n}_y$"
      ],
      "text/plain": [
       "q₁̇ n_x + q₂̇ n_y"
      ]
     },
     "execution_count": 37,
     "metadata": {},
     "output_type": "execute_result"
    }
   ],
   "source": [
    "O.set_vel(N, 0)\n",
    "Ao.vel(N)"
   ]
  },
  {
   "cell_type": "code",
   "execution_count": 38,
   "id": "705b3698",
   "metadata": {
    "execution": {
     "iopub.execute_input": "2024-02-20T15:56:18.875340Z",
     "iopub.status.busy": "2024-02-20T15:56:18.874965Z",
     "iopub.status.idle": "2024-02-20T15:56:18.883129Z",
     "shell.execute_reply": "2024-02-20T15:56:18.882533Z"
    }
   },
   "outputs": [
    {
     "data": {
      "text/latex": [
       "$\\displaystyle \\dot{q}_{1}\\hat{n}_x + \\dot{q}_{2}\\hat{n}_y + \\frac{l \\dot{q}_{3}}{2}\\hat{a}_y$"
      ],
      "text/plain": [
       "                  l⋅q₃̇\n",
       "q₁̇ n_x + q₂̇ n_y + ──── a_y\n",
       "                   2"
      ]
     },
     "execution_count": 38,
     "metadata": {},
     "output_type": "execute_result"
    }
   ],
   "source": [
    "Bo.v2pt_theory(Ao, N, A)"
   ]
  },
  {
   "cell_type": "code",
   "execution_count": 39,
   "id": "082ba391",
   "metadata": {
    "execution": {
     "iopub.execute_input": "2024-02-20T15:56:18.885323Z",
     "iopub.status.busy": "2024-02-20T15:56:18.884982Z",
     "iopub.status.idle": "2024-02-20T15:56:18.892072Z",
     "shell.execute_reply": "2024-02-20T15:56:18.891556Z"
    }
   },
   "outputs": [
    {
     "data": {
      "text/latex": [
       "$\\displaystyle \\dot{q}_{1}\\hat{n}_x + \\dot{q}_{2}\\hat{n}_y -  \\frac{l \\dot{q}_{3}}{2}\\hat{a}_y$"
      ],
      "text/plain": [
       "                  -l⋅q₃̇\n",
       "q₁̇ n_x + q₂̇ n_y + ────── a_y\n",
       "                    2"
      ]
     },
     "execution_count": 39,
     "metadata": {},
     "output_type": "execute_result"
    }
   ],
   "source": [
    "Co.v2pt_theory(Ao, N, A)"
   ]
  },
  {
   "cell_type": "code",
   "execution_count": 40,
   "id": "3f613e28",
   "metadata": {
    "execution": {
     "iopub.execute_input": "2024-02-20T15:56:18.894255Z",
     "iopub.status.busy": "2024-02-20T15:56:18.893894Z",
     "iopub.status.idle": "2024-02-20T15:56:19.268747Z",
     "shell.execute_reply": "2024-02-20T15:56:19.268084Z"
    }
   },
   "outputs": [
    {
     "data": {
      "text/latex": [
       "$\\displaystyle \\left[\\begin{matrix}\\frac{l \\cos{\\left(q_{4} \\right)} \\dot{q}_{3}}{2} - \\sin{\\left(q_{3} + q_{4} \\right)} \\dot{q}_{1} + \\cos{\\left(q_{3} + q_{4} \\right)} \\dot{q}_{2}\\\\- \\frac{l \\cos{\\left(q_{5} \\right)} \\dot{q}_{3}}{2} - \\sin{\\left(q_{3} + q_{5} \\right)} \\dot{q}_{1} + \\cos{\\left(q_{3} + q_{5} \\right)} \\dot{q}_{2}\\end{matrix}\\right]$"
      ],
      "text/plain": [
       "⎡ l⋅cos(q₄)⋅q₃̇                                     ⎤\n",
       "⎢ ──────────── - sin(q₃ + q₄)⋅q₁̇ + cos(q₃ + q₄)⋅q₂̇ ⎥\n",
       "⎢      2                                           ⎥\n",
       "⎢                                                  ⎥\n",
       "⎢  l⋅cos(q₅)⋅q₃̇                                    ⎥\n",
       "⎢- ──────────── - sin(q₃ + q₅)⋅q₁̇ + cos(q₃ + q₅)⋅q₂̇⎥\n",
       "⎣       2                                          ⎦"
      ]
     },
     "execution_count": 40,
     "metadata": {},
     "output_type": "execute_result"
    }
   ],
   "source": [
    "fn = sm.Matrix([Bo.vel(N).dot(B.y),\n",
    "                Co.vel(N).dot(C.y)])\n",
    "fn = sm.trigsimp(fn)\n",
    "fn"
   ]
  },
  {
   "cell_type": "code",
   "execution_count": 41,
   "id": "030fe3fc",
   "metadata": {
    "execution": {
     "iopub.execute_input": "2024-02-20T15:56:19.271114Z",
     "iopub.status.busy": "2024-02-20T15:56:19.270901Z",
     "iopub.status.idle": "2024-02-20T15:56:19.291944Z",
     "shell.execute_reply": "2024-02-20T15:56:19.291325Z"
    }
   },
   "outputs": [
    {
     "data": {
      "text/latex": [
       "$\\displaystyle \\left[\\begin{matrix}- u_{1} \\sin{\\left(q_{3} + q_{4} \\right)} + u_{2} \\cos{\\left(q_{3} + q_{4} \\right)} + u_{3} \\cos{\\left(q_{4} \\right)}\\\\- u_{1} \\sin{\\left(q_{3} + q_{5} \\right)} + u_{2} \\cos{\\left(q_{3} + q_{5} \\right)} - u_{3} \\cos{\\left(q_{5} \\right)}\\end{matrix}\\right]$"
      ],
      "text/plain": [
       "⎡-u₁⋅sin(q₃ + q₄) + u₂⋅cos(q₃ + q₄) + u₃⋅cos(q₄)⎤\n",
       "⎢                                               ⎥\n",
       "⎣-u₁⋅sin(q₃ + q₅) + u₂⋅cos(q₃ + q₅) - u₃⋅cos(q₅)⎦"
      ]
     },
     "execution_count": 41,
     "metadata": {},
     "output_type": "execute_result"
    }
   ],
   "source": [
    "u1, u2, u3, u4, u5 = me.dynamicsymbols('u1, u2, u3, u4, u5')\n",
    "\n",
    "u_repl = {\n",
    "    q1.diff(): u1,\n",
    "    q2.diff(): u2,\n",
    "    l*q3.diff()/2: u3,\n",
    "    q4.diff(): u4,\n",
    "    q5.diff(): u5\n",
    "}\n",
    "\n",
    "fn = fn.subs(u_repl)\n",
    "fn"
   ]
  },
  {
   "cell_type": "code",
   "execution_count": 42,
   "id": "113e1c0e",
   "metadata": {
    "execution": {
     "iopub.execute_input": "2024-02-20T15:56:19.294152Z",
     "iopub.status.busy": "2024-02-20T15:56:19.293840Z",
     "iopub.status.idle": "2024-02-20T15:56:19.297029Z",
     "shell.execute_reply": "2024-02-20T15:56:19.296406Z"
    }
   },
   "outputs": [],
   "source": [
    "us = sm.Matrix([u3, u4, u5])\n",
    "ur = sm.Matrix([u1, u2])"
   ]
  },
  {
   "cell_type": "code",
   "execution_count": 43,
   "id": "ba0211f3",
   "metadata": {
    "execution": {
     "iopub.execute_input": "2024-02-20T15:56:19.299064Z",
     "iopub.status.busy": "2024-02-20T15:56:19.298705Z",
     "iopub.status.idle": "2024-02-20T15:56:19.311759Z",
     "shell.execute_reply": "2024-02-20T15:56:19.311265Z"
    }
   },
   "outputs": [
    {
     "data": {
      "text/latex": [
       "$\\displaystyle \\left[\\begin{matrix}- \\sin{\\left(q_{3} + q_{4} \\right)} & \\cos{\\left(q_{3} + q_{4} \\right)}\\\\- \\sin{\\left(q_{3} + q_{5} \\right)} & \\cos{\\left(q_{3} + q_{5} \\right)}\\end{matrix}\\right]$"
      ],
      "text/plain": [
       "⎡-sin(q₃ + q₄)  cos(q₃ + q₄)⎤\n",
       "⎢                           ⎥\n",
       "⎣-sin(q₃ + q₅)  cos(q₃ + q₅)⎦"
      ]
     },
     "execution_count": 43,
     "metadata": {},
     "output_type": "execute_result"
    }
   ],
   "source": [
    "Ar = fn.jacobian(ur)\n",
    "Ar"
   ]
  },
  {
   "cell_type": "code",
   "execution_count": 44,
   "id": "4f19bcf2",
   "metadata": {
    "execution": {
     "iopub.execute_input": "2024-02-20T15:56:19.313618Z",
     "iopub.status.busy": "2024-02-20T15:56:19.313449Z",
     "iopub.status.idle": "2024-02-20T15:56:19.321491Z",
     "shell.execute_reply": "2024-02-20T15:56:19.320937Z"
    }
   },
   "outputs": [
    {
     "data": {
      "text/latex": [
       "$\\displaystyle \\left[\\begin{matrix}\\cos{\\left(q_{4} \\right)} & 0 & 0\\\\- \\cos{\\left(q_{5} \\right)} & 0 & 0\\end{matrix}\\right]$"
      ],
      "text/plain": [
       "⎡cos(q₄)   0  0⎤\n",
       "⎢              ⎥\n",
       "⎣-cos(q₅)  0  0⎦"
      ]
     },
     "execution_count": 44,
     "metadata": {},
     "output_type": "execute_result"
    }
   ],
   "source": [
    "As = fn.jacobian(us)\n",
    "As"
   ]
  },
  {
   "cell_type": "code",
   "execution_count": 45,
   "id": "e189bdc4",
   "metadata": {
    "execution": {
     "iopub.execute_input": "2024-02-20T15:56:19.323626Z",
     "iopub.status.busy": "2024-02-20T15:56:19.323281Z",
     "iopub.status.idle": "2024-02-20T15:56:19.328517Z",
     "shell.execute_reply": "2024-02-20T15:56:19.328016Z"
    }
   },
   "outputs": [
    {
     "data": {
      "text/latex": [
       "$\\displaystyle \\left[\\begin{matrix}0\\\\0\\end{matrix}\\right]$"
      ],
      "text/plain": [
       "⎡0⎤\n",
       "⎢ ⎥\n",
       "⎣0⎦"
      ]
     },
     "execution_count": 45,
     "metadata": {},
     "output_type": "execute_result"
    }
   ],
   "source": [
    "brs = fn.xreplace(dict(zip([u1, u2, u3, u4, u5], [0, 0, 0, 0, 0])))\n",
    "brs"
   ]
  },
  {
   "cell_type": "code",
   "execution_count": 46,
   "id": "2e326dcc",
   "metadata": {
    "execution": {
     "iopub.execute_input": "2024-02-20T15:56:19.330663Z",
     "iopub.status.busy": "2024-02-20T15:56:19.330326Z",
     "iopub.status.idle": "2024-02-20T15:56:20.140154Z",
     "shell.execute_reply": "2024-02-20T15:56:20.139594Z"
    }
   },
   "outputs": [
    {
     "data": {
      "text/latex": [
       "$\\displaystyle \\left[\\begin{matrix}\\frac{\\frac{\\cos{\\left(q_{3} - q_{4} + q_{5} \\right)}}{2} + \\frac{\\cos{\\left(q_{3} + q_{4} - q_{5} \\right)}}{2} + \\cos{\\left(q_{3} + q_{4} + q_{5} \\right)}}{\\sin{\\left(q_{4} - q_{5} \\right)}} & 0 & 0\\\\\\frac{\\frac{\\sin{\\left(q_{3} - q_{4} + q_{5} \\right)}}{2} + \\frac{\\sin{\\left(q_{3} + q_{4} - q_{5} \\right)}}{2} + \\sin{\\left(q_{3} + q_{4} + q_{5} \\right)}}{\\sin{\\left(q_{4} - q_{5} \\right)}} & 0 & 0\\end{matrix}\\right]$"
      ],
      "text/plain": [
       "⎡cos(q₃ - q₄ + q₅)   cos(q₃ + q₄ - q₅)                          ⎤\n",
       "⎢───────────────── + ───────────────── + cos(q₃ + q₄ + q₅)      ⎥\n",
       "⎢        2                   2                                  ⎥\n",
       "⎢─────────────────────────────────────────────────────────  0  0⎥\n",
       "⎢                       sin(q₄ - q₅)                            ⎥\n",
       "⎢                                                               ⎥\n",
       "⎢sin(q₃ - q₄ + q₅)   sin(q₃ + q₄ - q₅)                          ⎥\n",
       "⎢───────────────── + ───────────────── + sin(q₃ + q₄ + q₅)      ⎥\n",
       "⎢        2                   2                                  ⎥\n",
       "⎢─────────────────────────────────────────────────────────  0  0⎥\n",
       "⎣                       sin(q₄ - q₅)                            ⎦"
      ]
     },
     "execution_count": 46,
     "metadata": {},
     "output_type": "execute_result"
    }
   ],
   "source": [
    "An = Ar.LUsolve(-As)\n",
    "An = sm.simplify(An)\n",
    "An"
   ]
  },
  {
   "cell_type": "code",
   "execution_count": 47,
   "id": "dae6ac7c",
   "metadata": {
    "execution": {
     "iopub.execute_input": "2024-02-20T15:56:20.142495Z",
     "iopub.status.busy": "2024-02-20T15:56:20.142123Z",
     "iopub.status.idle": "2024-02-20T15:56:20.149337Z",
     "shell.execute_reply": "2024-02-20T15:56:20.148755Z"
    }
   },
   "outputs": [
    {
     "data": {
      "text/latex": [
       "$\\displaystyle \\left[\\begin{matrix}0\\\\0\\end{matrix}\\right]$"
      ],
      "text/plain": [
       "⎡0⎤\n",
       "⎢ ⎥\n",
       "⎣0⎦"
      ]
     },
     "execution_count": 47,
     "metadata": {},
     "output_type": "execute_result"
    }
   ],
   "source": [
    "bn = Ar.LUsolve(-brs)\n",
    "bn"
   ]
  },
  {
   "cell_type": "code",
   "execution_count": 48,
   "id": "994ad1c2",
   "metadata": {
    "execution": {
     "iopub.execute_input": "2024-02-20T15:56:20.151549Z",
     "iopub.status.busy": "2024-02-20T15:56:20.151175Z",
     "iopub.status.idle": "2024-02-20T15:56:20.171322Z",
     "shell.execute_reply": "2024-02-20T15:56:20.170768Z"
    }
   },
   "outputs": [
    {
     "data": {
      "text/latex": [
       "$\\displaystyle \\left[\\begin{matrix}u_{1}\\\\u_{2}\\end{matrix}\\right] = \\left[\\begin{matrix}\\frac{\\left(\\frac{\\cos{\\left(q_{3} - q_{4} + q_{5} \\right)}}{2} + \\frac{\\cos{\\left(q_{3} + q_{4} - q_{5} \\right)}}{2} + \\cos{\\left(q_{3} + q_{4} + q_{5} \\right)}\\right) u_{3}}{\\sin{\\left(q_{4} - q_{5} \\right)}}\\\\\\frac{\\left(\\frac{\\sin{\\left(q_{3} - q_{4} + q_{5} \\right)}}{2} + \\frac{\\sin{\\left(q_{3} + q_{4} - q_{5} \\right)}}{2} + \\sin{\\left(q_{3} + q_{4} + q_{5} \\right)}\\right) u_{3}}{\\sin{\\left(q_{4} - q_{5} \\right)}}\\end{matrix}\\right]$"
      ],
      "text/plain": [
       "       ⎡⎛cos(q₃ - q₄ + q₅)   cos(q₃ + q₄ - q₅)                    ⎞   ⎤\n",
       "       ⎢⎜───────────────── + ───────────────── + cos(q₃ + q₄ + q₅)⎟⋅u₃⎥\n",
       "       ⎢⎝        2                   2                            ⎠   ⎥\n",
       "       ⎢──────────────────────────────────────────────────────────────⎥\n",
       "⎡u₁⎤   ⎢                         sin(q₄ - q₅)                         ⎥\n",
       "⎢  ⎥ = ⎢                                                              ⎥\n",
       "⎣u₂⎦   ⎢⎛sin(q₃ - q₄ + q₅)   sin(q₃ + q₄ - q₅)                    ⎞   ⎥\n",
       "       ⎢⎜───────────────── + ───────────────── + sin(q₃ + q₄ + q₅)⎟⋅u₃⎥\n",
       "       ⎢⎝        2                   2                            ⎠   ⎥\n",
       "       ⎢──────────────────────────────────────────────────────────────⎥\n",
       "       ⎣                         sin(q₄ - q₅)                         ⎦"
      ]
     },
     "execution_count": 48,
     "metadata": {},
     "output_type": "execute_result"
    }
   ],
   "source": [
    "sm.Eq(ur, An*us + bn)"
   ]
  }
 ],
 "metadata": {
  "kernelspec": {
   "display_name": "Python 3 (ipykernel)",
   "language": "python",
   "name": "python3"
  },
  "language_info": {
   "codemirror_mode": {
    "name": "ipython",
    "version": 3
   },
   "file_extension": ".py",
   "mimetype": "text/x-python",
   "name": "python",
   "nbconvert_exporter": "python",
   "pygments_lexer": "ipython3",
   "version": "3.10.13"
  }
 },
 "nbformat": 4,
 "nbformat_minor": 5
}