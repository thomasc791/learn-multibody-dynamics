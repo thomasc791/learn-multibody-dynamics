{
 "cells": [
  {
   "cell_type": "code",
   "execution_count": 1,
   "id": "6c13bd34",
   "metadata": {
    "execution": {
     "iopub.execute_input": "2024-02-20T15:52:09.440968Z",
     "iopub.status.busy": "2024-02-20T15:52:09.440788Z",
     "iopub.status.idle": "2024-02-20T15:52:09.819460Z",
     "shell.execute_reply": "2024-02-20T15:52:09.818825Z"
    }
   },
   "outputs": [],
   "source": [
    "import sympy as sm\n",
    "import sympy.physics.mechanics as me\n",
    "sm.init_printing(use_latex='mathjax')"
   ]
  },
  {
   "cell_type": "code",
   "execution_count": 2,
   "id": "d55eae79",
   "metadata": {
    "execution": {
     "iopub.execute_input": "2024-02-20T15:52:09.822076Z",
     "iopub.status.busy": "2024-02-20T15:52:09.821818Z",
     "iopub.status.idle": "2024-02-20T15:52:09.825899Z",
     "shell.execute_reply": "2024-02-20T15:52:09.825411Z"
    }
   },
   "outputs": [],
   "source": [
    "class ReferenceFrame(me.ReferenceFrame):\n",
    "\n",
    "    def __init__(self, *args, **kwargs):\n",
    "\n",
    "        kwargs.pop('latexs', None)\n",
    "\n",
    "        lab = args[0].lower()\n",
    "        tex = r'\\hat{{{}}}_{}'\n",
    "\n",
    "        super(ReferenceFrame, self).__init__(*args,\n",
    "                                             latexs=(tex.format(lab, 'x'),\n",
    "                                                     tex.format(lab, 'y'),\n",
    "                                                     tex.format(lab, 'z')),\n",
    "                                             **kwargs)\n",
    "me.ReferenceFrame = ReferenceFrame"
   ]
  },
  {
   "cell_type": "code",
   "execution_count": 3,
   "id": "1bddd03c",
   "metadata": {
    "execution": {
     "iopub.execute_input": "2024-02-20T15:52:09.827822Z",
     "iopub.status.busy": "2024-02-20T15:52:09.827645Z",
     "iopub.status.idle": "2024-02-20T15:52:09.841583Z",
     "shell.execute_reply": "2024-02-20T15:52:09.841149Z"
    }
   },
   "outputs": [
    {
     "data": {
      "text/latex": [
       "$\\displaystyle a\\hat{a}_x + b\\hat{a}_y + c\\hat{b}_x + d\\hat{b}_y + e\\hat{c}_x + f\\hat{c}_y$"
      ],
      "text/plain": [
       "a a_x + b a_y + c b_x + d b_y + e c_x + f c_y"
      ]
     },
     "execution_count": 3,
     "metadata": {},
     "output_type": "execute_result"
    }
   ],
   "source": [
    "alpha, beta = sm.symbols('alpha, beta')\n",
    "a, b, c, d, e, f = sm.symbols('a, b, c, d, e, f')\n",
    "\n",
    "A = me.ReferenceFrame('A')\n",
    "B = me.ReferenceFrame('B')\n",
    "C = me.ReferenceFrame('C')\n",
    "\n",
    "B.orient_axis(A, alpha, A.x)\n",
    "C.orient_axis(B, beta, B.y)\n",
    "\n",
    "v = a*A.x + b*A.y + c*B.x + d*B.y + e*C.x + f*C.y\n",
    "v"
   ]
  },
  {
   "cell_type": "code",
   "execution_count": 4,
   "id": "eb4b91bb",
   "metadata": {
    "execution": {
     "iopub.execute_input": "2024-02-20T15:52:09.843466Z",
     "iopub.status.busy": "2024-02-20T15:52:09.843289Z",
     "iopub.status.idle": "2024-02-20T15:52:09.850674Z",
     "shell.execute_reply": "2024-02-20T15:52:09.850229Z"
    }
   },
   "outputs": [
    {
     "data": {
      "text/latex": [
       "$\\displaystyle 0$"
      ],
      "text/plain": [
       "0"
      ]
     },
     "execution_count": 4,
     "metadata": {},
     "output_type": "execute_result"
    }
   ],
   "source": [
    "dvdalphaAx = v.dot(A.x).diff(alpha)\n",
    "dvdalphaAx"
   ]
  },
  {
   "cell_type": "code",
   "execution_count": 5,
   "id": "224aed30",
   "metadata": {
    "execution": {
     "iopub.execute_input": "2024-02-20T15:52:09.852610Z",
     "iopub.status.busy": "2024-02-20T15:52:09.852410Z",
     "iopub.status.idle": "2024-02-20T15:52:09.864224Z",
     "shell.execute_reply": "2024-02-20T15:52:09.863762Z"
    }
   },
   "outputs": [
    {
     "data": {
      "text/latex": [
       "$\\displaystyle - d \\sin{\\left(\\alpha \\right)} + e \\sin{\\left(\\beta \\right)} \\cos{\\left(\\alpha \\right)} - f \\sin{\\left(\\alpha \\right)}$"
      ],
      "text/plain": [
       "-d⋅sin(α) + e⋅sin(β)⋅cos(α) - f⋅sin(α)"
      ]
     },
     "execution_count": 5,
     "metadata": {},
     "output_type": "execute_result"
    }
   ],
   "source": [
    "dvdalphaAy = v.dot(A.y).diff(alpha)\n",
    "dvdalphaAy"
   ]
  },
  {
   "cell_type": "code",
   "execution_count": 6,
   "id": "254ed7e6",
   "metadata": {
    "execution": {
     "iopub.execute_input": "2024-02-20T15:52:09.866147Z",
     "iopub.status.busy": "2024-02-20T15:52:09.865967Z",
     "iopub.status.idle": "2024-02-20T15:52:09.876542Z",
     "shell.execute_reply": "2024-02-20T15:52:09.875967Z"
    }
   },
   "outputs": [
    {
     "data": {
      "text/latex": [
       "$\\displaystyle d \\cos{\\left(\\alpha \\right)} + e \\sin{\\left(\\alpha \\right)} \\sin{\\left(\\beta \\right)} + f \\cos{\\left(\\alpha \\right)}$"
      ],
      "text/plain": [
       "d⋅cos(α) + e⋅sin(α)⋅sin(β) + f⋅cos(α)"
      ]
     },
     "execution_count": 6,
     "metadata": {},
     "output_type": "execute_result"
    }
   ],
   "source": [
    "dvdalphaAz = v.dot(A.z).diff(alpha)\n",
    "dvdalphaAz"
   ]
  },
  {
   "cell_type": "code",
   "execution_count": 7,
   "id": "745ec55d",
   "metadata": {
    "execution": {
     "iopub.execute_input": "2024-02-20T15:52:09.878667Z",
     "iopub.status.busy": "2024-02-20T15:52:09.878381Z",
     "iopub.status.idle": "2024-02-20T15:52:09.885546Z",
     "shell.execute_reply": "2024-02-20T15:52:09.885059Z"
    }
   },
   "outputs": [
    {
     "data": {
      "text/latex": [
       "$\\displaystyle (- d \\sin{\\left(\\alpha \\right)} + e \\sin{\\left(\\beta \\right)} \\cos{\\left(\\alpha \\right)} - f \\sin{\\left(\\alpha \\right)})\\hat{a}_y + (d \\cos{\\left(\\alpha \\right)} + e \\sin{\\left(\\alpha \\right)} \\sin{\\left(\\beta \\right)} + f \\cos{\\left(\\alpha \\right)})\\hat{a}_z$"
      ],
      "text/plain": [
       "(-d⋅sin(α) + e⋅sin(β)⋅cos(α) - f⋅sin(α)) a_y + (d⋅cos(α) + e⋅sin(α)⋅sin(β) + f\n",
       "⋅cos(α)) a_z"
      ]
     },
     "execution_count": 7,
     "metadata": {},
     "output_type": "execute_result"
    }
   ],
   "source": [
    "dvdalphaA = dvdalphaAx*A.x + dvdalphaAy*A.y + dvdalphaAz*A.z\n",
    "dvdalphaA"
   ]
  },
  {
   "cell_type": "code",
   "execution_count": 8,
   "id": "f2158d6e",
   "metadata": {
    "execution": {
     "iopub.execute_input": "2024-02-20T15:52:09.887380Z",
     "iopub.status.busy": "2024-02-20T15:52:09.887187Z",
     "iopub.status.idle": "2024-02-20T15:52:09.909811Z",
     "shell.execute_reply": "2024-02-20T15:52:09.909329Z"
    }
   },
   "outputs": [
    {
     "data": {
      "text/latex": [
       "$\\displaystyle (- d \\sin{\\left(\\alpha \\right)} + e \\sin{\\left(\\beta \\right)} \\cos{\\left(\\alpha \\right)} - f \\sin{\\left(\\alpha \\right)})\\hat{a}_y + (d \\cos{\\left(\\alpha \\right)} + e \\sin{\\left(\\alpha \\right)} \\sin{\\left(\\beta \\right)} + f \\cos{\\left(\\alpha \\right)})\\hat{a}_z$"
      ],
      "text/plain": [
       "(-d⋅sin(α) + e⋅sin(β)⋅cos(α) - f⋅sin(α)) a_y + (d⋅cos(α) + e⋅sin(α)⋅sin(β) + f\n",
       "⋅cos(α)) a_z"
      ]
     },
     "execution_count": 8,
     "metadata": {},
     "output_type": "execute_result"
    }
   ],
   "source": [
    "v.diff(alpha, A)"
   ]
  },
  {
   "cell_type": "code",
   "execution_count": 9,
   "id": "e23496f1",
   "metadata": {
    "execution": {
     "iopub.execute_input": "2024-02-20T15:52:09.911667Z",
     "iopub.status.busy": "2024-02-20T15:52:09.911498Z",
     "iopub.status.idle": "2024-02-20T15:52:09.920956Z",
     "shell.execute_reply": "2024-02-20T15:52:09.920375Z"
    }
   },
   "outputs": [
    {
     "data": {
      "text/latex": [
       "$\\displaystyle \\cos{\\left(\\beta \\right)}\\hat{b}_x -  \\sin{\\left(\\beta \\right)}\\hat{b}_z$"
      ],
      "text/plain": [
       "cos(β) b_x + -sin(β) b_z"
      ]
     },
     "execution_count": 9,
     "metadata": {},
     "output_type": "execute_result"
    }
   ],
   "source": [
    "dvdeBx = v.dot(B.x).diff(e)\n",
    "dvdeBy = v.dot(B.y).diff(e)\n",
    "dvdeBz = v.dot(B.z).diff(e)\n",
    "dvdeBx*B.x + dvdeBy*B.y + dvdeBz*B.z"
   ]
  },
  {
   "cell_type": "code",
   "execution_count": 10,
   "id": "09e8bfd2",
   "metadata": {
    "execution": {
     "iopub.execute_input": "2024-02-20T15:52:09.922998Z",
     "iopub.status.busy": "2024-02-20T15:52:09.922671Z",
     "iopub.status.idle": "2024-02-20T15:52:09.927759Z",
     "shell.execute_reply": "2024-02-20T15:52:09.927250Z"
    }
   },
   "outputs": [
    {
     "data": {
      "text/latex": [
       "$\\displaystyle \\cos{\\left(\\beta \\right)}\\hat{b}_x -  \\sin{\\left(\\beta \\right)}\\hat{b}_z$"
      ],
      "text/plain": [
       "cos(β) b_x + -sin(β) b_z"
      ]
     },
     "execution_count": 10,
     "metadata": {},
     "output_type": "execute_result"
    }
   ],
   "source": [
    "v.diff(e, B).express(B)"
   ]
  },
  {
   "cell_type": "code",
   "execution_count": 11,
   "id": "10882ed0",
   "metadata": {
    "execution": {
     "iopub.execute_input": "2024-02-20T15:52:09.929663Z",
     "iopub.status.busy": "2024-02-20T15:52:09.929495Z",
     "iopub.status.idle": "2024-02-20T15:52:09.933930Z",
     "shell.execute_reply": "2024-02-20T15:52:09.933448Z"
    }
   },
   "outputs": [
    {
     "data": {
      "text/latex": [
       "$\\displaystyle q{\\left(t \\right)}$"
      ],
      "text/plain": [
       "q(t)"
      ]
     },
     "execution_count": 11,
     "metadata": {},
     "output_type": "execute_result"
    }
   ],
   "source": [
    "t = sm.symbols('t')\n",
    "q_of = sm.Function('q')\n",
    "\n",
    "q = q_of(t)\n",
    "q"
   ]
  },
  {
   "cell_type": "code",
   "execution_count": 12,
   "id": "797db3b8",
   "metadata": {
    "execution": {
     "iopub.execute_input": "2024-02-20T15:52:09.935960Z",
     "iopub.status.busy": "2024-02-20T15:52:09.935626Z",
     "iopub.status.idle": "2024-02-20T15:52:09.939831Z",
     "shell.execute_reply": "2024-02-20T15:52:09.939320Z"
    }
   },
   "outputs": [
    {
     "data": {
      "text/latex": [
       "$\\displaystyle \\frac{d}{d t} q{\\left(t \\right)}$"
      ],
      "text/plain": [
       "d       \n",
       "──(q(t))\n",
       "dt      "
      ]
     },
     "execution_count": 12,
     "metadata": {},
     "output_type": "execute_result"
    }
   ],
   "source": [
    "q.diff(t)"
   ]
  },
  {
   "cell_type": "code",
   "execution_count": 13,
   "id": "c2066f28",
   "metadata": {
    "execution": {
     "iopub.execute_input": "2024-02-20T15:52:09.942008Z",
     "iopub.status.busy": "2024-02-20T15:52:09.941671Z",
     "iopub.status.idle": "2024-02-20T15:52:09.946297Z",
     "shell.execute_reply": "2024-02-20T15:52:09.945816Z"
    }
   },
   "outputs": [
    {
     "data": {
      "text/latex": [
       "$\\displaystyle \\left( q_{1}{\\left(t \\right)}, \\  q_{2}{\\left(t \\right)}, \\  q_{3}{\\left(t \\right)}\\right)$"
      ],
      "text/plain": [
       "(q₁(t), q₂(t), q₃(t))"
      ]
     },
     "execution_count": 13,
     "metadata": {},
     "output_type": "execute_result"
    }
   ],
   "source": [
    "q1, q2, q3 = me.dynamicsymbols('q1, q2, q3')\n",
    "q1, q2, q3"
   ]
  },
  {
   "cell_type": "code",
   "execution_count": 14,
   "id": "c70ce668",
   "metadata": {
    "execution": {
     "iopub.execute_input": "2024-02-20T15:52:09.948076Z",
     "iopub.status.busy": "2024-02-20T15:52:09.947894Z",
     "iopub.status.idle": "2024-02-20T15:52:09.950492Z",
     "shell.execute_reply": "2024-02-20T15:52:09.950002Z"
    }
   },
   "outputs": [],
   "source": [
    "t = me.dynamicsymbols._t"
   ]
  },
  {
   "cell_type": "code",
   "execution_count": 15,
   "id": "d7d58eed",
   "metadata": {
    "execution": {
     "iopub.execute_input": "2024-02-20T15:52:09.952254Z",
     "iopub.status.busy": "2024-02-20T15:52:09.952079Z",
     "iopub.status.idle": "2024-02-20T15:52:09.958856Z",
     "shell.execute_reply": "2024-02-20T15:52:09.958277Z"
    }
   },
   "outputs": [
    {
     "data": {
      "text/latex": [
       "$\\displaystyle \\left( \\dot{q}_{1}, \\  \\ddot{q}_{2}, \\  \\dddot{q}_{3}\\right)$"
      ],
      "text/plain": [
       "(q₁̇, q₂̈, q₃⃛)"
      ]
     },
     "execution_count": 15,
     "metadata": {},
     "output_type": "execute_result"
    }
   ],
   "source": [
    "me.init_vprinting(use_latex='mathjax')\n",
    "q1.diff(t), q2.diff(t, 2), q3.diff(t, 3)"
   ]
  },
  {
   "cell_type": "code",
   "execution_count": 16,
   "id": "f045596f",
   "metadata": {
    "execution": {
     "iopub.execute_input": "2024-02-20T15:52:09.960927Z",
     "iopub.status.busy": "2024-02-20T15:52:09.960597Z",
     "iopub.status.idle": "2024-02-20T15:52:10.340508Z",
     "shell.execute_reply": "2024-02-20T15:52:10.339864Z"
    }
   },
   "outputs": [
    {
     "data": {
      "text/latex": [
       "$\\displaystyle q_{1}\\hat{a}_x + q_{2}\\hat{a}_y + t^{2}\\hat{a}_z$"
      ],
      "text/plain": [
       "                   2\n",
       "q₁ a_x + q₂ a_y + t  a_z"
      ]
     },
     "execution_count": 16,
     "metadata": {},
     "output_type": "execute_result"
    }
   ],
   "source": [
    "A = me.ReferenceFrame('A')\n",
    "B = me.ReferenceFrame('B')\n",
    "B.orient_body_fixed(A, (q1, q2, q3), 'ZXZ')\n",
    "v = q1*A.x + q2*A.y + t**2*A.z\n",
    "v"
   ]
  },
  {
   "cell_type": "code",
   "execution_count": 17,
   "id": "c2353747",
   "metadata": {
    "execution": {
     "iopub.execute_input": "2024-02-20T15:52:10.342757Z",
     "iopub.status.busy": "2024-02-20T15:52:10.342573Z",
     "iopub.status.idle": "2024-02-20T15:52:10.350075Z",
     "shell.execute_reply": "2024-02-20T15:52:10.349548Z"
    }
   },
   "outputs": [
    {
     "data": {
      "text/latex": [
       "$\\displaystyle \\dot{q}_{1}\\hat{a}_x + \\dot{q}_{2}\\hat{a}_y + 2 t\\hat{a}_z$"
      ],
      "text/plain": [
       "q₁̇ a_x + q₂̇ a_y + 2⋅t a_z"
      ]
     },
     "execution_count": 17,
     "metadata": {},
     "output_type": "execute_result"
    }
   ],
   "source": [
    "v.diff(t, A)"
   ]
  },
  {
   "cell_type": "code",
   "execution_count": 18,
   "id": "d58ac417",
   "metadata": {
    "execution": {
     "iopub.execute_input": "2024-02-20T15:52:10.351922Z",
     "iopub.status.busy": "2024-02-20T15:52:10.351745Z",
     "iopub.status.idle": "2024-02-20T15:52:10.357645Z",
     "shell.execute_reply": "2024-02-20T15:52:10.357186Z"
    }
   },
   "outputs": [
    {
     "data": {
      "text/latex": [
       "$\\displaystyle \\dot{q}_{1}\\hat{a}_x + \\dot{q}_{2}\\hat{a}_y + 2 t\\hat{a}_z$"
      ],
      "text/plain": [
       "q₁̇ a_x + q₂̇ a_y + 2⋅t a_z"
      ]
     },
     "execution_count": 18,
     "metadata": {},
     "output_type": "execute_result"
    }
   ],
   "source": [
    "v.dt(A)"
   ]
  }
 ],
 "metadata": {
  "kernelspec": {
   "display_name": "Python 3 (ipykernel)",
   "language": "python",
   "name": "python3"
  },
  "language_info": {
   "codemirror_mode": {
    "name": "ipython",
    "version": 3
   },
   "file_extension": ".py",
   "mimetype": "text/x-python",
   "name": "python",
   "nbconvert_exporter": "python",
   "pygments_lexer": "ipython3",
   "version": "3.10.13"
  }
 },
 "nbformat": 4,
 "nbformat_minor": 5
}