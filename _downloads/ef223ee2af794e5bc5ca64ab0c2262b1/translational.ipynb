{
 "cells": [
  {
   "cell_type": "code",
   "execution_count": 1,
   "id": "30fd6328",
   "metadata": {
    "execution": {
     "iopub.execute_input": "2024-02-20T15:58:06.448719Z",
     "iopub.status.busy": "2024-02-20T15:58:06.448542Z",
     "iopub.status.idle": "2024-02-20T15:58:06.819814Z",
     "shell.execute_reply": "2024-02-20T15:58:06.819234Z"
    }
   },
   "outputs": [],
   "source": [
    "import sympy as sm\n",
    "import sympy.physics.mechanics as me\n",
    "me.init_vprinting(use_latex='mathjax')"
   ]
  },
  {
   "cell_type": "code",
   "execution_count": 2,
   "id": "ba50c930",
   "metadata": {
    "execution": {
     "iopub.execute_input": "2024-02-20T15:58:06.822545Z",
     "iopub.status.busy": "2024-02-20T15:58:06.822006Z",
     "iopub.status.idle": "2024-02-20T15:58:06.826220Z",
     "shell.execute_reply": "2024-02-20T15:58:06.825669Z"
    }
   },
   "outputs": [],
   "source": [
    "class ReferenceFrame(me.ReferenceFrame):\n",
    "\n",
    "    def __init__(self, *args, **kwargs):\n",
    "\n",
    "        kwargs.pop('latexs', None)\n",
    "\n",
    "        lab = args[0].lower()\n",
    "        tex = r'\\hat{{{}}}_{}'\n",
    "\n",
    "        super(ReferenceFrame, self).__init__(*args,\n",
    "                                             latexs=(tex.format(lab, 'x'),\n",
    "                                                     tex.format(lab, 'y'),\n",
    "                                                     tex.format(lab, 'z')),\n",
    "                                             **kwargs)\n",
    "me.ReferenceFrame = ReferenceFrame"
   ]
  },
  {
   "cell_type": "code",
   "execution_count": 3,
   "id": "14fd3275",
   "metadata": {
    "execution": {
     "iopub.execute_input": "2024-02-20T15:58:06.828391Z",
     "iopub.status.busy": "2024-02-20T15:58:06.828057Z",
     "iopub.status.idle": "2024-02-20T15:58:06.839509Z",
     "shell.execute_reply": "2024-02-20T15:58:06.838957Z"
    }
   },
   "outputs": [],
   "source": [
    "alpha, beta = me.dynamicsymbols('alpha, beta')\n",
    "\n",
    "N = me.ReferenceFrame('N')\n",
    "A = me.ReferenceFrame('A')\n",
    "B = me.ReferenceFrame('B')\n",
    "\n",
    "A.orient_axis(N, alpha, N.z)\n",
    "B.orient_axis(A, beta, A.x)"
   ]
  },
  {
   "cell_type": "code",
   "execution_count": 4,
   "id": "00a79ae2",
   "metadata": {
    "execution": {
     "iopub.execute_input": "2024-02-20T15:58:06.841652Z",
     "iopub.status.busy": "2024-02-20T15:58:06.841309Z",
     "iopub.status.idle": "2024-02-20T15:58:06.849523Z",
     "shell.execute_reply": "2024-02-20T15:58:06.849059Z"
    }
   },
   "outputs": [
    {
     "data": {
      "text/latex": [
       "$\\displaystyle \\left( h\\hat{n}_z, \\  -  d\\hat{a}_x, \\  -  w\\hat{b}_x + (- c - \\frac{l}{2})\\hat{b}_z\\right)$"
      ],
      "text/plain": [
       "⎛h n_z, -d a_x,            ⎛     l⎞  ⎞\n",
       "⎜               -w b_x + ⎜-c - ─⎟ b_z⎟\n",
       "⎝                          ⎝     2⎠  ⎠"
      ]
     },
     "execution_count": 4,
     "metadata": {},
     "output_type": "execute_result"
    }
   ],
   "source": [
    "h, d, w, c, l = sm.symbols('h, d, w, c, l')\n",
    "\n",
    "r_O_P = h*N.z\n",
    "r_P_S = -d*A.x\n",
    "r_S_Q = -w*B.x - (c + l/2)*B.z\n",
    "\n",
    "r_O_P, r_P_S, r_S_Q"
   ]
  },
  {
   "cell_type": "code",
   "execution_count": 5,
   "id": "221c795b",
   "metadata": {
    "execution": {
     "iopub.execute_input": "2024-02-20T15:58:06.851436Z",
     "iopub.status.busy": "2024-02-20T15:58:06.851155Z",
     "iopub.status.idle": "2024-02-20T15:58:06.857492Z",
     "shell.execute_reply": "2024-02-20T15:58:06.856963Z"
    }
   },
   "outputs": [
    {
     "data": {
      "text/latex": [
       "$\\displaystyle 0$"
      ],
      "text/plain": [
       "0"
      ]
     },
     "execution_count": 5,
     "metadata": {},
     "output_type": "execute_result"
    }
   ],
   "source": [
    "(r_O_P + r_P_S).dt(A)"
   ]
  },
  {
   "cell_type": "code",
   "execution_count": 6,
   "id": "b702c882",
   "metadata": {
    "execution": {
     "iopub.execute_input": "2024-02-20T15:58:06.859533Z",
     "iopub.status.busy": "2024-02-20T15:58:06.859170Z",
     "iopub.status.idle": "2024-02-20T15:58:06.863563Z",
     "shell.execute_reply": "2024-02-20T15:58:06.862997Z"
    }
   },
   "outputs": [
    {
     "data": {
      "text/latex": [
       "$\\displaystyle \\dot{\\alpha}\\hat{n}_z$"
      ],
      "text/plain": [
       "α̇ n_z"
      ]
     },
     "execution_count": 6,
     "metadata": {},
     "output_type": "execute_result"
    }
   ],
   "source": [
    "A.ang_vel_in(N)"
   ]
  },
  {
   "cell_type": "code",
   "execution_count": 7,
   "id": "2f22bc2d",
   "metadata": {
    "execution": {
     "iopub.execute_input": "2024-02-20T15:58:06.865719Z",
     "iopub.status.busy": "2024-02-20T15:58:06.865382Z",
     "iopub.status.idle": "2024-02-20T15:58:06.873921Z",
     "shell.execute_reply": "2024-02-20T15:58:06.873346Z"
    }
   },
   "outputs": [
    {
     "data": {
      "text/latex": [
       "$\\displaystyle -  d \\dot{\\alpha}\\hat{a}_y$"
      ],
      "text/plain": [
       "-d⋅α̇ a_y"
      ]
     },
     "execution_count": 7,
     "metadata": {},
     "output_type": "execute_result"
    }
   ],
   "source": [
    "me.cross(A.ang_vel_in(N), r_O_P + r_P_S)"
   ]
  },
  {
   "cell_type": "code",
   "execution_count": 8,
   "id": "79034328",
   "metadata": {
    "execution": {
     "iopub.execute_input": "2024-02-20T15:58:06.875895Z",
     "iopub.status.busy": "2024-02-20T15:58:06.875566Z",
     "iopub.status.idle": "2024-02-20T15:58:06.885358Z",
     "shell.execute_reply": "2024-02-20T15:58:06.884796Z"
    }
   },
   "outputs": [
    {
     "data": {
      "text/latex": [
       "$\\displaystyle -  d \\dot{\\alpha}\\hat{a}_y$"
      ],
      "text/plain": [
       "-d⋅α̇ a_y"
      ]
     },
     "execution_count": 8,
     "metadata": {},
     "output_type": "execute_result"
    }
   ],
   "source": [
    "N_v_S = (r_O_P + r_P_S).dt(A) + me.cross(A.ang_vel_in(N), r_O_P + r_P_S)\n",
    "N_v_S"
   ]
  },
  {
   "cell_type": "code",
   "execution_count": 9,
   "id": "929e8424",
   "metadata": {
    "execution": {
     "iopub.execute_input": "2024-02-20T15:58:06.887363Z",
     "iopub.status.busy": "2024-02-20T15:58:06.887034Z",
     "iopub.status.idle": "2024-02-20T15:58:06.899077Z",
     "shell.execute_reply": "2024-02-20T15:58:06.898545Z"
    }
   },
   "outputs": [
    {
     "data": {
      "text/latex": [
       "$\\displaystyle -  h \\sin{\\left(\\alpha \\right)} \\dot{\\beta}\\hat{n}_x + h \\cos{\\left(\\alpha \\right)} \\dot{\\beta}\\hat{n}_y$"
      ],
      "text/plain": [
       "-h⋅sin(α)⋅β̇ n_x + h⋅cos(α)⋅β̇ n_y"
      ]
     },
     "execution_count": 9,
     "metadata": {},
     "output_type": "execute_result"
    }
   ],
   "source": [
    "(r_O_P + r_P_S + r_S_Q).dt(B)"
   ]
  },
  {
   "cell_type": "code",
   "execution_count": 10,
   "id": "ec37e7b8",
   "metadata": {
    "execution": {
     "iopub.execute_input": "2024-02-20T15:58:06.900894Z",
     "iopub.status.busy": "2024-02-20T15:58:06.900731Z",
     "iopub.status.idle": "2024-02-20T15:58:06.924394Z",
     "shell.execute_reply": "2024-02-20T15:58:06.923827Z"
    }
   },
   "outputs": [
    {
     "data": {
      "text/latex": [
       "$\\displaystyle h \\sin{\\left(\\alpha \\right)} \\dot{\\beta}\\hat{n}_x -  h \\cos{\\left(\\alpha \\right)} \\dot{\\beta}\\hat{n}_y -  d \\dot{\\alpha}\\hat{a}_y + \\left(- c - \\frac{l}{2}\\right) \\sin{\\left(\\beta \\right)} \\dot{\\alpha}\\hat{b}_x + (- w \\cos{\\left(\\beta \\right)} \\dot{\\alpha} - \\left(- c - \\frac{l}{2}\\right) \\dot{\\beta})\\hat{b}_y + w \\sin{\\left(\\beta \\right)} \\dot{\\alpha}\\hat{b}_z$"
      ],
      "text/plain": [
       "                                              ⎛     l⎞                ⎛\n",
       "h⋅sin(α)⋅β̇ n_x + -h⋅cos(α)⋅β̇ n_y + -d⋅α̇ a_y + ⎜-c - ─⎟⋅sin(β)⋅α̇ b_x + ⎜-w⋅\n",
       "                                              ⎝     2⎠                ⎝\n",
       "\n",
       "       ⎛     l⎞  ⎞\n",
       "cos(β)⋅α̇ - ⎜-c - ─⎟⋅β̇⎟ b_y + w⋅sin(β)⋅α̇ b_z\n",
       "       ⎝     2⎠  ⎠"
      ]
     },
     "execution_count": 10,
     "metadata": {},
     "output_type": "execute_result"
    }
   ],
   "source": [
    "me.cross(B.ang_vel_in(N), r_O_P + r_P_S + r_S_Q)"
   ]
  },
  {
   "cell_type": "code",
   "execution_count": 11,
   "id": "6ebfe26c",
   "metadata": {
    "execution": {
     "iopub.execute_input": "2024-02-20T15:58:06.926501Z",
     "iopub.status.busy": "2024-02-20T15:58:06.926170Z",
     "iopub.status.idle": "2024-02-20T15:58:06.945403Z",
     "shell.execute_reply": "2024-02-20T15:58:06.944939Z"
    }
   },
   "outputs": [
    {
     "data": {
      "text/latex": [
       "$\\displaystyle -  d \\dot{\\alpha}\\hat{a}_y + \\left(- c - \\frac{l}{2}\\right) \\sin{\\left(\\beta \\right)} \\dot{\\alpha}\\hat{b}_x + (- w \\cos{\\left(\\beta \\right)} \\dot{\\alpha} - \\left(- c - \\frac{l}{2}\\right) \\dot{\\beta})\\hat{b}_y + w \\sin{\\left(\\beta \\right)} \\dot{\\alpha}\\hat{b}_z$"
      ],
      "text/plain": [
       "           ⎛     l⎞                ⎛              ⎛     l⎞  ⎞\n",
       "-d⋅α̇ a_y + ⎜-c - ─⎟⋅sin(β)⋅α̇ b_x + ⎜-w⋅cos(β)⋅α̇ - ⎜-c - ─⎟⋅β̇⎟ b_y + w⋅sin(\n",
       "           ⎝     2⎠                ⎝              ⎝     2⎠  ⎠\n",
       "\n",
       "\n",
       "β)⋅α̇ b_z\n"
      ]
     },
     "execution_count": 11,
     "metadata": {},
     "output_type": "execute_result"
    }
   ],
   "source": [
    "N_v_Q = (r_O_P + r_P_S + r_S_Q).dt(B) + me.cross(B.ang_vel_in(N), r_O_P + r_P_S + r_S_Q)\n",
    "N_v_Q"
   ]
  },
  {
   "cell_type": "code",
   "execution_count": 12,
   "id": "9c6c46f8",
   "metadata": {
    "execution": {
     "iopub.execute_input": "2024-02-20T15:58:06.947199Z",
     "iopub.status.busy": "2024-02-20T15:58:06.947035Z",
     "iopub.status.idle": "2024-02-20T15:58:06.951451Z",
     "shell.execute_reply": "2024-02-20T15:58:06.950963Z"
    }
   },
   "outputs": [],
   "source": [
    "O = me.Point('O')\n",
    "P = me.Point('P')\n",
    "S = me.Point('S')\n",
    "Q = me.Point('Q')\n",
    "\n",
    "P.set_pos(O, h*N.z)\n",
    "S.set_pos(P, -d*A.x)\n",
    "Q.set_pos(S, -w*B.x - (c + l/2)*B.z)"
   ]
  },
  {
   "cell_type": "code",
   "execution_count": 13,
   "id": "157dff60",
   "metadata": {
    "execution": {
     "iopub.execute_input": "2024-02-20T15:58:06.953542Z",
     "iopub.status.busy": "2024-02-20T15:58:06.953201Z",
     "iopub.status.idle": "2024-02-20T15:58:06.958345Z",
     "shell.execute_reply": "2024-02-20T15:58:06.957785Z"
    }
   },
   "outputs": [
    {
     "data": {
      "text/latex": [
       "$\\displaystyle -  w\\hat{b}_x + (- c - \\frac{l}{2})\\hat{b}_z -  d\\hat{a}_x + h\\hat{n}_z$"
      ],
      "text/plain": [
       "         ⎛     l⎞\n",
       "-w b_x + ⎜-c - ─⎟ b_z + -d a_x + h n_z\n",
       "         ⎝     2⎠"
      ]
     },
     "execution_count": 13,
     "metadata": {},
     "output_type": "execute_result"
    }
   ],
   "source": [
    "Q.pos_from(O)"
   ]
  },
  {
   "cell_type": "code",
   "execution_count": 14,
   "id": "abb4dc7f",
   "metadata": {
    "execution": {
     "iopub.execute_input": "2024-02-20T15:58:06.960536Z",
     "iopub.status.busy": "2024-02-20T15:58:06.960044Z",
     "iopub.status.idle": "2024-02-20T15:58:06.962961Z",
     "shell.execute_reply": "2024-02-20T15:58:06.962503Z"
    }
   },
   "outputs": [],
   "source": [
    "O.set_vel(N, 0)"
   ]
  },
  {
   "cell_type": "code",
   "execution_count": 15,
   "id": "82ce7027",
   "metadata": {
    "execution": {
     "iopub.execute_input": "2024-02-20T15:58:06.964749Z",
     "iopub.status.busy": "2024-02-20T15:58:06.964579Z",
     "iopub.status.idle": "2024-02-20T15:58:06.980717Z",
     "shell.execute_reply": "2024-02-20T15:58:06.980196Z"
    }
   },
   "outputs": [
    {
     "data": {
      "text/latex": [
       "$\\displaystyle \\left(- c - \\frac{l}{2}\\right) \\sin{\\left(\\beta \\right)} \\dot{\\alpha}\\hat{b}_x + (- w \\cos{\\left(\\beta \\right)} \\dot{\\alpha} - \\left(- c - \\frac{l}{2}\\right) \\dot{\\beta})\\hat{b}_y + w \\sin{\\left(\\beta \\right)} \\dot{\\alpha}\\hat{b}_z -  d \\dot{\\alpha}\\hat{a}_y$"
      ],
      "text/plain": [
       "⎛     l⎞                ⎛              ⎛     l⎞  ⎞\n",
       "⎜-c - ─⎟⋅sin(β)⋅α̇ b_x + ⎜-w⋅cos(β)⋅α̇ - ⎜-c - ─⎟⋅β̇⎟ b_y + w⋅sin(β)⋅α̇ b_z +\n",
       "⎝     2⎠                ⎝              ⎝     2⎠  ⎠\n",
       "\n",
       "\n",
       "-d⋅α̇ a_y\n"
      ]
     },
     "execution_count": 15,
     "metadata": {},
     "output_type": "execute_result"
    }
   ],
   "source": [
    "Q.vel(N)"
   ]
  },
  {
   "cell_type": "code",
   "execution_count": 16,
   "id": "16fb2280",
   "metadata": {
    "execution": {
     "iopub.execute_input": "2024-02-20T15:58:06.982760Z",
     "iopub.status.busy": "2024-02-20T15:58:06.982402Z",
     "iopub.status.idle": "2024-02-20T15:58:06.985097Z",
     "shell.execute_reply": "2024-02-20T15:58:06.984598Z"
    }
   },
   "outputs": [],
   "source": [
    "N_v_P = 0*N.z"
   ]
  },
  {
   "cell_type": "code",
   "execution_count": 17,
   "id": "9889c8cc",
   "metadata": {
    "execution": {
     "iopub.execute_input": "2024-02-20T15:58:06.987163Z",
     "iopub.status.busy": "2024-02-20T15:58:06.986755Z",
     "iopub.status.idle": "2024-02-20T15:58:06.993018Z",
     "shell.execute_reply": "2024-02-20T15:58:06.992460Z"
    }
   },
   "outputs": [
    {
     "data": {
      "text/latex": [
       "$\\displaystyle -  d \\dot{\\alpha}\\hat{a}_y$"
      ],
      "text/plain": [
       "-d⋅α̇ a_y"
      ]
     },
     "execution_count": 17,
     "metadata": {},
     "output_type": "execute_result"
    }
   ],
   "source": [
    "N_v_S = N_v_P +  me.cross(A.ang_vel_in(N), S.pos_from(P))\n",
    "N_v_S"
   ]
  },
  {
   "cell_type": "code",
   "execution_count": 18,
   "id": "435fcfdc",
   "metadata": {
    "execution": {
     "iopub.execute_input": "2024-02-20T15:58:06.994950Z",
     "iopub.status.busy": "2024-02-20T15:58:06.994767Z",
     "iopub.status.idle": "2024-02-20T15:58:07.001026Z",
     "shell.execute_reply": "2024-02-20T15:58:07.000560Z"
    }
   },
   "outputs": [
    {
     "data": {
      "text/latex": [
       "$\\displaystyle -  d \\dot{\\alpha}\\hat{a}_y$"
      ],
      "text/plain": [
       "-d⋅α̇ a_y"
      ]
     },
     "execution_count": 18,
     "metadata": {},
     "output_type": "execute_result"
    }
   ],
   "source": [
    "P.set_vel(N, 0)\n",
    "S.v2pt_theory(P, N, A)"
   ]
  },
  {
   "cell_type": "code",
   "execution_count": 19,
   "id": "3a80eb3d",
   "metadata": {
    "execution": {
     "iopub.execute_input": "2024-02-20T15:58:07.002983Z",
     "iopub.status.busy": "2024-02-20T15:58:07.002651Z",
     "iopub.status.idle": "2024-02-20T15:58:07.006920Z",
     "shell.execute_reply": "2024-02-20T15:58:07.006388Z"
    }
   },
   "outputs": [
    {
     "data": {
      "text/latex": [
       "$\\displaystyle -  d \\dot{\\alpha}\\hat{a}_y$"
      ],
      "text/plain": [
       "-d⋅α̇ a_y"
      ]
     },
     "execution_count": 19,
     "metadata": {},
     "output_type": "execute_result"
    }
   ],
   "source": [
    "S.vel(N)"
   ]
  },
  {
   "cell_type": "code",
   "execution_count": 20,
   "id": "17fa9be1",
   "metadata": {
    "execution": {
     "iopub.execute_input": "2024-02-20T15:58:07.009116Z",
     "iopub.status.busy": "2024-02-20T15:58:07.008583Z",
     "iopub.status.idle": "2024-02-20T15:58:07.019445Z",
     "shell.execute_reply": "2024-02-20T15:58:07.018887Z"
    }
   },
   "outputs": [
    {
     "data": {
      "text/latex": [
       "$\\displaystyle -  d \\dot{\\alpha}\\hat{a}_y + \\left(- c - \\frac{l}{2}\\right) \\sin{\\left(\\beta \\right)} \\dot{\\alpha}\\hat{b}_x + (- w \\cos{\\left(\\beta \\right)} \\dot{\\alpha} - \\left(- c - \\frac{l}{2}\\right) \\dot{\\beta})\\hat{b}_y + w \\sin{\\left(\\beta \\right)} \\dot{\\alpha}\\hat{b}_z$"
      ],
      "text/plain": [
       "           ⎛     l⎞                ⎛              ⎛     l⎞  ⎞\n",
       "-d⋅α̇ a_y + ⎜-c - ─⎟⋅sin(β)⋅α̇ b_x + ⎜-w⋅cos(β)⋅α̇ - ⎜-c - ─⎟⋅β̇⎟ b_y + w⋅sin(\n",
       "           ⎝     2⎠                ⎝              ⎝     2⎠  ⎠\n",
       "\n",
       "\n",
       "β)⋅α̇ b_z\n"
      ]
     },
     "execution_count": 20,
     "metadata": {},
     "output_type": "execute_result"
    }
   ],
   "source": [
    "N_v_Q = N_v_S +  me.cross(B.ang_vel_in(N), Q.pos_from(S))\n",
    "N_v_Q"
   ]
  },
  {
   "cell_type": "code",
   "execution_count": 21,
   "id": "a0a33e4d",
   "metadata": {
    "execution": {
     "iopub.execute_input": "2024-02-20T15:58:07.021463Z",
     "iopub.status.busy": "2024-02-20T15:58:07.021127Z",
     "iopub.status.idle": "2024-02-20T15:58:07.031570Z",
     "shell.execute_reply": "2024-02-20T15:58:07.031083Z"
    }
   },
   "outputs": [
    {
     "data": {
      "text/latex": [
       "$\\displaystyle -  d \\dot{\\alpha}\\hat{a}_y + \\left(- c - \\frac{l}{2}\\right) \\sin{\\left(\\beta \\right)} \\dot{\\alpha}\\hat{b}_x + (- w \\cos{\\left(\\beta \\right)} \\dot{\\alpha} - \\left(- c - \\frac{l}{2}\\right) \\dot{\\beta})\\hat{b}_y + w \\sin{\\left(\\beta \\right)} \\dot{\\alpha}\\hat{b}_z$"
      ],
      "text/plain": [
       "           ⎛     l⎞                ⎛              ⎛     l⎞  ⎞\n",
       "-d⋅α̇ a_y + ⎜-c - ─⎟⋅sin(β)⋅α̇ b_x + ⎜-w⋅cos(β)⋅α̇ - ⎜-c - ─⎟⋅β̇⎟ b_y + w⋅sin(\n",
       "           ⎝     2⎠                ⎝              ⎝     2⎠  ⎠\n",
       "\n",
       "\n",
       "β)⋅α̇ b_z\n"
      ]
     },
     "execution_count": 21,
     "metadata": {},
     "output_type": "execute_result"
    }
   ],
   "source": [
    "Q.v2pt_theory(S, N, B)"
   ]
  },
  {
   "cell_type": "code",
   "execution_count": 22,
   "id": "d46dccc5",
   "metadata": {
    "execution": {
     "iopub.execute_input": "2024-02-20T15:58:07.033556Z",
     "iopub.status.busy": "2024-02-20T15:58:07.033226Z",
     "iopub.status.idle": "2024-02-20T15:58:07.046208Z",
     "shell.execute_reply": "2024-02-20T15:58:07.045724Z"
    }
   },
   "outputs": [
    {
     "data": {
      "text/latex": [
       "$\\displaystyle (- d \\dot{\\alpha} - \\frac{w \\dot{\\alpha}}{2})\\hat{a}_y -  c \\sin{\\left(\\beta \\right)} \\dot{\\alpha}\\hat{b}_x + c \\dot{\\beta}\\hat{b}_y$"
      ],
      "text/plain": [
       "⎛       w⋅α̇⎞\n",
       "⎜-d⋅α̇ - ───⎟ a_y + -c⋅sin(β)⋅α̇ b_x + c⋅β̇ b_y\n",
       "⎝        2 ⎠"
      ]
     },
     "execution_count": 22,
     "metadata": {},
     "output_type": "execute_result"
    }
   ],
   "source": [
    "Bc = me.Point('B_c')\n",
    "Bc.set_pos(S, -c*B.z - w/2*A.x)\n",
    "Bc.v2pt_theory(S, N, B)"
   ]
  },
  {
   "cell_type": "code",
   "execution_count": 23,
   "id": "11243e37",
   "metadata": {
    "execution": {
     "iopub.execute_input": "2024-02-20T15:58:07.048286Z",
     "iopub.status.busy": "2024-02-20T15:58:07.047854Z",
     "iopub.status.idle": "2024-02-20T15:58:07.052094Z",
     "shell.execute_reply": "2024-02-20T15:58:07.051528Z"
    }
   },
   "outputs": [],
   "source": [
    "s = me.dynamicsymbols('s')\n",
    "t = me.dynamicsymbols._t\n",
    "\n",
    "R = me.Point('R')\n",
    "R.set_pos(Q, l*B.z + s*B.x)"
   ]
  },
  {
   "cell_type": "code",
   "execution_count": 24,
   "id": "9647c740",
   "metadata": {
    "execution": {
     "iopub.execute_input": "2024-02-20T15:58:07.054041Z",
     "iopub.status.busy": "2024-02-20T15:58:07.053714Z",
     "iopub.status.idle": "2024-02-20T15:58:07.058448Z",
     "shell.execute_reply": "2024-02-20T15:58:07.057895Z"
    }
   },
   "outputs": [
    {
     "data": {
      "text/latex": [
       "$\\displaystyle \\dot{s}\\hat{b}_x$"
      ],
      "text/plain": [
       "ṡ b_x"
      ]
     },
     "execution_count": 24,
     "metadata": {},
     "output_type": "execute_result"
    }
   ],
   "source": [
    "B_v_R = s.diff(t)*B.x\n",
    "B_v_R"
   ]
  },
  {
   "cell_type": "code",
   "execution_count": 25,
   "id": "5895031d",
   "metadata": {
    "execution": {
     "iopub.execute_input": "2024-02-20T15:58:07.060587Z",
     "iopub.status.busy": "2024-02-20T15:58:07.060233Z",
     "iopub.status.idle": "2024-02-20T15:58:07.065626Z",
     "shell.execute_reply": "2024-02-20T15:58:07.065157Z"
    }
   },
   "outputs": [
    {
     "data": {
      "text/latex": [
       "$\\displaystyle (- w + s)\\hat{b}_x + (- c + \\frac{l}{2})\\hat{b}_z$"
      ],
      "text/plain": [
       "               ⎛     l⎞\n",
       "(-w + s) b_x + ⎜-c + ─⎟ b_z\n",
       "               ⎝     2⎠"
      ]
     },
     "execution_count": 25,
     "metadata": {},
     "output_type": "execute_result"
    }
   ],
   "source": [
    "r_S_R = R.pos_from(S)\n",
    "r_S_R"
   ]
  },
  {
   "cell_type": "code",
   "execution_count": 26,
   "id": "03964536",
   "metadata": {
    "execution": {
     "iopub.execute_input": "2024-02-20T15:58:07.067545Z",
     "iopub.status.busy": "2024-02-20T15:58:07.067212Z",
     "iopub.status.idle": "2024-02-20T15:58:07.082599Z",
     "shell.execute_reply": "2024-02-20T15:58:07.082045Z"
    }
   },
   "outputs": [
    {
     "data": {
      "text/latex": [
       "$\\displaystyle -  d \\dot{\\alpha}\\hat{a}_y + \\left(- c + \\frac{l}{2}\\right) \\sin{\\left(\\beta \\right)} \\dot{\\alpha}\\hat{b}_x + (- \\left(- c + \\frac{l}{2}\\right) \\dot{\\beta} + \\left(- w + s\\right) \\cos{\\left(\\beta \\right)} \\dot{\\alpha})\\hat{b}_y -  \\left(- w + s\\right) \\sin{\\left(\\beta \\right)} \\dot{\\alpha}\\hat{b}_z$"
      ],
      "text/plain": [
       "           ⎛     l⎞                ⎛  ⎛     l⎞                      ⎞\n",
       "-d⋅α̇ a_y + ⎜-c + ─⎟⋅sin(β)⋅α̇ b_x + ⎜- ⎜-c + ─⎟⋅β̇ + (-w + s)⋅cos(β)⋅α̇⎟ b_y\n",
       "           ⎝     2⎠                ⎝  ⎝     2⎠                      ⎠\n",
       "\n",
       "\n",
       "+ -(-w + s)⋅sin(β)⋅α̇ b_z\n"
      ]
     },
     "execution_count": 26,
     "metadata": {},
     "output_type": "execute_result"
    }
   ],
   "source": [
    "N_v_T = N_v_S + me.cross(B.ang_vel_in(N), r_S_R)\n",
    "N_v_T"
   ]
  },
  {
   "cell_type": "code",
   "execution_count": 27,
   "id": "1b97d21f",
   "metadata": {
    "execution": {
     "iopub.execute_input": "2024-02-20T15:58:07.084584Z",
     "iopub.status.busy": "2024-02-20T15:58:07.084236Z",
     "iopub.status.idle": "2024-02-20T15:58:07.093685Z",
     "shell.execute_reply": "2024-02-20T15:58:07.093146Z"
    }
   },
   "outputs": [
    {
     "data": {
      "text/latex": [
       "$\\displaystyle (\\left(- c + \\frac{l}{2}\\right) \\sin{\\left(\\beta \\right)} \\dot{\\alpha} + \\dot{s})\\hat{b}_x + (- \\left(- c + \\frac{l}{2}\\right) \\dot{\\beta} + \\left(- w + s\\right) \\cos{\\left(\\beta \\right)} \\dot{\\alpha})\\hat{b}_y -  \\left(- w + s\\right) \\sin{\\left(\\beta \\right)} \\dot{\\alpha}\\hat{b}_z -  d \\dot{\\alpha}\\hat{a}_y$"
      ],
      "text/plain": [
       "⎛⎛     l⎞             ⎞       ⎛  ⎛     l⎞                      ⎞\n",
       "⎜⎜-c + ─⎟⋅sin(β)⋅α̇ + ṡ⎟ b_x + ⎜- ⎜-c + ─⎟⋅β̇ + (-w + s)⋅cos(β)⋅α̇⎟ b_y + -(-\n",
       "⎝⎝     2⎠             ⎠       ⎝  ⎝     2⎠                      ⎠\n",
       "\n",
       "\n",
       "w + s)⋅sin(β)⋅α̇ b_z + -d⋅α̇ a_y\n"
      ]
     },
     "execution_count": 27,
     "metadata": {},
     "output_type": "execute_result"
    }
   ],
   "source": [
    "N_v_R = B_v_R + N_v_T\n",
    "N_v_R"
   ]
  },
  {
   "cell_type": "code",
   "execution_count": 28,
   "id": "847f3958",
   "metadata": {
    "execution": {
     "iopub.execute_input": "2024-02-20T15:58:07.095670Z",
     "iopub.status.busy": "2024-02-20T15:58:07.095332Z",
     "iopub.status.idle": "2024-02-20T15:58:07.114352Z",
     "shell.execute_reply": "2024-02-20T15:58:07.113761Z"
    }
   },
   "outputs": [
    {
     "data": {
      "text/latex": [
       "$\\displaystyle (\\left(- c + \\frac{l}{2}\\right) \\sin{\\left(\\beta \\right)} \\dot{\\alpha} + \\dot{s})\\hat{b}_x + (- \\left(- c + \\frac{l}{2}\\right) \\dot{\\beta} + \\left(- w + s\\right) \\cos{\\left(\\beta \\right)} \\dot{\\alpha})\\hat{b}_y -  \\left(- w + s\\right) \\sin{\\left(\\beta \\right)} \\dot{\\alpha}\\hat{b}_z -  d \\dot{\\alpha}\\hat{a}_y$"
      ],
      "text/plain": [
       "⎛⎛     l⎞             ⎞       ⎛  ⎛     l⎞                      ⎞\n",
       "⎜⎜-c + ─⎟⋅sin(β)⋅α̇ + ṡ⎟ b_x + ⎜- ⎜-c + ─⎟⋅β̇ + (-w + s)⋅cos(β)⋅α̇⎟ b_y + -(-\n",
       "⎝⎝     2⎠             ⎠       ⎝  ⎝     2⎠                      ⎠\n",
       "\n",
       "\n",
       "w + s)⋅sin(β)⋅α̇ b_z + -d⋅α̇ a_y\n"
      ]
     },
     "execution_count": 28,
     "metadata": {},
     "output_type": "execute_result"
    }
   ],
   "source": [
    "S.set_vel(B, 0)\n",
    "R.v1pt_theory(S, N, B)"
   ]
  },
  {
   "cell_type": "code",
   "execution_count": 29,
   "id": "10ecfc23",
   "metadata": {
    "execution": {
     "iopub.execute_input": "2024-02-20T15:58:07.116410Z",
     "iopub.status.busy": "2024-02-20T15:58:07.116057Z",
     "iopub.status.idle": "2024-02-20T15:58:07.126076Z",
     "shell.execute_reply": "2024-02-20T15:58:07.125501Z"
    }
   },
   "outputs": [
    {
     "data": {
      "text/latex": [
       "$\\displaystyle d \\dot{\\alpha}^{2}\\hat{a}_x -  d \\ddot{\\alpha}\\hat{a}_y$"
      ],
      "text/plain": [
       "   2\n",
       "d⋅α̇  a_x + -d⋅α̈ a_y"
      ]
     },
     "execution_count": 29,
     "metadata": {},
     "output_type": "execute_result"
    }
   ],
   "source": [
    "S.acc(N)"
   ]
  },
  {
   "cell_type": "code",
   "execution_count": 30,
   "id": "678027b7",
   "metadata": {
    "execution": {
     "iopub.execute_input": "2024-02-20T15:58:07.128181Z",
     "iopub.status.busy": "2024-02-20T15:58:07.127761Z",
     "iopub.status.idle": "2024-02-20T15:58:07.135450Z",
     "shell.execute_reply": "2024-02-20T15:58:07.134905Z"
    }
   },
   "outputs": [
    {
     "data": {
      "text/latex": [
       "$\\displaystyle -  d \\ddot{\\alpha}\\hat{a}_y$"
      ],
      "text/plain": [
       "-d⋅α̈ a_y"
      ]
     },
     "execution_count": 30,
     "metadata": {},
     "output_type": "execute_result"
    }
   ],
   "source": [
    "me.cross(A.ang_acc_in(N), S.pos_from(P))"
   ]
  },
  {
   "cell_type": "code",
   "execution_count": 31,
   "id": "76a60f8d",
   "metadata": {
    "execution": {
     "iopub.execute_input": "2024-02-20T15:58:07.137523Z",
     "iopub.status.busy": "2024-02-20T15:58:07.137093Z",
     "iopub.status.idle": "2024-02-20T15:58:07.144700Z",
     "shell.execute_reply": "2024-02-20T15:58:07.144190Z"
    }
   },
   "outputs": [
    {
     "data": {
      "text/latex": [
       "$\\displaystyle d \\dot{\\alpha}^{2}\\hat{a}_x$"
      ],
      "text/plain": [
       "   2\n",
       "d⋅α̇  a_x"
      ]
     },
     "execution_count": 31,
     "metadata": {},
     "output_type": "execute_result"
    }
   ],
   "source": [
    "me.cross(A.ang_vel_in(N), me.cross(A.ang_vel_in(N), S.pos_from(P)))"
   ]
  },
  {
   "cell_type": "code",
   "execution_count": 32,
   "id": "dffef71b",
   "metadata": {
    "execution": {
     "iopub.execute_input": "2024-02-20T15:58:07.146570Z",
     "iopub.status.busy": "2024-02-20T15:58:07.146391Z",
     "iopub.status.idle": "2024-02-20T15:58:07.157280Z",
     "shell.execute_reply": "2024-02-20T15:58:07.156827Z"
    }
   },
   "outputs": [
    {
     "data": {
      "text/latex": [
       "$\\displaystyle d \\dot{\\alpha}^{2}\\hat{a}_x -  d \\ddot{\\alpha}\\hat{a}_y$"
      ],
      "text/plain": [
       "   2\n",
       "d⋅α̇  a_x + -d⋅α̈ a_y"
      ]
     },
     "execution_count": 32,
     "metadata": {},
     "output_type": "execute_result"
    }
   ],
   "source": [
    "S.a2pt_theory(P, N, A)"
   ]
  },
  {
   "cell_type": "code",
   "execution_count": 33,
   "id": "f9836ded",
   "metadata": {
    "execution": {
     "iopub.execute_input": "2024-02-20T15:58:07.159191Z",
     "iopub.status.busy": "2024-02-20T15:58:07.158860Z",
     "iopub.status.idle": "2024-02-20T15:58:07.201183Z",
     "shell.execute_reply": "2024-02-20T15:58:07.200603Z"
    }
   },
   "outputs": [
    {
     "data": {
      "text/latex": [
       "$\\displaystyle d \\dot{\\alpha}^{2}\\hat{a}_x -  d \\ddot{\\alpha}\\hat{a}_y + (w \\sin^{2}{\\left(\\beta \\right)} \\dot{\\alpha}^{2} + \\left(- c - \\frac{l}{2}\\right) \\left(\\sin{\\left(\\beta \\right)} \\ddot{\\alpha} + \\cos{\\left(\\beta \\right)} \\dot{\\alpha} \\dot{\\beta}\\right) - \\left(- w \\cos{\\left(\\beta \\right)} \\dot{\\alpha} - \\left(- c - \\frac{l}{2}\\right) \\dot{\\beta}\\right) \\cos{\\left(\\beta \\right)} \\dot{\\alpha})\\hat{b}_x + (- w \\left(- \\sin{\\left(\\beta \\right)} \\dot{\\alpha} \\dot{\\beta} + \\cos{\\left(\\beta \\right)} \\ddot{\\alpha}\\right) - w \\sin{\\left(\\beta \\right)} \\dot{\\alpha} \\dot{\\beta} + \\left(- c - \\frac{l}{2}\\right) \\sin{\\left(\\beta \\right)} \\cos{\\left(\\beta \\right)} \\dot{\\alpha}^{2} - \\left(- c - \\frac{l}{2}\\right) \\ddot{\\beta})\\hat{b}_y + (w \\left(\\sin{\\left(\\beta \\right)} \\ddot{\\alpha} + \\cos{\\left(\\beta \\right)} \\dot{\\alpha} \\dot{\\beta}\\right) - \\left(- c - \\frac{l}{2}\\right) \\sin^{2}{\\left(\\beta \\right)} \\dot{\\alpha}^{2} + \\left(- w \\cos{\\left(\\beta \\right)} \\dot{\\alpha} - \\left(- c - \\frac{l}{2}\\right) \\dot{\\beta}\\right) \\dot{\\beta})\\hat{b}_z$"
      ],
      "text/plain": [
       "   2                  ⎛     2     2   ⎛     l⎞                           ⎛\n",
       "d⋅α̇  a_x + -d⋅α̈ a_y + ⎜w⋅sin (β)⋅α̇  + ⎜-c - ─⎟⋅(sin(β)⋅α̈ + cos(β)⋅α̇⋅β̇) -\n",
       "                      ⎝               ⎝     2⎠                           ⎝\n",
       "\n",
       "          ⎛     l⎞  ⎞         ⎞       ⎛\n",
       " ⎜-w⋅cos(β)⋅α̇ - ⎜-c - ─⎟⋅β̇⎟⋅cos(β)⋅α̇⎟ b_x + ⎜-w⋅(-sin(β)⋅α̇⋅β̇ + cos(β)⋅α̈)\n",
       "          ⎝     2⎠  ⎠         ⎠       ⎝\n",
       "\n",
       "      ⎛     l⎞                2   ⎛     l⎞  ⎞       ⎛\n",
       " - w⋅sin(β)⋅α̇⋅β̇ + ⎜-c - ─⎟⋅sin(β)⋅cos(β)⋅α̇  - ⎜-c - ─⎟⋅β̈⎟ b_y + ⎜w⋅(sin(β)\n",
       "      ⎝     2⎠                    ⎝     2⎠  ⎠       ⎝\n",
       "\n",
       "   ⎛     l⎞    2     2   ⎛              ⎛     l⎞  ⎞  ⎞\n",
       "⋅α̈ + cos(β)⋅α̇⋅β̇) - ⎜-c - ─⎟⋅sin (β)⋅α̇  + ⎜-w⋅cos(β)⋅α̇ - ⎜-c - ─⎟⋅β̇⎟⋅β̇⎟\n",
       "   ⎝     2⎠              ⎝              ⎝     2⎠  ⎠  ⎠"
      ]
     },
     "execution_count": 33,
     "metadata": {},
     "output_type": "execute_result"
    }
   ],
   "source": [
    "Q.a2pt_theory(S, N, B)"
   ]
  },
  {
   "cell_type": "code",
   "execution_count": 34,
   "id": "eedceb3d",
   "metadata": {
    "execution": {
     "iopub.execute_input": "2024-02-20T15:58:07.203009Z",
     "iopub.status.busy": "2024-02-20T15:58:07.202841Z",
     "iopub.status.idle": "2024-02-20T15:58:07.208080Z",
     "shell.execute_reply": "2024-02-20T15:58:07.207559Z"
    }
   },
   "outputs": [
    {
     "data": {
      "text/latex": [
       "$\\displaystyle \\ddot{s}\\hat{b}_x$"
      ],
      "text/plain": [
       "s̈ b_x"
      ]
     },
     "execution_count": 34,
     "metadata": {},
     "output_type": "execute_result"
    }
   ],
   "source": [
    "B_a_R = R.acc(B)\n",
    "B_a_R"
   ]
  },
  {
   "cell_type": "code",
   "execution_count": 35,
   "id": "9f27b267",
   "metadata": {
    "execution": {
     "iopub.execute_input": "2024-02-20T15:58:07.210034Z",
     "iopub.status.busy": "2024-02-20T15:58:07.209693Z",
     "iopub.status.idle": "2024-02-20T15:58:07.249730Z",
     "shell.execute_reply": "2024-02-20T15:58:07.249167Z"
    }
   },
   "outputs": [
    {
     "data": {
      "text/latex": [
       "$\\displaystyle d \\dot{\\alpha}^{2}\\hat{a}_x -  d \\ddot{\\alpha}\\hat{a}_y + (\\left(- c + \\frac{l}{2}\\right) \\left(\\sin{\\left(\\beta \\right)} \\ddot{\\alpha} + \\cos{\\left(\\beta \\right)} \\dot{\\alpha} \\dot{\\beta}\\right) - \\left(- w + s\\right) \\sin^{2}{\\left(\\beta \\right)} \\dot{\\alpha}^{2} - \\left(- \\left(- c + \\frac{l}{2}\\right) \\dot{\\beta} + \\left(- w + s\\right) \\cos{\\left(\\beta \\right)} \\dot{\\alpha}\\right) \\cos{\\left(\\beta \\right)} \\dot{\\alpha})\\hat{b}_x + (\\left(- c + \\frac{l}{2}\\right) \\sin{\\left(\\beta \\right)} \\cos{\\left(\\beta \\right)} \\dot{\\alpha}^{2} - \\left(- c + \\frac{l}{2}\\right) \\ddot{\\beta} + \\left(- w + s\\right) \\left(- \\sin{\\left(\\beta \\right)} \\dot{\\alpha} \\dot{\\beta} + \\cos{\\left(\\beta \\right)} \\ddot{\\alpha}\\right) + \\left(- w + s\\right) \\sin{\\left(\\beta \\right)} \\dot{\\alpha} \\dot{\\beta})\\hat{b}_y + (- \\left(- c + \\frac{l}{2}\\right) \\sin^{2}{\\left(\\beta \\right)} \\dot{\\alpha}^{2} - \\left(- w + s\\right) \\left(\\sin{\\left(\\beta \\right)} \\ddot{\\alpha} + \\cos{\\left(\\beta \\right)} \\dot{\\alpha} \\dot{\\beta}\\right) + \\left(- \\left(- c + \\frac{l}{2}\\right) \\dot{\\beta} + \\left(- w + s\\right) \\cos{\\left(\\beta \\right)} \\dot{\\alpha}\\right) \\dot{\\beta})\\hat{b}_z$"
      ],
      "text/plain": [
       "   2                  ⎛⎛     l⎞                                       2     2\n",
       "d⋅α̇  a_x + -d⋅α̈ a_y + ⎜⎜-c + ─⎟⋅(sin(β)⋅α̈ + cos(β)⋅α̇⋅β̇) - (-w + s)⋅sin (β\n",
       "                      ⎝⎝     2⎠\n",
       "\n",
       "  ⎛  ⎛     l⎞                      ⎞         ⎞       ⎛⎛     l⎞\n",
       ")⋅α̇  - ⎜- ⎜-c + ─⎟⋅β̇ + (-w + s)⋅cos(β)⋅α̇⎟⋅cos(β)⋅α̇⎟ b_x + ⎜⎜-c + ─⎟⋅sin(β)\n",
       "  ⎝  ⎝     2⎠                      ⎠         ⎠       ⎝⎝     2⎠\n",
       "\n",
       "2   ⎛     l⎞                                                            ⎞\n",
       "⋅cos(β)⋅α̇  - ⎜-c + ─⎟⋅β̈ + (-w + s)⋅(-sin(β)⋅α̇⋅β̇ + cos(β)⋅α̈) + (-w + s)⋅si\n",
       "    ⎝     2⎠                                                            ⎠\n",
       "\n",
       "  ⎛  ⎛     l⎞    2     2                                      ⎛  ⎛     l⎞\n",
       "n(β)⋅α̇⋅β̇⎟ b_y + ⎜- ⎜-c + ─⎟⋅sin (β)⋅α̇  - (-w + s)⋅(sin(β)⋅α̈ + cos(β)⋅α̇⋅β̇\n",
       "  ⎝  ⎝     2⎠                                                 ⎝  ⎝     2⎠\n",
       "\n",
       "                 ⎞  ⎞\n",
       ") + ⎜- ⎜-c + ─⎟⋅β̇ + (-w + s)⋅cos(β)⋅α̇⎟⋅β̇⎟ b_z\n",
       "                 ⎠  ⎠"
      ]
     },
     "execution_count": 35,
     "metadata": {},
     "output_type": "execute_result"
    }
   ],
   "source": [
    "N_a_T = R.a2pt_theory(S, N, B)\n",
    "N_a_T"
   ]
  },
  {
   "cell_type": "code",
   "execution_count": 36,
   "id": "ad11019b",
   "metadata": {
    "execution": {
     "iopub.execute_input": "2024-02-20T15:58:07.251814Z",
     "iopub.status.busy": "2024-02-20T15:58:07.251372Z",
     "iopub.status.idle": "2024-02-20T15:58:07.260312Z",
     "shell.execute_reply": "2024-02-20T15:58:07.259764Z"
    }
   },
   "outputs": [
    {
     "data": {
      "text/latex": [
       "$\\displaystyle 2 \\cos{\\left(\\beta \\right)} \\dot{\\alpha} \\dot{s}\\hat{b}_y -  2 \\sin{\\left(\\beta \\right)} \\dot{\\alpha} \\dot{s}\\hat{b}_z$"
      ],
      "text/plain": [
       "2⋅cos(β)⋅α̇⋅ṡ b_y + -2⋅sin(β)⋅α̇⋅ṡ b_z"
      ]
     },
     "execution_count": 36,
     "metadata": {},
     "output_type": "execute_result"
    }
   ],
   "source": [
    "2*me.cross(B.ang_vel_in(N), R.vel(B))"
   ]
  },
  {
   "cell_type": "code",
   "execution_count": 37,
   "id": "de223600",
   "metadata": {
    "execution": {
     "iopub.execute_input": "2024-02-20T15:58:07.262590Z",
     "iopub.status.busy": "2024-02-20T15:58:07.262164Z",
     "iopub.status.idle": "2024-02-20T15:58:07.304248Z",
     "shell.execute_reply": "2024-02-20T15:58:07.303787Z"
    }
   },
   "outputs": [
    {
     "data": {
      "text/latex": [
       "$\\displaystyle (\\left(- c + \\frac{l}{2}\\right) \\left(\\sin{\\left(\\beta \\right)} \\ddot{\\alpha} + \\cos{\\left(\\beta \\right)} \\dot{\\alpha} \\dot{\\beta}\\right) - \\left(- w + s\\right) \\sin^{2}{\\left(\\beta \\right)} \\dot{\\alpha}^{2} - \\left(- \\left(- c + \\frac{l}{2}\\right) \\dot{\\beta} + \\left(- w + s\\right) \\cos{\\left(\\beta \\right)} \\dot{\\alpha}\\right) \\cos{\\left(\\beta \\right)} \\dot{\\alpha} + \\ddot{s})\\hat{b}_x + (\\left(- c + \\frac{l}{2}\\right) \\sin{\\left(\\beta \\right)} \\cos{\\left(\\beta \\right)} \\dot{\\alpha}^{2} - \\left(- c + \\frac{l}{2}\\right) \\ddot{\\beta} + \\left(- w + s\\right) \\left(- \\sin{\\left(\\beta \\right)} \\dot{\\alpha} \\dot{\\beta} + \\cos{\\left(\\beta \\right)} \\ddot{\\alpha}\\right) + \\left(- w + s\\right) \\sin{\\left(\\beta \\right)} \\dot{\\alpha} \\dot{\\beta} + 2 \\cos{\\left(\\beta \\right)} \\dot{\\alpha} \\dot{s})\\hat{b}_y + (- \\left(- c + \\frac{l}{2}\\right) \\sin^{2}{\\left(\\beta \\right)} \\dot{\\alpha}^{2} - \\left(- w + s\\right) \\left(\\sin{\\left(\\beta \\right)} \\ddot{\\alpha} + \\cos{\\left(\\beta \\right)} \\dot{\\alpha} \\dot{\\beta}\\right) + \\left(- \\left(- c + \\frac{l}{2}\\right) \\dot{\\beta} + \\left(- w + s\\right) \\cos{\\left(\\beta \\right)} \\dot{\\alpha}\\right) \\dot{\\beta} - 2 \\sin{\\left(\\beta \\right)} \\dot{\\alpha} \\dot{s})\\hat{b}_z + d \\dot{\\alpha}^{2}\\hat{a}_x -  d \\ddot{\\alpha}\\hat{a}_y$"
      ],
      "text/plain": [
       "⎛⎛     l⎞                                       2     2   ⎛  ⎛     l⎞\n",
       "⎜⎜-c + ─⎟⋅(sin(β)⋅α̈ + cos(β)⋅α̇⋅β̇) - (-w + s)⋅sin (β)⋅α̇  - ⎜- ⎜-c + ─⎟⋅β̇ +\n",
       "⎝⎝     2⎠                                                 ⎝  ⎝     2⎠\n",
       "\n",
       "             ⎞             ⎞       ⎛⎛     l⎞                2   ⎛     l⎞\n",
       " (-w + s)⋅cos(β)⋅α̇⎟⋅cos(β)⋅α̇ + s̈⎟ b_x + ⎜⎜-c + ─⎟⋅sin(β)⋅cos(β)⋅α̇  - ⎜-c +\n",
       "             ⎠             ⎠       ⎝⎝     2⎠                    ⎝     2⎠\n",
       "\n",
       "                                                                     ⎞       ⎛\n",
       " ─⎟⋅β̈ + (-w + s)⋅(-sin(β)⋅α̇⋅β̇ + cos(β)⋅α̈) + (-w + s)⋅sin(β)⋅α̇⋅β̇ + 2⋅cos(\n",
       "                                                                     ⎠       ⎝\n",
       "\n",
       "  ⎛     l⎞    2     2                                      ⎛  ⎛     l⎞\n",
       "β)⋅α̇⋅ṡ⎟ b_y + ⎜- ⎜-c + ─⎟⋅sin (β)⋅α̇  - (-w + s)⋅(sin(β)⋅α̈ + cos(β)⋅α̇⋅β̇)\n",
       "  ⎝     2⎠                                                 ⎝  ⎝     2⎠\n",
       "\n",
       "              ⎞                 ⎞          2\n",
       "+ ⎜- ⎜-c + ─⎟⋅β̇ + (-w + s)⋅cos(β)⋅α̇⎟⋅β̇ - 2⋅sin(β)⋅α̇⋅ṡ⎟ b_z + d⋅α̇  a_x +\n",
       "              ⎠                 ⎠"
      ]
     },
     "execution_count": 37,
     "metadata": {},
     "output_type": "execute_result"
    }
   ],
   "source": [
    "R.a1pt_theory(S, N, B)"
   ]
  }
 ],
 "metadata": {
  "kernelspec": {
   "display_name": "Python 3 (ipykernel)",
   "language": "python",
   "name": "python3"
  },
  "language_info": {
   "codemirror_mode": {
    "name": "ipython",
    "version": 3
   },
   "file_extension": ".py",
   "mimetype": "text/x-python",
   "name": "python",
   "nbconvert_exporter": "python",
   "pygments_lexer": "ipython3",
   "version": "3.10.13"
  }
 },
 "nbformat": 4,
 "nbformat_minor": 5
}