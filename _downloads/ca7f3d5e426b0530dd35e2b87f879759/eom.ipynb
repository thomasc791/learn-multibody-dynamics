{
 "cells": [
  {
   "cell_type": "code",
   "execution_count": 1,
   "id": "960ad832",
   "metadata": {
    "execution": {
     "iopub.execute_input": "2024-02-20T15:52:59.492353Z",
     "iopub.status.busy": "2024-02-20T15:52:59.492173Z",
     "iopub.status.idle": "2024-02-20T15:52:59.863230Z",
     "shell.execute_reply": "2024-02-20T15:52:59.862600Z"
    }
   },
   "outputs": [],
   "source": [
    "import sympy as sm\n",
    "import sympy.physics.mechanics as me\n",
    "me.init_vprinting(use_latex='mathjax')"
   ]
  },
  {
   "cell_type": "code",
   "execution_count": 2,
   "id": "cb8cac2a",
   "metadata": {
    "execution": {
     "iopub.execute_input": "2024-02-20T15:52:59.865840Z",
     "iopub.status.busy": "2024-02-20T15:52:59.865611Z",
     "iopub.status.idle": "2024-02-20T15:52:59.869693Z",
     "shell.execute_reply": "2024-02-20T15:52:59.869217Z"
    }
   },
   "outputs": [],
   "source": [
    "class ReferenceFrame(me.ReferenceFrame):\n",
    "\n",
    "    def __init__(self, *args, **kwargs):\n",
    "\n",
    "        kwargs.pop('latexs', None)\n",
    "\n",
    "        lab = args[0].lower()\n",
    "        tex = r'\\hat{{{}}}_{}'\n",
    "\n",
    "        super(ReferenceFrame, self).__init__(*args,\n",
    "                                             latexs=(tex.format(lab, 'x'),\n",
    "                                                     tex.format(lab, 'y'),\n",
    "                                                     tex.format(lab, 'z')),\n",
    "                                             **kwargs)\n",
    "me.ReferenceFrame = ReferenceFrame"
   ]
  },
  {
   "cell_type": "code",
   "execution_count": 3,
   "id": "8e323970",
   "metadata": {
    "execution": {
     "iopub.execute_input": "2024-02-20T15:52:59.871958Z",
     "iopub.status.busy": "2024-02-20T15:52:59.871555Z",
     "iopub.status.idle": "2024-02-20T15:52:59.878138Z",
     "shell.execute_reply": "2024-02-20T15:52:59.877551Z"
    }
   },
   "outputs": [],
   "source": [
    "m, Ixx, Iyy, Izz = sm.symbols('m, I_{xx}, I_{yy}, I_{zz}')\n",
    "Ixy, Iyz, Ixz = sm.symbols('I_{xy}, I_{yz}, I_{xz}')\n",
    "Fx, Fy, Fz, Mx, My, Mz = me.dynamicsymbols('F_x, F_y, F_z, M_x, M_y, M_z')\n",
    "u1, u2, u3, u4, u5, u6 = me.dynamicsymbols('u1, u2, u3, u4, u5, u6')\n",
    "\n",
    "A = me.ReferenceFrame('A')\n",
    "B = me.ReferenceFrame('B')\n",
    "\n",
    "Bo = me.Point('Bo')"
   ]
  },
  {
   "cell_type": "code",
   "execution_count": 4,
   "id": "d2c0dcc8",
   "metadata": {
    "execution": {
     "iopub.execute_input": "2024-02-20T15:52:59.880379Z",
     "iopub.status.busy": "2024-02-20T15:52:59.880001Z",
     "iopub.status.idle": "2024-02-20T15:52:59.886365Z",
     "shell.execute_reply": "2024-02-20T15:52:59.885824Z"
    }
   },
   "outputs": [],
   "source": [
    "A_w_B = u4*B.x + u5*B.y + u6*B.z\n",
    "B.set_ang_vel(A, A_w_B)\n",
    "\n",
    "A_v_Bo = u1*B.x + u2*B.y + u3*B.z\n",
    "Bo.set_vel(A, A_v_Bo)"
   ]
  },
  {
   "cell_type": "code",
   "execution_count": 5,
   "id": "f67c6326",
   "metadata": {
    "execution": {
     "iopub.execute_input": "2024-02-20T15:52:59.888440Z",
     "iopub.status.busy": "2024-02-20T15:52:59.888262Z",
     "iopub.status.idle": "2024-02-20T15:52:59.905711Z",
     "shell.execute_reply": "2024-02-20T15:52:59.905170Z"
    }
   },
   "outputs": [
    {
     "data": {
      "text/latex": [
       "$\\displaystyle \\left( \\hat{b}_x, \\  \\hat{b}_y, \\  \\hat{b}_z, \\  0, \\  0, \\  0\\right)$"
      ],
      "text/plain": [
       "(b_x, b_y, b_z, 0, 0, 0)"
      ]
     },
     "execution_count": 5,
     "metadata": {},
     "output_type": "execute_result"
    }
   ],
   "source": [
    "v_Bo_1 = A_v_Bo.diff(u1, A, var_in_dcm=False)\n",
    "v_Bo_2 = A_v_Bo.diff(u2, A, var_in_dcm=False)\n",
    "v_Bo_3 = A_v_Bo.diff(u3, A, var_in_dcm=False)\n",
    "v_Bo_4 = A_v_Bo.diff(u4, A, var_in_dcm=False)\n",
    "v_Bo_5 = A_v_Bo.diff(u5, A, var_in_dcm=False)\n",
    "v_Bo_6 = A_v_Bo.diff(u6, A, var_in_dcm=False)\n",
    "\n",
    "v_Bo_1, v_Bo_2, v_Bo_3, v_Bo_4, v_Bo_5, v_Bo_6"
   ]
  },
  {
   "cell_type": "code",
   "execution_count": 6,
   "id": "709f1f03",
   "metadata": {
    "execution": {
     "iopub.execute_input": "2024-02-20T15:52:59.907817Z",
     "iopub.status.busy": "2024-02-20T15:52:59.907611Z",
     "iopub.status.idle": "2024-02-20T15:52:59.917760Z",
     "shell.execute_reply": "2024-02-20T15:52:59.917243Z"
    }
   },
   "outputs": [
    {
     "data": {
      "text/latex": [
       "$\\displaystyle \\left( 0, \\  0, \\  0, \\  \\hat{b}_x, \\  \\hat{b}_y, \\  \\hat{b}_z\\right)$"
      ],
      "text/plain": [
       "(0, 0, 0, b_x, b_y, b_z)"
      ]
     },
     "execution_count": 6,
     "metadata": {},
     "output_type": "execute_result"
    }
   ],
   "source": [
    "w_B_1 = A_w_B.diff(u1, A, var_in_dcm=False)\n",
    "w_B_2 = A_w_B.diff(u2, A, var_in_dcm=False)\n",
    "w_B_3 = A_w_B.diff(u3, A, var_in_dcm=False)\n",
    "w_B_4 = A_w_B.diff(u4, A, var_in_dcm=False)\n",
    "w_B_5 = A_w_B.diff(u5, A, var_in_dcm=False)\n",
    "w_B_6 = A_w_B.diff(u6, A, var_in_dcm=False)\n",
    "\n",
    "w_B_1, w_B_2, w_B_3, w_B_4, w_B_5, w_B_6"
   ]
  },
  {
   "cell_type": "code",
   "execution_count": 7,
   "id": "1a868797",
   "metadata": {
    "execution": {
     "iopub.execute_input": "2024-02-20T15:52:59.919928Z",
     "iopub.status.busy": "2024-02-20T15:52:59.919724Z",
     "iopub.status.idle": "2024-02-20T15:52:59.932806Z",
     "shell.execute_reply": "2024-02-20T15:52:59.932223Z"
    }
   },
   "outputs": [
    {
     "data": {
      "text/latex": [
       "$\\displaystyle \\left[ \\left[ \\hat{b}_x, \\  \\hat{b}_y, \\  \\hat{b}_z, \\  0, \\  0, \\  0\\right], \\  \\left[ 0, \\  0, \\  0, \\  \\hat{b}_x, \\  \\hat{b}_y, \\  \\hat{b}_z\\right]\\right]$"
      ],
      "text/plain": [
       "[[b_x, b_y, b_z, 0, 0, 0], [0, 0, 0, b_x, b_y, b_z]]"
      ]
     },
     "execution_count": 7,
     "metadata": {},
     "output_type": "execute_result"
    }
   ],
   "source": [
    "par_vels = me.partial_velocity([A_v_Bo, A_w_B], [u1, u2, u3, u4, u5, u6], A)\n",
    "\n",
    "par_vels"
   ]
  },
  {
   "cell_type": "code",
   "execution_count": 8,
   "id": "9630e1a6",
   "metadata": {
    "execution": {
     "iopub.execute_input": "2024-02-20T15:52:59.935127Z",
     "iopub.status.busy": "2024-02-20T15:52:59.934714Z",
     "iopub.status.idle": "2024-02-20T15:52:59.948991Z",
     "shell.execute_reply": "2024-02-20T15:52:59.948353Z"
    }
   },
   "outputs": [
    {
     "data": {
      "text/latex": [
       "$\\displaystyle \\left[\\begin{matrix}F_{x}\\\\F_{y}\\\\F_{z}\\\\M_{x}\\\\M_{x}\\\\M_{z}\\end{matrix}\\right]$"
      ],
      "text/plain": [
       "⎡Fₓ ⎤\n",
       "⎢   ⎥\n",
       "⎢F_y⎥\n",
       "⎢   ⎥\n",
       "⎢F_z⎥\n",
       "⎢   ⎥\n",
       "⎢Mₓ ⎥\n",
       "⎢   ⎥\n",
       "⎢Mₓ ⎥\n",
       "⎢   ⎥\n",
       "⎣M_z⎦"
      ]
     },
     "execution_count": 8,
     "metadata": {},
     "output_type": "execute_result"
    }
   ],
   "source": [
    "T = Mx*B.x + My*B.y + Mz*B.z\n",
    "R = Fx*B.x + Fy*B.y + Fz*B.z\n",
    "\n",
    "F1 = v_Bo_1.dot(R) + w_B_1.dot(T)\n",
    "F2 = v_Bo_2.dot(R) + w_B_2.dot(T)\n",
    "F3 = v_Bo_3.dot(R) + w_B_3.dot(T)\n",
    "F4 = v_Bo_4.dot(R) + w_B_4.dot(T)\n",
    "F5 = v_Bo_5.dot(R) + w_B_5.dot(T)\n",
    "F6 = v_Bo_6.dot(R) + w_B_6.dot(T)\n",
    "\n",
    "Fr = sm.Matrix([F1, F2, F3, F4, F4, F6])\n",
    "Fr"
   ]
  },
  {
   "cell_type": "code",
   "execution_count": 9,
   "id": "e29457c3",
   "metadata": {
    "execution": {
     "iopub.execute_input": "2024-02-20T15:52:59.951727Z",
     "iopub.status.busy": "2024-02-20T15:52:59.951168Z",
     "iopub.status.idle": "2024-02-20T15:53:00.083262Z",
     "shell.execute_reply": "2024-02-20T15:53:00.082713Z"
    }
   },
   "outputs": [
    {
     "data": {
      "text/latex": [
       "$\\displaystyle \\left[\\begin{matrix}- m \\left(- u_{2} u_{6} + u_{3} u_{5} + \\dot{u}_{1}\\right)\\\\- m \\left(u_{1} u_{6} - u_{3} u_{4} + \\dot{u}_{2}\\right)\\\\- m \\left(- u_{1} u_{5} + u_{2} u_{4} + \\dot{u}_{3}\\right)\\\\- I_{xx} \\dot{u}_{4} - I_{xy} \\dot{u}_{5} - I_{xz} \\dot{u}_{6} - \\left(- I_{xy} u_{6} + I_{xz} u_{5}\\right) u_{4} - \\left(- I_{yy} u_{6} + I_{yz} u_{5}\\right) u_{5} - \\left(- I_{yz} u_{6} + I_{zz} u_{5}\\right) u_{6}\\\\- I_{xy} \\dot{u}_{4} - I_{yy} \\dot{u}_{5} - I_{yz} \\dot{u}_{6} - \\left(I_{xx} u_{6} - I_{xz} u_{4}\\right) u_{4} - \\left(I_{xy} u_{6} - I_{yz} u_{4}\\right) u_{5} - \\left(I_{xz} u_{6} - I_{zz} u_{4}\\right) u_{6}\\\\- I_{xz} \\dot{u}_{4} - I_{yz} \\dot{u}_{5} - I_{zz} \\dot{u}_{6} - \\left(- I_{xx} u_{5} + I_{xy} u_{4}\\right) u_{4} - \\left(- I_{xy} u_{5} + I_{yy} u_{4}\\right) u_{5} - \\left(- I_{xz} u_{5} + I_{yz} u_{4}\\right) u_{6}\\end{matrix}\\right]$"
      ],
      "text/plain": [
       "⎡                                                  -m⋅(-u₂⋅u₆ + u₃⋅u₅ + u₁̇)  \n",
       "⎢                                                                             \n",
       "⎢                                                  -m⋅(u₁⋅u₆ - u₃⋅u₄ + u₂̇)   \n",
       "⎢                                                                             \n",
       "⎢                                                  -m⋅(-u₁⋅u₅ + u₂⋅u₄ + u₃̇)  \n",
       "⎢                                                                             \n",
       "⎢-I_{xx}⋅u₄̇ - I_{xy}⋅u₅̇ - I_{xz}⋅u₆̇ - (-I_{xy}⋅u₆ + I_{xz}⋅u₅)⋅u₄ - (-I_{yy\n",
       "⎢                                                                             \n",
       "⎢ -I_{xy}⋅u₄̇ - I_{yy}⋅u₅̇ - I_{yz}⋅u₆̇ - (I_{xx}⋅u₆ - I_{xz}⋅u₄)⋅u₄ - (I_{xy}\n",
       "⎢                                                                             \n",
       "⎣-I_{xz}⋅u₄̇ - I_{yz}⋅u₅̇ - I_{zz}⋅u₆̇ - (-I_{xx}⋅u₅ + I_{xy}⋅u₄)⋅u₄ - (-I_{xy\n",
       "\n",
       "                                                ⎤\n",
       "                                               ⎥\n",
       "                                                ⎥\n",
       "                                               ⎥\n",
       "                                                ⎥\n",
       "                                               ⎥\n",
       "}⋅u₆ + I_{yz}⋅u₅)⋅u₅ - (-I_{yz}⋅u₆ + I_{zz}⋅u₅)⋅u₆⎥\n",
       "                                               ⎥\n",
       "⋅u₆ - I_{yz}⋅u₄)⋅u₅ - (I_{xz}⋅u₆ - I_{zz}⋅u₄)⋅u₆  ⎥\n",
       "                                               ⎥\n",
       "}⋅u₅ + I_{yy}⋅u₄)⋅u₅ - (-I_{xz}⋅u₅ + I_{yz}⋅u₄)⋅u₆⎦"
      ]
     },
     "execution_count": 9,
     "metadata": {},
     "output_type": "execute_result"
    }
   ],
   "source": [
    "I = me.inertia(B, Ixx, Iyy, Izz, Ixy, Iyz, Ixz)\n",
    "\n",
    "Rs = -m*Bo.acc(A)\n",
    "Ts = -(B.ang_acc_in(A).dot(I) + me.cross(A_w_B, I).dot(A_w_B))\n",
    "\n",
    "F1s = v_Bo_1.dot(Rs) + w_B_1.dot(Ts)\n",
    "F2s = v_Bo_2.dot(Rs) + w_B_2.dot(Ts)\n",
    "F3s = v_Bo_3.dot(Rs) + w_B_3.dot(Ts)\n",
    "F4s = v_Bo_4.dot(Rs) + w_B_4.dot(Ts)\n",
    "F5s = v_Bo_5.dot(Rs) + w_B_5.dot(Ts)\n",
    "F6s = v_Bo_6.dot(Rs) + w_B_6.dot(Ts)\n",
    "\n",
    "Frs = sm.Matrix([F1s, F2s, F3s, F4s, F5s, F6s])\n",
    "Frs"
   ]
  },
  {
   "cell_type": "code",
   "execution_count": 10,
   "id": "6510c8dd",
   "metadata": {
    "execution": {
     "iopub.execute_input": "2024-02-20T15:53:00.085593Z",
     "iopub.status.busy": "2024-02-20T15:53:00.085241Z",
     "iopub.status.idle": "2024-02-20T15:53:00.111963Z",
     "shell.execute_reply": "2024-02-20T15:53:00.111346Z"
    }
   },
   "outputs": [
    {
     "data": {
      "text/latex": [
       "$\\displaystyle \\left[\\begin{matrix}- m \\left(- u_{2} u_{6} + u_{3} u_{5} + \\dot{u}_{1}\\right) + F_{x}\\\\- m \\left(u_{1} u_{6} - u_{3} u_{4} + \\dot{u}_{2}\\right) + F_{y}\\\\- m \\left(- u_{1} u_{5} + u_{2} u_{4} + \\dot{u}_{3}\\right) + F_{z}\\\\- I_{xx} \\dot{u}_{4} - I_{xy} \\dot{u}_{5} - I_{xz} \\dot{u}_{6} - \\left(- I_{xy} u_{6} + I_{xz} u_{5}\\right) u_{4} - \\left(- I_{yy} u_{6} + I_{yz} u_{5}\\right) u_{5} - \\left(- I_{yz} u_{6} + I_{zz} u_{5}\\right) u_{6} + M_{x}\\\\- I_{xy} \\dot{u}_{4} - I_{yy} \\dot{u}_{5} - I_{yz} \\dot{u}_{6} - \\left(I_{xx} u_{6} - I_{xz} u_{4}\\right) u_{4} - \\left(I_{xy} u_{6} - I_{yz} u_{4}\\right) u_{5} - \\left(I_{xz} u_{6} - I_{zz} u_{4}\\right) u_{6} + M_{x}\\\\- I_{xz} \\dot{u}_{4} - I_{yz} \\dot{u}_{5} - I_{zz} \\dot{u}_{6} - \\left(- I_{xx} u_{5} + I_{xy} u_{4}\\right) u_{4} - \\left(- I_{xy} u_{5} + I_{yy} u_{4}\\right) u_{5} - \\left(- I_{xz} u_{5} + I_{yz} u_{4}\\right) u_{6} + M_{z}\\end{matrix}\\right]$"
      ],
      "text/plain": [
       "⎡                                                  -m⋅(-u₂⋅u₆ + u₃⋅u₅ + u₁̇) +\n",
       "⎢                                                                             \n",
       "⎢                                                  -m⋅(u₁⋅u₆ - u₃⋅u₄ + u₂̇) + \n",
       "⎢                                                                             \n",
       "⎢                                                  -m⋅(-u₁⋅u₅ + u₂⋅u₄ + u₃̇) +\n",
       "⎢                                                                             \n",
       "⎢-I_{xx}⋅u₄̇ - I_{xy}⋅u₅̇ - I_{xz}⋅u₆̇ - (-I_{xy}⋅u₆ + I_{xz}⋅u₅)⋅u₄ - (-I_{yy\n",
       "⎢                                                                             \n",
       "⎢  -I_{xy}⋅u₄̇ - I_{yy}⋅u₅̇ - I_{yz}⋅u₆̇ - (I_{xx}⋅u₆ - I_{xz}⋅u₄)⋅u₄ - (I_{xy\n",
       "⎢                                                                             \n",
       "⎣-I_{xz}⋅u₄̇ - I_{yz}⋅u₅̇ - I_{zz}⋅u₆̇ - (-I_{xx}⋅u₅ + I_{xy}⋅u₄)⋅u₄ - (-I_{xy\n",
       "\n",
       " Fₓ                                                   ⎤\n",
       "                                                     ⎥\n",
       "F_y                                                   ⎥\n",
       "                                                     ⎥\n",
       " F_z                                                  ⎥\n",
       "                                                     ⎥\n",
       "}⋅u₆ + I_{yz}⋅u₅)⋅u₅ - (-I_{yz}⋅u₆ + I_{zz}⋅u₅)⋅u₆ + Mₓ ⎥\n",
       "                                                     ⎥\n",
       "}⋅u₆ - I_{yz}⋅u₄)⋅u₅ - (I_{xz}⋅u₆ - I_{zz}⋅u₄)⋅u₆ + Mₓ  ⎥\n",
       "                                                     ⎥\n",
       "}⋅u₅ + I_{yy}⋅u₄)⋅u₅ - (-I_{xz}⋅u₅ + I_{yz}⋅u₄)⋅u₆ + M_z⎦"
      ]
     },
     "execution_count": 10,
     "metadata": {},
     "output_type": "execute_result"
    }
   ],
   "source": [
    "Fr + Frs"
   ]
  },
  {
   "cell_type": "code",
   "execution_count": 11,
   "id": "9dae22e5",
   "metadata": {
    "execution": {
     "iopub.execute_input": "2024-02-20T15:53:00.114000Z",
     "iopub.status.busy": "2024-02-20T15:53:00.113828Z",
     "iopub.status.idle": "2024-02-20T15:53:00.118890Z",
     "shell.execute_reply": "2024-02-20T15:53:00.118332Z"
    }
   },
   "outputs": [],
   "source": [
    "u = sm.Matrix([u1, u2, u3, u4, u5, u6])\n",
    "t = me.dynamicsymbols._t\n",
    "ud = u.diff(t)"
   ]
  },
  {
   "cell_type": "code",
   "execution_count": 12,
   "id": "25285821",
   "metadata": {
    "execution": {
     "iopub.execute_input": "2024-02-20T15:53:00.120844Z",
     "iopub.status.busy": "2024-02-20T15:53:00.120659Z",
     "iopub.status.idle": "2024-02-20T15:53:00.154050Z",
     "shell.execute_reply": "2024-02-20T15:53:00.153539Z"
    }
   },
   "outputs": [
    {
     "data": {
      "text/latex": [
       "$\\displaystyle \\left[\\begin{matrix}m & 0 & 0 & 0 & 0 & 0\\\\0 & m & 0 & 0 & 0 & 0\\\\0 & 0 & m & 0 & 0 & 0\\\\0 & 0 & 0 & I_{xx} & I_{xy} & I_{xz}\\\\0 & 0 & 0 & I_{xy} & I_{yy} & I_{yz}\\\\0 & 0 & 0 & I_{xz} & I_{yz} & I_{zz}\\end{matrix}\\right]$"
      ],
      "text/plain": [
       "⎡m  0  0    0       0       0   ⎤\n",
       "⎢                               ⎥\n",
       "⎢0  m  0    0       0       0   ⎥\n",
       "⎢                               ⎥\n",
       "⎢0  0  m    0       0       0   ⎥\n",
       "⎢                               ⎥\n",
       "⎢0  0  0  I_{xx}  I_{xy}  I_{xz}⎥\n",
       "⎢                               ⎥\n",
       "⎢0  0  0  I_{xy}  I_{yy}  I_{yz}⎥\n",
       "⎢                               ⎥\n",
       "⎣0  0  0  I_{xz}  I_{yz}  I_{zz}⎦"
      ]
     },
     "execution_count": 12,
     "metadata": {},
     "output_type": "execute_result"
    }
   ],
   "source": [
    "M = -Frs.jacobian(ud)\n",
    "M"
   ]
  },
  {
   "cell_type": "code",
   "execution_count": 13,
   "id": "01024d8a",
   "metadata": {
    "execution": {
     "iopub.execute_input": "2024-02-20T15:53:00.156054Z",
     "iopub.status.busy": "2024-02-20T15:53:00.155876Z",
     "iopub.status.idle": "2024-02-20T15:53:00.175015Z",
     "shell.execute_reply": "2024-02-20T15:53:00.174454Z"
    }
   },
   "outputs": [
    {
     "data": {
      "text/latex": [
       "$\\displaystyle \\left[\\begin{matrix}m \\left(- u_{2} u_{6} + u_{3} u_{5}\\right)\\\\m \\left(u_{1} u_{6} - u_{3} u_{4}\\right)\\\\m \\left(- u_{1} u_{5} + u_{2} u_{4}\\right)\\\\\\left(- I_{xy} u_{6} + I_{xz} u_{5}\\right) u_{4} + \\left(- I_{yy} u_{6} + I_{yz} u_{5}\\right) u_{5} + \\left(- I_{yz} u_{6} + I_{zz} u_{5}\\right) u_{6}\\\\\\left(I_{xx} u_{6} - I_{xz} u_{4}\\right) u_{4} + \\left(I_{xy} u_{6} - I_{yz} u_{4}\\right) u_{5} + \\left(I_{xz} u_{6} - I_{zz} u_{4}\\right) u_{6}\\\\\\left(- I_{xx} u_{5} + I_{xy} u_{4}\\right) u_{4} + \\left(- I_{xy} u_{5} + I_{yy} u_{4}\\right) u_{5} + \\left(- I_{xz} u_{5} + I_{yz} u_{4}\\right) u_{6}\\end{matrix}\\right]$"
      ],
      "text/plain": [
       "⎡                                  m⋅(-u₂⋅u₆ + u₃⋅u₅)                         \n",
       "⎢                                                                             \n",
       "⎢                                   m⋅(u₁⋅u₆ - u₃⋅u₄)                         \n",
       "⎢                                                                             \n",
       "⎢                                  m⋅(-u₁⋅u₅ + u₂⋅u₄)                         \n",
       "⎢                                                                             \n",
       "⎢(-I_{xy}⋅u₆ + I_{xz}⋅u₅)⋅u₄ + (-I_{yy}⋅u₆ + I_{yz}⋅u₅)⋅u₅ + (-I_{yz}⋅u₆ + I_{\n",
       "⎢                                                                             \n",
       "⎢ (I_{xx}⋅u₆ - I_{xz}⋅u₄)⋅u₄ + (I_{xy}⋅u₆ - I_{yz}⋅u₄)⋅u₅ + (I_{xz}⋅u₆ - I_{zz\n",
       "⎢                                                                             \n",
       "⎣(-I_{xx}⋅u₅ + I_{xy}⋅u₄)⋅u₄ + (-I_{xy}⋅u₅ + I_{yy}⋅u₄)⋅u₅ + (-I_{xz}⋅u₅ + I_{\n",
       "\n",
       "          ⎤\n",
       "          ⎥\n",
       "          ⎥\n",
       "          ⎥\n",
       "          ⎥\n",
       "          ⎥\n",
       "zz}⋅u₅)⋅u₆⎥\n",
       "          ⎥\n",
       "}⋅u₄)⋅u₆  ⎥\n",
       "          ⎥\n",
       "yz}⋅u₄)⋅u₆⎦"
      ]
     },
     "execution_count": 13,
     "metadata": {},
     "output_type": "execute_result"
    }
   ],
   "source": [
    "C = -Frs.xreplace({udi: 0 for udi in ud})\n",
    "C"
   ]
  },
  {
   "cell_type": "code",
   "execution_count": 14,
   "id": "f93bf7ff",
   "metadata": {
    "execution": {
     "iopub.execute_input": "2024-02-20T15:53:00.177093Z",
     "iopub.status.busy": "2024-02-20T15:53:00.176797Z",
     "iopub.status.idle": "2024-02-20T15:53:00.181656Z",
     "shell.execute_reply": "2024-02-20T15:53:00.181125Z"
    }
   },
   "outputs": [
    {
     "data": {
      "text/latex": [
       "$\\displaystyle \\left[\\begin{matrix}F_{x}\\\\F_{y}\\\\F_{z}\\\\M_{x}\\\\M_{x}\\\\M_{z}\\end{matrix}\\right]$"
      ],
      "text/plain": [
       "⎡Fₓ ⎤\n",
       "⎢   ⎥\n",
       "⎢F_y⎥\n",
       "⎢   ⎥\n",
       "⎢F_z⎥\n",
       "⎢   ⎥\n",
       "⎢Mₓ ⎥\n",
       "⎢   ⎥\n",
       "⎢Mₓ ⎥\n",
       "⎢   ⎥\n",
       "⎣M_z⎦"
      ]
     },
     "execution_count": 14,
     "metadata": {},
     "output_type": "execute_result"
    }
   ],
   "source": [
    "F = Fr\n",
    "F"
   ]
  },
  {
   "cell_type": "code",
   "execution_count": 15,
   "id": "ee69b04b",
   "metadata": {
    "execution": {
     "iopub.execute_input": "2024-02-20T15:53:00.183731Z",
     "iopub.status.busy": "2024-02-20T15:53:00.183299Z",
     "iopub.status.idle": "2024-02-20T15:53:00.204412Z",
     "shell.execute_reply": "2024-02-20T15:53:00.203940Z"
    }
   },
   "outputs": [
    {
     "data": {
      "text/latex": [
       "$\\displaystyle \\left( \\frac{l u_{1}}{2}\\hat{a}_y, \\  l u_{1}\\hat{a}_y, \\  u_{1}\\hat{n}_z, \\  u_{2}\\hat{a}_x + u_{1}\\hat{n}_z\\right)$"
      ],
      "text/plain": [
       "⎛  l⋅u₁  , l⋅u₁ a_y, u₁ n_z, u₂ a_x + u₁ n_z⎞\n",
       "⎜──── a_y                                   ⎟\n",
       "⎝    2                                      ⎠"
      ]
     },
     "execution_count": 15,
     "metadata": {},
     "output_type": "execute_result"
    }
   ],
   "source": [
    "m, g, kt, kl, l = sm.symbols('m, g, k_t, k_l, l')\n",
    "q1, q2, q3 = me.dynamicsymbols('q1, q2, q3')\n",
    "u1, u2, u3 = me.dynamicsymbols('u1, u2, u3')\n",
    "\n",
    "N = me.ReferenceFrame('N')\n",
    "A = me.ReferenceFrame('A')\n",
    "B = me.ReferenceFrame('B')\n",
    "\n",
    "A.orient_axis(N, q1, N.z)\n",
    "B.orient_axis(A, q2, A.x)\n",
    "\n",
    "A.set_ang_vel(N, u1*N.z)\n",
    "B.set_ang_vel(A, u2*A.x)\n",
    "\n",
    "O = me.Point('O')\n",
    "Ao = me.Point('A_O')\n",
    "Bo = me.Point('B_O')\n",
    "\n",
    "Ao.set_pos(O, l/2*A.x)\n",
    "Bo.set_pos(O, l*A.x)\n",
    "\n",
    "O.set_vel(N, 0)\n",
    "Ao.v2pt_theory(O, N, A)\n",
    "Bo.v2pt_theory(O, N, A)\n",
    "\n",
    "Ao.vel(N), Bo.vel(N), A.ang_vel_in(N), B.ang_vel_in(N)"
   ]
  },
  {
   "cell_type": "code",
   "execution_count": 16,
   "id": "c21a5964",
   "metadata": {
    "execution": {
     "iopub.execute_input": "2024-02-20T15:53:00.206286Z",
     "iopub.status.busy": "2024-02-20T15:53:00.206111Z",
     "iopub.status.idle": "2024-02-20T15:53:00.218609Z",
     "shell.execute_reply": "2024-02-20T15:53:00.218148Z"
    }
   },
   "outputs": [
    {
     "data": {
      "text/latex": [
       "$\\displaystyle -  q_{3} u_{1} \\cos{\\left(q_{2} \\right)}\\hat{b}_x + u_{3}\\hat{b}_y + q_{3} u_{2}\\hat{b}_z + l u_{1}\\hat{a}_y$"
      ],
      "text/plain": [
       "-q₃⋅u₁⋅cos(q₂) b_x + u₃ b_y + q₃⋅u₂ b_z + l⋅u₁ a_y"
      ]
     },
     "execution_count": 16,
     "metadata": {},
     "output_type": "execute_result"
    }
   ],
   "source": [
    "Q = me.Point('Q')\n",
    "Q.set_pos(Bo, q3*B.y)\n",
    "Q.set_vel(B, u3*B.y)\n",
    "Q.v1pt_theory(Bo, N, B)\n",
    "\n",
    "Q.vel(N)"
   ]
  },
  {
   "cell_type": "code",
   "execution_count": 17,
   "id": "9e0afc77",
   "metadata": {
    "execution": {
     "iopub.execute_input": "2024-02-20T15:53:00.220437Z",
     "iopub.status.busy": "2024-02-20T15:53:00.220267Z",
     "iopub.status.idle": "2024-02-20T15:53:00.239756Z",
     "shell.execute_reply": "2024-02-20T15:53:00.239199Z"
    }
   },
   "outputs": [
    {
     "data": {
      "text/latex": [
       "$\\displaystyle \\left( -  \\frac{l u_{1}^{2}}{2}\\hat{a}_x + \\frac{l \\dot{u}_{1}}{2}\\hat{a}_y, \\  -  l u_{1}^{2}\\hat{a}_x + l \\dot{u}_{1}\\hat{a}_y, \\  \\dot{u}_{1}\\hat{n}_z, \\  \\dot{u}_{2}\\hat{a}_x + u_{1} u_{2}\\hat{a}_y + \\dot{u}_{1}\\hat{n}_z\\right)$"
      ],
      "text/plain": [
       "⎛             2        ,              2       , u₁̇ n_z, u₂̇ a_x + u₁⋅u₂ a_y +\n",
       "⎜ -l⋅u₁         l⋅u₁̇    -l⋅u₁  a_x + l⋅u₁̇ a_y                               \n",
       "⎜─────── a_x + ──── a_y                                                       \n",
       "⎝      2           2                                                          \n",
       "\n",
       " u₁̇ n_z⎞\n",
       "      ⎟\n",
       "     ⎟\n",
       "     ⎠"
      ]
     },
     "execution_count": 17,
     "metadata": {},
     "output_type": "execute_result"
    }
   ],
   "source": [
    "Ao.acc(N), Bo.acc(N), A.ang_acc_in(N), B.ang_acc_in(N)"
   ]
  },
  {
   "cell_type": "code",
   "execution_count": 18,
   "id": "d57a8d65",
   "metadata": {
    "execution": {
     "iopub.execute_input": "2024-02-20T15:53:00.241637Z",
     "iopub.status.busy": "2024-02-20T15:53:00.241475Z",
     "iopub.status.idle": "2024-02-20T15:53:00.270265Z",
     "shell.execute_reply": "2024-02-20T15:53:00.269815Z"
    }
   },
   "outputs": [
    {
     "data": {
      "text/latex": [
       "$\\displaystyle (q_{3} u_{1} u_{2} \\sin{\\left(q_{2} \\right)} + q_{3} u_{1} \\sin{\\left(q_{2} \\right)} \\dot{q}_{2} - q_{3} \\cos{\\left(q_{2} \\right)} \\dot{u}_{1} - u_{1} u_{3} \\cos{\\left(q_{2} \\right)} - u_{1} \\cos{\\left(q_{2} \\right)} \\dot{q}_{3})\\hat{b}_x + (- q_{3} u_{1}^{2} \\cos^{2}{\\left(q_{2} \\right)} - q_{3} u_{2}^{2} + \\dot{u}_{3})\\hat{b}_y + (q_{3} u_{1}^{2} \\sin{\\left(q_{2} \\right)} \\cos{\\left(q_{2} \\right)} + q_{3} \\dot{u}_{2} + u_{2} u_{3} + u_{2} \\dot{q}_{3})\\hat{b}_z -  l u_{1}^{2}\\hat{a}_x + l \\dot{u}_{1}\\hat{a}_y$"
      ],
      "text/plain": [
       "\n",
       "(q₃⋅u₁⋅u₂⋅sin(q₂) + q₃⋅u₁⋅sin(q₂)⋅q₂̇ - q₃⋅cos(q₂)⋅u₁̇ - u₁⋅u₃⋅cos(q₂) - u₁⋅co\n",
       "\n",
       "              ⎛       2    2            2     ⎞       ⎛     2\n",
       "s(q₂)⋅q₃̇) b_x + ⎝- q₃⋅u₁ ⋅cos (q₂) - q₃⋅u₂  + u₃̇⎠ b_y + ⎝q₃⋅u₁ ⋅sin(q₂)⋅cos(\n",
       "\n",
       "                       ⎞            2\n",
       "q₂) + q₃⋅u₂̇ + u₂⋅u₃ + u₂⋅q₃̇⎠ b_z + -l⋅u₁  a_x + l⋅u₁̇ a_y"
      ]
     },
     "execution_count": 18,
     "metadata": {},
     "output_type": "execute_result"
    }
   ],
   "source": [
    "Q.acc(N)"
   ]
  },
  {
   "cell_type": "code",
   "execution_count": 19,
   "id": "3fe15fa8",
   "metadata": {
    "execution": {
     "iopub.execute_input": "2024-02-20T15:53:00.272169Z",
     "iopub.status.busy": "2024-02-20T15:53:00.272008Z",
     "iopub.status.idle": "2024-02-20T15:53:00.290997Z",
     "shell.execute_reply": "2024-02-20T15:53:00.290548Z"
    }
   },
   "outputs": [
    {
     "data": {
      "text/latex": [
       "$\\displaystyle (2 q_{3} u_{1} u_{2} \\sin{\\left(q_{2} \\right)} - q_{3} \\cos{\\left(q_{2} \\right)} \\dot{u}_{1} - 2 u_{1} u_{3} \\cos{\\left(q_{2} \\right)})\\hat{b}_x + (- q_{3} u_{1}^{2} \\cos^{2}{\\left(q_{2} \\right)} - q_{3} u_{2}^{2} + \\dot{u}_{3})\\hat{b}_y + (q_{3} u_{1}^{2} \\sin{\\left(q_{2} \\right)} \\cos{\\left(q_{2} \\right)} + q_{3} \\dot{u}_{2} + 2 u_{2} u_{3})\\hat{b}_z -  l u_{1}^{2}\\hat{a}_x + l \\dot{u}_{1}\\hat{a}_y$"
      ],
      "text/plain": [
       "                                                             ⎛       2    2\n",
       "(2⋅q₃⋅u₁⋅u₂⋅sin(q₂) - q₃⋅cos(q₂)⋅u₁̇ - 2⋅u₁⋅u₃⋅cos(q₂)) b_x + ⎝- q₃⋅u₁ ⋅cos (q\n",
       "\n",
       "         2     ⎞       ⎛     2                                  ⎞            2\n",
       "₂) - q₃⋅u₂  + u₃̇⎠ b_y + ⎝q₃⋅u₁ ⋅sin(q₂)⋅cos(q₂) + q₃⋅u₂̇ + 2⋅u₂⋅u₃⎠ b_z + -l⋅\n",
       "\n",
       "\n",
       "u₁  a_x + l⋅u₁̇ a_y"
      ]
     },
     "execution_count": 19,
     "metadata": {},
     "output_type": "execute_result"
    }
   ],
   "source": [
    "t = me.dynamicsymbols._t\n",
    "\n",
    "qdot_repl = {q1.diff(t): u1,\n",
    "             q2.diff(t): u2,\n",
    "             q3.diff(t): u3}\n",
    "\n",
    "Q.set_acc(N, Q.acc(N).xreplace(qdot_repl))\n",
    "Q.acc(N)"
   ]
  },
  {
   "cell_type": "code",
   "execution_count": 20,
   "id": "ceaa3b44",
   "metadata": {
    "execution": {
     "iopub.execute_input": "2024-02-20T15:53:00.292775Z",
     "iopub.status.busy": "2024-02-20T15:53:00.292617Z",
     "iopub.status.idle": "2024-02-20T15:53:00.299352Z",
     "shell.execute_reply": "2024-02-20T15:53:00.298813Z"
    }
   },
   "outputs": [
    {
     "data": {
      "text/latex": [
       "$\\displaystyle k_{l} q_{1} + k_{t} \\dot{q}_{1} + m \\ddot{q}_{1}$"
      ],
      "text/plain": [
       "kₗ⋅q₁ + kₜ⋅q₁̇ + m⋅q₁̈"
      ]
     },
     "execution_count": 20,
     "metadata": {},
     "output_type": "execute_result"
    }
   ],
   "source": [
    "expr = m*q1.diff(t, 2) + kt*q1.diff(t) + kl*q1\n",
    "expr"
   ]
  },
  {
   "cell_type": "code",
   "execution_count": 21,
   "id": "ad90af3b",
   "metadata": {
    "execution": {
     "iopub.execute_input": "2024-02-20T15:53:00.301459Z",
     "iopub.status.busy": "2024-02-20T15:53:00.301026Z",
     "iopub.status.idle": "2024-02-20T15:53:00.307748Z",
     "shell.execute_reply": "2024-02-20T15:53:00.307257Z"
    }
   },
   "outputs": [
    {
     "data": {
      "text/latex": [
       "$\\displaystyle \\frac{k_{l} q_{2}}{q_{1}} + k_{t} u_{1} + m \\dot{u}_{1}$"
      ],
      "text/plain": [
       "kₗ⋅q₂               \n",
       "───── + kₜ⋅u₁ + m⋅u₁̇\n",
       "  q₁                "
      ]
     },
     "execution_count": 21,
     "metadata": {},
     "output_type": "execute_result"
    }
   ],
   "source": [
    "expr1 = expr.xreplace({q1.diff(t, 2): u1.diff(t)}).xreplace({q1.diff(t): u1}).xreplace({q1: q2/q1})\n",
    "expr1"
   ]
  },
  {
   "cell_type": "code",
   "execution_count": 22,
   "id": "4351e01a",
   "metadata": {
    "execution": {
     "iopub.execute_input": "2024-02-20T15:53:00.309752Z",
     "iopub.status.busy": "2024-02-20T15:53:00.309411Z",
     "iopub.status.idle": "2024-02-20T15:53:00.350604Z",
     "shell.execute_reply": "2024-02-20T15:53:00.350027Z"
    }
   },
   "outputs": [
    {
     "data": {
      "text/latex": [
       "$\\displaystyle \\frac{k_{l} q_{2}}{q_{1}} + k_{t} \\left(\\frac{\\dot{q}_{2}}{q_{1}} - \\frac{q_{2} \\dot{q}_{1}}{q_{1}^{2}}\\right) + m \\left(\\frac{- \\frac{\\left(\\ddot{q}_{1} - \\frac{2 \\dot{q}_{1}^{2}}{q_{1}}\\right) q_{2}}{q_{1}} + \\ddot{q}_{2} - \\frac{2 \\dot{q}_{1} \\dot{q}_{2}}{q_{1}}}{q_{1}}\\right)$"
      ],
      "text/plain": [
       "                        2    \n",
       "kₗ⋅q₂      d ⎛q₂⎞      d ⎛q₂⎞\n",
       "───── + kₜ⋅──⎜──⎟ + m⋅───⎜──⎟\n",
       "  q₁       dt⎝q₁⎠       2⎝q₁⎠\n",
       "                      dt     "
      ]
     },
     "execution_count": 22,
     "metadata": {},
     "output_type": "execute_result"
    }
   ],
   "source": [
    "expr2 = expr.xreplace({q1: q2/q1}).xreplace({q1.diff(t): u1}).xreplace({q1.diff(t, 2): u1.diff(t)})\n",
    "expr2"
   ]
  },
  {
   "cell_type": "code",
   "execution_count": 23,
   "id": "b002d2b6",
   "metadata": {
    "execution": {
     "iopub.execute_input": "2024-02-20T15:53:00.352800Z",
     "iopub.status.busy": "2024-02-20T15:53:00.352353Z",
     "iopub.status.idle": "2024-02-20T15:53:00.355764Z",
     "shell.execute_reply": "2024-02-20T15:53:00.355316Z"
    }
   },
   "outputs": [
    {
     "name": "stdout",
     "output_type": "stream",
     "text": [
      "k_l*q2(t)/q1(t) + k_t*u1(t) + m*Derivative(u1(t), t)\n"
     ]
    }
   ],
   "source": [
    "print(expr1)"
   ]
  },
  {
   "cell_type": "code",
   "execution_count": 24,
   "id": "d6c01d25",
   "metadata": {
    "execution": {
     "iopub.execute_input": "2024-02-20T15:53:00.357818Z",
     "iopub.status.busy": "2024-02-20T15:53:00.357475Z",
     "iopub.status.idle": "2024-02-20T15:53:00.360942Z",
     "shell.execute_reply": "2024-02-20T15:53:00.360392Z"
    }
   },
   "outputs": [
    {
     "name": "stdout",
     "output_type": "stream",
     "text": [
      "k_l*q2(t)/q1(t) + k_t*Derivative(q2(t)/q1(t), t) + m*Derivative(q2(t)/q1(t), (t, 2))\n"
     ]
    }
   ],
   "source": [
    "print(expr2)"
   ]
  },
  {
   "cell_type": "code",
   "execution_count": 25,
   "id": "dec1e574",
   "metadata": {
    "execution": {
     "iopub.execute_input": "2024-02-20T15:53:00.363045Z",
     "iopub.status.busy": "2024-02-20T15:53:00.362610Z",
     "iopub.status.idle": "2024-02-20T15:53:00.369110Z",
     "shell.execute_reply": "2024-02-20T15:53:00.368561Z"
    }
   },
   "outputs": [
    {
     "data": {
      "text/latex": [
       "$\\displaystyle \\frac{k_{l} q_{2}}{q_{1}} + k_{t} u_{1} + m \\dot{u}_{1}$"
      ],
      "text/plain": [
       "kₗ⋅q₂               \n",
       "───── + kₜ⋅u₁ + m⋅u₁̇\n",
       "  q₁                "
      ]
     },
     "execution_count": 25,
     "metadata": {},
     "output_type": "execute_result"
    }
   ],
   "source": [
    "expr.xreplace({q1: q2/q1, q1.diff(t): u1, q1.diff(t, 2): u1.diff(t)})"
   ]
  },
  {
   "cell_type": "code",
   "execution_count": 26,
   "id": "d5b71ac8",
   "metadata": {
    "execution": {
     "iopub.execute_input": "2024-02-20T15:53:00.370954Z",
     "iopub.status.busy": "2024-02-20T15:53:00.370753Z",
     "iopub.status.idle": "2024-02-20T15:53:00.376964Z",
     "shell.execute_reply": "2024-02-20T15:53:00.376394Z"
    }
   },
   "outputs": [
    {
     "data": {
      "text/latex": [
       "$\\displaystyle \\frac{k_{l} q_{2}}{q_{1}} + k_{t} u_{1} + m \\dot{u}_{1}$"
      ],
      "text/plain": [
       "kₗ⋅q₂               \n",
       "───── + kₜ⋅u₁ + m⋅u₁̇\n",
       "  q₁                "
      ]
     },
     "execution_count": 26,
     "metadata": {},
     "output_type": "execute_result"
    }
   ],
   "source": [
    "expr.xreplace({q1.diff(t, 2): u1.diff(t), q1.diff(t): u1, q1: q2/q1})"
   ]
  },
  {
   "cell_type": "code",
   "execution_count": 27,
   "id": "c4a7c3c3",
   "metadata": {
    "execution": {
     "iopub.execute_input": "2024-02-20T15:53:00.378857Z",
     "iopub.status.busy": "2024-02-20T15:53:00.378540Z",
     "iopub.status.idle": "2024-02-20T15:53:00.384889Z",
     "shell.execute_reply": "2024-02-20T15:53:00.384293Z"
    }
   },
   "outputs": [],
   "source": [
    "R_Ao = m*g*N.x\n",
    "R_Bo = m*g*N.x + kl*q3*B.y\n",
    "R_Q = m/4*g*N.x - kl*q3*B.y\n",
    "T_A = -kt*q1*N.z + kt*q2*A.x\n",
    "T_B = -kt*q2*A.x"
   ]
  },
  {
   "cell_type": "code",
   "execution_count": 28,
   "id": "053467b0",
   "metadata": {
    "execution": {
     "iopub.execute_input": "2024-02-20T15:53:00.386925Z",
     "iopub.status.busy": "2024-02-20T15:53:00.386521Z",
     "iopub.status.idle": "2024-02-20T15:53:00.390514Z",
     "shell.execute_reply": "2024-02-20T15:53:00.389966Z"
    }
   },
   "outputs": [],
   "source": [
    "I = m*l**2/12\n",
    "I_A_Ao = I*me.outer(A.y, A.y) + I*me.outer(A.z, A.z)\n",
    "I_B_Bo = I*me.outer(B.x, B.x) + I*me.outer(B.z, B.z)"
   ]
  },
  {
   "cell_type": "code",
   "execution_count": 29,
   "id": "d20e8f9c",
   "metadata": {
    "execution": {
     "iopub.execute_input": "2024-02-20T15:53:00.392287Z",
     "iopub.status.busy": "2024-02-20T15:53:00.392113Z",
     "iopub.status.idle": "2024-02-20T15:53:00.415179Z",
     "shell.execute_reply": "2024-02-20T15:53:00.414740Z"
    }
   },
   "outputs": [],
   "source": [
    "v_Ao_1 = Ao.vel(N).diff(u1, N)\n",
    "v_Bo_1 = Bo.vel(N).diff(u1, N)\n",
    "v_Q_1 = Q.vel(N).diff(u1, N)\n",
    "\n",
    "v_Ao_2 = Ao.vel(N).diff(u2, N)\n",
    "v_Bo_2 = Bo.vel(N).diff(u2, N)\n",
    "v_Q_2 = Q.vel(N).diff(u2, N)\n",
    "\n",
    "v_Ao_3 = Ao.vel(N).diff(u3, N)\n",
    "v_Bo_3 = Bo.vel(N).diff(u3, N)\n",
    "v_Q_3 = Q.vel(N).diff(u3, N)\n",
    "\n",
    "w_A_1 = A.ang_vel_in(N).diff(u1, N)\n",
    "w_B_1 = B.ang_vel_in(N).diff(u1, N)\n",
    "\n",
    "w_A_2 = A.ang_vel_in(N).diff(u2, N)\n",
    "w_B_2 = B.ang_vel_in(N).diff(u2, N)\n",
    "\n",
    "w_A_3 = A.ang_vel_in(N).diff(u3, N)\n",
    "w_B_3 = B.ang_vel_in(N).diff(u3, N)"
   ]
  },
  {
   "cell_type": "code",
   "execution_count": 30,
   "id": "2431f9e9",
   "metadata": {
    "execution": {
     "iopub.execute_input": "2024-02-20T15:53:00.417024Z",
     "iopub.status.busy": "2024-02-20T15:53:00.416865Z",
     "iopub.status.idle": "2024-02-20T15:53:00.429593Z",
     "shell.execute_reply": "2024-02-20T15:53:00.429155Z"
    }
   },
   "outputs": [],
   "source": [
    "F1 = v_Ao_1.dot(R_Ao) + v_Bo_1.dot(R_Bo) + v_Q_1.dot(R_Q) + w_A_1.dot(T_A) + w_B_1.dot(T_B)\n",
    "F2 = v_Ao_2.dot(R_Ao) + v_Bo_2.dot(R_Bo) + v_Q_2.dot(R_Q) + w_A_2.dot(T_A) + w_B_2.dot(T_B)\n",
    "F3 = v_Ao_3.dot(R_Ao) + v_Bo_3.dot(R_Bo) + v_Q_3.dot(R_Q) + w_A_3.dot(T_A) + w_B_3.dot(T_B)"
   ]
  },
  {
   "cell_type": "code",
   "execution_count": 31,
   "id": "8737376b",
   "metadata": {
    "execution": {
     "iopub.execute_input": "2024-02-20T15:53:00.431385Z",
     "iopub.status.busy": "2024-02-20T15:53:00.431226Z",
     "iopub.status.idle": "2024-02-20T15:53:00.441489Z",
     "shell.execute_reply": "2024-02-20T15:53:00.440835Z"
    }
   },
   "outputs": [
    {
     "data": {
      "text/latex": [
       "$\\displaystyle \\left[\\begin{matrix}- \\frac{7 g l m \\sin{\\left(q_{1} \\right)}}{4} - \\frac{g m q_{3} \\cos{\\left(q_{1} \\right)} \\cos{\\left(q_{2} \\right)}}{4} - k_{t} q_{1}\\\\\\frac{g m q_{3} \\sin{\\left(q_{1} \\right)} \\sin{\\left(q_{2} \\right)}}{4} - k_{t} q_{2}\\\\- \\frac{g m \\sin{\\left(q_{1} \\right)} \\cos{\\left(q_{2} \\right)}}{4} - k_{l} q_{3}\\end{matrix}\\right]$"
      ],
      "text/plain": [
       "⎡  7⋅g⋅l⋅m⋅sin(q₁)   g⋅m⋅q₃⋅cos(q₁)⋅cos(q₂)        ⎤\n",
       "⎢- ─────────────── - ────────────────────── - kₜ⋅q₁⎥\n",
       "⎢         4                    4                   ⎥\n",
       "⎢                                                  ⎥\n",
       "⎢          g⋅m⋅q₃⋅sin(q₁)⋅sin(q₂)                  ⎥\n",
       "⎢          ────────────────────── - kₜ⋅q₂          ⎥\n",
       "⎢                    4                             ⎥\n",
       "⎢                                                  ⎥\n",
       "⎢            g⋅m⋅sin(q₁)⋅cos(q₂)                   ⎥\n",
       "⎢          - ─────────────────── - kₗ⋅q₃           ⎥\n",
       "⎣                     4                            ⎦"
      ]
     },
     "execution_count": 31,
     "metadata": {},
     "output_type": "execute_result"
    }
   ],
   "source": [
    "Fr = sm.Matrix([F1, F2, F3])\n",
    "Fr"
   ]
  },
  {
   "cell_type": "code",
   "execution_count": 32,
   "id": "e8e2695f",
   "metadata": {
    "execution": {
     "iopub.execute_input": "2024-02-20T15:53:00.443462Z",
     "iopub.status.busy": "2024-02-20T15:53:00.443278Z",
     "iopub.status.idle": "2024-02-20T15:53:00.514406Z",
     "shell.execute_reply": "2024-02-20T15:53:00.513889Z"
    }
   },
   "outputs": [],
   "source": [
    "TAs = -(A.ang_acc_in(N).dot(I_A_Ao) + me.cross(A.ang_vel_in(N), I_A_Ao).dot(A.ang_vel_in(N)))\n",
    "TBs = -(B.ang_acc_in(N).dot(I_B_Bo) + me.cross(B.ang_vel_in(N), I_B_Bo).dot(B.ang_vel_in(N)))\n",
    "\n",
    "F1s = v_Ao_1.dot(-m*Ao.acc(N)) + v_Bo_1.dot(-m*Bo.acc(N)) + v_Q_1.dot(-m/4*Q.acc(N))\n",
    "F1s += w_A_1.dot(TAs) + w_B_1.dot(TBs)\n",
    "\n",
    "F2s = v_Ao_2.dot(-m*Ao.acc(N)) + v_Bo_2.dot(-m*Bo.acc(N)) + v_Q_2.dot(-m/4*Q.acc(N))\n",
    "F2s += w_A_2.dot(TAs) + w_B_2.dot(TBs)\n",
    "\n",
    "F3s = v_Ao_3.dot(-m*Ao.acc(N)) + v_Bo_3.dot(-m*Bo.acc(N)) + v_Q_3.dot(-m/4*Q.acc(N))\n",
    "F3s += w_A_3.dot(TAs) + w_B_3.dot(TBs)"
   ]
  },
  {
   "cell_type": "code",
   "execution_count": 33,
   "id": "d5d99a86",
   "metadata": {
    "execution": {
     "iopub.execute_input": "2024-02-20T15:53:00.516707Z",
     "iopub.status.busy": "2024-02-20T15:53:00.516526Z",
     "iopub.status.idle": "2024-02-20T15:53:00.547168Z",
     "shell.execute_reply": "2024-02-20T15:53:00.546558Z"
    }
   },
   "outputs": [
    {
     "data": {
      "text/latex": [
       "$\\displaystyle \\left[\\begin{matrix}- \\frac{19 l^{2} m \\dot{u}_{1}}{12} - \\frac{l m q_{3} u_{1}^{2} \\cos{\\left(q_{2} \\right)}}{4} + l \\left(- \\frac{m \\left(- q_{3} u_{1}^{2} \\cos^{2}{\\left(q_{2} \\right)} - q_{3} u_{2}^{2} + \\dot{u}_{3}\\right) \\cos{\\left(q_{2} \\right)}}{4} + \\frac{m \\left(q_{3} u_{1}^{2} \\sin{\\left(q_{2} \\right)} \\cos{\\left(q_{2} \\right)} + q_{3} \\dot{u}_{2} + 2 u_{2} u_{3}\\right) \\sin{\\left(q_{2} \\right)}}{4}\\right) + \\frac{m \\left(2 q_{3} u_{1} u_{2} \\sin{\\left(q_{2} \\right)} - q_{3} \\cos{\\left(q_{2} \\right)} \\dot{u}_{1} - 2 u_{1} u_{3} \\cos{\\left(q_{2} \\right)}\\right) q_{3} \\cos{\\left(q_{2} \\right)}}{4} + \\left(- \\frac{l^{2} m \\left(- u_{1} u_{2} \\sin{\\left(q_{2} \\right)} + \\cos{\\left(q_{2} \\right)} \\dot{u}_{1}\\right)}{12} + \\frac{l^{2} m u_{1} u_{2} \\sin{\\left(q_{2} \\right)}}{12}\\right) \\cos{\\left(q_{2} \\right)}\\\\- \\frac{l^{2} m u_{1}^{2} \\sin{\\left(q_{2} \\right)} \\cos{\\left(q_{2} \\right)}}{12} - \\frac{l^{2} m \\dot{u}_{2}}{12} + \\frac{l m q_{3} \\sin{\\left(q_{2} \\right)} \\dot{u}_{1}}{4} - \\frac{m \\left(q_{3} u_{1}^{2} \\sin{\\left(q_{2} \\right)} \\cos{\\left(q_{2} \\right)} + q_{3} \\dot{u}_{2} + 2 u_{2} u_{3}\\right) q_{3}}{4}\\\\- \\frac{l m \\cos{\\left(q_{2} \\right)} \\dot{u}_{1}}{4} - \\frac{m \\left(- q_{3} u_{1}^{2} \\cos^{2}{\\left(q_{2} \\right)} - q_{3} u_{2}^{2} + \\dot{u}_{3}\\right)}{4}\\end{matrix}\\right]$"
      ],
      "text/plain": [
       "⎡      2                 2             ⎛    ⎛       2    2            2     ⎞ \n",
       "⎢  19⋅l ⋅m⋅u₁̇   l⋅m⋅q₃⋅u₁ ⋅cos(q₂)     ⎜  m⋅⎝- q₃⋅u₁ ⋅cos (q₂) - q₃⋅u₂  + u₃̇\n",
       "⎢- ────────── - ────────────────── + l⋅⎜- ────────────────────────────────────\n",
       "⎢      12               4              ⎝                       4              \n",
       "⎢                                                                             \n",
       "⎢                                                                             \n",
       "⎢                                                                             \n",
       "⎢                                                                             \n",
       "⎢                                                                             \n",
       "⎢                                                                             \n",
       "⎢                                                                             \n",
       "⎢                                                                             \n",
       "⎢                                                                             \n",
       "⎣                                                                             \n",
       "\n",
       "            ⎛     2                                  ⎞        ⎞               \n",
       "⎠⋅cos(q₂)   m⋅⎝q₃⋅u₁ ⋅sin(q₂)⋅cos(q₂) + q₃⋅u₂̇ + 2⋅u₂⋅u₃⎠⋅sin(q₂)⎟   m⋅(2⋅q₃⋅u\n",
       "─────── + ────────────────────────────────────────────────────⎟ + ────────────\n",
       "                                   4                          ⎠               \n",
       "                                                                              \n",
       "             2     2                    2                              ⎛     2\n",
       "            l ⋅m⋅u₁ ⋅sin(q₂)⋅cos(q₂)   l ⋅m⋅u₂̇   l⋅m⋅q₃⋅sin(q₂)⋅u₁̇   m⋅⎝q₃⋅u\n",
       "          - ──────────────────────── - ─────── + ───────────────── - ─────────\n",
       "                       12                 12             4                    \n",
       "                                                                              \n",
       "                                                         ⎛       2    2       \n",
       "                                      l⋅m⋅cos(q₂)⋅u₁̇   m⋅⎝- q₃⋅u₁ ⋅cos (q₂) -\n",
       "                                    - ────────────── - ───────────────────────\n",
       "                                            4                           4     \n",
       "\n",
       "                                                          ⎛   2               \n",
       "₁⋅u₂⋅sin(q₂) - q₃⋅cos(q₂)⋅u₁̇ - 2⋅u₁⋅u₃⋅cos(q₂))⋅q₃⋅cos(q₂)   ⎜  l ⋅m⋅(-u₁⋅u₂⋅\n",
       "─────────────────────────────────────────────────────── + ⎜- ─────────────────\n",
       "                     4                                    ⎝                  1\n",
       "                                                                              \n",
       "                                  ⎞                                           \n",
       "₁ ⋅sin(q₂)⋅cos(q₂) + q₃⋅u₂̇ + 2⋅u₂⋅u₃⎠⋅q₃                                     \n",
       "──────────────────────────────────────                                        \n",
       "              4                                                               \n",
       "                                                                              \n",
       "     2     ⎞                                                                  \n",
       " q₃⋅u₂  + u₃̇⎠                                                                \n",
       "────────────                                                                  \n",
       "                                                                              \n",
       "\n",
       "                     2                ⎞        ⎤\n",
       "sin(q₂) + cos(q₂)⋅u₁̇)   l ⋅m⋅u₁⋅u₂⋅sin(q₂)⎟        ⎥\n",
       "───────────────── + ──────────────────⎟⋅cos(q₂)⎥\n",
       "2                           12        ⎠        ⎥\n",
       "                                               ⎥\n",
       "                                               ⎥\n",
       "                                                  ⎥\n",
       "                                               ⎥\n",
       "                                               ⎥\n",
       "                                               ⎥\n",
       "                                               ⎥\n",
       "                                                 ⎥\n",
       "                                               ⎥\n",
       "                                               ⎦"
      ]
     },
     "execution_count": 33,
     "metadata": {},
     "output_type": "execute_result"
    }
   ],
   "source": [
    "Frs = sm.Matrix([F1s, F2s, F3s])\n",
    "Frs"
   ]
  },
  {
   "cell_type": "code",
   "execution_count": 34,
   "id": "5a5b3b47",
   "metadata": {
    "execution": {
     "iopub.execute_input": "2024-02-20T15:53:00.549244Z",
     "iopub.status.busy": "2024-02-20T15:53:00.549060Z",
     "iopub.status.idle": "2024-02-20T15:53:00.553186Z",
     "shell.execute_reply": "2024-02-20T15:53:00.552667Z"
    }
   },
   "outputs": [
    {
     "data": {
      "text/latex": [
       "$\\displaystyle \\left\\{q_{1}, q_{2}, q_{3}\\right\\}$"
      ],
      "text/plain": [
       "{q₁, q₂, q₃}"
      ]
     },
     "execution_count": 34,
     "metadata": {},
     "output_type": "execute_result"
    }
   ],
   "source": [
    "me.find_dynamicsymbols(Fr)"
   ]
  },
  {
   "cell_type": "code",
   "execution_count": 35,
   "id": "b6b6ce22",
   "metadata": {
    "execution": {
     "iopub.execute_input": "2024-02-20T15:53:00.555085Z",
     "iopub.status.busy": "2024-02-20T15:53:00.554911Z",
     "iopub.status.idle": "2024-02-20T15:53:00.560342Z",
     "shell.execute_reply": "2024-02-20T15:53:00.559797Z"
    }
   },
   "outputs": [
    {
     "data": {
      "text/latex": [
       "$\\displaystyle \\left\\{q_{2}, q_{3}, u_{1}, u_{2}, u_{3}, \\dot{u}_{1}, \\dot{u}_{2}, \\dot{u}_{3}\\right\\}$"
      ],
      "text/plain": [
       "{q₂, q₃, u₁, u₂, u₃, u₁̇, u₂̇, u₃̇}"
      ]
     },
     "execution_count": 35,
     "metadata": {},
     "output_type": "execute_result"
    }
   ],
   "source": [
    "me.find_dynamicsymbols(Frs)"
   ]
  },
  {
   "cell_type": "code",
   "execution_count": 36,
   "id": "b9cb90c8",
   "metadata": {
    "execution": {
     "iopub.execute_input": "2024-02-20T15:53:00.562288Z",
     "iopub.status.busy": "2024-02-20T15:53:00.562007Z",
     "iopub.status.idle": "2024-02-20T15:53:00.568553Z",
     "shell.execute_reply": "2024-02-20T15:53:00.567964Z"
    }
   },
   "outputs": [
    {
     "data": {
      "text/latex": [
       "$\\displaystyle \\left[\\begin{matrix}\\dot{u}_{1}\\\\\\dot{u}_{2}\\\\\\dot{u}_{3}\\end{matrix}\\right]$"
      ],
      "text/plain": [
       "⎡u₁̇⎤\n",
       "⎢  ⎥\n",
       "⎢u₂̇⎥\n",
       "⎢  ⎥\n",
       "⎣u₃̇⎦"
      ]
     },
     "execution_count": 36,
     "metadata": {},
     "output_type": "execute_result"
    }
   ],
   "source": [
    "u = sm.Matrix([u1, u2, u3])\n",
    "ud = u.diff(t)\n",
    "ud"
   ]
  },
  {
   "cell_type": "code",
   "execution_count": 37,
   "id": "1fbf14f0",
   "metadata": {
    "execution": {
     "iopub.execute_input": "2024-02-20T15:53:00.570546Z",
     "iopub.status.busy": "2024-02-20T15:53:00.570223Z",
     "iopub.status.idle": "2024-02-20T15:53:00.620360Z",
     "shell.execute_reply": "2024-02-20T15:53:00.619783Z"
    }
   },
   "outputs": [
    {
     "data": {
      "text/latex": [
       "$\\displaystyle \\left[\\begin{matrix}- \\frac{l^{2} m \\cos^{2}{\\left(q_{2} \\right)}}{12} - \\frac{19 l^{2} m}{12} - \\frac{m q_{3}^{2} \\cos^{2}{\\left(q_{2} \\right)}}{4} & \\frac{l m q_{3} \\sin{\\left(q_{2} \\right)}}{4} & - \\frac{l m \\cos{\\left(q_{2} \\right)}}{4}\\\\\\frac{l m q_{3} \\sin{\\left(q_{2} \\right)}}{4} & - \\frac{l^{2} m}{12} - \\frac{m q_{3}^{2}}{4} & 0\\\\- \\frac{l m \\cos{\\left(q_{2} \\right)}}{4} & 0 & - \\frac{m}{4}\\end{matrix}\\right]$"
      ],
      "text/plain": [
       "⎡   2      2           2         2    2                                   ⎤\n",
       "⎢  l ⋅m⋅cos (q₂)   19⋅l ⋅m   m⋅q₃ ⋅cos (q₂)  l⋅m⋅q₃⋅sin(q₂)  -l⋅m⋅cos(q₂) ⎥\n",
       "⎢- ───────────── - ─────── - ──────────────  ──────────────  ─────────────⎥\n",
       "⎢        12           12           4               4               4      ⎥\n",
       "⎢                                                                         ⎥\n",
       "⎢                                               2         2               ⎥\n",
       "⎢              l⋅m⋅q₃⋅sin(q₂)                  l ⋅m   m⋅q₃                ⎥\n",
       "⎢              ──────────────                - ──── - ─────        0      ⎥\n",
       "⎢                    4                          12      4                 ⎥\n",
       "⎢                                                                         ⎥\n",
       "⎢              -l⋅m⋅cos(q₂)                                       -m      ⎥\n",
       "⎢              ─────────────                       0              ───     ⎥\n",
       "⎣                    4                                             4      ⎦"
      ]
     },
     "execution_count": 37,
     "metadata": {},
     "output_type": "execute_result"
    }
   ],
   "source": [
    "Md = Frs.jacobian(ud)\n",
    "Md"
   ]
  },
  {
   "cell_type": "code",
   "execution_count": 38,
   "id": "17793784",
   "metadata": {
    "execution": {
     "iopub.execute_input": "2024-02-20T15:53:00.622474Z",
     "iopub.status.busy": "2024-02-20T15:53:00.622142Z",
     "iopub.status.idle": "2024-02-20T15:53:00.627022Z",
     "shell.execute_reply": "2024-02-20T15:53:00.626490Z"
    }
   },
   "outputs": [
    {
     "data": {
      "text/latex": [
       "$\\displaystyle \\left\\{ \\dot{u}_{1} : 0, \\  \\dot{u}_{2} : 0, \\  \\dot{u}_{3} : 0\\right\\}$"
      ],
      "text/plain": [
       "{u₁̇: 0, u₂̇: 0, u₃̇: 0}"
      ]
     },
     "execution_count": 38,
     "metadata": {},
     "output_type": "execute_result"
    }
   ],
   "source": [
    "ud_zerod = {udr: 0 for udr in ud}\n",
    "ud_zerod"
   ]
  },
  {
   "cell_type": "code",
   "execution_count": 39,
   "id": "ef628836",
   "metadata": {
    "execution": {
     "iopub.execute_input": "2024-02-20T15:53:00.628906Z",
     "iopub.status.busy": "2024-02-20T15:53:00.628584Z",
     "iopub.status.idle": "2024-02-20T15:53:00.654181Z",
     "shell.execute_reply": "2024-02-20T15:53:00.653619Z"
    }
   },
   "outputs": [
    {
     "data": {
      "text/latex": [
       "$\\displaystyle \\left[\\begin{matrix}- \\frac{7 g l m \\sin{\\left(q_{1} \\right)}}{4} - \\frac{g m q_{3} \\cos{\\left(q_{1} \\right)} \\cos{\\left(q_{2} \\right)}}{4} - k_{t} q_{1} + \\frac{l^{2} m u_{1} u_{2} \\sin{\\left(q_{2} \\right)} \\cos{\\left(q_{2} \\right)}}{6} - \\frac{l m q_{3} u_{1}^{2} \\cos{\\left(q_{2} \\right)}}{4} + l \\left(- \\frac{m \\left(- q_{3} u_{1}^{2} \\cos^{2}{\\left(q_{2} \\right)} - q_{3} u_{2}^{2}\\right) \\cos{\\left(q_{2} \\right)}}{4} + \\frac{m \\left(q_{3} u_{1}^{2} \\sin{\\left(q_{2} \\right)} \\cos{\\left(q_{2} \\right)} + 2 u_{2} u_{3}\\right) \\sin{\\left(q_{2} \\right)}}{4}\\right) + \\frac{m \\left(2 q_{3} u_{1} u_{2} \\sin{\\left(q_{2} \\right)} - 2 u_{1} u_{3} \\cos{\\left(q_{2} \\right)}\\right) q_{3} \\cos{\\left(q_{2} \\right)}}{4}\\\\\\frac{g m q_{3} \\sin{\\left(q_{1} \\right)} \\sin{\\left(q_{2} \\right)}}{4} - k_{t} q_{2} - \\frac{l^{2} m u_{1}^{2} \\sin{\\left(q_{2} \\right)} \\cos{\\left(q_{2} \\right)}}{12} - \\frac{m \\left(q_{3} u_{1}^{2} \\sin{\\left(q_{2} \\right)} \\cos{\\left(q_{2} \\right)} + 2 u_{2} u_{3}\\right) q_{3}}{4}\\\\- \\frac{g m \\sin{\\left(q_{1} \\right)} \\cos{\\left(q_{2} \\right)}}{4} - k_{l} q_{3} - \\frac{m \\left(- q_{3} u_{1}^{2} \\cos^{2}{\\left(q_{2} \\right)} - q_{3} u_{2}^{2}\\right)}{4}\\end{matrix}\\right]$"
      ],
      "text/plain": [
       "⎡                                                      2                      \n",
       "⎢  7⋅g⋅l⋅m⋅sin(q₁)   g⋅m⋅q₃⋅cos(q₁)⋅cos(q₂)           l ⋅m⋅u₁⋅u₂⋅sin(q₂)⋅cos(q\n",
       "⎢- ─────────────── - ────────────────────── - kₜ⋅q₁ + ────────────────────────\n",
       "⎢         4                    4                                  6           \n",
       "⎢                                                                             \n",
       "⎢                                                                             \n",
       "⎢                                                                          g⋅m\n",
       "⎢                                                                          ───\n",
       "⎢                                                                             \n",
       "⎢                                                                             \n",
       "⎢                                                                             \n",
       "⎢                                                                             \n",
       "⎢                                                                             \n",
       "⎣                                                                             \n",
       "\n",
       "              2             ⎛    ⎛       2    2            2⎞             ⎛   \n",
       "₂)   l⋅m⋅q₃⋅u₁ ⋅cos(q₂)     ⎜  m⋅⎝- q₃⋅u₁ ⋅cos (q₂) - q₃⋅u₂ ⎠⋅cos(q₂)   m⋅⎝q₃⋅\n",
       "── - ────────────────── + l⋅⎜- ────────────────────────────────────── + ──────\n",
       "             4              ⎝                    4                            \n",
       "                                                                              \n",
       "                               2     2                     ⎛     2            \n",
       "⋅q₃⋅sin(q₁)⋅sin(q₂)           l ⋅m⋅u₁ ⋅sin(q₂)⋅cos(q₂)   m⋅⎝q₃⋅u₁ ⋅sin(q₂)⋅cos\n",
       "─────────────────── - kₜ⋅q₂ - ──────────────────────── - ─────────────────────\n",
       "       4                                 12                                 4 \n",
       "                                                                              \n",
       "                                                  ⎛       2    2            2⎞\n",
       "                  g⋅m⋅sin(q₁)⋅cos(q₂)           m⋅⎝- q₃⋅u₁ ⋅cos (q₂) - q₃⋅u₂ ⎠\n",
       "                - ─────────────────── - kₗ⋅q₃ - ──────────────────────────────\n",
       "                           4                                  4               \n",
       "\n",
       "  2                          ⎞        ⎞                                       \n",
       "u₁ ⋅sin(q₂)⋅cos(q₂) + 2⋅u₂⋅u₃⎠⋅sin(q₂)⎟   m⋅(2⋅q₃⋅u₁⋅u₂⋅sin(q₂) - 2⋅u₁⋅u₃⋅cos(\n",
       "──────────────────────────────────────⎟ + ────────────────────────────────────\n",
       "               4                      ⎠                            4          \n",
       "                                                                              \n",
       "              ⎞                                                               \n",
       "(q₂) + 2⋅u₂⋅u₃⎠⋅q₃                                                            \n",
       "──────────────────                                                            \n",
       "                                                                              \n",
       "                                                                              \n",
       "                                                                              \n",
       "                                                                              \n",
       "                                                                              \n",
       "                                                                              \n",
       "\n",
       "               ⎤\n",
       "q₂))⋅q₃⋅cos(q₂)⎥\n",
       "───────────────⎥\n",
       "               ⎥\n",
       "               ⎥\n",
       "               ⎥\n",
       "               ⎥\n",
       "               ⎥\n",
       "               ⎥\n",
       "               ⎥\n",
       "               ⎥\n",
       "               ⎥\n",
       "               ⎥\n",
       "               ⎦"
      ]
     },
     "execution_count": 39,
     "metadata": {},
     "output_type": "execute_result"
    }
   ],
   "source": [
    "gd = Frs.xreplace(ud_zerod) + Fr\n",
    "gd"
   ]
  },
  {
   "cell_type": "code",
   "execution_count": 40,
   "id": "f3fe3ac8",
   "metadata": {
    "execution": {
     "iopub.execute_input": "2024-02-20T15:53:00.656034Z",
     "iopub.status.busy": "2024-02-20T15:53:00.655872Z",
     "iopub.status.idle": "2024-02-20T15:53:00.659976Z",
     "shell.execute_reply": "2024-02-20T15:53:00.659410Z"
    }
   },
   "outputs": [
    {
     "data": {
      "text/latex": [
       "$\\displaystyle \\left\\{q_{2}, q_{3}\\right\\}$"
      ],
      "text/plain": [
       "{q₂, q₃}"
      ]
     },
     "execution_count": 40,
     "metadata": {},
     "output_type": "execute_result"
    }
   ],
   "source": [
    "me.find_dynamicsymbols(Md)"
   ]
  },
  {
   "cell_type": "code",
   "execution_count": 41,
   "id": "4b0179ce",
   "metadata": {
    "execution": {
     "iopub.execute_input": "2024-02-20T15:53:00.662041Z",
     "iopub.status.busy": "2024-02-20T15:53:00.661704Z",
     "iopub.status.idle": "2024-02-20T15:53:00.666086Z",
     "shell.execute_reply": "2024-02-20T15:53:00.665629Z"
    }
   },
   "outputs": [
    {
     "data": {
      "text/latex": [
       "$\\displaystyle \\left\\{q_{1}, q_{2}, q_{3}, u_{1}, u_{2}, u_{3}\\right\\}$"
      ],
      "text/plain": [
       "{q₁, q₂, q₃, u₁, u₂, u₃}"
      ]
     },
     "execution_count": 41,
     "metadata": {},
     "output_type": "execute_result"
    }
   ],
   "source": [
    "me.find_dynamicsymbols(gd)"
   ]
  }
 ],
 "metadata": {
  "kernelspec": {
   "display_name": "Python 3 (ipykernel)",
   "language": "python",
   "name": "python3"
  },
  "language_info": {
   "codemirror_mode": {
    "name": "ipython",
    "version": 3
   },
   "file_extension": ".py",
   "mimetype": "text/x-python",
   "name": "python",
   "nbconvert_exporter": "python",
   "pygments_lexer": "ipython3",
   "version": "3.10.13"
  }
 },
 "nbformat": 4,
 "nbformat_minor": 5
}