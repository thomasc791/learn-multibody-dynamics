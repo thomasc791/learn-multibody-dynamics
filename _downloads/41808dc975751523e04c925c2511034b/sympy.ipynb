{
 "cells": [
  {
   "cell_type": "code",
   "execution_count": 1,
   "id": "b738b608",
   "metadata": {
    "execution": {
     "iopub.execute_input": "2024-02-20T15:57:14.166897Z",
     "iopub.status.busy": "2024-02-20T15:57:14.166721Z",
     "iopub.status.idle": "2024-02-20T15:57:14.393385Z",
     "shell.execute_reply": "2024-02-20T15:57:14.392805Z"
    }
   },
   "outputs": [],
   "source": [
    "import sympy as sm"
   ]
  },
  {
   "cell_type": "code",
   "execution_count": 2,
   "id": "49686d9e",
   "metadata": {
    "execution": {
     "iopub.execute_input": "2024-02-20T15:57:14.396052Z",
     "iopub.status.busy": "2024-02-20T15:57:14.395642Z",
     "iopub.status.idle": "2024-02-20T15:57:14.400323Z",
     "shell.execute_reply": "2024-02-20T15:57:14.399899Z"
    }
   },
   "outputs": [],
   "source": [
    "sm.init_printing(use_latex='mathjax')"
   ]
  },
  {
   "cell_type": "code",
   "execution_count": 3,
   "id": "d19d1885",
   "metadata": {
    "execution": {
     "iopub.execute_input": "2024-02-20T15:57:14.402462Z",
     "iopub.status.busy": "2024-02-20T15:57:14.402042Z",
     "iopub.status.idle": "2024-02-20T15:57:14.406729Z",
     "shell.execute_reply": "2024-02-20T15:57:14.406205Z"
    }
   },
   "outputs": [
    {
     "data": {
      "text/latex": [
       "$\\displaystyle a$"
      ],
      "text/plain": [
       "a"
      ]
     },
     "execution_count": 3,
     "metadata": {},
     "output_type": "execute_result"
    }
   ],
   "source": [
    "a = sm.symbols('a')\n",
    "a"
   ]
  },
  {
   "cell_type": "code",
   "execution_count": 4,
   "id": "a19d2cb2",
   "metadata": {
    "execution": {
     "iopub.execute_input": "2024-02-20T15:57:14.408664Z",
     "iopub.status.busy": "2024-02-20T15:57:14.408314Z",
     "iopub.status.idle": "2024-02-20T15:57:14.411990Z",
     "shell.execute_reply": "2024-02-20T15:57:14.411450Z"
    }
   },
   "outputs": [
    {
     "data": {
      "text/plain": [
       "sympy.core.symbol.Symbol"
      ]
     },
     "execution_count": 4,
     "metadata": {},
     "output_type": "execute_result"
    }
   ],
   "source": [
    "type(a)"
   ]
  },
  {
   "cell_type": "code",
   "execution_count": 5,
   "id": "0c18f35c",
   "metadata": {
    "execution": {
     "iopub.execute_input": "2024-02-20T15:57:14.414399Z",
     "iopub.status.busy": "2024-02-20T15:57:14.413990Z",
     "iopub.status.idle": "2024-02-20T15:57:14.417936Z",
     "shell.execute_reply": "2024-02-20T15:57:14.417494Z"
    }
   },
   "outputs": [
    {
     "data": {
      "text/latex": [
       "$\\displaystyle \\left( b, \\  t, \\  \\omega, \\  \\Omega\\right)$"
      ],
      "text/plain": [
       "(b, t, ω, Ω)"
      ]
     },
     "execution_count": 5,
     "metadata": {},
     "output_type": "execute_result"
    }
   ],
   "source": [
    "b, t, omega, Omega = sm.symbols('b, t, omega, Omega')\n",
    "b, t, omega, Omega"
   ]
  },
  {
   "cell_type": "code",
   "execution_count": 6,
   "id": "ef316dcc",
   "metadata": {
    "execution": {
     "iopub.execute_input": "2024-02-20T15:57:14.420055Z",
     "iopub.status.busy": "2024-02-20T15:57:14.419529Z",
     "iopub.status.idle": "2024-02-20T15:57:14.423424Z",
     "shell.execute_reply": "2024-02-20T15:57:14.422982Z"
    }
   },
   "outputs": [
    {
     "data": {
      "text/latex": [
       "$\\displaystyle \\left( \\alpha_{1}, \\  \\omega_{2}\\right)$"
      ],
      "text/plain": [
       "(α₁, ω₂)"
      ]
     },
     "execution_count": 6,
     "metadata": {},
     "output_type": "execute_result"
    }
   ],
   "source": [
    "pivot_angle, w2 = sm.symbols('alpha1, omega2')\n",
    "pivot_angle, w2"
   ]
  },
  {
   "cell_type": "code",
   "execution_count": 7,
   "id": "d42ad295",
   "metadata": {
    "execution": {
     "iopub.execute_input": "2024-02-20T15:57:14.425446Z",
     "iopub.status.busy": "2024-02-20T15:57:14.425027Z",
     "iopub.status.idle": "2024-02-20T15:57:14.429061Z",
     "shell.execute_reply": "2024-02-20T15:57:14.428562Z"
    }
   },
   "outputs": [
    {
     "data": {
      "text/latex": [
       "$\\displaystyle \\left( q_{1}, \\  q_{2}, \\  q_{3}, \\  q_{4}, \\  q_{5}, \\  q_{6}, \\  q_{7}, \\  q_{8}, \\  q_{9}, \\  q_{10}\\right)$"
      ],
      "text/plain": [
       "(q₁, q₂, q₃, q₄, q₅, q₆, q₇, q₈, q₉, q₁₀)"
      ]
     },
     "execution_count": 7,
     "metadata": {},
     "output_type": "execute_result"
    }
   ],
   "source": [
    "sm.symbols('q1:11')"
   ]
  },
  {
   "cell_type": "code",
   "execution_count": 8,
   "id": "58d1ed69",
   "metadata": {
    "execution": {
     "iopub.execute_input": "2024-02-20T15:57:14.431155Z",
     "iopub.status.busy": "2024-02-20T15:57:14.430690Z",
     "iopub.status.idle": "2024-02-20T15:57:14.434589Z",
     "shell.execute_reply": "2024-02-20T15:57:14.434030Z"
    }
   },
   "outputs": [
    {
     "data": {
      "text/plain": [
       "f"
      ]
     },
     "execution_count": 8,
     "metadata": {},
     "output_type": "execute_result"
    }
   ],
   "source": [
    "f = sm.Function('f')\n",
    "f"
   ]
  },
  {
   "cell_type": "code",
   "execution_count": 9,
   "id": "db9aee6c",
   "metadata": {
    "execution": {
     "iopub.execute_input": "2024-02-20T15:57:14.436642Z",
     "iopub.status.busy": "2024-02-20T15:57:14.436439Z",
     "iopub.status.idle": "2024-02-20T15:57:14.439766Z",
     "shell.execute_reply": "2024-02-20T15:57:14.439256Z"
    }
   },
   "outputs": [
    {
     "data": {
      "text/plain": [
       "sympy.core.function.UndefinedFunction"
      ]
     },
     "execution_count": 9,
     "metadata": {},
     "output_type": "execute_result"
    }
   ],
   "source": [
    "type(f)"
   ]
  },
  {
   "cell_type": "code",
   "execution_count": 10,
   "id": "f6ddb6f6",
   "metadata": {
    "execution": {
     "iopub.execute_input": "2024-02-20T15:57:14.441628Z",
     "iopub.status.busy": "2024-02-20T15:57:14.441449Z",
     "iopub.status.idle": "2024-02-20T15:57:14.445446Z",
     "shell.execute_reply": "2024-02-20T15:57:14.444995Z"
    }
   },
   "outputs": [
    {
     "data": {
      "text/latex": [
       "$\\displaystyle f{\\left(t \\right)}$"
      ],
      "text/plain": [
       "f(t)"
      ]
     },
     "execution_count": 10,
     "metadata": {},
     "output_type": "execute_result"
    }
   ],
   "source": [
    "f(t)"
   ]
  },
  {
   "cell_type": "code",
   "execution_count": 11,
   "id": "7ed9c899",
   "metadata": {
    "execution": {
     "iopub.execute_input": "2024-02-20T15:57:14.447392Z",
     "iopub.status.busy": "2024-02-20T15:57:14.447072Z",
     "iopub.status.idle": "2024-02-20T15:57:14.450809Z",
     "shell.execute_reply": "2024-02-20T15:57:14.450263Z"
    }
   },
   "outputs": [
    {
     "data": {
      "text/plain": [
       "f"
      ]
     },
     "execution_count": 11,
     "metadata": {},
     "output_type": "execute_result"
    }
   ],
   "source": [
    "type(f(t))"
   ]
  },
  {
   "cell_type": "code",
   "execution_count": 12,
   "id": "07fbe062",
   "metadata": {
    "execution": {
     "iopub.execute_input": "2024-02-20T15:57:14.452786Z",
     "iopub.status.busy": "2024-02-20T15:57:14.452433Z",
     "iopub.status.idle": "2024-02-20T15:57:14.456603Z",
     "shell.execute_reply": "2024-02-20T15:57:14.456028Z"
    }
   },
   "outputs": [
    {
     "data": {
      "text/latex": [
       "$\\displaystyle f{\\left(a,b,\\omega,t \\right)}$"
      ],
      "text/plain": [
       "f(a, b, ω, t)"
      ]
     },
     "execution_count": 12,
     "metadata": {},
     "output_type": "execute_result"
    }
   ],
   "source": [
    "f(a, b, omega, t)"
   ]
  },
  {
   "cell_type": "code",
   "execution_count": 13,
   "id": "a00fd830",
   "metadata": {
    "execution": {
     "iopub.execute_input": "2024-02-20T15:57:14.458463Z",
     "iopub.status.busy": "2024-02-20T15:57:14.458284Z",
     "iopub.status.idle": "2024-02-20T15:57:14.462637Z",
     "shell.execute_reply": "2024-02-20T15:57:14.462138Z"
    }
   },
   "outputs": [
    {
     "data": {
      "text/latex": [
       "$\\displaystyle H{\\left(x,y,z \\right)}$"
      ],
      "text/plain": [
       "H(x, y, z)"
      ]
     },
     "execution_count": 13,
     "metadata": {},
     "output_type": "execute_result"
    }
   ],
   "source": [
    "x, y, z = sm.symbols('x, y, z')\n",
    "sm.Function('H')(x, y, z)"
   ]
  },
  {
   "cell_type": "code",
   "execution_count": 14,
   "id": "4a719f4f",
   "metadata": {
    "execution": {
     "iopub.execute_input": "2024-02-20T15:57:14.464490Z",
     "iopub.status.busy": "2024-02-20T15:57:14.464297Z",
     "iopub.status.idle": "2024-02-20T15:57:14.611047Z",
     "shell.execute_reply": "2024-02-20T15:57:14.610465Z"
    }
   },
   "outputs": [
    {
     "data": {
      "text/latex": [
       "$\\displaystyle a + \\frac{b}{\\omega^{2}}$"
      ],
      "text/plain": [
       "    b \n",
       "a + ──\n",
       "     2\n",
       "    ω "
      ]
     },
     "execution_count": 14,
     "metadata": {},
     "output_type": "execute_result"
    }
   ],
   "source": [
    "expr1 = a + b/omega**2\n",
    "expr1"
   ]
  },
  {
   "cell_type": "code",
   "execution_count": 15,
   "id": "fd4f078b",
   "metadata": {
    "execution": {
     "iopub.execute_input": "2024-02-20T15:57:14.613379Z",
     "iopub.status.busy": "2024-02-20T15:57:14.613012Z",
     "iopub.status.idle": "2024-02-20T15:57:14.616904Z",
     "shell.execute_reply": "2024-02-20T15:57:14.616417Z"
    }
   },
   "outputs": [
    {
     "data": {
      "text/plain": [
       "sympy.core.add.Add"
      ]
     },
     "execution_count": 15,
     "metadata": {},
     "output_type": "execute_result"
    }
   ],
   "source": [
    "type(expr1)"
   ]
  },
  {
   "cell_type": "code",
   "execution_count": 16,
   "id": "734e51ce",
   "metadata": {
    "execution": {
     "iopub.execute_input": "2024-02-20T15:57:14.619059Z",
     "iopub.status.busy": "2024-02-20T15:57:14.618529Z",
     "iopub.status.idle": "2024-02-20T15:57:14.622727Z",
     "shell.execute_reply": "2024-02-20T15:57:14.622174Z"
    }
   },
   "outputs": [
    {
     "data": {
      "text/plain": [
       "\"Add(Symbol('a'), Mul(Symbol('b'), Pow(Symbol('omega'), Integer(-2))))\""
      ]
     },
     "execution_count": 16,
     "metadata": {},
     "output_type": "execute_result"
    }
   ],
   "source": [
    "sm.srepr(expr1)"
   ]
  },
  {
   "cell_type": "code",
   "execution_count": 17,
   "id": "0098822d",
   "metadata": {
    "execution": {
     "iopub.execute_input": "2024-02-20T15:57:14.624951Z",
     "iopub.status.busy": "2024-02-20T15:57:14.624547Z",
     "iopub.status.idle": "2024-02-20T15:57:14.629377Z",
     "shell.execute_reply": "2024-02-20T15:57:14.628837Z"
    }
   },
   "outputs": [
    {
     "data": {
      "text/latex": [
       "$\\displaystyle a \\omega + f{\\left(t \\right)}$"
      ],
      "text/plain": [
       "a⋅ω + f(t)"
      ]
     },
     "execution_count": 17,
     "metadata": {},
     "output_type": "execute_result"
    }
   ],
   "source": [
    "expr2 = f(t) + a*omega\n",
    "expr2"
   ]
  },
  {
   "cell_type": "code",
   "execution_count": 18,
   "id": "0d1a54a5",
   "metadata": {
    "execution": {
     "iopub.execute_input": "2024-02-20T15:57:14.631310Z",
     "iopub.status.busy": "2024-02-20T15:57:14.631014Z",
     "iopub.status.idle": "2024-02-20T15:57:14.637511Z",
     "shell.execute_reply": "2024-02-20T15:57:14.636987Z"
    }
   },
   "outputs": [
    {
     "data": {
      "text/latex": [
       "$\\displaystyle a \\sin{\\left(\\omega \\right)} + \\frac{\\left|{f{\\left(t \\right)}}\\right|}{\\sqrt{b}}$"
      ],
      "text/plain": [
       "           │f(t)│\n",
       "a⋅sin(ω) + ──────\n",
       "             √b  "
      ]
     },
     "execution_count": 18,
     "metadata": {},
     "output_type": "execute_result"
    }
   ],
   "source": [
    "expr3 = a*sm.sin(omega) + sm.Abs(f(t))/sm.sqrt(b)\n",
    "expr3"
   ]
  },
  {
   "cell_type": "code",
   "execution_count": 19,
   "id": "6fd4201b",
   "metadata": {
    "execution": {
     "iopub.execute_input": "2024-02-20T15:57:14.639344Z",
     "iopub.status.busy": "2024-02-20T15:57:14.639182Z",
     "iopub.status.idle": "2024-02-20T15:57:14.644949Z",
     "shell.execute_reply": "2024-02-20T15:57:14.644430Z"
    }
   },
   "outputs": [
    {
     "data": {
      "text/latex": [
       "$\\displaystyle 5 \\sin{\\left(12 \\right)} + 105.986768359379$"
      ],
      "text/plain": [
       "5⋅sin(12) + 105.986768359379"
      ]
     },
     "execution_count": 19,
     "metadata": {},
     "output_type": "execute_result"
    }
   ],
   "source": [
    "expr4 = 5*sm.sin(12) + sm.Abs(-1001)/sm.sqrt(89.2)\n",
    "expr4"
   ]
  },
  {
   "cell_type": "code",
   "execution_count": 20,
   "id": "b6d6c250",
   "metadata": {
    "execution": {
     "iopub.execute_input": "2024-02-20T15:57:14.647133Z",
     "iopub.status.busy": "2024-02-20T15:57:14.646794Z",
     "iopub.status.idle": "2024-02-20T15:57:14.651127Z",
     "shell.execute_reply": "2024-02-20T15:57:14.650676Z"
    }
   },
   "outputs": [
    {
     "data": {
      "text/latex": [
       "$\\displaystyle 0.5 a$"
      ],
      "text/plain": [
       "0.5⋅a"
      ]
     },
     "execution_count": 20,
     "metadata": {},
     "output_type": "execute_result"
    }
   ],
   "source": [
    "1/2*a"
   ]
  },
  {
   "cell_type": "code",
   "execution_count": 21,
   "id": "da796223",
   "metadata": {
    "execution": {
     "iopub.execute_input": "2024-02-20T15:57:14.653212Z",
     "iopub.status.busy": "2024-02-20T15:57:14.652859Z",
     "iopub.status.idle": "2024-02-20T15:57:14.656715Z",
     "shell.execute_reply": "2024-02-20T15:57:14.656175Z"
    }
   },
   "outputs": [
    {
     "data": {
      "text/latex": [
       "$\\displaystyle \\frac{a}{2}$"
      ],
      "text/plain": [
       "a\n",
       "─\n",
       "2"
      ]
     },
     "execution_count": 21,
     "metadata": {},
     "output_type": "execute_result"
    }
   ],
   "source": [
    "sm.S(1)/2*a"
   ]
  },
  {
   "cell_type": "code",
   "execution_count": 22,
   "id": "fd7780d1",
   "metadata": {
    "execution": {
     "iopub.execute_input": "2024-02-20T15:57:14.658563Z",
     "iopub.status.busy": "2024-02-20T15:57:14.658400Z",
     "iopub.status.idle": "2024-02-20T15:57:14.662184Z",
     "shell.execute_reply": "2024-02-20T15:57:14.661732Z"
    }
   },
   "outputs": [
    {
     "data": {
      "text/latex": [
       "$\\displaystyle \\frac{a}{2}$"
      ],
      "text/plain": [
       "a\n",
       "─\n",
       "2"
      ]
     },
     "execution_count": 22,
     "metadata": {},
     "output_type": "execute_result"
    }
   ],
   "source": [
    "a/2"
   ]
  },
  {
   "cell_type": "code",
   "execution_count": 23,
   "id": "22e51b1f",
   "metadata": {
    "execution": {
     "iopub.execute_input": "2024-02-20T15:57:14.664143Z",
     "iopub.status.busy": "2024-02-20T15:57:14.663813Z",
     "iopub.status.idle": "2024-02-20T15:57:14.670720Z",
     "shell.execute_reply": "2024-02-20T15:57:14.670249Z"
    }
   },
   "outputs": [
    {
     "data": {
      "text/latex": [
       "$\\displaystyle t \\sin{\\left(\\omega f{\\left(t \\right)} \\right)} + \\frac{f{\\left(t \\right)}}{\\sqrt{t}}$"
      ],
      "text/plain": [
       "                f(t)\n",
       "t⋅sin(ω⋅f(t)) + ────\n",
       "                 √t "
      ]
     },
     "execution_count": 23,
     "metadata": {},
     "output_type": "execute_result"
    }
   ],
   "source": [
    "expr5 = t*sm.sin(omega*f(t)) + f(t)/sm.sqrt(t)\n",
    "expr5"
   ]
  },
  {
   "cell_type": "code",
   "execution_count": 24,
   "id": "73bb976b",
   "metadata": {
    "execution": {
     "iopub.execute_input": "2024-02-20T15:57:14.672669Z",
     "iopub.status.busy": "2024-02-20T15:57:14.672306Z",
     "iopub.status.idle": "2024-02-20T15:57:14.688614Z",
     "shell.execute_reply": "2024-02-20T15:57:14.688027Z"
    }
   },
   "outputs": [
    {
     "data": {
      "text/latex": [
       "$\\displaystyle \\frac{\\sqrt{2} e^{\\frac{\\left(- \\mu + x\\right)^{2}}{2 \\sigma^{2}}}}{2 \\sqrt{\\pi} \\sqrt{\\sigma}}$"
      ],
      "text/plain": [
       "            2\n",
       "    (-μ + x) \n",
       "    ─────────\n",
       "          2  \n",
       "       2⋅σ   \n",
       "√2⋅ℯ         \n",
       "─────────────\n",
       "   2⋅√π⋅√σ   "
      ]
     },
     "execution_count": 24,
     "metadata": {},
     "output_type": "execute_result"
    }
   ],
   "source": [
    "x, s, m = sm.symbols('x, sigma, mu')\n",
    "sm.exp((x-m)**2/2/s**2)/sm.sqrt(2*sm.pi*s)"
   ]
  },
  {
   "cell_type": "code",
   "execution_count": 25,
   "id": "fbe24a57",
   "metadata": {
    "execution": {
     "iopub.execute_input": "2024-02-20T15:57:14.690563Z",
     "iopub.status.busy": "2024-02-20T15:57:14.690232Z",
     "iopub.status.idle": "2024-02-20T15:57:14.693997Z",
     "shell.execute_reply": "2024-02-20T15:57:14.693558Z"
    }
   },
   "outputs": [
    {
     "data": {
      "text/plain": [
       "\"Add(Mul(Symbol('a'), sin(Symbol('omega'))), Mul(Pow(Symbol('b'), Rational(-1, 2)), Abs(Function('f')(Symbol('t')))))\""
      ]
     },
     "execution_count": 25,
     "metadata": {},
     "output_type": "execute_result"
    }
   ],
   "source": [
    "sm.srepr(expr3)"
   ]
  },
  {
   "cell_type": "code",
   "execution_count": 26,
   "id": "3d7fc469",
   "metadata": {
    "execution": {
     "iopub.execute_input": "2024-02-20T15:57:14.695791Z",
     "iopub.status.busy": "2024-02-20T15:57:14.695629Z",
     "iopub.status.idle": "2024-02-20T15:57:14.699445Z",
     "shell.execute_reply": "2024-02-20T15:57:14.698879Z"
    }
   },
   "outputs": [
    {
     "data": {
      "text/plain": [
       "'a*sin(omega) + Abs(f(t))/sqrt(b)'"
      ]
     },
     "execution_count": 26,
     "metadata": {},
     "output_type": "execute_result"
    }
   ],
   "source": [
    "repr(expr3)"
   ]
  },
  {
   "cell_type": "code",
   "execution_count": 27,
   "id": "22176525",
   "metadata": {
    "execution": {
     "iopub.execute_input": "2024-02-20T15:57:14.701465Z",
     "iopub.status.busy": "2024-02-20T15:57:14.701129Z",
     "iopub.status.idle": "2024-02-20T15:57:14.704146Z",
     "shell.execute_reply": "2024-02-20T15:57:14.703636Z"
    }
   },
   "outputs": [
    {
     "name": "stdout",
     "output_type": "stream",
     "text": [
      "a*sin(omega) + Abs(f(t))/sqrt(b)\n"
     ]
    }
   ],
   "source": [
    "print(expr3)"
   ]
  },
  {
   "cell_type": "code",
   "execution_count": 28,
   "id": "0ed91b61",
   "metadata": {
    "execution": {
     "iopub.execute_input": "2024-02-20T15:57:14.706231Z",
     "iopub.status.busy": "2024-02-20T15:57:14.705891Z",
     "iopub.status.idle": "2024-02-20T15:57:14.709091Z",
     "shell.execute_reply": "2024-02-20T15:57:14.708542Z"
    }
   },
   "outputs": [
    {
     "name": "stdout",
     "output_type": "stream",
     "text": [
      "           │f(t)│\n",
      "a⋅sin(ω) + ──────\n",
      "             √b  \n"
     ]
    }
   ],
   "source": [
    "sm.pprint(expr3)"
   ]
  },
  {
   "cell_type": "code",
   "execution_count": 29,
   "id": "c9592213",
   "metadata": {
    "execution": {
     "iopub.execute_input": "2024-02-20T15:57:14.711095Z",
     "iopub.status.busy": "2024-02-20T15:57:14.710759Z",
     "iopub.status.idle": "2024-02-20T15:57:14.714758Z",
     "shell.execute_reply": "2024-02-20T15:57:14.714196Z"
    }
   },
   "outputs": [
    {
     "data": {
      "text/plain": [
       "'a \\\\sin{\\\\left(\\\\omega \\\\right)} + \\\\frac{\\\\left|{f{\\\\left(t \\\\right)}}\\\\right|}{\\\\sqrt{b}}'"
      ]
     },
     "execution_count": 29,
     "metadata": {},
     "output_type": "execute_result"
    }
   ],
   "source": [
    "sm.latex(expr3)"
   ]
  },
  {
   "cell_type": "code",
   "execution_count": 30,
   "id": "1aebc6c9",
   "metadata": {
    "execution": {
     "iopub.execute_input": "2024-02-20T15:57:14.716740Z",
     "iopub.status.busy": "2024-02-20T15:57:14.716387Z",
     "iopub.status.idle": "2024-02-20T15:57:14.719716Z",
     "shell.execute_reply": "2024-02-20T15:57:14.719174Z"
    }
   },
   "outputs": [
    {
     "name": "stdout",
     "output_type": "stream",
     "text": [
      "a \\sin{\\left(\\omega \\right)} + \\frac{\\left|{f{\\left(t \\right)}}\\right|}{\\sqrt{b}}\n"
     ]
    }
   ],
   "source": [
    "print(sm.latex(expr3))"
   ]
  },
  {
   "cell_type": "code",
   "execution_count": 31,
   "id": "3b646532",
   "metadata": {
    "execution": {
     "iopub.execute_input": "2024-02-20T15:57:14.721759Z",
     "iopub.status.busy": "2024-02-20T15:57:14.721326Z",
     "iopub.status.idle": "2024-02-20T15:57:14.725591Z",
     "shell.execute_reply": "2024-02-20T15:57:14.725038Z"
    }
   },
   "outputs": [
    {
     "name": "stdout",
     "output_type": "stream",
     "text": [
      "\\begin{equation}\\frac{\\sqrt{2} e^{\\frac{\\left(- \\mu + x\\right)^{2}}{2 \\sigma^{2}}}}{2 \\sqrt{\\pi} \\sqrt{\\sigma}}\\end{equation}\n"
     ]
    }
   ],
   "source": [
    "x, s, m = sm.symbols('x, sigma, mu')\n",
    "print(sm.latex(sm.exp((x-m)**2/2/s**2)/sm.sqrt(2*sm.pi*s),\n",
    "               mode='equation'))"
   ]
  },
  {
   "cell_type": "code",
   "execution_count": 32,
   "id": "25ff03bc",
   "metadata": {
    "execution": {
     "iopub.execute_input": "2024-02-20T15:57:14.727495Z",
     "iopub.status.busy": "2024-02-20T15:57:14.727174Z",
     "iopub.status.idle": "2024-02-20T15:57:14.731786Z",
     "shell.execute_reply": "2024-02-20T15:57:14.731241Z"
    }
   },
   "outputs": [
    {
     "data": {
      "text/latex": [
       "$\\displaystyle \\frac{d}{d t} f{\\left(t \\right)}$"
      ],
      "text/plain": [
       "d       \n",
       "──(f(t))\n",
       "dt      "
      ]
     },
     "execution_count": 32,
     "metadata": {},
     "output_type": "execute_result"
    }
   ],
   "source": [
    "sm.diff(f(t), t)"
   ]
  },
  {
   "cell_type": "code",
   "execution_count": 33,
   "id": "0e64631b",
   "metadata": {
    "execution": {
     "iopub.execute_input": "2024-02-20T15:57:14.733598Z",
     "iopub.status.busy": "2024-02-20T15:57:14.733440Z",
     "iopub.status.idle": "2024-02-20T15:57:14.737624Z",
     "shell.execute_reply": "2024-02-20T15:57:14.737040Z"
    }
   },
   "outputs": [
    {
     "data": {
      "text/latex": [
       "$\\displaystyle \\frac{d}{d t} f{\\left(t \\right)}$"
      ],
      "text/plain": [
       "d       \n",
       "──(f(t))\n",
       "dt      "
      ]
     },
     "execution_count": 33,
     "metadata": {},
     "output_type": "execute_result"
    }
   ],
   "source": [
    "f(t).diff(t)"
   ]
  },
  {
   "cell_type": "code",
   "execution_count": 34,
   "id": "a47451d4",
   "metadata": {
    "execution": {
     "iopub.execute_input": "2024-02-20T15:57:14.739657Z",
     "iopub.status.busy": "2024-02-20T15:57:14.739329Z",
     "iopub.status.idle": "2024-02-20T15:57:14.743857Z",
     "shell.execute_reply": "2024-02-20T15:57:14.743298Z"
    }
   },
   "outputs": [
    {
     "data": {
      "text/latex": [
       "$\\displaystyle a \\sin{\\left(\\omega \\right)} + \\frac{\\left|{f{\\left(t \\right)}}\\right|}{\\sqrt{b}}$"
      ],
      "text/plain": [
       "           │f(t)│\n",
       "a⋅sin(ω) + ──────\n",
       "             √b  "
      ]
     },
     "execution_count": 34,
     "metadata": {},
     "output_type": "execute_result"
    }
   ],
   "source": [
    "expr3"
   ]
  },
  {
   "cell_type": "code",
   "execution_count": 35,
   "id": "66ab8bc3",
   "metadata": {
    "execution": {
     "iopub.execute_input": "2024-02-20T15:57:14.745846Z",
     "iopub.status.busy": "2024-02-20T15:57:14.745519Z",
     "iopub.status.idle": "2024-02-20T15:57:14.753968Z",
     "shell.execute_reply": "2024-02-20T15:57:14.753408Z"
    }
   },
   "outputs": [
    {
     "data": {
      "text/latex": [
       "$\\displaystyle - \\frac{\\left|{f{\\left(t \\right)}}\\right|}{2 b^{\\frac{3}{2}}}$"
      ],
      "text/plain": [
       "-│f(t)│ \n",
       "────────\n",
       "    3/2 \n",
       " 2⋅b    "
      ]
     },
     "execution_count": 35,
     "metadata": {},
     "output_type": "execute_result"
    }
   ],
   "source": [
    "expr3.diff(b)"
   ]
  },
  {
   "cell_type": "code",
   "execution_count": 36,
   "id": "70198ffe",
   "metadata": {
    "execution": {
     "iopub.execute_input": "2024-02-20T15:57:14.755855Z",
     "iopub.status.busy": "2024-02-20T15:57:14.755678Z",
     "iopub.status.idle": "2024-02-20T15:57:14.776317Z",
     "shell.execute_reply": "2024-02-20T15:57:14.775836Z"
    }
   },
   "outputs": [
    {
     "data": {
      "text/latex": [
       "$\\displaystyle - \\frac{\\left(\\operatorname{re}{\\left(f{\\left(t \\right)}\\right)} \\frac{d}{d t} \\operatorname{re}{\\left(f{\\left(t \\right)}\\right)} + \\operatorname{im}{\\left(f{\\left(t \\right)}\\right)} \\frac{d}{d t} \\operatorname{im}{\\left(f{\\left(t \\right)}\\right)}\\right) \\operatorname{sign}{\\left(f{\\left(t \\right)} \\right)}}{2 b^{\\frac{3}{2}} f{\\left(t \\right)}}$"
      ],
      "text/plain": [
       " ⎛         d                       d           ⎞            \n",
       "-⎜re(f(t))⋅──(re(f(t))) + im(f(t))⋅──(im(f(t)))⎟⋅sign(f(t)) \n",
       " ⎝         dt                      dt          ⎠            \n",
       "────────────────────────────────────────────────────────────\n",
       "                           3/2                              \n",
       "                        2⋅b   ⋅f(t)                         "
      ]
     },
     "execution_count": 36,
     "metadata": {},
     "output_type": "execute_result"
    }
   ],
   "source": [
    "expr3.diff(b, t)"
   ]
  },
  {
   "cell_type": "code",
   "execution_count": 37,
   "id": "24597823",
   "metadata": {
    "execution": {
     "iopub.execute_input": "2024-02-20T15:57:14.778125Z",
     "iopub.status.busy": "2024-02-20T15:57:14.777950Z",
     "iopub.status.idle": "2024-02-20T15:57:14.796174Z",
     "shell.execute_reply": "2024-02-20T15:57:14.795728Z"
    }
   },
   "outputs": [
    {
     "data": {
      "text/latex": [
       "$\\displaystyle \\frac{\\left(\\operatorname{re}{\\left(h{\\left(t \\right)}\\right)} \\frac{d}{d t} \\operatorname{re}{\\left(h{\\left(t \\right)}\\right)} + \\operatorname{im}{\\left(h{\\left(t \\right)}\\right)} \\frac{d}{d t} \\operatorname{im}{\\left(h{\\left(t \\right)}\\right)}\\right) \\operatorname{sign}{\\left(h{\\left(t \\right)} \\right)}}{h{\\left(t \\right)}}$"
      ],
      "text/plain": [
       "⎛         d                       d           ⎞           \n",
       "⎜re(h(t))⋅──(re(h(t))) + im(h(t))⋅──(im(h(t)))⎟⋅sign(h(t))\n",
       "⎝         dt                      dt          ⎠           \n",
       "──────────────────────────────────────────────────────────\n",
       "                           h(t)                           "
      ]
     },
     "execution_count": 37,
     "metadata": {},
     "output_type": "execute_result"
    }
   ],
   "source": [
    "h = sm.Function('h')\n",
    "sm.Abs(h(t)).diff(t)"
   ]
  },
  {
   "cell_type": "code",
   "execution_count": 38,
   "id": "24beaedc",
   "metadata": {
    "execution": {
     "iopub.execute_input": "2024-02-20T15:57:14.798016Z",
     "iopub.status.busy": "2024-02-20T15:57:14.797840Z",
     "iopub.status.idle": "2024-02-20T15:57:14.804476Z",
     "shell.execute_reply": "2024-02-20T15:57:14.804002Z"
    }
   },
   "outputs": [
    {
     "data": {
      "text/latex": [
       "$\\displaystyle \\operatorname{sign}{\\left(h{\\left(t \\right)} \\right)} \\frac{d}{d t} h{\\left(t \\right)}$"
      ],
      "text/plain": [
       "           d       \n",
       "sign(h(t))⋅──(h(t))\n",
       "           dt      "
      ]
     },
     "execution_count": 38,
     "metadata": {},
     "output_type": "execute_result"
    }
   ],
   "source": [
    "h = sm.Function('h', real=True)\n",
    "sm.Abs(h(t)).diff(t)"
   ]
  },
  {
   "cell_type": "code",
   "execution_count": 39,
   "id": "46c5e290",
   "metadata": {
    "execution": {
     "iopub.execute_input": "2024-02-20T15:57:14.806270Z",
     "iopub.status.busy": "2024-02-20T15:57:14.806099Z",
     "iopub.status.idle": "2024-02-20T15:57:14.810973Z",
     "shell.execute_reply": "2024-02-20T15:57:14.810441Z"
    }
   },
   "outputs": [
    {
     "data": {
      "text/latex": [
       "$\\displaystyle \\frac{d}{d t} h{\\left(t \\right)}$"
      ],
      "text/plain": [
       "d       \n",
       "──(h(t))\n",
       "dt      "
      ]
     },
     "execution_count": 39,
     "metadata": {},
     "output_type": "execute_result"
    }
   ],
   "source": [
    "h = sm.Function('h', real=True, positive=True)\n",
    "sm.Abs(h(t)).diff(t)"
   ]
  },
  {
   "cell_type": "code",
   "execution_count": 40,
   "id": "2aa17acf",
   "metadata": {
    "execution": {
     "iopub.execute_input": "2024-02-20T15:57:14.812861Z",
     "iopub.status.busy": "2024-02-20T15:57:14.812682Z",
     "iopub.status.idle": "2024-02-20T15:57:14.817260Z",
     "shell.execute_reply": "2024-02-20T15:57:14.816768Z"
    }
   },
   "outputs": [
    {
     "data": {
      "text/latex": [
       "$\\displaystyle t \\sin{\\left(\\omega f{\\left(t \\right)} \\right)} + \\frac{f{\\left(t \\right)}}{\\sqrt{t}}$"
      ],
      "text/plain": [
       "                f(t)\n",
       "t⋅sin(ω⋅f(t)) + ────\n",
       "                 √t "
      ]
     },
     "execution_count": 40,
     "metadata": {},
     "output_type": "execute_result"
    }
   ],
   "source": [
    "expr5"
   ]
  },
  {
   "cell_type": "code",
   "execution_count": 41,
   "id": "5f6458ae",
   "metadata": {
    "execution": {
     "iopub.execute_input": "2024-02-20T15:57:14.819118Z",
     "iopub.status.busy": "2024-02-20T15:57:14.818943Z",
     "iopub.status.idle": "2024-02-20T15:57:14.835465Z",
     "shell.execute_reply": "2024-02-20T15:57:14.835014Z"
    }
   },
   "outputs": [
    {
     "data": {
      "text/latex": [
       "$\\displaystyle - \\omega t f{\\left(t \\right)} \\sin{\\left(\\omega f{\\left(t \\right)} \\right)} \\frac{d}{d t} f{\\left(t \\right)} + t \\cos{\\left(\\omega f{\\left(t \\right)} \\right)} \\frac{d}{d t} f{\\left(t \\right)} + f{\\left(t \\right)} \\cos{\\left(\\omega f{\\left(t \\right)} \\right)}$"
      ],
      "text/plain": [
       "                       d                        d                          \n",
       "- ω⋅t⋅f(t)⋅sin(ω⋅f(t))⋅──(f(t)) + t⋅cos(ω⋅f(t))⋅──(f(t)) + f(t)⋅cos(ω⋅f(t))\n",
       "                       dt                       dt                         "
      ]
     },
     "execution_count": 41,
     "metadata": {},
     "output_type": "execute_result"
    }
   ],
   "source": [
    "expr5.diff(t, omega)"
   ]
  },
  {
   "cell_type": "code",
   "execution_count": 42,
   "id": "ea854ad9",
   "metadata": {
    "execution": {
     "iopub.execute_input": "2024-02-20T15:57:14.837260Z",
     "iopub.status.busy": "2024-02-20T15:57:14.837086Z",
     "iopub.status.idle": "2024-02-20T15:57:14.856314Z",
     "shell.execute_reply": "2024-02-20T15:57:14.855864Z"
    }
   },
   "outputs": [
    {
     "data": {
      "text/latex": [
       "$\\displaystyle - \\omega t f{\\left(t \\right)} \\sin{\\left(\\omega f{\\left(t \\right)} \\right)} \\frac{d}{d t} f{\\left(t \\right)} + t \\cos{\\left(\\omega f{\\left(t \\right)} \\right)} \\frac{d}{d t} f{\\left(t \\right)} + f{\\left(t \\right)} \\cos{\\left(\\omega f{\\left(t \\right)} \\right)}$"
      ],
      "text/plain": [
       "                       d                        d                          \n",
       "- ω⋅t⋅f(t)⋅sin(ω⋅f(t))⋅──(f(t)) + t⋅cos(ω⋅f(t))⋅──(f(t)) + f(t)⋅cos(ω⋅f(t))\n",
       "                       dt                       dt                         "
      ]
     },
     "execution_count": 42,
     "metadata": {},
     "output_type": "execute_result"
    }
   ],
   "source": [
    "expr5.diff(t).diff(omega)"
   ]
  },
  {
   "cell_type": "code",
   "execution_count": 43,
   "id": "80ce31cd",
   "metadata": {
    "execution": {
     "iopub.execute_input": "2024-02-20T15:57:14.858378Z",
     "iopub.status.busy": "2024-02-20T15:57:14.858044Z",
     "iopub.status.idle": "2024-02-20T15:57:14.860743Z",
     "shell.execute_reply": "2024-02-20T15:57:14.860234Z"
    }
   },
   "outputs": [],
   "source": [
    "repl = {omega: sm.pi/4, a: 2, f(t): -12, b: 25}"
   ]
  },
  {
   "cell_type": "code",
   "execution_count": 44,
   "id": "adb97196",
   "metadata": {
    "execution": {
     "iopub.execute_input": "2024-02-20T15:57:14.862537Z",
     "iopub.status.busy": "2024-02-20T15:57:14.862376Z",
     "iopub.status.idle": "2024-02-20T15:57:14.869341Z",
     "shell.execute_reply": "2024-02-20T15:57:14.868881Z"
    }
   },
   "outputs": [
    {
     "data": {
      "text/latex": [
       "$\\displaystyle \\sqrt{2} + \\frac{12}{5}$"
      ],
      "text/plain": [
       "√2 + 12/5"
      ]
     },
     "execution_count": 44,
     "metadata": {},
     "output_type": "execute_result"
    }
   ],
   "source": [
    "expr3.xreplace(repl)"
   ]
  },
  {
   "cell_type": "code",
   "execution_count": 45,
   "id": "2269e892",
   "metadata": {
    "execution": {
     "iopub.execute_input": "2024-02-20T15:57:14.871392Z",
     "iopub.status.busy": "2024-02-20T15:57:14.871063Z",
     "iopub.status.idle": "2024-02-20T15:57:14.875751Z",
     "shell.execute_reply": "2024-02-20T15:57:14.875282Z"
    }
   },
   "outputs": [
    {
     "data": {
      "text/latex": [
       "$\\displaystyle 3.814213562$"
      ],
      "text/plain": [
       "3.814213562"
      ]
     },
     "execution_count": 45,
     "metadata": {},
     "output_type": "execute_result"
    }
   ],
   "source": [
    "expr3.evalf(n=10, subs=repl)"
   ]
  },
  {
   "cell_type": "code",
   "execution_count": 46,
   "id": "2fa3b301",
   "metadata": {
    "execution": {
     "iopub.execute_input": "2024-02-20T15:57:14.877603Z",
     "iopub.status.busy": "2024-02-20T15:57:14.877440Z",
     "iopub.status.idle": "2024-02-20T15:57:14.881754Z",
     "shell.execute_reply": "2024-02-20T15:57:14.881199Z"
    }
   },
   "outputs": [
    {
     "data": {
      "text/plain": [
       "sympy.core.numbers.Float"
      ]
     },
     "execution_count": 46,
     "metadata": {},
     "output_type": "execute_result"
    }
   ],
   "source": [
    "type(expr3.evalf(n=10, subs=repl))"
   ]
  },
  {
   "cell_type": "code",
   "execution_count": 47,
   "id": "67cb2a33",
   "metadata": {
    "execution": {
     "iopub.execute_input": "2024-02-20T15:57:14.883962Z",
     "iopub.status.busy": "2024-02-20T15:57:14.883556Z",
     "iopub.status.idle": "2024-02-20T15:57:14.888228Z",
     "shell.execute_reply": "2024-02-20T15:57:14.887764Z"
    }
   },
   "outputs": [
    {
     "data": {
      "text/latex": [
       "$\\displaystyle 3.814213562373095048801688724209698078569671875376948073176679737990732478462107$"
      ],
      "text/plain": [
       "3.8142135623730950488016887242096980785696718753769480731766797379907324784621\n",
       "070"
      ]
     },
     "execution_count": 47,
     "metadata": {},
     "output_type": "execute_result"
    }
   ],
   "source": [
    "expr3.evalf(n=80, subs=repl)"
   ]
  },
  {
   "cell_type": "code",
   "execution_count": 48,
   "id": "fa0bd796",
   "metadata": {
    "execution": {
     "iopub.execute_input": "2024-02-20T15:57:14.890233Z",
     "iopub.status.busy": "2024-02-20T15:57:14.889816Z",
     "iopub.status.idle": "2024-02-20T15:57:14.894511Z",
     "shell.execute_reply": "2024-02-20T15:57:14.893972Z"
    }
   },
   "outputs": [
    {
     "data": {
      "text/latex": [
       "$\\displaystyle 3.81421356237309$"
      ],
      "text/plain": [
       "3.814213562373095"
      ]
     },
     "execution_count": 48,
     "metadata": {},
     "output_type": "execute_result"
    }
   ],
   "source": [
    "float(expr3.evalf(n=300, subs=repl))"
   ]
  },
  {
   "cell_type": "code",
   "execution_count": 49,
   "id": "dc7abb48",
   "metadata": {
    "execution": {
     "iopub.execute_input": "2024-02-20T15:57:14.896411Z",
     "iopub.status.busy": "2024-02-20T15:57:14.896084Z",
     "iopub.status.idle": "2024-02-20T15:57:14.900470Z",
     "shell.execute_reply": "2024-02-20T15:57:14.899900Z"
    }
   },
   "outputs": [
    {
     "data": {
      "text/plain": [
       "float"
      ]
     },
     "execution_count": 49,
     "metadata": {},
     "output_type": "execute_result"
    }
   ],
   "source": [
    "type(float(expr3.evalf(n=300, subs=repl)))"
   ]
  },
  {
   "cell_type": "code",
   "execution_count": 50,
   "id": "d5be123a",
   "metadata": {
    "execution": {
     "iopub.execute_input": "2024-02-20T15:57:14.902505Z",
     "iopub.status.busy": "2024-02-20T15:57:14.902076Z",
     "iopub.status.idle": "2024-02-20T15:57:14.906860Z",
     "shell.execute_reply": "2024-02-20T15:57:14.906264Z"
    }
   },
   "outputs": [
    {
     "data": {
      "text/latex": [
       "$\\displaystyle a \\sin{\\left(\\omega \\right)} + \\frac{\\left|{f{\\left(t \\right)}}\\right|}{\\sqrt{b}}$"
      ],
      "text/plain": [
       "           │f(t)│\n",
       "a⋅sin(ω) + ──────\n",
       "             √b  "
      ]
     },
     "execution_count": 50,
     "metadata": {},
     "output_type": "execute_result"
    }
   ],
   "source": [
    "expr3"
   ]
  },
  {
   "cell_type": "code",
   "execution_count": 51,
   "id": "b641db71",
   "metadata": {
    "execution": {
     "iopub.execute_input": "2024-02-20T15:57:14.908890Z",
     "iopub.status.busy": "2024-02-20T15:57:14.908709Z",
     "iopub.status.idle": "2024-02-20T15:57:15.053119Z",
     "shell.execute_reply": "2024-02-20T15:57:15.052388Z"
    }
   },
   "outputs": [],
   "source": [
    "eval_expr3 = sm.lambdify((omega, a, f(t), b), expr3)"
   ]
  },
  {
   "cell_type": "code",
   "execution_count": 52,
   "id": "0da95b06",
   "metadata": {
    "execution": {
     "iopub.execute_input": "2024-02-20T15:57:15.055793Z",
     "iopub.status.busy": "2024-02-20T15:57:15.055339Z",
     "iopub.status.idle": "2024-02-20T15:57:15.058800Z",
     "shell.execute_reply": "2024-02-20T15:57:15.058230Z"
    }
   },
   "outputs": [
    {
     "name": "stdout",
     "output_type": "stream",
     "text": [
      "Help on function _lambdifygenerated:\n",
      "\n",
      "_lambdifygenerated(omega, a, _Dummy_24, b)\n",
      "    Created with lambdify. Signature:\n",
      "    \n",
      "    func(omega, a, f, b)\n",
      "    \n",
      "    Expression:\n",
      "    \n",
      "    a*sin(omega) + Abs(f(t))/sqrt(b)\n",
      "    \n",
      "    Source code:\n",
      "    \n",
      "    def _lambdifygenerated(omega, a, _Dummy_24, b):\n",
      "        return a*sin(omega) + abs(_Dummy_24)/sqrt(b)\n",
      "    \n",
      "    \n",
      "    Imported modules:\n",
      "\n"
     ]
    }
   ],
   "source": [
    "help(eval_expr3)"
   ]
  },
  {
   "cell_type": "code",
   "execution_count": 53,
   "id": "95d19121",
   "metadata": {
    "execution": {
     "iopub.execute_input": "2024-02-20T15:57:15.060751Z",
     "iopub.status.busy": "2024-02-20T15:57:15.060566Z",
     "iopub.status.idle": "2024-02-20T15:57:15.065416Z",
     "shell.execute_reply": "2024-02-20T15:57:15.064852Z"
    }
   },
   "outputs": [
    {
     "data": {
      "text/latex": [
       "$\\displaystyle 3.81365036221073$"
      ],
      "text/plain": [
       "3.8136503622107316"
      ]
     },
     "execution_count": 53,
     "metadata": {},
     "output_type": "execute_result"
    }
   ],
   "source": [
    "eval_expr3(3.14/4, 2, -12, 25)"
   ]
  },
  {
   "cell_type": "code",
   "execution_count": 54,
   "id": "e5c0a74a",
   "metadata": {
    "execution": {
     "iopub.execute_input": "2024-02-20T15:57:15.067644Z",
     "iopub.status.busy": "2024-02-20T15:57:15.067232Z",
     "iopub.status.idle": "2024-02-20T15:57:15.070876Z",
     "shell.execute_reply": "2024-02-20T15:57:15.070421Z"
    }
   },
   "outputs": [
    {
     "data": {
      "text/plain": [
       "numpy.float64"
      ]
     },
     "execution_count": 54,
     "metadata": {},
     "output_type": "execute_result"
    }
   ],
   "source": [
    "type(eval_expr3(3.14/4, 2, -12, 25))"
   ]
  },
  {
   "cell_type": "code",
   "execution_count": 55,
   "id": "93469cff",
   "metadata": {
    "execution": {
     "iopub.execute_input": "2024-02-20T15:57:15.072970Z",
     "iopub.status.busy": "2024-02-20T15:57:15.072425Z",
     "iopub.status.idle": "2024-02-20T15:57:15.076469Z",
     "shell.execute_reply": "2024-02-20T15:57:15.076010Z"
    }
   },
   "outputs": [
    {
     "data": {
      "text/plain": [
       "array([3.81365036, 3.76704398, 3.72305144])"
      ]
     },
     "execution_count": 55,
     "metadata": {},
     "output_type": "execute_result"
    }
   ],
   "source": [
    "eval_expr3(3.14/4, 2, -12, [25, 26, 27])"
   ]
  },
  {
   "cell_type": "code",
   "execution_count": 56,
   "id": "1ed02802",
   "metadata": {
    "execution": {
     "iopub.execute_input": "2024-02-20T15:57:15.078428Z",
     "iopub.status.busy": "2024-02-20T15:57:15.078086Z",
     "iopub.status.idle": "2024-02-20T15:57:15.081736Z",
     "shell.execute_reply": "2024-02-20T15:57:15.081293Z"
    }
   },
   "outputs": [
    {
     "data": {
      "text/plain": [
       "numpy.ndarray"
      ]
     },
     "execution_count": 56,
     "metadata": {},
     "output_type": "execute_result"
    }
   ],
   "source": [
    "type(eval_expr3(3.14/4, 2, -12, [25, 26, 27]))"
   ]
  },
  {
   "cell_type": "code",
   "execution_count": 57,
   "id": "c3266a83",
   "metadata": {
    "execution": {
     "iopub.execute_input": "2024-02-20T15:57:15.083762Z",
     "iopub.status.busy": "2024-02-20T15:57:15.083326Z",
     "iopub.status.idle": "2024-02-20T15:57:15.090304Z",
     "shell.execute_reply": "2024-02-20T15:57:15.089766Z"
    }
   },
   "outputs": [
    {
     "data": {
      "text/latex": [
       "$\\displaystyle 785.597874097975$"
      ],
      "text/plain": [
       "785.5978740979749"
      ]
     },
     "execution_count": 57,
     "metadata": {},
     "output_type": "execute_result"
    }
   ],
   "source": [
    "G, m1, m2, r = sm.symbols('G, m1, m2, r')\n",
    "F = G*m1*m2/r**2\n",
    "eval_F = sm.lambdify((G, m1, m2, r), F)\n",
    "eval_F(6.67430E-11, 5.972E24, 80, 6371E3)"
   ]
  },
  {
   "cell_type": "code",
   "execution_count": 58,
   "id": "c1f48505",
   "metadata": {
    "execution": {
     "iopub.execute_input": "2024-02-20T15:57:15.092079Z",
     "iopub.status.busy": "2024-02-20T15:57:15.091912Z",
     "iopub.status.idle": "2024-02-20T15:57:15.097305Z",
     "shell.execute_reply": "2024-02-20T15:57:15.096837Z"
    }
   },
   "outputs": [
    {
     "data": {
      "text/latex": [
       "$\\displaystyle \\left[\\begin{matrix}a & 2 a\\\\\\frac{b}{\\omega} & f{\\left(t \\right)}\\end{matrix}\\right]$"
      ],
      "text/plain": [
       "⎡a  2⋅a ⎤\n",
       "⎢       ⎥\n",
       "⎢b      ⎥\n",
       "⎢─  f(t)⎥\n",
       "⎣ω      ⎦"
      ]
     },
     "execution_count": 58,
     "metadata": {},
     "output_type": "execute_result"
    }
   ],
   "source": [
    "mat1 = sm.Matrix([[a, 2*a], [b/omega, f(t)]])\n",
    "mat1"
   ]
  },
  {
   "cell_type": "code",
   "execution_count": 59,
   "id": "264e6bb8",
   "metadata": {
    "execution": {
     "iopub.execute_input": "2024-02-20T15:57:15.099321Z",
     "iopub.status.busy": "2024-02-20T15:57:15.098902Z",
     "iopub.status.idle": "2024-02-20T15:57:15.103454Z",
     "shell.execute_reply": "2024-02-20T15:57:15.102906Z"
    }
   },
   "outputs": [
    {
     "data": {
      "text/latex": [
       "$\\displaystyle \\left[\\begin{matrix}1 & 2\\\\3 & 4\\end{matrix}\\right]$"
      ],
      "text/plain": [
       "⎡1  2⎤\n",
       "⎢    ⎥\n",
       "⎣3  4⎦"
      ]
     },
     "execution_count": 59,
     "metadata": {},
     "output_type": "execute_result"
    }
   ],
   "source": [
    "mat2 = sm.Matrix([[1, 2], [3, 4]])\n",
    "mat2"
   ]
  },
  {
   "cell_type": "code",
   "execution_count": 60,
   "id": "30c45d97",
   "metadata": {
    "execution": {
     "iopub.execute_input": "2024-02-20T15:57:15.105475Z",
     "iopub.status.busy": "2024-02-20T15:57:15.105182Z",
     "iopub.status.idle": "2024-02-20T15:57:15.108767Z",
     "shell.execute_reply": "2024-02-20T15:57:15.108287Z"
    }
   },
   "outputs": [
    {
     "data": {
      "text/latex": [
       "$\\displaystyle \\left( 2, \\  2\\right)$"
      ],
      "text/plain": [
       "(2, 2)"
      ]
     },
     "execution_count": 60,
     "metadata": {},
     "output_type": "execute_result"
    }
   ],
   "source": [
    "mat1.shape"
   ]
  },
  {
   "cell_type": "code",
   "execution_count": 61,
   "id": "0cf1b534",
   "metadata": {
    "execution": {
     "iopub.execute_input": "2024-02-20T15:57:15.110687Z",
     "iopub.status.busy": "2024-02-20T15:57:15.110505Z",
     "iopub.status.idle": "2024-02-20T15:57:15.114389Z",
     "shell.execute_reply": "2024-02-20T15:57:15.113921Z"
    }
   },
   "outputs": [
    {
     "data": {
      "text/latex": [
       "$\\displaystyle 2 a$"
      ],
      "text/plain": [
       "2⋅a"
      ]
     },
     "execution_count": 61,
     "metadata": {},
     "output_type": "execute_result"
    }
   ],
   "source": [
    "mat1[0, 1]"
   ]
  },
  {
   "cell_type": "code",
   "execution_count": 62,
   "id": "392cc0d8",
   "metadata": {
    "execution": {
     "iopub.execute_input": "2024-02-20T15:57:15.116180Z",
     "iopub.status.busy": "2024-02-20T15:57:15.116004Z",
     "iopub.status.idle": "2024-02-20T15:57:15.120123Z",
     "shell.execute_reply": "2024-02-20T15:57:15.119606Z"
    }
   },
   "outputs": [
    {
     "data": {
      "text/latex": [
       "$\\displaystyle \\left[\\begin{matrix}a & 2 a\\end{matrix}\\right]$"
      ],
      "text/plain": [
       "[a  2⋅a]"
      ]
     },
     "execution_count": 62,
     "metadata": {},
     "output_type": "execute_result"
    }
   ],
   "source": [
    "mat1[0, 0:2]"
   ]
  },
  {
   "cell_type": "code",
   "execution_count": 63,
   "id": "d92b5196",
   "metadata": {
    "execution": {
     "iopub.execute_input": "2024-02-20T15:57:15.122058Z",
     "iopub.status.busy": "2024-02-20T15:57:15.121879Z",
     "iopub.status.idle": "2024-02-20T15:57:15.126226Z",
     "shell.execute_reply": "2024-02-20T15:57:15.125775Z"
    }
   },
   "outputs": [
    {
     "data": {
      "text/latex": [
       "$\\displaystyle \\left[\\begin{matrix}2 a\\\\f{\\left(t \\right)}\\end{matrix}\\right]$"
      ],
      "text/plain": [
       "⎡2⋅a ⎤\n",
       "⎢    ⎥\n",
       "⎣f(t)⎦"
      ]
     },
     "execution_count": 63,
     "metadata": {},
     "output_type": "execute_result"
    }
   ],
   "source": [
    "mat1[0:2, 1]"
   ]
  },
  {
   "cell_type": "code",
   "execution_count": 64,
   "id": "31877d80",
   "metadata": {
    "execution": {
     "iopub.execute_input": "2024-02-20T15:57:15.128048Z",
     "iopub.status.busy": "2024-02-20T15:57:15.127871Z",
     "iopub.status.idle": "2024-02-20T15:57:15.133967Z",
     "shell.execute_reply": "2024-02-20T15:57:15.133497Z"
    }
   },
   "outputs": [
    {
     "data": {
      "text/latex": [
       "$\\displaystyle \\left[\\begin{matrix}a + 1 & 2 a + 2\\\\\\frac{b}{\\omega} + 3 & f{\\left(t \\right)} + 4\\end{matrix}\\right]$"
      ],
      "text/plain": [
       "⎡a + 1  2⋅a + 2 ⎤\n",
       "⎢               ⎥\n",
       "⎢b              ⎥\n",
       "⎢─ + 3  f(t) + 4⎥\n",
       "⎣ω              ⎦"
      ]
     },
     "execution_count": 64,
     "metadata": {},
     "output_type": "execute_result"
    }
   ],
   "source": [
    "mat1 + mat2"
   ]
  },
  {
   "cell_type": "code",
   "execution_count": 65,
   "id": "a717bc55",
   "metadata": {
    "execution": {
     "iopub.execute_input": "2024-02-20T15:57:15.136007Z",
     "iopub.status.busy": "2024-02-20T15:57:15.135591Z",
     "iopub.status.idle": "2024-02-20T15:57:15.143628Z",
     "shell.execute_reply": "2024-02-20T15:57:15.143057Z"
    }
   },
   "outputs": [
    {
     "data": {
      "text/latex": [
       "$\\displaystyle \\left[\\begin{matrix}7 a & 10 a\\\\\\frac{b}{\\omega} + 3 f{\\left(t \\right)} & \\frac{2 b}{\\omega} + 4 f{\\left(t \\right)}\\end{matrix}\\right]$"
      ],
      "text/plain": [
       "⎡   7⋅a          10⋅a    ⎤\n",
       "⎢                        ⎥\n",
       "⎢b           2⋅b         ⎥\n",
       "⎢─ + 3⋅f(t)  ─── + 4⋅f(t)⎥\n",
       "⎣ω            ω          ⎦"
      ]
     },
     "execution_count": 65,
     "metadata": {},
     "output_type": "execute_result"
    }
   ],
   "source": [
    "mat1*mat2"
   ]
  },
  {
   "cell_type": "code",
   "execution_count": 66,
   "id": "341d0e12",
   "metadata": {
    "execution": {
     "iopub.execute_input": "2024-02-20T15:57:15.145449Z",
     "iopub.status.busy": "2024-02-20T15:57:15.145284Z",
     "iopub.status.idle": "2024-02-20T15:57:15.151507Z",
     "shell.execute_reply": "2024-02-20T15:57:15.151053Z"
    }
   },
   "outputs": [
    {
     "data": {
      "text/latex": [
       "$\\displaystyle \\left[\\begin{matrix}7 a & 10 a\\\\\\frac{b}{\\omega} + 3 f{\\left(t \\right)} & \\frac{2 b}{\\omega} + 4 f{\\left(t \\right)}\\end{matrix}\\right]$"
      ],
      "text/plain": [
       "⎡   7⋅a          10⋅a    ⎤\n",
       "⎢                        ⎥\n",
       "⎢b           2⋅b         ⎥\n",
       "⎢─ + 3⋅f(t)  ─── + 4⋅f(t)⎥\n",
       "⎣ω            ω          ⎦"
      ]
     },
     "execution_count": 66,
     "metadata": {},
     "output_type": "execute_result"
    }
   ],
   "source": [
    "mat1@mat2"
   ]
  },
  {
   "cell_type": "code",
   "execution_count": 67,
   "id": "46d37b64",
   "metadata": {
    "execution": {
     "iopub.execute_input": "2024-02-20T15:57:15.153414Z",
     "iopub.status.busy": "2024-02-20T15:57:15.153232Z",
     "iopub.status.idle": "2024-02-20T15:57:15.159066Z",
     "shell.execute_reply": "2024-02-20T15:57:15.158624Z"
    }
   },
   "outputs": [
    {
     "data": {
      "text/latex": [
       "$\\displaystyle \\left[\\begin{matrix}a & 4 a\\\\\\frac{3 b}{\\omega} & 4 f{\\left(t \\right)}\\end{matrix}\\right]$"
      ],
      "text/plain": [
       "⎡ a    4⋅a  ⎤\n",
       "⎢           ⎥\n",
       "⎢3⋅b        ⎥\n",
       "⎢───  4⋅f(t)⎥\n",
       "⎣ ω         ⎦"
      ]
     },
     "execution_count": 67,
     "metadata": {},
     "output_type": "execute_result"
    }
   ],
   "source": [
    "sm.hadamard_product(mat1, mat2)"
   ]
  },
  {
   "cell_type": "code",
   "execution_count": 68,
   "id": "8b61bd7c",
   "metadata": {
    "execution": {
     "iopub.execute_input": "2024-02-20T15:57:15.161088Z",
     "iopub.status.busy": "2024-02-20T15:57:15.160750Z",
     "iopub.status.idle": "2024-02-20T15:57:15.168932Z",
     "shell.execute_reply": "2024-02-20T15:57:15.168411Z"
    }
   },
   "outputs": [
    {
     "data": {
      "text/latex": [
       "$\\displaystyle \\left[\\begin{matrix}a + \\frac{b}{\\omega^{2}}\\\\a \\omega + f{\\left(t \\right)}\\\\a \\sin{\\left(\\omega \\right)} + \\frac{\\left|{f{\\left(t \\right)}}\\right|}{\\sqrt{b}}\\\\5 \\sin{\\left(12 \\right)} + 105.986768359379\\\\t \\sin{\\left(\\omega f{\\left(t \\right)} \\right)} + \\frac{f{\\left(t \\right)}}{\\sqrt{t}}\\end{matrix}\\right]$"
      ],
      "text/plain": [
       "⎡               b            ⎤\n",
       "⎢           a + ──           ⎥\n",
       "⎢                2           ⎥\n",
       "⎢               ω            ⎥\n",
       "⎢                            ⎥\n",
       "⎢         a⋅ω + f(t)         ⎥\n",
       "⎢                            ⎥\n",
       "⎢                │f(t)│      ⎥\n",
       "⎢     a⋅sin(ω) + ──────      ⎥\n",
       "⎢                  √b        ⎥\n",
       "⎢                            ⎥\n",
       "⎢5⋅sin(12) + 105.986768359379⎥\n",
       "⎢                            ⎥\n",
       "⎢                    f(t)    ⎥\n",
       "⎢    t⋅sin(ω⋅f(t)) + ────    ⎥\n",
       "⎣                     √t     ⎦"
      ]
     },
     "execution_count": 68,
     "metadata": {},
     "output_type": "execute_result"
    }
   ],
   "source": [
    "mat3 = sm.Matrix([expr1, expr2, expr3, expr4, expr5])\n",
    "mat3"
   ]
  },
  {
   "cell_type": "code",
   "execution_count": 69,
   "id": "699fcdc2",
   "metadata": {
    "execution": {
     "iopub.execute_input": "2024-02-20T15:57:15.170887Z",
     "iopub.status.busy": "2024-02-20T15:57:15.170707Z",
     "iopub.status.idle": "2024-02-20T15:57:15.182890Z",
     "shell.execute_reply": "2024-02-20T15:57:15.182405Z"
    }
   },
   "outputs": [
    {
     "data": {
      "text/latex": [
       "$\\displaystyle \\left[\\begin{matrix}1\\\\\\omega\\\\\\sin{\\left(\\omega \\right)}\\\\0\\\\0\\end{matrix}\\right]$"
      ],
      "text/plain": [
       "⎡  1   ⎤\n",
       "⎢      ⎥\n",
       "⎢  ω   ⎥\n",
       "⎢      ⎥\n",
       "⎢sin(ω)⎥\n",
       "⎢      ⎥\n",
       "⎢  0   ⎥\n",
       "⎢      ⎥\n",
       "⎣  0   ⎦"
      ]
     },
     "execution_count": 69,
     "metadata": {},
     "output_type": "execute_result"
    }
   ],
   "source": [
    "mat3.diff(a)"
   ]
  },
  {
   "cell_type": "code",
   "execution_count": 70,
   "id": "0f4cfa20",
   "metadata": {
    "execution": {
     "iopub.execute_input": "2024-02-20T15:57:15.184794Z",
     "iopub.status.busy": "2024-02-20T15:57:15.184605Z",
     "iopub.status.idle": "2024-02-20T15:57:15.198196Z",
     "shell.execute_reply": "2024-02-20T15:57:15.197621Z"
    }
   },
   "outputs": [
    {
     "data": {
      "text/latex": [
       "$\\displaystyle \\left[\\begin{matrix}0\\\\\\frac{d}{d t} f{\\left(t \\right)}\\\\\\frac{\\left(\\operatorname{re}{\\left(f{\\left(t \\right)}\\right)} \\frac{d}{d t} \\operatorname{re}{\\left(f{\\left(t \\right)}\\right)} + \\operatorname{im}{\\left(f{\\left(t \\right)}\\right)} \\frac{d}{d t} \\operatorname{im}{\\left(f{\\left(t \\right)}\\right)}\\right) \\operatorname{sign}{\\left(f{\\left(t \\right)} \\right)}}{\\sqrt{b} f{\\left(t \\right)}}\\\\0\\\\\\omega t \\cos{\\left(\\omega f{\\left(t \\right)} \\right)} \\frac{d}{d t} f{\\left(t \\right)} + \\sin{\\left(\\omega f{\\left(t \\right)} \\right)} + \\frac{\\frac{d}{d t} f{\\left(t \\right)}}{\\sqrt{t}} - \\frac{f{\\left(t \\right)}}{2 t^{\\frac{3}{2}}}\\end{matrix}\\right]$"
      ],
      "text/plain": [
       "⎡                            0                             ⎤\n",
       "⎢                                                          ⎥\n",
       "⎢                         d                                ⎥\n",
       "⎢                         ──(f(t))                         ⎥\n",
       "⎢                         dt                               ⎥\n",
       "⎢                                                          ⎥\n",
       "⎢⎛         d                       d           ⎞           ⎥\n",
       "⎢⎜re(f(t))⋅──(re(f(t))) + im(f(t))⋅──(im(f(t)))⎟⋅sign(f(t))⎥\n",
       "⎢⎝         dt                      dt          ⎠           ⎥\n",
       "⎢──────────────────────────────────────────────────────────⎥\n",
       "⎢                         √b⋅f(t)                          ⎥\n",
       "⎢                                                          ⎥\n",
       "⎢                            0                             ⎥\n",
       "⎢                                                          ⎥\n",
       "⎢                                         d                ⎥\n",
       "⎢                                         ──(f(t))         ⎥\n",
       "⎢                d                        dt          f(t) ⎥\n",
       "⎢ω⋅t⋅cos(ω⋅f(t))⋅──(f(t)) + sin(ω⋅f(t)) + ──────── - ──────⎥\n",
       "⎢                dt                          √t         3/2⎥\n",
       "⎣                                                    2⋅t   ⎦"
      ]
     },
     "execution_count": 70,
     "metadata": {},
     "output_type": "execute_result"
    }
   ],
   "source": [
    "mat3.diff(t)"
   ]
  },
  {
   "cell_type": "code",
   "execution_count": 71,
   "id": "7a21cc17",
   "metadata": {
    "execution": {
     "iopub.execute_input": "2024-02-20T15:57:15.200091Z",
     "iopub.status.busy": "2024-02-20T15:57:15.199909Z",
     "iopub.status.idle": "2024-02-20T15:57:15.204242Z",
     "shell.execute_reply": "2024-02-20T15:57:15.203787Z"
    }
   },
   "outputs": [
    {
     "data": {
      "text/latex": [
       "$\\displaystyle \\left[\\begin{matrix}a\\\\b\\\\\\omega\\\\t\\end{matrix}\\right]$"
      ],
      "text/plain": [
       "⎡a⎤\n",
       "⎢ ⎥\n",
       "⎢b⎥\n",
       "⎢ ⎥\n",
       "⎢ω⎥\n",
       "⎢ ⎥\n",
       "⎣t⎦"
      ]
     },
     "execution_count": 71,
     "metadata": {},
     "output_type": "execute_result"
    }
   ],
   "source": [
    "mat4 = sm.Matrix([a, b, omega, t])\n",
    "mat4"
   ]
  },
  {
   "cell_type": "code",
   "execution_count": 72,
   "id": "89d44674",
   "metadata": {
    "execution": {
     "iopub.execute_input": "2024-02-20T15:57:15.206150Z",
     "iopub.status.busy": "2024-02-20T15:57:15.205969Z",
     "iopub.status.idle": "2024-02-20T15:57:15.225210Z",
     "shell.execute_reply": "2024-02-20T15:57:15.224741Z"
    }
   },
   "outputs": [
    {
     "data": {
      "text/latex": [
       "$\\displaystyle \\left[\\begin{matrix}1 & \\frac{1}{\\omega^{2}} & - \\frac{2 b}{\\omega^{3}} & 0\\\\\\omega & 0 & a & \\frac{d}{d t} f{\\left(t \\right)}\\\\\\sin{\\left(\\omega \\right)} & - \\frac{\\left|{f{\\left(t \\right)}}\\right|}{2 b^{\\frac{3}{2}}} & a \\cos{\\left(\\omega \\right)} & \\frac{\\left(\\operatorname{re}{\\left(f{\\left(t \\right)}\\right)} \\frac{d}{d t} \\operatorname{re}{\\left(f{\\left(t \\right)}\\right)} + \\operatorname{im}{\\left(f{\\left(t \\right)}\\right)} \\frac{d}{d t} \\operatorname{im}{\\left(f{\\left(t \\right)}\\right)}\\right) \\operatorname{sign}{\\left(f{\\left(t \\right)} \\right)}}{\\sqrt{b} f{\\left(t \\right)}}\\\\0 & 0 & 0 & 0\\\\0 & 0 & t f{\\left(t \\right)} \\cos{\\left(\\omega f{\\left(t \\right)} \\right)} & \\omega t \\cos{\\left(\\omega f{\\left(t \\right)} \\right)} \\frac{d}{d t} f{\\left(t \\right)} + \\sin{\\left(\\omega f{\\left(t \\right)} \\right)} + \\frac{\\frac{d}{d t} f{\\left(t \\right)}}{\\sqrt{t}} - \\frac{f{\\left(t \\right)}}{2 t^{\\frac{3}{2}}}\\end{matrix}\\right]$"
      ],
      "text/plain": [
       "⎡           1            -2⋅b                                                 \n",
       "⎢  1        ──           ─────                                     0          \n",
       "⎢            2              3                                                 \n",
       "⎢           ω              ω                                                  \n",
       "⎢                                                                             \n",
       "⎢                                                               d             \n",
       "⎢  ω        0              a                                    ──(f(t))      \n",
       "⎢                                                               dt            \n",
       "⎢                                                                             \n",
       "⎢                                      ⎛         d                       d    \n",
       "⎢                                      ⎜re(f(t))⋅──(re(f(t))) + im(f(t))⋅──(im\n",
       "⎢        -│f(t)│                       ⎝         dt                      dt   \n",
       "⎢sin(ω)  ────────       a⋅cos(ω)       ───────────────────────────────────────\n",
       "⎢            3/2                                                √b⋅f(t)       \n",
       "⎢         2⋅b                                                                 \n",
       "⎢                                                                             \n",
       "⎢  0        0              0                                       0          \n",
       "⎢                                                                             \n",
       "⎢                                                                             \n",
       "⎢                                                                             \n",
       "⎢                                                      d                      \n",
       "⎢  0        0      t⋅f(t)⋅cos(ω⋅f(t))  ω⋅t⋅cos(ω⋅f(t))⋅──(f(t)) + sin(ω⋅f(t)) \n",
       "⎢                                                      dt                     \n",
       "⎣                                                                             \n",
       "\n",
       "                   ⎤\n",
       "                   ⎥\n",
       "                   ⎥\n",
       "                   ⎥\n",
       "                   ⎥\n",
       "                   ⎥\n",
       "                   ⎥\n",
       "                   ⎥\n",
       "                   ⎥\n",
       "       ⎞           ⎥\n",
       "(f(t)))⎟⋅sign(f(t))⎥\n",
       "       ⎠           ⎥\n",
       "───────────────────⎥\n",
       "                   ⎥\n",
       "                   ⎥\n",
       "                   ⎥\n",
       "                   ⎥\n",
       "                   ⎥\n",
       "  d                ⎥\n",
       "  ──(f(t))         ⎥\n",
       "  dt          f(t) ⎥\n",
       "+ ──────── - ──────⎥\n",
       "     √t         3/2⎥\n",
       "             2⋅t   ⎦"
      ]
     },
     "execution_count": 72,
     "metadata": {},
     "output_type": "execute_result"
    }
   ],
   "source": [
    "mat3.jacobian(mat4)"
   ]
  },
  {
   "cell_type": "code",
   "execution_count": 73,
   "id": "cdc4c6cd",
   "metadata": {
    "execution": {
     "iopub.execute_input": "2024-02-20T15:57:15.227055Z",
     "iopub.status.busy": "2024-02-20T15:57:15.226881Z",
     "iopub.status.idle": "2024-02-20T15:57:15.242141Z",
     "shell.execute_reply": "2024-02-20T15:57:15.241636Z"
    }
   },
   "outputs": [
    {
     "data": {
      "text/latex": [
       "$\\displaystyle \\left[\\begin{matrix}1 & \\frac{1}{\\omega^{2}} & - \\frac{2 b}{\\omega^{3}} & 0\\\\\\omega & 0 & a & \\frac{d}{d t} f{\\left(t \\right)}\\\\\\sin{\\left(\\omega \\right)} & - \\frac{\\left|{f{\\left(t \\right)}}\\right|}{2 b^{\\frac{3}{2}}} & a \\cos{\\left(\\omega \\right)} & \\frac{\\left(\\operatorname{re}{\\left(f{\\left(t \\right)}\\right)} \\frac{d}{d t} \\operatorname{re}{\\left(f{\\left(t \\right)}\\right)} + \\operatorname{im}{\\left(f{\\left(t \\right)}\\right)} \\frac{d}{d t} \\operatorname{im}{\\left(f{\\left(t \\right)}\\right)}\\right) \\operatorname{sign}{\\left(f{\\left(t \\right)} \\right)}}{\\sqrt{b} f{\\left(t \\right)}}\\\\0 & 0 & 0 & 0\\\\0 & 0 & t f{\\left(t \\right)} \\cos{\\left(\\omega f{\\left(t \\right)} \\right)} & \\omega t \\cos{\\left(\\omega f{\\left(t \\right)} \\right)} \\frac{d}{d t} f{\\left(t \\right)} + \\sin{\\left(\\omega f{\\left(t \\right)} \\right)} + \\frac{\\frac{d}{d t} f{\\left(t \\right)}}{\\sqrt{t}} - \\frac{f{\\left(t \\right)}}{2 t^{\\frac{3}{2}}}\\end{matrix}\\right]$"
      ],
      "text/plain": [
       "⎡           1            -2⋅b                                                 \n",
       "⎢  1        ──           ─────                                     0          \n",
       "⎢            2              3                                                 \n",
       "⎢           ω              ω                                                  \n",
       "⎢                                                                             \n",
       "⎢                                                               d             \n",
       "⎢  ω        0              a                                    ──(f(t))      \n",
       "⎢                                                               dt            \n",
       "⎢                                                                             \n",
       "⎢                                      ⎛         d                       d    \n",
       "⎢                                      ⎜re(f(t))⋅──(re(f(t))) + im(f(t))⋅──(im\n",
       "⎢        -│f(t)│                       ⎝         dt                      dt   \n",
       "⎢sin(ω)  ────────       a⋅cos(ω)       ───────────────────────────────────────\n",
       "⎢            3/2                                                √b⋅f(t)       \n",
       "⎢         2⋅b                                                                 \n",
       "⎢                                                                             \n",
       "⎢  0        0              0                                       0          \n",
       "⎢                                                                             \n",
       "⎢                                                                             \n",
       "⎢                                                                             \n",
       "⎢                                                      d                      \n",
       "⎢  0        0      t⋅f(t)⋅cos(ω⋅f(t))  ω⋅t⋅cos(ω⋅f(t))⋅──(f(t)) + sin(ω⋅f(t)) \n",
       "⎢                                                      dt                     \n",
       "⎣                                                                             \n",
       "\n",
       "                   ⎤\n",
       "                   ⎥\n",
       "                   ⎥\n",
       "                   ⎥\n",
       "                   ⎥\n",
       "                   ⎥\n",
       "                   ⎥\n",
       "                   ⎥\n",
       "                   ⎥\n",
       "       ⎞           ⎥\n",
       "(f(t)))⎟⋅sign(f(t))⎥\n",
       "       ⎠           ⎥\n",
       "───────────────────⎥\n",
       "                   ⎥\n",
       "                   ⎥\n",
       "                   ⎥\n",
       "                   ⎥\n",
       "                   ⎥\n",
       "  d                ⎥\n",
       "  ──(f(t))         ⎥\n",
       "  dt          f(t) ⎥\n",
       "+ ──────── - ──────⎥\n",
       "     √t         3/2⎥\n",
       "             2⋅t   ⎦"
      ]
     },
     "execution_count": 73,
     "metadata": {},
     "output_type": "execute_result"
    }
   ],
   "source": [
    "def jacobian(v, x):\n",
    "    \"\"\"Returns the Jacobian of the vector function v with respect to the\n",
    "    vector of variables x.\"\"\"\n",
    "    diffs = []\n",
    "    for expr in v:\n",
    "      for var in x:\n",
    "         diffs.append(expr.diff(var))\n",
    "    J_v_x = sm.Matrix(diffs).reshape(len(v), len(x))\n",
    "    return J_v_x\n",
    "\n",
    "jacobian(mat3, mat4)"
   ]
  },
  {
   "cell_type": "code",
   "execution_count": 74,
   "id": "8342dab8",
   "metadata": {
    "execution": {
     "iopub.execute_input": "2024-02-20T15:57:15.243981Z",
     "iopub.status.busy": "2024-02-20T15:57:15.243807Z",
     "iopub.status.idle": "2024-02-20T15:57:15.260105Z",
     "shell.execute_reply": "2024-02-20T15:57:15.259644Z"
    }
   },
   "outputs": [
    {
     "data": {
      "text/latex": [
       "$\\displaystyle \\left[\\begin{matrix}a_{1} \\sin{\\left(f{\\left(t \\right)} \\right)} \\cos{\\left(2 f{\\left(t \\right)} \\right)} + a_{2} + \\frac{\\omega \\log{\\left(t \\right)}}{\\log{\\left(f{\\left(t \\right)} \\right)}} + 100\\\\a_{1} \\omega^{2} + a_{2} f{\\left(t \\right)} + \\omega + f^{3}{\\left(t \\right)}\\end{matrix}\\right]$"
      ],
      "text/plain": [
       "⎡                                 ω⋅log(t)      ⎤\n",
       "⎢a₁⋅sin(f(t))⋅cos(2⋅f(t)) + a₂ + ───────── + 100⎥\n",
       "⎢                                log(f(t))      ⎥\n",
       "⎢                                               ⎥\n",
       "⎢              2                  3             ⎥\n",
       "⎣          a₁⋅ω  + a₂⋅f(t) + ω + f (t)          ⎦"
      ]
     },
     "execution_count": 74,
     "metadata": {},
     "output_type": "execute_result"
    }
   ],
   "source": [
    "a1, a2 = sm.symbols('a1, a2')\n",
    "\n",
    "exprs = sm.Matrix([\n",
    "    [a1*sm.sin(f(t))*sm.cos(2*f(t)) + a2 + omega/sm.log(f(t), t) + 100],\n",
    "    [a1*omega**2 + f(t)*a2 + omega + f(t)**3],\n",
    "])\n",
    "exprs"
   ]
  },
  {
   "cell_type": "code",
   "execution_count": 75,
   "id": "cbd5bc2e",
   "metadata": {
    "execution": {
     "iopub.execute_input": "2024-02-20T15:57:15.261962Z",
     "iopub.status.busy": "2024-02-20T15:57:15.261784Z",
     "iopub.status.idle": "2024-02-20T15:57:15.270419Z",
     "shell.execute_reply": "2024-02-20T15:57:15.269963Z"
    }
   },
   "outputs": [
    {
     "data": {
      "text/latex": [
       "$\\displaystyle \\left[\\begin{matrix}\\sin{\\left(f{\\left(t \\right)} \\right)} \\cos{\\left(2 f{\\left(t \\right)} \\right)} & 1\\\\\\omega^{2} & f{\\left(t \\right)}\\end{matrix}\\right]$"
      ],
      "text/plain": [
       "⎡sin(f(t))⋅cos(2⋅f(t))   1  ⎤\n",
       "⎢                           ⎥\n",
       "⎢          2                ⎥\n",
       "⎣         ω             f(t)⎦"
      ]
     },
     "execution_count": 75,
     "metadata": {},
     "output_type": "execute_result"
    }
   ],
   "source": [
    "A = exprs.jacobian([a1, a2])\n",
    "A"
   ]
  },
  {
   "cell_type": "code",
   "execution_count": 76,
   "id": "7a118589",
   "metadata": {
    "execution": {
     "iopub.execute_input": "2024-02-20T15:57:15.272219Z",
     "iopub.status.busy": "2024-02-20T15:57:15.272047Z",
     "iopub.status.idle": "2024-02-20T15:57:15.278300Z",
     "shell.execute_reply": "2024-02-20T15:57:15.277794Z"
    }
   },
   "outputs": [
    {
     "data": {
      "text/latex": [
       "$\\displaystyle \\left[\\begin{matrix}- \\frac{\\omega \\log{\\left(t \\right)}}{\\log{\\left(f{\\left(t \\right)} \\right)}} - 100\\\\- \\omega - f^{3}{\\left(t \\right)}\\end{matrix}\\right]$"
      ],
      "text/plain": [
       "⎡   ω⋅log(t)      ⎤\n",
       "⎢- ───────── - 100⎥\n",
       "⎢  log(f(t))      ⎥\n",
       "⎢                 ⎥\n",
       "⎢         3       ⎥\n",
       "⎣   -ω - f (t)    ⎦"
      ]
     },
     "execution_count": 76,
     "metadata": {},
     "output_type": "execute_result"
    }
   ],
   "source": [
    "b = -exprs.xreplace({a1: 0, a2: 0})\n",
    "b"
   ]
  },
  {
   "cell_type": "code",
   "execution_count": 77,
   "id": "7ed86db0",
   "metadata": {
    "execution": {
     "iopub.execute_input": "2024-02-20T15:57:15.280084Z",
     "iopub.status.busy": "2024-02-20T15:57:15.279906Z",
     "iopub.status.idle": "2024-02-20T15:57:15.826341Z",
     "shell.execute_reply": "2024-02-20T15:57:15.825790Z"
    }
   },
   "outputs": [
    {
     "data": {
      "text/latex": [
       "$\\displaystyle \\left[\\begin{matrix}- \\frac{- \\omega - f^{3}{\\left(t \\right)}}{- \\omega^{2} + f{\\left(t \\right)} \\sin{\\left(f{\\left(t \\right)} \\right)} \\cos{\\left(2 f{\\left(t \\right)} \\right)}} + \\frac{\\left(- \\frac{\\omega \\log{\\left(t \\right)}}{\\log{\\left(f{\\left(t \\right)} \\right)}} - 100\\right) f{\\left(t \\right)}}{- \\omega^{2} + f{\\left(t \\right)} \\sin{\\left(f{\\left(t \\right)} \\right)} \\cos{\\left(2 f{\\left(t \\right)} \\right)}}\\\\- \\frac{\\omega^{2} \\left(- \\frac{\\omega \\log{\\left(t \\right)}}{\\log{\\left(f{\\left(t \\right)} \\right)}} - 100\\right)}{- \\omega^{2} + f{\\left(t \\right)} \\sin{\\left(f{\\left(t \\right)} \\right)} \\cos{\\left(2 f{\\left(t \\right)} \\right)}} + \\frac{\\left(- \\omega - f^{3}{\\left(t \\right)}\\right) \\sin{\\left(f{\\left(t \\right)} \\right)} \\cos{\\left(2 f{\\left(t \\right)} \\right)}}{- \\omega^{2} + f{\\left(t \\right)} \\sin{\\left(f{\\left(t \\right)} \\right)} \\cos{\\left(2 f{\\left(t \\right)} \\right)}}\\end{matrix}\\right]$"
      ],
      "text/plain": [
       "⎡                                           ⎛   ω⋅log(t)      ⎞          ⎤\n",
       "⎢                    3                      ⎜- ───────── - 100⎟⋅f(t)     ⎥\n",
       "⎢              -ω - f (t)                   ⎝  log(f(t))      ⎠          ⎥\n",
       "⎢- ───────────────────────────────── + ───────────────────────────────── ⎥\n",
       "⎢     2                                   2                              ⎥\n",
       "⎢  - ω  + f(t)⋅sin(f(t))⋅cos(2⋅f(t))   - ω  + f(t)⋅sin(f(t))⋅cos(2⋅f(t)) ⎥\n",
       "⎢                                                                        ⎥\n",
       "⎢         2 ⎛   ω⋅log(t)      ⎞                                          ⎥\n",
       "⎢        ω ⋅⎜- ───────── - 100⎟        ⎛      3   ⎞                      ⎥\n",
       "⎢           ⎝  log(f(t))      ⎠        ⎝-ω - f (t)⎠⋅sin(f(t))⋅cos(2⋅f(t))⎥\n",
       "⎢- ───────────────────────────────── + ──────────────────────────────────⎥\n",
       "⎢     2                                   2                              ⎥\n",
       "⎣  - ω  + f(t)⋅sin(f(t))⋅cos(2⋅f(t))   - ω  + f(t)⋅sin(f(t))⋅cos(2⋅f(t)) ⎦"
      ]
     },
     "execution_count": 77,
     "metadata": {},
     "output_type": "execute_result"
    }
   ],
   "source": [
    "A.inv() @ b"
   ]
  },
  {
   "cell_type": "code",
   "execution_count": 78,
   "id": "afb17b0a",
   "metadata": {
    "execution": {
     "iopub.execute_input": "2024-02-20T15:57:15.828487Z",
     "iopub.status.busy": "2024-02-20T15:57:15.828259Z",
     "iopub.status.idle": "2024-02-20T15:57:15.853425Z",
     "shell.execute_reply": "2024-02-20T15:57:15.852928Z"
    }
   },
   "outputs": [
    {
     "data": {
      "text/latex": [
       "$\\displaystyle \\left[\\begin{matrix}\\frac{- \\frac{\\omega \\log{\\left(t \\right)}}{\\log{\\left(f{\\left(t \\right)} \\right)}} - 100 - \\frac{- \\frac{\\omega^{2} \\left(- \\frac{\\omega \\log{\\left(t \\right)}}{\\log{\\left(f{\\left(t \\right)} \\right)}} - 100\\right)}{\\sin{\\left(f{\\left(t \\right)} \\right)} \\cos{\\left(2 f{\\left(t \\right)} \\right)}} - \\omega - f^{3}{\\left(t \\right)}}{- \\frac{\\omega^{2}}{\\sin{\\left(f{\\left(t \\right)} \\right)} \\cos{\\left(2 f{\\left(t \\right)} \\right)}} + f{\\left(t \\right)}}}{\\sin{\\left(f{\\left(t \\right)} \\right)} \\cos{\\left(2 f{\\left(t \\right)} \\right)}}\\\\\\frac{- \\frac{\\omega^{2} \\left(- \\frac{\\omega \\log{\\left(t \\right)}}{\\log{\\left(f{\\left(t \\right)} \\right)}} - 100\\right)}{\\sin{\\left(f{\\left(t \\right)} \\right)} \\cos{\\left(2 f{\\left(t \\right)} \\right)}} - \\omega - f^{3}{\\left(t \\right)}}{- \\frac{\\omega^{2}}{\\sin{\\left(f{\\left(t \\right)} \\right)} \\cos{\\left(2 f{\\left(t \\right)} \\right)}} + f{\\left(t \\right)}}\\end{matrix}\\right]$"
      ],
      "text/plain": [
       "⎡                       2 ⎛   ω⋅log(t)      ⎞            ⎤\n",
       "⎢                      ω ⋅⎜- ───────── - 100⎟            ⎥\n",
       "⎢                         ⎝  log(f(t))      ⎠        3   ⎥\n",
       "⎢                    - ────────────────────── - ω - f (t)⎥\n",
       "⎢   ω⋅log(t)           sin(f(t))⋅cos(2⋅f(t))             ⎥\n",
       "⎢- ───────── - 100 - ────────────────────────────────────⎥\n",
       "⎢  log(f(t))                         2                   ⎥\n",
       "⎢                                   ω                    ⎥\n",
       "⎢                       - ───────────────────── + f(t)   ⎥\n",
       "⎢                         sin(f(t))⋅cos(2⋅f(t))          ⎥\n",
       "⎢────────────────────────────────────────────────────────⎥\n",
       "⎢                 sin(f(t))⋅cos(2⋅f(t))                  ⎥\n",
       "⎢                                                        ⎥\n",
       "⎢             2 ⎛   ω⋅log(t)      ⎞                      ⎥\n",
       "⎢            ω ⋅⎜- ───────── - 100⎟                      ⎥\n",
       "⎢               ⎝  log(f(t))      ⎠        3             ⎥\n",
       "⎢          - ────────────────────── - ω - f (t)          ⎥\n",
       "⎢            sin(f(t))⋅cos(2⋅f(t))                       ⎥\n",
       "⎢          ────────────────────────────────────          ⎥\n",
       "⎢                          2                             ⎥\n",
       "⎢                         ω                              ⎥\n",
       "⎢             - ───────────────────── + f(t)             ⎥\n",
       "⎣               sin(f(t))⋅cos(2⋅f(t))                    ⎦"
      ]
     },
     "execution_count": 78,
     "metadata": {},
     "output_type": "execute_result"
    }
   ],
   "source": [
    "A.LUsolve(b)"
   ]
  },
  {
   "cell_type": "code",
   "execution_count": 79,
   "id": "59afe775",
   "metadata": {
    "execution": {
     "iopub.execute_input": "2024-02-20T15:57:15.855375Z",
     "iopub.status.busy": "2024-02-20T15:57:15.855087Z",
     "iopub.status.idle": "2024-02-20T15:57:15.866382Z",
     "shell.execute_reply": "2024-02-20T15:57:15.865916Z"
    }
   },
   "outputs": [
    {
     "data": {
      "text/latex": [
       "$\\displaystyle \\left[\\begin{matrix}- L_{1} + L_{2} - \\frac{\\sqrt{2} L_{3}}{2}\\\\- F_{1} + \\frac{\\sqrt{2} L_{3}}{2} + L_{4}\\\\- L_{2} - \\frac{\\sqrt{2} L_{5}}{2}\\\\- F_{2} + \\frac{\\sqrt{2} L_{5}}{2}\\\\\\frac{\\sqrt{2} L_{5}}{2} + L_{6}\\\\- L_{4} - \\frac{\\sqrt{2} L_{5}}{2}\\end{matrix}\\right]$"
      ],
      "text/plain": [
       "⎡           √2⋅L₃⎤\n",
       "⎢-L₁ + L₂ - ─────⎥\n",
       "⎢             2  ⎥\n",
       "⎢                ⎥\n",
       "⎢      √2⋅L₃     ⎥\n",
       "⎢-F₁ + ───── + L₄⎥\n",
       "⎢        2       ⎥\n",
       "⎢                ⎥\n",
       "⎢        √2⋅L₅   ⎥\n",
       "⎢  -L₂ - ─────   ⎥\n",
       "⎢          2     ⎥\n",
       "⎢                ⎥\n",
       "⎢        √2⋅L₅   ⎥\n",
       "⎢  -F₂ + ─────   ⎥\n",
       "⎢          2     ⎥\n",
       "⎢                ⎥\n",
       "⎢   √2⋅L₅        ⎥\n",
       "⎢   ───── + L₆   ⎥\n",
       "⎢     2          ⎥\n",
       "⎢                ⎥\n",
       "⎢        √2⋅L₅   ⎥\n",
       "⎢  -L₄ - ─────   ⎥\n",
       "⎣          2     ⎦"
      ]
     },
     "execution_count": 79,
     "metadata": {},
     "output_type": "execute_result"
    }
   ],
   "source": [
    "L1, L2, L3, L4, L5, L6, F1, F2 = sm.symbols('L1, L2, L3, L4, L5, L6, F1, F2')\n",
    "\n",
    "exprs = sm.Matrix([\n",
    "    -L1 + L2 - L3/sm.sqrt(2),\n",
    "    L3/sm.sqrt(2) + L4 - F1,\n",
    "    -L2 - L5/sm.sqrt(2),\n",
    "    L5/sm.sqrt(2) - F2,\n",
    "    L5/sm.sqrt(2) + L6,\n",
    "    -L4 -L5/sm.sqrt(2),\n",
    "])\n",
    "exprs"
   ]
  },
  {
   "cell_type": "code",
   "execution_count": 80,
   "id": "2e6a51eb",
   "metadata": {
    "execution": {
     "iopub.execute_input": "2024-02-20T15:57:15.868209Z",
     "iopub.status.busy": "2024-02-20T15:57:15.868032Z",
     "iopub.status.idle": "2024-02-20T15:57:15.900369Z",
     "shell.execute_reply": "2024-02-20T15:57:15.899888Z"
    }
   },
   "outputs": [
    {
     "data": {
      "text/latex": [
       "$\\displaystyle \\left[\\begin{matrix}L_{1}\\\\L_{2}\\\\L_{3}\\\\L_{4}\\\\L_{5}\\\\L_{6}\\end{matrix}\\right] = \\left[\\begin{matrix}F_{1} + 2 F_{2}\\\\F_{2}\\\\\\sqrt{2} \\left(- F_{1} - F_{2}\\right)\\\\F_{2}\\\\- \\sqrt{2} F_{2}\\\\F_{2}\\end{matrix}\\right]$"
      ],
      "text/plain": [
       "⎡L₁⎤   ⎡  F₁ + 2⋅F₂  ⎤\n",
       "⎢  ⎥   ⎢             ⎥\n",
       "⎢L₂⎥   ⎢     F₂      ⎥\n",
       "⎢  ⎥   ⎢             ⎥\n",
       "⎢L₃⎥   ⎢√2⋅(-F₁ - F₂)⎥\n",
       "⎢  ⎥ = ⎢             ⎥\n",
       "⎢L₄⎥   ⎢     F₂      ⎥\n",
       "⎢  ⎥   ⎢             ⎥\n",
       "⎢L₅⎥   ⎢   -√2⋅F₂    ⎥\n",
       "⎢  ⎥   ⎢             ⎥\n",
       "⎣L₆⎦   ⎣     F₂      ⎦"
      ]
     },
     "execution_count": 80,
     "metadata": {},
     "output_type": "execute_result"
    }
   ],
   "source": [
    "unknowns = sm.Matrix([L1, L2, L3, L4, L5, L6])\n",
    "\n",
    "coef_mat = exprs.jacobian(unknowns)\n",
    "rhs = exprs.xreplace(dict(zip(unknowns, [0]*6)))\n",
    "\n",
    "sol = coef_mat.LUsolve(rhs)\n",
    "\n",
    "sm.Eq(unknowns, sol)"
   ]
  },
  {
   "cell_type": "code",
   "execution_count": 81,
   "id": "c381d6a4",
   "metadata": {
    "execution": {
     "iopub.execute_input": "2024-02-20T15:57:15.902194Z",
     "iopub.status.busy": "2024-02-20T15:57:15.902012Z",
     "iopub.status.idle": "2024-02-20T15:57:15.907853Z",
     "shell.execute_reply": "2024-02-20T15:57:15.907399Z"
    }
   },
   "outputs": [
    {
     "data": {
      "text/plain": [
       "array([[ 77.        ],\n",
       "       [ 32.        ],\n",
       "       [-63.63961031],\n",
       "       [ 32.        ],\n",
       "       [-45.254834  ],\n",
       "       [ 32.        ]])"
      ]
     },
     "execution_count": 81,
     "metadata": {},
     "output_type": "execute_result"
    }
   ],
   "source": [
    "eval_sol = sm.lambdify((F1, F2), sol)\n",
    "eval_sol(13, 32)"
   ]
  },
  {
   "cell_type": "code",
   "execution_count": 82,
   "id": "ef298eaf",
   "metadata": {
    "execution": {
     "iopub.execute_input": "2024-02-20T15:57:15.910037Z",
     "iopub.status.busy": "2024-02-20T15:57:15.909598Z",
     "iopub.status.idle": "2024-02-20T15:57:15.915966Z",
     "shell.execute_reply": "2024-02-20T15:57:15.915407Z"
    }
   },
   "outputs": [],
   "source": [
    "a1, a2 = sm.symbols('a1, a2')\n",
    "exprs = sm.Matrix([\n",
    "    [a1*sm.sin(f(t))*sm.cos(2*f(t)) + a2 + omega/sm.log(f(t), t) + 100],\n",
    "    [a1*omega**2 + f(t)*a2 + omega + f(t)**3],\n",
    "])\n",
    "A = exprs.jacobian([a1, a2])\n",
    "b = -exprs.xreplace({a1: 0, a2: 0})\n",
    "sol = A.LUsolve(b)"
   ]
  },
  {
   "cell_type": "code",
   "execution_count": 83,
   "id": "a15ff6e8",
   "metadata": {
    "execution": {
     "iopub.execute_input": "2024-02-20T15:57:15.917977Z",
     "iopub.status.busy": "2024-02-20T15:57:15.917637Z",
     "iopub.status.idle": "2024-02-20T15:57:16.589720Z",
     "shell.execute_reply": "2024-02-20T15:57:16.589186Z"
    }
   },
   "outputs": [
    {
     "data": {
      "text/latex": [
       "$\\displaystyle \\left[\\begin{matrix}\\frac{- \\omega f{\\left(t \\right)} \\log{\\left(t \\right)} + \\omega \\log{\\left(f{\\left(t \\right)} \\right)} + f^{3}{\\left(t \\right)} \\log{\\left(f{\\left(t \\right)} \\right)} - 100 f{\\left(t \\right)} \\log{\\left(f{\\left(t \\right)} \\right)}}{\\left(- \\omega^{2} + f{\\left(t \\right)} \\sin{\\left(f{\\left(t \\right)} \\right)} \\cos{\\left(2 f{\\left(t \\right)} \\right)}\\right) \\log{\\left(f{\\left(t \\right)} \\right)}}\\\\\\frac{- \\omega^{2} \\left(\\omega \\log{\\left(t \\right)} + 100 \\log{\\left(f{\\left(t \\right)} \\right)}\\right) + \\left(\\omega + f^{3}{\\left(t \\right)}\\right) \\log{\\left(f{\\left(t \\right)} \\right)} \\sin{\\left(f{\\left(t \\right)} \\right)} \\cos{\\left(2 f{\\left(t \\right)} \\right)}}{\\left(\\omega^{2} - f{\\left(t \\right)} \\sin{\\left(f{\\left(t \\right)} \\right)} \\cos{\\left(2 f{\\left(t \\right)} \\right)}\\right) \\log{\\left(f{\\left(t \\right)} \\right)}}\\end{matrix}\\right]$"
      ],
      "text/plain": [
       "⎡                                     3                                       \n",
       "⎢     -ω⋅f(t)⋅log(t) + ω⋅log(f(t)) + f (t)⋅log(f(t)) - 100⋅f(t)⋅log(f(t))     \n",
       "⎢     ───────────────────────────────────────────────────────────────────     \n",
       "⎢                ⎛   2                             ⎞                          \n",
       "⎢                ⎝- ω  + f(t)⋅sin(f(t))⋅cos(2⋅f(t))⎠⋅log(f(t))                \n",
       "⎢                                                                             \n",
       "⎢   2                              ⎛     3   ⎞                                \n",
       "⎢- ω ⋅(ω⋅log(t) + 100⋅log(f(t))) + ⎝ω + f (t)⎠⋅log(f(t))⋅sin(f(t))⋅cos(2⋅f(t))\n",
       "⎢─────────────────────────────────────────────────────────────────────────────\n",
       "⎢                 ⎛ 2                             ⎞                           \n",
       "⎣                 ⎝ω  - f(t)⋅sin(f(t))⋅cos(2⋅f(t))⎠⋅log(f(t))                 \n",
       "\n",
       "⎤\n",
       "⎥\n",
       "⎥\n",
       "⎥\n",
       "⎥\n",
       "⎥\n",
       "⎥\n",
       "⎥\n",
       "⎥\n",
       "⎥\n",
       "⎦"
      ]
     },
     "execution_count": 83,
     "metadata": {},
     "output_type": "execute_result"
    }
   ],
   "source": [
    "sm.simplify(sol)"
   ]
  },
  {
   "cell_type": "code",
   "execution_count": 84,
   "id": "084ceb12",
   "metadata": {
    "execution": {
     "iopub.execute_input": "2024-02-20T15:57:16.591680Z",
     "iopub.status.busy": "2024-02-20T15:57:16.591503Z",
     "iopub.status.idle": "2024-02-20T15:57:16.596363Z",
     "shell.execute_reply": "2024-02-20T15:57:16.595873Z"
    }
   },
   "outputs": [
    {
     "data": {
      "text/latex": [
       "$\\displaystyle \\sin^{2}{\\left(\\omega \\right)} + \\cos^{2}{\\left(\\omega \\right)}$"
      ],
      "text/plain": [
       "   2         2   \n",
       "sin (ω) + cos (ω)"
      ]
     },
     "execution_count": 84,
     "metadata": {},
     "output_type": "execute_result"
    }
   ],
   "source": [
    "trig_expr = sm.cos(omega)**2 + sm.sin(omega)**2\n",
    "trig_expr"
   ]
  },
  {
   "cell_type": "code",
   "execution_count": 85,
   "id": "3d3107ba",
   "metadata": {
    "execution": {
     "iopub.execute_input": "2024-02-20T15:57:16.598626Z",
     "iopub.status.busy": "2024-02-20T15:57:16.598271Z",
     "iopub.status.idle": "2024-02-20T15:57:16.623077Z",
     "shell.execute_reply": "2024-02-20T15:57:16.622487Z"
    }
   },
   "outputs": [
    {
     "data": {
      "text/latex": [
       "$\\displaystyle 1$"
      ],
      "text/plain": [
       "1"
      ]
     },
     "execution_count": 85,
     "metadata": {},
     "output_type": "execute_result"
    }
   ],
   "source": [
    "sm.trigsimp(trig_expr)"
   ]
  },
  {
   "cell_type": "code",
   "execution_count": 86,
   "id": "93144289",
   "metadata": {
    "execution": {
     "iopub.execute_input": "2024-02-20T15:57:16.625462Z",
     "iopub.status.busy": "2024-02-20T15:57:16.625082Z",
     "iopub.status.idle": "2024-02-20T15:57:16.630548Z",
     "shell.execute_reply": "2024-02-20T15:57:16.630083Z"
    }
   },
   "outputs": [
    {
     "data": {
      "text/latex": [
       "$\\displaystyle 79$"
      ],
      "text/plain": [
       "79"
      ]
     },
     "execution_count": 86,
     "metadata": {},
     "output_type": "execute_result"
    }
   ],
   "source": [
    "sm.count_ops(sol)"
   ]
  },
  {
   "cell_type": "code",
   "execution_count": 87,
   "id": "bed31f41",
   "metadata": {
    "execution": {
     "iopub.execute_input": "2024-02-20T15:57:16.632692Z",
     "iopub.status.busy": "2024-02-20T15:57:16.632233Z",
     "iopub.status.idle": "2024-02-20T15:57:16.645788Z",
     "shell.execute_reply": "2024-02-20T15:57:16.645324Z"
    }
   },
   "outputs": [],
   "source": [
    "substitutions, simplified = sm.cse(sol)"
   ]
  },
  {
   "cell_type": "code",
   "execution_count": 88,
   "id": "2a631db5",
   "metadata": {
    "execution": {
     "iopub.execute_input": "2024-02-20T15:57:16.647968Z",
     "iopub.status.busy": "2024-02-20T15:57:16.647618Z",
     "iopub.status.idle": "2024-02-20T15:57:16.651699Z",
     "shell.execute_reply": "2024-02-20T15:57:16.651240Z"
    }
   },
   "outputs": [
    {
     "data": {
      "text/latex": [
       "$\\displaystyle \\left( x_{0}, \\  f{\\left(t \\right)}\\right)$"
      ],
      "text/plain": [
       "(x₀, f(t))"
      ]
     },
     "execution_count": 88,
     "metadata": {},
     "output_type": "execute_result"
    }
   ],
   "source": [
    "substitutions[0]"
   ]
  },
  {
   "cell_type": "code",
   "execution_count": 89,
   "id": "9e0dc3f0",
   "metadata": {
    "execution": {
     "iopub.execute_input": "2024-02-20T15:57:16.653813Z",
     "iopub.status.busy": "2024-02-20T15:57:16.653467Z",
     "iopub.status.idle": "2024-02-20T15:57:16.657946Z",
     "shell.execute_reply": "2024-02-20T15:57:16.657432Z"
    }
   },
   "outputs": [
    {
     "data": {
      "text/latex": [
       "$\\displaystyle x_{0} = f{\\left(t \\right)}$"
      ],
      "text/plain": [
       "x₀ = f(t)"
      ]
     },
     "execution_count": 89,
     "metadata": {},
     "output_type": "execute_result"
    }
   ],
   "source": [
    "sm.Eq(*substitutions[0])"
   ]
  },
  {
   "cell_type": "code",
   "execution_count": 90,
   "id": "30dbd051",
   "metadata": {
    "execution": {
     "iopub.execute_input": "2024-02-20T15:57:16.659933Z",
     "iopub.status.busy": "2024-02-20T15:57:16.659759Z",
     "iopub.status.idle": "2024-02-20T15:57:16.670280Z",
     "shell.execute_reply": "2024-02-20T15:57:16.669749Z"
    }
   },
   "outputs": [
    {
     "data": {
      "text/latex": [
       "$\\displaystyle x_{1} = \\frac{1}{\\sin{\\left(x_{0} \\right)} \\cos{\\left(2 x_{0} \\right)}}$"
      ],
      "text/plain": [
       "             1        \n",
       "x₁ = ─────────────────\n",
       "     sin(x₀)⋅cos(2⋅x₀)"
      ]
     },
     "execution_count": 90,
     "metadata": {},
     "output_type": "execute_result"
    }
   ],
   "source": [
    "sm.Eq(*substitutions[1])"
   ]
  },
  {
   "cell_type": "code",
   "execution_count": 91,
   "id": "54fedccb",
   "metadata": {
    "execution": {
     "iopub.execute_input": "2024-02-20T15:57:16.672372Z",
     "iopub.status.busy": "2024-02-20T15:57:16.672167Z",
     "iopub.status.idle": "2024-02-20T15:57:16.677923Z",
     "shell.execute_reply": "2024-02-20T15:57:16.677447Z"
    }
   },
   "outputs": [
    {
     "data": {
      "text/latex": [
       "$\\displaystyle x_{2} = \\omega^{2} x_{1}$"
      ],
      "text/plain": [
       "      2   \n",
       "x₂ = ω ⋅x₁"
      ]
     },
     "execution_count": 91,
     "metadata": {},
     "output_type": "execute_result"
    }
   ],
   "source": [
    "sm.Eq(*substitutions[2])"
   ]
  },
  {
   "cell_type": "code",
   "execution_count": 92,
   "id": "317f21ef",
   "metadata": {
    "execution": {
     "iopub.execute_input": "2024-02-20T15:57:16.679887Z",
     "iopub.status.busy": "2024-02-20T15:57:16.679668Z",
     "iopub.status.idle": "2024-02-20T15:57:16.689959Z",
     "shell.execute_reply": "2024-02-20T15:57:16.689497Z"
    }
   },
   "outputs": [
    {
     "data": {
      "text/latex": [
       "$\\displaystyle x_{4} = \\frac{- \\omega - x_{0}^{3} + x_{2} x_{3}}{x_{0} - x_{2}}$"
      ],
      "text/plain": [
       "            3        \n",
       "     -ω - x₀  + x₂⋅x₃\n",
       "x₄ = ────────────────\n",
       "         x₀ - x₂     "
      ]
     },
     "execution_count": 92,
     "metadata": {},
     "output_type": "execute_result"
    }
   ],
   "source": [
    "sm.Eq(*substitutions[4])"
   ]
  },
  {
   "cell_type": "code",
   "execution_count": 93,
   "id": "b9997183",
   "metadata": {
    "execution": {
     "iopub.execute_input": "2024-02-20T15:57:16.691851Z",
     "iopub.status.busy": "2024-02-20T15:57:16.691664Z",
     "iopub.status.idle": "2024-02-20T15:57:16.697173Z",
     "shell.execute_reply": "2024-02-20T15:57:16.696711Z"
    }
   },
   "outputs": [
    {
     "data": {
      "text/latex": [
       "$\\displaystyle \\left[\\begin{matrix}x_{1} \\left(- x_{3} - x_{4}\\right)\\\\x_{4}\\end{matrix}\\right]$"
      ],
      "text/plain": [
       "⎡x₁⋅(-x₃ - x₄)⎤\n",
       "⎢             ⎥\n",
       "⎣     x₄      ⎦"
      ]
     },
     "execution_count": 93,
     "metadata": {},
     "output_type": "execute_result"
    }
   ],
   "source": [
    "simplified[0]"
   ]
  },
  {
   "cell_type": "code",
   "execution_count": 94,
   "id": "57ad6e7d",
   "metadata": {
    "execution": {
     "iopub.execute_input": "2024-02-20T15:57:16.699030Z",
     "iopub.status.busy": "2024-02-20T15:57:16.698848Z",
     "iopub.status.idle": "2024-02-20T15:57:16.703608Z",
     "shell.execute_reply": "2024-02-20T15:57:16.703148Z"
    }
   },
   "outputs": [
    {
     "data": {
      "text/latex": [
       "$\\displaystyle 22$"
      ],
      "text/plain": [
       "22"
      ]
     },
     "execution_count": 94,
     "metadata": {},
     "output_type": "execute_result"
    }
   ],
   "source": [
    "num_ops = sm.count_ops(simplified[0])\n",
    "for sub in substitutions:\n",
    "    num_ops += sm.count_ops(sub[1])\n",
    "num_ops"
   ]
  },
  {
   "cell_type": "code",
   "execution_count": 95,
   "id": "be0b5229",
   "metadata": {
    "execution": {
     "iopub.execute_input": "2024-02-20T15:57:16.705452Z",
     "iopub.status.busy": "2024-02-20T15:57:16.705273Z",
     "iopub.status.idle": "2024-02-20T15:57:16.715020Z",
     "shell.execute_reply": "2024-02-20T15:57:16.714533Z"
    }
   },
   "outputs": [],
   "source": [
    "a, b, c, x, y, z = sm.symbols('a, b, c, x, y, z')\n",
    "base_expr = a*sm.sin(x*x + b*sm.cos(x*y) + c*sm.sin(x*z))"
   ]
  },
  {
   "cell_type": "code",
   "execution_count": 96,
   "id": "92acc76f",
   "metadata": {
    "execution": {
     "iopub.execute_input": "2024-02-20T15:57:16.716896Z",
     "iopub.status.busy": "2024-02-20T15:57:16.716712Z",
     "iopub.status.idle": "2024-02-20T15:57:22.961730Z",
     "shell.execute_reply": "2024-02-20T15:57:22.961151Z"
    }
   },
   "outputs": [],
   "source": [
    "long_expr = base_expr.diff(x, 10)"
   ]
  },
  {
   "cell_type": "code",
   "execution_count": 97,
   "id": "027a01a4",
   "metadata": {
    "execution": {
     "iopub.execute_input": "2024-02-20T15:57:22.964167Z",
     "iopub.status.busy": "2024-02-20T15:57:22.963972Z",
     "iopub.status.idle": "2024-02-20T15:57:23.170809Z",
     "shell.execute_reply": "2024-02-20T15:57:23.170247Z"
    }
   },
   "outputs": [],
   "source": [
    "eval_long_expr = sm.lambdify((a, b, c, x, y, z), long_expr)\n",
    "eval_long_expr_cse = sm.lambdify((a, b, c, x, y, z), long_expr, cse=True)"
   ]
  },
  {
   "cell_type": "code",
   "execution_count": 98,
   "id": "231316ba",
   "metadata": {
    "execution": {
     "iopub.execute_input": "2024-02-20T15:57:23.173188Z",
     "iopub.status.busy": "2024-02-20T15:57:23.172996Z",
     "iopub.status.idle": "2024-02-20T15:57:25.294522Z",
     "shell.execute_reply": "2024-02-20T15:57:25.293986Z"
    }
   },
   "outputs": [
    {
     "name": "stdout",
     "output_type": "stream",
     "text": [
      "261 µs ± 3.4 µs per loop (mean ± std. dev. of 7 runs, 1,000 loops each)\n"
     ]
    }
   ],
   "source": [
    "%%timeit\n",
    "eval_long_expr(1.0, 2.0, 3.0, 4.0, 5.0, 6.0)"
   ]
  },
  {
   "cell_type": "code",
   "execution_count": 99,
   "id": "1345763e",
   "metadata": {
    "execution": {
     "iopub.execute_input": "2024-02-20T15:57:25.296838Z",
     "iopub.status.busy": "2024-02-20T15:57:25.296360Z",
     "iopub.status.idle": "2024-02-20T15:57:38.627249Z",
     "shell.execute_reply": "2024-02-20T15:57:38.626629Z"
    }
   },
   "outputs": [
    {
     "name": "stdout",
     "output_type": "stream",
     "text": [
      "16.4 µs ± 38.3 ns per loop (mean ± std. dev. of 7 runs, 100,000 loops each)\n"
     ]
    }
   ],
   "source": [
    "%%timeit\n",
    "eval_long_expr_cse(1.0, 2.0, 3.0, 4.0, 5.0, 6.0)"
   ]
  }
 ],
 "metadata": {
  "kernelspec": {
   "display_name": "Python 3 (ipykernel)",
   "language": "python",
   "name": "python3"
  },
  "language_info": {
   "codemirror_mode": {
    "name": "ipython",
    "version": 3
   },
   "file_extension": ".py",
   "mimetype": "text/x-python",
   "name": "python",
   "nbconvert_exporter": "python",
   "pygments_lexer": "ipython3",
   "version": "3.10.13"
  }
 },
 "nbformat": 4,
 "nbformat_minor": 5
}