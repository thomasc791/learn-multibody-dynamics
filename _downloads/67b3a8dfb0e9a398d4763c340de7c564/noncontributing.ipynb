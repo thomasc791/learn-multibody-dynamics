{
 "cells": [
  {
   "cell_type": "code",
   "execution_count": 1,
   "id": "8d92e7a2",
   "metadata": {
    "execution": {
     "iopub.execute_input": "2024-02-20T15:56:21.502149Z",
     "iopub.status.busy": "2024-02-20T15:56:21.501971Z",
     "iopub.status.idle": "2024-02-20T15:56:21.941421Z",
     "shell.execute_reply": "2024-02-20T15:56:21.940837Z"
    }
   },
   "outputs": [],
   "source": [
    "import numpy as np\n",
    "import sympy as sm\n",
    "import sympy.physics.mechanics as me\n",
    "me.init_vprinting(use_latex='mathjax')"
   ]
  },
  {
   "cell_type": "code",
   "execution_count": 2,
   "id": "65e7f196",
   "metadata": {
    "execution": {
     "iopub.execute_input": "2024-02-20T15:56:21.944167Z",
     "iopub.status.busy": "2024-02-20T15:56:21.943634Z",
     "iopub.status.idle": "2024-02-20T15:56:21.947571Z",
     "shell.execute_reply": "2024-02-20T15:56:21.947031Z"
    }
   },
   "outputs": [],
   "source": [
    "class ReferenceFrame(me.ReferenceFrame):\n",
    "\n",
    "    def __init__(self, *args, **kwargs):\n",
    "\n",
    "        kwargs.pop('latexs', None)\n",
    "\n",
    "        lab = args[0].lower()\n",
    "        tex = r'\\hat{{{}}}_{}'\n",
    "\n",
    "        super(ReferenceFrame, self).__init__(*args,\n",
    "                                             latexs=(tex.format(lab, 'x'),\n",
    "                                                     tex.format(lab, 'y'),\n",
    "                                                     tex.format(lab, 'z')),\n",
    "                                             **kwargs)\n",
    "me.ReferenceFrame = ReferenceFrame"
   ]
  },
  {
   "cell_type": "code",
   "execution_count": 3,
   "id": "a7de7ac4",
   "metadata": {
    "execution": {
     "iopub.execute_input": "2024-02-20T15:56:21.949637Z",
     "iopub.status.busy": "2024-02-20T15:56:21.949302Z",
     "iopub.status.idle": "2024-02-20T15:56:21.966379Z",
     "shell.execute_reply": "2024-02-20T15:56:21.965834Z"
    }
   },
   "outputs": [
    {
     "data": {
      "text/latex": [
       "$\\displaystyle \\left( \\left[\\begin{matrix}m_{1}\\\\m_{2}\\\\l_{1}\\\\l_{2}\\\\g\\end{matrix}\\right], \\  \\left[\\begin{matrix}q_{1}\\\\q_{2}\\end{matrix}\\right], \\  \\left[\\begin{matrix}u_{1}\\\\u_{2}\\end{matrix}\\right], \\  \\left[\\begin{matrix}T_{1}\\\\T_{2}\\end{matrix}\\right], \\  \\left[\\begin{matrix}\\dot{u}_{1}\\\\\\dot{u}_{2}\\end{matrix}\\right]\\right)$"
      ],
      "text/plain": [
       "⎛⎡m₁⎤                        ⎞\n",
       "⎜⎢  ⎥                        ⎟\n",
       "⎜⎢m₂⎥                        ⎟\n",
       "⎜⎢  ⎥  ⎡q₁⎤  ⎡u₁⎤  ⎡T₁⎤  ⎡u₁̇⎤⎟\n",
       "⎜⎢l₁⎥, ⎢  ⎥, ⎢  ⎥, ⎢  ⎥, ⎢  ⎥⎟\n",
       "⎜⎢  ⎥  ⎣q₂⎦  ⎣u₂⎦  ⎣T₂⎦  ⎣u₂̇⎦⎟\n",
       "⎜⎢l₂⎥                        ⎟\n",
       "⎜⎢  ⎥                        ⎟\n",
       "⎝⎣g ⎦                        ⎠"
      ]
     },
     "execution_count": 3,
     "metadata": {},
     "output_type": "execute_result"
    }
   ],
   "source": [
    "m1, m2, l1, l2, g = sm.symbols('m1, m2, l1, l2, g')\n",
    "q1, q2, u1, u2, T1, T2 = me.dynamicsymbols('q1, q2, u1, u2, T1, T2')\n",
    "t = me.dynamicsymbols._t\n",
    "\n",
    "p = sm.Matrix([m1, m2, l1, l2, g])\n",
    "q = sm.Matrix([q1, q2])\n",
    "u = sm.Matrix([u1, u2])\n",
    "r = sm.Matrix([T1, T2])\n",
    "\n",
    "ud = u.diff(t)\n",
    "\n",
    "p, q, u, r, ud"
   ]
  },
  {
   "cell_type": "code",
   "execution_count": 4,
   "id": "fe829a76",
   "metadata": {
    "execution": {
     "iopub.execute_input": "2024-02-20T15:56:21.968693Z",
     "iopub.status.busy": "2024-02-20T15:56:21.968124Z",
     "iopub.status.idle": "2024-02-20T15:56:21.979489Z",
     "shell.execute_reply": "2024-02-20T15:56:21.979023Z"
    }
   },
   "outputs": [],
   "source": [
    "N = me.ReferenceFrame('N')\n",
    "A = me.ReferenceFrame('A')\n",
    "B = me.ReferenceFrame('B')\n",
    "\n",
    "A.orient_axis(N, q1, N.z)\n",
    "B.orient_axis(N, q2, N.z)\n",
    "\n",
    "A.set_ang_vel(N, u1*N.z)\n",
    "B.set_ang_vel(N, u2*N.z)"
   ]
  },
  {
   "cell_type": "code",
   "execution_count": 5,
   "id": "5f61764d",
   "metadata": {
    "execution": {
     "iopub.execute_input": "2024-02-20T15:56:21.981792Z",
     "iopub.status.busy": "2024-02-20T15:56:21.981263Z",
     "iopub.status.idle": "2024-02-20T15:56:21.990154Z",
     "shell.execute_reply": "2024-02-20T15:56:21.989702Z"
    }
   },
   "outputs": [
    {
     "data": {
      "text/latex": [
       "$\\displaystyle l_{1} u_{1}\\hat{a}_x$"
      ],
      "text/plain": [
       "l₁⋅u₁ a_x"
      ]
     },
     "execution_count": 5,
     "metadata": {},
     "output_type": "execute_result"
    }
   ],
   "source": [
    "O = me.Point('O')\n",
    "P1 = O.locatenew('P1', -l1*A.y)\n",
    "P2 = P1.locatenew('P2', -l2*B.y)\n",
    "\n",
    "O.set_vel(N, 0)\n",
    "P1.v2pt_theory(O, N, A)"
   ]
  },
  {
   "cell_type": "code",
   "execution_count": 6,
   "id": "6818f039",
   "metadata": {
    "execution": {
     "iopub.execute_input": "2024-02-20T15:56:21.992157Z",
     "iopub.status.busy": "2024-02-20T15:56:21.991829Z",
     "iopub.status.idle": "2024-02-20T15:56:21.999166Z",
     "shell.execute_reply": "2024-02-20T15:56:21.998688Z"
    }
   },
   "outputs": [
    {
     "data": {
      "text/latex": [
       "$\\displaystyle l_{1} u_{1}\\hat{a}_x + l_{2} u_{2}\\hat{b}_x$"
      ],
      "text/plain": [
       "l₁⋅u₁ a_x + l₂⋅u₂ b_x"
      ]
     },
     "execution_count": 6,
     "metadata": {},
     "output_type": "execute_result"
    }
   ],
   "source": [
    "P2.v2pt_theory(P1, N, B)"
   ]
  },
  {
   "cell_type": "code",
   "execution_count": 7,
   "id": "20d6ac26",
   "metadata": {
    "execution": {
     "iopub.execute_input": "2024-02-20T15:56:22.001196Z",
     "iopub.status.busy": "2024-02-20T15:56:22.001029Z",
     "iopub.status.idle": "2024-02-20T15:56:22.012257Z",
     "shell.execute_reply": "2024-02-20T15:56:22.011815Z"
    }
   },
   "outputs": [
    {
     "data": {
      "text/latex": [
       "$\\displaystyle l_{1} \\dot{u}_{1}\\hat{a}_x + l_{1} u_{1}^{2}\\hat{a}_y$"
      ],
      "text/plain": [
       "                 2\n",
       "l₁⋅u₁̇ a_x + l₁⋅u₁  a_y"
      ]
     },
     "execution_count": 7,
     "metadata": {},
     "output_type": "execute_result"
    }
   ],
   "source": [
    "P1.a2pt_theory(O, N, A)"
   ]
  },
  {
   "cell_type": "code",
   "execution_count": 8,
   "id": "50463299",
   "metadata": {
    "execution": {
     "iopub.execute_input": "2024-02-20T15:56:22.014267Z",
     "iopub.status.busy": "2024-02-20T15:56:22.013938Z",
     "iopub.status.idle": "2024-02-20T15:56:22.025140Z",
     "shell.execute_reply": "2024-02-20T15:56:22.024690Z"
    }
   },
   "outputs": [
    {
     "data": {
      "text/latex": [
       "$\\displaystyle l_{1} \\dot{u}_{1}\\hat{a}_x + l_{1} u_{1}^{2}\\hat{a}_y + l_{2} \\dot{u}_{2}\\hat{b}_x + l_{2} u_{2}^{2}\\hat{b}_y$"
      ],
      "text/plain": [
       "                 2                        2\n",
       "l₁⋅u₁̇ a_x + l₁⋅u₁  a_y + l₂⋅u₂̇ b_x + l₂⋅u₂  b_y"
      ]
     },
     "execution_count": 8,
     "metadata": {},
     "output_type": "execute_result"
    }
   ],
   "source": [
    "P2.a2pt_theory(P1, N, B)"
   ]
  },
  {
   "cell_type": "code",
   "execution_count": 9,
   "id": "67f0bc54",
   "metadata": {
    "execution": {
     "iopub.execute_input": "2024-02-20T15:56:22.026944Z",
     "iopub.status.busy": "2024-02-20T15:56:22.026778Z",
     "iopub.status.idle": "2024-02-20T15:56:22.038313Z",
     "shell.execute_reply": "2024-02-20T15:56:22.037849Z"
    }
   },
   "outputs": [
    {
     "data": {
      "text/latex": [
       "$\\displaystyle (- T_{1} \\sin{\\left(q_{1} \\right)} + T_{2} \\sin{\\left(q_{2} \\right)})\\hat{n}_x + (- g m_{1} + T_{1} \\cos{\\left(q_{1} \\right)} - T_{2} \\cos{\\left(q_{2} \\right)})\\hat{n}_y$"
      ],
      "text/plain": [
       "(-T₁⋅sin(q₁) + T₂⋅sin(q₂)) n_x + (-g⋅m₁ + T₁⋅cos(q₁) - T₂⋅cos(q₂)) n_y"
      ]
     },
     "execution_count": 9,
     "metadata": {},
     "output_type": "execute_result"
    }
   ],
   "source": [
    "F_P1 = T1*A.y - T2*B.y - m1*g*N.y\n",
    "F_P1.express(N)"
   ]
  },
  {
   "cell_type": "code",
   "execution_count": 10,
   "id": "63b22f7c",
   "metadata": {
    "execution": {
     "iopub.execute_input": "2024-02-20T15:56:22.040348Z",
     "iopub.status.busy": "2024-02-20T15:56:22.040010Z",
     "iopub.status.idle": "2024-02-20T15:56:22.046925Z",
     "shell.execute_reply": "2024-02-20T15:56:22.046462Z"
    }
   },
   "outputs": [
    {
     "data": {
      "text/latex": [
       "$\\displaystyle -  T_{2} \\sin{\\left(q_{2} \\right)}\\hat{n}_x + (- g m_{2} + T_{2} \\cos{\\left(q_{2} \\right)})\\hat{n}_y$"
      ],
      "text/plain": [
       "-T₂⋅sin(q₂) n_x + (-g⋅m₂ + T₂⋅cos(q₂)) n_y"
      ]
     },
     "execution_count": 10,
     "metadata": {},
     "output_type": "execute_result"
    }
   ],
   "source": [
    "F_P2 = T2*B.y - m2*g*N.y\n",
    "F_P2.express(N)"
   ]
  },
  {
   "cell_type": "code",
   "execution_count": 11,
   "id": "299a8446",
   "metadata": {
    "execution": {
     "iopub.execute_input": "2024-02-20T15:56:22.048847Z",
     "iopub.status.busy": "2024-02-20T15:56:22.048483Z",
     "iopub.status.idle": "2024-02-20T15:56:22.053164Z",
     "shell.execute_reply": "2024-02-20T15:56:22.052693Z"
    }
   },
   "outputs": [],
   "source": [
    "zero_P1 = F_P1 - m1*P1.acc(N)\n",
    "zero_P2 = F_P2 - m2*P2.acc(N)"
   ]
  },
  {
   "cell_type": "code",
   "execution_count": 12,
   "id": "4d8b8261",
   "metadata": {
    "execution": {
     "iopub.execute_input": "2024-02-20T15:56:22.055265Z",
     "iopub.status.busy": "2024-02-20T15:56:22.054849Z",
     "iopub.status.idle": "2024-02-20T15:56:22.084729Z",
     "shell.execute_reply": "2024-02-20T15:56:22.084172Z"
    }
   },
   "outputs": [
    {
     "data": {
      "text/latex": [
       "$\\displaystyle \\left[\\begin{matrix}- l_{1} m_{1} \\cos{\\left(q_{1} \\right)} \\dot{u}_{1} - \\left(- l_{1} m_{1} u_{1}^{2} + T_{1}\\right) \\sin{\\left(q_{1} \\right)} + T_{2} \\sin{\\left(q_{2} \\right)}\\\\- g m_{1} - l_{1} m_{1} \\sin{\\left(q_{1} \\right)} \\dot{u}_{1} + \\left(- l_{1} m_{1} u_{1}^{2} + T_{1}\\right) \\cos{\\left(q_{1} \\right)} - T_{2} \\cos{\\left(q_{2} \\right)}\\\\l_{1} m_{2} u_{1}^{2} \\sin{\\left(q_{1} \\right)} - l_{1} m_{2} \\cos{\\left(q_{1} \\right)} \\dot{u}_{1} - l_{2} m_{2} \\cos{\\left(q_{2} \\right)} \\dot{u}_{2} - \\left(- l_{2} m_{2} u_{2}^{2} + T_{2}\\right) \\sin{\\left(q_{2} \\right)}\\\\- g m_{2} - l_{1} m_{2} u_{1}^{2} \\cos{\\left(q_{1} \\right)} - l_{1} m_{2} \\sin{\\left(q_{1} \\right)} \\dot{u}_{1} - l_{2} m_{2} \\sin{\\left(q_{2} \\right)} \\dot{u}_{2} + \\left(- l_{2} m_{2} u_{2}^{2} + T_{2}\\right) \\cos{\\left(q_{2} \\right)}\\end{matrix}\\right]$"
      ],
      "text/plain": [
       "⎡                                    ⎛          2     ⎞                       \n",
       "⎢                -l₁⋅m₁⋅cos(q₁)⋅u₁̇ - ⎝- l₁⋅m₁⋅u₁  + T₁⎠⋅sin(q₁) + T₂⋅sin(q₂) \n",
       "⎢                                                                             \n",
       "⎢                                        ⎛          2     ⎞                   \n",
       "⎢             -g⋅m₁ - l₁⋅m₁⋅sin(q₁)⋅u₁̇ + ⎝- l₁⋅m₁⋅u₁  + T₁⎠⋅cos(q₁) - T₂⋅cos(\n",
       "⎢                                                                             \n",
       "⎢            2                                                 ⎛          2   \n",
       "⎢    l₁⋅m₂⋅u₁ ⋅sin(q₁) - l₁⋅m₂⋅cos(q₁)⋅u₁̇ - l₂⋅m₂⋅cos(q₂)⋅u₂̇ - ⎝- l₂⋅m₂⋅u₂  \n",
       "⎢                                                                             \n",
       "⎢                2                                                 ⎛          \n",
       "⎣-g⋅m₂ - l₁⋅m₂⋅u₁ ⋅cos(q₁) - l₁⋅m₂⋅sin(q₁)⋅u₁̇ - l₂⋅m₂⋅sin(q₂)⋅u₂̇ + ⎝- l₂⋅m₂⋅\n",
       "\n",
       "               ⎤\n",
       "                ⎥\n",
       "               ⎥\n",
       "               ⎥\n",
       "q₂)             ⎥\n",
       "               ⎥\n",
       "  ⎞            ⎥\n",
       "+ T₂⎠⋅sin(q₂)    ⎥\n",
       "               ⎥\n",
       "2     ⎞        ⎥\n",
       "u₂  + T₂⎠⋅cos(q₂)⎦"
      ]
     },
     "execution_count": 12,
     "metadata": {},
     "output_type": "execute_result"
    }
   ],
   "source": [
    "fd = sm.Matrix([\n",
    "    zero_P1.dot(N.x),\n",
    "    zero_P1.dot(N.y),\n",
    "    zero_P2.dot(N.x),\n",
    "    zero_P2.dot(N.y),\n",
    "])\n",
    "fd"
   ]
  },
  {
   "cell_type": "code",
   "execution_count": 13,
   "id": "4725b32b",
   "metadata": {
    "execution": {
     "iopub.execute_input": "2024-02-20T15:56:22.086801Z",
     "iopub.status.busy": "2024-02-20T15:56:22.086283Z",
     "iopub.status.idle": "2024-02-20T15:56:22.094226Z",
     "shell.execute_reply": "2024-02-20T15:56:22.093764Z"
    }
   },
   "outputs": [
    {
     "data": {
      "text/latex": [
       "$\\displaystyle \\left( \\left\\{T_{1}, T_{2}, q_{1}, q_{2}, u_{1}, \\dot{u}_{1}\\right\\}, \\  \\left\\{T_{1}, T_{2}, q_{1}, q_{2}, u_{1}, \\dot{u}_{1}\\right\\}, \\  \\left\\{T_{2}, q_{1}, q_{2}, u_{1}, u_{2}, \\dot{u}_{1}, \\dot{u}_{2}\\right\\}, \\  \\left\\{T_{2}, q_{1}, q_{2}, u_{1}, u_{2}, \\dot{u}_{1}, \\dot{u}_{2}\\right\\}\\right)$"
      ],
      "text/plain": [
       "({T₁, T₂, q₁, q₂, u₁, u₁̇}, {T₁, T₂, q₁, q₂, u₁, u₁̇}, {T₂, q₁, q₂, u₁, u₂, u₁\n",
       "̇, u₂̇}, {T₂, q₁, q₂, u₁, u₂, u₁̇, u₂̇})"
      ]
     },
     "execution_count": 13,
     "metadata": {},
     "output_type": "execute_result"
    }
   ],
   "source": [
    "(me.find_dynamicsymbols(fd[0]), me.find_dynamicsymbols(fd[1]),\n",
    " me.find_dynamicsymbols(fd[2]), me.find_dynamicsymbols(fd[3]))"
   ]
  },
  {
   "cell_type": "code",
   "execution_count": 14,
   "id": "74c0550f",
   "metadata": {
    "execution": {
     "iopub.execute_input": "2024-02-20T15:56:22.096210Z",
     "iopub.status.busy": "2024-02-20T15:56:22.095816Z",
     "iopub.status.idle": "2024-02-20T15:56:22.100707Z",
     "shell.execute_reply": "2024-02-20T15:56:22.100106Z"
    }
   },
   "outputs": [
    {
     "data": {
      "text/latex": [
       "$\\displaystyle \\left( \\left[\\begin{matrix}\\dot{u}_{1}\\\\\\dot{u}_{2}\\end{matrix}\\right], \\  \\left[\\begin{matrix}T_{1}\\\\T_{2}\\end{matrix}\\right]\\right)$"
      ],
      "text/plain": [
       "⎛⎡u₁̇⎤  ⎡T₁⎤⎞\n",
       "⎜⎢  ⎥, ⎢  ⎥⎟\n",
       "⎝⎣u₂̇⎦  ⎣T₂⎦⎠"
      ]
     },
     "execution_count": 14,
     "metadata": {},
     "output_type": "execute_result"
    }
   ],
   "source": [
    "ud, r"
   ]
  },
  {
   "cell_type": "code",
   "execution_count": 15,
   "id": "803c8cbb",
   "metadata": {
    "execution": {
     "iopub.execute_input": "2024-02-20T15:56:22.102717Z",
     "iopub.status.busy": "2024-02-20T15:56:22.102289Z",
     "iopub.status.idle": "2024-02-20T15:56:22.178428Z",
     "shell.execute_reply": "2024-02-20T15:56:22.177836Z"
    }
   },
   "outputs": [
    {
     "data": {
      "text/latex": [
       "$\\displaystyle \\left( \\left[\\begin{matrix}- l_{1} m_{1} \\cos{\\left(q_{1} \\right)} & 0 & - \\sin{\\left(q_{1} \\right)} & \\sin{\\left(q_{2} \\right)}\\\\- l_{1} m_{1} \\sin{\\left(q_{1} \\right)} & 0 & \\cos{\\left(q_{1} \\right)} & - \\cos{\\left(q_{2} \\right)}\\\\- l_{1} m_{2} \\cos{\\left(q_{1} \\right)} & - l_{2} m_{2} \\cos{\\left(q_{2} \\right)} & 0 & - \\sin{\\left(q_{2} \\right)}\\\\- l_{1} m_{2} \\sin{\\left(q_{1} \\right)} & - l_{2} m_{2} \\sin{\\left(q_{2} \\right)} & 0 & \\cos{\\left(q_{2} \\right)}\\end{matrix}\\right], \\  \\left[\\begin{matrix}\\dot{u}_{1}\\\\\\dot{u}_{2}\\\\T_{1}\\\\T_{2}\\end{matrix}\\right], \\  \\left[\\begin{matrix}l_{1} m_{1} u_{1}^{2} \\sin{\\left(q_{1} \\right)}\\\\- g m_{1} - l_{1} m_{1} u_{1}^{2} \\cos{\\left(q_{1} \\right)}\\\\l_{1} m_{2} u_{1}^{2} \\sin{\\left(q_{1} \\right)} + l_{2} m_{2} u_{2}^{2} \\sin{\\left(q_{2} \\right)}\\\\- g m_{2} - l_{1} m_{2} u_{1}^{2} \\cos{\\left(q_{1} \\right)} - l_{2} m_{2} u_{2}^{2} \\cos{\\left(q_{2} \\right)}\\end{matrix}\\right]\\right)$"
      ],
      "text/plain": [
       "⎛                                                            ⎡                \n",
       "⎜                                                            ⎢              l₁\n",
       "⎜⎡-l₁⋅m₁⋅cos(q₁)        0         -sin(q₁)  sin(q₂) ⎤  ⎡u₁̇⎤  ⎢               \n",
       "⎜⎢                                                  ⎥  ⎢  ⎥  ⎢                \n",
       "⎜⎢-l₁⋅m₁⋅sin(q₁)        0         cos(q₁)   -cos(q₂)⎥  ⎢u₂̇⎥  ⎢          -g⋅m₁\n",
       "⎜⎢                                                  ⎥, ⎢  ⎥, ⎢                \n",
       "⎜⎢-l₁⋅m₂⋅cos(q₁)  -l₂⋅m₂⋅cos(q₂)     0      -sin(q₂)⎥  ⎢T₁⎥  ⎢            2   \n",
       "⎜⎢                                                  ⎥  ⎢  ⎥  ⎢    l₁⋅m₂⋅u₁ ⋅si\n",
       "⎜⎣-l₁⋅m₂⋅sin(q₁)  -l₂⋅m₂⋅sin(q₂)     0      cos(q₂) ⎦  ⎣T₂⎦  ⎢                \n",
       "⎜                                                            ⎢                \n",
       "⎝                                                            ⎣-g⋅m₂ - l₁⋅m₂⋅u₁\n",
       "\n",
       "      2                      ⎤⎞\n",
       "⋅m₁⋅u₁ ⋅sin(q₁)              ⎥⎟\n",
       "                              ⎥⎟\n",
       "          2                  ⎥⎟\n",
       " - l₁⋅m₁⋅u₁ ⋅cos(q₁)          ⎥⎟\n",
       "                             ⎥⎟\n",
       "                2            ⎥⎟\n",
       "n(q₁) + l₂⋅m₂⋅u₂ ⋅sin(q₂)    ⎥⎟\n",
       "                             ⎥⎟\n",
       "2                   2        ⎥⎟\n",
       " ⋅cos(q₁) - l₂⋅m₂⋅u₂ ⋅cos(q₂)⎦⎠"
      ]
     },
     "execution_count": 15,
     "metadata": {},
     "output_type": "execute_result"
    }
   ],
   "source": [
    "udr = ud.col_join(r)\n",
    "udr_zero = {v: 0 for v in udr}\n",
    "\n",
    "Md = fd.jacobian(udr)\n",
    "gd = fd.xreplace(udr_zero)\n",
    "\n",
    "Md, udr, gd"
   ]
  },
  {
   "cell_type": "code",
   "execution_count": 16,
   "id": "72cb2bd9",
   "metadata": {
    "execution": {
     "iopub.execute_input": "2024-02-20T15:56:22.180724Z",
     "iopub.status.busy": "2024-02-20T15:56:22.180276Z",
     "iopub.status.idle": "2024-02-20T15:56:22.186159Z",
     "shell.execute_reply": "2024-02-20T15:56:22.185606Z"
    }
   },
   "outputs": [
    {
     "data": {
      "text/latex": [
       "$\\displaystyle l_{1} u_{1}\\hat{a}_x -  u_{3}\\hat{a}_y$"
      ],
      "text/plain": [
       "l₁⋅u₁ a_x + -u₃ a_y"
      ]
     },
     "execution_count": 16,
     "metadata": {},
     "output_type": "execute_result"
    }
   ],
   "source": [
    "u3, u4 = me.dynamicsymbols('u3, u4')\n",
    "\n",
    "N_v_P1a = P1.vel(N) - u3*A.y\n",
    "N_v_P1a"
   ]
  },
  {
   "cell_type": "code",
   "execution_count": 17,
   "id": "1a74d07f",
   "metadata": {
    "execution": {
     "iopub.execute_input": "2024-02-20T15:56:22.188300Z",
     "iopub.status.busy": "2024-02-20T15:56:22.187975Z",
     "iopub.status.idle": "2024-02-20T15:56:22.195306Z",
     "shell.execute_reply": "2024-02-20T15:56:22.194851Z"
    }
   },
   "outputs": [
    {
     "data": {
      "text/latex": [
       "$\\displaystyle l_{1} u_{1}\\hat{a}_x -  u_{3}\\hat{a}_y + l_{2} u_{2}\\hat{b}_x -  u_{4}\\hat{b}_y$"
      ],
      "text/plain": [
       "l₁⋅u₁ a_x + -u₃ a_y + l₂⋅u₂ b_x + -u₄ b_y"
      ]
     },
     "execution_count": 17,
     "metadata": {},
     "output_type": "execute_result"
    }
   ],
   "source": [
    "N_v_P2a = N_v_P1a + me.cross(B.ang_vel_in(N), P2.pos_from(P1)) - u4*B.y\n",
    "N_v_P2a"
   ]
  },
  {
   "cell_type": "code",
   "execution_count": 18,
   "id": "97b30f45",
   "metadata": {
    "execution": {
     "iopub.execute_input": "2024-02-20T15:56:22.197179Z",
     "iopub.status.busy": "2024-02-20T15:56:22.197003Z",
     "iopub.status.idle": "2024-02-20T15:56:22.201332Z",
     "shell.execute_reply": "2024-02-20T15:56:22.200870Z"
    }
   },
   "outputs": [],
   "source": [
    "R_P1 = -m1*g*N.y\n",
    "R_P2 = -m2*g*N.y"
   ]
  },
  {
   "cell_type": "code",
   "execution_count": 19,
   "id": "bfdcda6a",
   "metadata": {
    "execution": {
     "iopub.execute_input": "2024-02-20T15:56:22.203397Z",
     "iopub.status.busy": "2024-02-20T15:56:22.203047Z",
     "iopub.status.idle": "2024-02-20T15:56:22.214498Z",
     "shell.execute_reply": "2024-02-20T15:56:22.214035Z"
    }
   },
   "outputs": [
    {
     "data": {
      "text/latex": [
       "$\\displaystyle - g l_{1} m_{1} \\sin{\\left(q_{1} \\right)} - g l_{1} m_{2} \\sin{\\left(q_{1} \\right)}$"
      ],
      "text/plain": [
       "-g⋅l₁⋅m₁⋅sin(q₁) - g⋅l₁⋅m₂⋅sin(q₁)"
      ]
     },
     "execution_count": 19,
     "metadata": {},
     "output_type": "execute_result"
    }
   ],
   "source": [
    "F1 = P1.vel(N).diff(u1, N).dot(R_P1) + P2.vel(N).diff(u1, N).dot(R_P2)\n",
    "F1"
   ]
  },
  {
   "cell_type": "code",
   "execution_count": 20,
   "id": "faed2361",
   "metadata": {
    "execution": {
     "iopub.execute_input": "2024-02-20T15:56:22.216630Z",
     "iopub.status.busy": "2024-02-20T15:56:22.216188Z",
     "iopub.status.idle": "2024-02-20T15:56:22.223958Z",
     "shell.execute_reply": "2024-02-20T15:56:22.223480Z"
    }
   },
   "outputs": [
    {
     "data": {
      "text/latex": [
       "$\\displaystyle - g l_{2} m_{2} \\sin{\\left(q_{2} \\right)}$"
      ],
      "text/plain": [
       "-g⋅l₂⋅m₂⋅sin(q₂)"
      ]
     },
     "execution_count": 20,
     "metadata": {},
     "output_type": "execute_result"
    }
   ],
   "source": [
    "F2 = P1.vel(N).diff(u2, N).dot(R_P1) + P2.vel(N).diff(u2, N).dot(R_P2)\n",
    "F2"
   ]
  },
  {
   "cell_type": "code",
   "execution_count": 21,
   "id": "21e9c5d9",
   "metadata": {
    "execution": {
     "iopub.execute_input": "2024-02-20T15:56:22.225947Z",
     "iopub.status.busy": "2024-02-20T15:56:22.225613Z",
     "iopub.status.idle": "2024-02-20T15:56:22.229247Z",
     "shell.execute_reply": "2024-02-20T15:56:22.228694Z"
    }
   },
   "outputs": [],
   "source": [
    "R_P1_aux = R_P1 + T1*A.y - T2*B.y\n",
    "R_P2_aux = R_P2 + T2*B.y"
   ]
  },
  {
   "cell_type": "code",
   "execution_count": 22,
   "id": "215e1319",
   "metadata": {
    "execution": {
     "iopub.execute_input": "2024-02-20T15:56:22.231240Z",
     "iopub.status.busy": "2024-02-20T15:56:22.230916Z",
     "iopub.status.idle": "2024-02-20T15:56:22.248122Z",
     "shell.execute_reply": "2024-02-20T15:56:22.247578Z"
    }
   },
   "outputs": [
    {
     "data": {
      "text/latex": [
       "$\\displaystyle g m_{1} \\cos{\\left(q_{1} \\right)} + g m_{2} \\cos{\\left(q_{1} \\right)} - T_{1}$"
      ],
      "text/plain": [
       "g⋅m₁⋅cos(q₁) + g⋅m₂⋅cos(q₁) - T₁"
      ]
     },
     "execution_count": 22,
     "metadata": {},
     "output_type": "execute_result"
    }
   ],
   "source": [
    "F3 = N_v_P1a.diff(u3, N).dot(R_P1_aux) + N_v_P2a.diff(u3, N).dot(R_P2_aux)\n",
    "F3"
   ]
  },
  {
   "cell_type": "code",
   "execution_count": 23,
   "id": "681f0d1d",
   "metadata": {
    "execution": {
     "iopub.execute_input": "2024-02-20T15:56:22.250229Z",
     "iopub.status.busy": "2024-02-20T15:56:22.249745Z",
     "iopub.status.idle": "2024-02-20T15:56:22.257440Z",
     "shell.execute_reply": "2024-02-20T15:56:22.256883Z"
    }
   },
   "outputs": [
    {
     "data": {
      "text/latex": [
       "$\\displaystyle g m_{2} \\cos{\\left(q_{2} \\right)} - T_{2}$"
      ],
      "text/plain": [
       "g⋅m₂⋅cos(q₂) - T₂"
      ]
     },
     "execution_count": 23,
     "metadata": {},
     "output_type": "execute_result"
    }
   ],
   "source": [
    "F4 = N_v_P1a.diff(u4, N).dot(R_P1_aux) + N_v_P2a.diff(u4, N).dot(R_P2_aux)\n",
    "F4"
   ]
  },
  {
   "cell_type": "code",
   "execution_count": 24,
   "id": "1b2a22a8",
   "metadata": {
    "execution": {
     "iopub.execute_input": "2024-02-20T15:56:22.259576Z",
     "iopub.status.busy": "2024-02-20T15:56:22.259093Z",
     "iopub.status.idle": "2024-02-20T15:56:22.267157Z",
     "shell.execute_reply": "2024-02-20T15:56:22.266606Z"
    }
   },
   "outputs": [
    {
     "data": {
      "text/latex": [
       "$\\displaystyle \\left[\\begin{matrix}- g l_{1} m_{1} \\sin{\\left(q_{1} \\right)} - g l_{1} m_{2} \\sin{\\left(q_{1} \\right)}\\\\- g l_{2} m_{2} \\sin{\\left(q_{2} \\right)}\\\\g m_{1} \\cos{\\left(q_{1} \\right)} + g m_{2} \\cos{\\left(q_{1} \\right)} - T_{1}\\\\g m_{2} \\cos{\\left(q_{2} \\right)} - T_{2}\\end{matrix}\\right]$"
      ],
      "text/plain": [
       "⎡-g⋅l₁⋅m₁⋅sin(q₁) - g⋅l₁⋅m₂⋅sin(q₁)⎤\n",
       "⎢                                  ⎥\n",
       "⎢         -g⋅l₂⋅m₂⋅sin(q₂)         ⎥\n",
       "⎢                                  ⎥\n",
       "⎢ g⋅m₁⋅cos(q₁) + g⋅m₂⋅cos(q₁) - T₁ ⎥\n",
       "⎢                                  ⎥\n",
       "⎣        g⋅m₂⋅cos(q₂) - T₂         ⎦"
      ]
     },
     "execution_count": 24,
     "metadata": {},
     "output_type": "execute_result"
    }
   ],
   "source": [
    "Fr = sm.Matrix([F1, F2, F3, F4])\n",
    "Fr"
   ]
  },
  {
   "cell_type": "code",
   "execution_count": 25,
   "id": "7322e587",
   "metadata": {
    "execution": {
     "iopub.execute_input": "2024-02-20T15:56:22.269280Z",
     "iopub.status.busy": "2024-02-20T15:56:22.268953Z",
     "iopub.status.idle": "2024-02-20T15:56:22.272768Z",
     "shell.execute_reply": "2024-02-20T15:56:22.272198Z"
    }
   },
   "outputs": [],
   "source": [
    "Rs_P1 = -m1*P1.acc(N)\n",
    "Rs_P2 = -m2*P2.acc(N)"
   ]
  },
  {
   "cell_type": "code",
   "execution_count": 26,
   "id": "f83d575c",
   "metadata": {
    "execution": {
     "iopub.execute_input": "2024-02-20T15:56:22.274760Z",
     "iopub.status.busy": "2024-02-20T15:56:22.274435Z",
     "iopub.status.idle": "2024-02-20T15:56:22.295887Z",
     "shell.execute_reply": "2024-02-20T15:56:22.295320Z"
    }
   },
   "outputs": [
    {
     "data": {
      "text/latex": [
       "$\\displaystyle - l_{1}^{2} m_{1} \\dot{u}_{1} - l_{1}^{2} m_{2} \\dot{u}_{1} + l_{1} \\left(- l_{2} m_{2} \\left(\\sin{\\left(q_{1} \\right)} \\sin{\\left(q_{2} \\right)} + \\cos{\\left(q_{1} \\right)} \\cos{\\left(q_{2} \\right)}\\right) \\dot{u}_{2} - l_{2} m_{2} \\left(\\sin{\\left(q_{1} \\right)} \\cos{\\left(q_{2} \\right)} - \\sin{\\left(q_{2} \\right)} \\cos{\\left(q_{1} \\right)}\\right) u_{2}^{2}\\right)$"
      ],
      "text/plain": [
       "    2           2            ⎛                                                \n",
       "- l₁ ⋅m₁⋅u₁̇ - l₁ ⋅m₂⋅u₁̇ + l₁⋅⎝-l₂⋅m₂⋅(sin(q₁)⋅sin(q₂) + cos(q₁)⋅cos(q₂))⋅u₂̇\n",
       "\n",
       "                                            2⎞\n",
       " - l₂⋅m₂⋅(sin(q₁)⋅cos(q₂) - sin(q₂)⋅cos(q₁))⋅u₂ ⎠"
      ]
     },
     "execution_count": 26,
     "metadata": {},
     "output_type": "execute_result"
    }
   ],
   "source": [
    "F1s = P1.vel(N).diff(u1, N).dot(Rs_P1) + P2.vel(N).diff(u1, N).dot(Rs_P2)\n",
    "F1s"
   ]
  },
  {
   "cell_type": "code",
   "execution_count": 27,
   "id": "9e1946d1",
   "metadata": {
    "execution": {
     "iopub.execute_input": "2024-02-20T15:56:22.298058Z",
     "iopub.status.busy": "2024-02-20T15:56:22.297731Z",
     "iopub.status.idle": "2024-02-20T15:56:22.315544Z",
     "shell.execute_reply": "2024-02-20T15:56:22.314984Z"
    }
   },
   "outputs": [
    {
     "data": {
      "text/latex": [
       "$\\displaystyle - l_{2}^{2} m_{2} \\dot{u}_{2} + l_{2} \\left(- l_{1} m_{2} \\left(\\sin{\\left(q_{1} \\right)} \\sin{\\left(q_{2} \\right)} + \\cos{\\left(q_{1} \\right)} \\cos{\\left(q_{2} \\right)}\\right) \\dot{u}_{1} - l_{1} m_{2} \\left(- \\sin{\\left(q_{1} \\right)} \\cos{\\left(q_{2} \\right)} + \\sin{\\left(q_{2} \\right)} \\cos{\\left(q_{1} \\right)}\\right) u_{1}^{2}\\right)$"
      ],
      "text/plain": [
       "    2            ⎛                                                            \n",
       "- l₂ ⋅m₂⋅u₂̇ + l₂⋅⎝-l₁⋅m₂⋅(sin(q₁)⋅sin(q₂) + cos(q₁)⋅cos(q₂))⋅u₁̇ - l₁⋅m₂⋅(-si\n",
       "\n",
       "                                 2⎞\n",
       "n(q₁)⋅cos(q₂) + sin(q₂)⋅cos(q₁))⋅u₁ ⎠"
      ]
     },
     "execution_count": 27,
     "metadata": {},
     "output_type": "execute_result"
    }
   ],
   "source": [
    "F2s = P1.vel(N).diff(u2, N).dot(Rs_P1) + P2.vel(N).diff(u2, N).dot(Rs_P2)\n",
    "F2s"
   ]
  },
  {
   "cell_type": "code",
   "execution_count": 28,
   "id": "d428f4a9",
   "metadata": {
    "execution": {
     "iopub.execute_input": "2024-02-20T15:56:22.317653Z",
     "iopub.status.busy": "2024-02-20T15:56:22.317345Z",
     "iopub.status.idle": "2024-02-20T15:56:22.330822Z",
     "shell.execute_reply": "2024-02-20T15:56:22.330267Z"
    }
   },
   "outputs": [
    {
     "data": {
      "text/latex": [
       "$\\displaystyle l_{1} m_{1} u_{1}^{2} + l_{1} m_{2} u_{1}^{2} + l_{2} m_{2} \\left(\\sin{\\left(q_{1} \\right)} \\sin{\\left(q_{2} \\right)} + \\cos{\\left(q_{1} \\right)} \\cos{\\left(q_{2} \\right)}\\right) u_{2}^{2} + l_{2} m_{2} \\left(- \\sin{\\left(q_{1} \\right)} \\cos{\\left(q_{2} \\right)} + \\sin{\\left(q_{2} \\right)} \\cos{\\left(q_{1} \\right)}\\right) \\dot{u}_{2}$"
      ],
      "text/plain": [
       "        2           2                                               2         \n",
       "l₁⋅m₁⋅u₁  + l₁⋅m₂⋅u₁  + l₂⋅m₂⋅(sin(q₁)⋅sin(q₂) + cos(q₁)⋅cos(q₂))⋅u₂  + l₂⋅m₂⋅\n",
       "\n",
       "                                       \n",
       "(-sin(q₁)⋅cos(q₂) + sin(q₂)⋅cos(q₁))⋅u₂̇"
      ]
     },
     "execution_count": 28,
     "metadata": {},
     "output_type": "execute_result"
    }
   ],
   "source": [
    "F3s = N_v_P1a.diff(u3, N).dot(Rs_P1) + N_v_P2a.diff(u3, N).dot(Rs_P2)\n",
    "F3s"
   ]
  },
  {
   "cell_type": "code",
   "execution_count": 29,
   "id": "ad6fccd2",
   "metadata": {
    "execution": {
     "iopub.execute_input": "2024-02-20T15:56:22.332794Z",
     "iopub.status.busy": "2024-02-20T15:56:22.332414Z",
     "iopub.status.idle": "2024-02-20T15:56:22.343864Z",
     "shell.execute_reply": "2024-02-20T15:56:22.343291Z"
    }
   },
   "outputs": [
    {
     "data": {
      "text/latex": [
       "$\\displaystyle l_{1} m_{2} \\left(\\sin{\\left(q_{1} \\right)} \\sin{\\left(q_{2} \\right)} + \\cos{\\left(q_{1} \\right)} \\cos{\\left(q_{2} \\right)}\\right) u_{1}^{2} + l_{1} m_{2} \\left(\\sin{\\left(q_{1} \\right)} \\cos{\\left(q_{2} \\right)} - \\sin{\\left(q_{2} \\right)} \\cos{\\left(q_{1} \\right)}\\right) \\dot{u}_{1} + l_{2} m_{2} u_{2}^{2}$"
      ],
      "text/plain": [
       "                                            2                                 \n",
       "l₁⋅m₂⋅(sin(q₁)⋅sin(q₂) + cos(q₁)⋅cos(q₂))⋅u₁  + l₁⋅m₂⋅(sin(q₁)⋅cos(q₂) - sin(q\n",
       "\n",
       "                         2\n",
       "₂)⋅cos(q₁))⋅u₁̇ + l₂⋅m₂⋅u₂ "
      ]
     },
     "execution_count": 29,
     "metadata": {},
     "output_type": "execute_result"
    }
   ],
   "source": [
    "F4s = N_v_P1a.diff(u4, N).dot(Rs_P1) + N_v_P2a.diff(u4, N).dot(Rs_P2)\n",
    "F4s"
   ]
  },
  {
   "cell_type": "code",
   "execution_count": 30,
   "id": "632b0de8",
   "metadata": {
    "execution": {
     "iopub.execute_input": "2024-02-20T15:56:22.346034Z",
     "iopub.status.busy": "2024-02-20T15:56:22.345617Z",
     "iopub.status.idle": "2024-02-20T15:56:23.491948Z",
     "shell.execute_reply": "2024-02-20T15:56:23.491425Z"
    }
   },
   "outputs": [
    {
     "data": {
      "text/latex": [
       "$\\displaystyle \\left[\\begin{matrix}- l_{1} \\left(l_{1} m_{1} \\dot{u}_{1} + l_{1} m_{2} \\dot{u}_{1} + l_{2} m_{2} u_{2}^{2} \\sin{\\left(q_{1} - q_{2} \\right)} + l_{2} m_{2} \\cos{\\left(q_{1} - q_{2} \\right)} \\dot{u}_{2}\\right)\\\\l_{2} m_{2} \\left(l_{1} u_{1}^{2} \\sin{\\left(q_{1} - q_{2} \\right)} - l_{1} \\cos{\\left(q_{1} - q_{2} \\right)} \\dot{u}_{1} - l_{2} \\dot{u}_{2}\\right)\\\\l_{1} m_{1} u_{1}^{2} + l_{1} m_{2} u_{1}^{2} + l_{2} m_{2} u_{2}^{2} \\cos{\\left(q_{1} - q_{2} \\right)} - l_{2} m_{2} \\sin{\\left(q_{1} - q_{2} \\right)} \\dot{u}_{2}\\\\m_{2} \\left(l_{1} u_{1}^{2} \\cos{\\left(q_{1} - q_{2} \\right)} + l_{1} \\sin{\\left(q_{1} - q_{2} \\right)} \\dot{u}_{1} + l_{2} u_{2}^{2}\\right)\\end{matrix}\\right]$"
      ],
      "text/plain": [
       "⎡    ⎛                              2                                     ⎞⎤\n",
       "⎢-l₁⋅⎝l₁⋅m₁⋅u₁̇ + l₁⋅m₂⋅u₁̇ + l₂⋅m₂⋅u₂ ⋅sin(q₁ - q₂) + l₂⋅m₂⋅cos(q₁ - q₂)⋅u₂̇⎠⎥\n",
       "⎢                                                                          ⎥\n",
       "⎢               ⎛     2                                          ⎞         ⎥\n",
       "⎢         l₂⋅m₂⋅⎝l₁⋅u₁ ⋅sin(q₁ - q₂) - l₁⋅cos(q₁ - q₂)⋅u₁̇ - l₂⋅u₂̇⎠         ⎥\n",
       "⎢                                                                          ⎥\n",
       "⎢          2           2           2                                       ⎥\n",
       "⎢  l₁⋅m₁⋅u₁  + l₁⋅m₂⋅u₁  + l₂⋅m₂⋅u₂ ⋅cos(q₁ - q₂) - l₂⋅m₂⋅sin(q₁ - q₂)⋅u₂̇  ⎥\n",
       "⎢                                                                          ⎥\n",
       "⎢             ⎛     2                                          2⎞          ⎥\n",
       "⎣          m₂⋅⎝l₁⋅u₁ ⋅cos(q₁ - q₂) + l₁⋅sin(q₁ - q₂)⋅u₁̇ + l₂⋅u₂ ⎠          ⎦"
      ]
     },
     "execution_count": 30,
     "metadata": {},
     "output_type": "execute_result"
    }
   ],
   "source": [
    "Frs = sm.Matrix([F1s, F2s, F3s, F4s])\n",
    "Frs = sm.trigsimp(Frs)\n",
    "Frs"
   ]
  },
  {
   "cell_type": "code",
   "execution_count": 31,
   "id": "c3d55bce",
   "metadata": {
    "execution": {
     "iopub.execute_input": "2024-02-20T15:56:23.494136Z",
     "iopub.status.busy": "2024-02-20T15:56:23.493776Z",
     "iopub.status.idle": "2024-02-20T15:56:23.499552Z",
     "shell.execute_reply": "2024-02-20T15:56:23.499086Z"
    }
   },
   "outputs": [
    {
     "data": {
      "text/latex": [
       "$\\displaystyle \\left\\{T_{1}, T_{2}, q_{1}, q_{2}, u_{1}, u_{2}, \\dot{u}_{1}, \\dot{u}_{2}\\right\\}$"
      ],
      "text/plain": [
       "{T₁, T₂, q₁, q₂, u₁, u₂, u₁̇, u₂̇}"
      ]
     },
     "execution_count": 31,
     "metadata": {},
     "output_type": "execute_result"
    }
   ],
   "source": [
    "fa = Frs + Fr\n",
    "me.find_dynamicsymbols(fa)"
   ]
  },
  {
   "cell_type": "code",
   "execution_count": 32,
   "id": "72408121",
   "metadata": {
    "execution": {
     "iopub.execute_input": "2024-02-20T15:56:23.501683Z",
     "iopub.status.busy": "2024-02-20T15:56:23.501346Z",
     "iopub.status.idle": "2024-02-20T15:56:23.555211Z",
     "shell.execute_reply": "2024-02-20T15:56:23.554711Z"
    }
   },
   "outputs": [
    {
     "data": {
      "text/latex": [
       "$\\displaystyle \\left( \\left[\\begin{matrix}- l_{1} \\left(l_{1} m_{1} + l_{1} m_{2}\\right) & - l_{1} l_{2} m_{2} \\cos{\\left(q_{1} - q_{2} \\right)} & 0 & 0\\\\- l_{1} l_{2} m_{2} \\cos{\\left(q_{1} - q_{2} \\right)} & - l_{2}^{2} m_{2} & 0 & 0\\\\0 & - l_{2} m_{2} \\sin{\\left(q_{1} - q_{2} \\right)} & -1 & 0\\\\l_{1} m_{2} \\sin{\\left(q_{1} - q_{2} \\right)} & 0 & 0 & -1\\end{matrix}\\right], \\  \\left[\\begin{matrix}\\dot{u}_{1}\\\\\\dot{u}_{2}\\\\T_{1}\\\\T_{2}\\end{matrix}\\right], \\  \\left[\\begin{matrix}- g l_{1} m_{1} \\sin{\\left(q_{1} \\right)} - g l_{1} m_{2} \\sin{\\left(q_{1} \\right)} - l_{1} l_{2} m_{2} u_{2}^{2} \\sin{\\left(q_{1} - q_{2} \\right)}\\\\- g l_{2} m_{2} \\sin{\\left(q_{2} \\right)} + l_{1} l_{2} m_{2} u_{1}^{2} \\sin{\\left(q_{1} - q_{2} \\right)}\\\\g m_{1} \\cos{\\left(q_{1} \\right)} + g m_{2} \\cos{\\left(q_{1} \\right)} + l_{1} m_{1} u_{1}^{2} + l_{1} m_{2} u_{1}^{2} + l_{2} m_{2} u_{2}^{2} \\cos{\\left(q_{1} - q_{2} \\right)}\\\\g m_{2} \\cos{\\left(q_{2} \\right)} + m_{2} \\left(l_{1} u_{1}^{2} \\cos{\\left(q_{1} - q_{2} \\right)} + l_{2} u_{2}^{2}\\right)\\end{matrix}\\right]\\right)$"
      ],
      "text/plain": [
       "⎛                                                                ⎡            \n",
       "⎜⎡ -l₁⋅(l₁⋅m₁ + l₁⋅m₂)    -l₁⋅l₂⋅m₂⋅cos(q₁ - q₂)  0   0 ⎤        ⎢       -g⋅l₁\n",
       "⎜⎢                                                      ⎥  ⎡u₁̇⎤  ⎢           \n",
       "⎜⎢                                  2                   ⎥  ⎢  ⎥  ⎢            \n",
       "⎜⎢-l₁⋅l₂⋅m₂⋅cos(q₁ - q₂)         -l₂ ⋅m₂          0   0 ⎥  ⎢u₂̇⎥  ⎢           \n",
       "⎜⎢                                                      ⎥, ⎢  ⎥, ⎢            \n",
       "⎜⎢          0              -l₂⋅m₂⋅sin(q₁ - q₂)    -1  0 ⎥  ⎢T₁⎥  ⎢            \n",
       "⎜⎢                                                      ⎥  ⎢  ⎥  ⎢g⋅m₁⋅cos(q₁)\n",
       "⎜⎣  l₁⋅m₂⋅sin(q₁ - q₂)              0             0   -1⎦  ⎣T₂⎦  ⎢            \n",
       "⎜                                                                ⎢            \n",
       "⎝                                                                ⎣            \n",
       "\n",
       "                                           2                    ⎤⎞\n",
       "⋅m₁⋅sin(q₁) - g⋅l₁⋅m₂⋅sin(q₁) - l₁⋅l₂⋅m₂⋅u₂ ⋅sin(q₁ - q₂)       ⎥⎟\n",
       "                                                                 ⎥⎟\n",
       "                                  2                             ⎥⎟\n",
       "     -g⋅l₂⋅m₂⋅sin(q₂) + l₁⋅l₂⋅m₂⋅u₁ ⋅sin(q₁ - q₂)                ⎥⎟\n",
       "                                                                ⎥⎟\n",
       "                          2           2           2             ⎥⎟\n",
       " + g⋅m₂⋅cos(q₁) + l₁⋅m₁⋅u₁  + l₁⋅m₂⋅u₁  + l₂⋅m₂⋅u₂ ⋅cos(q₁ - q₂)⎥⎟\n",
       "                                                                ⎥⎟\n",
       "                    ⎛     2                     2⎞              ⎥⎟\n",
       "  g⋅m₂⋅cos(q₂) + m₂⋅⎝l₁⋅u₁ ⋅cos(q₁ - q₂) + l₂⋅u₂ ⎠              ⎦⎠"
      ]
     },
     "execution_count": 32,
     "metadata": {},
     "output_type": "execute_result"
    }
   ],
   "source": [
    "Ma = fa.jacobian(udr)\n",
    "ga = fa.xreplace(udr_zero)\n",
    "\n",
    "Ma, udr, ga"
   ]
  },
  {
   "cell_type": "code",
   "execution_count": 33,
   "id": "06511a1a",
   "metadata": {
    "execution": {
     "iopub.execute_input": "2024-02-20T15:56:23.557196Z",
     "iopub.status.busy": "2024-02-20T15:56:23.557021Z",
     "iopub.status.idle": "2024-02-20T15:56:23.586562Z",
     "shell.execute_reply": "2024-02-20T15:56:23.586053Z"
    }
   },
   "outputs": [],
   "source": [
    "udr_sol = -Ma.LUsolve(ga)"
   ]
  },
  {
   "cell_type": "code",
   "execution_count": 34,
   "id": "c3aa0fe7",
   "metadata": {
    "execution": {
     "iopub.execute_input": "2024-02-20T15:56:23.588739Z",
     "iopub.status.busy": "2024-02-20T15:56:23.588345Z",
     "iopub.status.idle": "2024-02-20T15:56:27.127447Z",
     "shell.execute_reply": "2024-02-20T15:56:27.126824Z"
    }
   },
   "outputs": [
    {
     "data": {
      "text/latex": [
       "$\\displaystyle g m_{1} \\cos{\\left(q_{1} \\right)} + g m_{2} \\cos{\\left(q_{1} \\right)} + l_{1} m_{1} u_{1}^{2} + l_{1} m_{2} u_{1}^{2} + l_{2} m_{2} u_{2}^{2} \\cos{\\left(q_{1} - q_{2} \\right)} + \\frac{l_{2} m_{2} \\left(- g l_{2} m_{2} \\sin{\\left(q_{2} \\right)} + l_{1} l_{2} m_{2} u_{1}^{2} \\sin{\\left(q_{1} - q_{2} \\right)} + \\frac{l_{1} l_{2} m_{2} \\left(g m_{1} \\sin{\\left(q_{1} \\right)} + g m_{2} \\sin{\\left(q_{1} \\right)} + l_{2} m_{2} u_{2}^{2} \\sin{\\left(q_{1} - q_{2} \\right)}\\right) \\cos{\\left(q_{1} - q_{2} \\right)}}{l_{1} m_{1} + l_{1} m_{2}}\\right) \\sin{\\left(q_{1} - q_{2} \\right)}}{\\frac{l_{1} l_{2}^{2} m_{2}^{2} \\cos^{2}{\\left(q_{1} - q_{2} \\right)}}{l_{1} m_{1} + l_{1} m_{2}} - l_{2}^{2} m_{2}}$"
      ],
      "text/plain": [
       "                                                                              \n",
       "                                                                              \n",
       "                                                                              \n",
       "                                      2           2           2               \n",
       "g⋅m₁⋅cos(q₁) + g⋅m₂⋅cos(q₁) + l₁⋅m₁⋅u₁  + l₁⋅m₂⋅u₁  + l₂⋅m₂⋅u₂ ⋅cos(q₁ - q₂) +\n",
       "                                                                              \n",
       "                                                                              \n",
       "                                                                              \n",
       "                                                                              \n",
       "\n",
       "       ⎛                                                        ⎛             \n",
       "       ⎜                              2                l₁⋅l₂⋅m₂⋅⎝g⋅m₁⋅sin(q₁) \n",
       " l₂⋅m₂⋅⎜-g⋅l₂⋅m₂⋅sin(q₂) + l₁⋅l₂⋅m₂⋅u₁ ⋅sin(q₁ - q₂) + ───────────────────────\n",
       "       ⎝                                                                      \n",
       " ─────────────────────────────────────────────────────────────────────────────\n",
       "                                                             2   2    2       \n",
       "                                                        l₁⋅l₂ ⋅m₂ ⋅cos (q₁ - q\n",
       "                                                        ──────────────────────\n",
       "                                                             l₁⋅m₁ + l₁⋅m₂    \n",
       "\n",
       "                         2             ⎞             ⎞             \n",
       "+ g⋅m₂⋅sin(q₁) + l₂⋅m₂⋅u₂ ⋅sin(q₁ - q₂)⎠⋅cos(q₁ - q₂)⎟             \n",
       "─────────────────────────────────────────────────────⎟⋅sin(q₁ - q₂)\n",
       "        l₁⋅m₁ + l₁⋅m₂                                ⎠             \n",
       "───────────────────────────────────────────────────────────────────\n",
       "                                                                   \n",
       "₂)     2                                                           \n",
       "── - l₂ ⋅m₂                                                        \n",
       "                                                                   "
      ]
     },
     "execution_count": 34,
     "metadata": {},
     "output_type": "execute_result"
    }
   ],
   "source": [
    "T1_sol = sm.trigsimp(udr_sol[2])\n",
    "T1_sol"
   ]
  },
  {
   "cell_type": "code",
   "execution_count": 35,
   "id": "ee793a84",
   "metadata": {
    "execution": {
     "iopub.execute_input": "2024-02-20T15:56:27.129718Z",
     "iopub.status.busy": "2024-02-20T15:56:27.129357Z",
     "iopub.status.idle": "2024-02-20T15:56:30.320682Z",
     "shell.execute_reply": "2024-02-20T15:56:30.320053Z"
    }
   },
   "outputs": [
    {
     "data": {
      "text/latex": [
       "$\\displaystyle g m_{2} \\cos{\\left(q_{2} \\right)} + \\frac{l_{1} l_{2} m_{2}^{2} \\left(- g l_{2} m_{2} \\sin{\\left(q_{2} \\right)} + l_{1} l_{2} m_{2} u_{1}^{2} \\sin{\\left(q_{1} - q_{2} \\right)} + \\frac{l_{1} l_{2} m_{2} \\left(g m_{1} \\sin{\\left(q_{1} \\right)} + g m_{2} \\sin{\\left(q_{1} \\right)} + l_{2} m_{2} u_{2}^{2} \\sin{\\left(q_{1} - q_{2} \\right)}\\right) \\cos{\\left(q_{1} - q_{2} \\right)}}{l_{1} m_{1} + l_{1} m_{2}}\\right) \\sin{\\left(q_{1} - q_{2} \\right)} \\cos{\\left(q_{1} - q_{2} \\right)}}{\\left(l_{1} m_{1} + l_{1} m_{2}\\right) \\left(\\frac{l_{1} l_{2}^{2} m_{2}^{2} \\cos^{2}{\\left(q_{1} - q_{2} \\right)}}{l_{1} m_{1} + l_{1} m_{2}} - l_{2}^{2} m_{2}\\right)} - \\frac{l_{1} m_{2} \\left(g m_{1} \\sin{\\left(q_{1} \\right)} + g m_{2} \\sin{\\left(q_{1} \\right)} + l_{2} m_{2} u_{2}^{2} \\sin{\\left(q_{1} - q_{2} \\right)}\\right) \\sin{\\left(q_{1} - q_{2} \\right)}}{l_{1} m_{1} + l_{1} m_{2}} + m_{2} \\left(l_{1} u_{1}^{2} \\cos{\\left(q_{1} - q_{2} \\right)} + l_{2} u_{2}^{2}\\right)$"
      ],
      "text/plain": [
       "                         ⎛                                                    \n",
       "                       2 ⎜                              2                l₁⋅l₂\n",
       "               l₁⋅l₂⋅m₂ ⋅⎜-g⋅l₂⋅m₂⋅sin(q₂) + l₁⋅l₂⋅m₂⋅u₁ ⋅sin(q₁ - q₂) + ─────\n",
       "                         ⎝                                                    \n",
       "g⋅m₂⋅cos(q₂) + ───────────────────────────────────────────────────────────────\n",
       "                                                                              \n",
       "                                                                              \n",
       "                                                                      (l₁⋅m₁ +\n",
       "                                                                              \n",
       "\n",
       "    ⎛                                      2             ⎞             ⎞      \n",
       "⋅m₂⋅⎝g⋅m₁⋅sin(q₁) + g⋅m₂⋅sin(q₁) + l₂⋅m₂⋅u₂ ⋅sin(q₁ - q₂)⎠⋅cos(q₁ - q₂)⎟      \n",
       "───────────────────────────────────────────────────────────────────────⎟⋅sin(q\n",
       "                          l₁⋅m₁ + l₁⋅m₂                                ⎠      \n",
       "──────────────────────────────────────────────────────────────────────────────\n",
       "        ⎛     2   2    2                  ⎞                                   \n",
       "        ⎜l₁⋅l₂ ⋅m₂ ⋅cos (q₁ - q₂)     2   ⎟                                   \n",
       " l₁⋅m₂)⋅⎜──────────────────────── - l₂ ⋅m₂⎟                                   \n",
       "        ⎝     l₁⋅m₁ + l₁⋅m₂               ⎠                                   \n",
       "\n",
       "                                                                              \n",
       "                                                                              \n",
       "₁ - q₂)⋅cos(q₁ - q₂)         ⎛                                      2         \n",
       "                       l₁⋅m₂⋅⎝g⋅m₁⋅sin(q₁) + g⋅m₂⋅sin(q₁) + l₂⋅m₂⋅u₂ ⋅sin(q₁ -\n",
       "──────────────────── - ───────────────────────────────────────────────────────\n",
       "                                                     l₁⋅m₁ + l₁⋅m₂            \n",
       "                                                                              \n",
       "                                                                              \n",
       "                                                                              \n",
       "\n",
       "                                                      \n",
       "                                                      \n",
       "    ⎞                                                 \n",
       " q₂)⎠⋅sin(q₁ - q₂)      ⎛     2                     2⎞\n",
       "────────────────── + m₂⋅⎝l₁⋅u₁ ⋅cos(q₁ - q₂) + l₂⋅u₂ ⎠\n",
       "                                                      \n",
       "                                                      \n",
       "                                                      \n",
       "                                                      "
      ]
     },
     "execution_count": 35,
     "metadata": {},
     "output_type": "execute_result"
    }
   ],
   "source": [
    "T2_sol = sm.trigsimp(udr_sol[3])\n",
    "T2_sol"
   ]
  },
  {
   "cell_type": "code",
   "execution_count": 36,
   "id": "47e7a590",
   "metadata": {
    "execution": {
     "iopub.execute_input": "2024-02-20T15:56:30.323154Z",
     "iopub.status.busy": "2024-02-20T15:56:30.322579Z",
     "iopub.status.idle": "2024-02-20T15:56:30.326178Z",
     "shell.execute_reply": "2024-02-20T15:56:30.325732Z"
    }
   },
   "outputs": [],
   "source": [
    "q0 = np.array([\n",
    "    np.deg2rad(15.0),  # q1 [rad]\n",
    "    np.deg2rad(25.0),  # q2 [rad]\n",
    "])\n",
    "\n",
    "u0 = np.array([\n",
    "    np.deg2rad(123.0),  # u1 [rad/s]\n",
    "    np.deg2rad(-41.0),  # u2 [rad/s]\n",
    "])\n",
    "\n",
    "p_vals = np.array([\n",
    "    1.2,  # m1 [kg]\n",
    "    5.6,  # m2 [kg]\n",
    "    1.34,  # l1 [m]\n",
    "    6.7,  # l2 [m]\n",
    "    9.81,  # g [m/2^2]\n",
    "])"
   ]
  },
  {
   "cell_type": "code",
   "execution_count": 37,
   "id": "4db5951e",
   "metadata": {
    "execution": {
     "iopub.execute_input": "2024-02-20T15:56:30.328029Z",
     "iopub.status.busy": "2024-02-20T15:56:30.327855Z",
     "iopub.status.idle": "2024-02-20T15:56:30.404873Z",
     "shell.execute_reply": "2024-02-20T15:56:30.404270Z"
    }
   },
   "outputs": [],
   "source": [
    "eval_d = sm.lambdify((q, u, p), (Md, gd))\n",
    "eval_a = sm.lambdify((q, u, p), (Ma, ga))\n",
    "\n",
    "Md_vals, gd_vals = eval_d(q0, u0, p_vals)\n",
    "Ma_vals, ga_vals = eval_a(q0, u0, p_vals)"
   ]
  },
  {
   "cell_type": "code",
   "execution_count": 38,
   "id": "c1b224b1",
   "metadata": {
    "execution": {
     "iopub.execute_input": "2024-02-20T15:56:30.407276Z",
     "iopub.status.busy": "2024-02-20T15:56:30.407098Z",
     "iopub.status.idle": "2024-02-20T15:56:30.411374Z",
     "shell.execute_reply": "2024-02-20T15:56:30.410914Z"
    }
   },
   "outputs": [
    {
     "data": {
      "text/plain": [
       "array([  8.09538007,  -2.37332094, 109.88598116,  92.50997719])"
      ]
     },
     "execution_count": 38,
     "metadata": {},
     "output_type": "execute_result"
    }
   ],
   "source": [
    "-np.linalg.solve(Md_vals, np.squeeze(gd_vals))"
   ]
  },
  {
   "cell_type": "code",
   "execution_count": 39,
   "id": "c4971178",
   "metadata": {
    "execution": {
     "iopub.execute_input": "2024-02-20T15:56:30.413359Z",
     "iopub.status.busy": "2024-02-20T15:56:30.413021Z",
     "iopub.status.idle": "2024-02-20T15:56:30.416748Z",
     "shell.execute_reply": "2024-02-20T15:56:30.416194Z"
    }
   },
   "outputs": [
    {
     "data": {
      "text/plain": [
       "array([  8.09538007,  -2.37332094, 109.88598116,  92.50997719])"
      ]
     },
     "execution_count": 39,
     "metadata": {},
     "output_type": "execute_result"
    }
   ],
   "source": [
    "-np.linalg.solve(Ma_vals, np.squeeze(ga_vals))"
   ]
  },
  {
   "cell_type": "code",
   "execution_count": 40,
   "id": "6503e0dc",
   "metadata": {
    "execution": {
     "iopub.execute_input": "2024-02-20T15:56:30.418704Z",
     "iopub.status.busy": "2024-02-20T15:56:30.418388Z",
     "iopub.status.idle": "2024-02-20T15:56:30.455094Z",
     "shell.execute_reply": "2024-02-20T15:56:30.454539Z"
    }
   },
   "outputs": [
    {
     "data": {
      "text/latex": [
       "$\\displaystyle \\left( 109.885981161619, \\  92.5099771909879\\right)$"
      ],
      "text/plain": [
       "(109.88598116161896, 92.50997719098791)"
      ]
     },
     "execution_count": 40,
     "metadata": {},
     "output_type": "execute_result"
    }
   ],
   "source": [
    "eval_forces = sm.lambdify((q, u, p), (T1_sol, T2_sol))\n",
    "eval_forces(q0, u0, p_vals)"
   ]
  },
  {
   "cell_type": "code",
   "execution_count": 41,
   "id": "9e862e2d",
   "metadata": {
    "execution": {
     "iopub.execute_input": "2024-02-20T15:56:30.457221Z",
     "iopub.status.busy": "2024-02-20T15:56:30.456812Z",
     "iopub.status.idle": "2024-02-20T15:56:30.460124Z",
     "shell.execute_reply": "2024-02-20T15:56:30.459658Z"
    }
   },
   "outputs": [],
   "source": [
    "def eval_rhs_newton(t, x, p):\n",
    "\n",
    "    q = x[:2]\n",
    "    u = x[2:]\n",
    "\n",
    "    Md, gd = eval_d(q, u, p)\n",
    "    udr = -np.linalg.solve(Md, np.squeeze(gd))\n",
    "\n",
    "    qd = u\n",
    "    ud = sol[:2]\n",
    "    r = sol[2:]\n",
    "\n",
    "    return np.hstack((qd, ud))"
   ]
  }
 ],
 "metadata": {
  "kernelspec": {
   "display_name": "Python 3 (ipykernel)",
   "language": "python",
   "name": "python3"
  },
  "language_info": {
   "codemirror_mode": {
    "name": "ipython",
    "version": 3
   },
   "file_extension": ".py",
   "mimetype": "text/x-python",
   "name": "python",
   "nbconvert_exporter": "python",
   "pygments_lexer": "ipython3",
   "version": "3.10.13"
  }
 },
 "nbformat": 4,
 "nbformat_minor": 5
}